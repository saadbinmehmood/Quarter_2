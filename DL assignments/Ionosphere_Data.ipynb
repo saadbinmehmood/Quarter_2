{
  "nbformat": 4,
  "nbformat_minor": 0,
  "metadata": {
    "colab": {
      "name": "Ionosphere Data.ipynb",
      "provenance": [],
      "collapsed_sections": []
    },
    "kernelspec": {
      "name": "python3",
      "display_name": "Python 3"
    },
    "language_info": {
      "name": "python"
    }
  },
  "cells": [
    {
      "cell_type": "code",
      "metadata": {
        "id": "Qm6SVEktF6Pb"
      },
      "source": [
        "import tensorflow as tf\n",
        "import numpy as np\n",
        "import pandas as pd\n",
        "import matplotlib.pyplot as plt\n",
        "from keras import models\n",
        "from keras import layers\n",
        "from keras import regularizers"
      ],
      "execution_count": 298,
      "outputs": []
    },
    {
      "cell_type": "code",
      "metadata": {
        "colab": {
          "resources": {
            "http://localhost:8080/nbextensions/google.colab/files.js": {
              "data": "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",
              "ok": true,
              "headers": [
                [
                  "content-type",
                  "application/javascript"
                ]
              ],
              "status": 200,
              "status_text": ""
            }
          },
          "base_uri": "https://localhost:8080/",
          "height": 73
        },
        "id": "x04KH4qVJLVH",
        "outputId": "cd2d29d4-2a3e-4baa-dc9a-933df9918a26"
      },
      "source": [
        "from google.colab import files\n",
        "uploaded = files.upload()"
      ],
      "execution_count": 405,
      "outputs": [
        {
          "output_type": "display_data",
          "data": {
            "text/html": [
              "\n",
              "     <input type=\"file\" id=\"files-46d96a26-63fa-4c4f-acad-bff4d98197c5\" name=\"files[]\" multiple disabled\n",
              "        style=\"border:none\" />\n",
              "     <output id=\"result-46d96a26-63fa-4c4f-acad-bff4d98197c5\">\n",
              "      Upload widget is only available when the cell has been executed in the\n",
              "      current browser session. Please rerun this cell to enable.\n",
              "      </output>\n",
              "      <script src=\"/nbextensions/google.colab/files.js\"></script> "
            ],
            "text/plain": [
              "<IPython.core.display.HTML object>"
            ]
          },
          "metadata": {
            "tags": []
          }
        },
        {
          "output_type": "stream",
          "text": [
            "Saving ionosphere_data.csv to ionosphere_data (3).csv\n"
          ],
          "name": "stdout"
        }
      ]
    },
    {
      "cell_type": "code",
      "metadata": {
        "id": "KyuugC0gJffo"
      },
      "source": [
        "import io\n",
        "df = pd.read_csv(io.BytesIO(uploaded[\"ionosphere_data.csv\"]))"
      ],
      "execution_count": 406,
      "outputs": []
    },
    {
      "cell_type": "markdown",
      "metadata": {
        "id": "dy_Ftds7J-Xo"
      },
      "source": [
        "**Verifying the Data**"
      ]
    },
    {
      "cell_type": "code",
      "metadata": {
        "colab": {
          "base_uri": "https://localhost:8080/"
        },
        "id": "nWnk-coqKuCA",
        "outputId": "9ca7f8b6-3244-4216-a137-bdc1497ea3c5"
      },
      "source": [
        "df.info()"
      ],
      "execution_count": 407,
      "outputs": [
        {
          "output_type": "stream",
          "text": [
            "<class 'pandas.core.frame.DataFrame'>\n",
            "RangeIndex: 351 entries, 0 to 350\n",
            "Data columns (total 35 columns):\n",
            " #   Column     Non-Null Count  Dtype  \n",
            "---  ------     --------------  -----  \n",
            " 0   feature1   351 non-null    int64  \n",
            " 1   feature2   351 non-null    int64  \n",
            " 2   feature3   351 non-null    float64\n",
            " 3   feature4   351 non-null    float64\n",
            " 4   feature5   351 non-null    float64\n",
            " 5   feature6   351 non-null    float64\n",
            " 6   feature7   351 non-null    float64\n",
            " 7   feature8   351 non-null    float64\n",
            " 8   feature9   351 non-null    float64\n",
            " 9   feature10  351 non-null    float64\n",
            " 10  feature11  351 non-null    float64\n",
            " 11  feature12  351 non-null    float64\n",
            " 12  feature13  351 non-null    float64\n",
            " 13  feature14  351 non-null    float64\n",
            " 14  feature15  351 non-null    float64\n",
            " 15  feature16  351 non-null    float64\n",
            " 16  feature17  351 non-null    float64\n",
            " 17  feature18  351 non-null    float64\n",
            " 18  feature19  351 non-null    float64\n",
            " 19  feature20  351 non-null    float64\n",
            " 20  feature21  351 non-null    float64\n",
            " 21  feature22  351 non-null    float64\n",
            " 22  feature23  351 non-null    float64\n",
            " 23  feature24  351 non-null    float64\n",
            " 24  feature25  351 non-null    float64\n",
            " 25  feature26  351 non-null    float64\n",
            " 26  feature27  351 non-null    float64\n",
            " 27  feature28  351 non-null    float64\n",
            " 28  feature29  351 non-null    float64\n",
            " 29  feature30  351 non-null    float64\n",
            " 30  feature31  351 non-null    float64\n",
            " 31  feature32  351 non-null    float64\n",
            " 32  feature33  351 non-null    float64\n",
            " 33  feature34  351 non-null    float64\n",
            " 34  label      351 non-null    object \n",
            "dtypes: float64(32), int64(2), object(1)\n",
            "memory usage: 96.1+ KB\n"
          ],
          "name": "stdout"
        }
      ]
    },
    {
      "cell_type": "code",
      "metadata": {
        "colab": {
          "base_uri": "https://localhost:8080/"
        },
        "id": "qtK1XYtQKxaq",
        "outputId": "3354084d-c397-4944-f2ac-9d269bb031ef"
      },
      "source": [
        "normalized_data=df.copy()\n",
        "normalized_data.shape"
      ],
      "execution_count": 408,
      "outputs": [
        {
          "output_type": "execute_result",
          "data": {
            "text/plain": [
              "(351, 35)"
            ]
          },
          "metadata": {
            "tags": []
          },
          "execution_count": 408
        }
      ]
    },
    {
      "cell_type": "code",
      "metadata": {
        "colab": {
          "base_uri": "https://localhost:8080/",
          "height": 98
        },
        "id": "ytipkCAfQK3m",
        "outputId": "96a408e2-c615-4c84-d20e-5cbd010efd88"
      },
      "source": [
        "normalized_data[normalized_data.duplicated()]"
      ],
      "execution_count": 409,
      "outputs": [
        {
          "output_type": "execute_result",
          "data": {
            "text/html": [
              "<div>\n",
              "<style scoped>\n",
              "    .dataframe tbody tr th:only-of-type {\n",
              "        vertical-align: middle;\n",
              "    }\n",
              "\n",
              "    .dataframe tbody tr th {\n",
              "        vertical-align: top;\n",
              "    }\n",
              "\n",
              "    .dataframe thead th {\n",
              "        text-align: right;\n",
              "    }\n",
              "</style>\n",
              "<table border=\"1\" class=\"dataframe\">\n",
              "  <thead>\n",
              "    <tr style=\"text-align: right;\">\n",
              "      <th></th>\n",
              "      <th>feature1</th>\n",
              "      <th>feature2</th>\n",
              "      <th>feature3</th>\n",
              "      <th>feature4</th>\n",
              "      <th>feature5</th>\n",
              "      <th>feature6</th>\n",
              "      <th>feature7</th>\n",
              "      <th>feature8</th>\n",
              "      <th>feature9</th>\n",
              "      <th>feature10</th>\n",
              "      <th>feature11</th>\n",
              "      <th>feature12</th>\n",
              "      <th>feature13</th>\n",
              "      <th>feature14</th>\n",
              "      <th>feature15</th>\n",
              "      <th>feature16</th>\n",
              "      <th>feature17</th>\n",
              "      <th>feature18</th>\n",
              "      <th>feature19</th>\n",
              "      <th>feature20</th>\n",
              "      <th>feature21</th>\n",
              "      <th>feature22</th>\n",
              "      <th>feature23</th>\n",
              "      <th>feature24</th>\n",
              "      <th>feature25</th>\n",
              "      <th>feature26</th>\n",
              "      <th>feature27</th>\n",
              "      <th>feature28</th>\n",
              "      <th>feature29</th>\n",
              "      <th>feature30</th>\n",
              "      <th>feature31</th>\n",
              "      <th>feature32</th>\n",
              "      <th>feature33</th>\n",
              "      <th>feature34</th>\n",
              "      <th>label</th>\n",
              "    </tr>\n",
              "  </thead>\n",
              "  <tbody>\n",
              "    <tr>\n",
              "      <th>248</th>\n",
              "      <td>0</td>\n",
              "      <td>0</td>\n",
              "      <td>0.0</td>\n",
              "      <td>0.0</td>\n",
              "      <td>0.0</td>\n",
              "      <td>0.0</td>\n",
              "      <td>0.0</td>\n",
              "      <td>0.0</td>\n",
              "      <td>0.0</td>\n",
              "      <td>0.0</td>\n",
              "      <td>0.0</td>\n",
              "      <td>0.0</td>\n",
              "      <td>0.0</td>\n",
              "      <td>0.0</td>\n",
              "      <td>0.0</td>\n",
              "      <td>0.0</td>\n",
              "      <td>0.0</td>\n",
              "      <td>0.0</td>\n",
              "      <td>0.0</td>\n",
              "      <td>0.0</td>\n",
              "      <td>0.0</td>\n",
              "      <td>0.0</td>\n",
              "      <td>0.0</td>\n",
              "      <td>0.0</td>\n",
              "      <td>0.0</td>\n",
              "      <td>0.0</td>\n",
              "      <td>1.0</td>\n",
              "      <td>-1.0</td>\n",
              "      <td>0.0</td>\n",
              "      <td>0.0</td>\n",
              "      <td>0.0</td>\n",
              "      <td>0.0</td>\n",
              "      <td>0.0</td>\n",
              "      <td>0.0</td>\n",
              "      <td>b</td>\n",
              "    </tr>\n",
              "  </tbody>\n",
              "</table>\n",
              "</div>"
            ],
            "text/plain": [
              "     feature1  feature2  feature3  ...  feature33  feature34  label\n",
              "248         0         0       0.0  ...        0.0        0.0      b\n",
              "\n",
              "[1 rows x 35 columns]"
            ]
          },
          "metadata": {
            "tags": []
          },
          "execution_count": 409
        }
      ]
    },
    {
      "cell_type": "code",
      "metadata": {
        "colab": {
          "base_uri": "https://localhost:8080/"
        },
        "id": "s26mbHH-LCCd",
        "outputId": "8f835660-5981-4d3c-afeb-2e7fd42b0e64"
      },
      "source": [
        "normalized_data.drop_duplicates(inplace = True)\n",
        "normalized_data.shape"
      ],
      "execution_count": 410,
      "outputs": [
        {
          "output_type": "execute_result",
          "data": {
            "text/plain": [
              "(350, 35)"
            ]
          },
          "metadata": {
            "tags": []
          },
          "execution_count": 410
        }
      ]
    },
    {
      "cell_type": "code",
      "metadata": {
        "colab": {
          "base_uri": "https://localhost:8080/"
        },
        "id": "_2T0APoeLv0T",
        "outputId": "98aacb28-55e3-42ff-cb65-fdbd40468802"
      },
      "source": [
        "normalized_data[\"feature2\"].value_counts()"
      ],
      "execution_count": 411,
      "outputs": [
        {
          "output_type": "execute_result",
          "data": {
            "text/plain": [
              "0    350\n",
              "Name: feature2, dtype: int64"
            ]
          },
          "metadata": {
            "tags": []
          },
          "execution_count": 411
        }
      ]
    },
    {
      "cell_type": "code",
      "metadata": {
        "colab": {
          "base_uri": "https://localhost:8080/"
        },
        "id": "97UzPj0zMlrS",
        "outputId": "63b7c38b-d643-4753-fe15-1163dbeefb0f"
      },
      "source": [
        "normalized_data.drop(columns=[\"feature2\"], inplace = True)\n",
        "normalized_data.shape"
      ],
      "execution_count": 412,
      "outputs": [
        {
          "output_type": "execute_result",
          "data": {
            "text/plain": [
              "(350, 34)"
            ]
          },
          "metadata": {
            "tags": []
          },
          "execution_count": 412
        }
      ]
    },
    {
      "cell_type": "code",
      "metadata": {
        "colab": {
          "base_uri": "https://localhost:8080/"
        },
        "id": "uoWeCl7hPiQo",
        "outputId": "c364b45f-6a2b-4d59-e2b3-83628182f699"
      },
      "source": [
        "data = normalized_data # sample(normalized_data.shape[0], random_state=1)\n",
        "data.shape"
      ],
      "execution_count": 413,
      "outputs": [
        {
          "output_type": "execute_result",
          "data": {
            "text/plain": [
              "(350, 34)"
            ]
          },
          "metadata": {
            "tags": []
          },
          "execution_count": 413
        }
      ]
    },
    {
      "cell_type": "code",
      "metadata": {
        "id": "Dd1O86b6Zoa-"
      },
      "source": [
        "class_g = data[data[\"label\"]==\"g\"]\n",
        "class_b = data[data[\"label\"]==\"b\"]"
      ],
      "execution_count": 414,
      "outputs": []
    },
    {
      "cell_type": "code",
      "metadata": {
        "colab": {
          "base_uri": "https://localhost:8080/"
        },
        "id": "oO4aF2sMZpS2",
        "outputId": "2ea9436f-887a-47a9-f222-2e12f7faf6c9"
      },
      "source": [
        "class_g.shape"
      ],
      "execution_count": 415,
      "outputs": [
        {
          "output_type": "execute_result",
          "data": {
            "text/plain": [
              "(225, 34)"
            ]
          },
          "metadata": {
            "tags": []
          },
          "execution_count": 415
        }
      ]
    },
    {
      "cell_type": "code",
      "metadata": {
        "colab": {
          "base_uri": "https://localhost:8080/"
        },
        "id": "zR-vBM32Zpke",
        "outputId": "80b001b8-7eac-49c9-98b9-ce5df9fa44b7"
      },
      "source": [
        "class_b.shape"
      ],
      "execution_count": 416,
      "outputs": [
        {
          "output_type": "execute_result",
          "data": {
            "text/plain": [
              "(125, 34)"
            ]
          },
          "metadata": {
            "tags": []
          },
          "execution_count": 416
        }
      ]
    },
    {
      "cell_type": "code",
      "metadata": {
        "id": "Kp6RO2xNYel9"
      },
      "source": [
        "data_over = pd.concat([class_b, class_g], axis=0)"
      ],
      "execution_count": 418,
      "outputs": []
    },
    {
      "cell_type": "code",
      "metadata": {
        "colab": {
          "base_uri": "https://localhost:8080/"
        },
        "id": "ge4xbup4Zpwv",
        "outputId": "9aa65a9f-ae0f-447d-d666-ec53c2e65767"
      },
      "source": [
        "data_over[\"label\"].value_counts()"
      ],
      "execution_count": 419,
      "outputs": [
        {
          "output_type": "execute_result",
          "data": {
            "text/plain": [
              "g    225\n",
              "b    125\n",
              "Name: label, dtype: int64"
            ]
          },
          "metadata": {
            "tags": []
          },
          "execution_count": 419
        }
      ]
    },
    {
      "cell_type": "code",
      "metadata": {
        "colab": {
          "base_uri": "https://localhost:8080/"
        },
        "id": "FpLJr7K_eM6r",
        "outputId": "6501d6ff-a149-4073-837f-0d8fea169adf"
      },
      "source": [
        "len(data_over)"
      ],
      "execution_count": 420,
      "outputs": [
        {
          "output_type": "execute_result",
          "data": {
            "text/plain": [
              "350"
            ]
          },
          "metadata": {
            "tags": []
          },
          "execution_count": 420
        }
      ]
    },
    {
      "cell_type": "markdown",
      "metadata": {
        "id": "Zwcdl1ZSQuy3"
      },
      "source": [
        "**Splitting the Traing and Testing data**"
      ]
    },
    {
      "cell_type": "code",
      "metadata": {
        "id": "DxwUy3F-LjI_"
      },
      "source": [
        "x_data = data_over.sample(frac=1) # Shuffling the data\n",
        "train_data_full= x_data.iloc[:210,:]\n",
        "test_data_full = x_data.iloc[210:, :]\n",
        "train_data = train_data_full.iloc[:, :-1]\n",
        "train_labels = train_data_full.iloc[:, -1]\n",
        "test_data = test_data_full.iloc[:, :-1]\n",
        "test_labels = test_data_full.iloc[:, -1]"
      ],
      "execution_count": 421,
      "outputs": []
    },
    {
      "cell_type": "code",
      "metadata": {
        "colab": {
          "base_uri": "https://localhost:8080/"
        },
        "id": "WqFw1Ql8Lj9S",
        "outputId": "cd88a051-8158-422d-afa5-2b9b088ae201"
      },
      "source": [
        "print(train_data.shape)\n",
        "print(test_data.shape)\n",
        "print(train_labels.shape)\n",
        "print(test_labels.shape)"
      ],
      "execution_count": 422,
      "outputs": [
        {
          "output_type": "stream",
          "text": [
            "(210, 33)\n",
            "(140, 33)\n",
            "(210,)\n",
            "(140,)\n"
          ],
          "name": "stdout"
        }
      ]
    },
    {
      "cell_type": "code",
      "metadata": {
        "colab": {
          "base_uri": "https://localhost:8080/"
        },
        "id": "VN9atXO9RiIR",
        "outputId": "809c39a3-7e16-44e2-88bc-1830af270ed6"
      },
      "source": [
        "train_data.shape, test_data.shape"
      ],
      "execution_count": 423,
      "outputs": [
        {
          "output_type": "execute_result",
          "data": {
            "text/plain": [
              "((210, 33), (140, 33))"
            ]
          },
          "metadata": {
            "tags": []
          },
          "execution_count": 423
        }
      ]
    },
    {
      "cell_type": "code",
      "metadata": {
        "colab": {
          "base_uri": "https://localhost:8080/"
        },
        "id": "1pWm6bhupHZB",
        "outputId": "027c554e-9eb3-46b5-b101-62b2c4aa752a"
      },
      "source": [
        "train_labels.shape, test_labels.shape"
      ],
      "execution_count": 424,
      "outputs": [
        {
          "output_type": "execute_result",
          "data": {
            "text/plain": [
              "((210,), (140,))"
            ]
          },
          "metadata": {
            "tags": []
          },
          "execution_count": 424
        }
      ]
    },
    {
      "cell_type": "markdown",
      "metadata": {
        "id": "A1566qUbSi4T"
      },
      "source": [
        "**Normalizing the data**"
      ]
    },
    {
      "cell_type": "code",
      "metadata": {
        "id": "TVKYVDaobtW-"
      },
      "source": [
        "mean = train_data.mean(axis=0)\n",
        "train_data -=mean\n",
        "std =train_data.std(axis=0)\n",
        "train_data /=std\n",
        "\n",
        "test_data -=mean\n",
        "test_data /=std"
      ],
      "execution_count": 425,
      "outputs": []
    },
    {
      "cell_type": "code",
      "metadata": {
        "id": "6BVeq4--TGHe"
      },
      "source": [
        "train_labels = np.where(train_labels ==\"g\", 1, 0 )\n",
        "test_labels = np.where(test_labels ==\"g\",1,0)\n",
        "\n",
        "train_labels=np.asarray(train_labels).astype(dtype=\"float64\")\n",
        "test_labels=np.asarray(test_labels).astype(dtype=\"float64\")"
      ],
      "execution_count": 426,
      "outputs": []
    },
    {
      "cell_type": "markdown",
      "metadata": {
        "id": "596dVSIih8P2"
      },
      "source": [
        "**Building the Network**"
      ]
    },
    {
      "cell_type": "code",
      "metadata": {
        "id": "VlqdGtmKhmq3"
      },
      "source": [
        "def build_model():\n",
        "  model=models.Sequential()\n",
        "  model.add(layers.Dense(16,kernel_regularizer=regularizers.l1_l2(l1=.002, l2=0.004) , activation=\"relu\", input_shape=(train_data.shape[1],)))\n",
        "  model.add(layers.Dropout(.5))\n",
        "  model.add(layers.Dense(16, kernel_regularizer=regularizers.l1_l2(l1=.002, l2=0.004), activation = \"relu\" ))\n",
        "  model.add(layers.Dropout(.3))\n",
        "  model.add(layers.Dense(1, activation=\"sigmoid\"))\n",
        "\n",
        "  model.compile(optimizer=\"rmsprop\", loss = \"binary_crossentropy\", metrics=[\"accuracy\"])\n",
        "  return model"
      ],
      "execution_count": 427,
      "outputs": []
    },
    {
      "cell_type": "markdown",
      "metadata": {
        "id": "qowYHYALiPOB"
      },
      "source": [
        "**K fold Validation**"
      ]
    },
    {
      "cell_type": "code",
      "metadata": {
        "colab": {
          "base_uri": "https://localhost:8080/"
        },
        "id": "b7llzdZyiFEL",
        "outputId": "0fa19618-90ed-47e5-d94e-26fb531efa6c"
      },
      "source": [
        "k= 5\n",
        "num_val_sample = len(train_data) // k\n",
        "num_epochs =90\n",
        "all_scores = []\n",
        "all_val_loss_histories = []\n",
        "all_val_acc_histories = []\n",
        "all_loss_histories =[]\n",
        "all_acc_histories = []\n",
        "\n",
        "for i in range(k):\n",
        "  print(\"processing fold #\",i)\n",
        "  val_data = train_data[i*num_val_sample:(i+1)*num_val_sample]\n",
        "  val_labels = train_labels[i*num_val_sample: (i+1)*num_val_sample]\n",
        "\n",
        "  partial_train_data=np.concatenate([train_data[:i*num_val_sample], train_data[(i+1)*num_val_sample:]], axis=0)\n",
        "  partial_train_labels=np.concatenate([train_labels[:i*num_val_sample], train_labels[(i+1)*num_val_sample:]], axis=0)\n",
        "\n",
        "  model=build_model()\n",
        "  history = model.fit(partial_train_data, partial_train_labels, validation_data = (val_data, val_labels), batch_size=4, epochs= num_epochs, verbose=1)\n",
        "  val_loss, val_acc = model.evaluate(test_data, test_labels, verbose=0)\n",
        "  val_loss_history = history.history[\"val_loss\"]\n",
        "  val_acc_history = history.history[\"val_accuracy\"]\n",
        "  loss_history = history.history[\"loss\"]\n",
        "  acc_history = history.history[\"accuracy\"]\n",
        "  all_loss_histories.append(loss_history)\n",
        "  all_acc_histories.append(acc_history)\n",
        "  all_val_loss_histories.append(val_loss_history)\n",
        "  all_val_acc_histories.append(val_acc_history)\n",
        "  all_scores.append(val_acc)\n",
        "ave_val_loss_hist = [np.mean([x[i] for x in all_val_loss_histories]) for i in range(num_epochs)]\n",
        "ave_loss_hist = [np.mean([x[i] for x in all_loss_histories]) for i in range(num_epochs)]\n",
        "ave_val_acc_hist = [np.mean([x[i] for x in all_val_acc_histories]) for i in range(num_epochs)]\n",
        "ave_acc_hist = [np.mean([x[i] for x in all_acc_histories]) for i in range(num_epochs)]\n",
        "all_scores\n"
      ],
      "execution_count": 428,
      "outputs": [
        {
          "output_type": "stream",
          "text": [
            "processing fold # 0\n",
            "Epoch 1/90\n",
            "42/42 [==============================] - 1s 8ms/step - loss: 1.3160 - accuracy: 0.4708 - val_loss: 1.1028 - val_accuracy: 0.6905\n",
            "Epoch 2/90\n",
            "42/42 [==============================] - 0s 3ms/step - loss: 1.1267 - accuracy: 0.5336 - val_loss: 1.0457 - val_accuracy: 0.7381\n",
            "Epoch 3/90\n",
            "42/42 [==============================] - 0s 3ms/step - loss: 1.0396 - accuracy: 0.6904 - val_loss: 0.9969 - val_accuracy: 0.7619\n",
            "Epoch 4/90\n",
            "42/42 [==============================] - 0s 2ms/step - loss: 1.0155 - accuracy: 0.7238 - val_loss: 0.9511 - val_accuracy: 0.7619\n",
            "Epoch 5/90\n",
            "42/42 [==============================] - 0s 2ms/step - loss: 1.0528 - accuracy: 0.6421 - val_loss: 0.9118 - val_accuracy: 0.7857\n",
            "Epoch 6/90\n",
            "42/42 [==============================] - 0s 2ms/step - loss: 0.9692 - accuracy: 0.7749 - val_loss: 0.8885 - val_accuracy: 0.7857\n",
            "Epoch 7/90\n",
            "42/42 [==============================] - 0s 2ms/step - loss: 0.9434 - accuracy: 0.7115 - val_loss: 0.8603 - val_accuracy: 0.7857\n",
            "Epoch 8/90\n",
            "42/42 [==============================] - 0s 2ms/step - loss: 0.8258 - accuracy: 0.8598 - val_loss: 0.8332 - val_accuracy: 0.8095\n",
            "Epoch 9/90\n",
            "42/42 [==============================] - 0s 2ms/step - loss: 0.9370 - accuracy: 0.7212 - val_loss: 0.8127 - val_accuracy: 0.8333\n",
            "Epoch 10/90\n",
            "42/42 [==============================] - 0s 2ms/step - loss: 0.8743 - accuracy: 0.8071 - val_loss: 0.7900 - val_accuracy: 0.8333\n",
            "Epoch 11/90\n",
            "42/42 [==============================] - 0s 2ms/step - loss: 0.9470 - accuracy: 0.6795 - val_loss: 0.7805 - val_accuracy: 0.8571\n",
            "Epoch 12/90\n",
            "42/42 [==============================] - 0s 2ms/step - loss: 0.7653 - accuracy: 0.8505 - val_loss: 0.7600 - val_accuracy: 0.8571\n",
            "Epoch 13/90\n",
            "42/42 [==============================] - 0s 2ms/step - loss: 0.8046 - accuracy: 0.7798 - val_loss: 0.7443 - val_accuracy: 0.8571\n",
            "Epoch 14/90\n",
            "42/42 [==============================] - 0s 2ms/step - loss: 0.8095 - accuracy: 0.8012 - val_loss: 0.7363 - val_accuracy: 0.8333\n",
            "Epoch 15/90\n",
            "42/42 [==============================] - 0s 2ms/step - loss: 0.7798 - accuracy: 0.7771 - val_loss: 0.7295 - val_accuracy: 0.8333\n",
            "Epoch 16/90\n",
            "42/42 [==============================] - 0s 2ms/step - loss: 0.7155 - accuracy: 0.8189 - val_loss: 0.7119 - val_accuracy: 0.8571\n",
            "Epoch 17/90\n",
            "42/42 [==============================] - 0s 2ms/step - loss: 0.6865 - accuracy: 0.8502 - val_loss: 0.7032 - val_accuracy: 0.8571\n",
            "Epoch 18/90\n",
            "42/42 [==============================] - 0s 2ms/step - loss: 0.6810 - accuracy: 0.8461 - val_loss: 0.6990 - val_accuracy: 0.8333\n",
            "Epoch 19/90\n",
            "42/42 [==============================] - 0s 2ms/step - loss: 0.6662 - accuracy: 0.8693 - val_loss: 0.6994 - val_accuracy: 0.8095\n",
            "Epoch 20/90\n",
            "42/42 [==============================] - 0s 3ms/step - loss: 0.6568 - accuracy: 0.8767 - val_loss: 0.6757 - val_accuracy: 0.8333\n",
            "Epoch 21/90\n",
            "42/42 [==============================] - 0s 3ms/step - loss: 0.5925 - accuracy: 0.9124 - val_loss: 0.6635 - val_accuracy: 0.8333\n",
            "Epoch 22/90\n",
            "42/42 [==============================] - 0s 3ms/step - loss: 0.6208 - accuracy: 0.8615 - val_loss: 0.6537 - val_accuracy: 0.8333\n",
            "Epoch 23/90\n",
            "42/42 [==============================] - 0s 3ms/step - loss: 0.5835 - accuracy: 0.8773 - val_loss: 0.6524 - val_accuracy: 0.7857\n",
            "Epoch 24/90\n",
            "42/42 [==============================] - 0s 3ms/step - loss: 0.5933 - accuracy: 0.8610 - val_loss: 0.6417 - val_accuracy: 0.7857\n",
            "Epoch 25/90\n",
            "42/42 [==============================] - 0s 3ms/step - loss: 0.5712 - accuracy: 0.8956 - val_loss: 0.6436 - val_accuracy: 0.7857\n",
            "Epoch 26/90\n",
            "42/42 [==============================] - 0s 2ms/step - loss: 0.5565 - accuracy: 0.8945 - val_loss: 0.6473 - val_accuracy: 0.8095\n",
            "Epoch 27/90\n",
            "42/42 [==============================] - 0s 2ms/step - loss: 0.5646 - accuracy: 0.8711 - val_loss: 0.6366 - val_accuracy: 0.8095\n",
            "Epoch 28/90\n",
            "42/42 [==============================] - 0s 2ms/step - loss: 0.5178 - accuracy: 0.8801 - val_loss: 0.6201 - val_accuracy: 0.8333\n",
            "Epoch 29/90\n",
            "42/42 [==============================] - 0s 3ms/step - loss: 0.5166 - accuracy: 0.9165 - val_loss: 0.6167 - val_accuracy: 0.8333\n",
            "Epoch 30/90\n",
            "42/42 [==============================] - 0s 3ms/step - loss: 0.5194 - accuracy: 0.8354 - val_loss: 0.6148 - val_accuracy: 0.8333\n",
            "Epoch 31/90\n",
            "42/42 [==============================] - 0s 4ms/step - loss: 0.5299 - accuracy: 0.8153 - val_loss: 0.6012 - val_accuracy: 0.8095\n",
            "Epoch 32/90\n",
            "42/42 [==============================] - 0s 3ms/step - loss: 0.4782 - accuracy: 0.8923 - val_loss: 0.5951 - val_accuracy: 0.8095\n",
            "Epoch 33/90\n",
            "42/42 [==============================] - 0s 3ms/step - loss: 0.5450 - accuracy: 0.8790 - val_loss: 0.6018 - val_accuracy: 0.8095\n",
            "Epoch 34/90\n",
            "42/42 [==============================] - 0s 3ms/step - loss: 0.5171 - accuracy: 0.8746 - val_loss: 0.6014 - val_accuracy: 0.8095\n",
            "Epoch 35/90\n",
            "42/42 [==============================] - 0s 3ms/step - loss: 0.4919 - accuracy: 0.9243 - val_loss: 0.5856 - val_accuracy: 0.8333\n",
            "Epoch 36/90\n",
            "42/42 [==============================] - 0s 3ms/step - loss: 0.4580 - accuracy: 0.9137 - val_loss: 0.5794 - val_accuracy: 0.8333\n",
            "Epoch 37/90\n",
            "42/42 [==============================] - 0s 3ms/step - loss: 0.4138 - accuracy: 0.9162 - val_loss: 0.5813 - val_accuracy: 0.8333\n",
            "Epoch 38/90\n",
            "42/42 [==============================] - 0s 2ms/step - loss: 0.4617 - accuracy: 0.8992 - val_loss: 0.5714 - val_accuracy: 0.8333\n",
            "Epoch 39/90\n",
            "42/42 [==============================] - 0s 3ms/step - loss: 0.4314 - accuracy: 0.9083 - val_loss: 0.5651 - val_accuracy: 0.8333\n",
            "Epoch 40/90\n",
            "42/42 [==============================] - 0s 3ms/step - loss: 0.4464 - accuracy: 0.9014 - val_loss: 0.5743 - val_accuracy: 0.8333\n",
            "Epoch 41/90\n",
            "42/42 [==============================] - 0s 3ms/step - loss: 0.4365 - accuracy: 0.8943 - val_loss: 0.5681 - val_accuracy: 0.8333\n",
            "Epoch 42/90\n",
            "42/42 [==============================] - 0s 3ms/step - loss: 0.4427 - accuracy: 0.8955 - val_loss: 0.5660 - val_accuracy: 0.8333\n",
            "Epoch 43/90\n",
            "42/42 [==============================] - 0s 2ms/step - loss: 0.4519 - accuracy: 0.8740 - val_loss: 0.5509 - val_accuracy: 0.8333\n",
            "Epoch 44/90\n",
            "42/42 [==============================] - 0s 3ms/step - loss: 0.4748 - accuracy: 0.8561 - val_loss: 0.5270 - val_accuracy: 0.8333\n",
            "Epoch 45/90\n",
            "42/42 [==============================] - 0s 3ms/step - loss: 0.4692 - accuracy: 0.8629 - val_loss: 0.5325 - val_accuracy: 0.8333\n",
            "Epoch 46/90\n",
            "42/42 [==============================] - 0s 3ms/step - loss: 0.3633 - accuracy: 0.9207 - val_loss: 0.5394 - val_accuracy: 0.8333\n",
            "Epoch 47/90\n",
            "42/42 [==============================] - 0s 2ms/step - loss: 0.4077 - accuracy: 0.9221 - val_loss: 0.5262 - val_accuracy: 0.8571\n",
            "Epoch 48/90\n",
            "42/42 [==============================] - 0s 3ms/step - loss: 0.4438 - accuracy: 0.8577 - val_loss: 0.5133 - val_accuracy: 0.8333\n",
            "Epoch 49/90\n",
            "42/42 [==============================] - 0s 3ms/step - loss: 0.3815 - accuracy: 0.9336 - val_loss: 0.5116 - val_accuracy: 0.8333\n",
            "Epoch 50/90\n",
            "42/42 [==============================] - 0s 3ms/step - loss: 0.4512 - accuracy: 0.8687 - val_loss: 0.4906 - val_accuracy: 0.8571\n",
            "Epoch 51/90\n",
            "42/42 [==============================] - 0s 3ms/step - loss: 0.3713 - accuracy: 0.9010 - val_loss: 0.4800 - val_accuracy: 0.8571\n",
            "Epoch 52/90\n",
            "42/42 [==============================] - 0s 2ms/step - loss: 0.4106 - accuracy: 0.9150 - val_loss: 0.4749 - val_accuracy: 0.8571\n",
            "Epoch 53/90\n",
            "42/42 [==============================] - 0s 3ms/step - loss: 0.4150 - accuracy: 0.9097 - val_loss: 0.4775 - val_accuracy: 0.8571\n",
            "Epoch 54/90\n",
            "42/42 [==============================] - 0s 2ms/step - loss: 0.3756 - accuracy: 0.9272 - val_loss: 0.4859 - val_accuracy: 0.8571\n",
            "Epoch 55/90\n",
            "42/42 [==============================] - 0s 2ms/step - loss: 0.3866 - accuracy: 0.9263 - val_loss: 0.4914 - val_accuracy: 0.8571\n",
            "Epoch 56/90\n",
            "42/42 [==============================] - 0s 3ms/step - loss: 0.3563 - accuracy: 0.9220 - val_loss: 0.4920 - val_accuracy: 0.8571\n",
            "Epoch 57/90\n",
            "42/42 [==============================] - 0s 3ms/step - loss: 0.3872 - accuracy: 0.9113 - val_loss: 0.4687 - val_accuracy: 0.8571\n",
            "Epoch 58/90\n",
            "42/42 [==============================] - 0s 3ms/step - loss: 0.4308 - accuracy: 0.8940 - val_loss: 0.4768 - val_accuracy: 0.8571\n",
            "Epoch 59/90\n",
            "42/42 [==============================] - 0s 2ms/step - loss: 0.3954 - accuracy: 0.9400 - val_loss: 0.4662 - val_accuracy: 0.8571\n",
            "Epoch 60/90\n",
            "42/42 [==============================] - 0s 3ms/step - loss: 0.3673 - accuracy: 0.9162 - val_loss: 0.4606 - val_accuracy: 0.8571\n",
            "Epoch 61/90\n",
            "42/42 [==============================] - 0s 3ms/step - loss: 0.3753 - accuracy: 0.9132 - val_loss: 0.4552 - val_accuracy: 0.8571\n",
            "Epoch 62/90\n",
            "42/42 [==============================] - 0s 2ms/step - loss: 0.3836 - accuracy: 0.8954 - val_loss: 0.4505 - val_accuracy: 0.8571\n",
            "Epoch 63/90\n",
            "42/42 [==============================] - 0s 3ms/step - loss: 0.3404 - accuracy: 0.9319 - val_loss: 0.4489 - val_accuracy: 0.8571\n",
            "Epoch 64/90\n",
            "42/42 [==============================] - 0s 3ms/step - loss: 0.4573 - accuracy: 0.8632 - val_loss: 0.4450 - val_accuracy: 0.8571\n",
            "Epoch 65/90\n",
            "42/42 [==============================] - 0s 3ms/step - loss: 0.4317 - accuracy: 0.8844 - val_loss: 0.4526 - val_accuracy: 0.8571\n",
            "Epoch 66/90\n",
            "42/42 [==============================] - 0s 3ms/step - loss: 0.3957 - accuracy: 0.8733 - val_loss: 0.4424 - val_accuracy: 0.8571\n",
            "Epoch 67/90\n",
            "42/42 [==============================] - 0s 2ms/step - loss: 0.3949 - accuracy: 0.9250 - val_loss: 0.4530 - val_accuracy: 0.8571\n",
            "Epoch 68/90\n",
            "42/42 [==============================] - 0s 3ms/step - loss: 0.2944 - accuracy: 0.9538 - val_loss: 0.4391 - val_accuracy: 0.8810\n",
            "Epoch 69/90\n",
            "42/42 [==============================] - 0s 2ms/step - loss: 0.4325 - accuracy: 0.8503 - val_loss: 0.4350 - val_accuracy: 0.8810\n",
            "Epoch 70/90\n",
            "42/42 [==============================] - 0s 3ms/step - loss: 0.3561 - accuracy: 0.8973 - val_loss: 0.4314 - val_accuracy: 0.8810\n",
            "Epoch 71/90\n",
            "42/42 [==============================] - 0s 2ms/step - loss: 0.4073 - accuracy: 0.8510 - val_loss: 0.4362 - val_accuracy: 0.8571\n",
            "Epoch 72/90\n",
            "42/42 [==============================] - 0s 3ms/step - loss: 0.4226 - accuracy: 0.8997 - val_loss: 0.4475 - val_accuracy: 0.8571\n",
            "Epoch 73/90\n",
            "42/42 [==============================] - 0s 3ms/step - loss: 0.3856 - accuracy: 0.8984 - val_loss: 0.4465 - val_accuracy: 0.8571\n",
            "Epoch 74/90\n",
            "42/42 [==============================] - 0s 3ms/step - loss: 0.4207 - accuracy: 0.8939 - val_loss: 0.4270 - val_accuracy: 0.8571\n",
            "Epoch 75/90\n",
            "42/42 [==============================] - 0s 3ms/step - loss: 0.3682 - accuracy: 0.9048 - val_loss: 0.4327 - val_accuracy: 0.8571\n",
            "Epoch 76/90\n",
            "42/42 [==============================] - 0s 2ms/step - loss: 0.3813 - accuracy: 0.9105 - val_loss: 0.4070 - val_accuracy: 0.8571\n",
            "Epoch 77/90\n",
            "42/42 [==============================] - 0s 3ms/step - loss: 0.3138 - accuracy: 0.9239 - val_loss: 0.4218 - val_accuracy: 0.8571\n",
            "Epoch 78/90\n",
            "42/42 [==============================] - 0s 2ms/step - loss: 0.3388 - accuracy: 0.9218 - val_loss: 0.4243 - val_accuracy: 0.8571\n",
            "Epoch 79/90\n",
            "42/42 [==============================] - 0s 3ms/step - loss: 0.4167 - accuracy: 0.8870 - val_loss: 0.4258 - val_accuracy: 0.8571\n",
            "Epoch 80/90\n",
            "42/42 [==============================] - 0s 2ms/step - loss: 0.3308 - accuracy: 0.9140 - val_loss: 0.4293 - val_accuracy: 0.8571\n",
            "Epoch 81/90\n",
            "42/42 [==============================] - 0s 3ms/step - loss: 0.3420 - accuracy: 0.9164 - val_loss: 0.4181 - val_accuracy: 0.8571\n",
            "Epoch 82/90\n",
            "42/42 [==============================] - 0s 3ms/step - loss: 0.3416 - accuracy: 0.9320 - val_loss: 0.4010 - val_accuracy: 0.8571\n",
            "Epoch 83/90\n",
            "42/42 [==============================] - 0s 2ms/step - loss: 0.3497 - accuracy: 0.9140 - val_loss: 0.4243 - val_accuracy: 0.8571\n",
            "Epoch 84/90\n",
            "42/42 [==============================] - 0s 3ms/step - loss: 0.2889 - accuracy: 0.9419 - val_loss: 0.4027 - val_accuracy: 0.8571\n",
            "Epoch 85/90\n",
            "42/42 [==============================] - 0s 3ms/step - loss: 0.3789 - accuracy: 0.9090 - val_loss: 0.4055 - val_accuracy: 0.8571\n",
            "Epoch 86/90\n",
            "42/42 [==============================] - 0s 3ms/step - loss: 0.3041 - accuracy: 0.9204 - val_loss: 0.4159 - val_accuracy: 0.8571\n",
            "Epoch 87/90\n",
            "42/42 [==============================] - 0s 3ms/step - loss: 0.3288 - accuracy: 0.9176 - val_loss: 0.3851 - val_accuracy: 0.8571\n",
            "Epoch 88/90\n",
            "42/42 [==============================] - 0s 2ms/step - loss: 0.2816 - accuracy: 0.9374 - val_loss: 0.4064 - val_accuracy: 0.8571\n",
            "Epoch 89/90\n",
            "42/42 [==============================] - 0s 3ms/step - loss: 0.4291 - accuracy: 0.8397 - val_loss: 0.3872 - val_accuracy: 0.8571\n",
            "Epoch 90/90\n",
            "42/42 [==============================] - 0s 2ms/step - loss: 0.3361 - accuracy: 0.9243 - val_loss: 0.3919 - val_accuracy: 0.8571\n",
            "processing fold # 1\n",
            "Epoch 1/90\n",
            "42/42 [==============================] - 1s 7ms/step - loss: 1.2671 - accuracy: 0.5473 - val_loss: 0.9695 - val_accuracy: 0.7143\n",
            "Epoch 2/90\n",
            "42/42 [==============================] - 0s 3ms/step - loss: 1.1366 - accuracy: 0.5642 - val_loss: 0.8963 - val_accuracy: 0.7857\n",
            "Epoch 3/90\n",
            "42/42 [==============================] - 0s 2ms/step - loss: 1.0669 - accuracy: 0.7107 - val_loss: 0.8643 - val_accuracy: 0.8095\n",
            "Epoch 4/90\n",
            "42/42 [==============================] - 0s 3ms/step - loss: 0.9623 - accuracy: 0.6548 - val_loss: 0.8530 - val_accuracy: 0.8095\n",
            "Epoch 5/90\n",
            "42/42 [==============================] - 0s 2ms/step - loss: 1.0341 - accuracy: 0.7082 - val_loss: 0.8368 - val_accuracy: 0.8810\n",
            "Epoch 6/90\n",
            "42/42 [==============================] - 0s 3ms/step - loss: 0.9192 - accuracy: 0.7562 - val_loss: 0.8202 - val_accuracy: 0.8571\n",
            "Epoch 7/90\n",
            "42/42 [==============================] - 0s 2ms/step - loss: 0.9099 - accuracy: 0.7551 - val_loss: 0.8022 - val_accuracy: 0.8571\n",
            "Epoch 8/90\n",
            "42/42 [==============================] - 0s 3ms/step - loss: 0.7732 - accuracy: 0.8685 - val_loss: 0.7803 - val_accuracy: 0.8571\n",
            "Epoch 9/90\n",
            "42/42 [==============================] - 0s 2ms/step - loss: 0.8072 - accuracy: 0.8310 - val_loss: 0.7786 - val_accuracy: 0.8571\n",
            "Epoch 10/90\n",
            "42/42 [==============================] - 0s 2ms/step - loss: 0.8952 - accuracy: 0.7685 - val_loss: 0.7625 - val_accuracy: 0.8571\n",
            "Epoch 11/90\n",
            "42/42 [==============================] - 0s 2ms/step - loss: 0.7832 - accuracy: 0.8528 - val_loss: 0.7600 - val_accuracy: 0.8333\n",
            "Epoch 12/90\n",
            "42/42 [==============================] - 0s 2ms/step - loss: 0.6724 - accuracy: 0.8756 - val_loss: 0.7500 - val_accuracy: 0.8333\n",
            "Epoch 13/90\n",
            "42/42 [==============================] - 0s 2ms/step - loss: 0.6681 - accuracy: 0.8690 - val_loss: 0.7173 - val_accuracy: 0.8333\n",
            "Epoch 14/90\n",
            "42/42 [==============================] - 0s 3ms/step - loss: 0.7396 - accuracy: 0.8087 - val_loss: 0.7116 - val_accuracy: 0.8333\n",
            "Epoch 15/90\n",
            "42/42 [==============================] - 0s 3ms/step - loss: 0.6987 - accuracy: 0.8525 - val_loss: 0.6997 - val_accuracy: 0.8333\n",
            "Epoch 16/90\n",
            "42/42 [==============================] - 0s 2ms/step - loss: 0.6525 - accuracy: 0.8538 - val_loss: 0.6852 - val_accuracy: 0.8571\n",
            "Epoch 17/90\n",
            "42/42 [==============================] - 0s 2ms/step - loss: 0.6429 - accuracy: 0.9008 - val_loss: 0.6747 - val_accuracy: 0.8333\n",
            "Epoch 18/90\n",
            "42/42 [==============================] - 0s 2ms/step - loss: 0.6964 - accuracy: 0.8724 - val_loss: 0.6794 - val_accuracy: 0.8333\n",
            "Epoch 19/90\n",
            "42/42 [==============================] - 0s 3ms/step - loss: 0.6695 - accuracy: 0.8454 - val_loss: 0.6697 - val_accuracy: 0.8333\n",
            "Epoch 20/90\n",
            "42/42 [==============================] - 0s 3ms/step - loss: 0.5426 - accuracy: 0.9170 - val_loss: 0.6593 - val_accuracy: 0.8333\n",
            "Epoch 21/90\n",
            "42/42 [==============================] - 0s 2ms/step - loss: 0.5954 - accuracy: 0.9189 - val_loss: 0.6495 - val_accuracy: 0.8333\n",
            "Epoch 22/90\n",
            "42/42 [==============================] - 0s 3ms/step - loss: 0.5336 - accuracy: 0.9000 - val_loss: 0.6386 - val_accuracy: 0.8571\n",
            "Epoch 23/90\n",
            "42/42 [==============================] - 0s 2ms/step - loss: 0.5391 - accuracy: 0.8732 - val_loss: 0.6329 - val_accuracy: 0.8571\n",
            "Epoch 24/90\n",
            "42/42 [==============================] - 0s 3ms/step - loss: 0.5409 - accuracy: 0.8556 - val_loss: 0.6291 - val_accuracy: 0.8571\n",
            "Epoch 25/90\n",
            "42/42 [==============================] - 0s 3ms/step - loss: 0.5451 - accuracy: 0.8628 - val_loss: 0.6166 - val_accuracy: 0.8571\n",
            "Epoch 26/90\n",
            "42/42 [==============================] - 0s 3ms/step - loss: 0.4892 - accuracy: 0.9104 - val_loss: 0.6113 - val_accuracy: 0.8571\n",
            "Epoch 27/90\n",
            "42/42 [==============================] - 0s 2ms/step - loss: 0.4661 - accuracy: 0.8870 - val_loss: 0.5982 - val_accuracy: 0.8571\n",
            "Epoch 28/90\n",
            "42/42 [==============================] - 0s 3ms/step - loss: 0.5166 - accuracy: 0.9204 - val_loss: 0.5663 - val_accuracy: 0.8571\n",
            "Epoch 29/90\n",
            "42/42 [==============================] - 0s 3ms/step - loss: 0.4730 - accuracy: 0.9123 - val_loss: 0.5843 - val_accuracy: 0.8333\n",
            "Epoch 30/90\n",
            "42/42 [==============================] - 0s 3ms/step - loss: 0.4609 - accuracy: 0.9090 - val_loss: 0.5701 - val_accuracy: 0.8571\n",
            "Epoch 31/90\n",
            "42/42 [==============================] - 0s 3ms/step - loss: 0.4940 - accuracy: 0.8871 - val_loss: 0.5759 - val_accuracy: 0.8571\n",
            "Epoch 32/90\n",
            "42/42 [==============================] - 0s 3ms/step - loss: 0.4745 - accuracy: 0.8725 - val_loss: 0.5674 - val_accuracy: 0.8571\n",
            "Epoch 33/90\n",
            "42/42 [==============================] - 0s 2ms/step - loss: 0.4092 - accuracy: 0.9545 - val_loss: 0.5539 - val_accuracy: 0.8571\n",
            "Epoch 34/90\n",
            "42/42 [==============================] - 0s 3ms/step - loss: 0.4062 - accuracy: 0.9394 - val_loss: 0.5625 - val_accuracy: 0.8571\n",
            "Epoch 35/90\n",
            "42/42 [==============================] - 0s 3ms/step - loss: 0.4335 - accuracy: 0.9342 - val_loss: 0.5533 - val_accuracy: 0.8333\n",
            "Epoch 36/90\n",
            "42/42 [==============================] - 0s 3ms/step - loss: 0.3630 - accuracy: 0.9478 - val_loss: 0.5507 - val_accuracy: 0.8333\n",
            "Epoch 37/90\n",
            "42/42 [==============================] - 0s 3ms/step - loss: 0.4322 - accuracy: 0.8778 - val_loss: 0.5459 - val_accuracy: 0.8571\n",
            "Epoch 38/90\n",
            "42/42 [==============================] - 0s 3ms/step - loss: 0.4257 - accuracy: 0.9110 - val_loss: 0.5476 - val_accuracy: 0.8333\n",
            "Epoch 39/90\n",
            "42/42 [==============================] - 0s 2ms/step - loss: 0.4601 - accuracy: 0.8756 - val_loss: 0.5407 - val_accuracy: 0.8571\n",
            "Epoch 40/90\n",
            "42/42 [==============================] - 0s 3ms/step - loss: 0.3996 - accuracy: 0.9414 - val_loss: 0.5150 - val_accuracy: 0.8571\n",
            "Epoch 41/90\n",
            "42/42 [==============================] - 0s 3ms/step - loss: 0.4111 - accuracy: 0.9278 - val_loss: 0.5065 - val_accuracy: 0.8571\n",
            "Epoch 42/90\n",
            "42/42 [==============================] - 0s 2ms/step - loss: 0.3853 - accuracy: 0.9378 - val_loss: 0.4962 - val_accuracy: 0.8571\n",
            "Epoch 43/90\n",
            "42/42 [==============================] - 0s 3ms/step - loss: 0.3785 - accuracy: 0.9393 - val_loss: 0.5110 - val_accuracy: 0.8571\n",
            "Epoch 44/90\n",
            "42/42 [==============================] - 0s 3ms/step - loss: 0.3581 - accuracy: 0.9454 - val_loss: 0.5228 - val_accuracy: 0.8333\n",
            "Epoch 45/90\n",
            "42/42 [==============================] - 0s 3ms/step - loss: 0.4406 - accuracy: 0.9348 - val_loss: 0.5109 - val_accuracy: 0.8571\n",
            "Epoch 46/90\n",
            "42/42 [==============================] - 0s 3ms/step - loss: 0.3928 - accuracy: 0.9129 - val_loss: 0.5022 - val_accuracy: 0.8571\n",
            "Epoch 47/90\n",
            "42/42 [==============================] - 0s 3ms/step - loss: 0.3496 - accuracy: 0.9380 - val_loss: 0.5069 - val_accuracy: 0.8571\n",
            "Epoch 48/90\n",
            "42/42 [==============================] - 0s 3ms/step - loss: 0.2671 - accuracy: 0.9775 - val_loss: 0.5110 - val_accuracy: 0.8571\n",
            "Epoch 49/90\n",
            "42/42 [==============================] - 0s 3ms/step - loss: 0.3913 - accuracy: 0.9078 - val_loss: 0.5079 - val_accuracy: 0.8571\n",
            "Epoch 50/90\n",
            "42/42 [==============================] - 0s 3ms/step - loss: 0.3544 - accuracy: 0.9384 - val_loss: 0.5068 - val_accuracy: 0.8333\n",
            "Epoch 51/90\n",
            "42/42 [==============================] - 0s 3ms/step - loss: 0.2905 - accuracy: 0.9697 - val_loss: 0.5000 - val_accuracy: 0.8333\n",
            "Epoch 52/90\n",
            "42/42 [==============================] - 0s 3ms/step - loss: 0.3289 - accuracy: 0.9177 - val_loss: 0.4898 - val_accuracy: 0.8333\n",
            "Epoch 53/90\n",
            "42/42 [==============================] - 0s 3ms/step - loss: 0.3612 - accuracy: 0.9294 - val_loss: 0.4813 - val_accuracy: 0.8333\n",
            "Epoch 54/90\n",
            "42/42 [==============================] - 0s 3ms/step - loss: 0.4268 - accuracy: 0.9009 - val_loss: 0.4864 - val_accuracy: 0.8333\n",
            "Epoch 55/90\n",
            "42/42 [==============================] - 0s 3ms/step - loss: 0.2808 - accuracy: 0.9604 - val_loss: 0.4898 - val_accuracy: 0.8333\n",
            "Epoch 56/90\n",
            "42/42 [==============================] - 0s 3ms/step - loss: 0.3715 - accuracy: 0.9274 - val_loss: 0.4971 - val_accuracy: 0.8333\n",
            "Epoch 57/90\n",
            "42/42 [==============================] - 0s 3ms/step - loss: 0.2937 - accuracy: 0.9656 - val_loss: 0.4968 - val_accuracy: 0.8571\n",
            "Epoch 58/90\n",
            "42/42 [==============================] - 0s 3ms/step - loss: 0.4404 - accuracy: 0.8807 - val_loss: 0.4875 - val_accuracy: 0.8571\n",
            "Epoch 59/90\n",
            "42/42 [==============================] - 0s 2ms/step - loss: 0.3969 - accuracy: 0.9454 - val_loss: 0.4958 - val_accuracy: 0.8571\n",
            "Epoch 60/90\n",
            "42/42 [==============================] - 0s 3ms/step - loss: 0.3298 - accuracy: 0.9552 - val_loss: 0.4684 - val_accuracy: 0.8571\n",
            "Epoch 61/90\n",
            "42/42 [==============================] - 0s 3ms/step - loss: 0.2935 - accuracy: 0.9593 - val_loss: 0.4703 - val_accuracy: 0.8571\n",
            "Epoch 62/90\n",
            "42/42 [==============================] - 0s 3ms/step - loss: 0.3046 - accuracy: 0.9560 - val_loss: 0.4755 - val_accuracy: 0.8571\n",
            "Epoch 63/90\n",
            "42/42 [==============================] - 0s 3ms/step - loss: 0.3180 - accuracy: 0.9429 - val_loss: 0.4728 - val_accuracy: 0.8571\n",
            "Epoch 64/90\n",
            "42/42 [==============================] - 0s 3ms/step - loss: 0.2974 - accuracy: 0.9450 - val_loss: 0.4634 - val_accuracy: 0.8571\n",
            "Epoch 65/90\n",
            "42/42 [==============================] - 0s 3ms/step - loss: 0.2507 - accuracy: 0.9779 - val_loss: 0.4699 - val_accuracy: 0.8571\n",
            "Epoch 66/90\n",
            "42/42 [==============================] - 0s 2ms/step - loss: 0.2583 - accuracy: 0.9620 - val_loss: 0.4673 - val_accuracy: 0.8571\n",
            "Epoch 67/90\n",
            "42/42 [==============================] - 0s 2ms/step - loss: 0.2579 - accuracy: 0.9716 - val_loss: 0.4653 - val_accuracy: 0.8571\n",
            "Epoch 68/90\n",
            "42/42 [==============================] - 0s 3ms/step - loss: 0.2744 - accuracy: 0.9729 - val_loss: 0.4599 - val_accuracy: 0.8571\n",
            "Epoch 69/90\n",
            "42/42 [==============================] - 0s 3ms/step - loss: 0.2792 - accuracy: 0.9545 - val_loss: 0.4464 - val_accuracy: 0.8571\n",
            "Epoch 70/90\n",
            "42/42 [==============================] - 0s 2ms/step - loss: 0.2499 - accuracy: 0.9502 - val_loss: 0.4605 - val_accuracy: 0.8571\n",
            "Epoch 71/90\n",
            "42/42 [==============================] - 0s 3ms/step - loss: 0.3246 - accuracy: 0.9339 - val_loss: 0.4749 - val_accuracy: 0.8571\n",
            "Epoch 72/90\n",
            "42/42 [==============================] - 0s 3ms/step - loss: 0.2989 - accuracy: 0.9557 - val_loss: 0.4631 - val_accuracy: 0.8571\n",
            "Epoch 73/90\n",
            "42/42 [==============================] - 0s 2ms/step - loss: 0.3214 - accuracy: 0.9058 - val_loss: 0.4558 - val_accuracy: 0.8571\n",
            "Epoch 74/90\n",
            "42/42 [==============================] - 0s 3ms/step - loss: 0.3026 - accuracy: 0.9447 - val_loss: 0.4616 - val_accuracy: 0.8571\n",
            "Epoch 75/90\n",
            "42/42 [==============================] - 0s 3ms/step - loss: 0.2731 - accuracy: 0.9556 - val_loss: 0.4927 - val_accuracy: 0.8571\n",
            "Epoch 76/90\n",
            "42/42 [==============================] - 0s 3ms/step - loss: 0.2603 - accuracy: 0.9581 - val_loss: 0.4689 - val_accuracy: 0.8571\n",
            "Epoch 77/90\n",
            "42/42 [==============================] - 0s 2ms/step - loss: 0.2443 - accuracy: 0.9676 - val_loss: 0.4691 - val_accuracy: 0.8571\n",
            "Epoch 78/90\n",
            "42/42 [==============================] - 0s 2ms/step - loss: 0.2767 - accuracy: 0.9498 - val_loss: 0.4889 - val_accuracy: 0.8571\n",
            "Epoch 79/90\n",
            "42/42 [==============================] - 0s 3ms/step - loss: 0.2632 - accuracy: 0.9533 - val_loss: 0.4728 - val_accuracy: 0.8571\n",
            "Epoch 80/90\n",
            "42/42 [==============================] - 0s 3ms/step - loss: 0.2652 - accuracy: 0.9615 - val_loss: 0.4778 - val_accuracy: 0.8571\n",
            "Epoch 81/90\n",
            "42/42 [==============================] - 0s 3ms/step - loss: 0.2870 - accuracy: 0.9336 - val_loss: 0.4768 - val_accuracy: 0.8571\n",
            "Epoch 82/90\n",
            "42/42 [==============================] - 0s 3ms/step - loss: 0.2548 - accuracy: 0.9444 - val_loss: 0.4614 - val_accuracy: 0.8571\n",
            "Epoch 83/90\n",
            "42/42 [==============================] - 0s 3ms/step - loss: 0.2258 - accuracy: 0.9729 - val_loss: 0.4934 - val_accuracy: 0.8571\n",
            "Epoch 84/90\n",
            "42/42 [==============================] - 0s 3ms/step - loss: 0.3601 - accuracy: 0.8978 - val_loss: 0.4841 - val_accuracy: 0.8571\n",
            "Epoch 85/90\n",
            "42/42 [==============================] - 0s 3ms/step - loss: 0.2238 - accuracy: 0.9643 - val_loss: 0.4828 - val_accuracy: 0.8810\n",
            "Epoch 86/90\n",
            "42/42 [==============================] - 0s 2ms/step - loss: 0.3471 - accuracy: 0.9281 - val_loss: 0.4739 - val_accuracy: 0.8810\n",
            "Epoch 87/90\n",
            "42/42 [==============================] - 0s 3ms/step - loss: 0.2972 - accuracy: 0.9257 - val_loss: 0.4771 - val_accuracy: 0.8810\n",
            "Epoch 88/90\n",
            "42/42 [==============================] - 0s 3ms/step - loss: 0.2551 - accuracy: 0.9604 - val_loss: 0.4549 - val_accuracy: 0.8571\n",
            "Epoch 89/90\n",
            "42/42 [==============================] - 0s 3ms/step - loss: 0.2371 - accuracy: 0.9592 - val_loss: 0.4684 - val_accuracy: 0.8571\n",
            "Epoch 90/90\n",
            "42/42 [==============================] - 0s 3ms/step - loss: 0.3040 - accuracy: 0.9669 - val_loss: 0.4968 - val_accuracy: 0.8571\n",
            "processing fold # 2\n",
            "Epoch 1/90\n",
            "42/42 [==============================] - 1s 8ms/step - loss: 1.1923 - accuracy: 0.4209 - val_loss: 1.1048 - val_accuracy: 0.7381\n",
            "Epoch 2/90\n",
            "42/42 [==============================] - 0s 3ms/step - loss: 1.1055 - accuracy: 0.5895 - val_loss: 1.0633 - val_accuracy: 0.7381\n",
            "Epoch 3/90\n",
            "42/42 [==============================] - 0s 2ms/step - loss: 1.0570 - accuracy: 0.5894 - val_loss: 1.0244 - val_accuracy: 0.7857\n",
            "Epoch 4/90\n",
            "42/42 [==============================] - 0s 2ms/step - loss: 1.0202 - accuracy: 0.6469 - val_loss: 0.9860 - val_accuracy: 0.7381\n",
            "Epoch 5/90\n",
            "42/42 [==============================] - 0s 3ms/step - loss: 0.9989 - accuracy: 0.7023 - val_loss: 0.9503 - val_accuracy: 0.7381\n",
            "Epoch 6/90\n",
            "42/42 [==============================] - 0s 3ms/step - loss: 0.9351 - accuracy: 0.7392 - val_loss: 0.9161 - val_accuracy: 0.7619\n",
            "Epoch 7/90\n",
            "42/42 [==============================] - 0s 2ms/step - loss: 0.9186 - accuracy: 0.7489 - val_loss: 0.8851 - val_accuracy: 0.7857\n",
            "Epoch 8/90\n",
            "42/42 [==============================] - 0s 3ms/step - loss: 0.8467 - accuracy: 0.8364 - val_loss: 0.8510 - val_accuracy: 0.8095\n",
            "Epoch 9/90\n",
            "42/42 [==============================] - 0s 3ms/step - loss: 0.8360 - accuracy: 0.7948 - val_loss: 0.8161 - val_accuracy: 0.8095\n",
            "Epoch 10/90\n",
            "42/42 [==============================] - 0s 3ms/step - loss: 0.8749 - accuracy: 0.7902 - val_loss: 0.7821 - val_accuracy: 0.7857\n",
            "Epoch 11/90\n",
            "42/42 [==============================] - 0s 3ms/step - loss: 0.7717 - accuracy: 0.8368 - val_loss: 0.7545 - val_accuracy: 0.7857\n",
            "Epoch 12/90\n",
            "42/42 [==============================] - 0s 2ms/step - loss: 0.7374 - accuracy: 0.8575 - val_loss: 0.7313 - val_accuracy: 0.7857\n",
            "Epoch 13/90\n",
            "42/42 [==============================] - 0s 3ms/step - loss: 0.7903 - accuracy: 0.8038 - val_loss: 0.7146 - val_accuracy: 0.7857\n",
            "Epoch 14/90\n",
            "42/42 [==============================] - 0s 2ms/step - loss: 0.6654 - accuracy: 0.8782 - val_loss: 0.6982 - val_accuracy: 0.7857\n",
            "Epoch 15/90\n",
            "42/42 [==============================] - 0s 3ms/step - loss: 0.6978 - accuracy: 0.8702 - val_loss: 0.6790 - val_accuracy: 0.7857\n",
            "Epoch 16/90\n",
            "42/42 [==============================] - 0s 3ms/step - loss: 0.6552 - accuracy: 0.8791 - val_loss: 0.6713 - val_accuracy: 0.8095\n",
            "Epoch 17/90\n",
            "42/42 [==============================] - 0s 3ms/step - loss: 0.6372 - accuracy: 0.8740 - val_loss: 0.6558 - val_accuracy: 0.8095\n",
            "Epoch 18/90\n",
            "42/42 [==============================] - 0s 2ms/step - loss: 0.6661 - accuracy: 0.8526 - val_loss: 0.6397 - val_accuracy: 0.8333\n",
            "Epoch 19/90\n",
            "42/42 [==============================] - 0s 2ms/step - loss: 0.6194 - accuracy: 0.8322 - val_loss: 0.6270 - val_accuracy: 0.8333\n",
            "Epoch 20/90\n",
            "42/42 [==============================] - 0s 2ms/step - loss: 0.5447 - accuracy: 0.9042 - val_loss: 0.6167 - val_accuracy: 0.8333\n",
            "Epoch 21/90\n",
            "42/42 [==============================] - 0s 2ms/step - loss: 0.5560 - accuracy: 0.8985 - val_loss: 0.6127 - val_accuracy: 0.8095\n",
            "Epoch 22/90\n",
            "42/42 [==============================] - 0s 2ms/step - loss: 0.5631 - accuracy: 0.8667 - val_loss: 0.5953 - val_accuracy: 0.8095\n",
            "Epoch 23/90\n",
            "42/42 [==============================] - 0s 3ms/step - loss: 0.5451 - accuracy: 0.9041 - val_loss: 0.5874 - val_accuracy: 0.8095\n",
            "Epoch 24/90\n",
            "42/42 [==============================] - 0s 3ms/step - loss: 0.4971 - accuracy: 0.9084 - val_loss: 0.5807 - val_accuracy: 0.8095\n",
            "Epoch 25/90\n",
            "42/42 [==============================] - 0s 3ms/step - loss: 0.5100 - accuracy: 0.8868 - val_loss: 0.5689 - val_accuracy: 0.8095\n",
            "Epoch 26/90\n",
            "42/42 [==============================] - 0s 2ms/step - loss: 0.5661 - accuracy: 0.8792 - val_loss: 0.5581 - val_accuracy: 0.8095\n",
            "Epoch 27/90\n",
            "42/42 [==============================] - 0s 3ms/step - loss: 0.5704 - accuracy: 0.8626 - val_loss: 0.5580 - val_accuracy: 0.8095\n",
            "Epoch 28/90\n",
            "42/42 [==============================] - 0s 3ms/step - loss: 0.5008 - accuracy: 0.8842 - val_loss: 0.5486 - val_accuracy: 0.8095\n",
            "Epoch 29/90\n",
            "42/42 [==============================] - 0s 3ms/step - loss: 0.4955 - accuracy: 0.8559 - val_loss: 0.5530 - val_accuracy: 0.8333\n",
            "Epoch 30/90\n",
            "42/42 [==============================] - 0s 3ms/step - loss: 0.5124 - accuracy: 0.8630 - val_loss: 0.5346 - val_accuracy: 0.8333\n",
            "Epoch 31/90\n",
            "42/42 [==============================] - 0s 3ms/step - loss: 0.4488 - accuracy: 0.9170 - val_loss: 0.5280 - val_accuracy: 0.8333\n",
            "Epoch 32/90\n",
            "42/42 [==============================] - 0s 3ms/step - loss: 0.4167 - accuracy: 0.9054 - val_loss: 0.5219 - val_accuracy: 0.8333\n",
            "Epoch 33/90\n",
            "42/42 [==============================] - 0s 3ms/step - loss: 0.4289 - accuracy: 0.8993 - val_loss: 0.5155 - val_accuracy: 0.8333\n",
            "Epoch 34/90\n",
            "42/42 [==============================] - 0s 3ms/step - loss: 0.3971 - accuracy: 0.9315 - val_loss: 0.5072 - val_accuracy: 0.8333\n",
            "Epoch 35/90\n",
            "42/42 [==============================] - 0s 3ms/step - loss: 0.5117 - accuracy: 0.8758 - val_loss: 0.5048 - val_accuracy: 0.8333\n",
            "Epoch 36/90\n",
            "42/42 [==============================] - 0s 3ms/step - loss: 0.4892 - accuracy: 0.8958 - val_loss: 0.5035 - val_accuracy: 0.8333\n",
            "Epoch 37/90\n",
            "42/42 [==============================] - 0s 3ms/step - loss: 0.5178 - accuracy: 0.8737 - val_loss: 0.5040 - val_accuracy: 0.8095\n",
            "Epoch 38/90\n",
            "42/42 [==============================] - 0s 3ms/step - loss: 0.3669 - accuracy: 0.9255 - val_loss: 0.5044 - val_accuracy: 0.8095\n",
            "Epoch 39/90\n",
            "42/42 [==============================] - 0s 3ms/step - loss: 0.3487 - accuracy: 0.9444 - val_loss: 0.4985 - val_accuracy: 0.8333\n",
            "Epoch 40/90\n",
            "42/42 [==============================] - 0s 3ms/step - loss: 0.3906 - accuracy: 0.9323 - val_loss: 0.4908 - val_accuracy: 0.8095\n",
            "Epoch 41/90\n",
            "42/42 [==============================] - 0s 3ms/step - loss: 0.3601 - accuracy: 0.9022 - val_loss: 0.4845 - val_accuracy: 0.8095\n",
            "Epoch 42/90\n",
            "42/42 [==============================] - 0s 3ms/step - loss: 0.4019 - accuracy: 0.9410 - val_loss: 0.4783 - val_accuracy: 0.8095\n",
            "Epoch 43/90\n",
            "42/42 [==============================] - 0s 3ms/step - loss: 0.3477 - accuracy: 0.9305 - val_loss: 0.4713 - val_accuracy: 0.8095\n",
            "Epoch 44/90\n",
            "42/42 [==============================] - 0s 3ms/step - loss: 0.3202 - accuracy: 0.9532 - val_loss: 0.4710 - val_accuracy: 0.8095\n",
            "Epoch 45/90\n",
            "42/42 [==============================] - 0s 3ms/step - loss: 0.3631 - accuracy: 0.9319 - val_loss: 0.4628 - val_accuracy: 0.8333\n",
            "Epoch 46/90\n",
            "42/42 [==============================] - 0s 2ms/step - loss: 0.3838 - accuracy: 0.9257 - val_loss: 0.4595 - val_accuracy: 0.8095\n",
            "Epoch 47/90\n",
            "42/42 [==============================] - 0s 2ms/step - loss: 0.3397 - accuracy: 0.9438 - val_loss: 0.4687 - val_accuracy: 0.8095\n",
            "Epoch 48/90\n",
            "42/42 [==============================] - 0s 3ms/step - loss: 0.3462 - accuracy: 0.9433 - val_loss: 0.4728 - val_accuracy: 0.8095\n",
            "Epoch 49/90\n",
            "42/42 [==============================] - 0s 3ms/step - loss: 0.3481 - accuracy: 0.9500 - val_loss: 0.4526 - val_accuracy: 0.8095\n",
            "Epoch 50/90\n",
            "42/42 [==============================] - 0s 3ms/step - loss: 0.3690 - accuracy: 0.9245 - val_loss: 0.4511 - val_accuracy: 0.8095\n",
            "Epoch 51/90\n",
            "42/42 [==============================] - 0s 3ms/step - loss: 0.3919 - accuracy: 0.8925 - val_loss: 0.4718 - val_accuracy: 0.8095\n",
            "Epoch 52/90\n",
            "42/42 [==============================] - 0s 3ms/step - loss: 0.3682 - accuracy: 0.9011 - val_loss: 0.4630 - val_accuracy: 0.8095\n",
            "Epoch 53/90\n",
            "42/42 [==============================] - 0s 2ms/step - loss: 0.3684 - accuracy: 0.9127 - val_loss: 0.4586 - val_accuracy: 0.8095\n",
            "Epoch 54/90\n",
            "42/42 [==============================] - 0s 3ms/step - loss: 0.3645 - accuracy: 0.9004 - val_loss: 0.4546 - val_accuracy: 0.8095\n",
            "Epoch 55/90\n",
            "42/42 [==============================] - 0s 3ms/step - loss: 0.3405 - accuracy: 0.9228 - val_loss: 0.4491 - val_accuracy: 0.8095\n",
            "Epoch 56/90\n",
            "42/42 [==============================] - 0s 3ms/step - loss: 0.3848 - accuracy: 0.9157 - val_loss: 0.4473 - val_accuracy: 0.8095\n",
            "Epoch 57/90\n",
            "42/42 [==============================] - 0s 3ms/step - loss: 0.3412 - accuracy: 0.9321 - val_loss: 0.4340 - val_accuracy: 0.8095\n",
            "Epoch 58/90\n",
            "42/42 [==============================] - 0s 3ms/step - loss: 0.3630 - accuracy: 0.9312 - val_loss: 0.4361 - val_accuracy: 0.8095\n",
            "Epoch 59/90\n",
            "42/42 [==============================] - 0s 3ms/step - loss: 0.3522 - accuracy: 0.9350 - val_loss: 0.4310 - val_accuracy: 0.8095\n",
            "Epoch 60/90\n",
            "42/42 [==============================] - 0s 3ms/step - loss: 0.4064 - accuracy: 0.8894 - val_loss: 0.4435 - val_accuracy: 0.8095\n",
            "Epoch 61/90\n",
            "42/42 [==============================] - 0s 3ms/step - loss: 0.3742 - accuracy: 0.8946 - val_loss: 0.4378 - val_accuracy: 0.8095\n",
            "Epoch 62/90\n",
            "42/42 [==============================] - 0s 2ms/step - loss: 0.3651 - accuracy: 0.9215 - val_loss: 0.4193 - val_accuracy: 0.8095\n",
            "Epoch 63/90\n",
            "42/42 [==============================] - 0s 3ms/step - loss: 0.3342 - accuracy: 0.9470 - val_loss: 0.4326 - val_accuracy: 0.8095\n",
            "Epoch 64/90\n",
            "42/42 [==============================] - 0s 3ms/step - loss: 0.3154 - accuracy: 0.9227 - val_loss: 0.4377 - val_accuracy: 0.8095\n",
            "Epoch 65/90\n",
            "42/42 [==============================] - 0s 3ms/step - loss: 0.3449 - accuracy: 0.9254 - val_loss: 0.4378 - val_accuracy: 0.8095\n",
            "Epoch 66/90\n",
            "42/42 [==============================] - 0s 3ms/step - loss: 0.3553 - accuracy: 0.9138 - val_loss: 0.4327 - val_accuracy: 0.8095\n",
            "Epoch 67/90\n",
            "42/42 [==============================] - 0s 3ms/step - loss: 0.3251 - accuracy: 0.9328 - val_loss: 0.4290 - val_accuracy: 0.8095\n",
            "Epoch 68/90\n",
            "42/42 [==============================] - 0s 3ms/step - loss: 0.3659 - accuracy: 0.9207 - val_loss: 0.4317 - val_accuracy: 0.8095\n",
            "Epoch 69/90\n",
            "42/42 [==============================] - 0s 3ms/step - loss: 0.4132 - accuracy: 0.8828 - val_loss: 0.4224 - val_accuracy: 0.8095\n",
            "Epoch 70/90\n",
            "42/42 [==============================] - 0s 3ms/step - loss: 0.2809 - accuracy: 0.9478 - val_loss: 0.4230 - val_accuracy: 0.8095\n",
            "Epoch 71/90\n",
            "42/42 [==============================] - 0s 3ms/step - loss: 0.3236 - accuracy: 0.9116 - val_loss: 0.4343 - val_accuracy: 0.8095\n",
            "Epoch 72/90\n",
            "42/42 [==============================] - 0s 3ms/step - loss: 0.3073 - accuracy: 0.9570 - val_loss: 0.4346 - val_accuracy: 0.8095\n",
            "Epoch 73/90\n",
            "42/42 [==============================] - 0s 3ms/step - loss: 0.2688 - accuracy: 0.9658 - val_loss: 0.4285 - val_accuracy: 0.8095\n",
            "Epoch 74/90\n",
            "42/42 [==============================] - 0s 3ms/step - loss: 0.3451 - accuracy: 0.9303 - val_loss: 0.4255 - val_accuracy: 0.8095\n",
            "Epoch 75/90\n",
            "42/42 [==============================] - 0s 3ms/step - loss: 0.3549 - accuracy: 0.9180 - val_loss: 0.4161 - val_accuracy: 0.8095\n",
            "Epoch 76/90\n",
            "42/42 [==============================] - 0s 3ms/step - loss: 0.2916 - accuracy: 0.9579 - val_loss: 0.4170 - val_accuracy: 0.8095\n",
            "Epoch 77/90\n",
            "42/42 [==============================] - 0s 3ms/step - loss: 0.2664 - accuracy: 0.9463 - val_loss: 0.4042 - val_accuracy: 0.8333\n",
            "Epoch 78/90\n",
            "42/42 [==============================] - 0s 3ms/step - loss: 0.3156 - accuracy: 0.9250 - val_loss: 0.4119 - val_accuracy: 0.8333\n",
            "Epoch 79/90\n",
            "42/42 [==============================] - 0s 3ms/step - loss: 0.2861 - accuracy: 0.9348 - val_loss: 0.4040 - val_accuracy: 0.8095\n",
            "Epoch 80/90\n",
            "42/42 [==============================] - 0s 3ms/step - loss: 0.3644 - accuracy: 0.9034 - val_loss: 0.4232 - val_accuracy: 0.8095\n",
            "Epoch 81/90\n",
            "42/42 [==============================] - 0s 2ms/step - loss: 0.2699 - accuracy: 0.9441 - val_loss: 0.4208 - val_accuracy: 0.8095\n",
            "Epoch 82/90\n",
            "42/42 [==============================] - 0s 3ms/step - loss: 0.3690 - accuracy: 0.9202 - val_loss: 0.4266 - val_accuracy: 0.8095\n",
            "Epoch 83/90\n",
            "42/42 [==============================] - 0s 3ms/step - loss: 0.2638 - accuracy: 0.9570 - val_loss: 0.4127 - val_accuracy: 0.8095\n",
            "Epoch 84/90\n",
            "42/42 [==============================] - 0s 3ms/step - loss: 0.3129 - accuracy: 0.9144 - val_loss: 0.4214 - val_accuracy: 0.8095\n",
            "Epoch 85/90\n",
            "42/42 [==============================] - 0s 2ms/step - loss: 0.2768 - accuracy: 0.9653 - val_loss: 0.3959 - val_accuracy: 0.8095\n",
            "Epoch 86/90\n",
            "42/42 [==============================] - 0s 3ms/step - loss: 0.2987 - accuracy: 0.9612 - val_loss: 0.3880 - val_accuracy: 0.8095\n",
            "Epoch 87/90\n",
            "42/42 [==============================] - 0s 3ms/step - loss: 0.3384 - accuracy: 0.8898 - val_loss: 0.4042 - val_accuracy: 0.8095\n",
            "Epoch 88/90\n",
            "42/42 [==============================] - 0s 3ms/step - loss: 0.3104 - accuracy: 0.9198 - val_loss: 0.4125 - val_accuracy: 0.8095\n",
            "Epoch 89/90\n",
            "42/42 [==============================] - 0s 3ms/step - loss: 0.2657 - accuracy: 0.9342 - val_loss: 0.4155 - val_accuracy: 0.8095\n",
            "Epoch 90/90\n",
            "42/42 [==============================] - 0s 3ms/step - loss: 0.2758 - accuracy: 0.9614 - val_loss: 0.4221 - val_accuracy: 0.8095\n",
            "processing fold # 3\n",
            "Epoch 1/90\n",
            "42/42 [==============================] - 1s 8ms/step - loss: 1.2287 - accuracy: 0.4532 - val_loss: 1.1584 - val_accuracy: 0.5714\n",
            "Epoch 2/90\n",
            "42/42 [==============================] - 0s 3ms/step - loss: 1.1966 - accuracy: 0.5039 - val_loss: 1.0976 - val_accuracy: 0.7857\n",
            "Epoch 3/90\n",
            "42/42 [==============================] - 0s 3ms/step - loss: 1.0915 - accuracy: 0.6527 - val_loss: 1.0502 - val_accuracy: 0.8571\n",
            "Epoch 4/90\n",
            "42/42 [==============================] - 0s 3ms/step - loss: 1.1017 - accuracy: 0.6396 - val_loss: 1.0150 - val_accuracy: 0.8333\n",
            "Epoch 5/90\n",
            "42/42 [==============================] - 0s 3ms/step - loss: 1.0573 - accuracy: 0.5997 - val_loss: 0.9806 - val_accuracy: 0.9048\n",
            "Epoch 6/90\n",
            "42/42 [==============================] - 0s 2ms/step - loss: 1.0032 - accuracy: 0.7025 - val_loss: 0.9475 - val_accuracy: 0.9048\n",
            "Epoch 7/90\n",
            "42/42 [==============================] - 0s 3ms/step - loss: 0.9579 - accuracy: 0.8083 - val_loss: 0.9156 - val_accuracy: 0.8810\n",
            "Epoch 8/90\n",
            "42/42 [==============================] - 0s 3ms/step - loss: 0.9575 - accuracy: 0.7111 - val_loss: 0.8845 - val_accuracy: 0.9048\n",
            "Epoch 9/90\n",
            "42/42 [==============================] - 0s 3ms/step - loss: 0.8841 - accuracy: 0.7702 - val_loss: 0.8496 - val_accuracy: 0.9048\n",
            "Epoch 10/90\n",
            "42/42 [==============================] - 0s 3ms/step - loss: 0.9409 - accuracy: 0.7527 - val_loss: 0.8217 - val_accuracy: 0.8810\n",
            "Epoch 11/90\n",
            "42/42 [==============================] - 0s 3ms/step - loss: 0.8001 - accuracy: 0.8655 - val_loss: 0.7899 - val_accuracy: 0.9048\n",
            "Epoch 12/90\n",
            "42/42 [==============================] - 0s 3ms/step - loss: 0.8406 - accuracy: 0.8058 - val_loss: 0.7608 - val_accuracy: 0.9048\n",
            "Epoch 13/90\n",
            "42/42 [==============================] - 0s 3ms/step - loss: 0.7898 - accuracy: 0.8053 - val_loss: 0.7339 - val_accuracy: 0.8810\n",
            "Epoch 14/90\n",
            "42/42 [==============================] - 0s 3ms/step - loss: 0.8800 - accuracy: 0.7395 - val_loss: 0.7100 - val_accuracy: 0.8810\n",
            "Epoch 15/90\n",
            "42/42 [==============================] - 0s 3ms/step - loss: 0.7358 - accuracy: 0.8486 - val_loss: 0.6851 - val_accuracy: 0.8810\n",
            "Epoch 16/90\n",
            "42/42 [==============================] - 0s 3ms/step - loss: 0.7472 - accuracy: 0.8390 - val_loss: 0.6657 - val_accuracy: 0.8810\n",
            "Epoch 17/90\n",
            "42/42 [==============================] - 0s 3ms/step - loss: 0.7275 - accuracy: 0.8563 - val_loss: 0.6387 - val_accuracy: 0.8810\n",
            "Epoch 18/90\n",
            "42/42 [==============================] - 0s 3ms/step - loss: 0.6744 - accuracy: 0.8718 - val_loss: 0.6197 - val_accuracy: 0.9048\n",
            "Epoch 19/90\n",
            "42/42 [==============================] - 0s 3ms/step - loss: 0.7048 - accuracy: 0.8302 - val_loss: 0.6066 - val_accuracy: 0.8810\n",
            "Epoch 20/90\n",
            "42/42 [==============================] - 0s 3ms/step - loss: 0.6276 - accuracy: 0.8587 - val_loss: 0.5857 - val_accuracy: 0.9048\n",
            "Epoch 21/90\n",
            "42/42 [==============================] - 0s 3ms/step - loss: 0.6797 - accuracy: 0.8041 - val_loss: 0.5711 - val_accuracy: 0.9286\n",
            "Epoch 22/90\n",
            "42/42 [==============================] - 0s 3ms/step - loss: 0.6166 - accuracy: 0.8834 - val_loss: 0.5496 - val_accuracy: 0.9524\n",
            "Epoch 23/90\n",
            "42/42 [==============================] - 0s 3ms/step - loss: 0.6286 - accuracy: 0.8308 - val_loss: 0.5364 - val_accuracy: 0.9286\n",
            "Epoch 24/90\n",
            "42/42 [==============================] - 0s 3ms/step - loss: 0.5841 - accuracy: 0.8539 - val_loss: 0.5242 - val_accuracy: 0.9286\n",
            "Epoch 25/90\n",
            "42/42 [==============================] - 0s 3ms/step - loss: 0.5582 - accuracy: 0.8653 - val_loss: 0.5075 - val_accuracy: 0.9286\n",
            "Epoch 26/90\n",
            "42/42 [==============================] - 0s 4ms/step - loss: 0.5854 - accuracy: 0.8313 - val_loss: 0.4892 - val_accuracy: 0.9524\n",
            "Epoch 27/90\n",
            "42/42 [==============================] - 0s 3ms/step - loss: 0.5060 - accuracy: 0.8914 - val_loss: 0.4769 - val_accuracy: 0.9524\n",
            "Epoch 28/90\n",
            "42/42 [==============================] - 0s 3ms/step - loss: 0.5554 - accuracy: 0.8225 - val_loss: 0.4589 - val_accuracy: 0.9524\n",
            "Epoch 29/90\n",
            "42/42 [==============================] - 0s 3ms/step - loss: 0.5773 - accuracy: 0.8149 - val_loss: 0.4504 - val_accuracy: 0.9524\n",
            "Epoch 30/90\n",
            "42/42 [==============================] - 0s 3ms/step - loss: 0.4989 - accuracy: 0.8959 - val_loss: 0.4404 - val_accuracy: 0.9524\n",
            "Epoch 31/90\n",
            "42/42 [==============================] - 0s 3ms/step - loss: 0.5163 - accuracy: 0.8908 - val_loss: 0.4353 - val_accuracy: 0.9524\n",
            "Epoch 32/90\n",
            "42/42 [==============================] - 0s 3ms/step - loss: 0.5584 - accuracy: 0.8733 - val_loss: 0.4295 - val_accuracy: 0.9524\n",
            "Epoch 33/90\n",
            "42/42 [==============================] - 0s 3ms/step - loss: 0.4769 - accuracy: 0.9004 - val_loss: 0.4300 - val_accuracy: 0.9524\n",
            "Epoch 34/90\n",
            "42/42 [==============================] - 0s 3ms/step - loss: 0.5976 - accuracy: 0.7866 - val_loss: 0.4190 - val_accuracy: 0.9524\n",
            "Epoch 35/90\n",
            "42/42 [==============================] - 0s 3ms/step - loss: 0.4488 - accuracy: 0.8992 - val_loss: 0.4180 - val_accuracy: 0.9524\n",
            "Epoch 36/90\n",
            "42/42 [==============================] - 0s 3ms/step - loss: 0.5139 - accuracy: 0.8504 - val_loss: 0.4119 - val_accuracy: 0.9524\n",
            "Epoch 37/90\n",
            "42/42 [==============================] - 0s 3ms/step - loss: 0.4948 - accuracy: 0.8496 - val_loss: 0.4046 - val_accuracy: 0.9762\n",
            "Epoch 38/90\n",
            "42/42 [==============================] - 0s 3ms/step - loss: 0.4484 - accuracy: 0.8927 - val_loss: 0.3950 - val_accuracy: 0.9524\n",
            "Epoch 39/90\n",
            "42/42 [==============================] - 0s 3ms/step - loss: 0.4555 - accuracy: 0.9013 - val_loss: 0.3862 - val_accuracy: 0.9524\n",
            "Epoch 40/90\n",
            "42/42 [==============================] - 0s 3ms/step - loss: 0.4808 - accuracy: 0.8834 - val_loss: 0.3831 - val_accuracy: 0.9524\n",
            "Epoch 41/90\n",
            "42/42 [==============================] - 0s 3ms/step - loss: 0.4085 - accuracy: 0.9152 - val_loss: 0.3858 - val_accuracy: 0.9524\n",
            "Epoch 42/90\n",
            "42/42 [==============================] - 0s 3ms/step - loss: 0.4178 - accuracy: 0.8887 - val_loss: 0.3769 - val_accuracy: 0.9762\n",
            "Epoch 43/90\n",
            "42/42 [==============================] - 0s 3ms/step - loss: 0.3914 - accuracy: 0.9229 - val_loss: 0.3755 - val_accuracy: 0.9524\n",
            "Epoch 44/90\n",
            "42/42 [==============================] - 0s 3ms/step - loss: 0.4903 - accuracy: 0.8792 - val_loss: 0.3713 - val_accuracy: 0.9524\n",
            "Epoch 45/90\n",
            "42/42 [==============================] - 0s 3ms/step - loss: 0.4174 - accuracy: 0.9226 - val_loss: 0.3743 - val_accuracy: 0.9762\n",
            "Epoch 46/90\n",
            "42/42 [==============================] - 0s 3ms/step - loss: 0.4165 - accuracy: 0.9104 - val_loss: 0.3725 - val_accuracy: 0.9762\n",
            "Epoch 47/90\n",
            "42/42 [==============================] - 0s 3ms/step - loss: 0.4299 - accuracy: 0.8945 - val_loss: 0.3607 - val_accuracy: 0.9524\n",
            "Epoch 48/90\n",
            "42/42 [==============================] - 0s 3ms/step - loss: 0.3734 - accuracy: 0.8944 - val_loss: 0.3447 - val_accuracy: 0.9524\n",
            "Epoch 49/90\n",
            "42/42 [==============================] - 0s 3ms/step - loss: 0.4337 - accuracy: 0.8747 - val_loss: 0.3457 - val_accuracy: 0.9762\n",
            "Epoch 50/90\n",
            "42/42 [==============================] - 0s 3ms/step - loss: 0.4132 - accuracy: 0.8901 - val_loss: 0.3439 - val_accuracy: 0.9762\n",
            "Epoch 51/90\n",
            "42/42 [==============================] - 0s 3ms/step - loss: 0.3588 - accuracy: 0.9494 - val_loss: 0.3405 - val_accuracy: 0.9762\n",
            "Epoch 52/90\n",
            "42/42 [==============================] - 0s 3ms/step - loss: 0.4119 - accuracy: 0.9119 - val_loss: 0.3407 - val_accuracy: 0.9762\n",
            "Epoch 53/90\n",
            "42/42 [==============================] - 0s 3ms/step - loss: 0.3740 - accuracy: 0.8966 - val_loss: 0.3315 - val_accuracy: 0.9762\n",
            "Epoch 54/90\n",
            "42/42 [==============================] - 0s 3ms/step - loss: 0.4131 - accuracy: 0.9044 - val_loss: 0.3351 - val_accuracy: 0.9762\n",
            "Epoch 55/90\n",
            "42/42 [==============================] - 0s 3ms/step - loss: 0.3524 - accuracy: 0.9174 - val_loss: 0.3374 - val_accuracy: 0.9762\n",
            "Epoch 56/90\n",
            "42/42 [==============================] - 0s 2ms/step - loss: 0.4110 - accuracy: 0.8964 - val_loss: 0.3421 - val_accuracy: 0.9762\n",
            "Epoch 57/90\n",
            "42/42 [==============================] - 0s 3ms/step - loss: 0.3640 - accuracy: 0.8889 - val_loss: 0.3370 - val_accuracy: 0.9762\n",
            "Epoch 58/90\n",
            "42/42 [==============================] - 0s 3ms/step - loss: 0.3254 - accuracy: 0.9582 - val_loss: 0.3255 - val_accuracy: 0.9762\n",
            "Epoch 59/90\n",
            "42/42 [==============================] - 0s 3ms/step - loss: 0.3797 - accuracy: 0.9242 - val_loss: 0.3319 - val_accuracy: 0.9762\n",
            "Epoch 60/90\n",
            "42/42 [==============================] - 0s 3ms/step - loss: 0.3380 - accuracy: 0.9259 - val_loss: 0.3296 - val_accuracy: 0.9762\n",
            "Epoch 61/90\n",
            "42/42 [==============================] - 0s 3ms/step - loss: 0.3843 - accuracy: 0.9198 - val_loss: 0.3294 - val_accuracy: 0.9762\n",
            "Epoch 62/90\n",
            "42/42 [==============================] - 0s 3ms/step - loss: 0.2886 - accuracy: 0.9543 - val_loss: 0.3353 - val_accuracy: 0.9762\n",
            "Epoch 63/90\n",
            "42/42 [==============================] - 0s 3ms/step - loss: 0.3421 - accuracy: 0.9302 - val_loss: 0.3207 - val_accuracy: 0.9524\n",
            "Epoch 64/90\n",
            "42/42 [==============================] - 0s 3ms/step - loss: 0.3398 - accuracy: 0.9253 - val_loss: 0.3204 - val_accuracy: 0.9762\n",
            "Epoch 65/90\n",
            "42/42 [==============================] - 0s 3ms/step - loss: 0.3405 - accuracy: 0.9397 - val_loss: 0.3128 - val_accuracy: 0.9762\n",
            "Epoch 66/90\n",
            "42/42 [==============================] - 0s 3ms/step - loss: 0.3032 - accuracy: 0.9605 - val_loss: 0.3211 - val_accuracy: 0.9762\n",
            "Epoch 67/90\n",
            "42/42 [==============================] - 0s 3ms/step - loss: 0.3738 - accuracy: 0.9143 - val_loss: 0.3145 - val_accuracy: 0.9762\n",
            "Epoch 68/90\n",
            "42/42 [==============================] - 0s 3ms/step - loss: 0.3216 - accuracy: 0.9349 - val_loss: 0.3215 - val_accuracy: 0.9762\n",
            "Epoch 69/90\n",
            "42/42 [==============================] - 0s 3ms/step - loss: 0.3749 - accuracy: 0.9215 - val_loss: 0.3036 - val_accuracy: 0.9762\n",
            "Epoch 70/90\n",
            "42/42 [==============================] - 0s 3ms/step - loss: 0.2972 - accuracy: 0.9548 - val_loss: 0.3030 - val_accuracy: 0.9762\n",
            "Epoch 71/90\n",
            "42/42 [==============================] - 0s 3ms/step - loss: 0.3244 - accuracy: 0.9390 - val_loss: 0.2958 - val_accuracy: 0.9762\n",
            "Epoch 72/90\n",
            "42/42 [==============================] - 0s 3ms/step - loss: 0.3044 - accuracy: 0.9332 - val_loss: 0.2923 - val_accuracy: 0.9762\n",
            "Epoch 73/90\n",
            "42/42 [==============================] - 0s 3ms/step - loss: 0.2630 - accuracy: 0.9794 - val_loss: 0.2875 - val_accuracy: 0.9762\n",
            "Epoch 74/90\n",
            "42/42 [==============================] - 0s 3ms/step - loss: 0.2992 - accuracy: 0.9553 - val_loss: 0.2975 - val_accuracy: 0.9762\n",
            "Epoch 75/90\n",
            "42/42 [==============================] - 0s 3ms/step - loss: 0.3309 - accuracy: 0.9441 - val_loss: 0.2929 - val_accuracy: 0.9762\n",
            "Epoch 76/90\n",
            "42/42 [==============================] - 0s 3ms/step - loss: 0.3833 - accuracy: 0.9203 - val_loss: 0.2942 - val_accuracy: 0.9762\n",
            "Epoch 77/90\n",
            "42/42 [==============================] - 0s 3ms/step - loss: 0.3423 - accuracy: 0.9323 - val_loss: 0.2924 - val_accuracy: 0.9762\n",
            "Epoch 78/90\n",
            "42/42 [==============================] - 0s 3ms/step - loss: 0.3444 - accuracy: 0.9147 - val_loss: 0.2942 - val_accuracy: 0.9762\n",
            "Epoch 79/90\n",
            "42/42 [==============================] - 0s 3ms/step - loss: 0.3042 - accuracy: 0.9293 - val_loss: 0.2845 - val_accuracy: 0.9762\n",
            "Epoch 80/90\n",
            "42/42 [==============================] - 0s 3ms/step - loss: 0.2968 - accuracy: 0.9514 - val_loss: 0.2884 - val_accuracy: 0.9762\n",
            "Epoch 81/90\n",
            "42/42 [==============================] - 0s 3ms/step - loss: 0.2853 - accuracy: 0.9670 - val_loss: 0.2801 - val_accuracy: 0.9762\n",
            "Epoch 82/90\n",
            "42/42 [==============================] - 0s 3ms/step - loss: 0.2878 - accuracy: 0.9490 - val_loss: 0.2710 - val_accuracy: 0.9762\n",
            "Epoch 83/90\n",
            "42/42 [==============================] - 0s 3ms/step - loss: 0.3295 - accuracy: 0.9205 - val_loss: 0.2752 - val_accuracy: 0.9762\n",
            "Epoch 84/90\n",
            "42/42 [==============================] - 0s 3ms/step - loss: 0.3989 - accuracy: 0.8896 - val_loss: 0.2749 - val_accuracy: 0.9762\n",
            "Epoch 85/90\n",
            "42/42 [==============================] - 0s 3ms/step - loss: 0.2942 - accuracy: 0.9475 - val_loss: 0.2880 - val_accuracy: 0.9524\n",
            "Epoch 86/90\n",
            "42/42 [==============================] - 0s 3ms/step - loss: 0.3837 - accuracy: 0.8938 - val_loss: 0.2873 - val_accuracy: 0.9524\n",
            "Epoch 87/90\n",
            "42/42 [==============================] - 0s 3ms/step - loss: 0.3171 - accuracy: 0.9318 - val_loss: 0.2883 - val_accuracy: 0.9524\n",
            "Epoch 88/90\n",
            "42/42 [==============================] - 0s 3ms/step - loss: 0.2533 - accuracy: 0.9668 - val_loss: 0.2795 - val_accuracy: 0.9524\n",
            "Epoch 89/90\n",
            "42/42 [==============================] - 0s 3ms/step - loss: 0.2940 - accuracy: 0.9494 - val_loss: 0.2887 - val_accuracy: 0.9524\n",
            "Epoch 90/90\n",
            "42/42 [==============================] - 0s 3ms/step - loss: 0.2709 - accuracy: 0.9569 - val_loss: 0.2880 - val_accuracy: 0.9524\n",
            "processing fold # 4\n",
            "Epoch 1/90\n",
            "42/42 [==============================] - 1s 8ms/step - loss: 1.2165 - accuracy: 0.3179 - val_loss: 1.0564 - val_accuracy: 0.6905\n",
            "Epoch 2/90\n",
            "42/42 [==============================] - 0s 3ms/step - loss: 1.0893 - accuracy: 0.5663 - val_loss: 1.0129 - val_accuracy: 0.7619\n",
            "Epoch 3/90\n",
            "42/42 [==============================] - 0s 3ms/step - loss: 1.0372 - accuracy: 0.7043 - val_loss: 0.9735 - val_accuracy: 0.7619\n",
            "Epoch 4/90\n",
            "42/42 [==============================] - 0s 2ms/step - loss: 1.0895 - accuracy: 0.6198 - val_loss: 0.9413 - val_accuracy: 0.7857\n",
            "Epoch 5/90\n",
            "42/42 [==============================] - 0s 3ms/step - loss: 0.9711 - accuracy: 0.7988 - val_loss: 0.9016 - val_accuracy: 0.7857\n",
            "Epoch 6/90\n",
            "42/42 [==============================] - 0s 3ms/step - loss: 0.8647 - accuracy: 0.8584 - val_loss: 0.8622 - val_accuracy: 0.7857\n",
            "Epoch 7/90\n",
            "42/42 [==============================] - 0s 2ms/step - loss: 0.8923 - accuracy: 0.7838 - val_loss: 0.8276 - val_accuracy: 0.7857\n",
            "Epoch 8/90\n",
            "42/42 [==============================] - 0s 3ms/step - loss: 0.8652 - accuracy: 0.8296 - val_loss: 0.8049 - val_accuracy: 0.7857\n",
            "Epoch 9/90\n",
            "42/42 [==============================] - 0s 2ms/step - loss: 0.8265 - accuracy: 0.8065 - val_loss: 0.7712 - val_accuracy: 0.7857\n",
            "Epoch 10/90\n",
            "42/42 [==============================] - 0s 2ms/step - loss: 0.8148 - accuracy: 0.8510 - val_loss: 0.7465 - val_accuracy: 0.7857\n",
            "Epoch 11/90\n",
            "42/42 [==============================] - 0s 3ms/step - loss: 0.7202 - accuracy: 0.8680 - val_loss: 0.7257 - val_accuracy: 0.8095\n",
            "Epoch 12/90\n",
            "42/42 [==============================] - 0s 3ms/step - loss: 0.7459 - accuracy: 0.8275 - val_loss: 0.7139 - val_accuracy: 0.8095\n",
            "Epoch 13/90\n",
            "42/42 [==============================] - 0s 3ms/step - loss: 0.7784 - accuracy: 0.8264 - val_loss: 0.7020 - val_accuracy: 0.8095\n",
            "Epoch 14/90\n",
            "42/42 [==============================] - 0s 3ms/step - loss: 0.7373 - accuracy: 0.8511 - val_loss: 0.6892 - val_accuracy: 0.8333\n",
            "Epoch 15/90\n",
            "42/42 [==============================] - 0s 3ms/step - loss: 0.7018 - accuracy: 0.8443 - val_loss: 0.6811 - val_accuracy: 0.8333\n",
            "Epoch 16/90\n",
            "42/42 [==============================] - 0s 3ms/step - loss: 0.6007 - accuracy: 0.9134 - val_loss: 0.6701 - val_accuracy: 0.8333\n",
            "Epoch 17/90\n",
            "42/42 [==============================] - 0s 2ms/step - loss: 0.6466 - accuracy: 0.8599 - val_loss: 0.6657 - val_accuracy: 0.8333\n",
            "Epoch 18/90\n",
            "42/42 [==============================] - 0s 2ms/step - loss: 0.6728 - accuracy: 0.8739 - val_loss: 0.6484 - val_accuracy: 0.8571\n",
            "Epoch 19/90\n",
            "42/42 [==============================] - 0s 3ms/step - loss: 0.6232 - accuracy: 0.9031 - val_loss: 0.6383 - val_accuracy: 0.8571\n",
            "Epoch 20/90\n",
            "42/42 [==============================] - 0s 3ms/step - loss: 0.6135 - accuracy: 0.8244 - val_loss: 0.6280 - val_accuracy: 0.8571\n",
            "Epoch 21/90\n",
            "42/42 [==============================] - 0s 3ms/step - loss: 0.6260 - accuracy: 0.8837 - val_loss: 0.6093 - val_accuracy: 0.8571\n",
            "Epoch 22/90\n",
            "42/42 [==============================] - 0s 3ms/step - loss: 0.6434 - accuracy: 0.8300 - val_loss: 0.6045 - val_accuracy: 0.8333\n",
            "Epoch 23/90\n",
            "42/42 [==============================] - 0s 3ms/step - loss: 0.4929 - accuracy: 0.9017 - val_loss: 0.6038 - val_accuracy: 0.8333\n",
            "Epoch 24/90\n",
            "42/42 [==============================] - 0s 3ms/step - loss: 0.5012 - accuracy: 0.9030 - val_loss: 0.6077 - val_accuracy: 0.8333\n",
            "Epoch 25/90\n",
            "42/42 [==============================] - 0s 3ms/step - loss: 0.5325 - accuracy: 0.8692 - val_loss: 0.5964 - val_accuracy: 0.8571\n",
            "Epoch 26/90\n",
            "42/42 [==============================] - 0s 3ms/step - loss: 0.5397 - accuracy: 0.8574 - val_loss: 0.5797 - val_accuracy: 0.8571\n",
            "Epoch 27/90\n",
            "42/42 [==============================] - 0s 3ms/step - loss: 0.4977 - accuracy: 0.9197 - val_loss: 0.5704 - val_accuracy: 0.8571\n",
            "Epoch 28/90\n",
            "42/42 [==============================] - 0s 3ms/step - loss: 0.4509 - accuracy: 0.9313 - val_loss: 0.5630 - val_accuracy: 0.8810\n",
            "Epoch 29/90\n",
            "42/42 [==============================] - 0s 3ms/step - loss: 0.4293 - accuracy: 0.9239 - val_loss: 0.5659 - val_accuracy: 0.8571\n",
            "Epoch 30/90\n",
            "42/42 [==============================] - 0s 3ms/step - loss: 0.5295 - accuracy: 0.8849 - val_loss: 0.5617 - val_accuracy: 0.8571\n",
            "Epoch 31/90\n",
            "42/42 [==============================] - 0s 3ms/step - loss: 0.4411 - accuracy: 0.9405 - val_loss: 0.5583 - val_accuracy: 0.8571\n",
            "Epoch 32/90\n",
            "42/42 [==============================] - 0s 3ms/step - loss: 0.4393 - accuracy: 0.9045 - val_loss: 0.5435 - val_accuracy: 0.8810\n",
            "Epoch 33/90\n",
            "42/42 [==============================] - 0s 3ms/step - loss: 0.4379 - accuracy: 0.9230 - val_loss: 0.5462 - val_accuracy: 0.8571\n",
            "Epoch 34/90\n",
            "42/42 [==============================] - 0s 3ms/step - loss: 0.4522 - accuracy: 0.9187 - val_loss: 0.5464 - val_accuracy: 0.8810\n",
            "Epoch 35/90\n",
            "42/42 [==============================] - 0s 3ms/step - loss: 0.3721 - accuracy: 0.9423 - val_loss: 0.5358 - val_accuracy: 0.8810\n",
            "Epoch 36/90\n",
            "42/42 [==============================] - 0s 3ms/step - loss: 0.4663 - accuracy: 0.8971 - val_loss: 0.5266 - val_accuracy: 0.8810\n",
            "Epoch 37/90\n",
            "42/42 [==============================] - 0s 3ms/step - loss: 0.4504 - accuracy: 0.8968 - val_loss: 0.5265 - val_accuracy: 0.8810\n",
            "Epoch 38/90\n",
            "42/42 [==============================] - 0s 3ms/step - loss: 0.4046 - accuracy: 0.9242 - val_loss: 0.5202 - val_accuracy: 0.8810\n",
            "Epoch 39/90\n",
            "42/42 [==============================] - 0s 3ms/step - loss: 0.4741 - accuracy: 0.8946 - val_loss: 0.5289 - val_accuracy: 0.8810\n",
            "Epoch 40/90\n",
            "42/42 [==============================] - 0s 3ms/step - loss: 0.4140 - accuracy: 0.9203 - val_loss: 0.5329 - val_accuracy: 0.8810\n",
            "Epoch 41/90\n",
            "42/42 [==============================] - 0s 3ms/step - loss: 0.4263 - accuracy: 0.9221 - val_loss: 0.5219 - val_accuracy: 0.8810\n",
            "Epoch 42/90\n",
            "42/42 [==============================] - 0s 3ms/step - loss: 0.4244 - accuracy: 0.9045 - val_loss: 0.5197 - val_accuracy: 0.8810\n",
            "Epoch 43/90\n",
            "42/42 [==============================] - 0s 3ms/step - loss: 0.3676 - accuracy: 0.9285 - val_loss: 0.5330 - val_accuracy: 0.8571\n",
            "Epoch 44/90\n",
            "42/42 [==============================] - 0s 3ms/step - loss: 0.4433 - accuracy: 0.9224 - val_loss: 0.5240 - val_accuracy: 0.8571\n",
            "Epoch 45/90\n",
            "42/42 [==============================] - 0s 3ms/step - loss: 0.4076 - accuracy: 0.9288 - val_loss: 0.5148 - val_accuracy: 0.8571\n",
            "Epoch 46/90\n",
            "42/42 [==============================] - 0s 3ms/step - loss: 0.3799 - accuracy: 0.9320 - val_loss: 0.4963 - val_accuracy: 0.8810\n",
            "Epoch 47/90\n",
            "42/42 [==============================] - 0s 3ms/step - loss: 0.3551 - accuracy: 0.9326 - val_loss: 0.4851 - val_accuracy: 0.8810\n",
            "Epoch 48/90\n",
            "42/42 [==============================] - 0s 3ms/step - loss: 0.3610 - accuracy: 0.9198 - val_loss: 0.4934 - val_accuracy: 0.8810\n",
            "Epoch 49/90\n",
            "42/42 [==============================] - 0s 3ms/step - loss: 0.3837 - accuracy: 0.9268 - val_loss: 0.4965 - val_accuracy: 0.8810\n",
            "Epoch 50/90\n",
            "42/42 [==============================] - 0s 3ms/step - loss: 0.3387 - accuracy: 0.9549 - val_loss: 0.5065 - val_accuracy: 0.8571\n",
            "Epoch 51/90\n",
            "42/42 [==============================] - 0s 3ms/step - loss: 0.3267 - accuracy: 0.9502 - val_loss: 0.5008 - val_accuracy: 0.8810\n",
            "Epoch 52/90\n",
            "42/42 [==============================] - 0s 3ms/step - loss: 0.3013 - accuracy: 0.9641 - val_loss: 0.4879 - val_accuracy: 0.8810\n",
            "Epoch 53/90\n",
            "42/42 [==============================] - 0s 3ms/step - loss: 0.4450 - accuracy: 0.8626 - val_loss: 0.4968 - val_accuracy: 0.8810\n",
            "Epoch 54/90\n",
            "42/42 [==============================] - 0s 3ms/step - loss: 0.4209 - accuracy: 0.8840 - val_loss: 0.5038 - val_accuracy: 0.8571\n",
            "Epoch 55/90\n",
            "42/42 [==============================] - 0s 3ms/step - loss: 0.4031 - accuracy: 0.9206 - val_loss: 0.5085 - val_accuracy: 0.8571\n",
            "Epoch 56/90\n",
            "42/42 [==============================] - 0s 3ms/step - loss: 0.3524 - accuracy: 0.9303 - val_loss: 0.5139 - val_accuracy: 0.8333\n",
            "Epoch 57/90\n",
            "42/42 [==============================] - 0s 3ms/step - loss: 0.3309 - accuracy: 0.9446 - val_loss: 0.5095 - val_accuracy: 0.8571\n",
            "Epoch 58/90\n",
            "42/42 [==============================] - 0s 3ms/step - loss: 0.2626 - accuracy: 0.9738 - val_loss: 0.5034 - val_accuracy: 0.8571\n",
            "Epoch 59/90\n",
            "42/42 [==============================] - 0s 3ms/step - loss: 0.3831 - accuracy: 0.8828 - val_loss: 0.5036 - val_accuracy: 0.8571\n",
            "Epoch 60/90\n",
            "42/42 [==============================] - 0s 3ms/step - loss: 0.3000 - accuracy: 0.9456 - val_loss: 0.5012 - val_accuracy: 0.8571\n",
            "Epoch 61/90\n",
            "42/42 [==============================] - 0s 3ms/step - loss: 0.3250 - accuracy: 0.9325 - val_loss: 0.5093 - val_accuracy: 0.8571\n",
            "Epoch 62/90\n",
            "42/42 [==============================] - 0s 3ms/step - loss: 0.3048 - accuracy: 0.9595 - val_loss: 0.5271 - val_accuracy: 0.8571\n",
            "Epoch 63/90\n",
            "42/42 [==============================] - 0s 3ms/step - loss: 0.3669 - accuracy: 0.9112 - val_loss: 0.5049 - val_accuracy: 0.8571\n",
            "Epoch 64/90\n",
            "42/42 [==============================] - 0s 3ms/step - loss: 0.2799 - accuracy: 0.9632 - val_loss: 0.5289 - val_accuracy: 0.8810\n",
            "Epoch 65/90\n",
            "42/42 [==============================] - 0s 3ms/step - loss: 0.3569 - accuracy: 0.9265 - val_loss: 0.5188 - val_accuracy: 0.8571\n",
            "Epoch 66/90\n",
            "42/42 [==============================] - 0s 3ms/step - loss: 0.2636 - accuracy: 0.9630 - val_loss: 0.5135 - val_accuracy: 0.8571\n",
            "Epoch 67/90\n",
            "42/42 [==============================] - 0s 3ms/step - loss: 0.3179 - accuracy: 0.9309 - val_loss: 0.5371 - val_accuracy: 0.8810\n",
            "Epoch 68/90\n",
            "42/42 [==============================] - 0s 3ms/step - loss: 0.3306 - accuracy: 0.9059 - val_loss: 0.5306 - val_accuracy: 0.8810\n",
            "Epoch 69/90\n",
            "42/42 [==============================] - 0s 3ms/step - loss: 0.3278 - accuracy: 0.8971 - val_loss: 0.5373 - val_accuracy: 0.8810\n",
            "Epoch 70/90\n",
            "42/42 [==============================] - 0s 3ms/step - loss: 0.3422 - accuracy: 0.9232 - val_loss: 0.5504 - val_accuracy: 0.8810\n",
            "Epoch 71/90\n",
            "42/42 [==============================] - 0s 3ms/step - loss: 0.3394 - accuracy: 0.9348 - val_loss: 0.5370 - val_accuracy: 0.8571\n",
            "Epoch 72/90\n",
            "42/42 [==============================] - 0s 3ms/step - loss: 0.2755 - accuracy: 0.9444 - val_loss: 0.5605 - val_accuracy: 0.8571\n",
            "Epoch 73/90\n",
            "42/42 [==============================] - 0s 3ms/step - loss: 0.3386 - accuracy: 0.9382 - val_loss: 0.5660 - val_accuracy: 0.8571\n",
            "Epoch 74/90\n",
            "42/42 [==============================] - 0s 3ms/step - loss: 0.3251 - accuracy: 0.9305 - val_loss: 0.5654 - val_accuracy: 0.8571\n",
            "Epoch 75/90\n",
            "42/42 [==============================] - 0s 3ms/step - loss: 0.2891 - accuracy: 0.9584 - val_loss: 0.5492 - val_accuracy: 0.8571\n",
            "Epoch 76/90\n",
            "42/42 [==============================] - 0s 3ms/step - loss: 0.3018 - accuracy: 0.9369 - val_loss: 0.5569 - val_accuracy: 0.8571\n",
            "Epoch 77/90\n",
            "42/42 [==============================] - 0s 3ms/step - loss: 0.3437 - accuracy: 0.9048 - val_loss: 0.5537 - val_accuracy: 0.8571\n",
            "Epoch 78/90\n",
            "42/42 [==============================] - 0s 3ms/step - loss: 0.2853 - accuracy: 0.9253 - val_loss: 0.5623 - val_accuracy: 0.8810\n",
            "Epoch 79/90\n",
            "42/42 [==============================] - 0s 3ms/step - loss: 0.2742 - accuracy: 0.9390 - val_loss: 0.5599 - val_accuracy: 0.8810\n",
            "Epoch 80/90\n",
            "42/42 [==============================] - 0s 3ms/step - loss: 0.3079 - accuracy: 0.9366 - val_loss: 0.5672 - val_accuracy: 0.8333\n",
            "Epoch 81/90\n",
            "42/42 [==============================] - 0s 3ms/step - loss: 0.2449 - accuracy: 0.9690 - val_loss: 0.5898 - val_accuracy: 0.8333\n",
            "Epoch 82/90\n",
            "42/42 [==============================] - 0s 3ms/step - loss: 0.3293 - accuracy: 0.9232 - val_loss: 0.5847 - val_accuracy: 0.8333\n",
            "Epoch 83/90\n",
            "42/42 [==============================] - 0s 3ms/step - loss: 0.2692 - accuracy: 0.9505 - val_loss: 0.5771 - val_accuracy: 0.8333\n",
            "Epoch 84/90\n",
            "42/42 [==============================] - 0s 3ms/step - loss: 0.2541 - accuracy: 0.9606 - val_loss: 0.5948 - val_accuracy: 0.8333\n",
            "Epoch 85/90\n",
            "42/42 [==============================] - 0s 3ms/step - loss: 0.2688 - accuracy: 0.9517 - val_loss: 0.5830 - val_accuracy: 0.8333\n",
            "Epoch 86/90\n",
            "42/42 [==============================] - 0s 3ms/step - loss: 0.3719 - accuracy: 0.9292 - val_loss: 0.5766 - val_accuracy: 0.8333\n",
            "Epoch 87/90\n",
            "42/42 [==============================] - 0s 4ms/step - loss: 0.2593 - accuracy: 0.9600 - val_loss: 0.5847 - val_accuracy: 0.8333\n",
            "Epoch 88/90\n",
            "42/42 [==============================] - 0s 3ms/step - loss: 0.3001 - accuracy: 0.9271 - val_loss: 0.5935 - val_accuracy: 0.8571\n",
            "Epoch 89/90\n",
            "42/42 [==============================] - 0s 3ms/step - loss: 0.2499 - accuracy: 0.9685 - val_loss: 0.6078 - val_accuracy: 0.8571\n",
            "Epoch 90/90\n",
            "42/42 [==============================] - 0s 3ms/step - loss: 0.2538 - accuracy: 0.9472 - val_loss: 0.6094 - val_accuracy: 0.8333\n"
          ],
          "name": "stdout"
        },
        {
          "output_type": "execute_result",
          "data": {
            "text/plain": [
              "[0.9142857193946838,\n",
              " 0.9142857193946838,\n",
              " 0.8999999761581421,\n",
              " 0.9214285612106323,\n",
              " 0.9071428775787354]"
            ]
          },
          "metadata": {
            "tags": []
          },
          "execution_count": 428
        }
      ]
    },
    {
      "cell_type": "code",
      "metadata": {
        "colab": {
          "base_uri": "https://localhost:8080/",
          "height": 279
        },
        "id": "2pSjiDw6iUdv",
        "outputId": "a83639c6-de91-42d8-a31a-f095fe957050"
      },
      "source": [
        "plt.plot(range(1, len(ave_val_loss_hist)+1)[:], ave_val_loss_hist[:], \"bo\", label=\"Validation Loss\")\n",
        "plt.plot(range(1, len(ave_val_loss_hist)+1)[:], ave_loss_hist[:], \"b\", label=\"Training Loss\")\n",
        "plt.xlabel(\"Epochs\")\n",
        "plt.ylabel(\"Validation Loss\")\n",
        "plt.legend()\n",
        "plt.show()\n"
      ],
      "execution_count": 429,
      "outputs": [
        {
          "output_type": "display_data",
          "data": {
            "image/png": "[encoded data removed]",
            "text/plain": [
              "<Figure size 432x288 with 1 Axes>"
            ]
          },
          "metadata": {
            "tags": [],
            "needs_background": "light"
          }
        }
      ]
    },
    {
      "cell_type": "code",
      "metadata": {
        "colab": {
          "base_uri": "https://localhost:8080/",
          "height": 279
        },
        "id": "VShQoRrqulob",
        "outputId": "aa6cc11a-7045-4218-c778-21d0d02c922a"
      },
      "source": [
        "plt.plot(range(1, len(ave_val_acc_hist)+1)[:], ave_val_acc_hist[:], \"bo\", label=\"Validation Accuracy\")\n",
        "plt.plot(range(1, len(ave_val_acc_hist)+1)[:], ave_acc_hist[:], \"b\", label=\"Training Accuracy\")\n",
        "plt.xlabel(\"Epochs\")\n",
        "plt.ylabel(\"Validation Loss\")\n",
        "plt.legend()\n",
        "plt.show()"
      ],
      "execution_count": 430,
      "outputs": [
        {
          "output_type": "display_data",
          "data": {
            "image/png": "[encoded data removed]",
            "text/plain": [
              "<Figure size 432x288 with 1 Axes>"
            ]
          },
          "metadata": {
            "tags": [],
            "needs_background": "light"
          }
        }
      ]
    },
    {
      "cell_type": "markdown",
      "metadata": {
        "id": "BjRl3WP_6j6A"
      },
      "source": [
        "**Rebuilding the best fit Model**"
      ]
    },
    {
      "cell_type": "code",
      "metadata": {
        "id": "fjRAT2jrbDHA"
      },
      "source": [
        "model=models.Sequential()\n",
        "model.add(layers.Dense(16,kernel_regularizer=regularizers.l1_l2(l1=.002, l2=0.004) , activation=\"relu\", input_shape=(train_data.shape[1],)))\n",
        "model.add(layers.Dropout(.5))\n",
        "model.add(layers.Dense(16, kernel_regularizer=regularizers.l1_l2(l1=.002, l2=0.004), activation = \"relu\" ))\n",
        "model.add(layers.Dropout(.3))\n",
        "model.add(layers.Dense(1, activation=\"sigmoid\"))\n",
        "\n",
        "model.compile(optimizer=\"rmsprop\", loss = \"binary_crossentropy\", metrics=[\"accuracy\"])"
      ],
      "execution_count": 432,
      "outputs": []
    },
    {
      "cell_type": "markdown",
      "metadata": {
        "id": "ueZnXmec6wn_"
      },
      "source": [
        "**Training the model with all samples**"
      ]
    },
    {
      "cell_type": "code",
      "metadata": {
        "colab": {
          "base_uri": "https://localhost:8080/"
        },
        "id": "KAmbT8wk6xlO",
        "outputId": "32439a53-10bf-43b3-cad9-e4eeb75ac4c0"
      },
      "source": [
        "model.fit(train_data, train_labels, epochs=90, batch_size=4)"
      ],
      "execution_count": 433,
      "outputs": [
        {
          "output_type": "stream",
          "text": [
            "Epoch 1/90\n",
            "53/53 [==============================] - 1s 1ms/step - loss: 1.3465 - accuracy: 0.4438\n",
            "Epoch 2/90\n",
            "53/53 [==============================] - 0s 1ms/step - loss: 1.1081 - accuracy: 0.6240\n",
            "Epoch 3/90\n",
            "53/53 [==============================] - 0s 1ms/step - loss: 1.1081 - accuracy: 0.6013\n",
            "Epoch 4/90\n",
            "53/53 [==============================] - 0s 1ms/step - loss: 0.9903 - accuracy: 0.6882\n",
            "Epoch 5/90\n",
            "53/53 [==============================] - 0s 1ms/step - loss: 1.0409 - accuracy: 0.6766\n",
            "Epoch 6/90\n",
            "53/53 [==============================] - 0s 1ms/step - loss: 1.0148 - accuracy: 0.7004\n",
            "Epoch 7/90\n",
            "53/53 [==============================] - 0s 1ms/step - loss: 1.0340 - accuracy: 0.6747\n",
            "Epoch 8/90\n",
            "53/53 [==============================] - 0s 1ms/step - loss: 0.9278 - accuracy: 0.7132\n",
            "Epoch 9/90\n",
            "53/53 [==============================] - 0s 1ms/step - loss: 0.9103 - accuracy: 0.7364\n",
            "Epoch 10/90\n",
            "53/53 [==============================] - 0s 1ms/step - loss: 0.8394 - accuracy: 0.7880\n",
            "Epoch 11/90\n",
            "53/53 [==============================] - 0s 1ms/step - loss: 0.7871 - accuracy: 0.8449\n",
            "Epoch 12/90\n",
            "53/53 [==============================] - 0s 1ms/step - loss: 0.8072 - accuracy: 0.7848\n",
            "Epoch 13/90\n",
            "53/53 [==============================] - 0s 1ms/step - loss: 0.8150 - accuracy: 0.7843\n",
            "Epoch 14/90\n",
            "53/53 [==============================] - 0s 1ms/step - loss: 0.7705 - accuracy: 0.7915\n",
            "Epoch 15/90\n",
            "53/53 [==============================] - 0s 1ms/step - loss: 0.7299 - accuracy: 0.8292\n",
            "Epoch 16/90\n",
            "53/53 [==============================] - 0s 1ms/step - loss: 0.7407 - accuracy: 0.8324\n",
            "Epoch 17/90\n",
            "53/53 [==============================] - 0s 1ms/step - loss: 0.6587 - accuracy: 0.8663\n",
            "Epoch 18/90\n",
            "53/53 [==============================] - 0s 1ms/step - loss: 0.7394 - accuracy: 0.8200\n",
            "Epoch 19/90\n",
            "53/53 [==============================] - 0s 1ms/step - loss: 0.6398 - accuracy: 0.8397\n",
            "Epoch 20/90\n",
            "53/53 [==============================] - 0s 1ms/step - loss: 0.6483 - accuracy: 0.8261\n",
            "Epoch 21/90\n",
            "53/53 [==============================] - 0s 1ms/step - loss: 0.6252 - accuracy: 0.8567\n",
            "Epoch 22/90\n",
            "53/53 [==============================] - 0s 1ms/step - loss: 0.5589 - accuracy: 0.8549\n",
            "Epoch 23/90\n",
            "53/53 [==============================] - 0s 1ms/step - loss: 0.6050 - accuracy: 0.8106\n",
            "Epoch 24/90\n",
            "53/53 [==============================] - 0s 1ms/step - loss: 0.5277 - accuracy: 0.8906\n",
            "Epoch 25/90\n",
            "53/53 [==============================] - 0s 1ms/step - loss: 0.6678 - accuracy: 0.8280\n",
            "Epoch 26/90\n",
            "53/53 [==============================] - 0s 1ms/step - loss: 0.6188 - accuracy: 0.8616\n",
            "Epoch 27/90\n",
            "53/53 [==============================] - 0s 1ms/step - loss: 0.5553 - accuracy: 0.8766\n",
            "Epoch 28/90\n",
            "53/53 [==============================] - 0s 1ms/step - loss: 0.5406 - accuracy: 0.8360\n",
            "Epoch 29/90\n",
            "53/53 [==============================] - 0s 1ms/step - loss: 0.5610 - accuracy: 0.8717\n",
            "Epoch 30/90\n",
            "53/53 [==============================] - 0s 1ms/step - loss: 0.4766 - accuracy: 0.8932\n",
            "Epoch 31/90\n",
            "53/53 [==============================] - 0s 1ms/step - loss: 0.5480 - accuracy: 0.8566\n",
            "Epoch 32/90\n",
            "53/53 [==============================] - 0s 1ms/step - loss: 0.5023 - accuracy: 0.8961\n",
            "Epoch 33/90\n",
            "53/53 [==============================] - 0s 1ms/step - loss: 0.4789 - accuracy: 0.8927\n",
            "Epoch 34/90\n",
            "53/53 [==============================] - 0s 2ms/step - loss: 0.4836 - accuracy: 0.8893\n",
            "Epoch 35/90\n",
            "53/53 [==============================] - 0s 2ms/step - loss: 0.4716 - accuracy: 0.9039\n",
            "Epoch 36/90\n",
            "53/53 [==============================] - 0s 1ms/step - loss: 0.4624 - accuracy: 0.8584\n",
            "Epoch 37/90\n",
            "53/53 [==============================] - 0s 1ms/step - loss: 0.4736 - accuracy: 0.9103\n",
            "Epoch 38/90\n",
            "53/53 [==============================] - 0s 1ms/step - loss: 0.4274 - accuracy: 0.9036\n",
            "Epoch 39/90\n",
            "53/53 [==============================] - 0s 1ms/step - loss: 0.4592 - accuracy: 0.9263\n",
            "Epoch 40/90\n",
            "53/53 [==============================] - 0s 1ms/step - loss: 0.4339 - accuracy: 0.8791\n",
            "Epoch 41/90\n",
            "53/53 [==============================] - 0s 1ms/step - loss: 0.5096 - accuracy: 0.8605\n",
            "Epoch 42/90\n",
            "53/53 [==============================] - 0s 1ms/step - loss: 0.4520 - accuracy: 0.9012\n",
            "Epoch 43/90\n",
            "53/53 [==============================] - 0s 1ms/step - loss: 0.4894 - accuracy: 0.8612\n",
            "Epoch 44/90\n",
            "53/53 [==============================] - 0s 1ms/step - loss: 0.3962 - accuracy: 0.9117\n",
            "Epoch 45/90\n",
            "53/53 [==============================] - 0s 1ms/step - loss: 0.4378 - accuracy: 0.9109\n",
            "Epoch 46/90\n",
            "53/53 [==============================] - 0s 1ms/step - loss: 0.3812 - accuracy: 0.9328\n",
            "Epoch 47/90\n",
            "53/53 [==============================] - 0s 1ms/step - loss: 0.3743 - accuracy: 0.9298\n",
            "Epoch 48/90\n",
            "53/53 [==============================] - 0s 1ms/step - loss: 0.4192 - accuracy: 0.9190\n",
            "Epoch 49/90\n",
            "53/53 [==============================] - 0s 1ms/step - loss: 0.5291 - accuracy: 0.8391\n",
            "Epoch 50/90\n",
            "53/53 [==============================] - 0s 1ms/step - loss: 0.3662 - accuracy: 0.9185\n",
            "Epoch 51/90\n",
            "53/53 [==============================] - 0s 1ms/step - loss: 0.3466 - accuracy: 0.9403\n",
            "Epoch 52/90\n",
            "53/53 [==============================] - 0s 1ms/step - loss: 0.3678 - accuracy: 0.9199\n",
            "Epoch 53/90\n",
            "53/53 [==============================] - 0s 1ms/step - loss: 0.3560 - accuracy: 0.9380\n",
            "Epoch 54/90\n",
            "53/53 [==============================] - 0s 1ms/step - loss: 0.3530 - accuracy: 0.9359\n",
            "Epoch 55/90\n",
            "53/53 [==============================] - 0s 1ms/step - loss: 0.3735 - accuracy: 0.9199\n",
            "Epoch 56/90\n",
            "53/53 [==============================] - 0s 1ms/step - loss: 0.3471 - accuracy: 0.9336\n",
            "Epoch 57/90\n",
            "53/53 [==============================] - 0s 1ms/step - loss: 0.3943 - accuracy: 0.8968\n",
            "Epoch 58/90\n",
            "53/53 [==============================] - 0s 1ms/step - loss: 0.3898 - accuracy: 0.9135\n",
            "Epoch 59/90\n",
            "53/53 [==============================] - 0s 1ms/step - loss: 0.4238 - accuracy: 0.8850\n",
            "Epoch 60/90\n",
            "53/53 [==============================] - 0s 1ms/step - loss: 0.3261 - accuracy: 0.9324\n",
            "Epoch 61/90\n",
            "53/53 [==============================] - 0s 1ms/step - loss: 0.3173 - accuracy: 0.9385\n",
            "Epoch 62/90\n",
            "53/53 [==============================] - 0s 1ms/step - loss: 0.3701 - accuracy: 0.9223\n",
            "Epoch 63/90\n",
            "53/53 [==============================] - 0s 1ms/step - loss: 0.3682 - accuracy: 0.9187\n",
            "Epoch 64/90\n",
            "53/53 [==============================] - 0s 1ms/step - loss: 0.3296 - accuracy: 0.9359\n",
            "Epoch 65/90\n",
            "53/53 [==============================] - 0s 1ms/step - loss: 0.3734 - accuracy: 0.9053\n",
            "Epoch 66/90\n",
            "53/53 [==============================] - 0s 1ms/step - loss: 0.4461 - accuracy: 0.8583\n",
            "Epoch 67/90\n",
            "53/53 [==============================] - 0s 1ms/step - loss: 0.3132 - accuracy: 0.9410\n",
            "Epoch 68/90\n",
            "53/53 [==============================] - 0s 1ms/step - loss: 0.3765 - accuracy: 0.8949\n",
            "Epoch 69/90\n",
            "53/53 [==============================] - 0s 1ms/step - loss: 0.3175 - accuracy: 0.9507\n",
            "Epoch 70/90\n",
            "53/53 [==============================] - 0s 1ms/step - loss: 0.3223 - accuracy: 0.9312\n",
            "Epoch 71/90\n",
            "53/53 [==============================] - 0s 2ms/step - loss: 0.3170 - accuracy: 0.9395\n",
            "Epoch 72/90\n",
            "53/53 [==============================] - 0s 2ms/step - loss: 0.3763 - accuracy: 0.8985\n",
            "Epoch 73/90\n",
            "53/53 [==============================] - 0s 1ms/step - loss: 0.2992 - accuracy: 0.9241\n",
            "Epoch 74/90\n",
            "53/53 [==============================] - 0s 1ms/step - loss: 0.3196 - accuracy: 0.9259\n",
            "Epoch 75/90\n",
            "53/53 [==============================] - 0s 1ms/step - loss: 0.2931 - accuracy: 0.9398\n",
            "Epoch 76/90\n",
            "53/53 [==============================] - 0s 1ms/step - loss: 0.3227 - accuracy: 0.9371\n",
            "Epoch 77/90\n",
            "53/53 [==============================] - 0s 1ms/step - loss: 0.3599 - accuracy: 0.9090\n",
            "Epoch 78/90\n",
            "53/53 [==============================] - 0s 1ms/step - loss: 0.2840 - accuracy: 0.9453\n",
            "Epoch 79/90\n",
            "53/53 [==============================] - 0s 1ms/step - loss: 0.3678 - accuracy: 0.9191\n",
            "Epoch 80/90\n",
            "53/53 [==============================] - 0s 1ms/step - loss: 0.2710 - accuracy: 0.9572\n",
            "Epoch 81/90\n",
            "53/53 [==============================] - 0s 1ms/step - loss: 0.3480 - accuracy: 0.8979\n",
            "Epoch 82/90\n",
            "53/53 [==============================] - 0s 1ms/step - loss: 0.3420 - accuracy: 0.8966\n",
            "Epoch 83/90\n",
            "53/53 [==============================] - 0s 1ms/step - loss: 0.2848 - accuracy: 0.9506\n",
            "Epoch 84/90\n",
            "53/53 [==============================] - 0s 2ms/step - loss: 0.2693 - accuracy: 0.9598\n",
            "Epoch 85/90\n",
            "53/53 [==============================] - 0s 1ms/step - loss: 0.3084 - accuracy: 0.9507\n",
            "Epoch 86/90\n",
            "53/53 [==============================] - 0s 1ms/step - loss: 0.3157 - accuracy: 0.9377\n",
            "Epoch 87/90\n",
            "53/53 [==============================] - 0s 1ms/step - loss: 0.3066 - accuracy: 0.9463\n",
            "Epoch 88/90\n",
            "53/53 [==============================] - 0s 1ms/step - loss: 0.3247 - accuracy: 0.9239\n",
            "Epoch 89/90\n",
            "53/53 [==============================] - 0s 2ms/step - loss: 0.3430 - accuracy: 0.9203\n",
            "Epoch 90/90\n",
            "53/53 [==============================] - 0s 1ms/step - loss: 0.2798 - accuracy: 0.9525\n"
          ],
          "name": "stdout"
        },
        {
          "output_type": "execute_result",
          "data": {
            "text/plain": [
              "<tensorflow.python.keras.callbacks.History at 0x7f9b8961ad50>"
            ]
          },
          "metadata": {
            "tags": []
          },
          "execution_count": 433
        }
      ]
    },
    {
      "cell_type": "markdown",
      "metadata": {
        "id": "Pgv4TrCd7KbY"
      },
      "source": [
        "**Evaluating the Network**"
      ]
    },
    {
      "cell_type": "code",
      "metadata": {
        "colab": {
          "base_uri": "https://localhost:8080/"
        },
        "id": "-ORGrBwIqAvH",
        "outputId": "532de9d6-7bba-4742-d025-0b8a73abe7d5"
      },
      "source": [
        "test_loss_score, test_acc_score=model.evaluate(test_data, test_labels)"
      ],
      "execution_count": 434,
      "outputs": [
        {
          "output_type": "stream",
          "text": [
            "5/5 [==============================] - 0s 2ms/step - loss: 0.2960 - accuracy: 0.9286\n"
          ],
          "name": "stdout"
        }
      ]
    },
    {
      "cell_type": "code",
      "metadata": {
        "colab": {
          "base_uri": "https://localhost:8080/"
        },
        "id": "ZrXFKWctqI9W",
        "outputId": "4c8b412a-f743-4909-ccb5-8059369186a3"
      },
      "source": [
        "test_acc_score *100"
      ],
      "execution_count": 435,
      "outputs": [
        {
          "output_type": "execute_result",
          "data": {
            "text/plain": [
              "92.85714030265808"
            ]
          },
          "metadata": {
            "tags": []
          },
          "execution_count": 435
        }
      ]
    },
    {
      "cell_type": "markdown",
      "metadata": {
        "id": "hWKkYGTDgmB_"
      },
      "source": [
        "**Predicting the Network**"
      ]
    },
    {
      "cell_type": "code",
      "metadata": {
        "id": "7IPuJNW3qOuc"
      },
      "source": [
        "prediction=model.predict(test_data)\n",
        "pred_norm =np.where(prediction>.5, 1, 0)\n",
        "pred_norm=np.where(pred_norm==1, \"g\", \"b\")"
      ],
      "execution_count": 436,
      "outputs": []
    },
    {
      "cell_type": "code",
      "metadata": {
        "colab": {
          "base_uri": "https://localhost:8080/"
        },
        "id": "S9zzbx5otb-D",
        "outputId": "bcae9219-d7a4-4c02-cdbe-303d50869f8a"
      },
      "source": [
        "pred_norm = pred_norm.reshape(pred_norm.shape[0],)\n",
        "pred_norm[:10].T"
      ],
      "execution_count": 437,
      "outputs": [
        {
          "output_type": "execute_result",
          "data": {
            "text/plain": [
              "array(['g', 'b', 'b', 'g', 'g', 'g', 'g', 'b', 'g', 'g'], dtype='<U1')"
            ]
          },
          "metadata": {
            "tags": []
          },
          "execution_count": 437
        }
      ]
    },
    {
      "cell_type": "code",
      "metadata": {
        "id": "MV2IDjO7qYAg"
      },
      "source": [
        "test_labels_new = np.where(test_labels==1, \"g\", \"b\")"
      ],
      "execution_count": 438,
      "outputs": []
    },
    {
      "cell_type": "code",
      "metadata": {
        "colab": {
          "base_uri": "https://localhost:8080/"
        },
        "id": "4-SiadIbrLZJ",
        "outputId": "eb35533e-69e7-4577-f254-2ae53c8c4ace"
      },
      "source": [
        "test_labels_new[:10].T"
      ],
      "execution_count": 439,
      "outputs": [
        {
          "output_type": "execute_result",
          "data": {
            "text/plain": [
              "array(['g', 'b', 'b', 'g', 'g', 'g', 'g', 'g', 'g', 'g'], dtype='<U1')"
            ]
          },
          "metadata": {
            "tags": []
          },
          "execution_count": 439
        }
      ]
    },
    {
      "cell_type": "code",
      "metadata": {
        "colab": {
          "base_uri": "https://localhost:8080/"
        },
        "id": "z3hSnJH4r7SZ",
        "outputId": "c52fc814-d88c-4949-ac15-8fba909c9000"
      },
      "source": [
        "c= pred_norm.size\n",
        "c"
      ],
      "execution_count": 440,
      "outputs": [
        {
          "output_type": "execute_result",
          "data": {
            "text/plain": [
              "140"
            ]
          },
          "metadata": {
            "tags": []
          },
          "execution_count": 440
        }
      ]
    },
    {
      "cell_type": "code",
      "metadata": {
        "id": "3TmheyUKulmv"
      },
      "source": [
        "comapre_pred_test = test_labels_new == pred_norm"
      ],
      "execution_count": 441,
      "outputs": []
    },
    {
      "cell_type": "code",
      "metadata": {
        "colab": {
          "base_uri": "https://localhost:8080/"
        },
        "id": "Zh8aKiQTsgCh",
        "outputId": "3ceba20e-8978-4fa0-efe2-3b18c4694505"
      },
      "source": [
        "b = comapre_pred_test[comapre_pred_test[:]==True].size\n",
        "b"
      ],
      "execution_count": 442,
      "outputs": [
        {
          "output_type": "execute_result",
          "data": {
            "text/plain": [
              "130"
            ]
          },
          "metadata": {
            "tags": []
          },
          "execution_count": 442
        }
      ]
    },
    {
      "cell_type": "code",
      "metadata": {
        "colab": {
          "base_uri": "https://localhost:8080/"
        },
        "id": "O2oCJ2_xtQBn",
        "outputId": "7af0c737-b688-4376-e973-7216208e66aa"
      },
      "source": [
        "a = comapre_pred_test[comapre_pred_test[:]==False].size\n",
        "a"
      ],
      "execution_count": 443,
      "outputs": [
        {
          "output_type": "execute_result",
          "data": {
            "text/plain": [
              "10"
            ]
          },
          "metadata": {
            "tags": []
          },
          "execution_count": 443
        }
      ]
    },
    {
      "cell_type": "code",
      "metadata": {
        "colab": {
          "base_uri": "https://localhost:8080/"
        },
        "id": "QoVZIRgytUR1",
        "outputId": "63d7da7b-bcb8-4893-c60d-96bc400fbeff"
      },
      "source": [
        "print(\"Incorrect Predictions are:\", a, \"and Correct predictions are :\", b, \" the percentage is:\", round((b/c)*100,2), \"%\"  )"
      ],
      "execution_count": 444,
      "outputs": [
        {
          "output_type": "stream",
          "text": [
            "Incorrect Predictions are: 10 and Correct predictions are : 130  the percentage is: 92.86 %\n"
          ],
          "name": "stdout"
        }
      ]
    }
  ]
}