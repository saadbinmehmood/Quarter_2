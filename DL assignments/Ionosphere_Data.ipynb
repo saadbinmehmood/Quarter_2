{
  "nbformat": 4,
  "nbformat_minor": 0,
  "metadata": {
    "colab": {
      "name": "Ionosphere Data.ipynb",
      "provenance": [],
      "collapsed_sections": []
    },
    "kernelspec": {
      "name": "python3",
      "display_name": "Python 3"
    },
    "language_info": {
      "name": "python"
    }
  },
  "cells": [
    {
      "cell_type": "code",
      "metadata": {
        "id": "Qm6SVEktF6Pb"
      },
      "source": [
        "import tensorflow as tf\n",
        "import numpy as np\n",
        "import pandas as pd\n",
        "import matplotlib.pyplot as plt\n",
        "from keras import models\n",
        "from keras import layers\n",
        "from keras import regularizers\n",
        "#from sklearn.model_selection import train_test_split"
      ],
      "execution_count": 1,
      "outputs": []
    },
    {
      "cell_type": "code",
      "metadata": {
        "colab": {
          "resources": {
            "http://localhost:8080/nbextensions/google.colab/files.js": {
              "data": "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",
              "ok": true,
              "headers": [
                [
                  "content-type",
                  "application/javascript"
                ]
              ],
              "status": 200,
              "status_text": ""
            }
          },
          "base_uri": "https://localhost:8080/",
          "height": 73
        },
        "id": "x04KH4qVJLVH",
        "outputId": "14c014ac-814a-4d6b-a395-20429d238990"
      },
      "source": [
        "from google.colab import files\n",
        "uploaded = files.upload()"
      ],
      "execution_count": 71,
      "outputs": [
        {
          "output_type": "display_data",
          "data": {
            "text/html": [
              "\n",
              "     <input type=\"file\" id=\"files-3d278e53-48bf-436c-a402-1e57f97b7bf2\" name=\"files[]\" multiple disabled\n",
              "        style=\"border:none\" />\n",
              "     <output id=\"result-3d278e53-48bf-436c-a402-1e57f97b7bf2\">\n",
              "      Upload widget is only available when the cell has been executed in the\n",
              "      current browser session. Please rerun this cell to enable.\n",
              "      </output>\n",
              "      <script src=\"/nbextensions/google.colab/files.js\"></script> "
            ],
            "text/plain": [
              "<IPython.core.display.HTML object>"
            ]
          },
          "metadata": {
            "tags": []
          }
        },
        {
          "output_type": "stream",
          "text": [
            "Saving ionosphere_data.csv to ionosphere_data (1).csv\n"
          ],
          "name": "stdout"
        }
      ]
    },
    {
      "cell_type": "code",
      "metadata": {
        "id": "KyuugC0gJffo"
      },
      "source": [
        "import io\n",
        "df = pd.read_csv(io.BytesIO(uploaded[\"ionosphere_data.csv\"]))"
      ],
      "execution_count": 72,
      "outputs": []
    },
    {
      "cell_type": "markdown",
      "metadata": {
        "id": "dy_Ftds7J-Xo"
      },
      "source": [
        "**Verifying the Data**"
      ]
    },
    {
      "cell_type": "code",
      "metadata": {
        "colab": {
          "base_uri": "https://localhost:8080/"
        },
        "id": "nWnk-coqKuCA",
        "outputId": "f1d16232-659a-47a9-f3f6-4b78405f9e47"
      },
      "source": [
        "df.info()"
      ],
      "execution_count": 73,
      "outputs": [
        {
          "output_type": "stream",
          "text": [
            "<class 'pandas.core.frame.DataFrame'>\n",
            "RangeIndex: 351 entries, 0 to 350\n",
            "Data columns (total 35 columns):\n",
            " #   Column     Non-Null Count  Dtype  \n",
            "---  ------     --------------  -----  \n",
            " 0   feature1   351 non-null    int64  \n",
            " 1   feature2   351 non-null    int64  \n",
            " 2   feature3   351 non-null    float64\n",
            " 3   feature4   351 non-null    float64\n",
            " 4   feature5   351 non-null    float64\n",
            " 5   feature6   351 non-null    float64\n",
            " 6   feature7   351 non-null    float64\n",
            " 7   feature8   351 non-null    float64\n",
            " 8   feature9   351 non-null    float64\n",
            " 9   feature10  351 non-null    float64\n",
            " 10  feature11  351 non-null    float64\n",
            " 11  feature12  351 non-null    float64\n",
            " 12  feature13  351 non-null    float64\n",
            " 13  feature14  351 non-null    float64\n",
            " 14  feature15  351 non-null    float64\n",
            " 15  feature16  351 non-null    float64\n",
            " 16  feature17  351 non-null    float64\n",
            " 17  feature18  351 non-null    float64\n",
            " 18  feature19  351 non-null    float64\n",
            " 19  feature20  351 non-null    float64\n",
            " 20  feature21  351 non-null    float64\n",
            " 21  feature22  351 non-null    float64\n",
            " 22  feature23  351 non-null    float64\n",
            " 23  feature24  351 non-null    float64\n",
            " 24  feature25  351 non-null    float64\n",
            " 25  feature26  351 non-null    float64\n",
            " 26  feature27  351 non-null    float64\n",
            " 27  feature28  351 non-null    float64\n",
            " 28  feature29  351 non-null    float64\n",
            " 29  feature30  351 non-null    float64\n",
            " 30  feature31  351 non-null    float64\n",
            " 31  feature32  351 non-null    float64\n",
            " 32  feature33  351 non-null    float64\n",
            " 33  feature34  351 non-null    float64\n",
            " 34  label      351 non-null    object \n",
            "dtypes: float64(32), int64(2), object(1)\n",
            "memory usage: 96.1+ KB\n"
          ],
          "name": "stdout"
        }
      ]
    },
    {
      "cell_type": "code",
      "metadata": {
        "colab": {
          "base_uri": "https://localhost:8080/"
        },
        "id": "qtK1XYtQKxaq",
        "outputId": "092492b7-2939-46df-f6c7-07a29723950f"
      },
      "source": [
        "normalized_data=df.copy()\n",
        "normalized_data.shape"
      ],
      "execution_count": 74,
      "outputs": [
        {
          "output_type": "execute_result",
          "data": {
            "text/plain": [
              "(351, 35)"
            ]
          },
          "metadata": {
            "tags": []
          },
          "execution_count": 74
        }
      ]
    },
    {
      "cell_type": "code",
      "metadata": {
        "colab": {
          "base_uri": "https://localhost:8080/",
          "height": 98
        },
        "id": "ytipkCAfQK3m",
        "outputId": "8e4e0af8-09d8-4c4e-9d93-b49b51c73800"
      },
      "source": [
        "normalized_data[normalized_data.duplicated()]"
      ],
      "execution_count": 75,
      "outputs": [
        {
          "output_type": "execute_result",
          "data": {
            "text/html": [
              "<div>\n",
              "<style scoped>\n",
              "    .dataframe tbody tr th:only-of-type {\n",
              "        vertical-align: middle;\n",
              "    }\n",
              "\n",
              "    .dataframe tbody tr th {\n",
              "        vertical-align: top;\n",
              "    }\n",
              "\n",
              "    .dataframe thead th {\n",
              "        text-align: right;\n",
              "    }\n",
              "</style>\n",
              "<table border=\"1\" class=\"dataframe\">\n",
              "  <thead>\n",
              "    <tr style=\"text-align: right;\">\n",
              "      <th></th>\n",
              "      <th>feature1</th>\n",
              "      <th>feature2</th>\n",
              "      <th>feature3</th>\n",
              "      <th>feature4</th>\n",
              "      <th>feature5</th>\n",
              "      <th>feature6</th>\n",
              "      <th>feature7</th>\n",
              "      <th>feature8</th>\n",
              "      <th>feature9</th>\n",
              "      <th>feature10</th>\n",
              "      <th>feature11</th>\n",
              "      <th>feature12</th>\n",
              "      <th>feature13</th>\n",
              "      <th>feature14</th>\n",
              "      <th>feature15</th>\n",
              "      <th>feature16</th>\n",
              "      <th>feature17</th>\n",
              "      <th>feature18</th>\n",
              "      <th>feature19</th>\n",
              "      <th>feature20</th>\n",
              "      <th>feature21</th>\n",
              "      <th>feature22</th>\n",
              "      <th>feature23</th>\n",
              "      <th>feature24</th>\n",
              "      <th>feature25</th>\n",
              "      <th>feature26</th>\n",
              "      <th>feature27</th>\n",
              "      <th>feature28</th>\n",
              "      <th>feature29</th>\n",
              "      <th>feature30</th>\n",
              "      <th>feature31</th>\n",
              "      <th>feature32</th>\n",
              "      <th>feature33</th>\n",
              "      <th>feature34</th>\n",
              "      <th>label</th>\n",
              "    </tr>\n",
              "  </thead>\n",
              "  <tbody>\n",
              "    <tr>\n",
              "      <th>248</th>\n",
              "      <td>0</td>\n",
              "      <td>0</td>\n",
              "      <td>0.0</td>\n",
              "      <td>0.0</td>\n",
              "      <td>0.0</td>\n",
              "      <td>0.0</td>\n",
              "      <td>0.0</td>\n",
              "      <td>0.0</td>\n",
              "      <td>0.0</td>\n",
              "      <td>0.0</td>\n",
              "      <td>0.0</td>\n",
              "      <td>0.0</td>\n",
              "      <td>0.0</td>\n",
              "      <td>0.0</td>\n",
              "      <td>0.0</td>\n",
              "      <td>0.0</td>\n",
              "      <td>0.0</td>\n",
              "      <td>0.0</td>\n",
              "      <td>0.0</td>\n",
              "      <td>0.0</td>\n",
              "      <td>0.0</td>\n",
              "      <td>0.0</td>\n",
              "      <td>0.0</td>\n",
              "      <td>0.0</td>\n",
              "      <td>0.0</td>\n",
              "      <td>0.0</td>\n",
              "      <td>1.0</td>\n",
              "      <td>-1.0</td>\n",
              "      <td>0.0</td>\n",
              "      <td>0.0</td>\n",
              "      <td>0.0</td>\n",
              "      <td>0.0</td>\n",
              "      <td>0.0</td>\n",
              "      <td>0.0</td>\n",
              "      <td>b</td>\n",
              "    </tr>\n",
              "  </tbody>\n",
              "</table>\n",
              "</div>"
            ],
            "text/plain": [
              "     feature1  feature2  feature3  ...  feature33  feature34  label\n",
              "248         0         0       0.0  ...        0.0        0.0      b\n",
              "\n",
              "[1 rows x 35 columns]"
            ]
          },
          "metadata": {
            "tags": []
          },
          "execution_count": 75
        }
      ]
    },
    {
      "cell_type": "code",
      "metadata": {
        "colab": {
          "base_uri": "https://localhost:8080/"
        },
        "id": "s26mbHH-LCCd",
        "outputId": "a35a48f1-2117-4ca8-a4d0-fe924b8a8555"
      },
      "source": [
        "normalized_data.drop_duplicates(inplace = True)\n",
        "normalized_data.shape"
      ],
      "execution_count": 76,
      "outputs": [
        {
          "output_type": "execute_result",
          "data": {
            "text/plain": [
              "(350, 35)"
            ]
          },
          "metadata": {
            "tags": []
          },
          "execution_count": 76
        }
      ]
    },
    {
      "cell_type": "code",
      "metadata": {
        "colab": {
          "base_uri": "https://localhost:8080/"
        },
        "id": "_2T0APoeLv0T",
        "outputId": "a7ab8dac-b709-4b86-8420-4ede7fb5fcb5"
      },
      "source": [
        "normalized_data[\"feature2\"].value_counts()"
      ],
      "execution_count": 77,
      "outputs": [
        {
          "output_type": "execute_result",
          "data": {
            "text/plain": [
              "0    350\n",
              "Name: feature2, dtype: int64"
            ]
          },
          "metadata": {
            "tags": []
          },
          "execution_count": 77
        }
      ]
    },
    {
      "cell_type": "code",
      "metadata": {
        "colab": {
          "base_uri": "https://localhost:8080/"
        },
        "id": "97UzPj0zMlrS",
        "outputId": "b6944e46-65e1-4a25-9d4d-3acaaf019b9f"
      },
      "source": [
        "normalized_data.drop(columns=[\"feature2\"], inplace = True)\n",
        "normalized_data.shape"
      ],
      "execution_count": 78,
      "outputs": [
        {
          "output_type": "execute_result",
          "data": {
            "text/plain": [
              "(350, 34)"
            ]
          },
          "metadata": {
            "tags": []
          },
          "execution_count": 78
        }
      ]
    },
    {
      "cell_type": "code",
      "metadata": {
        "colab": {
          "base_uri": "https://localhost:8080/"
        },
        "id": "uoWeCl7hPiQo",
        "outputId": "45d8744a-d798-4da0-f54e-c81950270004"
      },
      "source": [
        "data = normalized_data # sample(normalized_data.shape[0], random_state=1)\n",
        "data.shape"
      ],
      "execution_count": 79,
      "outputs": [
        {
          "output_type": "execute_result",
          "data": {
            "text/plain": [
              "(350, 34)"
            ]
          },
          "metadata": {
            "tags": []
          },
          "execution_count": 79
        }
      ]
    },
    {
      "cell_type": "code",
      "metadata": {
        "id": "Dd1O86b6Zoa-"
      },
      "source": [
        "class_g = data[data[\"label\"]==\"g\"]\n",
        "class_b = data[data[\"label\"]==\"b\"]"
      ],
      "execution_count": 80,
      "outputs": []
    },
    {
      "cell_type": "code",
      "metadata": {
        "colab": {
          "base_uri": "https://localhost:8080/"
        },
        "id": "oO4aF2sMZpS2",
        "outputId": "6515b2a1-9a34-4e21-8d64-1f4a25ef6673"
      },
      "source": [
        "class_g.shape"
      ],
      "execution_count": 81,
      "outputs": [
        {
          "output_type": "execute_result",
          "data": {
            "text/plain": [
              "(225, 34)"
            ]
          },
          "metadata": {
            "tags": []
          },
          "execution_count": 81
        }
      ]
    },
    {
      "cell_type": "code",
      "metadata": {
        "colab": {
          "base_uri": "https://localhost:8080/"
        },
        "id": "zR-vBM32Zpke",
        "outputId": "5372e0a5-4efb-4f21-c082-ee6df57a0d19"
      },
      "source": [
        "class_b.shape"
      ],
      "execution_count": 82,
      "outputs": [
        {
          "output_type": "execute_result",
          "data": {
            "text/plain": [
              "(125, 34)"
            ]
          },
          "metadata": {
            "tags": []
          },
          "execution_count": 82
        }
      ]
    },
    {
      "cell_type": "code",
      "metadata": {
        "id": "aqygadalc-LY"
      },
      "source": [
        "class_b_over= class_b.sample(len(class_g), replace = True,)\n",
        "data_over = pd.concat([class_b_over, class_g], axis=0)"
      ],
      "execution_count": 83,
      "outputs": []
    },
    {
      "cell_type": "code",
      "metadata": {
        "colab": {
          "base_uri": "https://localhost:8080/"
        },
        "id": "ge4xbup4Zpwv",
        "outputId": "c95b0b25-7680-446d-c420-137ae3c15753"
      },
      "source": [
        "data_over[\"label\"].value_counts()"
      ],
      "execution_count": 84,
      "outputs": [
        {
          "output_type": "execute_result",
          "data": {
            "text/plain": [
              "b    225\n",
              "g    225\n",
              "Name: label, dtype: int64"
            ]
          },
          "metadata": {
            "tags": []
          },
          "execution_count": 84
        }
      ]
    },
    {
      "cell_type": "code",
      "metadata": {
        "colab": {
          "base_uri": "https://localhost:8080/"
        },
        "id": "FpLJr7K_eM6r",
        "outputId": "55b59bc5-250a-4a90-8922-674bfeb75ec0"
      },
      "source": [
        "len(data_over)"
      ],
      "execution_count": 85,
      "outputs": [
        {
          "output_type": "execute_result",
          "data": {
            "text/plain": [
              "450"
            ]
          },
          "metadata": {
            "tags": []
          },
          "execution_count": 85
        }
      ]
    },
    {
      "cell_type": "markdown",
      "metadata": {
        "id": "Zwcdl1ZSQuy3"
      },
      "source": [
        "**Splitting the Traing and Testing data**"
      ]
    },
    {
      "cell_type": "code",
      "metadata": {
        "id": "DxwUy3F-LjI_"
      },
      "source": [
        "x_data = data_over.sample(frac=1) # Shuffling the data\n",
        "train_data_full= x_data.iloc[:270,:]\n",
        "test_data_full = x_data.iloc[270:, :]\n",
        "train_data = train_data_full.iloc[:, :-1]\n",
        "train_labels = train_data_full.iloc[:, -1]\n",
        "test_data = test_data_full.iloc[:, :-1]\n",
        "test_labels = test_data_full.iloc[:, -1]"
      ],
      "execution_count": 88,
      "outputs": []
    },
    {
      "cell_type": "code",
      "metadata": {
        "colab": {
          "base_uri": "https://localhost:8080/"
        },
        "id": "WqFw1Ql8Lj9S",
        "outputId": "adbad98a-054b-455d-d762-8521a97ce609"
      },
      "source": [
        "print(train_data.shape)\n",
        "print(test_data.shape)\n",
        "print(train_labels.shape)\n",
        "print(test_labels.shape)"
      ],
      "execution_count": 89,
      "outputs": [
        {
          "output_type": "stream",
          "text": [
            "(270, 33)\n",
            "(180, 33)\n",
            "(270,)\n",
            "(180,)\n"
          ],
          "name": "stdout"
        }
      ]
    },
    {
      "cell_type": "code",
      "metadata": {
        "colab": {
          "base_uri": "https://localhost:8080/"
        },
        "id": "VN9atXO9RiIR",
        "outputId": "b85b0e70-62d6-46b5-b015-e361d09f91bf"
      },
      "source": [
        "train_data.shape, test_data.shape"
      ],
      "execution_count": 90,
      "outputs": [
        {
          "output_type": "execute_result",
          "data": {
            "text/plain": [
              "((270, 33), (180, 33))"
            ]
          },
          "metadata": {
            "tags": []
          },
          "execution_count": 90
        }
      ]
    },
    {
      "cell_type": "code",
      "metadata": {
        "colab": {
          "base_uri": "https://localhost:8080/"
        },
        "id": "1pWm6bhupHZB",
        "outputId": "b2b57085-55e1-4418-dff8-58df3194a0d3"
      },
      "source": [
        "train_labels.shape, test_labels.shape"
      ],
      "execution_count": 91,
      "outputs": [
        {
          "output_type": "execute_result",
          "data": {
            "text/plain": [
              "((270,), (180,))"
            ]
          },
          "metadata": {
            "tags": []
          },
          "execution_count": 91
        }
      ]
    },
    {
      "cell_type": "markdown",
      "metadata": {
        "id": "A1566qUbSi4T"
      },
      "source": [
        "**Normalizing the data**"
      ]
    },
    {
      "cell_type": "code",
      "metadata": {
        "id": "Z3GW4rjPSmFV"
      },
      "source": [
        "mean=train_data.mean(axis=0)\n",
        "std=train_data.std(axis=0)\n",
        "train_data = (train_data-mean)/std\n",
        "test_data=(test_data-mean)/std"
      ],
      "execution_count": 92,
      "outputs": []
    },
    {
      "cell_type": "code",
      "metadata": {
        "id": "6BVeq4--TGHe"
      },
      "source": [
        "train_labels = np.where(train_labels ==\"g\", 1, 0 )\n",
        "test_labels = np.where(test_labels ==\"g\",1,0)"
      ],
      "execution_count": 93,
      "outputs": []
    },
    {
      "cell_type": "markdown",
      "metadata": {
        "id": "596dVSIih8P2"
      },
      "source": [
        "**Building the Network**"
      ]
    },
    {
      "cell_type": "code",
      "metadata": {
        "id": "VlqdGtmKhmq3"
      },
      "source": [
        "def build_model():\n",
        "  model=models.Sequential()\n",
        "  model.add(layers.Dense(16,kernel_regularizer=regularizers.l1_l2(l1=.001, l2=0.001) , activation=\"relu\", input_shape=(train_data.shape[1],)))\n",
        "  model.add(layers.Dropout(.1))\n",
        "  model.add(layers.Dense(16, kernel_regularizer=regularizers.l1_l2(l1=.001, l2=0.001), activation = \"relu\" ))\n",
        "  model.add(layers.Dropout(.1))\n",
        "  model.add(layers.Dense(1, activation=\"sigmoid\"))\n",
        "\n",
        "  model.compile(optimizer=\"rmsprop\", loss = \"binary_crossentropy\", metrics=[\"accuracy\"])\n",
        "  return model"
      ],
      "execution_count": 94,
      "outputs": []
    },
    {
      "cell_type": "markdown",
      "metadata": {
        "id": "qowYHYALiPOB"
      },
      "source": [
        "**K fold Validation**"
      ]
    },
    {
      "cell_type": "code",
      "metadata": {
        "colab": {
          "base_uri": "https://localhost:8080/"
        },
        "id": "b7llzdZyiFEL",
        "outputId": "1e9be360-557e-4b7d-ca2d-b5b1f22086bc"
      },
      "source": [
        "k= 5\n",
        "num_val_sample = len(train_data) // k\n",
        "num_epochs =50\n",
        "all_scores = []\n",
        "all_val_loss_histories = []\n",
        "all_val_acc_histories = []\n",
        "all_loss_histories =[]\n",
        "all_acc_histories = []\n",
        "\n",
        "for i in range(k):\n",
        "  print(\"processing fold #\",i)\n",
        "  val_data = train_data[i*num_val_sample:(i+1)*num_val_sample]\n",
        "  val_labels = train_labels[i*num_val_sample: (i+1)*num_val_sample]\n",
        "\n",
        "  partial_train_data=np.concatenate([train_data[:i*num_val_sample], train_data[(i+1)*num_val_sample:]], axis=0)\n",
        "  partial_train_labels=np.concatenate([train_labels[:i*num_val_sample], train_labels[(i+1)*num_val_sample:]], axis=0)\n",
        "\n",
        "  model=build_model()\n",
        "  history = model.fit(partial_train_data, partial_train_labels, validation_data = (val_data, val_labels), epochs= num_epochs, batch_size=50, verbose=1)\n",
        "  val_loss, val_acc = model.evaluate(test_data, test_labels, verbose=0)\n",
        "  val_loss_history = history.history[\"val_loss\"]\n",
        "  val_acc_history = history.history[\"val_accuracy\"]\n",
        "  loss_history = history.history[\"loss\"]\n",
        "  acc_history = history.history[\"accuracy\"]\n",
        "  all_loss_histories.append(loss_history)\n",
        "  all_acc_histories.append(acc_history)\n",
        "  all_val_loss_histories.append(val_loss_history)\n",
        "  all_val_acc_histories.append(val_acc_history)\n",
        "  all_scores.append(val_loss)\n",
        "ave_val_loss_hist = [np.mean([x[i] for x in all_val_loss_histories]) for i in range(num_epochs)]\n",
        "ave_loss_hist = [np.mean([x[i] for x in all_loss_histories]) for i in range(num_epochs)]\n",
        "ave_val_acc_hist = [np.mean([x[i] for x in all_val_acc_histories]) for i in range(num_epochs)]\n",
        "ave_acc_hist = [np.mean([x[i] for x in all_acc_histories]) for i in range(num_epochs)]\n",
        "all_scores\n"
      ],
      "execution_count": 95,
      "outputs": [
        {
          "output_type": "stream",
          "text": [
            "processing fold # 0\n",
            "Epoch 1/50\n",
            "5/5 [==============================] - 1s 66ms/step - loss: 0.9202 - accuracy: 0.5308 - val_loss: 0.8067 - val_accuracy: 0.6667\n",
            "Epoch 2/50\n",
            "5/5 [==============================] - 0s 14ms/step - loss: 0.8604 - accuracy: 0.5657 - val_loss: 0.7808 - val_accuracy: 0.7963\n",
            "Epoch 3/50\n",
            "5/5 [==============================] - 0s 20ms/step - loss: 0.8285 - accuracy: 0.6609 - val_loss: 0.7569 - val_accuracy: 0.8333\n",
            "Epoch 4/50\n",
            "5/5 [==============================] - 0s 12ms/step - loss: 0.7803 - accuracy: 0.7013 - val_loss: 0.7413 - val_accuracy: 0.8333\n",
            "Epoch 5/50\n",
            "5/5 [==============================] - 0s 12ms/step - loss: 0.7891 - accuracy: 0.6480 - val_loss: 0.7277 - val_accuracy: 0.8889\n",
            "Epoch 6/50\n",
            "5/5 [==============================] - 0s 12ms/step - loss: 0.7819 - accuracy: 0.6567 - val_loss: 0.7094 - val_accuracy: 0.9074\n",
            "Epoch 7/50\n",
            "5/5 [==============================] - 0s 12ms/step - loss: 0.7404 - accuracy: 0.6885 - val_loss: 0.6958 - val_accuracy: 0.9074\n",
            "Epoch 8/50\n",
            "5/5 [==============================] - 0s 12ms/step - loss: 0.7399 - accuracy: 0.6908 - val_loss: 0.6835 - val_accuracy: 0.9074\n",
            "Epoch 9/50\n",
            "5/5 [==============================] - 0s 13ms/step - loss: 0.7260 - accuracy: 0.7357 - val_loss: 0.6719 - val_accuracy: 0.9074\n",
            "Epoch 10/50\n",
            "5/5 [==============================] - 0s 11ms/step - loss: 0.7078 - accuracy: 0.7532 - val_loss: 0.6586 - val_accuracy: 0.9074\n",
            "Epoch 11/50\n",
            "5/5 [==============================] - 0s 12ms/step - loss: 0.6962 - accuracy: 0.7767 - val_loss: 0.6470 - val_accuracy: 0.9074\n",
            "Epoch 12/50\n",
            "5/5 [==============================] - 0s 12ms/step - loss: 0.6736 - accuracy: 0.7919 - val_loss: 0.6369 - val_accuracy: 0.9259\n",
            "Epoch 13/50\n",
            "5/5 [==============================] - 0s 13ms/step - loss: 0.6696 - accuracy: 0.8117 - val_loss: 0.6251 - val_accuracy: 0.9259\n",
            "Epoch 14/50\n",
            "5/5 [==============================] - 0s 12ms/step - loss: 0.6505 - accuracy: 0.8290 - val_loss: 0.6141 - val_accuracy: 0.9259\n",
            "Epoch 15/50\n",
            "5/5 [==============================] - 0s 14ms/step - loss: 0.6209 - accuracy: 0.8313 - val_loss: 0.6018 - val_accuracy: 0.9259\n",
            "Epoch 16/50\n",
            "5/5 [==============================] - 0s 12ms/step - loss: 0.6154 - accuracy: 0.8555 - val_loss: 0.5917 - val_accuracy: 0.9259\n",
            "Epoch 17/50\n",
            "5/5 [==============================] - 0s 12ms/step - loss: 0.6048 - accuracy: 0.8457 - val_loss: 0.5827 - val_accuracy: 0.9259\n",
            "Epoch 18/50\n",
            "5/5 [==============================] - 0s 12ms/step - loss: 0.6131 - accuracy: 0.8079 - val_loss: 0.5718 - val_accuracy: 0.9259\n",
            "Epoch 19/50\n",
            "5/5 [==============================] - 0s 14ms/step - loss: 0.5895 - accuracy: 0.8561 - val_loss: 0.5601 - val_accuracy: 0.9259\n",
            "Epoch 20/50\n",
            "5/5 [==============================] - 0s 15ms/step - loss: 0.5755 - accuracy: 0.8523 - val_loss: 0.5509 - val_accuracy: 0.9259\n",
            "Epoch 21/50\n",
            "5/5 [==============================] - 0s 19ms/step - loss: 0.5671 - accuracy: 0.8354 - val_loss: 0.5434 - val_accuracy: 0.9444\n",
            "Epoch 22/50\n",
            "5/5 [==============================] - 0s 14ms/step - loss: 0.5477 - accuracy: 0.8417 - val_loss: 0.5346 - val_accuracy: 0.9444\n",
            "Epoch 23/50\n",
            "5/5 [==============================] - 0s 13ms/step - loss: 0.5510 - accuracy: 0.8556 - val_loss: 0.5263 - val_accuracy: 0.9444\n",
            "Epoch 24/50\n",
            "5/5 [==============================] - 0s 12ms/step - loss: 0.5645 - accuracy: 0.8694 - val_loss: 0.5178 - val_accuracy: 0.9444\n",
            "Epoch 25/50\n",
            "5/5 [==============================] - 0s 12ms/step - loss: 0.5532 - accuracy: 0.8226 - val_loss: 0.5148 - val_accuracy: 0.9630\n",
            "Epoch 26/50\n",
            "5/5 [==============================] - 0s 12ms/step - loss: 0.5464 - accuracy: 0.8510 - val_loss: 0.5084 - val_accuracy: 0.9444\n",
            "Epoch 27/50\n",
            "5/5 [==============================] - 0s 13ms/step - loss: 0.5350 - accuracy: 0.8491 - val_loss: 0.4997 - val_accuracy: 0.9444\n",
            "Epoch 28/50\n",
            "5/5 [==============================] - 0s 13ms/step - loss: 0.4962 - accuracy: 0.8812 - val_loss: 0.4915 - val_accuracy: 0.9630\n",
            "Epoch 29/50\n",
            "5/5 [==============================] - 0s 13ms/step - loss: 0.4892 - accuracy: 0.9118 - val_loss: 0.4856 - val_accuracy: 0.9074\n",
            "Epoch 30/50\n",
            "5/5 [==============================] - 0s 15ms/step - loss: 0.4924 - accuracy: 0.9052 - val_loss: 0.4792 - val_accuracy: 0.9074\n",
            "Epoch 31/50\n",
            "5/5 [==============================] - 0s 14ms/step - loss: 0.4712 - accuracy: 0.9010 - val_loss: 0.4725 - val_accuracy: 0.8889\n",
            "Epoch 32/50\n",
            "5/5 [==============================] - 0s 14ms/step - loss: 0.4617 - accuracy: 0.9045 - val_loss: 0.4670 - val_accuracy: 0.9259\n",
            "Epoch 33/50\n",
            "5/5 [==============================] - 0s 12ms/step - loss: 0.4553 - accuracy: 0.9242 - val_loss: 0.4572 - val_accuracy: 0.9074\n",
            "Epoch 34/50\n",
            "5/5 [==============================] - 0s 12ms/step - loss: 0.4829 - accuracy: 0.8952 - val_loss: 0.4508 - val_accuracy: 0.9259\n",
            "Epoch 35/50\n",
            "5/5 [==============================] - 0s 12ms/step - loss: 0.4417 - accuracy: 0.9065 - val_loss: 0.4430 - val_accuracy: 0.9074\n",
            "Epoch 36/50\n",
            "5/5 [==============================] - 0s 12ms/step - loss: 0.4238 - accuracy: 0.9284 - val_loss: 0.4384 - val_accuracy: 0.9259\n",
            "Epoch 37/50\n",
            "5/5 [==============================] - 0s 12ms/step - loss: 0.4035 - accuracy: 0.9311 - val_loss: 0.4340 - val_accuracy: 0.9259\n",
            "Epoch 38/50\n",
            "5/5 [==============================] - 0s 12ms/step - loss: 0.4398 - accuracy: 0.9017 - val_loss: 0.4292 - val_accuracy: 0.9259\n",
            "Epoch 39/50\n",
            "5/5 [==============================] - 0s 12ms/step - loss: 0.4313 - accuracy: 0.9191 - val_loss: 0.4235 - val_accuracy: 0.9259\n",
            "Epoch 40/50\n",
            "5/5 [==============================] - 0s 12ms/step - loss: 0.4233 - accuracy: 0.9236 - val_loss: 0.4189 - val_accuracy: 0.9259\n",
            "Epoch 41/50\n",
            "5/5 [==============================] - 0s 13ms/step - loss: 0.4322 - accuracy: 0.9015 - val_loss: 0.4144 - val_accuracy: 0.9259\n",
            "Epoch 42/50\n",
            "5/5 [==============================] - 0s 12ms/step - loss: 0.4111 - accuracy: 0.9447 - val_loss: 0.4115 - val_accuracy: 0.9259\n",
            "Epoch 43/50\n",
            "5/5 [==============================] - 0s 12ms/step - loss: 0.3776 - accuracy: 0.9577 - val_loss: 0.4085 - val_accuracy: 0.9074\n",
            "Epoch 44/50\n",
            "5/5 [==============================] - 0s 12ms/step - loss: 0.3731 - accuracy: 0.9600 - val_loss: 0.4042 - val_accuracy: 0.9259\n",
            "Epoch 45/50\n",
            "5/5 [==============================] - 0s 12ms/step - loss: 0.3858 - accuracy: 0.9395 - val_loss: 0.4017 - val_accuracy: 0.9259\n",
            "Epoch 46/50\n",
            "5/5 [==============================] - 0s 12ms/step - loss: 0.3765 - accuracy: 0.9259 - val_loss: 0.3984 - val_accuracy: 0.9259\n",
            "Epoch 47/50\n",
            "5/5 [==============================] - 0s 13ms/step - loss: 0.3725 - accuracy: 0.9397 - val_loss: 0.3955 - val_accuracy: 0.9074\n",
            "Epoch 48/50\n",
            "5/5 [==============================] - 0s 12ms/step - loss: 0.3551 - accuracy: 0.9440 - val_loss: 0.3926 - val_accuracy: 0.9074\n",
            "Epoch 49/50\n",
            "5/5 [==============================] - 0s 12ms/step - loss: 0.3755 - accuracy: 0.9441 - val_loss: 0.3954 - val_accuracy: 0.9074\n",
            "Epoch 50/50\n",
            "5/5 [==============================] - 0s 12ms/step - loss: 0.3622 - accuracy: 0.9290 - val_loss: 0.3860 - val_accuracy: 0.9259\n",
            "processing fold # 1\n",
            "Epoch 1/50\n",
            "5/5 [==============================] - 1s 70ms/step - loss: 1.0820 - accuracy: 0.3527 - val_loss: 1.0167 - val_accuracy: 0.2593\n",
            "Epoch 2/50\n",
            "5/5 [==============================] - 0s 11ms/step - loss: 0.9740 - accuracy: 0.3969 - val_loss: 0.9648 - val_accuracy: 0.2963\n",
            "Epoch 3/50\n",
            "5/5 [==============================] - 0s 11ms/step - loss: 0.8887 - accuracy: 0.5064 - val_loss: 0.9313 - val_accuracy: 0.4074\n",
            "Epoch 4/50\n",
            "5/5 [==============================] - 0s 11ms/step - loss: 0.8694 - accuracy: 0.4936 - val_loss: 0.9052 - val_accuracy: 0.4815\n",
            "Epoch 5/50\n",
            "5/5 [==============================] - 0s 12ms/step - loss: 0.8377 - accuracy: 0.5262 - val_loss: 0.8843 - val_accuracy: 0.5185\n",
            "Epoch 6/50\n",
            "5/5 [==============================] - 0s 12ms/step - loss: 0.8111 - accuracy: 0.6254 - val_loss: 0.8631 - val_accuracy: 0.6111\n",
            "Epoch 7/50\n",
            "5/5 [==============================] - 0s 12ms/step - loss: 0.7856 - accuracy: 0.7059 - val_loss: 0.8404 - val_accuracy: 0.6667\n",
            "Epoch 8/50\n",
            "5/5 [==============================] - 0s 12ms/step - loss: 0.7721 - accuracy: 0.6694 - val_loss: 0.8196 - val_accuracy: 0.6852\n",
            "Epoch 9/50\n",
            "5/5 [==============================] - 0s 14ms/step - loss: 0.7482 - accuracy: 0.6853 - val_loss: 0.8041 - val_accuracy: 0.6852\n",
            "Epoch 10/50\n",
            "5/5 [==============================] - 0s 15ms/step - loss: 0.7562 - accuracy: 0.7596 - val_loss: 0.7885 - val_accuracy: 0.6852\n",
            "Epoch 11/50\n",
            "5/5 [==============================] - 0s 13ms/step - loss: 0.7160 - accuracy: 0.7326 - val_loss: 0.7773 - val_accuracy: 0.6852\n",
            "Epoch 12/50\n",
            "5/5 [==============================] - 0s 13ms/step - loss: 0.7192 - accuracy: 0.7640 - val_loss: 0.7652 - val_accuracy: 0.7222\n",
            "Epoch 13/50\n",
            "5/5 [==============================] - 0s 13ms/step - loss: 0.6987 - accuracy: 0.7850 - val_loss: 0.7523 - val_accuracy: 0.7778\n",
            "Epoch 14/50\n",
            "5/5 [==============================] - 0s 14ms/step - loss: 0.6981 - accuracy: 0.7726 - val_loss: 0.7394 - val_accuracy: 0.7778\n",
            "Epoch 15/50\n",
            "5/5 [==============================] - 0s 14ms/step - loss: 0.6517 - accuracy: 0.8313 - val_loss: 0.7274 - val_accuracy: 0.7778\n",
            "Epoch 16/50\n",
            "5/5 [==============================] - 0s 14ms/step - loss: 0.6459 - accuracy: 0.8255 - val_loss: 0.7141 - val_accuracy: 0.7778\n",
            "Epoch 17/50\n",
            "5/5 [==============================] - 0s 13ms/step - loss: 0.6113 - accuracy: 0.8755 - val_loss: 0.7001 - val_accuracy: 0.7407\n",
            "Epoch 18/50\n",
            "5/5 [==============================] - 0s 12ms/step - loss: 0.6261 - accuracy: 0.8183 - val_loss: 0.6916 - val_accuracy: 0.7593\n",
            "Epoch 19/50\n",
            "5/5 [==============================] - 0s 13ms/step - loss: 0.6547 - accuracy: 0.8052 - val_loss: 0.6814 - val_accuracy: 0.7963\n",
            "Epoch 20/50\n",
            "5/5 [==============================] - 0s 12ms/step - loss: 0.6146 - accuracy: 0.8257 - val_loss: 0.6668 - val_accuracy: 0.7778\n",
            "Epoch 21/50\n",
            "5/5 [==============================] - 0s 12ms/step - loss: 0.6290 - accuracy: 0.8230 - val_loss: 0.6577 - val_accuracy: 0.8519\n",
            "Epoch 22/50\n",
            "5/5 [==============================] - 0s 13ms/step - loss: 0.6314 - accuracy: 0.8269 - val_loss: 0.6470 - val_accuracy: 0.8519\n",
            "Epoch 23/50\n",
            "5/5 [==============================] - 0s 12ms/step - loss: 0.5489 - accuracy: 0.8965 - val_loss: 0.6315 - val_accuracy: 0.8519\n",
            "Epoch 24/50\n",
            "5/5 [==============================] - 0s 13ms/step - loss: 0.5828 - accuracy: 0.8553 - val_loss: 0.6245 - val_accuracy: 0.8333\n",
            "Epoch 25/50\n",
            "5/5 [==============================] - 0s 12ms/step - loss: 0.5757 - accuracy: 0.8328 - val_loss: 0.6121 - val_accuracy: 0.8704\n",
            "Epoch 26/50\n",
            "5/5 [==============================] - 0s 12ms/step - loss: 0.5562 - accuracy: 0.8737 - val_loss: 0.6005 - val_accuracy: 0.8704\n",
            "Epoch 27/50\n",
            "5/5 [==============================] - 0s 13ms/step - loss: 0.5586 - accuracy: 0.8676 - val_loss: 0.5892 - val_accuracy: 0.8704\n",
            "Epoch 28/50\n",
            "5/5 [==============================] - 0s 11ms/step - loss: 0.5452 - accuracy: 0.8735 - val_loss: 0.5781 - val_accuracy: 0.8889\n",
            "Epoch 29/50\n",
            "5/5 [==============================] - 0s 12ms/step - loss: 0.5305 - accuracy: 0.8757 - val_loss: 0.5659 - val_accuracy: 0.8889\n",
            "Epoch 30/50\n",
            "5/5 [==============================] - 0s 12ms/step - loss: 0.5223 - accuracy: 0.8912 - val_loss: 0.5543 - val_accuracy: 0.8889\n",
            "Epoch 31/50\n",
            "5/5 [==============================] - 0s 12ms/step - loss: 0.5175 - accuracy: 0.8709 - val_loss: 0.5453 - val_accuracy: 0.8889\n",
            "Epoch 32/50\n",
            "5/5 [==============================] - 0s 13ms/step - loss: 0.5018 - accuracy: 0.8854 - val_loss: 0.5362 - val_accuracy: 0.8889\n",
            "Epoch 33/50\n",
            "5/5 [==============================] - 0s 12ms/step - loss: 0.4992 - accuracy: 0.8828 - val_loss: 0.5263 - val_accuracy: 0.9074\n",
            "Epoch 34/50\n",
            "5/5 [==============================] - 0s 13ms/step - loss: 0.5182 - accuracy: 0.8742 - val_loss: 0.5230 - val_accuracy: 0.8889\n",
            "Epoch 35/50\n",
            "5/5 [==============================] - 0s 13ms/step - loss: 0.4898 - accuracy: 0.8887 - val_loss: 0.5113 - val_accuracy: 0.9074\n",
            "Epoch 36/50\n",
            "5/5 [==============================] - 0s 13ms/step - loss: 0.4667 - accuracy: 0.9038 - val_loss: 0.5020 - val_accuracy: 0.9074\n",
            "Epoch 37/50\n",
            "5/5 [==============================] - 0s 12ms/step - loss: 0.4717 - accuracy: 0.8981 - val_loss: 0.4943 - val_accuracy: 0.9074\n",
            "Epoch 38/50\n",
            "5/5 [==============================] - 0s 12ms/step - loss: 0.4667 - accuracy: 0.9019 - val_loss: 0.4863 - val_accuracy: 0.9074\n",
            "Epoch 39/50\n",
            "5/5 [==============================] - 0s 14ms/step - loss: 0.4681 - accuracy: 0.9035 - val_loss: 0.4800 - val_accuracy: 0.9074\n",
            "Epoch 40/50\n",
            "5/5 [==============================] - 0s 13ms/step - loss: 0.4657 - accuracy: 0.8846 - val_loss: 0.4725 - val_accuracy: 0.9074\n",
            "Epoch 41/50\n",
            "5/5 [==============================] - 0s 12ms/step - loss: 0.4427 - accuracy: 0.9161 - val_loss: 0.4693 - val_accuracy: 0.9074\n",
            "Epoch 42/50\n",
            "5/5 [==============================] - 0s 13ms/step - loss: 0.4560 - accuracy: 0.9007 - val_loss: 0.4630 - val_accuracy: 0.9074\n",
            "Epoch 43/50\n",
            "5/5 [==============================] - 0s 13ms/step - loss: 0.4419 - accuracy: 0.9025 - val_loss: 0.4552 - val_accuracy: 0.9074\n",
            "Epoch 44/50\n",
            "5/5 [==============================] - 0s 14ms/step - loss: 0.4206 - accuracy: 0.9090 - val_loss: 0.4510 - val_accuracy: 0.9259\n",
            "Epoch 45/50\n",
            "5/5 [==============================] - 0s 13ms/step - loss: 0.4214 - accuracy: 0.9076 - val_loss: 0.4432 - val_accuracy: 0.9259\n",
            "Epoch 46/50\n",
            "5/5 [==============================] - 0s 12ms/step - loss: 0.4059 - accuracy: 0.9264 - val_loss: 0.4354 - val_accuracy: 0.9259\n",
            "Epoch 47/50\n",
            "5/5 [==============================] - 0s 12ms/step - loss: 0.3890 - accuracy: 0.9324 - val_loss: 0.4292 - val_accuracy: 0.9259\n",
            "Epoch 48/50\n",
            "5/5 [==============================] - 0s 12ms/step - loss: 0.3904 - accuracy: 0.9462 - val_loss: 0.4241 - val_accuracy: 0.9259\n",
            "Epoch 49/50\n",
            "5/5 [==============================] - 0s 12ms/step - loss: 0.3862 - accuracy: 0.9108 - val_loss: 0.4185 - val_accuracy: 0.9259\n",
            "Epoch 50/50\n",
            "5/5 [==============================] - 0s 12ms/step - loss: 0.3951 - accuracy: 0.9140 - val_loss: 0.4122 - val_accuracy: 0.9259\n",
            "processing fold # 2\n",
            "Epoch 1/50\n",
            "5/5 [==============================] - 1s 65ms/step - loss: 0.9437 - accuracy: 0.4639 - val_loss: 0.9286 - val_accuracy: 0.3889\n",
            "Epoch 2/50\n",
            "5/5 [==============================] - 0s 13ms/step - loss: 0.8990 - accuracy: 0.4812 - val_loss: 0.8949 - val_accuracy: 0.3519\n",
            "Epoch 3/50\n",
            "5/5 [==============================] - 0s 11ms/step - loss: 0.8388 - accuracy: 0.5461 - val_loss: 0.8645 - val_accuracy: 0.4630\n",
            "Epoch 4/50\n",
            "5/5 [==============================] - 0s 12ms/step - loss: 0.8213 - accuracy: 0.5613 - val_loss: 0.8393 - val_accuracy: 0.5370\n",
            "Epoch 5/50\n",
            "5/5 [==============================] - 0s 13ms/step - loss: 0.7748 - accuracy: 0.6851 - val_loss: 0.8149 - val_accuracy: 0.6296\n",
            "Epoch 6/50\n",
            "5/5 [==============================] - 0s 13ms/step - loss: 0.7540 - accuracy: 0.7005 - val_loss: 0.7932 - val_accuracy: 0.6667\n",
            "Epoch 7/50\n",
            "5/5 [==============================] - 0s 11ms/step - loss: 0.7143 - accuracy: 0.7809 - val_loss: 0.7749 - val_accuracy: 0.7222\n",
            "Epoch 8/50\n",
            "5/5 [==============================] - 0s 13ms/step - loss: 0.7370 - accuracy: 0.7138 - val_loss: 0.7591 - val_accuracy: 0.7037\n",
            "Epoch 9/50\n",
            "5/5 [==============================] - 0s 13ms/step - loss: 0.7013 - accuracy: 0.7998 - val_loss: 0.7429 - val_accuracy: 0.7037\n",
            "Epoch 10/50\n",
            "5/5 [==============================] - 0s 13ms/step - loss: 0.6781 - accuracy: 0.7890 - val_loss: 0.7292 - val_accuracy: 0.7037\n",
            "Epoch 11/50\n",
            "5/5 [==============================] - 0s 13ms/step - loss: 0.6731 - accuracy: 0.8123 - val_loss: 0.7168 - val_accuracy: 0.7222\n",
            "Epoch 12/50\n",
            "5/5 [==============================] - 0s 12ms/step - loss: 0.6398 - accuracy: 0.8454 - val_loss: 0.7032 - val_accuracy: 0.7593\n",
            "Epoch 13/50\n",
            "5/5 [==============================] - 0s 12ms/step - loss: 0.6836 - accuracy: 0.7984 - val_loss: 0.6931 - val_accuracy: 0.7593\n",
            "Epoch 14/50\n",
            "5/5 [==============================] - 0s 15ms/step - loss: 0.6188 - accuracy: 0.8438 - val_loss: 0.6802 - val_accuracy: 0.7593\n",
            "Epoch 15/50\n",
            "5/5 [==============================] - 0s 13ms/step - loss: 0.5974 - accuracy: 0.8624 - val_loss: 0.6684 - val_accuracy: 0.7778\n",
            "Epoch 16/50\n",
            "5/5 [==============================] - 0s 14ms/step - loss: 0.6258 - accuracy: 0.8531 - val_loss: 0.6623 - val_accuracy: 0.7963\n",
            "Epoch 17/50\n",
            "5/5 [==============================] - 0s 14ms/step - loss: 0.5931 - accuracy: 0.8460 - val_loss: 0.6539 - val_accuracy: 0.7963\n",
            "Epoch 18/50\n",
            "5/5 [==============================] - 0s 15ms/step - loss: 0.5887 - accuracy: 0.8334 - val_loss: 0.6434 - val_accuracy: 0.7963\n",
            "Epoch 19/50\n",
            "5/5 [==============================] - 0s 16ms/step - loss: 0.5843 - accuracy: 0.8502 - val_loss: 0.6341 - val_accuracy: 0.7963\n",
            "Epoch 20/50\n",
            "5/5 [==============================] - 0s 13ms/step - loss: 0.5801 - accuracy: 0.8676 - val_loss: 0.6277 - val_accuracy: 0.7963\n",
            "Epoch 21/50\n",
            "5/5 [==============================] - 0s 15ms/step - loss: 0.5521 - accuracy: 0.8721 - val_loss: 0.6168 - val_accuracy: 0.7963\n",
            "Epoch 22/50\n",
            "5/5 [==============================] - 0s 13ms/step - loss: 0.5656 - accuracy: 0.8383 - val_loss: 0.6103 - val_accuracy: 0.7963\n",
            "Epoch 23/50\n",
            "5/5 [==============================] - 0s 13ms/step - loss: 0.5445 - accuracy: 0.8828 - val_loss: 0.6060 - val_accuracy: 0.8148\n",
            "Epoch 24/50\n",
            "5/5 [==============================] - 0s 14ms/step - loss: 0.5352 - accuracy: 0.8764 - val_loss: 0.6008 - val_accuracy: 0.8333\n",
            "Epoch 25/50\n",
            "5/5 [==============================] - 0s 14ms/step - loss: 0.5478 - accuracy: 0.8746 - val_loss: 0.5920 - val_accuracy: 0.8519\n",
            "Epoch 26/50\n",
            "5/5 [==============================] - 0s 12ms/step - loss: 0.5052 - accuracy: 0.8998 - val_loss: 0.5856 - val_accuracy: 0.8519\n",
            "Epoch 27/50\n",
            "5/5 [==============================] - 0s 14ms/step - loss: 0.5166 - accuracy: 0.8958 - val_loss: 0.5785 - val_accuracy: 0.8333\n",
            "Epoch 28/50\n",
            "5/5 [==============================] - 0s 12ms/step - loss: 0.4925 - accuracy: 0.9186 - val_loss: 0.5743 - val_accuracy: 0.8148\n",
            "Epoch 29/50\n",
            "5/5 [==============================] - 0s 12ms/step - loss: 0.4520 - accuracy: 0.9262 - val_loss: 0.5676 - val_accuracy: 0.8333\n",
            "Epoch 30/50\n",
            "5/5 [==============================] - 0s 14ms/step - loss: 0.4578 - accuracy: 0.9050 - val_loss: 0.5616 - val_accuracy: 0.8148\n",
            "Epoch 31/50\n",
            "5/5 [==============================] - 0s 14ms/step - loss: 0.4679 - accuracy: 0.9079 - val_loss: 0.5556 - val_accuracy: 0.8148\n",
            "Epoch 32/50\n",
            "5/5 [==============================] - 0s 13ms/step - loss: 0.4346 - accuracy: 0.9288 - val_loss: 0.5482 - val_accuracy: 0.8148\n",
            "Epoch 33/50\n",
            "5/5 [==============================] - 0s 12ms/step - loss: 0.4580 - accuracy: 0.9009 - val_loss: 0.5416 - val_accuracy: 0.8148\n",
            "Epoch 34/50\n",
            "5/5 [==============================] - 0s 14ms/step - loss: 0.4131 - accuracy: 0.9455 - val_loss: 0.5368 - val_accuracy: 0.8148\n",
            "Epoch 35/50\n",
            "5/5 [==============================] - 0s 12ms/step - loss: 0.4244 - accuracy: 0.9424 - val_loss: 0.5307 - val_accuracy: 0.8148\n",
            "Epoch 36/50\n",
            "5/5 [==============================] - 0s 12ms/step - loss: 0.4331 - accuracy: 0.9260 - val_loss: 0.5317 - val_accuracy: 0.8148\n",
            "Epoch 37/50\n",
            "5/5 [==============================] - 0s 13ms/step - loss: 0.3951 - accuracy: 0.9433 - val_loss: 0.5328 - val_accuracy: 0.8148\n",
            "Epoch 38/50\n",
            "5/5 [==============================] - 0s 13ms/step - loss: 0.4051 - accuracy: 0.9610 - val_loss: 0.5185 - val_accuracy: 0.8148\n",
            "Epoch 39/50\n",
            "5/5 [==============================] - 0s 12ms/step - loss: 0.4004 - accuracy: 0.9373 - val_loss: 0.5067 - val_accuracy: 0.8333\n",
            "Epoch 40/50\n",
            "5/5 [==============================] - 0s 12ms/step - loss: 0.3798 - accuracy: 0.9544 - val_loss: 0.5074 - val_accuracy: 0.8148\n",
            "Epoch 41/50\n",
            "5/5 [==============================] - 0s 12ms/step - loss: 0.3792 - accuracy: 0.9431 - val_loss: 0.4993 - val_accuracy: 0.8519\n",
            "Epoch 42/50\n",
            "5/5 [==============================] - 0s 12ms/step - loss: 0.3737 - accuracy: 0.9387 - val_loss: 0.4944 - val_accuracy: 0.8333\n",
            "Epoch 43/50\n",
            "5/5 [==============================] - 0s 13ms/step - loss: 0.3543 - accuracy: 0.9756 - val_loss: 0.4833 - val_accuracy: 0.8519\n",
            "Epoch 44/50\n",
            "5/5 [==============================] - 0s 15ms/step - loss: 0.3785 - accuracy: 0.9520 - val_loss: 0.4819 - val_accuracy: 0.8519\n",
            "Epoch 45/50\n",
            "5/5 [==============================] - 0s 14ms/step - loss: 0.3667 - accuracy: 0.9462 - val_loss: 0.4808 - val_accuracy: 0.8519\n",
            "Epoch 46/50\n",
            "5/5 [==============================] - 0s 12ms/step - loss: 0.3624 - accuracy: 0.9551 - val_loss: 0.4696 - val_accuracy: 0.8519\n",
            "Epoch 47/50\n",
            "5/5 [==============================] - 0s 13ms/step - loss: 0.3421 - accuracy: 0.9746 - val_loss: 0.4604 - val_accuracy: 0.8519\n",
            "Epoch 48/50\n",
            "5/5 [==============================] - 0s 13ms/step - loss: 0.3368 - accuracy: 0.9734 - val_loss: 0.4517 - val_accuracy: 0.8519\n",
            "Epoch 49/50\n",
            "5/5 [==============================] - 0s 14ms/step - loss: 0.3382 - accuracy: 0.9560 - val_loss: 0.4497 - val_accuracy: 0.8519\n",
            "Epoch 50/50\n",
            "5/5 [==============================] - 0s 12ms/step - loss: 0.3150 - accuracy: 0.9792 - val_loss: 0.4484 - val_accuracy: 0.8519\n",
            "processing fold # 3\n",
            "Epoch 1/50\n",
            "5/5 [==============================] - 1s 66ms/step - loss: 0.9683 - accuracy: 0.4821 - val_loss: 0.8558 - val_accuracy: 0.5185\n",
            "Epoch 2/50\n",
            "5/5 [==============================] - 0s 13ms/step - loss: 0.9331 - accuracy: 0.4477 - val_loss: 0.8280 - val_accuracy: 0.5926\n",
            "Epoch 3/50\n",
            "5/5 [==============================] - 0s 15ms/step - loss: 0.8929 - accuracy: 0.5165 - val_loss: 0.8159 - val_accuracy: 0.6111\n",
            "Epoch 4/50\n",
            "5/5 [==============================] - 0s 12ms/step - loss: 0.8204 - accuracy: 0.5690 - val_loss: 0.7999 - val_accuracy: 0.6111\n",
            "Epoch 5/50\n",
            "5/5 [==============================] - 0s 13ms/step - loss: 0.8268 - accuracy: 0.5421 - val_loss: 0.7917 - val_accuracy: 0.6296\n",
            "Epoch 6/50\n",
            "5/5 [==============================] - 0s 14ms/step - loss: 0.7878 - accuracy: 0.5987 - val_loss: 0.7847 - val_accuracy: 0.6481\n",
            "Epoch 7/50\n",
            "5/5 [==============================] - 0s 13ms/step - loss: 0.7739 - accuracy: 0.6476 - val_loss: 0.7657 - val_accuracy: 0.6481\n",
            "Epoch 8/50\n",
            "5/5 [==============================] - 0s 12ms/step - loss: 0.7463 - accuracy: 0.6905 - val_loss: 0.7558 - val_accuracy: 0.6667\n",
            "Epoch 9/50\n",
            "5/5 [==============================] - 0s 15ms/step - loss: 0.7319 - accuracy: 0.6910 - val_loss: 0.7433 - val_accuracy: 0.7222\n",
            "Epoch 10/50\n",
            "5/5 [==============================] - 0s 13ms/step - loss: 0.6988 - accuracy: 0.7644 - val_loss: 0.7281 - val_accuracy: 0.7222\n",
            "Epoch 11/50\n",
            "5/5 [==============================] - 0s 13ms/step - loss: 0.6774 - accuracy: 0.7815 - val_loss: 0.7190 - val_accuracy: 0.7222\n",
            "Epoch 12/50\n",
            "5/5 [==============================] - 0s 14ms/step - loss: 0.6839 - accuracy: 0.7539 - val_loss: 0.7097 - val_accuracy: 0.7037\n",
            "Epoch 13/50\n",
            "5/5 [==============================] - 0s 13ms/step - loss: 0.6754 - accuracy: 0.7790 - val_loss: 0.6943 - val_accuracy: 0.7407\n",
            "Epoch 14/50\n",
            "5/5 [==============================] - 0s 18ms/step - loss: 0.6640 - accuracy: 0.7755 - val_loss: 0.6850 - val_accuracy: 0.7778\n",
            "Epoch 15/50\n",
            "5/5 [==============================] - 0s 13ms/step - loss: 0.6505 - accuracy: 0.8023 - val_loss: 0.6721 - val_accuracy: 0.7778\n",
            "Epoch 16/50\n",
            "5/5 [==============================] - 0s 14ms/step - loss: 0.6611 - accuracy: 0.7850 - val_loss: 0.6610 - val_accuracy: 0.7963\n",
            "Epoch 17/50\n",
            "5/5 [==============================] - 0s 13ms/step - loss: 0.6060 - accuracy: 0.8198 - val_loss: 0.6480 - val_accuracy: 0.7963\n",
            "Epoch 18/50\n",
            "5/5 [==============================] - 0s 14ms/step - loss: 0.6100 - accuracy: 0.8086 - val_loss: 0.6420 - val_accuracy: 0.7963\n",
            "Epoch 19/50\n",
            "5/5 [==============================] - 0s 14ms/step - loss: 0.5807 - accuracy: 0.8510 - val_loss: 0.6306 - val_accuracy: 0.7963\n",
            "Epoch 20/50\n",
            "5/5 [==============================] - 0s 14ms/step - loss: 0.5956 - accuracy: 0.8228 - val_loss: 0.6209 - val_accuracy: 0.7963\n",
            "Epoch 21/50\n",
            "5/5 [==============================] - 0s 14ms/step - loss: 0.5648 - accuracy: 0.8368 - val_loss: 0.6119 - val_accuracy: 0.7963\n",
            "Epoch 22/50\n",
            "5/5 [==============================] - 0s 14ms/step - loss: 0.5411 - accuracy: 0.8500 - val_loss: 0.6054 - val_accuracy: 0.8148\n",
            "Epoch 23/50\n",
            "5/5 [==============================] - 0s 14ms/step - loss: 0.5441 - accuracy: 0.8638 - val_loss: 0.6006 - val_accuracy: 0.8148\n",
            "Epoch 24/50\n",
            "5/5 [==============================] - 0s 13ms/step - loss: 0.5373 - accuracy: 0.8683 - val_loss: 0.5919 - val_accuracy: 0.8148\n",
            "Epoch 25/50\n",
            "5/5 [==============================] - 0s 14ms/step - loss: 0.5353 - accuracy: 0.8843 - val_loss: 0.5800 - val_accuracy: 0.8148\n",
            "Epoch 26/50\n",
            "5/5 [==============================] - 0s 12ms/step - loss: 0.5289 - accuracy: 0.8585 - val_loss: 0.5664 - val_accuracy: 0.8148\n",
            "Epoch 27/50\n",
            "5/5 [==============================] - 0s 14ms/step - loss: 0.5447 - accuracy: 0.8490 - val_loss: 0.5496 - val_accuracy: 0.8148\n",
            "Epoch 28/50\n",
            "5/5 [==============================] - 0s 15ms/step - loss: 0.5058 - accuracy: 0.8859 - val_loss: 0.5391 - val_accuracy: 0.8148\n",
            "Epoch 29/50\n",
            "5/5 [==============================] - 0s 15ms/step - loss: 0.5436 - accuracy: 0.8296 - val_loss: 0.5281 - val_accuracy: 0.8148\n",
            "Epoch 30/50\n",
            "5/5 [==============================] - 0s 14ms/step - loss: 0.4924 - accuracy: 0.8827 - val_loss: 0.5208 - val_accuracy: 0.8333\n",
            "Epoch 31/50\n",
            "5/5 [==============================] - 0s 14ms/step - loss: 0.4987 - accuracy: 0.8663 - val_loss: 0.5139 - val_accuracy: 0.8333\n",
            "Epoch 32/50\n",
            "5/5 [==============================] - 0s 15ms/step - loss: 0.5010 - accuracy: 0.8653 - val_loss: 0.4993 - val_accuracy: 0.8519\n",
            "Epoch 33/50\n",
            "5/5 [==============================] - 0s 13ms/step - loss: 0.4605 - accuracy: 0.8991 - val_loss: 0.4925 - val_accuracy: 0.8519\n",
            "Epoch 34/50\n",
            "5/5 [==============================] - 0s 14ms/step - loss: 0.4652 - accuracy: 0.8955 - val_loss: 0.4897 - val_accuracy: 0.8519\n",
            "Epoch 35/50\n",
            "5/5 [==============================] - 0s 14ms/step - loss: 0.4595 - accuracy: 0.9143 - val_loss: 0.4821 - val_accuracy: 0.8519\n",
            "Epoch 36/50\n",
            "5/5 [==============================] - 0s 13ms/step - loss: 0.4575 - accuracy: 0.8969 - val_loss: 0.4715 - val_accuracy: 0.8704\n",
            "Epoch 37/50\n",
            "5/5 [==============================] - 0s 13ms/step - loss: 0.4376 - accuracy: 0.8989 - val_loss: 0.4667 - val_accuracy: 0.8704\n",
            "Epoch 38/50\n",
            "5/5 [==============================] - 0s 12ms/step - loss: 0.4443 - accuracy: 0.9077 - val_loss: 0.4568 - val_accuracy: 0.8889\n",
            "Epoch 39/50\n",
            "5/5 [==============================] - 0s 13ms/step - loss: 0.4397 - accuracy: 0.8892 - val_loss: 0.4531 - val_accuracy: 0.8889\n",
            "Epoch 40/50\n",
            "5/5 [==============================] - 0s 15ms/step - loss: 0.4071 - accuracy: 0.9245 - val_loss: 0.4481 - val_accuracy: 0.8889\n",
            "Epoch 41/50\n",
            "5/5 [==============================] - 0s 13ms/step - loss: 0.4188 - accuracy: 0.9237 - val_loss: 0.4295 - val_accuracy: 0.9074\n",
            "Epoch 42/50\n",
            "5/5 [==============================] - 0s 13ms/step - loss: 0.4104 - accuracy: 0.9281 - val_loss: 0.4264 - val_accuracy: 0.9074\n",
            "Epoch 43/50\n",
            "5/5 [==============================] - 0s 15ms/step - loss: 0.3928 - accuracy: 0.9393 - val_loss: 0.4112 - val_accuracy: 0.9074\n",
            "Epoch 44/50\n",
            "5/5 [==============================] - 0s 15ms/step - loss: 0.4022 - accuracy: 0.9015 - val_loss: 0.4120 - val_accuracy: 0.9259\n",
            "Epoch 45/50\n",
            "5/5 [==============================] - 0s 13ms/step - loss: 0.4127 - accuracy: 0.9249 - val_loss: 0.4052 - val_accuracy: 0.9259\n",
            "Epoch 46/50\n",
            "5/5 [==============================] - 0s 13ms/step - loss: 0.3875 - accuracy: 0.9161 - val_loss: 0.4014 - val_accuracy: 0.9259\n",
            "Epoch 47/50\n",
            "5/5 [==============================] - 0s 14ms/step - loss: 0.3838 - accuracy: 0.9242 - val_loss: 0.3918 - val_accuracy: 0.9259\n",
            "Epoch 48/50\n",
            "5/5 [==============================] - 0s 13ms/step - loss: 0.3910 - accuracy: 0.9113 - val_loss: 0.3837 - val_accuracy: 0.9259\n",
            "Epoch 49/50\n",
            "5/5 [==============================] - 0s 14ms/step - loss: 0.3570 - accuracy: 0.9524 - val_loss: 0.3745 - val_accuracy: 0.9630\n",
            "Epoch 50/50\n",
            "5/5 [==============================] - 0s 13ms/step - loss: 0.3315 - accuracy: 0.9581 - val_loss: 0.3649 - val_accuracy: 0.9630\n",
            "processing fold # 4\n",
            "Epoch 1/50\n",
            "5/5 [==============================] - 1s 64ms/step - loss: 0.8815 - accuracy: 0.5090 - val_loss: 0.8630 - val_accuracy: 0.4630\n",
            "Epoch 2/50\n",
            "5/5 [==============================] - 0s 12ms/step - loss: 0.8420 - accuracy: 0.5525 - val_loss: 0.8387 - val_accuracy: 0.5556\n",
            "Epoch 3/50\n",
            "5/5 [==============================] - 0s 13ms/step - loss: 0.8031 - accuracy: 0.6897 - val_loss: 0.8202 - val_accuracy: 0.6111\n",
            "Epoch 4/50\n",
            "5/5 [==============================] - 0s 14ms/step - loss: 0.7848 - accuracy: 0.6676 - val_loss: 0.8040 - val_accuracy: 0.7222\n",
            "Epoch 5/50\n",
            "5/5 [==============================] - 0s 15ms/step - loss: 0.7458 - accuracy: 0.7606 - val_loss: 0.7893 - val_accuracy: 0.7407\n",
            "Epoch 6/50\n",
            "5/5 [==============================] - 0s 14ms/step - loss: 0.7561 - accuracy: 0.7154 - val_loss: 0.7704 - val_accuracy: 0.7593\n",
            "Epoch 7/50\n",
            "5/5 [==============================] - 0s 13ms/step - loss: 0.7321 - accuracy: 0.7443 - val_loss: 0.7553 - val_accuracy: 0.7593\n",
            "Epoch 8/50\n",
            "5/5 [==============================] - 0s 15ms/step - loss: 0.7143 - accuracy: 0.7927 - val_loss: 0.7403 - val_accuracy: 0.7593\n",
            "Epoch 9/50\n",
            "5/5 [==============================] - 0s 13ms/step - loss: 0.6882 - accuracy: 0.8208 - val_loss: 0.7259 - val_accuracy: 0.7778\n",
            "Epoch 10/50\n",
            "5/5 [==============================] - 0s 14ms/step - loss: 0.7199 - accuracy: 0.7671 - val_loss: 0.7104 - val_accuracy: 0.7593\n",
            "Epoch 11/50\n",
            "5/5 [==============================] - 0s 13ms/step - loss: 0.6596 - accuracy: 0.8131 - val_loss: 0.6953 - val_accuracy: 0.8148\n",
            "Epoch 12/50\n",
            "5/5 [==============================] - 0s 14ms/step - loss: 0.6379 - accuracy: 0.8435 - val_loss: 0.6814 - val_accuracy: 0.8148\n",
            "Epoch 13/50\n",
            "5/5 [==============================] - 0s 13ms/step - loss: 0.6598 - accuracy: 0.8270 - val_loss: 0.6685 - val_accuracy: 0.8333\n",
            "Epoch 14/50\n",
            "5/5 [==============================] - 0s 14ms/step - loss: 0.6322 - accuracy: 0.8487 - val_loss: 0.6560 - val_accuracy: 0.8333\n",
            "Epoch 15/50\n",
            "5/5 [==============================] - 0s 14ms/step - loss: 0.6405 - accuracy: 0.8337 - val_loss: 0.6452 - val_accuracy: 0.8519\n",
            "Epoch 16/50\n",
            "5/5 [==============================] - 0s 13ms/step - loss: 0.6086 - accuracy: 0.8460 - val_loss: 0.6349 - val_accuracy: 0.8333\n",
            "Epoch 17/50\n",
            "5/5 [==============================] - 0s 12ms/step - loss: 0.5919 - accuracy: 0.8538 - val_loss: 0.6270 - val_accuracy: 0.8333\n",
            "Epoch 18/50\n",
            "5/5 [==============================] - 0s 13ms/step - loss: 0.5790 - accuracy: 0.8909 - val_loss: 0.6179 - val_accuracy: 0.8333\n",
            "Epoch 19/50\n",
            "5/5 [==============================] - 0s 16ms/step - loss: 0.5893 - accuracy: 0.8507 - val_loss: 0.6077 - val_accuracy: 0.8519\n",
            "Epoch 20/50\n",
            "5/5 [==============================] - 0s 13ms/step - loss: 0.5657 - accuracy: 0.8629 - val_loss: 0.5990 - val_accuracy: 0.8333\n",
            "Epoch 21/50\n",
            "5/5 [==============================] - 0s 14ms/step - loss: 0.5420 - accuracy: 0.8860 - val_loss: 0.5900 - val_accuracy: 0.8333\n",
            "Epoch 22/50\n",
            "5/5 [==============================] - 0s 14ms/step - loss: 0.5626 - accuracy: 0.8537 - val_loss: 0.5823 - val_accuracy: 0.8148\n",
            "Epoch 23/50\n",
            "5/5 [==============================] - 0s 15ms/step - loss: 0.5530 - accuracy: 0.8540 - val_loss: 0.5745 - val_accuracy: 0.8148\n",
            "Epoch 24/50\n",
            "5/5 [==============================] - 0s 14ms/step - loss: 0.5263 - accuracy: 0.8743 - val_loss: 0.5657 - val_accuracy: 0.8148\n",
            "Epoch 25/50\n",
            "5/5 [==============================] - 0s 13ms/step - loss: 0.5170 - accuracy: 0.9062 - val_loss: 0.5571 - val_accuracy: 0.8148\n",
            "Epoch 26/50\n",
            "5/5 [==============================] - 0s 16ms/step - loss: 0.5193 - accuracy: 0.8541 - val_loss: 0.5472 - val_accuracy: 0.8148\n",
            "Epoch 27/50\n",
            "5/5 [==============================] - 0s 13ms/step - loss: 0.5016 - accuracy: 0.8625 - val_loss: 0.5382 - val_accuracy: 0.8148\n",
            "Epoch 28/50\n",
            "5/5 [==============================] - 0s 13ms/step - loss: 0.5100 - accuracy: 0.8735 - val_loss: 0.5279 - val_accuracy: 0.8148\n",
            "Epoch 29/50\n",
            "5/5 [==============================] - 0s 13ms/step - loss: 0.4866 - accuracy: 0.8944 - val_loss: 0.5202 - val_accuracy: 0.8333\n",
            "Epoch 30/50\n",
            "5/5 [==============================] - 0s 14ms/step - loss: 0.4809 - accuracy: 0.8718 - val_loss: 0.5128 - val_accuracy: 0.8333\n",
            "Epoch 31/50\n",
            "5/5 [==============================] - 0s 13ms/step - loss: 0.5063 - accuracy: 0.8760 - val_loss: 0.5037 - val_accuracy: 0.8519\n",
            "Epoch 32/50\n",
            "5/5 [==============================] - 0s 14ms/step - loss: 0.4987 - accuracy: 0.8774 - val_loss: 0.4974 - val_accuracy: 0.8333\n",
            "Epoch 33/50\n",
            "5/5 [==============================] - 0s 12ms/step - loss: 0.4427 - accuracy: 0.8916 - val_loss: 0.4878 - val_accuracy: 0.8519\n",
            "Epoch 34/50\n",
            "5/5 [==============================] - 0s 15ms/step - loss: 0.4840 - accuracy: 0.8955 - val_loss: 0.4800 - val_accuracy: 0.8519\n",
            "Epoch 35/50\n",
            "5/5 [==============================] - 0s 14ms/step - loss: 0.4318 - accuracy: 0.9083 - val_loss: 0.4721 - val_accuracy: 0.8519\n",
            "Epoch 36/50\n",
            "5/5 [==============================] - 0s 13ms/step - loss: 0.4389 - accuracy: 0.9016 - val_loss: 0.4663 - val_accuracy: 0.8333\n",
            "Epoch 37/50\n",
            "5/5 [==============================] - 0s 16ms/step - loss: 0.4706 - accuracy: 0.8593 - val_loss: 0.4610 - val_accuracy: 0.8333\n",
            "Epoch 38/50\n",
            "5/5 [==============================] - 0s 15ms/step - loss: 0.4178 - accuracy: 0.9154 - val_loss: 0.4531 - val_accuracy: 0.8333\n",
            "Epoch 39/50\n",
            "5/5 [==============================] - 0s 13ms/step - loss: 0.4387 - accuracy: 0.8945 - val_loss: 0.4464 - val_accuracy: 0.8519\n",
            "Epoch 40/50\n",
            "5/5 [==============================] - 0s 14ms/step - loss: 0.4293 - accuracy: 0.8925 - val_loss: 0.4386 - val_accuracy: 0.8519\n",
            "Epoch 41/50\n",
            "5/5 [==============================] - 0s 13ms/step - loss: 0.4408 - accuracy: 0.8614 - val_loss: 0.4281 - val_accuracy: 0.8704\n",
            "Epoch 42/50\n",
            "5/5 [==============================] - 0s 14ms/step - loss: 0.4014 - accuracy: 0.9080 - val_loss: 0.4248 - val_accuracy: 0.8704\n",
            "Epoch 43/50\n",
            "5/5 [==============================] - 0s 14ms/step - loss: 0.4133 - accuracy: 0.9120 - val_loss: 0.4178 - val_accuracy: 0.8704\n",
            "Epoch 44/50\n",
            "5/5 [==============================] - 0s 14ms/step - loss: 0.3955 - accuracy: 0.9189 - val_loss: 0.4084 - val_accuracy: 0.8704\n",
            "Epoch 45/50\n",
            "5/5 [==============================] - 0s 12ms/step - loss: 0.4120 - accuracy: 0.8959 - val_loss: 0.4027 - val_accuracy: 0.8889\n",
            "Epoch 46/50\n",
            "5/5 [==============================] - 0s 12ms/step - loss: 0.3886 - accuracy: 0.9081 - val_loss: 0.3941 - val_accuracy: 0.9074\n",
            "Epoch 47/50\n",
            "5/5 [==============================] - 0s 12ms/step - loss: 0.4100 - accuracy: 0.8905 - val_loss: 0.3861 - val_accuracy: 0.9259\n",
            "Epoch 48/50\n",
            "5/5 [==============================] - 0s 14ms/step - loss: 0.3773 - accuracy: 0.9148 - val_loss: 0.3782 - val_accuracy: 0.9259\n",
            "Epoch 49/50\n",
            "5/5 [==============================] - 0s 14ms/step - loss: 0.3709 - accuracy: 0.9259 - val_loss: 0.3715 - val_accuracy: 0.9444\n",
            "Epoch 50/50\n",
            "5/5 [==============================] - 0s 13ms/step - loss: 0.3903 - accuracy: 0.8915 - val_loss: 0.3661 - val_accuracy: 0.9444\n"
          ],
          "name": "stdout"
        },
        {
          "output_type": "execute_result",
          "data": {
            "text/plain": [
              "[0.37288302183151245,\n",
              " 0.3763365149497986,\n",
              " 0.33121809363365173,\n",
              " 0.35015103220939636,\n",
              " 0.3692587614059448]"
            ]
          },
          "metadata": {
            "tags": []
          },
          "execution_count": 95
        }
      ]
    },
    {
      "cell_type": "code",
      "metadata": {
        "colab": {
          "base_uri": "https://localhost:8080/",
          "height": 279
        },
        "id": "2pSjiDw6iUdv",
        "outputId": "9d567cf6-8266-49f3-b0ea-4bd5769f9cbd"
      },
      "source": [
        "plt.plot(range(1, len(ave_val_loss_hist)+1)[:], ave_val_loss_hist[:], \"bo\", label=\"Validation Loss\")\n",
        "plt.plot(range(1, len(ave_val_loss_hist)+1)[:], ave_loss_hist[:], \"b\", label=\"Training Loss\")\n",
        "plt.xlabel(\"Epochs\")\n",
        "plt.ylabel(\"Validation Loss\")\n",
        "plt.legend()\n",
        "plt.show()\n"
      ],
      "execution_count": 96,
      "outputs": [
        {
          "output_type": "display_data",
          "data": {
            "image/png": "[encoded data removed]",
            "text/plain": [
              "<Figure size 432x288 with 1 Axes>"
            ]
          },
          "metadata": {
            "tags": [],
            "needs_background": "light"
          }
        }
      ]
    },
    {
      "cell_type": "code",
      "metadata": {
        "colab": {
          "base_uri": "https://localhost:8080/",
          "height": 279
        },
        "id": "VShQoRrqulob",
        "outputId": "3c77ceea-3f41-4d85-b616-933570b97f7b"
      },
      "source": [
        "plt.plot(range(1, len(ave_val_acc_hist)+1)[:], ave_val_acc_hist[:], \"bo\", label=\"Validation Accuracy\")\n",
        "plt.plot(range(1, len(ave_val_acc_hist)+1)[:], ave_acc_hist[:], \"b\", label=\"Training Accuracy\")\n",
        "plt.xlabel(\"Epochs\")\n",
        "plt.ylabel(\"Validation Loss\")\n",
        "plt.legend()\n",
        "plt.show()"
      ],
      "execution_count": 97,
      "outputs": [
        {
          "output_type": "display_data",
          "data": {
            "image/png": "[encoded data removed]",
            "text/plain": [
              "<Figure size 432x288 with 1 Axes>"
            ]
          },
          "metadata": {
            "tags": [],
            "needs_background": "light"
          }
        }
      ]
    },
    {
      "cell_type": "markdown",
      "metadata": {
        "id": "BjRl3WP_6j6A"
      },
      "source": [
        "**Rebuilding the best fit Model**"
      ]
    },
    {
      "cell_type": "code",
      "metadata": {
        "id": "-QKPsAHR6nU8"
      },
      "source": [
        "model=models.Sequential()\n",
        "model.add(layers.Dense(16,kernel_regularizer=regularizers.l1_l2(l1=.001, l2=0.001) , activation=\"relu\", input_shape=(train_data.shape[1],)))\n",
        "model.add(layers.Dropout(.1))\n",
        "model.add(layers.Dense(16, kernel_regularizer=regularizers.l1_l2(l1=.001, l2=0.001), activation = \"relu\" ))\n",
        "model.add(layers.Dropout(.1))\n",
        "model.add(layers.Dense(1, activation=\"sigmoid\"))\n",
        "\n",
        "model.compile(optimizer=\"rmsprop\", loss = \"binary_crossentropy\", metrics=[\"accuracy\"])"
      ],
      "execution_count": 98,
      "outputs": []
    },
    {
      "cell_type": "markdown",
      "metadata": {
        "id": "ueZnXmec6wn_"
      },
      "source": [
        "**Training the model with all samples**"
      ]
    },
    {
      "cell_type": "code",
      "metadata": {
        "colab": {
          "base_uri": "https://localhost:8080/"
        },
        "id": "KAmbT8wk6xlO",
        "outputId": "ff6aa603-2603-43a0-e7da-0ea22060f7d7"
      },
      "source": [
        "model.fit(train_data, train_labels, epochs=50)"
      ],
      "execution_count": 99,
      "outputs": [
        {
          "output_type": "stream",
          "text": [
            "Epoch 1/50\n",
            "9/9 [==============================] - 1s 2ms/step - loss: 0.8582 - accuracy: 0.5927\n",
            "Epoch 2/50\n",
            "9/9 [==============================] - 0s 2ms/step - loss: 0.8002 - accuracy: 0.6463\n",
            "Epoch 3/50\n",
            "9/9 [==============================] - 0s 2ms/step - loss: 0.7806 - accuracy: 0.6796\n",
            "Epoch 4/50\n",
            "9/9 [==============================] - 0s 2ms/step - loss: 0.7450 - accuracy: 0.6844\n",
            "Epoch 5/50\n",
            "9/9 [==============================] - 0s 3ms/step - loss: 0.7137 - accuracy: 0.7372\n",
            "Epoch 6/50\n",
            "9/9 [==============================] - 0s 2ms/step - loss: 0.7018 - accuracy: 0.7941\n",
            "Epoch 7/50\n",
            "9/9 [==============================] - 0s 1ms/step - loss: 0.6771 - accuracy: 0.8130\n",
            "Epoch 8/50\n",
            "9/9 [==============================] - 0s 2ms/step - loss: 0.6809 - accuracy: 0.7733\n",
            "Epoch 9/50\n",
            "9/9 [==============================] - 0s 2ms/step - loss: 0.6254 - accuracy: 0.8266\n",
            "Epoch 10/50\n",
            "9/9 [==============================] - 0s 2ms/step - loss: 0.6257 - accuracy: 0.7948\n",
            "Epoch 11/50\n",
            "9/9 [==============================] - 0s 2ms/step - loss: 0.5973 - accuracy: 0.8547\n",
            "Epoch 12/50\n",
            "9/9 [==============================] - 0s 2ms/step - loss: 0.6047 - accuracy: 0.8041\n",
            "Epoch 13/50\n",
            "9/9 [==============================] - 0s 2ms/step - loss: 0.5737 - accuracy: 0.8492\n",
            "Epoch 14/50\n",
            "9/9 [==============================] - 0s 2ms/step - loss: 0.5508 - accuracy: 0.8516\n",
            "Epoch 15/50\n",
            "9/9 [==============================] - 0s 2ms/step - loss: 0.5252 - accuracy: 0.8591\n",
            "Epoch 16/50\n",
            "9/9 [==============================] - 0s 3ms/step - loss: 0.5120 - accuracy: 0.8823\n",
            "Epoch 17/50\n",
            "9/9 [==============================] - 0s 2ms/step - loss: 0.4872 - accuracy: 0.9020\n",
            "Epoch 18/50\n",
            "9/9 [==============================] - 0s 2ms/step - loss: 0.4749 - accuracy: 0.8903\n",
            "Epoch 19/50\n",
            "9/9 [==============================] - 0s 2ms/step - loss: 0.4648 - accuracy: 0.9288\n",
            "Epoch 20/50\n",
            "9/9 [==============================] - 0s 2ms/step - loss: 0.4901 - accuracy: 0.8877\n",
            "Epoch 21/50\n",
            "9/9 [==============================] - 0s 2ms/step - loss: 0.4345 - accuracy: 0.8996\n",
            "Epoch 22/50\n",
            "9/9 [==============================] - 0s 2ms/step - loss: 0.4566 - accuracy: 0.8979\n",
            "Epoch 23/50\n",
            "9/9 [==============================] - 0s 3ms/step - loss: 0.4366 - accuracy: 0.8876\n",
            "Epoch 24/50\n",
            "9/9 [==============================] - 0s 2ms/step - loss: 0.4189 - accuracy: 0.9212\n",
            "Epoch 25/50\n",
            "9/9 [==============================] - 0s 2ms/step - loss: 0.4113 - accuracy: 0.9221\n",
            "Epoch 26/50\n",
            "9/9 [==============================] - 0s 3ms/step - loss: 0.3972 - accuracy: 0.9104\n",
            "Epoch 27/50\n",
            "9/9 [==============================] - 0s 2ms/step - loss: 0.3769 - accuracy: 0.9296\n",
            "Epoch 28/50\n",
            "9/9 [==============================] - 0s 2ms/step - loss: 0.3738 - accuracy: 0.9486\n",
            "Epoch 29/50\n",
            "9/9 [==============================] - 0s 2ms/step - loss: 0.3549 - accuracy: 0.9561\n",
            "Epoch 30/50\n",
            "9/9 [==============================] - 0s 2ms/step - loss: 0.3619 - accuracy: 0.9153\n",
            "Epoch 31/50\n",
            "9/9 [==============================] - 0s 2ms/step - loss: 0.3665 - accuracy: 0.9521\n",
            "Epoch 32/50\n",
            "9/9 [==============================] - 0s 2ms/step - loss: 0.3587 - accuracy: 0.9295\n",
            "Epoch 33/50\n",
            "9/9 [==============================] - 0s 2ms/step - loss: 0.3369 - accuracy: 0.9326\n",
            "Epoch 34/50\n",
            "9/9 [==============================] - 0s 2ms/step - loss: 0.3480 - accuracy: 0.9426\n",
            "Epoch 35/50\n",
            "9/9 [==============================] - 0s 2ms/step - loss: 0.3313 - accuracy: 0.9480\n",
            "Epoch 36/50\n",
            "9/9 [==============================] - 0s 2ms/step - loss: 0.3609 - accuracy: 0.9272\n",
            "Epoch 37/50\n",
            "9/9 [==============================] - 0s 2ms/step - loss: 0.3207 - accuracy: 0.9476\n",
            "Epoch 38/50\n",
            "9/9 [==============================] - 0s 2ms/step - loss: 0.3223 - accuracy: 0.9463\n",
            "Epoch 39/50\n",
            "9/9 [==============================] - 0s 2ms/step - loss: 0.3300 - accuracy: 0.9486\n",
            "Epoch 40/50\n",
            "9/9 [==============================] - 0s 3ms/step - loss: 0.2967 - accuracy: 0.9480\n",
            "Epoch 41/50\n",
            "9/9 [==============================] - 0s 2ms/step - loss: 0.3017 - accuracy: 0.9425\n",
            "Epoch 42/50\n",
            "9/9 [==============================] - 0s 2ms/step - loss: 0.3269 - accuracy: 0.9472\n",
            "Epoch 43/50\n",
            "9/9 [==============================] - 0s 2ms/step - loss: 0.3215 - accuracy: 0.9466\n",
            "Epoch 44/50\n",
            "9/9 [==============================] - 0s 3ms/step - loss: 0.2863 - accuracy: 0.9667\n",
            "Epoch 45/50\n",
            "9/9 [==============================] - 0s 2ms/step - loss: 0.3056 - accuracy: 0.9467\n",
            "Epoch 46/50\n",
            "9/9 [==============================] - 0s 2ms/step - loss: 0.2789 - accuracy: 0.9643\n",
            "Epoch 47/50\n",
            "9/9 [==============================] - 0s 2ms/step - loss: 0.2618 - accuracy: 0.9581\n",
            "Epoch 48/50\n",
            "9/9 [==============================] - 0s 2ms/step - loss: 0.2853 - accuracy: 0.9553\n",
            "Epoch 49/50\n",
            "9/9 [==============================] - 0s 2ms/step - loss: 0.2473 - accuracy: 0.9736\n",
            "Epoch 50/50\n",
            "9/9 [==============================] - 0s 2ms/step - loss: 0.2795 - accuracy: 0.9585\n"
          ],
          "name": "stdout"
        },
        {
          "output_type": "execute_result",
          "data": {
            "text/plain": [
              "<tensorflow.python.keras.callbacks.History at 0x7f03265bba50>"
            ]
          },
          "metadata": {
            "tags": []
          },
          "execution_count": 99
        }
      ]
    },
    {
      "cell_type": "markdown",
      "metadata": {
        "id": "Pgv4TrCd7KbY"
      },
      "source": [
        "**Evaluating the Network**"
      ]
    },
    {
      "cell_type": "code",
      "metadata": {
        "colab": {
          "base_uri": "https://localhost:8080/"
        },
        "id": "-ORGrBwIqAvH",
        "outputId": "81d84d15-3943-4e0e-a410-5f3e84dde698"
      },
      "source": [
        "test_loss_score, test_acc_score=model.evaluate(test_data, test_labels)"
      ],
      "execution_count": 100,
      "outputs": [
        {
          "output_type": "stream",
          "text": [
            "6/6 [==============================] - 0s 2ms/step - loss: 0.2585 - accuracy: 0.9611\n"
          ],
          "name": "stdout"
        }
      ]
    },
    {
      "cell_type": "code",
      "metadata": {
        "colab": {
          "base_uri": "https://localhost:8080/"
        },
        "id": "ZrXFKWctqI9W",
        "outputId": "97820529-10af-4eb6-dd35-d771fd610db3"
      },
      "source": [
        "test_acc_score *100"
      ],
      "execution_count": 101,
      "outputs": [
        {
          "output_type": "execute_result",
          "data": {
            "text/plain": [
              "96.11111283302307"
            ]
          },
          "metadata": {
            "tags": []
          },
          "execution_count": 101
        }
      ]
    },
    {
      "cell_type": "markdown",
      "metadata": {
        "id": "hWKkYGTDgmB_"
      },
      "source": [
        "**Predicting the Network**"
      ]
    },
    {
      "cell_type": "code",
      "metadata": {
        "id": "7IPuJNW3qOuc"
      },
      "source": [
        "prediction=model.predict(test_data)\n",
        "pred_norm =np.where(prediction>.5, 1, 0)\n",
        "pred_norm=np.where(pred_norm==1, \"g\", \"b\")"
      ],
      "execution_count": 102,
      "outputs": []
    },
    {
      "cell_type": "code",
      "metadata": {
        "colab": {
          "base_uri": "https://localhost:8080/"
        },
        "id": "S9zzbx5otb-D",
        "outputId": "323565b4-a910-474c-fb64-22fd1f794378"
      },
      "source": [
        "pred_norm = pred_norm.reshape(pred_norm.shape[0],)\n",
        "pred_norm[:10].T"
      ],
      "execution_count": 103,
      "outputs": [
        {
          "output_type": "execute_result",
          "data": {
            "text/plain": [
              "array(['g', 'g', 'g', 'b', 'g', 'b', 'b', 'b', 'b', 'b'], dtype='<U1')"
            ]
          },
          "metadata": {
            "tags": []
          },
          "execution_count": 103
        }
      ]
    },
    {
      "cell_type": "code",
      "metadata": {
        "id": "MV2IDjO7qYAg"
      },
      "source": [
        "test_labels_new = np.where(test_labels==1, \"g\", \"b\")"
      ],
      "execution_count": 104,
      "outputs": []
    },
    {
      "cell_type": "code",
      "metadata": {
        "colab": {
          "base_uri": "https://localhost:8080/"
        },
        "id": "4-SiadIbrLZJ",
        "outputId": "e074bd79-0a8b-4601-89fb-8e8be5a3748c"
      },
      "source": [
        "test_labels_new[:10].T"
      ],
      "execution_count": 105,
      "outputs": [
        {
          "output_type": "execute_result",
          "data": {
            "text/plain": [
              "array(['g', 'g', 'g', 'b', 'g', 'b', 'b', 'b', 'b', 'b'], dtype='<U1')"
            ]
          },
          "metadata": {
            "tags": []
          },
          "execution_count": 105
        }
      ]
    },
    {
      "cell_type": "code",
      "metadata": {
        "colab": {
          "base_uri": "https://localhost:8080/"
        },
        "id": "z3hSnJH4r7SZ",
        "outputId": "79b63b28-f654-4edc-a6fe-4db303774fc7"
      },
      "source": [
        "c= pred_norm.size\n",
        "c"
      ],
      "execution_count": 106,
      "outputs": [
        {
          "output_type": "execute_result",
          "data": {
            "text/plain": [
              "180"
            ]
          },
          "metadata": {
            "tags": []
          },
          "execution_count": 106
        }
      ]
    },
    {
      "cell_type": "code",
      "metadata": {
        "id": "3TmheyUKulmv"
      },
      "source": [
        "comapre_pred_test = test_labels_new == pred_norm"
      ],
      "execution_count": 107,
      "outputs": []
    },
    {
      "cell_type": "code",
      "metadata": {
        "colab": {
          "base_uri": "https://localhost:8080/"
        },
        "id": "Zh8aKiQTsgCh",
        "outputId": "b125eeec-175a-4626-bf15-2962fd2c54ad"
      },
      "source": [
        "b = comapre_pred_test[comapre_pred_test[:]==True].size\n",
        "b"
      ],
      "execution_count": 108,
      "outputs": [
        {
          "output_type": "execute_result",
          "data": {
            "text/plain": [
              "173"
            ]
          },
          "metadata": {
            "tags": []
          },
          "execution_count": 108
        }
      ]
    },
    {
      "cell_type": "code",
      "metadata": {
        "colab": {
          "base_uri": "https://localhost:8080/"
        },
        "id": "O2oCJ2_xtQBn",
        "outputId": "4a898cb5-5a29-4d33-b51f-0a6d282e9731"
      },
      "source": [
        "a = comapre_pred_test[comapre_pred_test[:]==False].size\n",
        "a"
      ],
      "execution_count": 109,
      "outputs": [
        {
          "output_type": "execute_result",
          "data": {
            "text/plain": [
              "7"
            ]
          },
          "metadata": {
            "tags": []
          },
          "execution_count": 109
        }
      ]
    },
    {
      "cell_type": "code",
      "metadata": {
        "colab": {
          "base_uri": "https://localhost:8080/"
        },
        "id": "QoVZIRgytUR1",
        "outputId": "9d17b469-0296-46b8-95ae-fefcdc3ccd42"
      },
      "source": [
        "print(\"Incorrect Predictions are:\", a, \"and Correct predictions are :\", b, \" the percentage is:\", round((b/c)*100,2), \"%\"  )"
      ],
      "execution_count": 110,
      "outputs": [
        {
          "output_type": "stream",
          "text": [
            "Incorrect Predictions are: 7 and Correct predictions are : 173  the percentage is: 96.11 %\n"
          ],
          "name": "stdout"
        }
      ]
    }
  ]
}