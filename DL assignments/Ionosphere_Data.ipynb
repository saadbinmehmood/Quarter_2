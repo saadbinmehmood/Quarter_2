{
  "nbformat": 4,
  "nbformat_minor": 0,
  "metadata": {
    "colab": {
      "name": "Ionosphere Data.ipynb",
      "provenance": [],
      "collapsed_sections": []
    },
    "kernelspec": {
      "name": "python3",
      "display_name": "Python 3"
    },
    "language_info": {
      "name": "python"
    }
  },
  "cells": [
    {
      "cell_type": "code",
      "metadata": {
        "id": "Qm6SVEktF6Pb"
      },
      "source": [
        "import tensorflow as tf\n",
        "import numpy as np\n",
        "import pandas as pd\n",
        "import matplotlib.pyplot as plt\n",
        "from keras import models\n",
        "from keras import layers\n",
        "from keras import regularizers\n",
        "#from sklearn.model_selection import train_test_split"
      ],
      "execution_count": 1,
      "outputs": []
    },
    {
      "cell_type": "code",
      "metadata": {
        "colab": {
          "resources": {
            "http://localhost:8080/nbextensions/google.colab/files.js": {
              "data": "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",
              "ok": true,
              "headers": [
                [
                  "content-type",
                  "application/javascript"
                ]
              ],
              "status": 200,
              "status_text": ""
            }
          },
          "base_uri": "https://localhost:8080/",
          "height": 73
        },
        "id": "x04KH4qVJLVH",
        "outputId": "e895ce99-1fb9-4949-aab4-4057907d6744"
      },
      "source": [
        "from google.colab import files\n",
        "uploaded = files.upload()"
      ],
      "execution_count": 2,
      "outputs": [
        {
          "output_type": "display_data",
          "data": {
            "text/html": [
              "\n",
              "     <input type=\"file\" id=\"files-4c067632-80bd-470a-a35d-6ca9d4f5fd9b\" name=\"files[]\" multiple disabled\n",
              "        style=\"border:none\" />\n",
              "     <output id=\"result-4c067632-80bd-470a-a35d-6ca9d4f5fd9b\">\n",
              "      Upload widget is only available when the cell has been executed in the\n",
              "      current browser session. Please rerun this cell to enable.\n",
              "      </output>\n",
              "      <script src=\"/nbextensions/google.colab/files.js\"></script> "
            ],
            "text/plain": [
              "<IPython.core.display.HTML object>"
            ]
          },
          "metadata": {
            "tags": []
          }
        },
        {
          "output_type": "stream",
          "text": [
            "Saving ionosphere_data.csv to ionosphere_data.csv\n"
          ],
          "name": "stdout"
        }
      ]
    },
    {
      "cell_type": "code",
      "metadata": {
        "id": "KyuugC0gJffo"
      },
      "source": [
        "import io\n",
        "df = pd.read_csv(io.BytesIO(uploaded[\"ionosphere_data.csv\"]))"
      ],
      "execution_count": 186,
      "outputs": []
    },
    {
      "cell_type": "markdown",
      "metadata": {
        "id": "dy_Ftds7J-Xo"
      },
      "source": [
        "**Verifying the Data**"
      ]
    },
    {
      "cell_type": "code",
      "metadata": {
        "colab": {
          "base_uri": "https://localhost:8080/"
        },
        "id": "nWnk-coqKuCA",
        "outputId": "e76831b0-fd68-4caa-cd83-dde28694d985"
      },
      "source": [
        "df.info()"
      ],
      "execution_count": 187,
      "outputs": [
        {
          "output_type": "stream",
          "text": [
            "<class 'pandas.core.frame.DataFrame'>\n",
            "RangeIndex: 351 entries, 0 to 350\n",
            "Data columns (total 35 columns):\n",
            " #   Column     Non-Null Count  Dtype  \n",
            "---  ------     --------------  -----  \n",
            " 0   feature1   351 non-null    int64  \n",
            " 1   feature2   351 non-null    int64  \n",
            " 2   feature3   351 non-null    float64\n",
            " 3   feature4   351 non-null    float64\n",
            " 4   feature5   351 non-null    float64\n",
            " 5   feature6   351 non-null    float64\n",
            " 6   feature7   351 non-null    float64\n",
            " 7   feature8   351 non-null    float64\n",
            " 8   feature9   351 non-null    float64\n",
            " 9   feature10  351 non-null    float64\n",
            " 10  feature11  351 non-null    float64\n",
            " 11  feature12  351 non-null    float64\n",
            " 12  feature13  351 non-null    float64\n",
            " 13  feature14  351 non-null    float64\n",
            " 14  feature15  351 non-null    float64\n",
            " 15  feature16  351 non-null    float64\n",
            " 16  feature17  351 non-null    float64\n",
            " 17  feature18  351 non-null    float64\n",
            " 18  feature19  351 non-null    float64\n",
            " 19  feature20  351 non-null    float64\n",
            " 20  feature21  351 non-null    float64\n",
            " 21  feature22  351 non-null    float64\n",
            " 22  feature23  351 non-null    float64\n",
            " 23  feature24  351 non-null    float64\n",
            " 24  feature25  351 non-null    float64\n",
            " 25  feature26  351 non-null    float64\n",
            " 26  feature27  351 non-null    float64\n",
            " 27  feature28  351 non-null    float64\n",
            " 28  feature29  351 non-null    float64\n",
            " 29  feature30  351 non-null    float64\n",
            " 30  feature31  351 non-null    float64\n",
            " 31  feature32  351 non-null    float64\n",
            " 32  feature33  351 non-null    float64\n",
            " 33  feature34  351 non-null    float64\n",
            " 34  label      351 non-null    object \n",
            "dtypes: float64(32), int64(2), object(1)\n",
            "memory usage: 96.1+ KB\n"
          ],
          "name": "stdout"
        }
      ]
    },
    {
      "cell_type": "code",
      "metadata": {
        "colab": {
          "base_uri": "https://localhost:8080/"
        },
        "id": "qtK1XYtQKxaq",
        "outputId": "edc6418c-742d-4b7c-d064-04ddf3e5d23e"
      },
      "source": [
        "normalized_data=df.copy()\n",
        "normalized_data.shape"
      ],
      "execution_count": 188,
      "outputs": [
        {
          "output_type": "execute_result",
          "data": {
            "text/plain": [
              "(351, 35)"
            ]
          },
          "metadata": {
            "tags": []
          },
          "execution_count": 188
        }
      ]
    },
    {
      "cell_type": "code",
      "metadata": {
        "colab": {
          "base_uri": "https://localhost:8080/",
          "height": 98
        },
        "id": "ytipkCAfQK3m",
        "outputId": "f728d47e-98aa-4f49-82f9-91b80c71df0a"
      },
      "source": [
        "normalized_data[normalized_data.duplicated()]"
      ],
      "execution_count": 189,
      "outputs": [
        {
          "output_type": "execute_result",
          "data": {
            "text/html": [
              "<div>\n",
              "<style scoped>\n",
              "    .dataframe tbody tr th:only-of-type {\n",
              "        vertical-align: middle;\n",
              "    }\n",
              "\n",
              "    .dataframe tbody tr th {\n",
              "        vertical-align: top;\n",
              "    }\n",
              "\n",
              "    .dataframe thead th {\n",
              "        text-align: right;\n",
              "    }\n",
              "</style>\n",
              "<table border=\"1\" class=\"dataframe\">\n",
              "  <thead>\n",
              "    <tr style=\"text-align: right;\">\n",
              "      <th></th>\n",
              "      <th>feature1</th>\n",
              "      <th>feature2</th>\n",
              "      <th>feature3</th>\n",
              "      <th>feature4</th>\n",
              "      <th>feature5</th>\n",
              "      <th>feature6</th>\n",
              "      <th>feature7</th>\n",
              "      <th>feature8</th>\n",
              "      <th>feature9</th>\n",
              "      <th>feature10</th>\n",
              "      <th>feature11</th>\n",
              "      <th>feature12</th>\n",
              "      <th>feature13</th>\n",
              "      <th>feature14</th>\n",
              "      <th>feature15</th>\n",
              "      <th>feature16</th>\n",
              "      <th>feature17</th>\n",
              "      <th>feature18</th>\n",
              "      <th>feature19</th>\n",
              "      <th>feature20</th>\n",
              "      <th>feature21</th>\n",
              "      <th>feature22</th>\n",
              "      <th>feature23</th>\n",
              "      <th>feature24</th>\n",
              "      <th>feature25</th>\n",
              "      <th>feature26</th>\n",
              "      <th>feature27</th>\n",
              "      <th>feature28</th>\n",
              "      <th>feature29</th>\n",
              "      <th>feature30</th>\n",
              "      <th>feature31</th>\n",
              "      <th>feature32</th>\n",
              "      <th>feature33</th>\n",
              "      <th>feature34</th>\n",
              "      <th>label</th>\n",
              "    </tr>\n",
              "  </thead>\n",
              "  <tbody>\n",
              "    <tr>\n",
              "      <th>248</th>\n",
              "      <td>0</td>\n",
              "      <td>0</td>\n",
              "      <td>0.0</td>\n",
              "      <td>0.0</td>\n",
              "      <td>0.0</td>\n",
              "      <td>0.0</td>\n",
              "      <td>0.0</td>\n",
              "      <td>0.0</td>\n",
              "      <td>0.0</td>\n",
              "      <td>0.0</td>\n",
              "      <td>0.0</td>\n",
              "      <td>0.0</td>\n",
              "      <td>0.0</td>\n",
              "      <td>0.0</td>\n",
              "      <td>0.0</td>\n",
              "      <td>0.0</td>\n",
              "      <td>0.0</td>\n",
              "      <td>0.0</td>\n",
              "      <td>0.0</td>\n",
              "      <td>0.0</td>\n",
              "      <td>0.0</td>\n",
              "      <td>0.0</td>\n",
              "      <td>0.0</td>\n",
              "      <td>0.0</td>\n",
              "      <td>0.0</td>\n",
              "      <td>0.0</td>\n",
              "      <td>1.0</td>\n",
              "      <td>-1.0</td>\n",
              "      <td>0.0</td>\n",
              "      <td>0.0</td>\n",
              "      <td>0.0</td>\n",
              "      <td>0.0</td>\n",
              "      <td>0.0</td>\n",
              "      <td>0.0</td>\n",
              "      <td>b</td>\n",
              "    </tr>\n",
              "  </tbody>\n",
              "</table>\n",
              "</div>"
            ],
            "text/plain": [
              "     feature1  feature2  feature3  ...  feature33  feature34  label\n",
              "248         0         0       0.0  ...        0.0        0.0      b\n",
              "\n",
              "[1 rows x 35 columns]"
            ]
          },
          "metadata": {
            "tags": []
          },
          "execution_count": 189
        }
      ]
    },
    {
      "cell_type": "code",
      "metadata": {
        "colab": {
          "base_uri": "https://localhost:8080/"
        },
        "id": "s26mbHH-LCCd",
        "outputId": "71402865-3b6d-426e-83af-a7fb3ae31041"
      },
      "source": [
        "normalized_data.drop_duplicates(inplace = True)\n",
        "normalized_data.shape"
      ],
      "execution_count": 190,
      "outputs": [
        {
          "output_type": "execute_result",
          "data": {
            "text/plain": [
              "(350, 35)"
            ]
          },
          "metadata": {
            "tags": []
          },
          "execution_count": 190
        }
      ]
    },
    {
      "cell_type": "code",
      "metadata": {
        "colab": {
          "base_uri": "https://localhost:8080/"
        },
        "id": "_2T0APoeLv0T",
        "outputId": "860ffdfc-9964-440e-ae88-d7cfd4a96db8"
      },
      "source": [
        "normalized_data[\"feature2\"].value_counts()"
      ],
      "execution_count": 191,
      "outputs": [
        {
          "output_type": "execute_result",
          "data": {
            "text/plain": [
              "0    350\n",
              "Name: feature2, dtype: int64"
            ]
          },
          "metadata": {
            "tags": []
          },
          "execution_count": 191
        }
      ]
    },
    {
      "cell_type": "code",
      "metadata": {
        "colab": {
          "base_uri": "https://localhost:8080/"
        },
        "id": "97UzPj0zMlrS",
        "outputId": "d85e44a7-2838-47ee-8619-1334c64b6b7e"
      },
      "source": [
        "normalized_data.drop(columns=[\"feature2\"], inplace = True)\n",
        "normalized_data.shape"
      ],
      "execution_count": 192,
      "outputs": [
        {
          "output_type": "execute_result",
          "data": {
            "text/plain": [
              "(350, 34)"
            ]
          },
          "metadata": {
            "tags": []
          },
          "execution_count": 192
        }
      ]
    },
    {
      "cell_type": "code",
      "metadata": {
        "colab": {
          "base_uri": "https://localhost:8080/"
        },
        "id": "uoWeCl7hPiQo",
        "outputId": "5711c6c5-a512-482a-e3ae-35afe9f5ed91"
      },
      "source": [
        "data = normalized_data # sample(normalized_data.shape[0], random_state=1)\n",
        "data.shape"
      ],
      "execution_count": 193,
      "outputs": [
        {
          "output_type": "execute_result",
          "data": {
            "text/plain": [
              "(350, 34)"
            ]
          },
          "metadata": {
            "tags": []
          },
          "execution_count": 193
        }
      ]
    },
    {
      "cell_type": "code",
      "metadata": {
        "id": "Dd1O86b6Zoa-"
      },
      "source": [
        "class_g = data[data[\"label\"]==\"g\"]\n",
        "class_b = data[data[\"label\"]==\"b\"]"
      ],
      "execution_count": 194,
      "outputs": []
    },
    {
      "cell_type": "code",
      "metadata": {
        "colab": {
          "base_uri": "https://localhost:8080/"
        },
        "id": "oO4aF2sMZpS2",
        "outputId": "0df18363-3946-4826-fae4-94b7571248f5"
      },
      "source": [
        "class_g.shape"
      ],
      "execution_count": 195,
      "outputs": [
        {
          "output_type": "execute_result",
          "data": {
            "text/plain": [
              "(225, 34)"
            ]
          },
          "metadata": {
            "tags": []
          },
          "execution_count": 195
        }
      ]
    },
    {
      "cell_type": "code",
      "metadata": {
        "colab": {
          "base_uri": "https://localhost:8080/"
        },
        "id": "zR-vBM32Zpke",
        "outputId": "1574421b-1efd-434f-ce6c-a8f1d6628ccc"
      },
      "source": [
        "class_b.shape"
      ],
      "execution_count": 196,
      "outputs": [
        {
          "output_type": "execute_result",
          "data": {
            "text/plain": [
              "(125, 34)"
            ]
          },
          "metadata": {
            "tags": []
          },
          "execution_count": 196
        }
      ]
    },
    {
      "cell_type": "code",
      "metadata": {
        "id": "aqygadalc-LY"
      },
      "source": [
        "class_b_over= class_b.sample(len(class_g), replace = True,)\n",
        "data_over = pd.concat([class_b_over, class_g], axis=0)"
      ],
      "execution_count": 197,
      "outputs": []
    },
    {
      "cell_type": "code",
      "metadata": {
        "colab": {
          "base_uri": "https://localhost:8080/"
        },
        "id": "ge4xbup4Zpwv",
        "outputId": "72729ccc-eda0-43f4-c4f2-dbf3a3312c91"
      },
      "source": [
        "data_over[\"label\"].value_counts()"
      ],
      "execution_count": 198,
      "outputs": [
        {
          "output_type": "execute_result",
          "data": {
            "text/plain": [
              "b    225\n",
              "g    225\n",
              "Name: label, dtype: int64"
            ]
          },
          "metadata": {
            "tags": []
          },
          "execution_count": 198
        }
      ]
    },
    {
      "cell_type": "code",
      "metadata": {
        "colab": {
          "base_uri": "https://localhost:8080/"
        },
        "id": "FpLJr7K_eM6r",
        "outputId": "c70c8c4a-d6e2-4d69-f06d-412c55f6a7d1"
      },
      "source": [
        "len(data_over)"
      ],
      "execution_count": 199,
      "outputs": [
        {
          "output_type": "execute_result",
          "data": {
            "text/plain": [
              "450"
            ]
          },
          "metadata": {
            "tags": []
          },
          "execution_count": 199
        }
      ]
    },
    {
      "cell_type": "markdown",
      "metadata": {
        "id": "Zwcdl1ZSQuy3"
      },
      "source": [
        "**Splitting the Traing and Testing data**"
      ]
    },
    {
      "cell_type": "code",
      "metadata": {
        "id": "DxwUy3F-LjI_"
      },
      "source": [
        "x_data = data_over.sample(frac=1) # Shuffling the data\n",
        "train_data_full= x_data.iloc[:270,:]\n",
        "test_data_full = x_data.iloc[270:, :]\n",
        "train_data = train_data_full.iloc[:, :-1]\n",
        "train_labels = train_data_full.iloc[:, -1]\n",
        "test_data = test_data_full.iloc[:, :-1]\n",
        "test_labels = test_data_full.iloc[:, -1]"
      ],
      "execution_count": 200,
      "outputs": []
    },
    {
      "cell_type": "code",
      "metadata": {
        "colab": {
          "base_uri": "https://localhost:8080/"
        },
        "id": "WqFw1Ql8Lj9S",
        "outputId": "de69d2ce-5dda-4d8a-d9f4-4939eb18d8bf"
      },
      "source": [
        "print(train_data.shape)\n",
        "print(test_data.shape)\n",
        "print(train_labels.shape)\n",
        "print(test_labels.shape)"
      ],
      "execution_count": 201,
      "outputs": [
        {
          "output_type": "stream",
          "text": [
            "(270, 33)\n",
            "(180, 33)\n",
            "(270,)\n",
            "(180,)\n"
          ],
          "name": "stdout"
        }
      ]
    },
    {
      "cell_type": "code",
      "metadata": {
        "colab": {
          "base_uri": "https://localhost:8080/"
        },
        "id": "VN9atXO9RiIR",
        "outputId": "6e89ee5f-4fbf-4e12-9a78-76c6e9ee13f0"
      },
      "source": [
        "train_data.shape, test_data.shape"
      ],
      "execution_count": 202,
      "outputs": [
        {
          "output_type": "execute_result",
          "data": {
            "text/plain": [
              "((270, 33), (180, 33))"
            ]
          },
          "metadata": {
            "tags": []
          },
          "execution_count": 202
        }
      ]
    },
    {
      "cell_type": "code",
      "metadata": {
        "colab": {
          "base_uri": "https://localhost:8080/"
        },
        "id": "1pWm6bhupHZB",
        "outputId": "09a364e9-286c-4494-ef13-9bf7c4e7dbe7"
      },
      "source": [
        "train_labels.shape, test_labels.shape"
      ],
      "execution_count": 203,
      "outputs": [
        {
          "output_type": "execute_result",
          "data": {
            "text/plain": [
              "((270,), (180,))"
            ]
          },
          "metadata": {
            "tags": []
          },
          "execution_count": 203
        }
      ]
    },
    {
      "cell_type": "markdown",
      "metadata": {
        "id": "A1566qUbSi4T"
      },
      "source": [
        "**Normalizing the data**"
      ]
    },
    {
      "cell_type": "code",
      "metadata": {
        "id": "TVKYVDaobtW-"
      },
      "source": [
        "mean = train_data.mean(axis=0)\n",
        "train_data -=mean\n",
        "std =train_data.std(axis=0)\n",
        "train_data /=std\n",
        "\n",
        "test_data -=mean\n",
        "test_data /=std"
      ],
      "execution_count": 205,
      "outputs": []
    },
    {
      "cell_type": "code",
      "metadata": {
        "id": "6BVeq4--TGHe"
      },
      "source": [
        "train_labels = np.where(train_labels ==\"g\", 1, 0 )\n",
        "test_labels = np.where(test_labels ==\"g\",1,0)\n",
        "\n",
        "train_labels=np.asarray(train_labels).astype(dtype=\"float64\")\n",
        "test_labels=np.asarray(test_labels).astype(dtype=\"float64\")"
      ],
      "execution_count": 206,
      "outputs": []
    },
    {
      "cell_type": "markdown",
      "metadata": {
        "id": "596dVSIih8P2"
      },
      "source": [
        "**Building the Network**"
      ]
    },
    {
      "cell_type": "code",
      "metadata": {
        "id": "VlqdGtmKhmq3"
      },
      "source": [
        "def build_model():\n",
        "  model=models.Sequential()\n",
        "  model.add(layers.Dense(16,kernel_regularizer=regularizers.l1_l2(l1=.001, l2=0.002) , activation=\"relu\", input_shape=(train_data.shape[1],)))\n",
        "  model.add(layers.Dropout(.1))\n",
        "  model.add(layers.Dense(16, kernel_regularizer=regularizers.l1_l2(l1=.001, l2=0.002), activation = \"relu\" ))\n",
        "  model.add(layers.Dropout(.1))\n",
        "  model.add(layers.Dense(1, activation=\"sigmoid\"))\n",
        "\n",
        "  model.compile(optimizer=\"rmsprop\", loss = \"binary_crossentropy\", metrics=[\"accuracy\"])\n",
        "  return model"
      ],
      "execution_count": 207,
      "outputs": []
    },
    {
      "cell_type": "markdown",
      "metadata": {
        "id": "qowYHYALiPOB"
      },
      "source": [
        "**K fold Validation**"
      ]
    },
    {
      "cell_type": "code",
      "metadata": {
        "colab": {
          "base_uri": "https://localhost:8080/"
        },
        "id": "b7llzdZyiFEL",
        "outputId": "913dbd05-fbfb-441a-e911-f931506da3aa"
      },
      "source": [
        "k= 5\n",
        "num_val_sample = len(train_data) // k\n",
        "num_epochs =40\n",
        "all_scores = []\n",
        "all_val_loss_histories = []\n",
        "all_val_acc_histories = []\n",
        "all_loss_histories =[]\n",
        "all_acc_histories = []\n",
        "\n",
        "for i in range(k):\n",
        "  print(\"processing fold #\",i)\n",
        "  val_data = train_data[i*num_val_sample:(i+1)*num_val_sample]\n",
        "  val_labels = train_labels[i*num_val_sample: (i+1)*num_val_sample]\n",
        "\n",
        "  partial_train_data=np.concatenate([train_data[:i*num_val_sample], train_data[(i+1)*num_val_sample:]], axis=0)\n",
        "  partial_train_labels=np.concatenate([train_labels[:i*num_val_sample], train_labels[(i+1)*num_val_sample:]], axis=0)\n",
        "\n",
        "  model=build_model()\n",
        "  history = model.fit(partial_train_data, partial_train_labels, validation_data = (val_data, val_labels), batch_size=4, epochs= num_epochs, verbose=1)\n",
        "  val_loss, val_acc = model.evaluate(test_data, test_labels, verbose=0)\n",
        "  val_loss_history = history.history[\"val_loss\"]\n",
        "  val_acc_history = history.history[\"val_accuracy\"]\n",
        "  loss_history = history.history[\"loss\"]\n",
        "  acc_history = history.history[\"accuracy\"]\n",
        "  all_loss_histories.append(loss_history)\n",
        "  all_acc_histories.append(acc_history)\n",
        "  all_val_loss_histories.append(val_loss_history)\n",
        "  all_val_acc_histories.append(val_acc_history)\n",
        "  all_scores.append(val_acc)\n",
        "ave_val_loss_hist = [np.mean([x[i] for x in all_val_loss_histories]) for i in range(num_epochs)]\n",
        "ave_loss_hist = [np.mean([x[i] for x in all_loss_histories]) for i in range(num_epochs)]\n",
        "ave_val_acc_hist = [np.mean([x[i] for x in all_val_acc_histories]) for i in range(num_epochs)]\n",
        "ave_acc_hist = [np.mean([x[i] for x in all_acc_histories]) for i in range(num_epochs)]\n",
        "all_scores\n"
      ],
      "execution_count": 208,
      "outputs": [
        {
          "output_type": "stream",
          "text": [
            "processing fold # 0\n",
            "Epoch 1/40\n",
            "54/54 [==============================] - 1s 7ms/step - loss: 0.9229 - accuracy: 0.5744 - val_loss: 0.8200 - val_accuracy: 0.6852\n",
            "Epoch 2/40\n",
            "54/54 [==============================] - 0s 2ms/step - loss: 0.8049 - accuracy: 0.6922 - val_loss: 0.7335 - val_accuracy: 0.7963\n",
            "Epoch 3/40\n",
            "54/54 [==============================] - 0s 2ms/step - loss: 0.7426 - accuracy: 0.7663 - val_loss: 0.6598 - val_accuracy: 0.8148\n",
            "Epoch 4/40\n",
            "54/54 [==============================] - 0s 2ms/step - loss: 0.6460 - accuracy: 0.8257 - val_loss: 0.6033 - val_accuracy: 0.8519\n",
            "Epoch 5/40\n",
            "54/54 [==============================] - 0s 2ms/step - loss: 0.6075 - accuracy: 0.8474 - val_loss: 0.5544 - val_accuracy: 0.8519\n",
            "Epoch 6/40\n",
            "54/54 [==============================] - 0s 2ms/step - loss: 0.5817 - accuracy: 0.8661 - val_loss: 0.5152 - val_accuracy: 0.8519\n",
            "Epoch 7/40\n",
            "54/54 [==============================] - 0s 2ms/step - loss: 0.5309 - accuracy: 0.8837 - val_loss: 0.4834 - val_accuracy: 0.8519\n",
            "Epoch 8/40\n",
            "54/54 [==============================] - 0s 2ms/step - loss: 0.4784 - accuracy: 0.9049 - val_loss: 0.4582 - val_accuracy: 0.8519\n",
            "Epoch 9/40\n",
            "54/54 [==============================] - 0s 2ms/step - loss: 0.4621 - accuracy: 0.8907 - val_loss: 0.4293 - val_accuracy: 0.8704\n",
            "Epoch 10/40\n",
            "54/54 [==============================] - 0s 2ms/step - loss: 0.4630 - accuracy: 0.8945 - val_loss: 0.4059 - val_accuracy: 0.8889\n",
            "Epoch 11/40\n",
            "54/54 [==============================] - 0s 2ms/step - loss: 0.4508 - accuracy: 0.9109 - val_loss: 0.3905 - val_accuracy: 0.8889\n",
            "Epoch 12/40\n",
            "54/54 [==============================] - 0s 2ms/step - loss: 0.4654 - accuracy: 0.9050 - val_loss: 0.3771 - val_accuracy: 0.9074\n",
            "Epoch 13/40\n",
            "54/54 [==============================] - 0s 2ms/step - loss: 0.3864 - accuracy: 0.9440 - val_loss: 0.3701 - val_accuracy: 0.9074\n",
            "Epoch 14/40\n",
            "54/54 [==============================] - 0s 2ms/step - loss: 0.4129 - accuracy: 0.8978 - val_loss: 0.3614 - val_accuracy: 0.9259\n",
            "Epoch 15/40\n",
            "54/54 [==============================] - 0s 2ms/step - loss: 0.3634 - accuracy: 0.9441 - val_loss: 0.3471 - val_accuracy: 0.9259\n",
            "Epoch 16/40\n",
            "54/54 [==============================] - 0s 3ms/step - loss: 0.4065 - accuracy: 0.9227 - val_loss: 0.3343 - val_accuracy: 0.9444\n",
            "Epoch 17/40\n",
            "54/54 [==============================] - 0s 2ms/step - loss: 0.3411 - accuracy: 0.9583 - val_loss: 0.3237 - val_accuracy: 0.9444\n",
            "Epoch 18/40\n",
            "54/54 [==============================] - 0s 2ms/step - loss: 0.2997 - accuracy: 0.9651 - val_loss: 0.3153 - val_accuracy: 0.9630\n",
            "Epoch 19/40\n",
            "54/54 [==============================] - 0s 2ms/step - loss: 0.3364 - accuracy: 0.9563 - val_loss: 0.3031 - val_accuracy: 0.9630\n",
            "Epoch 20/40\n",
            "54/54 [==============================] - 0s 2ms/step - loss: 0.3257 - accuracy: 0.9407 - val_loss: 0.3128 - val_accuracy: 0.9630\n",
            "Epoch 21/40\n",
            "54/54 [==============================] - 0s 2ms/step - loss: 0.3049 - accuracy: 0.9679 - val_loss: 0.2974 - val_accuracy: 0.9630\n",
            "Epoch 22/40\n",
            "54/54 [==============================] - 0s 2ms/step - loss: 0.2808 - accuracy: 0.9678 - val_loss: 0.2956 - val_accuracy: 0.9630\n",
            "Epoch 23/40\n",
            "54/54 [==============================] - 0s 2ms/step - loss: 0.3012 - accuracy: 0.9494 - val_loss: 0.2943 - val_accuracy: 0.9444\n",
            "Epoch 24/40\n",
            "54/54 [==============================] - 0s 2ms/step - loss: 0.2664 - accuracy: 0.9530 - val_loss: 0.2982 - val_accuracy: 0.9444\n",
            "Epoch 25/40\n",
            "54/54 [==============================] - 0s 2ms/step - loss: 0.2925 - accuracy: 0.9600 - val_loss: 0.2910 - val_accuracy: 0.9630\n",
            "Epoch 26/40\n",
            "54/54 [==============================] - 0s 2ms/step - loss: 0.2740 - accuracy: 0.9658 - val_loss: 0.2868 - val_accuracy: 0.9444\n",
            "Epoch 27/40\n",
            "54/54 [==============================] - 0s 2ms/step - loss: 0.2097 - accuracy: 0.9810 - val_loss: 0.2784 - val_accuracy: 0.9444\n",
            "Epoch 28/40\n",
            "54/54 [==============================] - 0s 3ms/step - loss: 0.2524 - accuracy: 0.9570 - val_loss: 0.2802 - val_accuracy: 0.9444\n",
            "Epoch 29/40\n",
            "54/54 [==============================] - 0s 2ms/step - loss: 0.2565 - accuracy: 0.9591 - val_loss: 0.2695 - val_accuracy: 0.9259\n",
            "Epoch 30/40\n",
            "54/54 [==============================] - 0s 2ms/step - loss: 0.2319 - accuracy: 0.9596 - val_loss: 0.2662 - val_accuracy: 0.9259\n",
            "Epoch 31/40\n",
            "54/54 [==============================] - 0s 2ms/step - loss: 0.2337 - accuracy: 0.9763 - val_loss: 0.2693 - val_accuracy: 0.9259\n",
            "Epoch 32/40\n",
            "54/54 [==============================] - 0s 2ms/step - loss: 0.2382 - accuracy: 0.9847 - val_loss: 0.2674 - val_accuracy: 0.9259\n",
            "Epoch 33/40\n",
            "54/54 [==============================] - 0s 2ms/step - loss: 0.2467 - accuracy: 0.9692 - val_loss: 0.2681 - val_accuracy: 0.9444\n",
            "Epoch 34/40\n",
            "54/54 [==============================] - 0s 2ms/step - loss: 0.2325 - accuracy: 0.9805 - val_loss: 0.2627 - val_accuracy: 0.9259\n",
            "Epoch 35/40\n",
            "54/54 [==============================] - 0s 2ms/step - loss: 0.2596 - accuracy: 0.9512 - val_loss: 0.2586 - val_accuracy: 0.9444\n",
            "Epoch 36/40\n",
            "54/54 [==============================] - 0s 2ms/step - loss: 0.2227 - accuracy: 0.9768 - val_loss: 0.2511 - val_accuracy: 0.9444\n",
            "Epoch 37/40\n",
            "54/54 [==============================] - 0s 3ms/step - loss: 0.1954 - accuracy: 0.9871 - val_loss: 0.2562 - val_accuracy: 0.9444\n",
            "Epoch 38/40\n",
            "54/54 [==============================] - 0s 2ms/step - loss: 0.1904 - accuracy: 0.9935 - val_loss: 0.2476 - val_accuracy: 0.9444\n",
            "Epoch 39/40\n",
            "54/54 [==============================] - 0s 2ms/step - loss: 0.2039 - accuracy: 0.9664 - val_loss: 0.2437 - val_accuracy: 0.9630\n",
            "Epoch 40/40\n",
            "54/54 [==============================] - 0s 2ms/step - loss: 0.1906 - accuracy: 0.9739 - val_loss: 0.2450 - val_accuracy: 0.9444\n",
            "processing fold # 1\n",
            "Epoch 1/40\n",
            "54/54 [==============================] - 1s 7ms/step - loss: 0.9096 - accuracy: 0.5529 - val_loss: 0.7900 - val_accuracy: 0.7407\n",
            "Epoch 2/40\n",
            "54/54 [==============================] - 0s 2ms/step - loss: 0.8044 - accuracy: 0.6780 - val_loss: 0.6852 - val_accuracy: 0.8704\n",
            "Epoch 3/40\n",
            "54/54 [==============================] - 0s 2ms/step - loss: 0.7678 - accuracy: 0.7527 - val_loss: 0.5961 - val_accuracy: 0.9074\n",
            "Epoch 4/40\n",
            "54/54 [==============================] - 0s 2ms/step - loss: 0.6461 - accuracy: 0.8141 - val_loss: 0.5266 - val_accuracy: 0.9444\n",
            "Epoch 5/40\n",
            "54/54 [==============================] - 0s 2ms/step - loss: 0.5977 - accuracy: 0.8458 - val_loss: 0.4714 - val_accuracy: 0.9444\n",
            "Epoch 6/40\n",
            "54/54 [==============================] - 0s 2ms/step - loss: 0.5486 - accuracy: 0.8519 - val_loss: 0.4311 - val_accuracy: 0.9444\n",
            "Epoch 7/40\n",
            "54/54 [==============================] - 0s 2ms/step - loss: 0.4754 - accuracy: 0.9172 - val_loss: 0.3995 - val_accuracy: 0.9444\n",
            "Epoch 8/40\n",
            "54/54 [==============================] - 0s 2ms/step - loss: 0.4343 - accuracy: 0.9034 - val_loss: 0.3804 - val_accuracy: 0.9630\n",
            "Epoch 9/40\n",
            "54/54 [==============================] - 0s 2ms/step - loss: 0.4645 - accuracy: 0.8615 - val_loss: 0.3633 - val_accuracy: 0.9630\n",
            "Epoch 10/40\n",
            "54/54 [==============================] - 0s 2ms/step - loss: 0.4307 - accuracy: 0.9222 - val_loss: 0.3542 - val_accuracy: 0.9630\n",
            "Epoch 11/40\n",
            "54/54 [==============================] - 0s 2ms/step - loss: 0.3727 - accuracy: 0.9418 - val_loss: 0.3524 - val_accuracy: 0.9074\n",
            "Epoch 12/40\n",
            "54/54 [==============================] - 0s 2ms/step - loss: 0.3593 - accuracy: 0.9510 - val_loss: 0.3589 - val_accuracy: 0.9074\n",
            "Epoch 13/40\n",
            "54/54 [==============================] - 0s 2ms/step - loss: 0.3231 - accuracy: 0.9637 - val_loss: 0.3601 - val_accuracy: 0.9074\n",
            "Epoch 14/40\n",
            "54/54 [==============================] - 0s 2ms/step - loss: 0.3400 - accuracy: 0.9403 - val_loss: 0.3737 - val_accuracy: 0.9074\n",
            "Epoch 15/40\n",
            "54/54 [==============================] - 0s 2ms/step - loss: 0.3312 - accuracy: 0.9410 - val_loss: 0.3692 - val_accuracy: 0.9074\n",
            "Epoch 16/40\n",
            "54/54 [==============================] - 0s 2ms/step - loss: 0.2984 - accuracy: 0.9601 - val_loss: 0.3743 - val_accuracy: 0.9074\n",
            "Epoch 17/40\n",
            "54/54 [==============================] - 0s 2ms/step - loss: 0.2993 - accuracy: 0.9586 - val_loss: 0.3872 - val_accuracy: 0.9074\n",
            "Epoch 18/40\n",
            "54/54 [==============================] - 0s 2ms/step - loss: 0.2613 - accuracy: 0.9701 - val_loss: 0.4078 - val_accuracy: 0.8889\n",
            "Epoch 19/40\n",
            "54/54 [==============================] - 0s 2ms/step - loss: 0.2862 - accuracy: 0.9456 - val_loss: 0.3964 - val_accuracy: 0.9074\n",
            "Epoch 20/40\n",
            "54/54 [==============================] - 0s 3ms/step - loss: 0.2466 - accuracy: 0.9723 - val_loss: 0.4034 - val_accuracy: 0.8889\n",
            "Epoch 21/40\n",
            "54/54 [==============================] - 0s 2ms/step - loss: 0.2642 - accuracy: 0.9502 - val_loss: 0.3979 - val_accuracy: 0.9074\n",
            "Epoch 22/40\n",
            "54/54 [==============================] - 0s 2ms/step - loss: 0.2615 - accuracy: 0.9556 - val_loss: 0.4078 - val_accuracy: 0.8889\n",
            "Epoch 23/40\n",
            "54/54 [==============================] - 0s 2ms/step - loss: 0.2613 - accuracy: 0.9447 - val_loss: 0.4171 - val_accuracy: 0.8889\n",
            "Epoch 24/40\n",
            "54/54 [==============================] - 0s 2ms/step - loss: 0.2569 - accuracy: 0.9620 - val_loss: 0.4183 - val_accuracy: 0.8889\n",
            "Epoch 25/40\n",
            "54/54 [==============================] - 0s 2ms/step - loss: 0.2112 - accuracy: 0.9696 - val_loss: 0.4193 - val_accuracy: 0.8889\n",
            "Epoch 26/40\n",
            "54/54 [==============================] - 0s 2ms/step - loss: 0.2254 - accuracy: 0.9773 - val_loss: 0.4011 - val_accuracy: 0.8889\n",
            "Epoch 27/40\n",
            "54/54 [==============================] - 0s 2ms/step - loss: 0.2281 - accuracy: 0.9797 - val_loss: 0.3850 - val_accuracy: 0.8889\n",
            "Epoch 28/40\n",
            "54/54 [==============================] - 0s 2ms/step - loss: 0.2279 - accuracy: 0.9658 - val_loss: 0.4089 - val_accuracy: 0.8889\n",
            "Epoch 29/40\n",
            "54/54 [==============================] - 0s 2ms/step - loss: 0.2028 - accuracy: 0.9794 - val_loss: 0.4094 - val_accuracy: 0.8889\n",
            "Epoch 30/40\n",
            "54/54 [==============================] - 0s 2ms/step - loss: 0.2247 - accuracy: 0.9627 - val_loss: 0.4106 - val_accuracy: 0.8889\n",
            "Epoch 31/40\n",
            "54/54 [==============================] - 0s 2ms/step - loss: 0.2294 - accuracy: 0.9717 - val_loss: 0.4297 - val_accuracy: 0.8889\n",
            "Epoch 32/40\n",
            "54/54 [==============================] - 0s 3ms/step - loss: 0.2051 - accuracy: 0.9736 - val_loss: 0.4207 - val_accuracy: 0.8889\n",
            "Epoch 33/40\n",
            "54/54 [==============================] - 0s 3ms/step - loss: 0.1975 - accuracy: 0.9713 - val_loss: 0.4306 - val_accuracy: 0.8889\n",
            "Epoch 34/40\n",
            "54/54 [==============================] - 0s 2ms/step - loss: 0.2032 - accuracy: 0.9720 - val_loss: 0.4456 - val_accuracy: 0.8889\n",
            "Epoch 35/40\n",
            "54/54 [==============================] - 0s 2ms/step - loss: 0.1947 - accuracy: 0.9841 - val_loss: 0.4297 - val_accuracy: 0.8889\n",
            "Epoch 36/40\n",
            "54/54 [==============================] - 0s 2ms/step - loss: 0.2421 - accuracy: 0.9538 - val_loss: 0.4485 - val_accuracy: 0.8889\n",
            "Epoch 37/40\n",
            "54/54 [==============================] - 0s 2ms/step - loss: 0.2444 - accuracy: 0.9475 - val_loss: 0.4204 - val_accuracy: 0.8889\n",
            "Epoch 38/40\n",
            "54/54 [==============================] - 0s 2ms/step - loss: 0.2129 - accuracy: 0.9590 - val_loss: 0.4082 - val_accuracy: 0.8889\n",
            "Epoch 39/40\n",
            "54/54 [==============================] - 0s 2ms/step - loss: 0.1594 - accuracy: 0.9829 - val_loss: 0.4049 - val_accuracy: 0.8889\n",
            "Epoch 40/40\n",
            "54/54 [==============================] - 0s 3ms/step - loss: 0.1855 - accuracy: 0.9812 - val_loss: 0.4058 - val_accuracy: 0.8889\n",
            "processing fold # 2\n",
            "Epoch 1/40\n",
            "54/54 [==============================] - 1s 7ms/step - loss: 0.8944 - accuracy: 0.6511 - val_loss: 0.7929 - val_accuracy: 0.8148\n",
            "Epoch 2/40\n",
            "54/54 [==============================] - 0s 2ms/step - loss: 0.7349 - accuracy: 0.7338 - val_loss: 0.7217 - val_accuracy: 0.7963\n",
            "Epoch 3/40\n",
            "54/54 [==============================] - 0s 2ms/step - loss: 0.6448 - accuracy: 0.8167 - val_loss: 0.6669 - val_accuracy: 0.8333\n",
            "Epoch 4/40\n",
            "54/54 [==============================] - 0s 2ms/step - loss: 0.6065 - accuracy: 0.8777 - val_loss: 0.6300 - val_accuracy: 0.8519\n",
            "Epoch 5/40\n",
            "54/54 [==============================] - 0s 3ms/step - loss: 0.5889 - accuracy: 0.8380 - val_loss: 0.5957 - val_accuracy: 0.8519\n",
            "Epoch 6/40\n",
            "54/54 [==============================] - 0s 2ms/step - loss: 0.5343 - accuracy: 0.8872 - val_loss: 0.5672 - val_accuracy: 0.8519\n",
            "Epoch 7/40\n",
            "54/54 [==============================] - 0s 2ms/step - loss: 0.5319 - accuracy: 0.8955 - val_loss: 0.5476 - val_accuracy: 0.8519\n",
            "Epoch 8/40\n",
            "54/54 [==============================] - 0s 2ms/step - loss: 0.5023 - accuracy: 0.8890 - val_loss: 0.5296 - val_accuracy: 0.8704\n",
            "Epoch 9/40\n",
            "54/54 [==============================] - 0s 3ms/step - loss: 0.4648 - accuracy: 0.9202 - val_loss: 0.5196 - val_accuracy: 0.8704\n",
            "Epoch 10/40\n",
            "54/54 [==============================] - 0s 2ms/step - loss: 0.4176 - accuracy: 0.9301 - val_loss: 0.5081 - val_accuracy: 0.8704\n",
            "Epoch 11/40\n",
            "54/54 [==============================] - 0s 2ms/step - loss: 0.4093 - accuracy: 0.8986 - val_loss: 0.4982 - val_accuracy: 0.8704\n",
            "Epoch 12/40\n",
            "54/54 [==============================] - 0s 2ms/step - loss: 0.3626 - accuracy: 0.9327 - val_loss: 0.4890 - val_accuracy: 0.8704\n",
            "Epoch 13/40\n",
            "54/54 [==============================] - 0s 2ms/step - loss: 0.3445 - accuracy: 0.9458 - val_loss: 0.4783 - val_accuracy: 0.8704\n",
            "Epoch 14/40\n",
            "54/54 [==============================] - 0s 2ms/step - loss: 0.3757 - accuracy: 0.9153 - val_loss: 0.4708 - val_accuracy: 0.8704\n",
            "Epoch 15/40\n",
            "54/54 [==============================] - 0s 2ms/step - loss: 0.4180 - accuracy: 0.8871 - val_loss: 0.4607 - val_accuracy: 0.8704\n",
            "Epoch 16/40\n",
            "54/54 [==============================] - 0s 2ms/step - loss: 0.3514 - accuracy: 0.9117 - val_loss: 0.4586 - val_accuracy: 0.8889\n",
            "Epoch 17/40\n",
            "54/54 [==============================] - 0s 2ms/step - loss: 0.2983 - accuracy: 0.9613 - val_loss: 0.4557 - val_accuracy: 0.8704\n",
            "Epoch 18/40\n",
            "54/54 [==============================] - 0s 2ms/step - loss: 0.3934 - accuracy: 0.9112 - val_loss: 0.4413 - val_accuracy: 0.8704\n",
            "Epoch 19/40\n",
            "54/54 [==============================] - 0s 2ms/step - loss: 0.2810 - accuracy: 0.9711 - val_loss: 0.4352 - val_accuracy: 0.8889\n",
            "Epoch 20/40\n",
            "54/54 [==============================] - 0s 2ms/step - loss: 0.2762 - accuracy: 0.9653 - val_loss: 0.4347 - val_accuracy: 0.8519\n",
            "Epoch 21/40\n",
            "54/54 [==============================] - 0s 2ms/step - loss: 0.2532 - accuracy: 0.9707 - val_loss: 0.4354 - val_accuracy: 0.8704\n",
            "Epoch 22/40\n",
            "54/54 [==============================] - 0s 2ms/step - loss: 0.2543 - accuracy: 0.9754 - val_loss: 0.4270 - val_accuracy: 0.8889\n",
            "Epoch 23/40\n",
            "54/54 [==============================] - 0s 2ms/step - loss: 0.2369 - accuracy: 0.9798 - val_loss: 0.4205 - val_accuracy: 0.8889\n",
            "Epoch 24/40\n",
            "54/54 [==============================] - 0s 2ms/step - loss: 0.2961 - accuracy: 0.9539 - val_loss: 0.4228 - val_accuracy: 0.8889\n",
            "Epoch 25/40\n",
            "54/54 [==============================] - 0s 3ms/step - loss: 0.2244 - accuracy: 0.9739 - val_loss: 0.4196 - val_accuracy: 0.8889\n",
            "Epoch 26/40\n",
            "54/54 [==============================] - 0s 2ms/step - loss: 0.2402 - accuracy: 0.9755 - val_loss: 0.4114 - val_accuracy: 0.8889\n",
            "Epoch 27/40\n",
            "54/54 [==============================] - 0s 2ms/step - loss: 0.2346 - accuracy: 0.9679 - val_loss: 0.3969 - val_accuracy: 0.8889\n",
            "Epoch 28/40\n",
            "54/54 [==============================] - 0s 2ms/step - loss: 0.2432 - accuracy: 0.9601 - val_loss: 0.3997 - val_accuracy: 0.8889\n",
            "Epoch 29/40\n",
            "54/54 [==============================] - 0s 2ms/step - loss: 0.2194 - accuracy: 0.9660 - val_loss: 0.3953 - val_accuracy: 0.8889\n",
            "Epoch 30/40\n",
            "54/54 [==============================] - 0s 2ms/step - loss: 0.2087 - accuracy: 0.9836 - val_loss: 0.3952 - val_accuracy: 0.8889\n",
            "Epoch 31/40\n",
            "54/54 [==============================] - 0s 3ms/step - loss: 0.1736 - accuracy: 0.9904 - val_loss: 0.3835 - val_accuracy: 0.8889\n",
            "Epoch 32/40\n",
            "54/54 [==============================] - 0s 2ms/step - loss: 0.1954 - accuracy: 0.9820 - val_loss: 0.3802 - val_accuracy: 0.8889\n",
            "Epoch 33/40\n",
            "54/54 [==============================] - 0s 2ms/step - loss: 0.2152 - accuracy: 0.9831 - val_loss: 0.3755 - val_accuracy: 0.8889\n",
            "Epoch 34/40\n",
            "54/54 [==============================] - 0s 2ms/step - loss: 0.2145 - accuracy: 0.9740 - val_loss: 0.3752 - val_accuracy: 0.8889\n",
            "Epoch 35/40\n",
            "54/54 [==============================] - 0s 2ms/step - loss: 0.2053 - accuracy: 0.9851 - val_loss: 0.3674 - val_accuracy: 0.8889\n",
            "Epoch 36/40\n",
            "54/54 [==============================] - 0s 2ms/step - loss: 0.1844 - accuracy: 0.9723 - val_loss: 0.3589 - val_accuracy: 0.8889\n",
            "Epoch 37/40\n",
            "54/54 [==============================] - 0s 2ms/step - loss: 0.2099 - accuracy: 0.9663 - val_loss: 0.3643 - val_accuracy: 0.8889\n",
            "Epoch 38/40\n",
            "54/54 [==============================] - 0s 2ms/step - loss: 0.1727 - accuracy: 0.9928 - val_loss: 0.3529 - val_accuracy: 0.8889\n",
            "Epoch 39/40\n",
            "54/54 [==============================] - 0s 3ms/step - loss: 0.1712 - accuracy: 0.9946 - val_loss: 0.3522 - val_accuracy: 0.8889\n",
            "Epoch 40/40\n",
            "54/54 [==============================] - 0s 2ms/step - loss: 0.1583 - accuracy: 0.9909 - val_loss: 0.3461 - val_accuracy: 0.8889\n",
            "processing fold # 3\n",
            "Epoch 1/40\n",
            "54/54 [==============================] - 1s 7ms/step - loss: 0.9589 - accuracy: 0.5318 - val_loss: 0.7955 - val_accuracy: 0.7222\n",
            "Epoch 2/40\n",
            "54/54 [==============================] - 0s 2ms/step - loss: 0.8083 - accuracy: 0.7351 - val_loss: 0.7365 - val_accuracy: 0.7963\n",
            "Epoch 3/40\n",
            "54/54 [==============================] - 0s 2ms/step - loss: 0.7069 - accuracy: 0.7761 - val_loss: 0.6827 - val_accuracy: 0.7778\n",
            "Epoch 4/40\n",
            "54/54 [==============================] - 0s 2ms/step - loss: 0.6772 - accuracy: 0.7666 - val_loss: 0.6358 - val_accuracy: 0.8148\n",
            "Epoch 5/40\n",
            "54/54 [==============================] - 0s 2ms/step - loss: 0.6124 - accuracy: 0.8058 - val_loss: 0.5939 - val_accuracy: 0.8519\n",
            "Epoch 6/40\n",
            "54/54 [==============================] - 0s 2ms/step - loss: 0.6070 - accuracy: 0.8397 - val_loss: 0.5593 - val_accuracy: 0.8519\n",
            "Epoch 7/40\n",
            "54/54 [==============================] - 0s 2ms/step - loss: 0.5080 - accuracy: 0.8682 - val_loss: 0.5250 - val_accuracy: 0.8704\n",
            "Epoch 8/40\n",
            "54/54 [==============================] - 0s 2ms/step - loss: 0.4938 - accuracy: 0.9046 - val_loss: 0.4962 - val_accuracy: 0.8704\n",
            "Epoch 9/40\n",
            "54/54 [==============================] - 0s 2ms/step - loss: 0.4361 - accuracy: 0.9248 - val_loss: 0.4745 - val_accuracy: 0.8889\n",
            "Epoch 10/40\n",
            "54/54 [==============================] - 0s 2ms/step - loss: 0.4196 - accuracy: 0.9309 - val_loss: 0.4506 - val_accuracy: 0.8889\n",
            "Epoch 11/40\n",
            "54/54 [==============================] - 0s 2ms/step - loss: 0.4270 - accuracy: 0.8931 - val_loss: 0.4424 - val_accuracy: 0.9074\n",
            "Epoch 12/40\n",
            "54/54 [==============================] - 0s 2ms/step - loss: 0.3304 - accuracy: 0.9614 - val_loss: 0.4242 - val_accuracy: 0.9074\n",
            "Epoch 13/40\n",
            "54/54 [==============================] - 0s 2ms/step - loss: 0.3611 - accuracy: 0.9518 - val_loss: 0.4118 - val_accuracy: 0.8889\n",
            "Epoch 14/40\n",
            "54/54 [==============================] - 0s 2ms/step - loss: 0.3570 - accuracy: 0.9241 - val_loss: 0.3946 - val_accuracy: 0.8889\n",
            "Epoch 15/40\n",
            "54/54 [==============================] - 0s 2ms/step - loss: 0.3307 - accuracy: 0.9500 - val_loss: 0.3867 - val_accuracy: 0.8704\n",
            "Epoch 16/40\n",
            "54/54 [==============================] - 0s 2ms/step - loss: 0.3381 - accuracy: 0.9194 - val_loss: 0.3865 - val_accuracy: 0.9074\n",
            "Epoch 17/40\n",
            "54/54 [==============================] - 0s 2ms/step - loss: 0.3140 - accuracy: 0.9696 - val_loss: 0.3887 - val_accuracy: 0.8704\n",
            "Epoch 18/40\n",
            "54/54 [==============================] - 0s 2ms/step - loss: 0.3069 - accuracy: 0.9623 - val_loss: 0.3795 - val_accuracy: 0.9074\n",
            "Epoch 19/40\n",
            "54/54 [==============================] - 0s 2ms/step - loss: 0.3719 - accuracy: 0.9437 - val_loss: 0.3668 - val_accuracy: 0.9074\n",
            "Epoch 20/40\n",
            "54/54 [==============================] - 0s 2ms/step - loss: 0.2966 - accuracy: 0.9548 - val_loss: 0.3617 - val_accuracy: 0.9074\n",
            "Epoch 21/40\n",
            "54/54 [==============================] - 0s 3ms/step - loss: 0.3043 - accuracy: 0.9588 - val_loss: 0.3840 - val_accuracy: 0.9074\n",
            "Epoch 22/40\n",
            "54/54 [==============================] - 0s 3ms/step - loss: 0.3773 - accuracy: 0.9112 - val_loss: 0.3692 - val_accuracy: 0.9074\n",
            "Epoch 23/40\n",
            "54/54 [==============================] - 0s 2ms/step - loss: 0.2920 - accuracy: 0.9479 - val_loss: 0.3606 - val_accuracy: 0.9074\n",
            "Epoch 24/40\n",
            "54/54 [==============================] - 0s 2ms/step - loss: 0.2953 - accuracy: 0.9618 - val_loss: 0.3452 - val_accuracy: 0.9259\n",
            "Epoch 25/40\n",
            "54/54 [==============================] - 0s 2ms/step - loss: 0.2504 - accuracy: 0.9725 - val_loss: 0.3532 - val_accuracy: 0.9259\n",
            "Epoch 26/40\n",
            "54/54 [==============================] - 0s 2ms/step - loss: 0.3409 - accuracy: 0.9265 - val_loss: 0.3467 - val_accuracy: 0.9259\n",
            "Epoch 27/40\n",
            "54/54 [==============================] - 0s 2ms/step - loss: 0.2536 - accuracy: 0.9545 - val_loss: 0.3525 - val_accuracy: 0.9259\n",
            "Epoch 28/40\n",
            "54/54 [==============================] - 0s 3ms/step - loss: 0.2219 - accuracy: 0.9768 - val_loss: 0.3375 - val_accuracy: 0.9259\n",
            "Epoch 29/40\n",
            "54/54 [==============================] - 0s 2ms/step - loss: 0.2565 - accuracy: 0.9565 - val_loss: 0.3366 - val_accuracy: 0.9259\n",
            "Epoch 30/40\n",
            "54/54 [==============================] - 0s 2ms/step - loss: 0.2375 - accuracy: 0.9725 - val_loss: 0.3540 - val_accuracy: 0.8889\n",
            "Epoch 31/40\n",
            "54/54 [==============================] - 0s 2ms/step - loss: 0.2798 - accuracy: 0.9519 - val_loss: 0.3380 - val_accuracy: 0.9259\n",
            "Epoch 32/40\n",
            "54/54 [==============================] - 0s 2ms/step - loss: 0.2618 - accuracy: 0.9549 - val_loss: 0.3495 - val_accuracy: 0.8889\n",
            "Epoch 33/40\n",
            "54/54 [==============================] - 0s 2ms/step - loss: 0.2564 - accuracy: 0.9762 - val_loss: 0.3320 - val_accuracy: 0.9259\n",
            "Epoch 34/40\n",
            "54/54 [==============================] - 0s 2ms/step - loss: 0.2623 - accuracy: 0.9513 - val_loss: 0.3446 - val_accuracy: 0.8889\n",
            "Epoch 35/40\n",
            "54/54 [==============================] - 0s 3ms/step - loss: 0.2431 - accuracy: 0.9634 - val_loss: 0.3487 - val_accuracy: 0.8889\n",
            "Epoch 36/40\n",
            "54/54 [==============================] - 0s 3ms/step - loss: 0.2342 - accuracy: 0.9547 - val_loss: 0.3534 - val_accuracy: 0.8889\n",
            "Epoch 37/40\n",
            "54/54 [==============================] - 0s 2ms/step - loss: 0.2310 - accuracy: 0.9374 - val_loss: 0.3397 - val_accuracy: 0.8889\n",
            "Epoch 38/40\n",
            "54/54 [==============================] - 0s 2ms/step - loss: 0.2181 - accuracy: 0.9672 - val_loss: 0.3565 - val_accuracy: 0.8889\n",
            "Epoch 39/40\n",
            "54/54 [==============================] - 0s 2ms/step - loss: 0.2522 - accuracy: 0.9622 - val_loss: 0.3498 - val_accuracy: 0.8889\n",
            "Epoch 40/40\n",
            "54/54 [==============================] - 0s 3ms/step - loss: 0.2205 - accuracy: 0.9507 - val_loss: 0.3346 - val_accuracy: 0.8889\n",
            "processing fold # 4\n",
            "Epoch 1/40\n",
            "54/54 [==============================] - 1s 7ms/step - loss: 1.1541 - accuracy: 0.4944 - val_loss: 0.8049 - val_accuracy: 0.5926\n",
            "Epoch 2/40\n",
            "54/54 [==============================] - 0s 2ms/step - loss: 0.8119 - accuracy: 0.5989 - val_loss: 0.6703 - val_accuracy: 0.7963\n",
            "Epoch 3/40\n",
            "54/54 [==============================] - 0s 2ms/step - loss: 0.6549 - accuracy: 0.8418 - val_loss: 0.6235 - val_accuracy: 0.8333\n",
            "Epoch 4/40\n",
            "54/54 [==============================] - 0s 3ms/step - loss: 0.6127 - accuracy: 0.8625 - val_loss: 0.5848 - val_accuracy: 0.8704\n",
            "Epoch 5/40\n",
            "54/54 [==============================] - 0s 3ms/step - loss: 0.5555 - accuracy: 0.8729 - val_loss: 0.5362 - val_accuracy: 0.8889\n",
            "Epoch 6/40\n",
            "54/54 [==============================] - 0s 2ms/step - loss: 0.4737 - accuracy: 0.9257 - val_loss: 0.4930 - val_accuracy: 0.9259\n",
            "Epoch 7/40\n",
            "54/54 [==============================] - 0s 2ms/step - loss: 0.4670 - accuracy: 0.9192 - val_loss: 0.4560 - val_accuracy: 0.9259\n",
            "Epoch 8/40\n",
            "54/54 [==============================] - 0s 3ms/step - loss: 0.4079 - accuracy: 0.9277 - val_loss: 0.4240 - val_accuracy: 0.9259\n",
            "Epoch 9/40\n",
            "54/54 [==============================] - 0s 2ms/step - loss: 0.4054 - accuracy: 0.9281 - val_loss: 0.4017 - val_accuracy: 0.9259\n",
            "Epoch 10/40\n",
            "54/54 [==============================] - 0s 2ms/step - loss: 0.3809 - accuracy: 0.9280 - val_loss: 0.3799 - val_accuracy: 0.9259\n",
            "Epoch 11/40\n",
            "54/54 [==============================] - 0s 3ms/step - loss: 0.3480 - accuracy: 0.9638 - val_loss: 0.3624 - val_accuracy: 0.9259\n",
            "Epoch 12/40\n",
            "54/54 [==============================] - 0s 2ms/step - loss: 0.3470 - accuracy: 0.9642 - val_loss: 0.3539 - val_accuracy: 0.9259\n",
            "Epoch 13/40\n",
            "54/54 [==============================] - 0s 2ms/step - loss: 0.3417 - accuracy: 0.9560 - val_loss: 0.3515 - val_accuracy: 0.9259\n",
            "Epoch 14/40\n",
            "54/54 [==============================] - 0s 3ms/step - loss: 0.3483 - accuracy: 0.9620 - val_loss: 0.3309 - val_accuracy: 0.9259\n",
            "Epoch 15/40\n",
            "54/54 [==============================] - 0s 3ms/step - loss: 0.2879 - accuracy: 0.9735 - val_loss: 0.3206 - val_accuracy: 0.9259\n",
            "Epoch 16/40\n",
            "54/54 [==============================] - 0s 2ms/step - loss: 0.3396 - accuracy: 0.9472 - val_loss: 0.3174 - val_accuracy: 0.9259\n",
            "Epoch 17/40\n",
            "54/54 [==============================] - 0s 3ms/step - loss: 0.3115 - accuracy: 0.9547 - val_loss: 0.3095 - val_accuracy: 0.9444\n",
            "Epoch 18/40\n",
            "54/54 [==============================] - 0s 3ms/step - loss: 0.2695 - accuracy: 0.9756 - val_loss: 0.3033 - val_accuracy: 0.9444\n",
            "Epoch 19/40\n",
            "54/54 [==============================] - 0s 2ms/step - loss: 0.3541 - accuracy: 0.9149 - val_loss: 0.2965 - val_accuracy: 0.9444\n",
            "Epoch 20/40\n",
            "54/54 [==============================] - 0s 2ms/step - loss: 0.2685 - accuracy: 0.9654 - val_loss: 0.2867 - val_accuracy: 0.9444\n",
            "Epoch 21/40\n",
            "54/54 [==============================] - 0s 2ms/step - loss: 0.2557 - accuracy: 0.9872 - val_loss: 0.2873 - val_accuracy: 0.9444\n",
            "Epoch 22/40\n",
            "54/54 [==============================] - 0s 2ms/step - loss: 0.2517 - accuracy: 0.9799 - val_loss: 0.2848 - val_accuracy: 0.9444\n",
            "Epoch 23/40\n",
            "54/54 [==============================] - 0s 2ms/step - loss: 0.2917 - accuracy: 0.9573 - val_loss: 0.2789 - val_accuracy: 0.9444\n",
            "Epoch 24/40\n",
            "54/54 [==============================] - 0s 3ms/step - loss: 0.2569 - accuracy: 0.9646 - val_loss: 0.2832 - val_accuracy: 0.9444\n",
            "Epoch 25/40\n",
            "54/54 [==============================] - 0s 2ms/step - loss: 0.2439 - accuracy: 0.9745 - val_loss: 0.2733 - val_accuracy: 0.9444\n",
            "Epoch 26/40\n",
            "54/54 [==============================] - 0s 2ms/step - loss: 0.2012 - accuracy: 0.9898 - val_loss: 0.2671 - val_accuracy: 0.9444\n",
            "Epoch 27/40\n",
            "54/54 [==============================] - 0s 3ms/step - loss: 0.2509 - accuracy: 0.9508 - val_loss: 0.2596 - val_accuracy: 0.9444\n",
            "Epoch 28/40\n",
            "54/54 [==============================] - 0s 2ms/step - loss: 0.2204 - accuracy: 0.9799 - val_loss: 0.2569 - val_accuracy: 0.9444\n",
            "Epoch 29/40\n",
            "54/54 [==============================] - 0s 2ms/step - loss: 0.2157 - accuracy: 0.9825 - val_loss: 0.2591 - val_accuracy: 0.9444\n",
            "Epoch 30/40\n",
            "54/54 [==============================] - 0s 2ms/step - loss: 0.2570 - accuracy: 0.9481 - val_loss: 0.2453 - val_accuracy: 0.9444\n",
            "Epoch 31/40\n",
            "54/54 [==============================] - 0s 3ms/step - loss: 0.2034 - accuracy: 0.9760 - val_loss: 0.2568 - val_accuracy: 0.9444\n",
            "Epoch 32/40\n",
            "54/54 [==============================] - 0s 3ms/step - loss: 0.2452 - accuracy: 0.9439 - val_loss: 0.2605 - val_accuracy: 0.9444\n",
            "Epoch 33/40\n",
            "54/54 [==============================] - 0s 2ms/step - loss: 0.1995 - accuracy: 0.9733 - val_loss: 0.2584 - val_accuracy: 0.9444\n",
            "Epoch 34/40\n",
            "54/54 [==============================] - 0s 2ms/step - loss: 0.1944 - accuracy: 0.9784 - val_loss: 0.2586 - val_accuracy: 0.9444\n",
            "Epoch 35/40\n",
            "54/54 [==============================] - 0s 2ms/step - loss: 0.1735 - accuracy: 0.9888 - val_loss: 0.2655 - val_accuracy: 0.9259\n",
            "Epoch 36/40\n",
            "54/54 [==============================] - 0s 2ms/step - loss: 0.1738 - accuracy: 0.9834 - val_loss: 0.2513 - val_accuracy: 0.9444\n",
            "Epoch 37/40\n",
            "54/54 [==============================] - 0s 2ms/step - loss: 0.2111 - accuracy: 0.9767 - val_loss: 0.2481 - val_accuracy: 0.9444\n",
            "Epoch 38/40\n",
            "54/54 [==============================] - 0s 3ms/step - loss: 0.2016 - accuracy: 0.9624 - val_loss: 0.2507 - val_accuracy: 0.9444\n",
            "Epoch 39/40\n",
            "54/54 [==============================] - 0s 2ms/step - loss: 0.1925 - accuracy: 0.9768 - val_loss: 0.2461 - val_accuracy: 0.9444\n",
            "Epoch 40/40\n",
            "54/54 [==============================] - 0s 3ms/step - loss: 0.1853 - accuracy: 0.9704 - val_loss: 0.2498 - val_accuracy: 0.9444\n"
          ],
          "name": "stdout"
        },
        {
          "output_type": "execute_result",
          "data": {
            "text/plain": [
              "[0.9722222089767456,\n",
              " 0.949999988079071,\n",
              " 0.9611111283302307,\n",
              " 0.9333333373069763,\n",
              " 0.9611111283302307]"
            ]
          },
          "metadata": {
            "tags": []
          },
          "execution_count": 208
        }
      ]
    },
    {
      "cell_type": "code",
      "metadata": {
        "colab": {
          "base_uri": "https://localhost:8080/",
          "height": 279
        },
        "id": "2pSjiDw6iUdv",
        "outputId": "785ada11-98c8-457f-93ef-fb18b7664424"
      },
      "source": [
        "plt.plot(range(1, len(ave_val_loss_hist)+1)[:], ave_val_loss_hist[:], \"bo\", label=\"Validation Loss\")\n",
        "plt.plot(range(1, len(ave_val_loss_hist)+1)[:], ave_loss_hist[:], \"b\", label=\"Training Loss\")\n",
        "plt.xlabel(\"Epochs\")\n",
        "plt.ylabel(\"Validation Loss\")\n",
        "plt.legend()\n",
        "plt.show()\n"
      ],
      "execution_count": 209,
      "outputs": [
        {
          "output_type": "display_data",
          "data": {
            "image/png": "[encoded data removed]",
            "text/plain": [
              "<Figure size 432x288 with 1 Axes>"
            ]
          },
          "metadata": {
            "tags": [],
            "needs_background": "light"
          }
        }
      ]
    },
    {
      "cell_type": "code",
      "metadata": {
        "colab": {
          "base_uri": "https://localhost:8080/",
          "height": 279
        },
        "id": "VShQoRrqulob",
        "outputId": "03d510e2-8e0e-4ece-8f71-be7f2409c561"
      },
      "source": [
        "plt.plot(range(1, len(ave_val_acc_hist)+1)[:], ave_val_acc_hist[:], \"bo\", label=\"Validation Accuracy\")\n",
        "plt.plot(range(1, len(ave_val_acc_hist)+1)[:], ave_acc_hist[:], \"b\", label=\"Training Accuracy\")\n",
        "plt.xlabel(\"Epochs\")\n",
        "plt.ylabel(\"Validation Loss\")\n",
        "plt.legend()\n",
        "plt.show()"
      ],
      "execution_count": 210,
      "outputs": [
        {
          "output_type": "display_data",
          "data": {
            "image/png": "[encoded data removed]",
            "text/plain": [
              "<Figure size 432x288 with 1 Axes>"
            ]
          },
          "metadata": {
            "tags": [],
            "needs_background": "light"
          }
        }
      ]
    },
    {
      "cell_type": "markdown",
      "metadata": {
        "id": "BjRl3WP_6j6A"
      },
      "source": [
        "**Rebuilding the best fit Model**"
      ]
    },
    {
      "cell_type": "code",
      "metadata": {
        "id": "-QKPsAHR6nU8"
      },
      "source": [
        "model=models.Sequential()\n",
        "model.add(layers.Dense(16,kernel_regularizer=regularizers.l1_l2(l1=.001, l2=0.002) , activation=\"relu\", input_shape=(train_data.shape[1],)))\n",
        "model.add(layers.Dropout(.1))\n",
        "model.add(layers.Dense(16, kernel_regularizer=regularizers.l1_l2(l1=.001, l2=0.002), activation = \"relu\" ))\n",
        "model.add(layers.Dropout(.1))\n",
        "model.add(layers.Dense(1, activation=\"sigmoid\"))\n",
        "\n",
        "model.compile(optimizer=\"rmsprop\", loss = \"binary_crossentropy\", metrics=[\"accuracy\"])"
      ],
      "execution_count": 211,
      "outputs": []
    },
    {
      "cell_type": "markdown",
      "metadata": {
        "id": "ueZnXmec6wn_"
      },
      "source": [
        "**Training the model with all samples**"
      ]
    },
    {
      "cell_type": "code",
      "metadata": {
        "colab": {
          "base_uri": "https://localhost:8080/"
        },
        "id": "KAmbT8wk6xlO",
        "outputId": "0de73aee-b162-46ec-ea61-1357c00ef722"
      },
      "source": [
        "model.fit(train_data, train_labels, epochs=40, batch_size=4)"
      ],
      "execution_count": 212,
      "outputs": [
        {
          "output_type": "stream",
          "text": [
            "Epoch 1/40\n",
            "68/68 [==============================] - 1s 2ms/step - loss: 0.9057 - accuracy: 0.4611\n",
            "Epoch 2/40\n",
            "68/68 [==============================] - 0s 1ms/step - loss: 0.7797 - accuracy: 0.7314\n",
            "Epoch 3/40\n",
            "68/68 [==============================] - 0s 1ms/step - loss: 0.6659 - accuracy: 0.7754\n",
            "Epoch 4/40\n",
            "68/68 [==============================] - 0s 1ms/step - loss: 0.6181 - accuracy: 0.7863\n",
            "Epoch 5/40\n",
            "68/68 [==============================] - 0s 2ms/step - loss: 0.5394 - accuracy: 0.8277\n",
            "Epoch 6/40\n",
            "68/68 [==============================] - 0s 1ms/step - loss: 0.5026 - accuracy: 0.8240\n",
            "Epoch 7/40\n",
            "68/68 [==============================] - 0s 2ms/step - loss: 0.5079 - accuracy: 0.8670\n",
            "Epoch 8/40\n",
            "68/68 [==============================] - 0s 2ms/step - loss: 0.4249 - accuracy: 0.8945\n",
            "Epoch 9/40\n",
            "68/68 [==============================] - 0s 1ms/step - loss: 0.4227 - accuracy: 0.9262\n",
            "Epoch 10/40\n",
            "68/68 [==============================] - 0s 1ms/step - loss: 0.4261 - accuracy: 0.9239\n",
            "Epoch 11/40\n",
            "68/68 [==============================] - 0s 1ms/step - loss: 0.3487 - accuracy: 0.9608\n",
            "Epoch 12/40\n",
            "68/68 [==============================] - 0s 1ms/step - loss: 0.3803 - accuracy: 0.8974\n",
            "Epoch 13/40\n",
            "68/68 [==============================] - 0s 1ms/step - loss: 0.3366 - accuracy: 0.9301\n",
            "Epoch 14/40\n",
            "68/68 [==============================] - 0s 1ms/step - loss: 0.3110 - accuracy: 0.9629\n",
            "Epoch 15/40\n",
            "68/68 [==============================] - 0s 1ms/step - loss: 0.3234 - accuracy: 0.9445\n",
            "Epoch 16/40\n",
            "68/68 [==============================] - 0s 1ms/step - loss: 0.2976 - accuracy: 0.9708\n",
            "Epoch 17/40\n",
            "68/68 [==============================] - 0s 2ms/step - loss: 0.2974 - accuracy: 0.9488\n",
            "Epoch 18/40\n",
            "68/68 [==============================] - 0s 2ms/step - loss: 0.3075 - accuracy: 0.9474\n",
            "Epoch 19/40\n",
            "68/68 [==============================] - 0s 1ms/step - loss: 0.2648 - accuracy: 0.9769\n",
            "Epoch 20/40\n",
            "68/68 [==============================] - 0s 1ms/step - loss: 0.2927 - accuracy: 0.9492\n",
            "Epoch 21/40\n",
            "68/68 [==============================] - 0s 1ms/step - loss: 0.2819 - accuracy: 0.9652\n",
            "Epoch 22/40\n",
            "68/68 [==============================] - 0s 1ms/step - loss: 0.2700 - accuracy: 0.9572\n",
            "Epoch 23/40\n",
            "68/68 [==============================] - 0s 1ms/step - loss: 0.2242 - accuracy: 0.9680\n",
            "Epoch 24/40\n",
            "68/68 [==============================] - 0s 1ms/step - loss: 0.2752 - accuracy: 0.9439\n",
            "Epoch 25/40\n",
            "68/68 [==============================] - 0s 1ms/step - loss: 0.2197 - accuracy: 0.9782\n",
            "Epoch 26/40\n",
            "68/68 [==============================] - 0s 1ms/step - loss: 0.2008 - accuracy: 0.9829\n",
            "Epoch 27/40\n",
            "68/68 [==============================] - 0s 1ms/step - loss: 0.2030 - accuracy: 0.9828\n",
            "Epoch 28/40\n",
            "68/68 [==============================] - 0s 1ms/step - loss: 0.2158 - accuracy: 0.9877\n",
            "Epoch 29/40\n",
            "68/68 [==============================] - 0s 1ms/step - loss: 0.1896 - accuracy: 0.9847\n",
            "Epoch 30/40\n",
            "68/68 [==============================] - 0s 1ms/step - loss: 0.2015 - accuracy: 0.9821\n",
            "Epoch 31/40\n",
            "68/68 [==============================] - 0s 1ms/step - loss: 0.2184 - accuracy: 0.9629\n",
            "Epoch 32/40\n",
            "68/68 [==============================] - 0s 1ms/step - loss: 0.2181 - accuracy: 0.9653\n",
            "Epoch 33/40\n",
            "68/68 [==============================] - 0s 1ms/step - loss: 0.1751 - accuracy: 0.9901\n",
            "Epoch 34/40\n",
            "68/68 [==============================] - 0s 1ms/step - loss: 0.1843 - accuracy: 0.9835\n",
            "Epoch 35/40\n",
            "68/68 [==============================] - 0s 1ms/step - loss: 0.1833 - accuracy: 0.9806\n",
            "Epoch 36/40\n",
            "68/68 [==============================] - 0s 1ms/step - loss: 0.1784 - accuracy: 0.9797\n",
            "Epoch 37/40\n",
            "68/68 [==============================] - 0s 2ms/step - loss: 0.1785 - accuracy: 0.9624\n",
            "Epoch 38/40\n",
            "68/68 [==============================] - 0s 1ms/step - loss: 0.1852 - accuracy: 0.9834\n",
            "Epoch 39/40\n",
            "68/68 [==============================] - 0s 1ms/step - loss: 0.1676 - accuracy: 0.9853\n",
            "Epoch 40/40\n",
            "68/68 [==============================] - 0s 1ms/step - loss: 0.1753 - accuracy: 0.9800\n"
          ],
          "name": "stdout"
        },
        {
          "output_type": "execute_result",
          "data": {
            "text/plain": [
              "<tensorflow.python.keras.callbacks.History at 0x7f7ba06c76d0>"
            ]
          },
          "metadata": {
            "tags": []
          },
          "execution_count": 212
        }
      ]
    },
    {
      "cell_type": "markdown",
      "metadata": {
        "id": "Pgv4TrCd7KbY"
      },
      "source": [
        "**Evaluating the Network**"
      ]
    },
    {
      "cell_type": "code",
      "metadata": {
        "colab": {
          "base_uri": "https://localhost:8080/"
        },
        "id": "-ORGrBwIqAvH",
        "outputId": "25713b5c-98bd-442b-f758-f0c65170a488"
      },
      "source": [
        "test_loss_score, test_acc_score=model.evaluate(test_data, test_labels)"
      ],
      "execution_count": 213,
      "outputs": [
        {
          "output_type": "stream",
          "text": [
            "6/6 [==============================] - 0s 3ms/step - loss: 0.2120 - accuracy: 0.9667\n"
          ],
          "name": "stdout"
        }
      ]
    },
    {
      "cell_type": "code",
      "metadata": {
        "colab": {
          "base_uri": "https://localhost:8080/"
        },
        "id": "ZrXFKWctqI9W",
        "outputId": "d4989bcb-703e-49c3-c13a-d5392736639c"
      },
      "source": [
        "test_acc_score *100"
      ],
      "execution_count": 214,
      "outputs": [
        {
          "output_type": "execute_result",
          "data": {
            "text/plain": [
              "96.66666388511658"
            ]
          },
          "metadata": {
            "tags": []
          },
          "execution_count": 214
        }
      ]
    },
    {
      "cell_type": "markdown",
      "metadata": {
        "id": "hWKkYGTDgmB_"
      },
      "source": [
        "**Predicting the Network**"
      ]
    },
    {
      "cell_type": "code",
      "metadata": {
        "id": "7IPuJNW3qOuc"
      },
      "source": [
        "prediction=model.predict(test_data)\n",
        "pred_norm =np.where(prediction>.5, 1, 0)\n",
        "pred_norm=np.where(pred_norm==1, \"g\", \"b\")"
      ],
      "execution_count": 215,
      "outputs": []
    },
    {
      "cell_type": "code",
      "metadata": {
        "colab": {
          "base_uri": "https://localhost:8080/"
        },
        "id": "S9zzbx5otb-D",
        "outputId": "709971de-205d-4e5b-b746-121f6781561a"
      },
      "source": [
        "pred_norm = pred_norm.reshape(pred_norm.shape[0],)\n",
        "pred_norm[:10].T"
      ],
      "execution_count": 216,
      "outputs": [
        {
          "output_type": "execute_result",
          "data": {
            "text/plain": [
              "array(['b', 'b', 'b', 'g', 'g', 'g', 'b', 'g', 'b', 'g'], dtype='<U1')"
            ]
          },
          "metadata": {
            "tags": []
          },
          "execution_count": 216
        }
      ]
    },
    {
      "cell_type": "code",
      "metadata": {
        "id": "MV2IDjO7qYAg"
      },
      "source": [
        "test_labels_new = np.where(test_labels==1, \"g\", \"b\")"
      ],
      "execution_count": 217,
      "outputs": []
    },
    {
      "cell_type": "code",
      "metadata": {
        "colab": {
          "base_uri": "https://localhost:8080/"
        },
        "id": "4-SiadIbrLZJ",
        "outputId": "d4d7884e-0d73-4826-e512-e26a4f9c70b7"
      },
      "source": [
        "test_labels_new[:10].T"
      ],
      "execution_count": 218,
      "outputs": [
        {
          "output_type": "execute_result",
          "data": {
            "text/plain": [
              "array(['b', 'b', 'b', 'g', 'g', 'g', 'b', 'g', 'b', 'g'], dtype='<U1')"
            ]
          },
          "metadata": {
            "tags": []
          },
          "execution_count": 218
        }
      ]
    },
    {
      "cell_type": "code",
      "metadata": {
        "colab": {
          "base_uri": "https://localhost:8080/"
        },
        "id": "z3hSnJH4r7SZ",
        "outputId": "ffa786d2-b509-4a06-9d9a-2354342b315a"
      },
      "source": [
        "c= pred_norm.size\n",
        "c"
      ],
      "execution_count": 219,
      "outputs": [
        {
          "output_type": "execute_result",
          "data": {
            "text/plain": [
              "180"
            ]
          },
          "metadata": {
            "tags": []
          },
          "execution_count": 219
        }
      ]
    },
    {
      "cell_type": "code",
      "metadata": {
        "id": "3TmheyUKulmv"
      },
      "source": [
        "comapre_pred_test = test_labels_new == pred_norm"
      ],
      "execution_count": 220,
      "outputs": []
    },
    {
      "cell_type": "code",
      "metadata": {
        "colab": {
          "base_uri": "https://localhost:8080/"
        },
        "id": "Zh8aKiQTsgCh",
        "outputId": "5c164837-53e3-4c27-e8e5-b9363246f062"
      },
      "source": [
        "b = comapre_pred_test[comapre_pred_test[:]==True].size\n",
        "b"
      ],
      "execution_count": 221,
      "outputs": [
        {
          "output_type": "execute_result",
          "data": {
            "text/plain": [
              "174"
            ]
          },
          "metadata": {
            "tags": []
          },
          "execution_count": 221
        }
      ]
    },
    {
      "cell_type": "code",
      "metadata": {
        "colab": {
          "base_uri": "https://localhost:8080/"
        },
        "id": "O2oCJ2_xtQBn",
        "outputId": "75d699d6-6f9b-464c-93ab-db98e1ccb1d2"
      },
      "source": [
        "a = comapre_pred_test[comapre_pred_test[:]==False].size\n",
        "a"
      ],
      "execution_count": 222,
      "outputs": [
        {
          "output_type": "execute_result",
          "data": {
            "text/plain": [
              "6"
            ]
          },
          "metadata": {
            "tags": []
          },
          "execution_count": 222
        }
      ]
    },
    {
      "cell_type": "code",
      "metadata": {
        "colab": {
          "base_uri": "https://localhost:8080/"
        },
        "id": "QoVZIRgytUR1",
        "outputId": "af3eada1-a54d-4ac3-96e7-c3e859a7594e"
      },
      "source": [
        "print(\"Incorrect Predictions are:\", a, \"and Correct predictions are :\", b, \" the percentage is:\", round((b/c)*100,2), \"%\"  )"
      ],
      "execution_count": 223,
      "outputs": [
        {
          "output_type": "stream",
          "text": [
            "Incorrect Predictions are: 6 and Correct predictions are : 174  the percentage is: 96.67 %\n"
          ],
          "name": "stdout"
        }
      ]
    }
  ]
}