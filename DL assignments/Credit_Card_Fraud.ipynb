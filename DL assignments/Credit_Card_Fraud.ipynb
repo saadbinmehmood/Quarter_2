{
  "nbformat": 4,
  "nbformat_minor": 0,
  "metadata": {
    "colab": {
      "name": "Credit Card Fraud.ipynb",
      "provenance": [],
      "collapsed_sections": []
    },
    "kernelspec": {
      "name": "python3",
      "display_name": "Python 3"
    }
  },
  "cells": [
    {
      "cell_type": "code",
      "metadata": {
        "id": "iBLYoxFawYRa"
      },
      "source": [
        "import tensorflow as tf\n",
        "import pandas as pd\n",
        "import numpy as np\n",
        "import matplotlib.pyplot as plt\n",
        "from keras import models\n",
        "from keras import layers\n",
        "import zipfile\n",
        "from keras import regularizers"
      ],
      "execution_count": 1,
      "outputs": []
    },
    {
      "cell_type": "code",
      "metadata": {
        "colab": {
          "base_uri": "https://localhost:8080/"
        },
        "id": "FW9PfDmcW62f",
        "outputId": "ee3e67fe-e784-4e7e-a0c8-e5932e54b514"
      },
      "source": [
        "from google.colab import drive\n",
        "drive.mount(\"/content/drive\")"
      ],
      "execution_count": 2,
      "outputs": [
        {
          "output_type": "stream",
          "text": [
            "Go to this URL in a browser: https://accounts.google.com/o/oauth2/auth?client_id=947318989803-6bn6qk8qdgf4n4g3pfee6491hc0brc4i.apps.googleusercontent.com&redirect_uri=urn%3aietf%3awg%3aoauth%3a2.0%3aoob&scope=email%20https%3a%2f%2fwww.googleapis.com%2fauth%2fdocs.test%20https%3a%2f%2fwww.googleapis.com%2fauth%2fdrive%20https%3a%2f%2fwww.googleapis.com%2fauth%2fdrive.photos.readonly%20https%3a%2f%2fwww.googleapis.com%2fauth%2fpeopleapi.readonly%20https%3a%2f%2fwww.googleapis.com%2fauth%2fdrive.activity.readonly%20https%3a%2f%2fwww.googleapis.com%2fauth%2fexperimentsandconfigs%20https%3a%2f%2fwww.googleapis.com%2fauth%2fphotos.native&response_type=code\n",
            "\n",
            "Enter your authorization code:\n",
            "4/1AY0e-g4ZMvgr9B4K6VemnFHCER6dGbnhlJlhh2lFcA1BpXPmH7DEeBAYxuM\n",
            "Mounted at /content/drive\n"
          ],
          "name": "stdout"
        }
      ]
    },
    {
      "cell_type": "code",
      "metadata": {
        "id": "j8K1EFddW-A4"
      },
      "source": [
        "local_zip = \"/content/drive/MyDrive/creditcard.zip\"\n",
        "zip_ref = zipfile.ZipFile(local_zip, \"r\")\n",
        "zip_ref.extractall(\"/credit_card\")\n",
        "zip_ref.close()"
      ],
      "execution_count": 3,
      "outputs": []
    },
    {
      "cell_type": "code",
      "metadata": {
        "id": "nwUm-9oKX5wl"
      },
      "source": [
        "df = pd.read_csv(\"/credit_card/creditcard.csv\")"
      ],
      "execution_count": 117,
      "outputs": []
    },
    {
      "cell_type": "markdown",
      "metadata": {
        "id": "J7iigCcgp4cd"
      },
      "source": [
        "**Balancing the data**"
      ]
    },
    {
      "cell_type": "code",
      "metadata": {
        "id": "i3CKzBlpUsZe"
      },
      "source": [
        "df[df.duplicated()]\n",
        "df.drop_duplicates(inplace=True)"
      ],
      "execution_count": 118,
      "outputs": []
    },
    {
      "cell_type": "code",
      "metadata": {
        "colab": {
          "base_uri": "https://localhost:8080/"
        },
        "id": "gpH6yaI8p-Xj",
        "outputId": "b27a63d0-c3cb-4f6b-cbdc-91b5d8d6d784"
      },
      "source": [
        "non_fraud=df[df[\"Class\"]==0]\n",
        "fraud = df[df[\"Class\"]==1]\n",
        "non_fraud.shape, fraud.shape"
      ],
      "execution_count": 119,
      "outputs": [
        {
          "output_type": "execute_result",
          "data": {
            "text/plain": [
              "((283253, 31), (473, 31))"
            ]
          },
          "metadata": {
            "tags": []
          },
          "execution_count": 119
        }
      ]
    },
    {
      "cell_type": "code",
      "metadata": {
        "colab": {
          "base_uri": "https://localhost:8080/"
        },
        "id": "UHkdJfAWqkG0",
        "outputId": "d2061f39-8fcb-429a-9a16-758054952cf5"
      },
      "source": [
        "non_fraud=non_fraud.sample(fraud.shape[0])\n",
        "non_fraud.shape"
      ],
      "execution_count": 120,
      "outputs": [
        {
          "output_type": "execute_result",
          "data": {
            "text/plain": [
              "(473, 31)"
            ]
          },
          "metadata": {
            "tags": []
          },
          "execution_count": 120
        }
      ]
    },
    {
      "cell_type": "code",
      "metadata": {
        "colab": {
          "base_uri": "https://localhost:8080/"
        },
        "id": "_rXeRez9rx18",
        "outputId": "11d26029-a04f-4d2a-fe75-0ef793936639"
      },
      "source": [
        "data = fraud.append(non_fraud, ignore_index=True)\n",
        "data.shape\n",
        "data[\"Class\"].value_counts()"
      ],
      "execution_count": 121,
      "outputs": [
        {
          "output_type": "execute_result",
          "data": {
            "text/plain": [
              "1    473\n",
              "0    473\n",
              "Name: Class, dtype: int64"
            ]
          },
          "metadata": {
            "tags": []
          },
          "execution_count": 121
        }
      ]
    },
    {
      "cell_type": "code",
      "metadata": {
        "id": "_g2O7ndPsiMf"
      },
      "source": [
        "x_data= data.drop(columns=[\"Class\", \"Time\"], axis=0)\n",
        "label = data[\"Class\"]"
      ],
      "execution_count": 122,
      "outputs": []
    },
    {
      "cell_type": "code",
      "metadata": {
        "colab": {
          "base_uri": "https://localhost:8080/"
        },
        "id": "BLwmZvqYSE8z",
        "outputId": "8bb64c81-e616-4a65-ddee-c3278cdcbb6f"
      },
      "source": [
        "x_data.isnull().sum()"
      ],
      "execution_count": 123,
      "outputs": [
        {
          "output_type": "execute_result",
          "data": {
            "text/plain": [
              "V1        0\n",
              "V2        0\n",
              "V3        0\n",
              "V4        0\n",
              "V5        0\n",
              "V6        0\n",
              "V7        0\n",
              "V8        0\n",
              "V9        0\n",
              "V10       0\n",
              "V11       0\n",
              "V12       0\n",
              "V13       0\n",
              "V14       0\n",
              "V15       0\n",
              "V16       0\n",
              "V17       0\n",
              "V18       0\n",
              "V19       0\n",
              "V20       0\n",
              "V21       0\n",
              "V22       0\n",
              "V23       0\n",
              "V24       0\n",
              "V25       0\n",
              "V26       0\n",
              "V27       0\n",
              "V28       0\n",
              "Amount    0\n",
              "dtype: int64"
            ]
          },
          "metadata": {
            "tags": []
          },
          "execution_count": 123
        }
      ]
    },
    {
      "cell_type": "code",
      "metadata": {
        "colab": {
          "base_uri": "https://localhost:8080/"
        },
        "id": "-NNqWztkT203",
        "outputId": "2adfafe2-ca4b-4d7d-a6ff-7e0b008800e7"
      },
      "source": [
        "x_data.info()"
      ],
      "execution_count": 124,
      "outputs": [
        {
          "output_type": "stream",
          "text": [
            "<class 'pandas.core.frame.DataFrame'>\n",
            "RangeIndex: 946 entries, 0 to 945\n",
            "Data columns (total 29 columns):\n",
            " #   Column  Non-Null Count  Dtype  \n",
            "---  ------  --------------  -----  \n",
            " 0   V1      946 non-null    float64\n",
            " 1   V2      946 non-null    float64\n",
            " 2   V3      946 non-null    float64\n",
            " 3   V4      946 non-null    float64\n",
            " 4   V5      946 non-null    float64\n",
            " 5   V6      946 non-null    float64\n",
            " 6   V7      946 non-null    float64\n",
            " 7   V8      946 non-null    float64\n",
            " 8   V9      946 non-null    float64\n",
            " 9   V10     946 non-null    float64\n",
            " 10  V11     946 non-null    float64\n",
            " 11  V12     946 non-null    float64\n",
            " 12  V13     946 non-null    float64\n",
            " 13  V14     946 non-null    float64\n",
            " 14  V15     946 non-null    float64\n",
            " 15  V16     946 non-null    float64\n",
            " 16  V17     946 non-null    float64\n",
            " 17  V18     946 non-null    float64\n",
            " 18  V19     946 non-null    float64\n",
            " 19  V20     946 non-null    float64\n",
            " 20  V21     946 non-null    float64\n",
            " 21  V22     946 non-null    float64\n",
            " 22  V23     946 non-null    float64\n",
            " 23  V24     946 non-null    float64\n",
            " 24  V25     946 non-null    float64\n",
            " 25  V26     946 non-null    float64\n",
            " 26  V27     946 non-null    float64\n",
            " 27  V28     946 non-null    float64\n",
            " 28  Amount  946 non-null    float64\n",
            "dtypes: float64(29)\n",
            "memory usage: 214.5 KB\n"
          ],
          "name": "stdout"
        }
      ]
    },
    {
      "cell_type": "markdown",
      "metadata": {
        "id": "Bl2vhLJbcgPB"
      },
      "source": [
        "**Splitting Training and Test data**"
      ]
    },
    {
      "cell_type": "code",
      "metadata": {
        "id": "4u2NSBUnJhDn"
      },
      "source": [
        "x_data = data.sample(frac=1) # Shuffling the data\n",
        "train_data_full= x_data.iloc[:662,:]\n",
        "test_data_full = x_data.iloc[662:, :]\n",
        "train_data = train_data_full.iloc[:, :-1]\n",
        "train_labels = train_data_full.iloc[:, -1]\n",
        "test_data = test_data_full.iloc[:, :-1]\n",
        "test_labels = test_data_full.iloc[:, -1]"
      ],
      "execution_count": 125,
      "outputs": []
    },
    {
      "cell_type": "code",
      "metadata": {
        "colab": {
          "base_uri": "https://localhost:8080/"
        },
        "id": "x4e9DZ2QJhXH",
        "outputId": "43b2cb5a-fa99-4933-8810-a5a4d76d461d"
      },
      "source": [
        "print(train_data.shape)\n",
        "print(test_data.shape)\n",
        "print(train_labels.shape)\n",
        "print(test_labels.shape)"
      ],
      "execution_count": 126,
      "outputs": [
        {
          "output_type": "stream",
          "text": [
            "(662, 30)\n",
            "(284, 30)\n",
            "(662,)\n",
            "(284,)\n"
          ],
          "name": "stdout"
        }
      ]
    },
    {
      "cell_type": "markdown",
      "metadata": {
        "id": "N2IjHw9-vr8R"
      },
      "source": [
        "**Normalizing the data**"
      ]
    },
    {
      "cell_type": "code",
      "metadata": {
        "id": "MB7LfmwN-TaE"
      },
      "source": [
        "mean = train_data.mean(axis=0)\n",
        "train_data -=mean\n",
        "std =train_data.std(axis=0)\n",
        "train_data /=std\n",
        "\n",
        "test_data -=mean\n",
        "test_data /=std"
      ],
      "execution_count": 127,
      "outputs": []
    },
    {
      "cell_type": "code",
      "metadata": {
        "id": "ml_bHaukvCq1"
      },
      "source": [
        "train_labels=np.asarray(train_labels).astype(dtype=\"float64\")\n",
        "test_labels=np.asarray(test_labels).astype(dtype=\"float64\")"
      ],
      "execution_count": 128,
      "outputs": []
    },
    {
      "cell_type": "markdown",
      "metadata": {
        "id": "46HRquJwfVet"
      },
      "source": [
        "**Building The Network**"
      ]
    },
    {
      "cell_type": "code",
      "metadata": {
        "id": "OZRtGjkB-ecD"
      },
      "source": [
        "def build_model():\n",
        "  model= models.Sequential()\n",
        "  model.add(layers.Dense(10, kernel_regularizer=regularizers.l1_l2(l1=0.001, l2=0.001), activation=\"relu\", input_shape=(train_data.shape[1],)))\n",
        "  model.add(layers.Dropout(.3))\n",
        "  model.add(layers.Dense(10, kernel_regularizer=regularizers.l1_l2(l1=0.001, l2=0.001), activation=\"relu\"))\n",
        "  model.add(layers.Dropout(.3))\n",
        "  model.add(layers.Dense(8,kernel_regularizer=regularizers.l1_l2(l1=0.001, l2=0.001), activation=\"relu\"))\n",
        "  model.add(layers.Dropout(.3))\n",
        "  model.add(layers.Dense(6,kernel_regularizer=regularizers.l1_l2(l1=0.001, l2=0.001), activation=\"relu\"))\n",
        "  model.add(layers.Dropout(.3))\n",
        "  model.add(layers.Dense(1,activation=\"sigmoid\"))\n",
        "  model.compile(optimizer=\"rmsprop\", loss=\"binary_crossentropy\", metrics=[\"accuracy\"])\n",
        "  return model"
      ],
      "execution_count": 129,
      "outputs": []
    },
    {
      "cell_type": "markdown",
      "metadata": {
        "id": "OsWj4swa-1c4"
      },
      "source": [
        "**K Fold Validation**"
      ]
    },
    {
      "cell_type": "code",
      "metadata": {
        "colab": {
          "base_uri": "https://localhost:8080/"
        },
        "id": "AtdAWGIM-5yo",
        "outputId": "917c4c2d-b539-4663-da59-d144a8d830c3"
      },
      "source": [
        "k= 5\n",
        "num_val_sample = len(train_data) // k\n",
        "num_epochs = 100\n",
        "all_scores = []\n",
        "all_val_loss_histories = []\n",
        "all_val_acc_histories = []\n",
        "all_loss_histories =[]\n",
        "all_acc_histories = []\n",
        "\n",
        "for i in range(k):\n",
        "  print(\"processing fold #\",i)\n",
        "  val_data = train_data[i*num_val_sample:(i+1)*num_val_sample]\n",
        "  val_labels = train_labels[i*num_val_sample: (i+1)*num_val_sample]\n",
        "\n",
        "  partial_train_data=np.concatenate([train_data[:i*num_val_sample], train_data[(i+1)*num_val_sample:]], axis=0)\n",
        "  partial_train_labels=np.concatenate([train_labels[:i*num_val_sample], train_labels[(i+1)*num_val_sample:]], axis=0)\n",
        "\n",
        "  model=build_model()\n",
        "  history = model.fit(partial_train_data, partial_train_labels, validation_data = (val_data, val_labels), epochs= num_epochs, verbose=1)\n",
        "  val_loss, val_acc = model.evaluate(test_data, test_labels, verbose=0)\n",
        "  val_loss_history = history.history[\"val_loss\"]\n",
        "  val_acc_history = history.history[\"val_accuracy\"]\n",
        "  loss_history = history.history[\"loss\"]\n",
        "  acc_history = history.history[\"accuracy\"]\n",
        "  all_loss_histories.append(loss_history)\n",
        "  all_acc_histories.append(acc_history)\n",
        "  all_val_loss_histories.append(val_loss_history)\n",
        "  all_val_acc_histories.append(val_acc_history)\n",
        "  all_scores.append(val_acc)\n",
        "ave_val_loss_hist = [np.mean([x[i] for x in all_val_loss_histories]) for i in range(num_epochs)]\n",
        "ave_loss_hist = [np.mean([x[i] for x in all_loss_histories]) for i in range(num_epochs)]\n",
        "ave_val_acc_hist = [np.mean([x[i] for x in all_val_acc_histories]) for i in range(num_epochs)]\n",
        "ave_acc_hist = [np.mean([x[i] for x in all_acc_histories]) for i in range(num_epochs)]\n",
        "print(\"All Accuracy values evaluated by teh Model are given below:\")\n",
        "all_scores"
      ],
      "execution_count": 130,
      "outputs": [
        {
          "output_type": "stream",
          "text": [
            "processing fold # 0\n",
            "Epoch 1/100\n",
            "17/17 [==============================] - 1s 21ms/step - loss: 0.8546 - accuracy: 0.5578 - val_loss: 0.7720 - val_accuracy: 0.6364\n",
            "Epoch 2/100\n",
            "17/17 [==============================] - 0s 4ms/step - loss: 0.8346 - accuracy: 0.5768 - val_loss: 0.7541 - val_accuracy: 0.6970\n",
            "Epoch 3/100\n",
            "17/17 [==============================] - 0s 4ms/step - loss: 0.8402 - accuracy: 0.5763 - val_loss: 0.7406 - val_accuracy: 0.8333\n",
            "Epoch 4/100\n",
            "17/17 [==============================] - 0s 4ms/step - loss: 0.7878 - accuracy: 0.6638 - val_loss: 0.7254 - val_accuracy: 0.8409\n",
            "Epoch 5/100\n",
            "17/17 [==============================] - 0s 4ms/step - loss: 0.8053 - accuracy: 0.6328 - val_loss: 0.7108 - val_accuracy: 0.8561\n",
            "Epoch 6/100\n",
            "17/17 [==============================] - 0s 4ms/step - loss: 0.7771 - accuracy: 0.6652 - val_loss: 0.6912 - val_accuracy: 0.8561\n",
            "Epoch 7/100\n",
            "17/17 [==============================] - 0s 5ms/step - loss: 0.7738 - accuracy: 0.6642 - val_loss: 0.6793 - val_accuracy: 0.8561\n",
            "Epoch 8/100\n",
            "17/17 [==============================] - 0s 4ms/step - loss: 0.7990 - accuracy: 0.6598 - val_loss: 0.6666 - val_accuracy: 0.8712\n",
            "Epoch 9/100\n",
            "17/17 [==============================] - 0s 5ms/step - loss: 0.7620 - accuracy: 0.6663 - val_loss: 0.6497 - val_accuracy: 0.8788\n",
            "Epoch 10/100\n",
            "17/17 [==============================] - 0s 4ms/step - loss: 0.7024 - accuracy: 0.7225 - val_loss: 0.6324 - val_accuracy: 0.8864\n",
            "Epoch 11/100\n",
            "17/17 [==============================] - 0s 4ms/step - loss: 0.7157 - accuracy: 0.7105 - val_loss: 0.6114 - val_accuracy: 0.8712\n",
            "Epoch 12/100\n",
            "17/17 [==============================] - 0s 5ms/step - loss: 0.7011 - accuracy: 0.7356 - val_loss: 0.5898 - val_accuracy: 0.8712\n",
            "Epoch 13/100\n",
            "17/17 [==============================] - 0s 4ms/step - loss: 0.7069 - accuracy: 0.7488 - val_loss: 0.5698 - val_accuracy: 0.8712\n",
            "Epoch 14/100\n",
            "17/17 [==============================] - 0s 4ms/step - loss: 0.6476 - accuracy: 0.7654 - val_loss: 0.5493 - val_accuracy: 0.8788\n",
            "Epoch 15/100\n",
            "17/17 [==============================] - 0s 4ms/step - loss: 0.6611 - accuracy: 0.7759 - val_loss: 0.5282 - val_accuracy: 0.8939\n",
            "Epoch 16/100\n",
            "17/17 [==============================] - 0s 5ms/step - loss: 0.6297 - accuracy: 0.7528 - val_loss: 0.5034 - val_accuracy: 0.8864\n",
            "Epoch 17/100\n",
            "17/17 [==============================] - 0s 5ms/step - loss: 0.6558 - accuracy: 0.7666 - val_loss: 0.4864 - val_accuracy: 0.8864\n",
            "Epoch 18/100\n",
            "17/17 [==============================] - 0s 4ms/step - loss: 0.5920 - accuracy: 0.7968 - val_loss: 0.4663 - val_accuracy: 0.8864\n",
            "Epoch 19/100\n",
            "17/17 [==============================] - 0s 5ms/step - loss: 0.6556 - accuracy: 0.8000 - val_loss: 0.4562 - val_accuracy: 0.9015\n",
            "Epoch 20/100\n",
            "17/17 [==============================] - 0s 4ms/step - loss: 0.6310 - accuracy: 0.7716 - val_loss: 0.4438 - val_accuracy: 0.9015\n",
            "Epoch 21/100\n",
            "17/17 [==============================] - 0s 4ms/step - loss: 0.5720 - accuracy: 0.7759 - val_loss: 0.4291 - val_accuracy: 0.9015\n",
            "Epoch 22/100\n",
            "17/17 [==============================] - 0s 5ms/step - loss: 0.5691 - accuracy: 0.8004 - val_loss: 0.4198 - val_accuracy: 0.9015\n",
            "Epoch 23/100\n",
            "17/17 [==============================] - 0s 4ms/step - loss: 0.5303 - accuracy: 0.8128 - val_loss: 0.4096 - val_accuracy: 0.9015\n",
            "Epoch 24/100\n",
            "17/17 [==============================] - 0s 4ms/step - loss: 0.5952 - accuracy: 0.8021 - val_loss: 0.4031 - val_accuracy: 0.8939\n",
            "Epoch 25/100\n",
            "17/17 [==============================] - 0s 4ms/step - loss: 0.5519 - accuracy: 0.8216 - val_loss: 0.3940 - val_accuracy: 0.9167\n",
            "Epoch 26/100\n",
            "17/17 [==============================] - 0s 4ms/step - loss: 0.5148 - accuracy: 0.8217 - val_loss: 0.3867 - val_accuracy: 0.9167\n",
            "Epoch 27/100\n",
            "17/17 [==============================] - 0s 4ms/step - loss: 0.4991 - accuracy: 0.8486 - val_loss: 0.3779 - val_accuracy: 0.9091\n",
            "Epoch 28/100\n",
            "17/17 [==============================] - 0s 4ms/step - loss: 0.5248 - accuracy: 0.8479 - val_loss: 0.3734 - val_accuracy: 0.9167\n",
            "Epoch 29/100\n",
            "17/17 [==============================] - 0s 4ms/step - loss: 0.5203 - accuracy: 0.8323 - val_loss: 0.3681 - val_accuracy: 0.9167\n",
            "Epoch 30/100\n",
            "17/17 [==============================] - 0s 4ms/step - loss: 0.4718 - accuracy: 0.8698 - val_loss: 0.3639 - val_accuracy: 0.9091\n",
            "Epoch 31/100\n",
            "17/17 [==============================] - 0s 5ms/step - loss: 0.4967 - accuracy: 0.8369 - val_loss: 0.3627 - val_accuracy: 0.9091\n",
            "Epoch 32/100\n",
            "17/17 [==============================] - 0s 5ms/step - loss: 0.4636 - accuracy: 0.8680 - val_loss: 0.3605 - val_accuracy: 0.9091\n",
            "Epoch 33/100\n",
            "17/17 [==============================] - 0s 4ms/step - loss: 0.4613 - accuracy: 0.8459 - val_loss: 0.3559 - val_accuracy: 0.9091\n",
            "Epoch 34/100\n",
            "17/17 [==============================] - 0s 4ms/step - loss: 0.4770 - accuracy: 0.8523 - val_loss: 0.3517 - val_accuracy: 0.9167\n",
            "Epoch 35/100\n",
            "17/17 [==============================] - 0s 5ms/step - loss: 0.4804 - accuracy: 0.8603 - val_loss: 0.3494 - val_accuracy: 0.9091\n",
            "Epoch 36/100\n",
            "17/17 [==============================] - 0s 4ms/step - loss: 0.4972 - accuracy: 0.8655 - val_loss: 0.3466 - val_accuracy: 0.9167\n",
            "Epoch 37/100\n",
            "17/17 [==============================] - 0s 4ms/step - loss: 0.4216 - accuracy: 0.8814 - val_loss: 0.3435 - val_accuracy: 0.9242\n",
            "Epoch 38/100\n",
            "17/17 [==============================] - 0s 4ms/step - loss: 0.4440 - accuracy: 0.8833 - val_loss: 0.3410 - val_accuracy: 0.9167\n",
            "Epoch 39/100\n",
            "17/17 [==============================] - 0s 4ms/step - loss: 0.4902 - accuracy: 0.8854 - val_loss: 0.3397 - val_accuracy: 0.9242\n",
            "Epoch 40/100\n",
            "17/17 [==============================] - 0s 4ms/step - loss: 0.4136 - accuracy: 0.9078 - val_loss: 0.3375 - val_accuracy: 0.9242\n",
            "Epoch 41/100\n",
            "17/17 [==============================] - 0s 5ms/step - loss: 0.4404 - accuracy: 0.8700 - val_loss: 0.3377 - val_accuracy: 0.9242\n",
            "Epoch 42/100\n",
            "17/17 [==============================] - 0s 5ms/step - loss: 0.4869 - accuracy: 0.8642 - val_loss: 0.3359 - val_accuracy: 0.9242\n",
            "Epoch 43/100\n",
            "17/17 [==============================] - 0s 5ms/step - loss: 0.4022 - accuracy: 0.9003 - val_loss: 0.3321 - val_accuracy: 0.9242\n",
            "Epoch 44/100\n",
            "17/17 [==============================] - 0s 5ms/step - loss: 0.4821 - accuracy: 0.9035 - val_loss: 0.3314 - val_accuracy: 0.9242\n",
            "Epoch 45/100\n",
            "17/17 [==============================] - 0s 5ms/step - loss: 0.3988 - accuracy: 0.9094 - val_loss: 0.3302 - val_accuracy: 0.9242\n",
            "Epoch 46/100\n",
            "17/17 [==============================] - 0s 5ms/step - loss: 0.4439 - accuracy: 0.8906 - val_loss: 0.3277 - val_accuracy: 0.9242\n",
            "Epoch 47/100\n",
            "17/17 [==============================] - 0s 4ms/step - loss: 0.3998 - accuracy: 0.9237 - val_loss: 0.3258 - val_accuracy: 0.9242\n",
            "Epoch 48/100\n",
            "17/17 [==============================] - 0s 4ms/step - loss: 0.3866 - accuracy: 0.9224 - val_loss: 0.3232 - val_accuracy: 0.9242\n",
            "Epoch 49/100\n",
            "17/17 [==============================] - 0s 4ms/step - loss: 0.3614 - accuracy: 0.9118 - val_loss: 0.3193 - val_accuracy: 0.9242\n",
            "Epoch 50/100\n",
            "17/17 [==============================] - 0s 4ms/step - loss: 0.3493 - accuracy: 0.9166 - val_loss: 0.3139 - val_accuracy: 0.9242\n",
            "Epoch 51/100\n",
            "17/17 [==============================] - 0s 4ms/step - loss: 0.3952 - accuracy: 0.8833 - val_loss: 0.3116 - val_accuracy: 0.9242\n",
            "Epoch 52/100\n",
            "17/17 [==============================] - 0s 5ms/step - loss: 0.3932 - accuracy: 0.8901 - val_loss: 0.3091 - val_accuracy: 0.9242\n",
            "Epoch 53/100\n",
            "17/17 [==============================] - 0s 4ms/step - loss: 0.3832 - accuracy: 0.9167 - val_loss: 0.3106 - val_accuracy: 0.9318\n",
            "Epoch 54/100\n",
            "17/17 [==============================] - 0s 5ms/step - loss: 0.4026 - accuracy: 0.9188 - val_loss: 0.3094 - val_accuracy: 0.9318\n",
            "Epoch 55/100\n",
            "17/17 [==============================] - 0s 5ms/step - loss: 0.3746 - accuracy: 0.9025 - val_loss: 0.3085 - val_accuracy: 0.9318\n",
            "Epoch 56/100\n",
            "17/17 [==============================] - 0s 4ms/step - loss: 0.3760 - accuracy: 0.9014 - val_loss: 0.3070 - val_accuracy: 0.9318\n",
            "Epoch 57/100\n",
            "17/17 [==============================] - 0s 5ms/step - loss: 0.3590 - accuracy: 0.9183 - val_loss: 0.3052 - val_accuracy: 0.9318\n",
            "Epoch 58/100\n",
            "17/17 [==============================] - 0s 4ms/step - loss: 0.4012 - accuracy: 0.8964 - val_loss: 0.3015 - val_accuracy: 0.9318\n",
            "Epoch 59/100\n",
            "17/17 [==============================] - 0s 4ms/step - loss: 0.3948 - accuracy: 0.9099 - val_loss: 0.2993 - val_accuracy: 0.9318\n",
            "Epoch 60/100\n",
            "17/17 [==============================] - 0s 6ms/step - loss: 0.3643 - accuracy: 0.9076 - val_loss: 0.2957 - val_accuracy: 0.9318\n",
            "Epoch 61/100\n",
            "17/17 [==============================] - 0s 4ms/step - loss: 0.4366 - accuracy: 0.9003 - val_loss: 0.2968 - val_accuracy: 0.9318\n",
            "Epoch 62/100\n",
            "17/17 [==============================] - 0s 4ms/step - loss: 0.3891 - accuracy: 0.8989 - val_loss: 0.2971 - val_accuracy: 0.9318\n",
            "Epoch 63/100\n",
            "17/17 [==============================] - 0s 4ms/step - loss: 0.3432 - accuracy: 0.9163 - val_loss: 0.2964 - val_accuracy: 0.9318\n",
            "Epoch 64/100\n",
            "17/17 [==============================] - 0s 4ms/step - loss: 0.4129 - accuracy: 0.8954 - val_loss: 0.2988 - val_accuracy: 0.9318\n",
            "Epoch 65/100\n",
            "17/17 [==============================] - 0s 5ms/step - loss: 0.3433 - accuracy: 0.8973 - val_loss: 0.2982 - val_accuracy: 0.9318\n",
            "Epoch 66/100\n",
            "17/17 [==============================] - 0s 4ms/step - loss: 0.3668 - accuracy: 0.9152 - val_loss: 0.2968 - val_accuracy: 0.9318\n",
            "Epoch 67/100\n",
            "17/17 [==============================] - 0s 5ms/step - loss: 0.3784 - accuracy: 0.9104 - val_loss: 0.2965 - val_accuracy: 0.9318\n",
            "Epoch 68/100\n",
            "17/17 [==============================] - 0s 5ms/step - loss: 0.3352 - accuracy: 0.9062 - val_loss: 0.2925 - val_accuracy: 0.9318\n",
            "Epoch 69/100\n",
            "17/17 [==============================] - 0s 4ms/step - loss: 0.3393 - accuracy: 0.9254 - val_loss: 0.2926 - val_accuracy: 0.9318\n",
            "Epoch 70/100\n",
            "17/17 [==============================] - 0s 4ms/step - loss: 0.3617 - accuracy: 0.9113 - val_loss: 0.2930 - val_accuracy: 0.9318\n",
            "Epoch 71/100\n",
            "17/17 [==============================] - 0s 4ms/step - loss: 0.4009 - accuracy: 0.8919 - val_loss: 0.2904 - val_accuracy: 0.9318\n",
            "Epoch 72/100\n",
            "17/17 [==============================] - 0s 5ms/step - loss: 0.3223 - accuracy: 0.9214 - val_loss: 0.2900 - val_accuracy: 0.9318\n",
            "Epoch 73/100\n",
            "17/17 [==============================] - 0s 4ms/step - loss: 0.3745 - accuracy: 0.9079 - val_loss: 0.2880 - val_accuracy: 0.9318\n",
            "Epoch 74/100\n",
            "17/17 [==============================] - 0s 4ms/step - loss: 0.3303 - accuracy: 0.9208 - val_loss: 0.2872 - val_accuracy: 0.9318\n",
            "Epoch 75/100\n",
            "17/17 [==============================] - 0s 5ms/step - loss: 0.3456 - accuracy: 0.9030 - val_loss: 0.2868 - val_accuracy: 0.9318\n",
            "Epoch 76/100\n",
            "17/17 [==============================] - 0s 5ms/step - loss: 0.3727 - accuracy: 0.8880 - val_loss: 0.2851 - val_accuracy: 0.9318\n",
            "Epoch 77/100\n",
            "17/17 [==============================] - 0s 5ms/step - loss: 0.3339 - accuracy: 0.9255 - val_loss: 0.2842 - val_accuracy: 0.9318\n",
            "Epoch 78/100\n",
            "17/17 [==============================] - 0s 5ms/step - loss: 0.3368 - accuracy: 0.9145 - val_loss: 0.2815 - val_accuracy: 0.9318\n",
            "Epoch 79/100\n",
            "17/17 [==============================] - 0s 5ms/step - loss: 0.3379 - accuracy: 0.9064 - val_loss: 0.2811 - val_accuracy: 0.9318\n",
            "Epoch 80/100\n",
            "17/17 [==============================] - 0s 5ms/step - loss: 0.3302 - accuracy: 0.9115 - val_loss: 0.2786 - val_accuracy: 0.9394\n",
            "Epoch 81/100\n",
            "17/17 [==============================] - 0s 5ms/step - loss: 0.3720 - accuracy: 0.8858 - val_loss: 0.2774 - val_accuracy: 0.9394\n",
            "Epoch 82/100\n",
            "17/17 [==============================] - 0s 5ms/step - loss: 0.3043 - accuracy: 0.9151 - val_loss: 0.2802 - val_accuracy: 0.9318\n",
            "Epoch 83/100\n",
            "17/17 [==============================] - 0s 4ms/step - loss: 0.3133 - accuracy: 0.9372 - val_loss: 0.2789 - val_accuracy: 0.9318\n",
            "Epoch 84/100\n",
            "17/17 [==============================] - 0s 5ms/step - loss: 0.3251 - accuracy: 0.9168 - val_loss: 0.2789 - val_accuracy: 0.9394\n",
            "Epoch 85/100\n",
            "17/17 [==============================] - 0s 5ms/step - loss: 0.3864 - accuracy: 0.8720 - val_loss: 0.2795 - val_accuracy: 0.9318\n",
            "Epoch 86/100\n",
            "17/17 [==============================] - 0s 4ms/step - loss: 0.3252 - accuracy: 0.9090 - val_loss: 0.2773 - val_accuracy: 0.9394\n",
            "Epoch 87/100\n",
            "17/17 [==============================] - 0s 4ms/step - loss: 0.3155 - accuracy: 0.9174 - val_loss: 0.2790 - val_accuracy: 0.9394\n",
            "Epoch 88/100\n",
            "17/17 [==============================] - 0s 5ms/step - loss: 0.2999 - accuracy: 0.9171 - val_loss: 0.2806 - val_accuracy: 0.9318\n",
            "Epoch 89/100\n",
            "17/17 [==============================] - 0s 5ms/step - loss: 0.3390 - accuracy: 0.8988 - val_loss: 0.2830 - val_accuracy: 0.9318\n",
            "Epoch 90/100\n",
            "17/17 [==============================] - 0s 4ms/step - loss: 0.3600 - accuracy: 0.9111 - val_loss: 0.2801 - val_accuracy: 0.9318\n",
            "Epoch 91/100\n",
            "17/17 [==============================] - 0s 4ms/step - loss: 0.3274 - accuracy: 0.9100 - val_loss: 0.2793 - val_accuracy: 0.9318\n",
            "Epoch 92/100\n",
            "17/17 [==============================] - 0s 4ms/step - loss: 0.3249 - accuracy: 0.9121 - val_loss: 0.2798 - val_accuracy: 0.9394\n",
            "Epoch 93/100\n",
            "17/17 [==============================] - 0s 5ms/step - loss: 0.3125 - accuracy: 0.9165 - val_loss: 0.2779 - val_accuracy: 0.9394\n",
            "Epoch 94/100\n",
            "17/17 [==============================] - 0s 5ms/step - loss: 0.3247 - accuracy: 0.9261 - val_loss: 0.2772 - val_accuracy: 0.9394\n",
            "Epoch 95/100\n",
            "17/17 [==============================] - 0s 5ms/step - loss: 0.2945 - accuracy: 0.9166 - val_loss: 0.2795 - val_accuracy: 0.9394\n",
            "Epoch 96/100\n",
            "17/17 [==============================] - 0s 5ms/step - loss: 0.3429 - accuracy: 0.8916 - val_loss: 0.2785 - val_accuracy: 0.9394\n",
            "Epoch 97/100\n",
            "17/17 [==============================] - 0s 5ms/step - loss: 0.3074 - accuracy: 0.9067 - val_loss: 0.2791 - val_accuracy: 0.9394\n",
            "Epoch 98/100\n",
            "17/17 [==============================] - 0s 4ms/step - loss: 0.2900 - accuracy: 0.9230 - val_loss: 0.2789 - val_accuracy: 0.9394\n",
            "Epoch 99/100\n",
            "17/17 [==============================] - 0s 5ms/step - loss: 0.3540 - accuracy: 0.9007 - val_loss: 0.2791 - val_accuracy: 0.9394\n",
            "Epoch 100/100\n",
            "17/17 [==============================] - 0s 5ms/step - loss: 0.3349 - accuracy: 0.8885 - val_loss: 0.2804 - val_accuracy: 0.9394\n",
            "processing fold # 1\n",
            "Epoch 1/100\n",
            "17/17 [==============================] - 1s 21ms/step - loss: 0.9419 - accuracy: 0.5216 - val_loss: 0.8768 - val_accuracy: 0.5303\n",
            "Epoch 2/100\n",
            "17/17 [==============================] - 0s 4ms/step - loss: 0.9290 - accuracy: 0.4949 - val_loss: 0.8339 - val_accuracy: 0.5606\n",
            "Epoch 3/100\n",
            "17/17 [==============================] - 0s 4ms/step - loss: 0.8459 - accuracy: 0.5463 - val_loss: 0.7922 - val_accuracy: 0.6818\n",
            "Epoch 4/100\n",
            "17/17 [==============================] - 0s 4ms/step - loss: 0.8114 - accuracy: 0.6316 - val_loss: 0.7532 - val_accuracy: 0.7500\n",
            "Epoch 5/100\n",
            "17/17 [==============================] - 0s 4ms/step - loss: 0.8225 - accuracy: 0.6024 - val_loss: 0.7215 - val_accuracy: 0.7955\n",
            "Epoch 6/100\n",
            "17/17 [==============================] - 0s 4ms/step - loss: 0.7899 - accuracy: 0.6155 - val_loss: 0.6898 - val_accuracy: 0.8333\n",
            "Epoch 7/100\n",
            "17/17 [==============================] - 0s 4ms/step - loss: 0.7420 - accuracy: 0.6745 - val_loss: 0.6570 - val_accuracy: 0.8485\n",
            "Epoch 8/100\n",
            "17/17 [==============================] - 0s 5ms/step - loss: 0.6907 - accuracy: 0.7294 - val_loss: 0.6234 - val_accuracy: 0.8864\n",
            "Epoch 9/100\n",
            "17/17 [==============================] - 0s 5ms/step - loss: 0.7386 - accuracy: 0.6731 - val_loss: 0.6045 - val_accuracy: 0.8864\n",
            "Epoch 10/100\n",
            "17/17 [==============================] - 0s 4ms/step - loss: 0.7033 - accuracy: 0.7387 - val_loss: 0.5807 - val_accuracy: 0.8864\n",
            "Epoch 11/100\n",
            "17/17 [==============================] - 0s 4ms/step - loss: 0.6810 - accuracy: 0.7130 - val_loss: 0.5632 - val_accuracy: 0.8864\n",
            "Epoch 12/100\n",
            "17/17 [==============================] - 0s 5ms/step - loss: 0.6800 - accuracy: 0.7231 - val_loss: 0.5453 - val_accuracy: 0.8864\n",
            "Epoch 13/100\n",
            "17/17 [==============================] - 0s 5ms/step - loss: 0.6522 - accuracy: 0.7476 - val_loss: 0.5266 - val_accuracy: 0.8864\n",
            "Epoch 14/100\n",
            "17/17 [==============================] - 0s 5ms/step - loss: 0.6512 - accuracy: 0.7698 - val_loss: 0.5092 - val_accuracy: 0.8864\n",
            "Epoch 15/100\n",
            "17/17 [==============================] - 0s 4ms/step - loss: 0.6207 - accuracy: 0.7741 - val_loss: 0.4919 - val_accuracy: 0.8939\n",
            "Epoch 16/100\n",
            "17/17 [==============================] - 0s 5ms/step - loss: 0.6192 - accuracy: 0.7793 - val_loss: 0.4767 - val_accuracy: 0.8939\n",
            "Epoch 17/100\n",
            "17/17 [==============================] - 0s 4ms/step - loss: 0.5803 - accuracy: 0.8112 - val_loss: 0.4641 - val_accuracy: 0.8939\n",
            "Epoch 18/100\n",
            "17/17 [==============================] - 0s 5ms/step - loss: 0.6006 - accuracy: 0.7861 - val_loss: 0.4477 - val_accuracy: 0.8939\n",
            "Epoch 19/100\n",
            "17/17 [==============================] - 0s 5ms/step - loss: 0.5612 - accuracy: 0.8052 - val_loss: 0.4394 - val_accuracy: 0.9015\n",
            "Epoch 20/100\n",
            "17/17 [==============================] - 0s 4ms/step - loss: 0.5681 - accuracy: 0.8341 - val_loss: 0.4315 - val_accuracy: 0.9015\n",
            "Epoch 21/100\n",
            "17/17 [==============================] - 0s 5ms/step - loss: 0.6040 - accuracy: 0.8000 - val_loss: 0.4287 - val_accuracy: 0.9015\n",
            "Epoch 22/100\n",
            "17/17 [==============================] - 0s 4ms/step - loss: 0.5880 - accuracy: 0.8148 - val_loss: 0.4221 - val_accuracy: 0.9015\n",
            "Epoch 23/100\n",
            "17/17 [==============================] - 0s 5ms/step - loss: 0.5303 - accuracy: 0.8140 - val_loss: 0.4119 - val_accuracy: 0.9015\n",
            "Epoch 24/100\n",
            "17/17 [==============================] - 0s 4ms/step - loss: 0.5640 - accuracy: 0.8296 - val_loss: 0.4065 - val_accuracy: 0.9015\n",
            "Epoch 25/100\n",
            "17/17 [==============================] - 0s 5ms/step - loss: 0.6035 - accuracy: 0.8125 - val_loss: 0.4023 - val_accuracy: 0.8939\n",
            "Epoch 26/100\n",
            "17/17 [==============================] - 0s 5ms/step - loss: 0.5630 - accuracy: 0.7991 - val_loss: 0.3990 - val_accuracy: 0.8939\n",
            "Epoch 27/100\n",
            "17/17 [==============================] - 0s 5ms/step - loss: 0.5705 - accuracy: 0.8494 - val_loss: 0.3932 - val_accuracy: 0.8939\n",
            "Epoch 28/100\n",
            "17/17 [==============================] - 0s 5ms/step - loss: 0.5221 - accuracy: 0.8683 - val_loss: 0.3861 - val_accuracy: 0.8939\n",
            "Epoch 29/100\n",
            "17/17 [==============================] - 0s 5ms/step - loss: 0.5195 - accuracy: 0.8451 - val_loss: 0.3823 - val_accuracy: 0.9015\n",
            "Epoch 30/100\n",
            "17/17 [==============================] - 0s 4ms/step - loss: 0.5405 - accuracy: 0.8484 - val_loss: 0.3799 - val_accuracy: 0.9015\n",
            "Epoch 31/100\n",
            "17/17 [==============================] - 0s 5ms/step - loss: 0.5041 - accuracy: 0.8691 - val_loss: 0.3733 - val_accuracy: 0.9015\n",
            "Epoch 32/100\n",
            "17/17 [==============================] - 0s 4ms/step - loss: 0.5597 - accuracy: 0.8336 - val_loss: 0.3675 - val_accuracy: 0.9015\n",
            "Epoch 33/100\n",
            "17/17 [==============================] - 0s 5ms/step - loss: 0.5067 - accuracy: 0.8712 - val_loss: 0.3659 - val_accuracy: 0.9091\n",
            "Epoch 34/100\n",
            "17/17 [==============================] - 0s 5ms/step - loss: 0.5292 - accuracy: 0.8444 - val_loss: 0.3644 - val_accuracy: 0.9167\n",
            "Epoch 35/100\n",
            "17/17 [==============================] - 0s 4ms/step - loss: 0.5862 - accuracy: 0.8777 - val_loss: 0.3628 - val_accuracy: 0.9167\n",
            "Epoch 36/100\n",
            "17/17 [==============================] - 0s 5ms/step - loss: 0.4825 - accuracy: 0.8901 - val_loss: 0.3577 - val_accuracy: 0.9167\n",
            "Epoch 37/100\n",
            "17/17 [==============================] - 0s 5ms/step - loss: 0.4802 - accuracy: 0.8853 - val_loss: 0.3527 - val_accuracy: 0.9167\n",
            "Epoch 38/100\n",
            "17/17 [==============================] - 0s 5ms/step - loss: 0.4328 - accuracy: 0.8874 - val_loss: 0.3472 - val_accuracy: 0.9167\n",
            "Epoch 39/100\n",
            "17/17 [==============================] - 0s 5ms/step - loss: 0.4819 - accuracy: 0.9053 - val_loss: 0.3429 - val_accuracy: 0.9167\n",
            "Epoch 40/100\n",
            "17/17 [==============================] - 0s 5ms/step - loss: 0.4628 - accuracy: 0.8943 - val_loss: 0.3423 - val_accuracy: 0.9167\n",
            "Epoch 41/100\n",
            "17/17 [==============================] - 0s 4ms/step - loss: 0.5111 - accuracy: 0.8556 - val_loss: 0.3385 - val_accuracy: 0.9167\n",
            "Epoch 42/100\n",
            "17/17 [==============================] - 0s 5ms/step - loss: 0.4868 - accuracy: 0.8772 - val_loss: 0.3376 - val_accuracy: 0.9167\n",
            "Epoch 43/100\n",
            "17/17 [==============================] - 0s 5ms/step - loss: 0.4801 - accuracy: 0.8686 - val_loss: 0.3351 - val_accuracy: 0.9167\n",
            "Epoch 44/100\n",
            "17/17 [==============================] - 0s 4ms/step - loss: 0.4331 - accuracy: 0.8974 - val_loss: 0.3309 - val_accuracy: 0.9167\n",
            "Epoch 45/100\n",
            "17/17 [==============================] - 0s 5ms/step - loss: 0.5152 - accuracy: 0.8850 - val_loss: 0.3303 - val_accuracy: 0.9167\n",
            "Epoch 46/100\n",
            "17/17 [==============================] - 0s 4ms/step - loss: 0.4918 - accuracy: 0.8751 - val_loss: 0.3287 - val_accuracy: 0.9167\n",
            "Epoch 47/100\n",
            "17/17 [==============================] - 0s 4ms/step - loss: 0.4431 - accuracy: 0.9023 - val_loss: 0.3291 - val_accuracy: 0.9167\n",
            "Epoch 48/100\n",
            "17/17 [==============================] - 0s 7ms/step - loss: 0.4295 - accuracy: 0.8962 - val_loss: 0.3265 - val_accuracy: 0.9167\n",
            "Epoch 49/100\n",
            "17/17 [==============================] - 0s 5ms/step - loss: 0.4340 - accuracy: 0.8978 - val_loss: 0.3235 - val_accuracy: 0.9242\n",
            "Epoch 50/100\n",
            "17/17 [==============================] - 0s 4ms/step - loss: 0.5061 - accuracy: 0.8828 - val_loss: 0.3231 - val_accuracy: 0.9242\n",
            "Epoch 51/100\n",
            "17/17 [==============================] - 0s 5ms/step - loss: 0.4265 - accuracy: 0.8829 - val_loss: 0.3195 - val_accuracy: 0.9242\n",
            "Epoch 52/100\n",
            "17/17 [==============================] - 0s 4ms/step - loss: 0.4382 - accuracy: 0.9021 - val_loss: 0.3195 - val_accuracy: 0.9242\n",
            "Epoch 53/100\n",
            "17/17 [==============================] - 0s 4ms/step - loss: 0.4406 - accuracy: 0.9017 - val_loss: 0.3202 - val_accuracy: 0.9242\n",
            "Epoch 54/100\n",
            "17/17 [==============================] - 0s 5ms/step - loss: 0.4654 - accuracy: 0.8723 - val_loss: 0.3154 - val_accuracy: 0.9242\n",
            "Epoch 55/100\n",
            "17/17 [==============================] - 0s 4ms/step - loss: 0.4725 - accuracy: 0.8735 - val_loss: 0.3158 - val_accuracy: 0.9242\n",
            "Epoch 56/100\n",
            "17/17 [==============================] - 0s 5ms/step - loss: 0.4328 - accuracy: 0.9073 - val_loss: 0.3139 - val_accuracy: 0.9242\n",
            "Epoch 57/100\n",
            "17/17 [==============================] - 0s 5ms/step - loss: 0.4138 - accuracy: 0.9024 - val_loss: 0.3126 - val_accuracy: 0.9242\n",
            "Epoch 58/100\n",
            "17/17 [==============================] - 0s 5ms/step - loss: 0.4920 - accuracy: 0.8956 - val_loss: 0.3119 - val_accuracy: 0.9242\n",
            "Epoch 59/100\n",
            "17/17 [==============================] - 0s 4ms/step - loss: 0.4161 - accuracy: 0.8693 - val_loss: 0.3103 - val_accuracy: 0.9242\n",
            "Epoch 60/100\n",
            "17/17 [==============================] - 0s 5ms/step - loss: 0.4408 - accuracy: 0.8936 - val_loss: 0.3098 - val_accuracy: 0.9242\n",
            "Epoch 61/100\n",
            "17/17 [==============================] - 0s 5ms/step - loss: 0.4674 - accuracy: 0.8921 - val_loss: 0.3091 - val_accuracy: 0.9242\n",
            "Epoch 62/100\n",
            "17/17 [==============================] - 0s 6ms/step - loss: 0.4343 - accuracy: 0.9040 - val_loss: 0.3094 - val_accuracy: 0.9242\n",
            "Epoch 63/100\n",
            "17/17 [==============================] - 0s 4ms/step - loss: 0.4685 - accuracy: 0.8778 - val_loss: 0.3074 - val_accuracy: 0.9242\n",
            "Epoch 64/100\n",
            "17/17 [==============================] - 0s 4ms/step - loss: 0.4078 - accuracy: 0.8849 - val_loss: 0.3050 - val_accuracy: 0.9242\n",
            "Epoch 65/100\n",
            "17/17 [==============================] - 0s 5ms/step - loss: 0.4118 - accuracy: 0.8937 - val_loss: 0.3037 - val_accuracy: 0.9242\n",
            "Epoch 66/100\n",
            "17/17 [==============================] - 0s 5ms/step - loss: 0.3730 - accuracy: 0.9121 - val_loss: 0.3016 - val_accuracy: 0.9242\n",
            "Epoch 67/100\n",
            "17/17 [==============================] - 0s 4ms/step - loss: 0.4067 - accuracy: 0.8994 - val_loss: 0.3015 - val_accuracy: 0.9242\n",
            "Epoch 68/100\n",
            "17/17 [==============================] - 0s 4ms/step - loss: 0.3983 - accuracy: 0.9139 - val_loss: 0.2999 - val_accuracy: 0.9242\n",
            "Epoch 69/100\n",
            "17/17 [==============================] - 0s 5ms/step - loss: 0.3758 - accuracy: 0.9113 - val_loss: 0.2989 - val_accuracy: 0.9242\n",
            "Epoch 70/100\n",
            "17/17 [==============================] - 0s 5ms/step - loss: 0.4281 - accuracy: 0.8718 - val_loss: 0.3010 - val_accuracy: 0.9242\n",
            "Epoch 71/100\n",
            "17/17 [==============================] - 0s 5ms/step - loss: 0.3822 - accuracy: 0.8954 - val_loss: 0.3001 - val_accuracy: 0.9242\n",
            "Epoch 72/100\n",
            "17/17 [==============================] - 0s 5ms/step - loss: 0.4015 - accuracy: 0.9076 - val_loss: 0.2979 - val_accuracy: 0.9242\n",
            "Epoch 73/100\n",
            "17/17 [==============================] - 0s 4ms/step - loss: 0.3835 - accuracy: 0.9128 - val_loss: 0.2960 - val_accuracy: 0.9242\n",
            "Epoch 74/100\n",
            "17/17 [==============================] - 0s 5ms/step - loss: 0.3679 - accuracy: 0.9127 - val_loss: 0.2960 - val_accuracy: 0.9242\n",
            "Epoch 75/100\n",
            "17/17 [==============================] - 0s 4ms/step - loss: 0.3976 - accuracy: 0.9041 - val_loss: 0.2940 - val_accuracy: 0.9242\n",
            "Epoch 76/100\n",
            "17/17 [==============================] - 0s 5ms/step - loss: 0.3966 - accuracy: 0.9123 - val_loss: 0.2928 - val_accuracy: 0.9242\n",
            "Epoch 77/100\n",
            "17/17 [==============================] - 0s 5ms/step - loss: 0.3705 - accuracy: 0.9115 - val_loss: 0.2905 - val_accuracy: 0.9242\n",
            "Epoch 78/100\n",
            "17/17 [==============================] - 0s 5ms/step - loss: 0.4294 - accuracy: 0.9005 - val_loss: 0.2915 - val_accuracy: 0.9242\n",
            "Epoch 79/100\n",
            "17/17 [==============================] - 0s 5ms/step - loss: 0.3601 - accuracy: 0.9046 - val_loss: 0.2919 - val_accuracy: 0.9318\n",
            "Epoch 80/100\n",
            "17/17 [==============================] - 0s 5ms/step - loss: 0.3548 - accuracy: 0.9245 - val_loss: 0.2915 - val_accuracy: 0.9242\n",
            "Epoch 81/100\n",
            "17/17 [==============================] - 0s 5ms/step - loss: 0.3565 - accuracy: 0.9338 - val_loss: 0.2918 - val_accuracy: 0.9242\n",
            "Epoch 82/100\n",
            "17/17 [==============================] - 0s 5ms/step - loss: 0.4031 - accuracy: 0.9093 - val_loss: 0.2896 - val_accuracy: 0.9318\n",
            "Epoch 83/100\n",
            "17/17 [==============================] - 0s 5ms/step - loss: 0.3988 - accuracy: 0.9201 - val_loss: 0.2892 - val_accuracy: 0.9242\n",
            "Epoch 84/100\n",
            "17/17 [==============================] - 0s 24ms/step - loss: 0.3573 - accuracy: 0.9192 - val_loss: 0.2906 - val_accuracy: 0.9242\n",
            "Epoch 85/100\n",
            "17/17 [==============================] - 0s 5ms/step - loss: 0.3762 - accuracy: 0.9124 - val_loss: 0.2892 - val_accuracy: 0.9242\n",
            "Epoch 86/100\n",
            "17/17 [==============================] - 0s 4ms/step - loss: 0.3559 - accuracy: 0.9249 - val_loss: 0.2880 - val_accuracy: 0.9318\n",
            "Epoch 87/100\n",
            "17/17 [==============================] - 0s 4ms/step - loss: 0.4307 - accuracy: 0.8765 - val_loss: 0.2895 - val_accuracy: 0.9242\n",
            "Epoch 88/100\n",
            "17/17 [==============================] - 0s 5ms/step - loss: 0.4162 - accuracy: 0.8889 - val_loss: 0.2888 - val_accuracy: 0.9318\n",
            "Epoch 89/100\n",
            "17/17 [==============================] - 0s 5ms/step - loss: 0.3577 - accuracy: 0.9219 - val_loss: 0.2850 - val_accuracy: 0.9318\n",
            "Epoch 90/100\n",
            "17/17 [==============================] - 0s 5ms/step - loss: 0.3545 - accuracy: 0.9283 - val_loss: 0.2859 - val_accuracy: 0.9242\n",
            "Epoch 91/100\n",
            "17/17 [==============================] - 0s 5ms/step - loss: 0.3190 - accuracy: 0.9305 - val_loss: 0.2804 - val_accuracy: 0.9318\n",
            "Epoch 92/100\n",
            "17/17 [==============================] - 0s 5ms/step - loss: 0.3675 - accuracy: 0.9247 - val_loss: 0.2786 - val_accuracy: 0.9318\n",
            "Epoch 93/100\n",
            "17/17 [==============================] - 0s 4ms/step - loss: 0.3818 - accuracy: 0.8981 - val_loss: 0.2799 - val_accuracy: 0.9242\n",
            "Epoch 94/100\n",
            "17/17 [==============================] - 0s 4ms/step - loss: 0.3845 - accuracy: 0.9145 - val_loss: 0.2839 - val_accuracy: 0.9242\n",
            "Epoch 95/100\n",
            "17/17 [==============================] - 0s 5ms/step - loss: 0.3115 - accuracy: 0.9355 - val_loss: 0.2760 - val_accuracy: 0.9318\n",
            "Epoch 96/100\n",
            "17/17 [==============================] - 0s 5ms/step - loss: 0.3815 - accuracy: 0.9130 - val_loss: 0.2788 - val_accuracy: 0.9318\n",
            "Epoch 97/100\n",
            "17/17 [==============================] - 0s 4ms/step - loss: 0.3852 - accuracy: 0.9127 - val_loss: 0.2804 - val_accuracy: 0.9242\n",
            "Epoch 98/100\n",
            "17/17 [==============================] - 0s 4ms/step - loss: 0.3920 - accuracy: 0.9117 - val_loss: 0.2743 - val_accuracy: 0.9242\n",
            "Epoch 99/100\n",
            "17/17 [==============================] - 0s 5ms/step - loss: 0.3813 - accuracy: 0.8959 - val_loss: 0.2758 - val_accuracy: 0.9242\n",
            "Epoch 100/100\n",
            "17/17 [==============================] - 0s 5ms/step - loss: 0.3849 - accuracy: 0.8944 - val_loss: 0.2788 - val_accuracy: 0.9318\n",
            "processing fold # 2\n",
            "Epoch 1/100\n",
            "17/17 [==============================] - 1s 20ms/step - loss: 0.8687 - accuracy: 0.4855 - val_loss: 0.8139 - val_accuracy: 0.5152\n",
            "Epoch 2/100\n",
            "17/17 [==============================] - 0s 4ms/step - loss: 0.8235 - accuracy: 0.5718 - val_loss: 0.7949 - val_accuracy: 0.6288\n",
            "Epoch 3/100\n",
            "17/17 [==============================] - 0s 5ms/step - loss: 0.8184 - accuracy: 0.5622 - val_loss: 0.7744 - val_accuracy: 0.7197\n",
            "Epoch 4/100\n",
            "17/17 [==============================] - 0s 4ms/step - loss: 0.7835 - accuracy: 0.5939 - val_loss: 0.7516 - val_accuracy: 0.8106\n",
            "Epoch 5/100\n",
            "17/17 [==============================] - 0s 4ms/step - loss: 0.7781 - accuracy: 0.6485 - val_loss: 0.7245 - val_accuracy: 0.8258\n",
            "Epoch 6/100\n",
            "17/17 [==============================] - 0s 5ms/step - loss: 0.7618 - accuracy: 0.6452 - val_loss: 0.6994 - val_accuracy: 0.8485\n",
            "Epoch 7/100\n",
            "17/17 [==============================] - 0s 5ms/step - loss: 0.7627 - accuracy: 0.6508 - val_loss: 0.6767 - val_accuracy: 0.8636\n",
            "Epoch 8/100\n",
            "17/17 [==============================] - 0s 5ms/step - loss: 0.7577 - accuracy: 0.6306 - val_loss: 0.6512 - val_accuracy: 0.8712\n",
            "Epoch 9/100\n",
            "17/17 [==============================] - 0s 6ms/step - loss: 0.6974 - accuracy: 0.6937 - val_loss: 0.6248 - val_accuracy: 0.8636\n",
            "Epoch 10/100\n",
            "17/17 [==============================] - 0s 5ms/step - loss: 0.7029 - accuracy: 0.6955 - val_loss: 0.6060 - val_accuracy: 0.8788\n",
            "Epoch 11/100\n",
            "17/17 [==============================] - 0s 5ms/step - loss: 0.6584 - accuracy: 0.7171 - val_loss: 0.5814 - val_accuracy: 0.8864\n",
            "Epoch 12/100\n",
            "17/17 [==============================] - 0s 4ms/step - loss: 0.6862 - accuracy: 0.6933 - val_loss: 0.5622 - val_accuracy: 0.8864\n",
            "Epoch 13/100\n",
            "17/17 [==============================] - 0s 4ms/step - loss: 0.6572 - accuracy: 0.7065 - val_loss: 0.5455 - val_accuracy: 0.8864\n",
            "Epoch 14/100\n",
            "17/17 [==============================] - 0s 5ms/step - loss: 0.6415 - accuracy: 0.7291 - val_loss: 0.5359 - val_accuracy: 0.8864\n",
            "Epoch 15/100\n",
            "17/17 [==============================] - 0s 5ms/step - loss: 0.5742 - accuracy: 0.7869 - val_loss: 0.5217 - val_accuracy: 0.8864\n",
            "Epoch 16/100\n",
            "17/17 [==============================] - 0s 4ms/step - loss: 0.5557 - accuracy: 0.7774 - val_loss: 0.5078 - val_accuracy: 0.8939\n",
            "Epoch 17/100\n",
            "17/17 [==============================] - 0s 5ms/step - loss: 0.6508 - accuracy: 0.7219 - val_loss: 0.5023 - val_accuracy: 0.9015\n",
            "Epoch 18/100\n",
            "17/17 [==============================] - 0s 4ms/step - loss: 0.5975 - accuracy: 0.7638 - val_loss: 0.4930 - val_accuracy: 0.9015\n",
            "Epoch 19/100\n",
            "17/17 [==============================] - 0s 5ms/step - loss: 0.5770 - accuracy: 0.7770 - val_loss: 0.4843 - val_accuracy: 0.9015\n",
            "Epoch 20/100\n",
            "17/17 [==============================] - 0s 5ms/step - loss: 0.5829 - accuracy: 0.7634 - val_loss: 0.4772 - val_accuracy: 0.9015\n",
            "Epoch 21/100\n",
            "17/17 [==============================] - 0s 5ms/step - loss: 0.5691 - accuracy: 0.7746 - val_loss: 0.4676 - val_accuracy: 0.9015\n",
            "Epoch 22/100\n",
            "17/17 [==============================] - 0s 5ms/step - loss: 0.5465 - accuracy: 0.8137 - val_loss: 0.4611 - val_accuracy: 0.9015\n",
            "Epoch 23/100\n",
            "17/17 [==============================] - 0s 5ms/step - loss: 0.5434 - accuracy: 0.8268 - val_loss: 0.4566 - val_accuracy: 0.9015\n",
            "Epoch 24/100\n",
            "17/17 [==============================] - 0s 4ms/step - loss: 0.5359 - accuracy: 0.8058 - val_loss: 0.4475 - val_accuracy: 0.9015\n",
            "Epoch 25/100\n",
            "17/17 [==============================] - 0s 5ms/step - loss: 0.5229 - accuracy: 0.8321 - val_loss: 0.4382 - val_accuracy: 0.9015\n",
            "Epoch 26/100\n",
            "17/17 [==============================] - 0s 4ms/step - loss: 0.5355 - accuracy: 0.8121 - val_loss: 0.4362 - val_accuracy: 0.9015\n",
            "Epoch 27/100\n",
            "17/17 [==============================] - 0s 5ms/step - loss: 0.4907 - accuracy: 0.8425 - val_loss: 0.4319 - val_accuracy: 0.9015\n",
            "Epoch 28/100\n",
            "17/17 [==============================] - 0s 5ms/step - loss: 0.5119 - accuracy: 0.8324 - val_loss: 0.4272 - val_accuracy: 0.9015\n",
            "Epoch 29/100\n",
            "17/17 [==============================] - 0s 5ms/step - loss: 0.5306 - accuracy: 0.8185 - val_loss: 0.4238 - val_accuracy: 0.9015\n",
            "Epoch 30/100\n",
            "17/17 [==============================] - 0s 5ms/step - loss: 0.4725 - accuracy: 0.8178 - val_loss: 0.4197 - val_accuracy: 0.9015\n",
            "Epoch 31/100\n",
            "17/17 [==============================] - 0s 5ms/step - loss: 0.5079 - accuracy: 0.8242 - val_loss: 0.4119 - val_accuracy: 0.9015\n",
            "Epoch 32/100\n",
            "17/17 [==============================] - 0s 5ms/step - loss: 0.4482 - accuracy: 0.8586 - val_loss: 0.4063 - val_accuracy: 0.9015\n",
            "Epoch 33/100\n",
            "17/17 [==============================] - 0s 5ms/step - loss: 0.5433 - accuracy: 0.8144 - val_loss: 0.4046 - val_accuracy: 0.9015\n",
            "Epoch 34/100\n",
            "17/17 [==============================] - 0s 5ms/step - loss: 0.4932 - accuracy: 0.8392 - val_loss: 0.4016 - val_accuracy: 0.9015\n",
            "Epoch 35/100\n",
            "17/17 [==============================] - 0s 5ms/step - loss: 0.4815 - accuracy: 0.8346 - val_loss: 0.3992 - val_accuracy: 0.9015\n",
            "Epoch 36/100\n",
            "17/17 [==============================] - 0s 4ms/step - loss: 0.4258 - accuracy: 0.8920 - val_loss: 0.3969 - val_accuracy: 0.8939\n",
            "Epoch 37/100\n",
            "17/17 [==============================] - 0s 5ms/step - loss: 0.4536 - accuracy: 0.8665 - val_loss: 0.3955 - val_accuracy: 0.8939\n",
            "Epoch 38/100\n",
            "17/17 [==============================] - 0s 5ms/step - loss: 0.4638 - accuracy: 0.8582 - val_loss: 0.3941 - val_accuracy: 0.8864\n",
            "Epoch 39/100\n",
            "17/17 [==============================] - 0s 4ms/step - loss: 0.4317 - accuracy: 0.8708 - val_loss: 0.3916 - val_accuracy: 0.8939\n",
            "Epoch 40/100\n",
            "17/17 [==============================] - 0s 4ms/step - loss: 0.3983 - accuracy: 0.8921 - val_loss: 0.3894 - val_accuracy: 0.8864\n",
            "Epoch 41/100\n",
            "17/17 [==============================] - 0s 6ms/step - loss: 0.4372 - accuracy: 0.8428 - val_loss: 0.3862 - val_accuracy: 0.8864\n",
            "Epoch 42/100\n",
            "17/17 [==============================] - 0s 5ms/step - loss: 0.3978 - accuracy: 0.8727 - val_loss: 0.3843 - val_accuracy: 0.8864\n",
            "Epoch 43/100\n",
            "17/17 [==============================] - 0s 4ms/step - loss: 0.3977 - accuracy: 0.8665 - val_loss: 0.3836 - val_accuracy: 0.9015\n",
            "Epoch 44/100\n",
            "17/17 [==============================] - 0s 5ms/step - loss: 0.3986 - accuracy: 0.8676 - val_loss: 0.3824 - val_accuracy: 0.8939\n",
            "Epoch 45/100\n",
            "17/17 [==============================] - 0s 4ms/step - loss: 0.4084 - accuracy: 0.8693 - val_loss: 0.3817 - val_accuracy: 0.8939\n",
            "Epoch 46/100\n",
            "17/17 [==============================] - 0s 4ms/step - loss: 0.4064 - accuracy: 0.8833 - val_loss: 0.3812 - val_accuracy: 0.8864\n",
            "Epoch 47/100\n",
            "17/17 [==============================] - 0s 5ms/step - loss: 0.3889 - accuracy: 0.8647 - val_loss: 0.3820 - val_accuracy: 0.8939\n",
            "Epoch 48/100\n",
            "17/17 [==============================] - 0s 5ms/step - loss: 0.3588 - accuracy: 0.8794 - val_loss: 0.3824 - val_accuracy: 0.8939\n",
            "Epoch 49/100\n",
            "17/17 [==============================] - 0s 4ms/step - loss: 0.4494 - accuracy: 0.8192 - val_loss: 0.3824 - val_accuracy: 0.8939\n",
            "Epoch 50/100\n",
            "17/17 [==============================] - 0s 5ms/step - loss: 0.4340 - accuracy: 0.8534 - val_loss: 0.3816 - val_accuracy: 0.8939\n",
            "Epoch 51/100\n",
            "17/17 [==============================] - 0s 5ms/step - loss: 0.3924 - accuracy: 0.8697 - val_loss: 0.3826 - val_accuracy: 0.9015\n",
            "Epoch 52/100\n",
            "17/17 [==============================] - 0s 5ms/step - loss: 0.3603 - accuracy: 0.8742 - val_loss: 0.3819 - val_accuracy: 0.9015\n",
            "Epoch 53/100\n",
            "17/17 [==============================] - 0s 5ms/step - loss: 0.3427 - accuracy: 0.8942 - val_loss: 0.3816 - val_accuracy: 0.9015\n",
            "Epoch 54/100\n",
            "17/17 [==============================] - 0s 4ms/step - loss: 0.3645 - accuracy: 0.8909 - val_loss: 0.3819 - val_accuracy: 0.9015\n",
            "Epoch 55/100\n",
            "17/17 [==============================] - 0s 5ms/step - loss: 0.3678 - accuracy: 0.8928 - val_loss: 0.3824 - val_accuracy: 0.9015\n",
            "Epoch 56/100\n",
            "17/17 [==============================] - 0s 5ms/step - loss: 0.3222 - accuracy: 0.9077 - val_loss: 0.3824 - val_accuracy: 0.8939\n",
            "Epoch 57/100\n",
            "17/17 [==============================] - 0s 5ms/step - loss: 0.3754 - accuracy: 0.8745 - val_loss: 0.3803 - val_accuracy: 0.8939\n",
            "Epoch 58/100\n",
            "17/17 [==============================] - 0s 4ms/step - loss: 0.3118 - accuracy: 0.9169 - val_loss: 0.3793 - val_accuracy: 0.8939\n",
            "Epoch 59/100\n",
            "17/17 [==============================] - 0s 6ms/step - loss: 0.3369 - accuracy: 0.8817 - val_loss: 0.3806 - val_accuracy: 0.8864\n",
            "Epoch 60/100\n",
            "17/17 [==============================] - 0s 5ms/step - loss: 0.3606 - accuracy: 0.8725 - val_loss: 0.3822 - val_accuracy: 0.9015\n",
            "Epoch 61/100\n",
            "17/17 [==============================] - 0s 4ms/step - loss: 0.3313 - accuracy: 0.9077 - val_loss: 0.3796 - val_accuracy: 0.8939\n",
            "Epoch 62/100\n",
            "17/17 [==============================] - 0s 6ms/step - loss: 0.3426 - accuracy: 0.9055 - val_loss: 0.3797 - val_accuracy: 0.8939\n",
            "Epoch 63/100\n",
            "17/17 [==============================] - 0s 4ms/step - loss: 0.3243 - accuracy: 0.9042 - val_loss: 0.3807 - val_accuracy: 0.8864\n",
            "Epoch 64/100\n",
            "17/17 [==============================] - 0s 5ms/step - loss: 0.3266 - accuracy: 0.9031 - val_loss: 0.3800 - val_accuracy: 0.8864\n",
            "Epoch 65/100\n",
            "17/17 [==============================] - 0s 5ms/step - loss: 0.3506 - accuracy: 0.8917 - val_loss: 0.3793 - val_accuracy: 0.8864\n",
            "Epoch 66/100\n",
            "17/17 [==============================] - 0s 5ms/step - loss: 0.2849 - accuracy: 0.9168 - val_loss: 0.3821 - val_accuracy: 0.8864\n",
            "Epoch 67/100\n",
            "17/17 [==============================] - 0s 5ms/step - loss: 0.3418 - accuracy: 0.8953 - val_loss: 0.3817 - val_accuracy: 0.8864\n",
            "Epoch 68/100\n",
            "17/17 [==============================] - 0s 5ms/step - loss: 0.3522 - accuracy: 0.8549 - val_loss: 0.3833 - val_accuracy: 0.8864\n",
            "Epoch 69/100\n",
            "17/17 [==============================] - 0s 4ms/step - loss: 0.3395 - accuracy: 0.8904 - val_loss: 0.3817 - val_accuracy: 0.8864\n",
            "Epoch 70/100\n",
            "17/17 [==============================] - 0s 6ms/step - loss: 0.3420 - accuracy: 0.8515 - val_loss: 0.3818 - val_accuracy: 0.8864\n",
            "Epoch 71/100\n",
            "17/17 [==============================] - 0s 5ms/step - loss: 0.3133 - accuracy: 0.8918 - val_loss: 0.3830 - val_accuracy: 0.8864\n",
            "Epoch 72/100\n",
            "17/17 [==============================] - 0s 5ms/step - loss: 0.2762 - accuracy: 0.9238 - val_loss: 0.3877 - val_accuracy: 0.8864\n",
            "Epoch 73/100\n",
            "17/17 [==============================] - 0s 4ms/step - loss: 0.3400 - accuracy: 0.8596 - val_loss: 0.3888 - val_accuracy: 0.8864\n",
            "Epoch 74/100\n",
            "17/17 [==============================] - 0s 5ms/step - loss: 0.3343 - accuracy: 0.9068 - val_loss: 0.3825 - val_accuracy: 0.8864\n",
            "Epoch 75/100\n",
            "17/17 [==============================] - 0s 5ms/step - loss: 0.3129 - accuracy: 0.8796 - val_loss: 0.3908 - val_accuracy: 0.8864\n",
            "Epoch 76/100\n",
            "17/17 [==============================] - 0s 5ms/step - loss: 0.3153 - accuracy: 0.9005 - val_loss: 0.3866 - val_accuracy: 0.8864\n",
            "Epoch 77/100\n",
            "17/17 [==============================] - 0s 4ms/step - loss: 0.3341 - accuracy: 0.8999 - val_loss: 0.3900 - val_accuracy: 0.8864\n",
            "Epoch 78/100\n",
            "17/17 [==============================] - 0s 5ms/step - loss: 0.3183 - accuracy: 0.8969 - val_loss: 0.3852 - val_accuracy: 0.8939\n",
            "Epoch 79/100\n",
            "17/17 [==============================] - 0s 5ms/step - loss: 0.2938 - accuracy: 0.9019 - val_loss: 0.3882 - val_accuracy: 0.8939\n",
            "Epoch 80/100\n",
            "17/17 [==============================] - 0s 5ms/step - loss: 0.2633 - accuracy: 0.9289 - val_loss: 0.3936 - val_accuracy: 0.8939\n",
            "Epoch 81/100\n",
            "17/17 [==============================] - 0s 5ms/step - loss: 0.2722 - accuracy: 0.9158 - val_loss: 0.3914 - val_accuracy: 0.8939\n",
            "Epoch 82/100\n",
            "17/17 [==============================] - 0s 5ms/step - loss: 0.2726 - accuracy: 0.9048 - val_loss: 0.3942 - val_accuracy: 0.8939\n",
            "Epoch 83/100\n",
            "17/17 [==============================] - 0s 4ms/step - loss: 0.3558 - accuracy: 0.8533 - val_loss: 0.3984 - val_accuracy: 0.8864\n",
            "Epoch 84/100\n",
            "17/17 [==============================] - 0s 5ms/step - loss: 0.3200 - accuracy: 0.8718 - val_loss: 0.3936 - val_accuracy: 0.8864\n",
            "Epoch 85/100\n",
            "17/17 [==============================] - 0s 5ms/step - loss: 0.2912 - accuracy: 0.8922 - val_loss: 0.3903 - val_accuracy: 0.8939\n",
            "Epoch 86/100\n",
            "17/17 [==============================] - 0s 4ms/step - loss: 0.3228 - accuracy: 0.8996 - val_loss: 0.3869 - val_accuracy: 0.8939\n",
            "Epoch 87/100\n",
            "17/17 [==============================] - 0s 5ms/step - loss: 0.3113 - accuracy: 0.9022 - val_loss: 0.3884 - val_accuracy: 0.8864\n",
            "Epoch 88/100\n",
            "17/17 [==============================] - 0s 5ms/step - loss: 0.3228 - accuracy: 0.9137 - val_loss: 0.3875 - val_accuracy: 0.9015\n",
            "Epoch 89/100\n",
            "17/17 [==============================] - 0s 5ms/step - loss: 0.2890 - accuracy: 0.8974 - val_loss: 0.3861 - val_accuracy: 0.9015\n",
            "Epoch 90/100\n",
            "17/17 [==============================] - 0s 5ms/step - loss: 0.2970 - accuracy: 0.9016 - val_loss: 0.3926 - val_accuracy: 0.8864\n",
            "Epoch 91/100\n",
            "17/17 [==============================] - 0s 4ms/step - loss: 0.2933 - accuracy: 0.9024 - val_loss: 0.3936 - val_accuracy: 0.8939\n",
            "Epoch 92/100\n",
            "17/17 [==============================] - 0s 5ms/step - loss: 0.3345 - accuracy: 0.9040 - val_loss: 0.3852 - val_accuracy: 0.9015\n",
            "Epoch 93/100\n",
            "17/17 [==============================] - 0s 5ms/step - loss: 0.2912 - accuracy: 0.9087 - val_loss: 0.3833 - val_accuracy: 0.9015\n",
            "Epoch 94/100\n",
            "17/17 [==============================] - 0s 5ms/step - loss: 0.3424 - accuracy: 0.8664 - val_loss: 0.3778 - val_accuracy: 0.9015\n",
            "Epoch 95/100\n",
            "17/17 [==============================] - 0s 4ms/step - loss: 0.3205 - accuracy: 0.8942 - val_loss: 0.3808 - val_accuracy: 0.8939\n",
            "Epoch 96/100\n",
            "17/17 [==============================] - 0s 5ms/step - loss: 0.2920 - accuracy: 0.9028 - val_loss: 0.3798 - val_accuracy: 0.8939\n",
            "Epoch 97/100\n",
            "17/17 [==============================] - 0s 4ms/step - loss: 0.2879 - accuracy: 0.9074 - val_loss: 0.3871 - val_accuracy: 0.8864\n",
            "Epoch 98/100\n",
            "17/17 [==============================] - 0s 4ms/step - loss: 0.2612 - accuracy: 0.9213 - val_loss: 0.4001 - val_accuracy: 0.8864\n",
            "Epoch 99/100\n",
            "17/17 [==============================] - 0s 5ms/step - loss: 0.3287 - accuracy: 0.8822 - val_loss: 0.3994 - val_accuracy: 0.8864\n",
            "Epoch 100/100\n",
            "17/17 [==============================] - 0s 4ms/step - loss: 0.3209 - accuracy: 0.9146 - val_loss: 0.3864 - val_accuracy: 0.8864\n",
            "processing fold # 3\n",
            "Epoch 1/100\n",
            "17/17 [==============================] - 1s 20ms/step - loss: 1.0174 - accuracy: 0.5128 - val_loss: 0.8801 - val_accuracy: 0.5000\n",
            "Epoch 2/100\n",
            "17/17 [==============================] - 0s 4ms/step - loss: 0.9328 - accuracy: 0.5229 - val_loss: 0.8464 - val_accuracy: 0.5833\n",
            "Epoch 3/100\n",
            "17/17 [==============================] - 0s 4ms/step - loss: 0.8607 - accuracy: 0.5554 - val_loss: 0.8299 - val_accuracy: 0.6136\n",
            "Epoch 4/100\n",
            "17/17 [==============================] - 0s 5ms/step - loss: 0.8560 - accuracy: 0.5661 - val_loss: 0.8063 - val_accuracy: 0.6970\n",
            "Epoch 5/100\n",
            "17/17 [==============================] - 0s 5ms/step - loss: 0.8183 - accuracy: 0.5886 - val_loss: 0.7801 - val_accuracy: 0.7273\n",
            "Epoch 6/100\n",
            "17/17 [==============================] - 0s 5ms/step - loss: 0.8029 - accuracy: 0.6374 - val_loss: 0.7613 - val_accuracy: 0.7348\n",
            "Epoch 7/100\n",
            "17/17 [==============================] - 0s 5ms/step - loss: 0.8048 - accuracy: 0.6378 - val_loss: 0.7311 - val_accuracy: 0.7955\n",
            "Epoch 8/100\n",
            "17/17 [==============================] - 0s 5ms/step - loss: 0.7595 - accuracy: 0.7189 - val_loss: 0.7024 - val_accuracy: 0.8106\n",
            "Epoch 9/100\n",
            "17/17 [==============================] - 0s 5ms/step - loss: 0.7665 - accuracy: 0.6941 - val_loss: 0.6796 - val_accuracy: 0.8258\n",
            "Epoch 10/100\n",
            "17/17 [==============================] - 0s 5ms/step - loss: 0.7326 - accuracy: 0.7568 - val_loss: 0.6572 - val_accuracy: 0.8561\n",
            "Epoch 11/100\n",
            "17/17 [==============================] - 0s 5ms/step - loss: 0.7121 - accuracy: 0.7717 - val_loss: 0.6339 - val_accuracy: 0.8561\n",
            "Epoch 12/100\n",
            "17/17 [==============================] - 0s 5ms/step - loss: 0.7101 - accuracy: 0.7775 - val_loss: 0.6116 - val_accuracy: 0.8712\n",
            "Epoch 13/100\n",
            "17/17 [==============================] - 0s 5ms/step - loss: 0.6790 - accuracy: 0.7944 - val_loss: 0.5926 - val_accuracy: 0.8788\n",
            "Epoch 14/100\n",
            "17/17 [==============================] - 0s 5ms/step - loss: 0.6716 - accuracy: 0.8138 - val_loss: 0.5752 - val_accuracy: 0.8864\n",
            "Epoch 15/100\n",
            "17/17 [==============================] - 0s 5ms/step - loss: 0.6585 - accuracy: 0.7926 - val_loss: 0.5611 - val_accuracy: 0.8864\n",
            "Epoch 16/100\n",
            "17/17 [==============================] - 0s 4ms/step - loss: 0.6421 - accuracy: 0.7947 - val_loss: 0.5460 - val_accuracy: 0.8864\n",
            "Epoch 17/100\n",
            "17/17 [==============================] - 0s 5ms/step - loss: 0.6188 - accuracy: 0.8233 - val_loss: 0.5343 - val_accuracy: 0.8864\n",
            "Epoch 18/100\n",
            "17/17 [==============================] - 0s 5ms/step - loss: 0.5930 - accuracy: 0.8619 - val_loss: 0.5220 - val_accuracy: 0.8864\n",
            "Epoch 19/100\n",
            "17/17 [==============================] - 0s 5ms/step - loss: 0.5975 - accuracy: 0.8320 - val_loss: 0.5128 - val_accuracy: 0.8864\n",
            "Epoch 20/100\n",
            "17/17 [==============================] - 0s 5ms/step - loss: 0.6151 - accuracy: 0.8385 - val_loss: 0.5042 - val_accuracy: 0.8864\n",
            "Epoch 21/100\n",
            "17/17 [==============================] - 0s 5ms/step - loss: 0.5850 - accuracy: 0.8578 - val_loss: 0.4938 - val_accuracy: 0.8939\n",
            "Epoch 22/100\n",
            "17/17 [==============================] - 0s 5ms/step - loss: 0.5817 - accuracy: 0.8427 - val_loss: 0.4854 - val_accuracy: 0.8864\n",
            "Epoch 23/100\n",
            "17/17 [==============================] - 0s 5ms/step - loss: 0.5642 - accuracy: 0.8459 - val_loss: 0.4800 - val_accuracy: 0.8864\n",
            "Epoch 24/100\n",
            "17/17 [==============================] - 0s 5ms/step - loss: 0.5477 - accuracy: 0.8527 - val_loss: 0.4728 - val_accuracy: 0.8939\n",
            "Epoch 25/100\n",
            "17/17 [==============================] - 0s 4ms/step - loss: 0.5666 - accuracy: 0.8712 - val_loss: 0.4667 - val_accuracy: 0.8939\n",
            "Epoch 26/100\n",
            "17/17 [==============================] - 0s 5ms/step - loss: 0.5073 - accuracy: 0.8763 - val_loss: 0.4603 - val_accuracy: 0.8864\n",
            "Epoch 27/100\n",
            "17/17 [==============================] - 0s 5ms/step - loss: 0.5279 - accuracy: 0.8700 - val_loss: 0.4547 - val_accuracy: 0.8864\n",
            "Epoch 28/100\n",
            "17/17 [==============================] - 0s 5ms/step - loss: 0.5231 - accuracy: 0.8768 - val_loss: 0.4462 - val_accuracy: 0.8939\n",
            "Epoch 29/100\n",
            "17/17 [==============================] - 0s 5ms/step - loss: 0.5095 - accuracy: 0.8915 - val_loss: 0.4421 - val_accuracy: 0.9015\n",
            "Epoch 30/100\n",
            "17/17 [==============================] - 0s 7ms/step - loss: 0.4849 - accuracy: 0.8800 - val_loss: 0.4384 - val_accuracy: 0.9015\n",
            "Epoch 31/100\n",
            "17/17 [==============================] - 0s 5ms/step - loss: 0.4923 - accuracy: 0.8741 - val_loss: 0.4335 - val_accuracy: 0.9015\n",
            "Epoch 32/100\n",
            "17/17 [==============================] - 0s 5ms/step - loss: 0.4619 - accuracy: 0.8978 - val_loss: 0.4291 - val_accuracy: 0.8939\n",
            "Epoch 33/100\n",
            "17/17 [==============================] - 0s 5ms/step - loss: 0.4431 - accuracy: 0.9132 - val_loss: 0.4271 - val_accuracy: 0.8939\n",
            "Epoch 34/100\n",
            "17/17 [==============================] - 0s 5ms/step - loss: 0.4546 - accuracy: 0.8896 - val_loss: 0.4216 - val_accuracy: 0.8939\n",
            "Epoch 35/100\n",
            "17/17 [==============================] - 0s 5ms/step - loss: 0.4657 - accuracy: 0.8992 - val_loss: 0.4125 - val_accuracy: 0.8939\n",
            "Epoch 36/100\n",
            "17/17 [==============================] - 0s 4ms/step - loss: 0.4325 - accuracy: 0.8990 - val_loss: 0.4060 - val_accuracy: 0.9015\n",
            "Epoch 37/100\n",
            "17/17 [==============================] - 0s 5ms/step - loss: 0.4275 - accuracy: 0.9095 - val_loss: 0.4058 - val_accuracy: 0.8939\n",
            "Epoch 38/100\n",
            "17/17 [==============================] - 0s 5ms/step - loss: 0.4317 - accuracy: 0.8944 - val_loss: 0.4047 - val_accuracy: 0.8939\n",
            "Epoch 39/100\n",
            "17/17 [==============================] - 0s 5ms/step - loss: 0.4210 - accuracy: 0.9087 - val_loss: 0.3955 - val_accuracy: 0.9015\n",
            "Epoch 40/100\n",
            "17/17 [==============================] - 0s 5ms/step - loss: 0.4190 - accuracy: 0.9044 - val_loss: 0.3944 - val_accuracy: 0.9015\n",
            "Epoch 41/100\n",
            "17/17 [==============================] - 0s 4ms/step - loss: 0.4197 - accuracy: 0.8896 - val_loss: 0.3883 - val_accuracy: 0.9091\n",
            "Epoch 42/100\n",
            "17/17 [==============================] - 0s 5ms/step - loss: 0.3756 - accuracy: 0.9202 - val_loss: 0.3854 - val_accuracy: 0.9015\n",
            "Epoch 43/100\n",
            "17/17 [==============================] - 0s 5ms/step - loss: 0.4170 - accuracy: 0.8912 - val_loss: 0.3833 - val_accuracy: 0.9091\n",
            "Epoch 44/100\n",
            "17/17 [==============================] - 0s 5ms/step - loss: 0.3787 - accuracy: 0.9231 - val_loss: 0.3791 - val_accuracy: 0.9091\n",
            "Epoch 45/100\n",
            "17/17 [==============================] - 0s 5ms/step - loss: 0.4276 - accuracy: 0.8748 - val_loss: 0.3766 - val_accuracy: 0.9091\n",
            "Epoch 46/100\n",
            "17/17 [==============================] - 0s 5ms/step - loss: 0.3754 - accuracy: 0.9117 - val_loss: 0.3752 - val_accuracy: 0.9091\n",
            "Epoch 47/100\n",
            "17/17 [==============================] - 0s 5ms/step - loss: 0.3873 - accuracy: 0.9036 - val_loss: 0.3729 - val_accuracy: 0.9091\n",
            "Epoch 48/100\n",
            "17/17 [==============================] - 0s 5ms/step - loss: 0.3568 - accuracy: 0.9192 - val_loss: 0.3687 - val_accuracy: 0.9091\n",
            "Epoch 49/100\n",
            "17/17 [==============================] - 0s 5ms/step - loss: 0.3528 - accuracy: 0.9221 - val_loss: 0.3692 - val_accuracy: 0.9091\n",
            "Epoch 50/100\n",
            "17/17 [==============================] - 0s 5ms/step - loss: 0.3599 - accuracy: 0.9166 - val_loss: 0.3677 - val_accuracy: 0.9091\n",
            "Epoch 51/100\n",
            "17/17 [==============================] - 0s 5ms/step - loss: 0.3517 - accuracy: 0.9118 - val_loss: 0.3632 - val_accuracy: 0.9167\n",
            "Epoch 52/100\n",
            "17/17 [==============================] - 0s 4ms/step - loss: 0.3556 - accuracy: 0.9193 - val_loss: 0.3629 - val_accuracy: 0.9091\n",
            "Epoch 53/100\n",
            "17/17 [==============================] - 0s 5ms/step - loss: 0.3551 - accuracy: 0.9123 - val_loss: 0.3612 - val_accuracy: 0.9091\n",
            "Epoch 54/100\n",
            "17/17 [==============================] - 0s 5ms/step - loss: 0.3489 - accuracy: 0.9238 - val_loss: 0.3613 - val_accuracy: 0.9167\n",
            "Epoch 55/100\n",
            "17/17 [==============================] - 0s 5ms/step - loss: 0.3632 - accuracy: 0.9017 - val_loss: 0.3583 - val_accuracy: 0.9167\n",
            "Epoch 56/100\n",
            "17/17 [==============================] - 0s 5ms/step - loss: 0.3275 - accuracy: 0.9411 - val_loss: 0.3551 - val_accuracy: 0.9167\n",
            "Epoch 57/100\n",
            "17/17 [==============================] - 0s 5ms/step - loss: 0.3379 - accuracy: 0.9106 - val_loss: 0.3549 - val_accuracy: 0.9167\n",
            "Epoch 58/100\n",
            "17/17 [==============================] - 0s 6ms/step - loss: 0.3381 - accuracy: 0.9243 - val_loss: 0.3578 - val_accuracy: 0.9167\n",
            "Epoch 59/100\n",
            "17/17 [==============================] - 0s 5ms/step - loss: 0.3207 - accuracy: 0.9343 - val_loss: 0.3580 - val_accuracy: 0.9167\n",
            "Epoch 60/100\n",
            "17/17 [==============================] - 0s 5ms/step - loss: 0.3440 - accuracy: 0.9125 - val_loss: 0.3598 - val_accuracy: 0.9091\n",
            "Epoch 61/100\n",
            "17/17 [==============================] - 0s 5ms/step - loss: 0.3414 - accuracy: 0.9035 - val_loss: 0.3608 - val_accuracy: 0.9015\n",
            "Epoch 62/100\n",
            "17/17 [==============================] - 0s 5ms/step - loss: 0.3406 - accuracy: 0.9165 - val_loss: 0.3553 - val_accuracy: 0.9091\n",
            "Epoch 63/100\n",
            "17/17 [==============================] - 0s 5ms/step - loss: 0.3260 - accuracy: 0.9144 - val_loss: 0.3576 - val_accuracy: 0.9091\n",
            "Epoch 64/100\n",
            "17/17 [==============================] - 0s 5ms/step - loss: 0.3118 - accuracy: 0.9327 - val_loss: 0.3581 - val_accuracy: 0.9091\n",
            "Epoch 65/100\n",
            "17/17 [==============================] - 0s 4ms/step - loss: 0.3295 - accuracy: 0.9103 - val_loss: 0.3541 - val_accuracy: 0.9091\n",
            "Epoch 66/100\n",
            "17/17 [==============================] - 0s 5ms/step - loss: 0.2897 - accuracy: 0.9367 - val_loss: 0.3596 - val_accuracy: 0.9091\n",
            "Epoch 67/100\n",
            "17/17 [==============================] - 0s 5ms/step - loss: 0.3049 - accuracy: 0.9218 - val_loss: 0.3570 - val_accuracy: 0.9091\n",
            "Epoch 68/100\n",
            "17/17 [==============================] - 0s 5ms/step - loss: 0.2896 - accuracy: 0.9359 - val_loss: 0.3562 - val_accuracy: 0.9015\n",
            "Epoch 69/100\n",
            "17/17 [==============================] - 0s 5ms/step - loss: 0.3174 - accuracy: 0.9190 - val_loss: 0.3523 - val_accuracy: 0.9091\n",
            "Epoch 70/100\n",
            "17/17 [==============================] - 0s 5ms/step - loss: 0.3258 - accuracy: 0.9130 - val_loss: 0.3472 - val_accuracy: 0.9091\n",
            "Epoch 71/100\n",
            "17/17 [==============================] - 0s 5ms/step - loss: 0.3467 - accuracy: 0.9157 - val_loss: 0.3454 - val_accuracy: 0.9091\n",
            "Epoch 72/100\n",
            "17/17 [==============================] - 0s 5ms/step - loss: 0.3131 - accuracy: 0.9161 - val_loss: 0.3505 - val_accuracy: 0.9015\n",
            "Epoch 73/100\n",
            "17/17 [==============================] - 0s 5ms/step - loss: 0.3342 - accuracy: 0.9109 - val_loss: 0.3452 - val_accuracy: 0.9091\n",
            "Epoch 74/100\n",
            "17/17 [==============================] - 0s 5ms/step - loss: 0.3026 - accuracy: 0.9214 - val_loss: 0.3458 - val_accuracy: 0.9091\n",
            "Epoch 75/100\n",
            "17/17 [==============================] - 0s 5ms/step - loss: 0.3284 - accuracy: 0.9187 - val_loss: 0.3434 - val_accuracy: 0.9091\n",
            "Epoch 76/100\n",
            "17/17 [==============================] - 0s 5ms/step - loss: 0.2796 - accuracy: 0.9342 - val_loss: 0.3417 - val_accuracy: 0.9091\n",
            "Epoch 77/100\n",
            "17/17 [==============================] - 0s 5ms/step - loss: 0.3225 - accuracy: 0.9151 - val_loss: 0.3406 - val_accuracy: 0.9091\n",
            "Epoch 78/100\n",
            "17/17 [==============================] - 0s 5ms/step - loss: 0.3208 - accuracy: 0.9115 - val_loss: 0.3373 - val_accuracy: 0.9091\n",
            "Epoch 79/100\n",
            "17/17 [==============================] - 0s 5ms/step - loss: 0.3214 - accuracy: 0.9114 - val_loss: 0.3344 - val_accuracy: 0.9091\n",
            "Epoch 80/100\n",
            "17/17 [==============================] - 0s 5ms/step - loss: 0.3118 - accuracy: 0.9267 - val_loss: 0.3375 - val_accuracy: 0.9091\n",
            "Epoch 81/100\n",
            "17/17 [==============================] - 0s 5ms/step - loss: 0.3041 - accuracy: 0.9259 - val_loss: 0.3375 - val_accuracy: 0.9091\n",
            "Epoch 82/100\n",
            "17/17 [==============================] - 0s 4ms/step - loss: 0.3023 - accuracy: 0.9160 - val_loss: 0.3362 - val_accuracy: 0.9091\n",
            "Epoch 83/100\n",
            "17/17 [==============================] - 0s 4ms/step - loss: 0.2834 - accuracy: 0.9335 - val_loss: 0.3387 - val_accuracy: 0.9091\n",
            "Epoch 84/100\n",
            "17/17 [==============================] - 0s 5ms/step - loss: 0.2947 - accuracy: 0.9294 - val_loss: 0.3397 - val_accuracy: 0.9091\n",
            "Epoch 85/100\n",
            "17/17 [==============================] - 0s 4ms/step - loss: 0.3086 - accuracy: 0.9223 - val_loss: 0.3376 - val_accuracy: 0.9091\n",
            "Epoch 86/100\n",
            "17/17 [==============================] - 0s 5ms/step - loss: 0.3112 - accuracy: 0.9245 - val_loss: 0.3433 - val_accuracy: 0.9015\n",
            "Epoch 87/100\n",
            "17/17 [==============================] - 0s 5ms/step - loss: 0.3274 - accuracy: 0.9008 - val_loss: 0.3385 - val_accuracy: 0.9091\n",
            "Epoch 88/100\n",
            "17/17 [==============================] - 0s 5ms/step - loss: 0.3015 - accuracy: 0.9242 - val_loss: 0.3393 - val_accuracy: 0.9091\n",
            "Epoch 89/100\n",
            "17/17 [==============================] - 0s 5ms/step - loss: 0.3022 - accuracy: 0.9237 - val_loss: 0.3349 - val_accuracy: 0.9091\n",
            "Epoch 90/100\n",
            "17/17 [==============================] - 0s 5ms/step - loss: 0.2903 - accuracy: 0.9180 - val_loss: 0.3353 - val_accuracy: 0.9091\n",
            "Epoch 91/100\n",
            "17/17 [==============================] - 0s 5ms/step - loss: 0.2879 - accuracy: 0.9245 - val_loss: 0.3357 - val_accuracy: 0.9091\n",
            "Epoch 92/100\n",
            "17/17 [==============================] - 0s 5ms/step - loss: 0.3110 - accuracy: 0.9181 - val_loss: 0.3390 - val_accuracy: 0.9015\n",
            "Epoch 93/100\n",
            "17/17 [==============================] - 0s 5ms/step - loss: 0.2898 - accuracy: 0.9320 - val_loss: 0.3325 - val_accuracy: 0.9091\n",
            "Epoch 94/100\n",
            "17/17 [==============================] - 0s 5ms/step - loss: 0.2873 - accuracy: 0.9268 - val_loss: 0.3280 - val_accuracy: 0.9091\n",
            "Epoch 95/100\n",
            "17/17 [==============================] - 0s 5ms/step - loss: 0.3369 - accuracy: 0.8859 - val_loss: 0.3274 - val_accuracy: 0.9091\n",
            "Epoch 96/100\n",
            "17/17 [==============================] - 0s 5ms/step - loss: 0.3055 - accuracy: 0.9222 - val_loss: 0.3275 - val_accuracy: 0.9167\n",
            "Epoch 97/100\n",
            "17/17 [==============================] - 0s 5ms/step - loss: 0.3064 - accuracy: 0.9350 - val_loss: 0.3284 - val_accuracy: 0.9167\n",
            "Epoch 98/100\n",
            "17/17 [==============================] - 0s 5ms/step - loss: 0.2719 - accuracy: 0.9327 - val_loss: 0.3287 - val_accuracy: 0.9091\n",
            "Epoch 99/100\n",
            "17/17 [==============================] - 0s 5ms/step - loss: 0.2639 - accuracy: 0.9394 - val_loss: 0.3260 - val_accuracy: 0.9167\n",
            "Epoch 100/100\n",
            "17/17 [==============================] - 0s 5ms/step - loss: 0.3107 - accuracy: 0.9238 - val_loss: 0.3206 - val_accuracy: 0.9167\n",
            "processing fold # 4\n",
            "Epoch 1/100\n",
            "17/17 [==============================] - 1s 20ms/step - loss: 0.8771 - accuracy: 0.5060 - val_loss: 0.8093 - val_accuracy: 0.5985\n",
            "Epoch 2/100\n",
            "17/17 [==============================] - 0s 7ms/step - loss: 0.8212 - accuracy: 0.5606 - val_loss: 0.7837 - val_accuracy: 0.6667\n",
            "Epoch 3/100\n",
            "17/17 [==============================] - 0s 5ms/step - loss: 0.8048 - accuracy: 0.6034 - val_loss: 0.7580 - val_accuracy: 0.7727\n",
            "Epoch 4/100\n",
            "17/17 [==============================] - 0s 5ms/step - loss: 0.7781 - accuracy: 0.7015 - val_loss: 0.7347 - val_accuracy: 0.8485\n",
            "Epoch 5/100\n",
            "17/17 [==============================] - 0s 5ms/step - loss: 0.7685 - accuracy: 0.6648 - val_loss: 0.7103 - val_accuracy: 0.8561\n",
            "Epoch 6/100\n",
            "17/17 [==============================] - 0s 5ms/step - loss: 0.7696 - accuracy: 0.7053 - val_loss: 0.6913 - val_accuracy: 0.8636\n",
            "Epoch 7/100\n",
            "17/17 [==============================] - 0s 5ms/step - loss: 0.7134 - accuracy: 0.7507 - val_loss: 0.6677 - val_accuracy: 0.8788\n",
            "Epoch 8/100\n",
            "17/17 [==============================] - 0s 5ms/step - loss: 0.6952 - accuracy: 0.7503 - val_loss: 0.6463 - val_accuracy: 0.8939\n",
            "Epoch 9/100\n",
            "17/17 [==============================] - 0s 5ms/step - loss: 0.6831 - accuracy: 0.7876 - val_loss: 0.6232 - val_accuracy: 0.8864\n",
            "Epoch 10/100\n",
            "17/17 [==============================] - 0s 5ms/step - loss: 0.6661 - accuracy: 0.8200 - val_loss: 0.6042 - val_accuracy: 0.9015\n",
            "Epoch 11/100\n",
            "17/17 [==============================] - 0s 5ms/step - loss: 0.6420 - accuracy: 0.8032 - val_loss: 0.5890 - val_accuracy: 0.9167\n",
            "Epoch 12/100\n",
            "17/17 [==============================] - 0s 5ms/step - loss: 0.6289 - accuracy: 0.8109 - val_loss: 0.5725 - val_accuracy: 0.9242\n",
            "Epoch 13/100\n",
            "17/17 [==============================] - 0s 5ms/step - loss: 0.6052 - accuracy: 0.8545 - val_loss: 0.5575 - val_accuracy: 0.9242\n",
            "Epoch 14/100\n",
            "17/17 [==============================] - 0s 6ms/step - loss: 0.5962 - accuracy: 0.8655 - val_loss: 0.5456 - val_accuracy: 0.9242\n",
            "Epoch 15/100\n",
            "17/17 [==============================] - 0s 5ms/step - loss: 0.5949 - accuracy: 0.8585 - val_loss: 0.5344 - val_accuracy: 0.9242\n",
            "Epoch 16/100\n",
            "17/17 [==============================] - 0s 5ms/step - loss: 0.5855 - accuracy: 0.8511 - val_loss: 0.5233 - val_accuracy: 0.9242\n",
            "Epoch 17/100\n",
            "17/17 [==============================] - 0s 6ms/step - loss: 0.6059 - accuracy: 0.8712 - val_loss: 0.5135 - val_accuracy: 0.9242\n",
            "Epoch 18/100\n",
            "17/17 [==============================] - 0s 5ms/step - loss: 0.5535 - accuracy: 0.8455 - val_loss: 0.5027 - val_accuracy: 0.9242\n",
            "Epoch 19/100\n",
            "17/17 [==============================] - 0s 5ms/step - loss: 0.5358 - accuracy: 0.8741 - val_loss: 0.4916 - val_accuracy: 0.9242\n",
            "Epoch 20/100\n",
            "17/17 [==============================] - 0s 5ms/step - loss: 0.5523 - accuracy: 0.8451 - val_loss: 0.4821 - val_accuracy: 0.9242\n",
            "Epoch 21/100\n",
            "17/17 [==============================] - 0s 5ms/step - loss: 0.5746 - accuracy: 0.8594 - val_loss: 0.4742 - val_accuracy: 0.9242\n",
            "Epoch 22/100\n",
            "17/17 [==============================] - 0s 4ms/step - loss: 0.5096 - accuracy: 0.8699 - val_loss: 0.4659 - val_accuracy: 0.9242\n",
            "Epoch 23/100\n",
            "17/17 [==============================] - 0s 5ms/step - loss: 0.5569 - accuracy: 0.8666 - val_loss: 0.4588 - val_accuracy: 0.9242\n",
            "Epoch 24/100\n",
            "17/17 [==============================] - 0s 5ms/step - loss: 0.5106 - accuracy: 0.8777 - val_loss: 0.4532 - val_accuracy: 0.9242\n",
            "Epoch 25/100\n",
            "17/17 [==============================] - 0s 5ms/step - loss: 0.5192 - accuracy: 0.8444 - val_loss: 0.4454 - val_accuracy: 0.9242\n",
            "Epoch 26/100\n",
            "17/17 [==============================] - 0s 5ms/step - loss: 0.4938 - accuracy: 0.8828 - val_loss: 0.4382 - val_accuracy: 0.9242\n",
            "Epoch 27/100\n",
            "17/17 [==============================] - 0s 5ms/step - loss: 0.4856 - accuracy: 0.9064 - val_loss: 0.4320 - val_accuracy: 0.9242\n",
            "Epoch 28/100\n",
            "17/17 [==============================] - 0s 5ms/step - loss: 0.5189 - accuracy: 0.8634 - val_loss: 0.4274 - val_accuracy: 0.9242\n",
            "Epoch 29/100\n",
            "17/17 [==============================] - 0s 5ms/step - loss: 0.4604 - accuracy: 0.9042 - val_loss: 0.4218 - val_accuracy: 0.9242\n",
            "Epoch 30/100\n",
            "17/17 [==============================] - 0s 5ms/step - loss: 0.4637 - accuracy: 0.8880 - val_loss: 0.4138 - val_accuracy: 0.9242\n",
            "Epoch 31/100\n",
            "17/17 [==============================] - 0s 5ms/step - loss: 0.4705 - accuracy: 0.8920 - val_loss: 0.4092 - val_accuracy: 0.9318\n",
            "Epoch 32/100\n",
            "17/17 [==============================] - 0s 5ms/step - loss: 0.4650 - accuracy: 0.8908 - val_loss: 0.4041 - val_accuracy: 0.9318\n",
            "Epoch 33/100\n",
            "17/17 [==============================] - 0s 5ms/step - loss: 0.4379 - accuracy: 0.8927 - val_loss: 0.3993 - val_accuracy: 0.9318\n",
            "Epoch 34/100\n",
            "17/17 [==============================] - 0s 5ms/step - loss: 0.4536 - accuracy: 0.8795 - val_loss: 0.3958 - val_accuracy: 0.9318\n",
            "Epoch 35/100\n",
            "17/17 [==============================] - 0s 5ms/step - loss: 0.4383 - accuracy: 0.8950 - val_loss: 0.3928 - val_accuracy: 0.9318\n",
            "Epoch 36/100\n",
            "17/17 [==============================] - 0s 5ms/step - loss: 0.4223 - accuracy: 0.9038 - val_loss: 0.3857 - val_accuracy: 0.9318\n",
            "Epoch 37/100\n",
            "17/17 [==============================] - 0s 5ms/step - loss: 0.4297 - accuracy: 0.9048 - val_loss: 0.3813 - val_accuracy: 0.9318\n",
            "Epoch 38/100\n",
            "17/17 [==============================] - 0s 5ms/step - loss: 0.4367 - accuracy: 0.8982 - val_loss: 0.3789 - val_accuracy: 0.9318\n",
            "Epoch 39/100\n",
            "17/17 [==============================] - 0s 5ms/step - loss: 0.3942 - accuracy: 0.9129 - val_loss: 0.3736 - val_accuracy: 0.9318\n",
            "Epoch 40/100\n",
            "17/17 [==============================] - 0s 5ms/step - loss: 0.4066 - accuracy: 0.9143 - val_loss: 0.3691 - val_accuracy: 0.9318\n",
            "Epoch 41/100\n",
            "17/17 [==============================] - 0s 4ms/step - loss: 0.4169 - accuracy: 0.8982 - val_loss: 0.3663 - val_accuracy: 0.9318\n",
            "Epoch 42/100\n",
            "17/17 [==============================] - 0s 5ms/step - loss: 0.4006 - accuracy: 0.9139 - val_loss: 0.3641 - val_accuracy: 0.9318\n",
            "Epoch 43/100\n",
            "17/17 [==============================] - 0s 5ms/step - loss: 0.4010 - accuracy: 0.9016 - val_loss: 0.3600 - val_accuracy: 0.9318\n",
            "Epoch 44/100\n",
            "17/17 [==============================] - 0s 5ms/step - loss: 0.4072 - accuracy: 0.8945 - val_loss: 0.3571 - val_accuracy: 0.9318\n",
            "Epoch 45/100\n",
            "17/17 [==============================] - 0s 5ms/step - loss: 0.4143 - accuracy: 0.9022 - val_loss: 0.3548 - val_accuracy: 0.9318\n",
            "Epoch 46/100\n",
            "17/17 [==============================] - 0s 5ms/step - loss: 0.3648 - accuracy: 0.9195 - val_loss: 0.3552 - val_accuracy: 0.9318\n",
            "Epoch 47/100\n",
            "17/17 [==============================] - 0s 5ms/step - loss: 0.4169 - accuracy: 0.8862 - val_loss: 0.3544 - val_accuracy: 0.9318\n",
            "Epoch 48/100\n",
            "17/17 [==============================] - 0s 5ms/step - loss: 0.4002 - accuracy: 0.8911 - val_loss: 0.3539 - val_accuracy: 0.9318\n",
            "Epoch 49/100\n",
            "17/17 [==============================] - 0s 5ms/step - loss: 0.3680 - accuracy: 0.9241 - val_loss: 0.3528 - val_accuracy: 0.9242\n",
            "Epoch 50/100\n",
            "17/17 [==============================] - 0s 5ms/step - loss: 0.3496 - accuracy: 0.9329 - val_loss: 0.3537 - val_accuracy: 0.9242\n",
            "Epoch 51/100\n",
            "17/17 [==============================] - 0s 5ms/step - loss: 0.3372 - accuracy: 0.9357 - val_loss: 0.3552 - val_accuracy: 0.9242\n",
            "Epoch 52/100\n",
            "17/17 [==============================] - 0s 5ms/step - loss: 0.3501 - accuracy: 0.9204 - val_loss: 0.3496 - val_accuracy: 0.9242\n",
            "Epoch 53/100\n",
            "17/17 [==============================] - 0s 5ms/step - loss: 0.3761 - accuracy: 0.9176 - val_loss: 0.3529 - val_accuracy: 0.9242\n",
            "Epoch 54/100\n",
            "17/17 [==============================] - 0s 6ms/step - loss: 0.3496 - accuracy: 0.9225 - val_loss: 0.3526 - val_accuracy: 0.9242\n",
            "Epoch 55/100\n",
            "17/17 [==============================] - 0s 5ms/step - loss: 0.3177 - accuracy: 0.9441 - val_loss: 0.3538 - val_accuracy: 0.9242\n",
            "Epoch 56/100\n",
            "17/17 [==============================] - 0s 5ms/step - loss: 0.3452 - accuracy: 0.9214 - val_loss: 0.3622 - val_accuracy: 0.9318\n",
            "Epoch 57/100\n",
            "17/17 [==============================] - 0s 5ms/step - loss: 0.3381 - accuracy: 0.9335 - val_loss: 0.3576 - val_accuracy: 0.9318\n",
            "Epoch 58/100\n",
            "17/17 [==============================] - 0s 5ms/step - loss: 0.3451 - accuracy: 0.9200 - val_loss: 0.3575 - val_accuracy: 0.9318\n",
            "Epoch 59/100\n",
            "17/17 [==============================] - 0s 5ms/step - loss: 0.3451 - accuracy: 0.9283 - val_loss: 0.3525 - val_accuracy: 0.9318\n",
            "Epoch 60/100\n",
            "17/17 [==============================] - 0s 5ms/step - loss: 0.2971 - accuracy: 0.9509 - val_loss: 0.3559 - val_accuracy: 0.9318\n",
            "Epoch 61/100\n",
            "17/17 [==============================] - 0s 5ms/step - loss: 0.3423 - accuracy: 0.9245 - val_loss: 0.3541 - val_accuracy: 0.9318\n",
            "Epoch 62/100\n",
            "17/17 [==============================] - 0s 5ms/step - loss: 0.3148 - accuracy: 0.9351 - val_loss: 0.3502 - val_accuracy: 0.9318\n",
            "Epoch 63/100\n",
            "17/17 [==============================] - 0s 5ms/step - loss: 0.3424 - accuracy: 0.9321 - val_loss: 0.3491 - val_accuracy: 0.9318\n",
            "Epoch 64/100\n",
            "17/17 [==============================] - 0s 5ms/step - loss: 0.2888 - accuracy: 0.9566 - val_loss: 0.3509 - val_accuracy: 0.9394\n",
            "Epoch 65/100\n",
            "17/17 [==============================] - 0s 7ms/step - loss: 0.3109 - accuracy: 0.9373 - val_loss: 0.3525 - val_accuracy: 0.9394\n",
            "Epoch 66/100\n",
            "17/17 [==============================] - 0s 5ms/step - loss: 0.3612 - accuracy: 0.9160 - val_loss: 0.3536 - val_accuracy: 0.9394\n",
            "Epoch 67/100\n",
            "17/17 [==============================] - 0s 5ms/step - loss: 0.3294 - accuracy: 0.9287 - val_loss: 0.3532 - val_accuracy: 0.9394\n",
            "Epoch 68/100\n",
            "17/17 [==============================] - 0s 5ms/step - loss: 0.3057 - accuracy: 0.9328 - val_loss: 0.3584 - val_accuracy: 0.9394\n",
            "Epoch 69/100\n",
            "17/17 [==============================] - 0s 5ms/step - loss: 0.3427 - accuracy: 0.9344 - val_loss: 0.3585 - val_accuracy: 0.9394\n",
            "Epoch 70/100\n",
            "17/17 [==============================] - 0s 4ms/step - loss: 0.3104 - accuracy: 0.9292 - val_loss: 0.3606 - val_accuracy: 0.9394\n",
            "Epoch 71/100\n",
            "17/17 [==============================] - 0s 5ms/step - loss: 0.2945 - accuracy: 0.9493 - val_loss: 0.3591 - val_accuracy: 0.9394\n",
            "Epoch 72/100\n",
            "17/17 [==============================] - 0s 5ms/step - loss: 0.3073 - accuracy: 0.9398 - val_loss: 0.3587 - val_accuracy: 0.9394\n",
            "Epoch 73/100\n",
            "17/17 [==============================] - 0s 5ms/step - loss: 0.2921 - accuracy: 0.9416 - val_loss: 0.3614 - val_accuracy: 0.9394\n",
            "Epoch 74/100\n",
            "17/17 [==============================] - 0s 5ms/step - loss: 0.3143 - accuracy: 0.9336 - val_loss: 0.3626 - val_accuracy: 0.9394\n",
            "Epoch 75/100\n",
            "17/17 [==============================] - 0s 5ms/step - loss: 0.3573 - accuracy: 0.8998 - val_loss: 0.3613 - val_accuracy: 0.9394\n",
            "Epoch 76/100\n",
            "17/17 [==============================] - 0s 5ms/step - loss: 0.2544 - accuracy: 0.9626 - val_loss: 0.3581 - val_accuracy: 0.9394\n",
            "Epoch 77/100\n",
            "17/17 [==============================] - 0s 5ms/step - loss: 0.2926 - accuracy: 0.9332 - val_loss: 0.3568 - val_accuracy: 0.9394\n",
            "Epoch 78/100\n",
            "17/17 [==============================] - 0s 5ms/step - loss: 0.2925 - accuracy: 0.9316 - val_loss: 0.3540 - val_accuracy: 0.9394\n",
            "Epoch 79/100\n",
            "17/17 [==============================] - 0s 5ms/step - loss: 0.2853 - accuracy: 0.9452 - val_loss: 0.3533 - val_accuracy: 0.9394\n",
            "Epoch 80/100\n",
            "17/17 [==============================] - 0s 5ms/step - loss: 0.2737 - accuracy: 0.9508 - val_loss: 0.3537 - val_accuracy: 0.9394\n",
            "Epoch 81/100\n",
            "17/17 [==============================] - 0s 5ms/step - loss: 0.3135 - accuracy: 0.9270 - val_loss: 0.3535 - val_accuracy: 0.9394\n",
            "Epoch 82/100\n",
            "17/17 [==============================] - 0s 5ms/step - loss: 0.2791 - accuracy: 0.9462 - val_loss: 0.3574 - val_accuracy: 0.9394\n",
            "Epoch 83/100\n",
            "17/17 [==============================] - 0s 5ms/step - loss: 0.3016 - accuracy: 0.9414 - val_loss: 0.3542 - val_accuracy: 0.9394\n",
            "Epoch 84/100\n",
            "17/17 [==============================] - 0s 5ms/step - loss: 0.2845 - accuracy: 0.9490 - val_loss: 0.3563 - val_accuracy: 0.9394\n",
            "Epoch 85/100\n",
            "17/17 [==============================] - 0s 5ms/step - loss: 0.2962 - accuracy: 0.9461 - val_loss: 0.3541 - val_accuracy: 0.9394\n",
            "Epoch 86/100\n",
            "17/17 [==============================] - 0s 5ms/step - loss: 0.2975 - accuracy: 0.9333 - val_loss: 0.3563 - val_accuracy: 0.9394\n",
            "Epoch 87/100\n",
            "17/17 [==============================] - 0s 5ms/step - loss: 0.2940 - accuracy: 0.9379 - val_loss: 0.3560 - val_accuracy: 0.9394\n",
            "Epoch 88/100\n",
            "17/17 [==============================] - 0s 5ms/step - loss: 0.2964 - accuracy: 0.9428 - val_loss: 0.3633 - val_accuracy: 0.9470\n",
            "Epoch 89/100\n",
            "17/17 [==============================] - 0s 5ms/step - loss: 0.2913 - accuracy: 0.9384 - val_loss: 0.3607 - val_accuracy: 0.9470\n",
            "Epoch 90/100\n",
            "17/17 [==============================] - 0s 5ms/step - loss: 0.2940 - accuracy: 0.9391 - val_loss: 0.3597 - val_accuracy: 0.9470\n",
            "Epoch 91/100\n",
            "17/17 [==============================] - 0s 5ms/step - loss: 0.2817 - accuracy: 0.9503 - val_loss: 0.3598 - val_accuracy: 0.9470\n",
            "Epoch 92/100\n",
            "17/17 [==============================] - 0s 6ms/step - loss: 0.2752 - accuracy: 0.9449 - val_loss: 0.3601 - val_accuracy: 0.9470\n",
            "Epoch 93/100\n",
            "17/17 [==============================] - 0s 5ms/step - loss: 0.2802 - accuracy: 0.9382 - val_loss: 0.3603 - val_accuracy: 0.9470\n",
            "Epoch 94/100\n",
            "17/17 [==============================] - 0s 5ms/step - loss: 0.2762 - accuracy: 0.9442 - val_loss: 0.3621 - val_accuracy: 0.9470\n",
            "Epoch 95/100\n",
            "17/17 [==============================] - 0s 5ms/step - loss: 0.2543 - accuracy: 0.9586 - val_loss: 0.3604 - val_accuracy: 0.9470\n",
            "Epoch 96/100\n",
            "17/17 [==============================] - 0s 4ms/step - loss: 0.2966 - accuracy: 0.9390 - val_loss: 0.3579 - val_accuracy: 0.9470\n",
            "Epoch 97/100\n",
            "17/17 [==============================] - 0s 5ms/step - loss: 0.2597 - accuracy: 0.9525 - val_loss: 0.3619 - val_accuracy: 0.9470\n",
            "Epoch 98/100\n",
            "17/17 [==============================] - 0s 5ms/step - loss: 0.2402 - accuracy: 0.9585 - val_loss: 0.3594 - val_accuracy: 0.9470\n",
            "Epoch 99/100\n",
            "17/17 [==============================] - 0s 5ms/step - loss: 0.2767 - accuracy: 0.9404 - val_loss: 0.3553 - val_accuracy: 0.9470\n",
            "Epoch 100/100\n",
            "17/17 [==============================] - 0s 5ms/step - loss: 0.2925 - accuracy: 0.9331 - val_loss: 0.3618 - val_accuracy: 0.9470\n",
            "All Accuracy values evaluated by teh Model are given below:\n"
          ],
          "name": "stdout"
        },
        {
          "output_type": "execute_result",
          "data": {
            "text/plain": [
              "[0.9366196990013123,\n",
              " 0.9471830725669861,\n",
              " 0.9366196990013123,\n",
              " 0.9154929518699646,\n",
              " 0.9295774698257446]"
            ]
          },
          "metadata": {
            "tags": []
          },
          "execution_count": 130
        }
      ]
    },
    {
      "cell_type": "code",
      "metadata": {
        "colab": {
          "base_uri": "https://localhost:8080/",
          "height": 279
        },
        "id": "HMAkCJ-D_0mz",
        "outputId": "1ad191bb-e858-4a30-b4e5-626d91abaef6"
      },
      "source": [
        "plt.plot(range(1, len(ave_val_loss_hist)+1)[2:], ave_val_loss_hist[2:], \"bo\", label=\"Validation Loss\")\n",
        "plt.plot(range(1, len(ave_val_loss_hist)+1)[2:], ave_loss_hist[2:], \"b\", label=\"Training Loss\")\n",
        "plt.xlabel(\"Epochs\")\n",
        "plt.ylabel(\"Validation Loss\")\n",
        "plt.legend()\n",
        "plt.show()"
      ],
      "execution_count": 131,
      "outputs": [
        {
          "output_type": "display_data",
          "data": {
            "image/png": "[encoded data removed]",
            "text/plain": [
              "<Figure size 432x288 with 1 Axes>"
            ]
          },
          "metadata": {
            "tags": [],
            "needs_background": "light"
          }
        }
      ]
    },
    {
      "cell_type": "code",
      "metadata": {
        "colab": {
          "base_uri": "https://localhost:8080/",
          "height": 279
        },
        "id": "jYxdeSFb_1DH",
        "outputId": "2f6fff75-5bc5-456d-9c72-7acc1f25549e"
      },
      "source": [
        "plt.plot(range(1, len(ave_val_acc_hist)+1)[2:], ave_val_acc_hist[2:], \"bo\", label=\"Validation Accuracy\")\n",
        "plt.plot(range(1, len(ave_val_acc_hist)+1)[2:], ave_acc_hist[2:], \"b\", label=\"Training Accuracy\")\n",
        "plt.xlabel(\"Epochs\")\n",
        "plt.ylabel(\"Validation Accuracy\")\n",
        "plt.legend()\n",
        "plt.show()"
      ],
      "execution_count": 132,
      "outputs": [
        {
          "output_type": "display_data",
          "data": {
            "image/png": "[encoded data removed]",
            "text/plain": [
              "<Figure size 432x288 with 1 Axes>"
            ]
          },
          "metadata": {
            "tags": [],
            "needs_background": "light"
          }
        }
      ]
    },
    {
      "cell_type": "markdown",
      "metadata": {
        "id": "ZqOIE7ZV5gmr"
      },
      "source": [
        "**Rebuilding the best fit Model**"
      ]
    },
    {
      "cell_type": "code",
      "metadata": {
        "id": "B9WWANzGaX9v"
      },
      "source": [
        "model= models.Sequential()\n",
        "model.add(layers.Dense(10, kernel_regularizer=regularizers.l1_l2(l1=0.001, l2=0.001), activation=\"relu\", input_shape=(train_data.shape[1],)))\n",
        "model.add(layers.Dropout(.3))\n",
        "model.add(layers.Dense(10, kernel_regularizer=regularizers.l1_l2(l1=0.001, l2=0.001), activation=\"relu\"))\n",
        "model.add(layers.Dropout(.3))\n",
        "model.add(layers.Dense(8,kernel_regularizer=regularizers.l1_l2(l1=0.001, l2=0.001), activation=\"relu\"))\n",
        "model.add(layers.Dropout(.3))\n",
        "model.add(layers.Dense(6,kernel_regularizer=regularizers.l1_l2(l1=0.001, l2=0.001), activation=\"relu\"))\n",
        "model.add(layers.Dropout(.3))\n",
        "model.add(layers.Dense(1,activation=\"sigmoid\"))\n",
        "model.compile(optimizer=\"rmsprop\", loss=\"binary_crossentropy\", metrics=[\"accuracy\"])"
      ],
      "execution_count": 134,
      "outputs": []
    },
    {
      "cell_type": "markdown",
      "metadata": {
        "id": "byDohJUJ57ZC"
      },
      "source": [
        "**Training the model with all samples**"
      ]
    },
    {
      "cell_type": "code",
      "metadata": {
        "colab": {
          "base_uri": "https://localhost:8080/"
        },
        "id": "hciz-xhFamve",
        "outputId": "d2ebf0ca-eae2-48da-94d1-5edb8eea3325"
      },
      "source": [
        "model.fit(train_data, train_labels, epochs=100)"
      ],
      "execution_count": 136,
      "outputs": [
        {
          "output_type": "stream",
          "text": [
            "Epoch 1/100\n",
            "21/21 [==============================] - 1s 2ms/step - loss: 0.8693 - accuracy: 0.5151\n",
            "Epoch 2/100\n",
            "21/21 [==============================] - 0s 2ms/step - loss: 0.8296 - accuracy: 0.5856\n",
            "Epoch 3/100\n",
            "21/21 [==============================] - 0s 2ms/step - loss: 0.8248 - accuracy: 0.5971\n",
            "Epoch 4/100\n",
            "21/21 [==============================] - 0s 2ms/step - loss: 0.7827 - accuracy: 0.6698\n",
            "Epoch 5/100\n",
            "21/21 [==============================] - 0s 1ms/step - loss: 0.7589 - accuracy: 0.7073\n",
            "Epoch 6/100\n",
            "21/21 [==============================] - 0s 1ms/step - loss: 0.7349 - accuracy: 0.7254\n",
            "Epoch 7/100\n",
            "21/21 [==============================] - 0s 1ms/step - loss: 0.7195 - accuracy: 0.7134\n",
            "Epoch 8/100\n",
            "21/21 [==============================] - 0s 2ms/step - loss: 0.7047 - accuracy: 0.7590\n",
            "Epoch 9/100\n",
            "21/21 [==============================] - 0s 2ms/step - loss: 0.6679 - accuracy: 0.7884\n",
            "Epoch 10/100\n",
            "21/21 [==============================] - 0s 2ms/step - loss: 0.6403 - accuracy: 0.8001\n",
            "Epoch 11/100\n",
            "21/21 [==============================] - 0s 2ms/step - loss: 0.6311 - accuracy: 0.8258\n",
            "Epoch 12/100\n",
            "21/21 [==============================] - 0s 2ms/step - loss: 0.6269 - accuracy: 0.7956\n",
            "Epoch 13/100\n",
            "21/21 [==============================] - 0s 2ms/step - loss: 0.5687 - accuracy: 0.8506\n",
            "Epoch 14/100\n",
            "21/21 [==============================] - 0s 2ms/step - loss: 0.5865 - accuracy: 0.8231\n",
            "Epoch 15/100\n",
            "21/21 [==============================] - 0s 2ms/step - loss: 0.5862 - accuracy: 0.7974\n",
            "Epoch 16/100\n",
            "21/21 [==============================] - 0s 1ms/step - loss: 0.5811 - accuracy: 0.8270\n",
            "Epoch 17/100\n",
            "21/21 [==============================] - 0s 2ms/step - loss: 0.5301 - accuracy: 0.8586\n",
            "Epoch 18/100\n",
            "21/21 [==============================] - 0s 2ms/step - loss: 0.5204 - accuracy: 0.8705\n",
            "Epoch 19/100\n",
            "21/21 [==============================] - 0s 1ms/step - loss: 0.5064 - accuracy: 0.8629\n",
            "Epoch 20/100\n",
            "21/21 [==============================] - 0s 2ms/step - loss: 0.5019 - accuracy: 0.8620\n",
            "Epoch 21/100\n",
            "21/21 [==============================] - 0s 2ms/step - loss: 0.4794 - accuracy: 0.8582\n",
            "Epoch 22/100\n",
            "21/21 [==============================] - 0s 2ms/step - loss: 0.4672 - accuracy: 0.8772\n",
            "Epoch 23/100\n",
            "21/21 [==============================] - 0s 2ms/step - loss: 0.4826 - accuracy: 0.8844\n",
            "Epoch 24/100\n",
            "21/21 [==============================] - 0s 2ms/step - loss: 0.4479 - accuracy: 0.8972\n",
            "Epoch 25/100\n",
            "21/21 [==============================] - 0s 2ms/step - loss: 0.4510 - accuracy: 0.9040\n",
            "Epoch 26/100\n",
            "21/21 [==============================] - 0s 2ms/step - loss: 0.4597 - accuracy: 0.8701\n",
            "Epoch 27/100\n",
            "21/21 [==============================] - 0s 1ms/step - loss: 0.4333 - accuracy: 0.8965\n",
            "Epoch 28/100\n",
            "21/21 [==============================] - 0s 2ms/step - loss: 0.4296 - accuracy: 0.8815\n",
            "Epoch 29/100\n",
            "21/21 [==============================] - 0s 1ms/step - loss: 0.4241 - accuracy: 0.8818\n",
            "Epoch 30/100\n",
            "21/21 [==============================] - 0s 2ms/step - loss: 0.4045 - accuracy: 0.8992\n",
            "Epoch 31/100\n",
            "21/21 [==============================] - 0s 2ms/step - loss: 0.4111 - accuracy: 0.9079\n",
            "Epoch 32/100\n",
            "21/21 [==============================] - 0s 2ms/step - loss: 0.3595 - accuracy: 0.9240\n",
            "Epoch 33/100\n",
            "21/21 [==============================] - 0s 1ms/step - loss: 0.4142 - accuracy: 0.8911\n",
            "Epoch 34/100\n",
            "21/21 [==============================] - 0s 2ms/step - loss: 0.3991 - accuracy: 0.9009\n",
            "Epoch 35/100\n",
            "21/21 [==============================] - 0s 2ms/step - loss: 0.3806 - accuracy: 0.9103\n",
            "Epoch 36/100\n",
            "21/21 [==============================] - 0s 2ms/step - loss: 0.3833 - accuracy: 0.9070\n",
            "Epoch 37/100\n",
            "21/21 [==============================] - 0s 1ms/step - loss: 0.3847 - accuracy: 0.8997\n",
            "Epoch 38/100\n",
            "21/21 [==============================] - 0s 1ms/step - loss: 0.3762 - accuracy: 0.9195\n",
            "Epoch 39/100\n",
            "21/21 [==============================] - 0s 2ms/step - loss: 0.3511 - accuracy: 0.9382\n",
            "Epoch 40/100\n",
            "21/21 [==============================] - 0s 2ms/step - loss: 0.3639 - accuracy: 0.9189\n",
            "Epoch 41/100\n",
            "21/21 [==============================] - 0s 2ms/step - loss: 0.3608 - accuracy: 0.9179\n",
            "Epoch 42/100\n",
            "21/21 [==============================] - 0s 2ms/step - loss: 0.3306 - accuracy: 0.9306\n",
            "Epoch 43/100\n",
            "21/21 [==============================] - 0s 2ms/step - loss: 0.3433 - accuracy: 0.9246\n",
            "Epoch 44/100\n",
            "21/21 [==============================] - 0s 2ms/step - loss: 0.3431 - accuracy: 0.9249\n",
            "Epoch 45/100\n",
            "21/21 [==============================] - 0s 1ms/step - loss: 0.3721 - accuracy: 0.9032\n",
            "Epoch 46/100\n",
            "21/21 [==============================] - 0s 1ms/step - loss: 0.3203 - accuracy: 0.9265\n",
            "Epoch 47/100\n",
            "21/21 [==============================] - 0s 2ms/step - loss: 0.3357 - accuracy: 0.9203\n",
            "Epoch 48/100\n",
            "21/21 [==============================] - 0s 2ms/step - loss: 0.3225 - accuracy: 0.9307\n",
            "Epoch 49/100\n",
            "21/21 [==============================] - 0s 2ms/step - loss: 0.3409 - accuracy: 0.9262\n",
            "Epoch 50/100\n",
            "21/21 [==============================] - 0s 2ms/step - loss: 0.3205 - accuracy: 0.9239\n",
            "Epoch 51/100\n",
            "21/21 [==============================] - 0s 2ms/step - loss: 0.3297 - accuracy: 0.9123\n",
            "Epoch 52/100\n",
            "21/21 [==============================] - 0s 2ms/step - loss: 0.3003 - accuracy: 0.9258\n",
            "Epoch 53/100\n",
            "21/21 [==============================] - 0s 2ms/step - loss: 0.3300 - accuracy: 0.9160\n",
            "Epoch 54/100\n",
            "21/21 [==============================] - 0s 2ms/step - loss: 0.3206 - accuracy: 0.9204\n",
            "Epoch 55/100\n",
            "21/21 [==============================] - 0s 2ms/step - loss: 0.3304 - accuracy: 0.9156\n",
            "Epoch 56/100\n",
            "21/21 [==============================] - 0s 2ms/step - loss: 0.3240 - accuracy: 0.9224\n",
            "Epoch 57/100\n",
            "21/21 [==============================] - 0s 2ms/step - loss: 0.3448 - accuracy: 0.9011\n",
            "Epoch 58/100\n",
            "21/21 [==============================] - 0s 2ms/step - loss: 0.3359 - accuracy: 0.9038\n",
            "Epoch 59/100\n",
            "21/21 [==============================] - 0s 2ms/step - loss: 0.3598 - accuracy: 0.9065\n",
            "Epoch 60/100\n",
            "21/21 [==============================] - 0s 2ms/step - loss: 0.3354 - accuracy: 0.9179\n",
            "Epoch 61/100\n",
            "21/21 [==============================] - 0s 2ms/step - loss: 0.2973 - accuracy: 0.9321\n",
            "Epoch 62/100\n",
            "21/21 [==============================] - 0s 2ms/step - loss: 0.3015 - accuracy: 0.9321\n",
            "Epoch 63/100\n",
            "21/21 [==============================] - 0s 2ms/step - loss: 0.3043 - accuracy: 0.9259\n",
            "Epoch 64/100\n",
            "21/21 [==============================] - 0s 2ms/step - loss: 0.3138 - accuracy: 0.9181\n",
            "Epoch 65/100\n",
            "21/21 [==============================] - 0s 2ms/step - loss: 0.2776 - accuracy: 0.9491\n",
            "Epoch 66/100\n",
            "21/21 [==============================] - 0s 2ms/step - loss: 0.2743 - accuracy: 0.9446\n",
            "Epoch 67/100\n",
            "21/21 [==============================] - 0s 2ms/step - loss: 0.2769 - accuracy: 0.9505\n",
            "Epoch 68/100\n",
            "21/21 [==============================] - 0s 2ms/step - loss: 0.2828 - accuracy: 0.9397\n",
            "Epoch 69/100\n",
            "21/21 [==============================] - 0s 2ms/step - loss: 0.2855 - accuracy: 0.9406\n",
            "Epoch 70/100\n",
            "21/21 [==============================] - 0s 2ms/step - loss: 0.3124 - accuracy: 0.9254\n",
            "Epoch 71/100\n",
            "21/21 [==============================] - 0s 2ms/step - loss: 0.3224 - accuracy: 0.9185\n",
            "Epoch 72/100\n",
            "21/21 [==============================] - 0s 2ms/step - loss: 0.3072 - accuracy: 0.9262\n",
            "Epoch 73/100\n",
            "21/21 [==============================] - 0s 2ms/step - loss: 0.3028 - accuracy: 0.9346\n",
            "Epoch 74/100\n",
            "21/21 [==============================] - 0s 2ms/step - loss: 0.2820 - accuracy: 0.9285\n",
            "Epoch 75/100\n",
            "21/21 [==============================] - 0s 2ms/step - loss: 0.2699 - accuracy: 0.9425\n",
            "Epoch 76/100\n",
            "21/21 [==============================] - 0s 1ms/step - loss: 0.2737 - accuracy: 0.9351\n",
            "Epoch 77/100\n",
            "21/21 [==============================] - 0s 2ms/step - loss: 0.3100 - accuracy: 0.9307\n",
            "Epoch 78/100\n",
            "21/21 [==============================] - 0s 1ms/step - loss: 0.2724 - accuracy: 0.9315\n",
            "Epoch 79/100\n",
            "21/21 [==============================] - 0s 2ms/step - loss: 0.2605 - accuracy: 0.9385\n",
            "Epoch 80/100\n",
            "21/21 [==============================] - 0s 2ms/step - loss: 0.2620 - accuracy: 0.9396\n",
            "Epoch 81/100\n",
            "21/21 [==============================] - 0s 2ms/step - loss: 0.2461 - accuracy: 0.9487\n",
            "Epoch 82/100\n",
            "21/21 [==============================] - 0s 2ms/step - loss: 0.2758 - accuracy: 0.9336\n",
            "Epoch 83/100\n",
            "21/21 [==============================] - 0s 2ms/step - loss: 0.2773 - accuracy: 0.9380\n",
            "Epoch 84/100\n",
            "21/21 [==============================] - 0s 2ms/step - loss: 0.3044 - accuracy: 0.9264\n",
            "Epoch 85/100\n",
            "21/21 [==============================] - 0s 2ms/step - loss: 0.2554 - accuracy: 0.9342\n",
            "Epoch 86/100\n",
            "21/21 [==============================] - 0s 2ms/step - loss: 0.2592 - accuracy: 0.9497\n",
            "Epoch 87/100\n",
            "21/21 [==============================] - 0s 2ms/step - loss: 0.2654 - accuracy: 0.9302\n",
            "Epoch 88/100\n",
            "21/21 [==============================] - 0s 2ms/step - loss: 0.2640 - accuracy: 0.9359\n",
            "Epoch 89/100\n",
            "21/21 [==============================] - 0s 2ms/step - loss: 0.2587 - accuracy: 0.9307\n",
            "Epoch 90/100\n",
            "21/21 [==============================] - 0s 2ms/step - loss: 0.2864 - accuracy: 0.9287\n",
            "Epoch 91/100\n",
            "21/21 [==============================] - 0s 2ms/step - loss: 0.3277 - accuracy: 0.9198\n",
            "Epoch 92/100\n",
            "21/21 [==============================] - 0s 2ms/step - loss: 0.2988 - accuracy: 0.9204\n",
            "Epoch 93/100\n",
            "21/21 [==============================] - 0s 2ms/step - loss: 0.2654 - accuracy: 0.9421\n",
            "Epoch 94/100\n",
            "21/21 [==============================] - 0s 2ms/step - loss: 0.2632 - accuracy: 0.9375\n",
            "Epoch 95/100\n",
            "21/21 [==============================] - 0s 2ms/step - loss: 0.2594 - accuracy: 0.9429\n",
            "Epoch 96/100\n",
            "21/21 [==============================] - 0s 2ms/step - loss: 0.2607 - accuracy: 0.9292\n",
            "Epoch 97/100\n",
            "21/21 [==============================] - 0s 2ms/step - loss: 0.2825 - accuracy: 0.9277\n",
            "Epoch 98/100\n",
            "21/21 [==============================] - 0s 2ms/step - loss: 0.2676 - accuracy: 0.9338\n",
            "Epoch 99/100\n",
            "21/21 [==============================] - 0s 2ms/step - loss: 0.2330 - accuracy: 0.9524\n",
            "Epoch 100/100\n",
            "21/21 [==============================] - 0s 2ms/step - loss: 0.2597 - accuracy: 0.9305\n"
          ],
          "name": "stdout"
        },
        {
          "output_type": "execute_result",
          "data": {
            "text/plain": [
              "<tensorflow.python.keras.callbacks.History at 0x7fdee066b390>"
            ]
          },
          "metadata": {
            "tags": []
          },
          "execution_count": 136
        }
      ]
    },
    {
      "cell_type": "markdown",
      "metadata": {
        "id": "Dce-459igfpL"
      },
      "source": [
        "**Evaluating the Network**"
      ]
    },
    {
      "cell_type": "code",
      "metadata": {
        "colab": {
          "base_uri": "https://localhost:8080/"
        },
        "id": "StnRq2ahghL3",
        "outputId": "8970d7b2-b152-428e-e5e9-42c39766894d"
      },
      "source": [
        "test_loss_score, test_acc_score=model.evaluate(test_data, test_labels)"
      ],
      "execution_count": 137,
      "outputs": [
        {
          "output_type": "stream",
          "text": [
            "9/9 [==============================] - 0s 2ms/step - loss: 0.2323 - accuracy: 0.9366\n"
          ],
          "name": "stdout"
        }
      ]
    },
    {
      "cell_type": "code",
      "metadata": {
        "colab": {
          "base_uri": "https://localhost:8080/"
        },
        "id": "YHZhGjD02dN4",
        "outputId": "168bb33d-fe6b-4c89-ce18-03a83ec6a131"
      },
      "source": [
        "test_acc_score *100"
      ],
      "execution_count": 138,
      "outputs": [
        {
          "output_type": "execute_result",
          "data": {
            "text/plain": [
              "93.66196990013123"
            ]
          },
          "metadata": {
            "tags": []
          },
          "execution_count": 138
        }
      ]
    },
    {
      "cell_type": "markdown",
      "metadata": {
        "id": "X4PJkc9rhBnI"
      },
      "source": [
        "**Predicting the values**"
      ]
    },
    {
      "cell_type": "code",
      "metadata": {
        "id": "ar4XTcgrhDpi",
        "colab": {
          "base_uri": "https://localhost:8080/"
        },
        "outputId": "01e5e937-980c-473b-a7bb-78304e796d88"
      },
      "source": [
        "prediction=model.predict(test_data)\n",
        "pred_norm =np.where(prediction>.5, 1, 0)\n",
        "pred_norm[10:20].T"
      ],
      "execution_count": 139,
      "outputs": [
        {
          "output_type": "execute_result",
          "data": {
            "text/plain": [
              "array([[1, 0, 0, 1, 0, 1, 1, 1, 0, 1]])"
            ]
          },
          "metadata": {
            "tags": []
          },
          "execution_count": 139
        }
      ]
    },
    {
      "cell_type": "code",
      "metadata": {
        "id": "JXLs5o3BhHBm",
        "colab": {
          "base_uri": "https://localhost:8080/"
        },
        "outputId": "ecb36ad4-1b6d-4d43-877f-fcd5b847f1a9"
      },
      "source": [
        "test_labels[10:20].astype(dtype=\"int\")"
      ],
      "execution_count": 140,
      "outputs": [
        {
          "output_type": "execute_result",
          "data": {
            "text/plain": [
              "array([1, 0, 0, 1, 0, 1, 1, 1, 0, 1])"
            ]
          },
          "metadata": {
            "tags": []
          },
          "execution_count": 140
        }
      ]
    },
    {
      "cell_type": "code",
      "metadata": {
        "id": "F9srhXkIkmOl"
      },
      "source": [
        "pred_check =pred_norm[:].T.astype(dtype=\"int\")"
      ],
      "execution_count": 141,
      "outputs": []
    },
    {
      "cell_type": "code",
      "metadata": {
        "id": "G5ZTbC1khk5k"
      },
      "source": [
        "c = pred_check.size"
      ],
      "execution_count": 142,
      "outputs": []
    },
    {
      "cell_type": "code",
      "metadata": {
        "id": "ST4zlthJhoEu"
      },
      "source": [
        "comapre_pred_test = test_labels == pred_check"
      ],
      "execution_count": 143,
      "outputs": []
    },
    {
      "cell_type": "code",
      "metadata": {
        "id": "0-bm2f7Lh141"
      },
      "source": [
        "a = comapre_pred_test[comapre_pred_test[:]== False].size"
      ],
      "execution_count": 144,
      "outputs": []
    },
    {
      "cell_type": "code",
      "metadata": {
        "id": "_PNULlcph4n9"
      },
      "source": [
        "b = comapre_pred_test[comapre_pred_test[:]==True].size"
      ],
      "execution_count": 145,
      "outputs": []
    },
    {
      "cell_type": "code",
      "metadata": {
        "colab": {
          "base_uri": "https://localhost:8080/"
        },
        "id": "-FGuqz4SihP9",
        "outputId": "d8cb18b9-3537-4c88-e010-5bddff86e955"
      },
      "source": [
        "print(\"Incorrect Predictions are:\", a, \"and Correct predictions are :\", b, \" the percentage is:\", round((b/c)*100,2), \"%\"  )"
      ],
      "execution_count": 146,
      "outputs": [
        {
          "output_type": "stream",
          "text": [
            "Incorrect Predictions are: 18 and Correct predictions are : 266  the percentage is: 93.66 %\n"
          ],
          "name": "stdout"
        }
      ]
    }
  ]
}