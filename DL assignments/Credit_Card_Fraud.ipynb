{
  "nbformat": 4,
  "nbformat_minor": 0,
  "metadata": {
    "colab": {
      "name": "Credit Card Fraud.ipynb",
      "provenance": [],
      "collapsed_sections": []
    },
    "kernelspec": {
      "name": "python3",
      "display_name": "Python 3"
    }
  },
  "cells": [
    {
      "cell_type": "code",
      "metadata": {
        "id": "iBLYoxFawYRa"
      },
      "source": [
        "import tensorflow as tf\n",
        "import pandas as pd\n",
        "import numpy as np\n",
        "import matplotlib.pyplot as plt\n",
        "from keras import models\n",
        "from keras import layers\n",
        "import zipfile"
      ],
      "execution_count": 4,
      "outputs": []
    },
    {
      "cell_type": "code",
      "metadata": {
        "colab": {
          "base_uri": "https://localhost:8080/"
        },
        "id": "FW9PfDmcW62f",
        "outputId": "ae030d62-04e8-431a-9ef8-a6ee0dfa3452"
      },
      "source": [
        "from google.colab import drive\n",
        "drive.mount(\"/content/drive\")"
      ],
      "execution_count": 2,
      "outputs": [
        {
          "output_type": "stream",
          "text": [
            "Mounted at /content/drive\n"
          ],
          "name": "stdout"
        }
      ]
    },
    {
      "cell_type": "code",
      "metadata": {
        "id": "j8K1EFddW-A4"
      },
      "source": [
        "local_zip = \"/content/drive/MyDrive/creditcard.zip\"\n",
        "zip_ref = zipfile.ZipFile(local_zip, \"r\")\n",
        "zip_ref.extractall(\"/credit_card\")\n",
        "zip_ref.close()"
      ],
      "execution_count": 5,
      "outputs": []
    },
    {
      "cell_type": "code",
      "metadata": {
        "id": "nwUm-9oKX5wl"
      },
      "source": [
        "df = pd.read_csv(\"/credit_card/creditcard.csv\")"
      ],
      "execution_count": 44,
      "outputs": []
    },
    {
      "cell_type": "markdown",
      "metadata": {
        "id": "J7iigCcgp4cd"
      },
      "source": [
        "**Balancing the data**"
      ]
    },
    {
      "cell_type": "code",
      "metadata": {
        "colab": {
          "base_uri": "https://localhost:8080/"
        },
        "id": "gpH6yaI8p-Xj",
        "outputId": "e455ce5d-b842-486a-8d84-09f41cb41af9"
      },
      "source": [
        "non_fraud=df[df[\"Class\"]==0]\n",
        "fraud = df[df[\"Class\"]==1]\n",
        "non_fraud.shape, fraud.shape"
      ],
      "execution_count": 45,
      "outputs": [
        {
          "output_type": "execute_result",
          "data": {
            "text/plain": [
              "((284315, 31), (492, 31))"
            ]
          },
          "metadata": {
            "tags": []
          },
          "execution_count": 45
        }
      ]
    },
    {
      "cell_type": "code",
      "metadata": {
        "colab": {
          "base_uri": "https://localhost:8080/"
        },
        "id": "UHkdJfAWqkG0",
        "outputId": "9f201147-c47d-408f-b7bb-63a14db05a4d"
      },
      "source": [
        "non_fraud=non_fraud.sample(fraud.shape[0])\n",
        "non_fraud.shape"
      ],
      "execution_count": 46,
      "outputs": [
        {
          "output_type": "execute_result",
          "data": {
            "text/plain": [
              "(492, 31)"
            ]
          },
          "metadata": {
            "tags": []
          },
          "execution_count": 46
        }
      ]
    },
    {
      "cell_type": "code",
      "metadata": {
        "colab": {
          "base_uri": "https://localhost:8080/"
        },
        "id": "_rXeRez9rx18",
        "outputId": "6c4e3741-b4cc-42b0-d051-a282d1326b80"
      },
      "source": [
        "data = fraud.append(non_fraud, ignore_index=True)\n",
        "data.shape\n",
        "data[\"Class\"].value_counts()"
      ],
      "execution_count": 47,
      "outputs": [
        {
          "output_type": "execute_result",
          "data": {
            "text/plain": [
              "1    492\n",
              "0    492\n",
              "Name: Class, dtype: int64"
            ]
          },
          "metadata": {
            "tags": []
          },
          "execution_count": 47
        }
      ]
    },
    {
      "cell_type": "code",
      "metadata": {
        "id": "_g2O7ndPsiMf"
      },
      "source": [
        "x_data= data.drop(columns=[\"Class\", \"Time\"], axis=0)\n",
        "label = data[\"Class\"]"
      ],
      "execution_count": 48,
      "outputs": []
    },
    {
      "cell_type": "markdown",
      "metadata": {
        "id": "Bl2vhLJbcgPB"
      },
      "source": [
        "**Splitting Training and Test data**"
      ]
    },
    {
      "cell_type": "code",
      "metadata": {
        "id": "4u2NSBUnJhDn"
      },
      "source": [
        "x_data = data.sample(frac=1) # Shuffling the data\n",
        "train_data_full= x_data.iloc[:689,:]\n",
        "test_data_full = x_data.iloc[689:, :]\n",
        "train_data = train_data_full.iloc[:, :-1]\n",
        "train_labels = train_data_full.iloc[:, -1]\n",
        "test_data = test_data_full.iloc[:, :-1]\n",
        "test_labels = test_data_full.iloc[:, -1]"
      ],
      "execution_count": 49,
      "outputs": []
    },
    {
      "cell_type": "code",
      "metadata": {
        "colab": {
          "base_uri": "https://localhost:8080/"
        },
        "id": "x4e9DZ2QJhXH",
        "outputId": "10742de0-8545-47a4-e0c2-99425b98ea95"
      },
      "source": [
        "print(train_data.shape)\n",
        "print(test_data.shape)\n",
        "print(train_labels.shape)\n",
        "print(test_labels.shape)"
      ],
      "execution_count": 50,
      "outputs": [
        {
          "output_type": "stream",
          "text": [
            "(689, 30)\n",
            "(295, 30)\n",
            "(689,)\n",
            "(295,)\n"
          ],
          "name": "stdout"
        }
      ]
    },
    {
      "cell_type": "markdown",
      "metadata": {
        "id": "N2IjHw9-vr8R"
      },
      "source": [
        "**Normalizing the data**"
      ]
    },
    {
      "cell_type": "code",
      "metadata": {
        "id": "SUGcuylWwQNH"
      },
      "source": [
        "mean=train_data.mean(axis=0)\n",
        "std=train_data.std(axis=0)\n",
        "train_data = (train_data-mean)/std\n",
        "test_data = (test_data-mean)/std"
      ],
      "execution_count": 51,
      "outputs": []
    },
    {
      "cell_type": "code",
      "metadata": {
        "id": "ml_bHaukvCq1"
      },
      "source": [
        "train_labels=np.asarray(train_labels).astype(dtype=\"float64\")\n",
        "test_labels=np.asarray(test_labels).astype(dtype=\"float64\")"
      ],
      "execution_count": 52,
      "outputs": []
    },
    {
      "cell_type": "markdown",
      "metadata": {
        "id": "46HRquJwfVet"
      },
      "source": [
        "**Building The Network**"
      ]
    },
    {
      "cell_type": "code",
      "metadata": {
        "id": "DdLBceyKc8Kz"
      },
      "source": [
        "from keras import regularizers\n",
        "model= models.Sequential()\n",
        "model.add(layers.Dense(10, kernel_regularizer=regularizers.l1_l2(l1=0.001, l2=0.001), activation=\"relu\", input_shape=(train_data.shape[1],)))\n",
        "\n",
        "model.add(layers.Dense(10, kernel_regularizer=regularizers.l1_l2(l1=0.001, l2=0.001), activation=\"relu\"))\n",
        "\n",
        "model.add(layers.Dense(8,kernel_regularizer=regularizers.l1_l2(l1=0.001, l2=0.001), activation=\"relu\"))\n",
        "\n",
        "model.add(layers.Dense(6,kernel_regularizer=regularizers.l1_l2(l1=0.001, l2=0.001), activation=\"relu\"))\n",
        "\n",
        "model.add(layers.Dense(1,activation=\"sigmoid\"))\n",
        "\n",
        "model.compile(optimizer=\"rmsprop\", loss=\"binary_crossentropy\", metrics=[\"accuracy\"])"
      ],
      "execution_count": 53,
      "outputs": []
    },
    {
      "cell_type": "markdown",
      "metadata": {
        "id": "YjZ6MKm2dAT7"
      },
      "source": [
        "**Training The Network**"
      ]
    },
    {
      "cell_type": "code",
      "metadata": {
        "colab": {
          "base_uri": "https://localhost:8080/"
        },
        "id": "D6q4dtLZdD8U",
        "outputId": "c7621ab0-2a41-4186-beb3-440540d575ea"
      },
      "source": [
        "history=model.fit(train_data, train_labels, epochs=40, validation_split=.2)"
      ],
      "execution_count": 54,
      "outputs": [
        {
          "output_type": "stream",
          "text": [
            "Epoch 1/40\n",
            "18/18 [==============================] - 1s 17ms/step - loss: 0.7951 - accuracy: 0.5216 - val_loss: 0.7426 - val_accuracy: 0.6087\n",
            "Epoch 2/40\n",
            "18/18 [==============================] - 0s 3ms/step - loss: 0.7267 - accuracy: 0.5997 - val_loss: 0.6973 - val_accuracy: 0.7174\n",
            "Epoch 3/40\n",
            "18/18 [==============================] - 0s 3ms/step - loss: 0.6854 - accuracy: 0.7644 - val_loss: 0.6663 - val_accuracy: 0.8261\n",
            "Epoch 4/40\n",
            "18/18 [==============================] - 0s 4ms/step - loss: 0.6486 - accuracy: 0.8150 - val_loss: 0.6398 - val_accuracy: 0.8623\n",
            "Epoch 5/40\n",
            "18/18 [==============================] - 0s 4ms/step - loss: 0.6253 - accuracy: 0.8576 - val_loss: 0.6150 - val_accuracy: 0.8696\n",
            "Epoch 6/40\n",
            "18/18 [==============================] - 0s 3ms/step - loss: 0.6041 - accuracy: 0.8943 - val_loss: 0.5931 - val_accuracy: 0.8913\n",
            "Epoch 7/40\n",
            "18/18 [==============================] - 0s 4ms/step - loss: 0.5649 - accuracy: 0.8908 - val_loss: 0.5690 - val_accuracy: 0.8841\n",
            "Epoch 8/40\n",
            "18/18 [==============================] - 0s 4ms/step - loss: 0.5538 - accuracy: 0.8882 - val_loss: 0.5423 - val_accuracy: 0.8841\n",
            "Epoch 9/40\n",
            "18/18 [==============================] - 0s 4ms/step - loss: 0.5173 - accuracy: 0.8996 - val_loss: 0.5152 - val_accuracy: 0.8841\n",
            "Epoch 10/40\n",
            "18/18 [==============================] - 0s 4ms/step - loss: 0.5212 - accuracy: 0.8840 - val_loss: 0.4877 - val_accuracy: 0.8841\n",
            "Epoch 11/40\n",
            "18/18 [==============================] - 0s 4ms/step - loss: 0.4884 - accuracy: 0.9008 - val_loss: 0.4618 - val_accuracy: 0.8986\n",
            "Epoch 12/40\n",
            "18/18 [==============================] - 0s 3ms/step - loss: 0.4643 - accuracy: 0.8883 - val_loss: 0.4373 - val_accuracy: 0.8913\n",
            "Epoch 13/40\n",
            "18/18 [==============================] - 0s 3ms/step - loss: 0.4262 - accuracy: 0.9051 - val_loss: 0.4172 - val_accuracy: 0.8986\n",
            "Epoch 14/40\n",
            "18/18 [==============================] - 0s 3ms/step - loss: 0.4315 - accuracy: 0.9085 - val_loss: 0.4027 - val_accuracy: 0.9058\n",
            "Epoch 15/40\n",
            "18/18 [==============================] - 0s 3ms/step - loss: 0.4125 - accuracy: 0.8979 - val_loss: 0.3895 - val_accuracy: 0.9058\n",
            "Epoch 16/40\n",
            "18/18 [==============================] - 0s 4ms/step - loss: 0.4009 - accuracy: 0.9049 - val_loss: 0.3795 - val_accuracy: 0.9058\n",
            "Epoch 17/40\n",
            "18/18 [==============================] - 0s 4ms/step - loss: 0.4001 - accuracy: 0.9011 - val_loss: 0.3719 - val_accuracy: 0.9058\n",
            "Epoch 18/40\n",
            "18/18 [==============================] - 0s 4ms/step - loss: 0.4096 - accuracy: 0.8896 - val_loss: 0.3653 - val_accuracy: 0.9058\n",
            "Epoch 19/40\n",
            "18/18 [==============================] - 0s 4ms/step - loss: 0.3471 - accuracy: 0.9210 - val_loss: 0.3592 - val_accuracy: 0.9058\n",
            "Epoch 20/40\n",
            "18/18 [==============================] - 0s 4ms/step - loss: 0.3765 - accuracy: 0.8963 - val_loss: 0.3536 - val_accuracy: 0.9130\n",
            "Epoch 21/40\n",
            "18/18 [==============================] - 0s 4ms/step - loss: 0.3504 - accuracy: 0.9142 - val_loss: 0.3480 - val_accuracy: 0.9130\n",
            "Epoch 22/40\n",
            "18/18 [==============================] - 0s 4ms/step - loss: 0.3558 - accuracy: 0.9141 - val_loss: 0.3464 - val_accuracy: 0.9203\n",
            "Epoch 23/40\n",
            "18/18 [==============================] - 0s 3ms/step - loss: 0.3528 - accuracy: 0.9092 - val_loss: 0.3391 - val_accuracy: 0.9203\n",
            "Epoch 24/40\n",
            "18/18 [==============================] - 0s 3ms/step - loss: 0.3475 - accuracy: 0.9150 - val_loss: 0.3348 - val_accuracy: 0.9203\n",
            "Epoch 25/40\n",
            "18/18 [==============================] - 0s 4ms/step - loss: 0.3524 - accuracy: 0.9076 - val_loss: 0.3350 - val_accuracy: 0.9203\n",
            "Epoch 26/40\n",
            "18/18 [==============================] - 0s 4ms/step - loss: 0.3345 - accuracy: 0.9207 - val_loss: 0.3279 - val_accuracy: 0.9203\n",
            "Epoch 27/40\n",
            "18/18 [==============================] - 0s 4ms/step - loss: 0.3158 - accuracy: 0.9241 - val_loss: 0.3257 - val_accuracy: 0.9275\n",
            "Epoch 28/40\n",
            "18/18 [==============================] - 0s 3ms/step - loss: 0.2942 - accuracy: 0.9336 - val_loss: 0.3227 - val_accuracy: 0.9275\n",
            "Epoch 29/40\n",
            "18/18 [==============================] - 0s 3ms/step - loss: 0.2858 - accuracy: 0.9296 - val_loss: 0.3187 - val_accuracy: 0.9275\n",
            "Epoch 30/40\n",
            "18/18 [==============================] - 0s 4ms/step - loss: 0.3117 - accuracy: 0.9216 - val_loss: 0.3159 - val_accuracy: 0.9275\n",
            "Epoch 31/40\n",
            "18/18 [==============================] - 0s 4ms/step - loss: 0.2940 - accuracy: 0.9215 - val_loss: 0.3161 - val_accuracy: 0.9275\n",
            "Epoch 32/40\n",
            "18/18 [==============================] - 0s 4ms/step - loss: 0.2955 - accuracy: 0.9209 - val_loss: 0.3107 - val_accuracy: 0.9203\n",
            "Epoch 33/40\n",
            "18/18 [==============================] - 0s 4ms/step - loss: 0.3052 - accuracy: 0.9237 - val_loss: 0.3103 - val_accuracy: 0.9275\n",
            "Epoch 34/40\n",
            "18/18 [==============================] - 0s 4ms/step - loss: 0.2730 - accuracy: 0.9346 - val_loss: 0.3060 - val_accuracy: 0.9275\n",
            "Epoch 35/40\n",
            "18/18 [==============================] - 0s 4ms/step - loss: 0.3029 - accuracy: 0.9176 - val_loss: 0.3086 - val_accuracy: 0.9348\n",
            "Epoch 36/40\n",
            "18/18 [==============================] - 0s 4ms/step - loss: 0.3022 - accuracy: 0.9141 - val_loss: 0.3002 - val_accuracy: 0.9275\n",
            "Epoch 37/40\n",
            "18/18 [==============================] - 0s 4ms/step - loss: 0.3043 - accuracy: 0.9086 - val_loss: 0.3053 - val_accuracy: 0.9275\n",
            "Epoch 38/40\n",
            "18/18 [==============================] - 0s 3ms/step - loss: 0.2571 - accuracy: 0.9351 - val_loss: 0.3012 - val_accuracy: 0.9348\n",
            "Epoch 39/40\n",
            "18/18 [==============================] - 0s 4ms/step - loss: 0.2792 - accuracy: 0.9215 - val_loss: 0.2940 - val_accuracy: 0.9275\n",
            "Epoch 40/40\n",
            "18/18 [==============================] - 0s 4ms/step - loss: 0.2900 - accuracy: 0.9219 - val_loss: 0.2920 - val_accuracy: 0.9275\n"
          ],
          "name": "stdout"
        }
      ]
    },
    {
      "cell_type": "code",
      "metadata": {
        "id": "qHDVECkGfv7X",
        "colab": {
          "base_uri": "https://localhost:8080/",
          "height": 282
        },
        "outputId": "0f0e029a-6e68-41e7-9273-968f72e5b369"
      },
      "source": [
        "loss=history.history[\"loss\"]\n",
        "val_loss=history.history[\"val_loss\"]\n",
        "epochs=range(1, len(loss)+1)\n",
        "plt.plot(epochs, loss, \"bo\", label=\"Training Loss\")\n",
        "plt.plot(epochs, val_loss, \"b\", label=\"Validation Loss\")\n",
        "plt.xlabel(\"Epochs\")\n",
        "plt.ylabel(\"Loss\")\n",
        "plt.legend()\n",
        "plt.show()"
      ],
      "execution_count": 55,
      "outputs": [
        {
          "output_type": "display_data",
          "data": {
            "image/png": "[encoded data removed]",
            "text/plain": [
              "<Figure size 432x288 with 1 Axes>"
            ]
          },
          "metadata": {
            "tags": [],
            "needs_background": "light"
          }
        }
      ]
    },
    {
      "cell_type": "code",
      "metadata": {
        "colab": {
          "base_uri": "https://localhost:8080/",
          "height": 279
        },
        "id": "4QeuRcUVf9r1",
        "outputId": "15a2be9c-ad0b-47f9-d660-c56869f8c889"
      },
      "source": [
        "acc=history.history[\"accuracy\"]\n",
        "val_acc=history.history[\"val_accuracy\"]\n",
        "epochs=range(1, len(acc)+1)\n",
        "plt.plot(epochs[10:], acc[10:], \"bo\", label=\"Training Accuracy\")\n",
        "plt.plot(epochs[10:], val_acc[10:], \"b\", label=\"Validation Accuracy\")\n",
        "plt.xlabel(\"Epochs\")\n",
        "plt.ylabel(\"Accuracy\")\n",
        "plt.legend()\n",
        "plt.show()"
      ],
      "execution_count": 56,
      "outputs": [
        {
          "output_type": "display_data",
          "data": {
            "image/png": "[encoded data removed]",
            "text/plain": [
              "<Figure size 432x288 with 1 Axes>"
            ]
          },
          "metadata": {
            "tags": [],
            "needs_background": "light"
          }
        }
      ]
    },
    {
      "cell_type": "markdown",
      "metadata": {
        "id": "ZqOIE7ZV5gmr"
      },
      "source": [
        "**Rebuilding the best fit Model**"
      ]
    },
    {
      "cell_type": "code",
      "metadata": {
        "id": "Olb6pJ0c5eHN"
      },
      "source": [
        "from keras import regularizers\n",
        "model= models.Sequential()\n",
        "model.add(layers.Dense(10, kernel_regularizer=regularizers.l1_l2(l1=0.001, l2=0.001), activation=\"relu\", input_shape=(train_data.shape[1],)))\n",
        "\n",
        "model.add(layers.Dense(10, kernel_regularizer=regularizers.l1_l2(l1=0.001, l2=0.001), activation=\"relu\"))\n",
        "\n",
        "model.add(layers.Dense(8,kernel_regularizer=regularizers.l1_l2(l1=0.001, l2=0.001), activation=\"relu\"))\n",
        "\n",
        "model.add(layers.Dense(6,kernel_regularizer=regularizers.l1_l2(l1=0.001, l2=0.001), activation=\"relu\"))\n",
        "\n",
        "model.add(layers.Dense(1,activation=\"sigmoid\"))\n",
        "\n",
        "model.compile(optimizer=\"rmsprop\", loss=\"binary_crossentropy\", metrics=[\"accuracy\"])"
      ],
      "execution_count": 57,
      "outputs": []
    },
    {
      "cell_type": "markdown",
      "metadata": {
        "id": "byDohJUJ57ZC"
      },
      "source": [
        "**Training the model with all samples**"
      ]
    },
    {
      "cell_type": "code",
      "metadata": {
        "colab": {
          "base_uri": "https://localhost:8080/"
        },
        "id": "t7ArlmnZ5u1Y",
        "outputId": "1daec5bd-1a8e-44ed-c1ec-92cfc5667c20"
      },
      "source": [
        "model.fit(train_data, train_labels, epochs=40)"
      ],
      "execution_count": 58,
      "outputs": [
        {
          "output_type": "stream",
          "text": [
            "Epoch 1/40\n",
            "22/22 [==============================] - 1s 2ms/step - loss: 0.8246 - accuracy: 0.5100\n",
            "Epoch 2/40\n",
            "22/22 [==============================] - 0s 2ms/step - loss: 0.7679 - accuracy: 0.6327\n",
            "Epoch 3/40\n",
            "22/22 [==============================] - 0s 1ms/step - loss: 0.7082 - accuracy: 0.7987\n",
            "Epoch 4/40\n",
            "22/22 [==============================] - 0s 2ms/step - loss: 0.6478 - accuracy: 0.8657\n",
            "Epoch 5/40\n",
            "22/22 [==============================] - 0s 1ms/step - loss: 0.6266 - accuracy: 0.8351\n",
            "Epoch 6/40\n",
            "22/22 [==============================] - 0s 2ms/step - loss: 0.5760 - accuracy: 0.8774\n",
            "Epoch 7/40\n",
            "22/22 [==============================] - 0s 2ms/step - loss: 0.5185 - accuracy: 0.8904\n",
            "Epoch 8/40\n",
            "22/22 [==============================] - 0s 2ms/step - loss: 0.5061 - accuracy: 0.8952\n",
            "Epoch 9/40\n",
            "22/22 [==============================] - 0s 2ms/step - loss: 0.4559 - accuracy: 0.9182\n",
            "Epoch 10/40\n",
            "22/22 [==============================] - 0s 2ms/step - loss: 0.4538 - accuracy: 0.9163\n",
            "Epoch 11/40\n",
            "22/22 [==============================] - 0s 2ms/step - loss: 0.3998 - accuracy: 0.9232\n",
            "Epoch 12/40\n",
            "22/22 [==============================] - 0s 1ms/step - loss: 0.3945 - accuracy: 0.9012\n",
            "Epoch 13/40\n",
            "22/22 [==============================] - 0s 2ms/step - loss: 0.3720 - accuracy: 0.9124\n",
            "Epoch 14/40\n",
            "22/22 [==============================] - 0s 1ms/step - loss: 0.3496 - accuracy: 0.9185\n",
            "Epoch 15/40\n",
            "22/22 [==============================] - 0s 1ms/step - loss: 0.3691 - accuracy: 0.9161\n",
            "Epoch 16/40\n",
            "22/22 [==============================] - 0s 1ms/step - loss: 0.3707 - accuracy: 0.9152\n",
            "Epoch 17/40\n",
            "22/22 [==============================] - 0s 1ms/step - loss: 0.3205 - accuracy: 0.9261\n",
            "Epoch 18/40\n",
            "22/22 [==============================] - 0s 1ms/step - loss: 0.3151 - accuracy: 0.9332\n",
            "Epoch 19/40\n",
            "22/22 [==============================] - 0s 1ms/step - loss: 0.3193 - accuracy: 0.9266\n",
            "Epoch 20/40\n",
            "22/22 [==============================] - 0s 1ms/step - loss: 0.3108 - accuracy: 0.9245\n",
            "Epoch 21/40\n",
            "22/22 [==============================] - 0s 1ms/step - loss: 0.2749 - accuracy: 0.9419\n",
            "Epoch 22/40\n",
            "22/22 [==============================] - 0s 1ms/step - loss: 0.3055 - accuracy: 0.9305\n",
            "Epoch 23/40\n",
            "22/22 [==============================] - 0s 2ms/step - loss: 0.2751 - accuracy: 0.9387\n",
            "Epoch 24/40\n",
            "22/22 [==============================] - 0s 1ms/step - loss: 0.2823 - accuracy: 0.9354\n",
            "Epoch 25/40\n",
            "22/22 [==============================] - 0s 2ms/step - loss: 0.2934 - accuracy: 0.9260\n",
            "Epoch 26/40\n",
            "22/22 [==============================] - 0s 1ms/step - loss: 0.2907 - accuracy: 0.9233\n",
            "Epoch 27/40\n",
            "22/22 [==============================] - 0s 2ms/step - loss: 0.3132 - accuracy: 0.9199\n",
            "Epoch 28/40\n",
            "22/22 [==============================] - 0s 2ms/step - loss: 0.2525 - accuracy: 0.9391\n",
            "Epoch 29/40\n",
            "22/22 [==============================] - 0s 1ms/step - loss: 0.2612 - accuracy: 0.9420\n",
            "Epoch 30/40\n",
            "22/22 [==============================] - 0s 1ms/step - loss: 0.2520 - accuracy: 0.9442\n",
            "Epoch 31/40\n",
            "22/22 [==============================] - 0s 1ms/step - loss: 0.2812 - accuracy: 0.9372\n",
            "Epoch 32/40\n",
            "22/22 [==============================] - 0s 1ms/step - loss: 0.2668 - accuracy: 0.9411\n",
            "Epoch 33/40\n",
            "22/22 [==============================] - 0s 1ms/step - loss: 0.2438 - accuracy: 0.9495\n",
            "Epoch 34/40\n",
            "22/22 [==============================] - 0s 1ms/step - loss: 0.2672 - accuracy: 0.9320\n",
            "Epoch 35/40\n",
            "22/22 [==============================] - 0s 1ms/step - loss: 0.2550 - accuracy: 0.9370\n",
            "Epoch 36/40\n",
            "22/22 [==============================] - 0s 2ms/step - loss: 0.2424 - accuracy: 0.9437\n",
            "Epoch 37/40\n",
            "22/22 [==============================] - 0s 2ms/step - loss: 0.2345 - accuracy: 0.9528\n",
            "Epoch 38/40\n",
            "22/22 [==============================] - 0s 2ms/step - loss: 0.2373 - accuracy: 0.9412\n",
            "Epoch 39/40\n",
            "22/22 [==============================] - 0s 2ms/step - loss: 0.2521 - accuracy: 0.9393\n",
            "Epoch 40/40\n",
            "22/22 [==============================] - 0s 1ms/step - loss: 0.2198 - accuracy: 0.9509\n"
          ],
          "name": "stdout"
        },
        {
          "output_type": "execute_result",
          "data": {
            "text/plain": [
              "<tensorflow.python.keras.callbacks.History at 0x7f2fac288610>"
            ]
          },
          "metadata": {
            "tags": []
          },
          "execution_count": 58
        }
      ]
    },
    {
      "cell_type": "markdown",
      "metadata": {
        "id": "Dce-459igfpL"
      },
      "source": [
        "**Evaluating the Network**"
      ]
    },
    {
      "cell_type": "code",
      "metadata": {
        "colab": {
          "base_uri": "https://localhost:8080/"
        },
        "id": "StnRq2ahghL3",
        "outputId": "07422301-c632-402f-8f95-7069a3ee0147"
      },
      "source": [
        "test_loss_score, test_acc_score=model.evaluate(test_data, test_labels)"
      ],
      "execution_count": 59,
      "outputs": [
        {
          "output_type": "stream",
          "text": [
            "10/10 [==============================] - 0s 2ms/step - loss: 0.2116 - accuracy: 0.9695\n"
          ],
          "name": "stdout"
        }
      ]
    },
    {
      "cell_type": "code",
      "metadata": {
        "colab": {
          "base_uri": "https://localhost:8080/"
        },
        "id": "YHZhGjD02dN4",
        "outputId": "33a7fc1c-cf14-4039-a2bf-5e62c2a53fe6"
      },
      "source": [
        "test_acc_score *100"
      ],
      "execution_count": 60,
      "outputs": [
        {
          "output_type": "execute_result",
          "data": {
            "text/plain": [
              "96.94915413856506"
            ]
          },
          "metadata": {
            "tags": []
          },
          "execution_count": 60
        }
      ]
    },
    {
      "cell_type": "markdown",
      "metadata": {
        "id": "X4PJkc9rhBnI"
      },
      "source": [
        "**Predicting the values**"
      ]
    },
    {
      "cell_type": "code",
      "metadata": {
        "id": "ar4XTcgrhDpi",
        "colab": {
          "base_uri": "https://localhost:8080/"
        },
        "outputId": "34a7cbd9-9b2b-47d1-90a7-a593750b4500"
      },
      "source": [
        "prediction=model.predict(test_data)\n",
        "pred_norm =np.where(prediction>.5, 1, 0)\n",
        "\n",
        "pred_norm[:10].T"
      ],
      "execution_count": 61,
      "outputs": [
        {
          "output_type": "execute_result",
          "data": {
            "text/plain": [
              "array([[1, 1, 0, 0, 0, 1, 1, 0, 0, 0]])"
            ]
          },
          "metadata": {
            "tags": []
          },
          "execution_count": 61
        }
      ]
    },
    {
      "cell_type": "code",
      "metadata": {
        "colab": {
          "base_uri": "https://localhost:8080/"
        },
        "id": "bRV-33bTcGnj",
        "outputId": "6b3ab286-734c-4fb7-ee63-0c24fcfb76b6"
      },
      "source": [
        "prediction[:10].T"
      ],
      "execution_count": 62,
      "outputs": [
        {
          "output_type": "execute_result",
          "data": {
            "text/plain": [
              "array([[1.        , 0.9417252 , 0.36981192, 0.30721653, 0.03670734,\n",
              "        1.        , 0.5778934 , 0.08760777, 0.08713591, 0.0630554 ]],\n",
              "      dtype=float32)"
            ]
          },
          "metadata": {
            "tags": []
          },
          "execution_count": 62
        }
      ]
    },
    {
      "cell_type": "code",
      "metadata": {
        "id": "JXLs5o3BhHBm"
      },
      "source": [
        "test_labels[:].astype(dtype=\"int\")"
      ],
      "execution_count": null,
      "outputs": []
    },
    {
      "cell_type": "code",
      "metadata": {
        "id": "F9srhXkIkmOl"
      },
      "source": [
        "pred_check =pred_norm[:].T.astype(dtype=\"int\")"
      ],
      "execution_count": 64,
      "outputs": []
    },
    {
      "cell_type": "code",
      "metadata": {
        "id": "G5ZTbC1khk5k"
      },
      "source": [
        "c = pred_check.size"
      ],
      "execution_count": 70,
      "outputs": []
    },
    {
      "cell_type": "code",
      "metadata": {
        "id": "ST4zlthJhoEu"
      },
      "source": [
        "comapre_pred_test = test_labels == pred_check"
      ],
      "execution_count": 66,
      "outputs": []
    },
    {
      "cell_type": "code",
      "metadata": {
        "id": "0-bm2f7Lh141"
      },
      "source": [
        "a = comapre_pred_test[comapre_pred_test[:]== False].size"
      ],
      "execution_count": 71,
      "outputs": []
    },
    {
      "cell_type": "code",
      "metadata": {
        "id": "_PNULlcph4n9"
      },
      "source": [
        "b = comapre_pred_test[comapre_pred_test[:]==True].size"
      ],
      "execution_count": 72,
      "outputs": []
    },
    {
      "cell_type": "code",
      "metadata": {
        "colab": {
          "base_uri": "https://localhost:8080/"
        },
        "id": "-FGuqz4SihP9",
        "outputId": "76723f8d-45ed-4750-a2e1-4a8b77e71d34"
      },
      "source": [
        "print(\"Incorrect Predictions are:\", a, \"and Correct predictions are :\", b, \" the percentage is:\", round((b/c)*100,2), \"%\"  )"
      ],
      "execution_count": 69,
      "outputs": [
        {
          "output_type": "stream",
          "text": [
            "Incorrect Predictions are: 9 and Correct predictions are : 286  the percentage is: 96.95 %\n"
          ],
          "name": "stdout"
        }
      ]
    }
  ]
}