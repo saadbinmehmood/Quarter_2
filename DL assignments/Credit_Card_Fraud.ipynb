{
  "nbformat": 4,
  "nbformat_minor": 0,
  "metadata": {
    "colab": {
      "name": "Credit Card Fraud.ipynb",
      "provenance": [],
      "collapsed_sections": []
    },
    "kernelspec": {
      "name": "python3",
      "display_name": "Python 3"
    }
  },
  "cells": [
    {
      "cell_type": "code",
      "metadata": {
        "id": "iBLYoxFawYRa"
      },
      "source": [
        "import tensorflow as tf\n",
        "import pandas as pd\n",
        "import numpy as np\n",
        "import matplotlib.pyplot as plt\n",
        "from keras import models\n",
        "from keras import layers\n",
        "import zipfile\n",
        "from keras import regularizers"
      ],
      "execution_count": 1,
      "outputs": []
    },
    {
      "cell_type": "code",
      "metadata": {
        "colab": {
          "base_uri": "https://localhost:8080/"
        },
        "id": "FW9PfDmcW62f",
        "outputId": "9e738296-4e30-4dd9-976f-0c63ba9fb6a3"
      },
      "source": [
        "from google.colab import drive\n",
        "drive.mount(\"/content/drive\")"
      ],
      "execution_count": 2,
      "outputs": [
        {
          "output_type": "stream",
          "text": [
            "Mounted at /content/drive\n"
          ],
          "name": "stdout"
        }
      ]
    },
    {
      "cell_type": "code",
      "metadata": {
        "id": "j8K1EFddW-A4"
      },
      "source": [
        "local_zip = \"/content/drive/MyDrive/creditcard.zip\"\n",
        "zip_ref = zipfile.ZipFile(local_zip, \"r\")\n",
        "zip_ref.extractall(\"/credit_card\")\n",
        "zip_ref.close()"
      ],
      "execution_count": 3,
      "outputs": []
    },
    {
      "cell_type": "code",
      "metadata": {
        "id": "nwUm-9oKX5wl"
      },
      "source": [
        "df = pd.read_csv(\"/credit_card/creditcard.csv\")"
      ],
      "execution_count": 85,
      "outputs": []
    },
    {
      "cell_type": "markdown",
      "metadata": {
        "id": "J7iigCcgp4cd"
      },
      "source": [
        "**Balancing the data**"
      ]
    },
    {
      "cell_type": "code",
      "metadata": {
        "colab": {
          "base_uri": "https://localhost:8080/"
        },
        "id": "gpH6yaI8p-Xj",
        "outputId": "5cff421c-f42c-43ad-fe6f-68b22c2cde1b"
      },
      "source": [
        "non_fraud=df[df[\"Class\"]==0]\n",
        "fraud = df[df[\"Class\"]==1]\n",
        "non_fraud.shape, fraud.shape"
      ],
      "execution_count": 86,
      "outputs": [
        {
          "output_type": "execute_result",
          "data": {
            "text/plain": [
              "((284315, 31), (492, 31))"
            ]
          },
          "metadata": {
            "tags": []
          },
          "execution_count": 86
        }
      ]
    },
    {
      "cell_type": "code",
      "metadata": {
        "colab": {
          "base_uri": "https://localhost:8080/"
        },
        "id": "UHkdJfAWqkG0",
        "outputId": "6a5f70a8-8397-4557-8102-a1955a1dce8f"
      },
      "source": [
        "non_fraud=non_fraud.sample(fraud.shape[0])\n",
        "non_fraud.shape"
      ],
      "execution_count": 87,
      "outputs": [
        {
          "output_type": "execute_result",
          "data": {
            "text/plain": [
              "(492, 31)"
            ]
          },
          "metadata": {
            "tags": []
          },
          "execution_count": 87
        }
      ]
    },
    {
      "cell_type": "code",
      "metadata": {
        "colab": {
          "base_uri": "https://localhost:8080/"
        },
        "id": "_rXeRez9rx18",
        "outputId": "8a35a04a-9707-4903-dbfb-83974024a599"
      },
      "source": [
        "data = fraud.append(non_fraud, ignore_index=True)\n",
        "data.shape\n",
        "data[\"Class\"].value_counts()"
      ],
      "execution_count": 88,
      "outputs": [
        {
          "output_type": "execute_result",
          "data": {
            "text/plain": [
              "1    492\n",
              "0    492\n",
              "Name: Class, dtype: int64"
            ]
          },
          "metadata": {
            "tags": []
          },
          "execution_count": 88
        }
      ]
    },
    {
      "cell_type": "code",
      "metadata": {
        "id": "_g2O7ndPsiMf"
      },
      "source": [
        "x_data= data.drop(columns=[\"Class\", \"Time\"], axis=0)\n",
        "label = data[\"Class\"]"
      ],
      "execution_count": 89,
      "outputs": []
    },
    {
      "cell_type": "markdown",
      "metadata": {
        "id": "Bl2vhLJbcgPB"
      },
      "source": [
        "**Splitting Training and Test data**"
      ]
    },
    {
      "cell_type": "code",
      "metadata": {
        "id": "4u2NSBUnJhDn"
      },
      "source": [
        "x_data = data.sample(frac=1) # Shuffling the data\n",
        "train_data_full= x_data.iloc[:689,:]\n",
        "test_data_full = x_data.iloc[689:, :]\n",
        "train_data = train_data_full.iloc[:, :-1]\n",
        "train_labels = train_data_full.iloc[:, -1]\n",
        "test_data = test_data_full.iloc[:, :-1]\n",
        "test_labels = test_data_full.iloc[:, -1]"
      ],
      "execution_count": 134,
      "outputs": []
    },
    {
      "cell_type": "code",
      "metadata": {
        "colab": {
          "base_uri": "https://localhost:8080/"
        },
        "id": "x4e9DZ2QJhXH",
        "outputId": "c7bd9528-b0ef-4e77-efda-21a6c9f405db"
      },
      "source": [
        "print(train_data.shape)\n",
        "print(test_data.shape)\n",
        "print(train_labels.shape)\n",
        "print(test_labels.shape)"
      ],
      "execution_count": 135,
      "outputs": [
        {
          "output_type": "stream",
          "text": [
            "(689, 30)\n",
            "(295, 30)\n",
            "(689,)\n",
            "(295,)\n"
          ],
          "name": "stdout"
        }
      ]
    },
    {
      "cell_type": "markdown",
      "metadata": {
        "id": "N2IjHw9-vr8R"
      },
      "source": [
        "**Normalizing the data**"
      ]
    },
    {
      "cell_type": "code",
      "metadata": {
        "id": "MB7LfmwN-TaE"
      },
      "source": [
        "mean = train_data.mean(axis=0)\n",
        "train_data -=mean\n",
        "std =train_data.std(axis=0)\n",
        "train_data /=std\n",
        "\n",
        "test_data -=mean\n",
        "test_data /=std"
      ],
      "execution_count": 137,
      "outputs": []
    },
    {
      "cell_type": "code",
      "metadata": {
        "id": "ml_bHaukvCq1"
      },
      "source": [
        "train_labels=np.asarray(train_labels).astype(dtype=\"float64\")\n",
        "test_labels=np.asarray(test_labels).astype(dtype=\"float64\")"
      ],
      "execution_count": 138,
      "outputs": []
    },
    {
      "cell_type": "markdown",
      "metadata": {
        "id": "46HRquJwfVet"
      },
      "source": [
        "**Building The Network**"
      ]
    },
    {
      "cell_type": "code",
      "metadata": {
        "id": "OZRtGjkB-ecD"
      },
      "source": [
        "def build_model():\n",
        "  model= models.Sequential()\n",
        "  model.add(layers.Dense(10, kernel_regularizer=regularizers.l1_l2(l1=0.001, l2=0.002), activation=\"relu\", input_shape=(train_data.shape[1],)))\n",
        "  model.add(layers.Dense(10, kernel_regularizer=regularizers.l1_l2(l1=0.001, l2=0.002), activation=\"relu\"))\n",
        "  model.add(layers.Dense(8,kernel_regularizer=regularizers.l1_l2(l1=0.001, l2=0.002), activation=\"relu\"))\n",
        "  model.add(layers.Dense(6,kernel_regularizer=regularizers.l1_l2(l1=0.001, l2=0.002), activation=\"relu\"))\n",
        "  model.add(layers.Dense(1,activation=\"sigmoid\"))\n",
        "  model.compile(optimizer=\"rmsprop\", loss=\"binary_crossentropy\", metrics=[\"accuracy\"])\n",
        "  return model"
      ],
      "execution_count": 140,
      "outputs": []
    },
    {
      "cell_type": "markdown",
      "metadata": {
        "id": "OsWj4swa-1c4"
      },
      "source": [
        "**K Fold Validation**"
      ]
    },
    {
      "cell_type": "code",
      "metadata": {
        "colab": {
          "base_uri": "https://localhost:8080/"
        },
        "id": "AtdAWGIM-5yo",
        "outputId": "6750be93-5e95-48e1-a038-db2c51beca29"
      },
      "source": [
        "k= 5\n",
        "num_val_sample = len(train_data) // k\n",
        "num_epochs = 40\n",
        "all_scores = []\n",
        "all_val_loss_histories = []\n",
        "all_val_acc_histories = []\n",
        "all_loss_histories =[]\n",
        "all_acc_histories = []\n",
        "\n",
        "for i in range(k):\n",
        "  print(\"processing fold #\",i)\n",
        "  val_data = train_data[i*num_val_sample:(i+1)*num_val_sample]\n",
        "  val_labels = train_labels[i*num_val_sample: (i+1)*num_val_sample]\n",
        "\n",
        "  partial_train_data=np.concatenate([train_data[:i*num_val_sample], train_data[(i+1)*num_val_sample:]], axis=0)\n",
        "  partial_train_labels=np.concatenate([train_labels[:i*num_val_sample], train_labels[(i+1)*num_val_sample:]], axis=0)\n",
        "\n",
        "  model=build_model()\n",
        "  history = model.fit(partial_train_data, partial_train_labels, validation_data = (val_data, val_labels), epochs= num_epochs, verbose=1)\n",
        "  val_loss, val_acc = model.evaluate(test_data, test_labels, verbose=0)\n",
        "  val_loss_history = history.history[\"val_loss\"]\n",
        "  val_acc_history = history.history[\"val_accuracy\"]\n",
        "  loss_history = history.history[\"loss\"]\n",
        "  acc_history = history.history[\"accuracy\"]\n",
        "  all_loss_histories.append(loss_history)\n",
        "  all_acc_histories.append(acc_history)\n",
        "  all_val_loss_histories.append(val_loss_history)\n",
        "  all_val_acc_histories.append(val_acc_history)\n",
        "  all_scores.append(val_acc)\n",
        "ave_val_loss_hist = [np.mean([x[i] for x in all_val_loss_histories]) for i in range(num_epochs)]\n",
        "ave_loss_hist = [np.mean([x[i] for x in all_loss_histories]) for i in range(num_epochs)]\n",
        "ave_val_acc_hist = [np.mean([x[i] for x in all_val_acc_histories]) for i in range(num_epochs)]\n",
        "ave_acc_hist = [np.mean([x[i] for x in all_acc_histories]) for i in range(num_epochs)]\n",
        "print(\"All Accuracy values evaluated by teh Model are given below:\")\n",
        "all_scores"
      ],
      "execution_count": 141,
      "outputs": [
        {
          "output_type": "stream",
          "text": [
            "processing fold # 0\n",
            "Epoch 1/40\n",
            "18/18 [==============================] - 1s 18ms/step - loss: 0.8760 - accuracy: 0.5340 - val_loss: 0.8407 - val_accuracy: 0.6642\n",
            "Epoch 2/40\n",
            "18/18 [==============================] - 0s 4ms/step - loss: 0.8216 - accuracy: 0.7311 - val_loss: 0.8000 - val_accuracy: 0.8029\n",
            "Epoch 3/40\n",
            "18/18 [==============================] - 0s 5ms/step - loss: 0.7923 - accuracy: 0.8081 - val_loss: 0.7608 - val_accuracy: 0.8540\n",
            "Epoch 4/40\n",
            "18/18 [==============================] - 0s 4ms/step - loss: 0.7745 - accuracy: 0.8152 - val_loss: 0.7218 - val_accuracy: 0.8759\n",
            "Epoch 5/40\n",
            "18/18 [==============================] - 0s 4ms/step - loss: 0.7111 - accuracy: 0.8604 - val_loss: 0.6794 - val_accuracy: 0.8905\n",
            "Epoch 6/40\n",
            "18/18 [==============================] - 0s 4ms/step - loss: 0.6896 - accuracy: 0.8534 - val_loss: 0.6344 - val_accuracy: 0.9051\n",
            "Epoch 7/40\n",
            "18/18 [==============================] - 0s 4ms/step - loss: 0.6302 - accuracy: 0.8715 - val_loss: 0.5819 - val_accuracy: 0.9051\n",
            "Epoch 8/40\n",
            "18/18 [==============================] - 0s 4ms/step - loss: 0.5932 - accuracy: 0.8802 - val_loss: 0.5293 - val_accuracy: 0.9124\n",
            "Epoch 9/40\n",
            "18/18 [==============================] - 0s 4ms/step - loss: 0.5394 - accuracy: 0.8852 - val_loss: 0.4843 - val_accuracy: 0.9124\n",
            "Epoch 10/40\n",
            "18/18 [==============================] - 0s 5ms/step - loss: 0.4817 - accuracy: 0.9075 - val_loss: 0.4464 - val_accuracy: 0.9197\n",
            "Epoch 11/40\n",
            "18/18 [==============================] - 0s 4ms/step - loss: 0.4530 - accuracy: 0.9143 - val_loss: 0.4192 - val_accuracy: 0.9270\n",
            "Epoch 12/40\n",
            "18/18 [==============================] - 0s 4ms/step - loss: 0.4399 - accuracy: 0.9014 - val_loss: 0.3977 - val_accuracy: 0.9343\n",
            "Epoch 13/40\n",
            "18/18 [==============================] - 0s 4ms/step - loss: 0.3850 - accuracy: 0.9178 - val_loss: 0.3812 - val_accuracy: 0.9416\n",
            "Epoch 14/40\n",
            "18/18 [==============================] - 0s 4ms/step - loss: 0.3818 - accuracy: 0.9180 - val_loss: 0.3650 - val_accuracy: 0.9270\n",
            "Epoch 15/40\n",
            "18/18 [==============================] - 0s 4ms/step - loss: 0.3674 - accuracy: 0.9248 - val_loss: 0.3540 - val_accuracy: 0.9270\n",
            "Epoch 16/40\n",
            "18/18 [==============================] - 0s 5ms/step - loss: 0.3626 - accuracy: 0.9290 - val_loss: 0.3474 - val_accuracy: 0.9197\n",
            "Epoch 17/40\n",
            "18/18 [==============================] - 0s 4ms/step - loss: 0.3328 - accuracy: 0.9322 - val_loss: 0.3435 - val_accuracy: 0.9343\n",
            "Epoch 18/40\n",
            "18/18 [==============================] - 0s 4ms/step - loss: 0.3410 - accuracy: 0.9205 - val_loss: 0.3332 - val_accuracy: 0.9270\n",
            "Epoch 19/40\n",
            "18/18 [==============================] - 0s 4ms/step - loss: 0.3278 - accuracy: 0.9369 - val_loss: 0.3306 - val_accuracy: 0.9270\n",
            "Epoch 20/40\n",
            "18/18 [==============================] - 0s 4ms/step - loss: 0.2962 - accuracy: 0.9544 - val_loss: 0.3288 - val_accuracy: 0.9270\n",
            "Epoch 21/40\n",
            "18/18 [==============================] - 0s 4ms/step - loss: 0.2822 - accuracy: 0.9584 - val_loss: 0.3271 - val_accuracy: 0.9270\n",
            "Epoch 22/40\n",
            "18/18 [==============================] - 0s 4ms/step - loss: 0.3008 - accuracy: 0.9469 - val_loss: 0.3226 - val_accuracy: 0.9270\n",
            "Epoch 23/40\n",
            "18/18 [==============================] - 0s 4ms/step - loss: 0.3019 - accuracy: 0.9482 - val_loss: 0.3213 - val_accuracy: 0.9270\n",
            "Epoch 24/40\n",
            "18/18 [==============================] - 0s 4ms/step - loss: 0.2730 - accuracy: 0.9571 - val_loss: 0.3198 - val_accuracy: 0.9270\n",
            "Epoch 25/40\n",
            "18/18 [==============================] - 0s 4ms/step - loss: 0.2709 - accuracy: 0.9565 - val_loss: 0.3198 - val_accuracy: 0.9270\n",
            "Epoch 26/40\n",
            "18/18 [==============================] - 0s 4ms/step - loss: 0.2683 - accuracy: 0.9509 - val_loss: 0.3155 - val_accuracy: 0.9270\n",
            "Epoch 27/40\n",
            "18/18 [==============================] - 0s 4ms/step - loss: 0.2677 - accuracy: 0.9566 - val_loss: 0.3170 - val_accuracy: 0.9270\n",
            "Epoch 28/40\n",
            "18/18 [==============================] - 0s 4ms/step - loss: 0.2451 - accuracy: 0.9586 - val_loss: 0.3157 - val_accuracy: 0.9270\n",
            "Epoch 29/40\n",
            "18/18 [==============================] - 0s 4ms/step - loss: 0.2413 - accuracy: 0.9593 - val_loss: 0.3133 - val_accuracy: 0.9270\n",
            "Epoch 30/40\n",
            "18/18 [==============================] - 0s 4ms/step - loss: 0.2512 - accuracy: 0.9589 - val_loss: 0.3118 - val_accuracy: 0.9270\n",
            "Epoch 31/40\n",
            "18/18 [==============================] - 0s 4ms/step - loss: 0.2262 - accuracy: 0.9717 - val_loss: 0.3116 - val_accuracy: 0.9270\n",
            "Epoch 32/40\n",
            "18/18 [==============================] - 0s 4ms/step - loss: 0.2196 - accuracy: 0.9689 - val_loss: 0.3091 - val_accuracy: 0.9270\n",
            "Epoch 33/40\n",
            "18/18 [==============================] - 0s 5ms/step - loss: 0.2324 - accuracy: 0.9617 - val_loss: 0.3117 - val_accuracy: 0.9343\n",
            "Epoch 34/40\n",
            "18/18 [==============================] - 0s 4ms/step - loss: 0.2576 - accuracy: 0.9432 - val_loss: 0.3036 - val_accuracy: 0.9343\n",
            "Epoch 35/40\n",
            "18/18 [==============================] - 0s 5ms/step - loss: 0.2249 - accuracy: 0.9667 - val_loss: 0.3077 - val_accuracy: 0.9343\n",
            "Epoch 36/40\n",
            "18/18 [==============================] - 0s 4ms/step - loss: 0.2360 - accuracy: 0.9605 - val_loss: 0.3021 - val_accuracy: 0.9270\n",
            "Epoch 37/40\n",
            "18/18 [==============================] - 0s 4ms/step - loss: 0.2477 - accuracy: 0.9510 - val_loss: 0.3032 - val_accuracy: 0.9343\n",
            "Epoch 38/40\n",
            "18/18 [==============================] - 0s 4ms/step - loss: 0.2450 - accuracy: 0.9540 - val_loss: 0.3026 - val_accuracy: 0.9343\n",
            "Epoch 39/40\n",
            "18/18 [==============================] - 0s 5ms/step - loss: 0.2365 - accuracy: 0.9598 - val_loss: 0.3042 - val_accuracy: 0.9343\n",
            "Epoch 40/40\n",
            "18/18 [==============================] - 0s 4ms/step - loss: 0.2246 - accuracy: 0.9582 - val_loss: 0.3030 - val_accuracy: 0.9343\n",
            "processing fold # 1\n",
            "Epoch 1/40\n",
            "18/18 [==============================] - 1s 19ms/step - loss: 0.8484 - accuracy: 0.6687 - val_loss: 0.7919 - val_accuracy: 0.7591\n",
            "Epoch 2/40\n",
            "18/18 [==============================] - 0s 4ms/step - loss: 0.8067 - accuracy: 0.7610 - val_loss: 0.7391 - val_accuracy: 0.8175\n",
            "Epoch 3/40\n",
            "18/18 [==============================] - 0s 5ms/step - loss: 0.7484 - accuracy: 0.8421 - val_loss: 0.6979 - val_accuracy: 0.8321\n",
            "Epoch 4/40\n",
            "18/18 [==============================] - 0s 4ms/step - loss: 0.7194 - accuracy: 0.8355 - val_loss: 0.6595 - val_accuracy: 0.8613\n",
            "Epoch 5/40\n",
            "18/18 [==============================] - 0s 4ms/step - loss: 0.6690 - accuracy: 0.8607 - val_loss: 0.6194 - val_accuracy: 0.8686\n",
            "Epoch 6/40\n",
            "18/18 [==============================] - 0s 4ms/step - loss: 0.6370 - accuracy: 0.8529 - val_loss: 0.5787 - val_accuracy: 0.8832\n",
            "Epoch 7/40\n",
            "18/18 [==============================] - 0s 4ms/step - loss: 0.5871 - accuracy: 0.8706 - val_loss: 0.5342 - val_accuracy: 0.9051\n",
            "Epoch 8/40\n",
            "18/18 [==============================] - 0s 4ms/step - loss: 0.5453 - accuracy: 0.8707 - val_loss: 0.4939 - val_accuracy: 0.9051\n",
            "Epoch 9/40\n",
            "18/18 [==============================] - 0s 4ms/step - loss: 0.5110 - accuracy: 0.8787 - val_loss: 0.4623 - val_accuracy: 0.9051\n",
            "Epoch 10/40\n",
            "18/18 [==============================] - 0s 4ms/step - loss: 0.4951 - accuracy: 0.8755 - val_loss: 0.4361 - val_accuracy: 0.9124\n",
            "Epoch 11/40\n",
            "18/18 [==============================] - 0s 4ms/step - loss: 0.4622 - accuracy: 0.8963 - val_loss: 0.4132 - val_accuracy: 0.9197\n",
            "Epoch 12/40\n",
            "18/18 [==============================] - 0s 4ms/step - loss: 0.4184 - accuracy: 0.9092 - val_loss: 0.3945 - val_accuracy: 0.9197\n",
            "Epoch 13/40\n",
            "18/18 [==============================] - 0s 4ms/step - loss: 0.4274 - accuracy: 0.9001 - val_loss: 0.3760 - val_accuracy: 0.9197\n",
            "Epoch 14/40\n",
            "18/18 [==============================] - 0s 4ms/step - loss: 0.3669 - accuracy: 0.9376 - val_loss: 0.3673 - val_accuracy: 0.9270\n",
            "Epoch 15/40\n",
            "18/18 [==============================] - 0s 5ms/step - loss: 0.3939 - accuracy: 0.9281 - val_loss: 0.3519 - val_accuracy: 0.9343\n",
            "Epoch 16/40\n",
            "18/18 [==============================] - 0s 5ms/step - loss: 0.3691 - accuracy: 0.9339 - val_loss: 0.3414 - val_accuracy: 0.9343\n",
            "Epoch 17/40\n",
            "18/18 [==============================] - 0s 4ms/step - loss: 0.3481 - accuracy: 0.9469 - val_loss: 0.3312 - val_accuracy: 0.9416\n",
            "Epoch 18/40\n",
            "18/18 [==============================] - 0s 4ms/step - loss: 0.3396 - accuracy: 0.9451 - val_loss: 0.3229 - val_accuracy: 0.9343\n",
            "Epoch 19/40\n",
            "18/18 [==============================] - 0s 4ms/step - loss: 0.3565 - accuracy: 0.9335 - val_loss: 0.3168 - val_accuracy: 0.9416\n",
            "Epoch 20/40\n",
            "18/18 [==============================] - 0s 4ms/step - loss: 0.3556 - accuracy: 0.9369 - val_loss: 0.3102 - val_accuracy: 0.9489\n",
            "Epoch 21/40\n",
            "18/18 [==============================] - 0s 4ms/step - loss: 0.3239 - accuracy: 0.9422 - val_loss: 0.3050 - val_accuracy: 0.9489\n",
            "Epoch 22/40\n",
            "18/18 [==============================] - 0s 4ms/step - loss: 0.3220 - accuracy: 0.9371 - val_loss: 0.3008 - val_accuracy: 0.9489\n",
            "Epoch 23/40\n",
            "18/18 [==============================] - 0s 5ms/step - loss: 0.3312 - accuracy: 0.9417 - val_loss: 0.2945 - val_accuracy: 0.9489\n",
            "Epoch 24/40\n",
            "18/18 [==============================] - 0s 4ms/step - loss: 0.2850 - accuracy: 0.9530 - val_loss: 0.2915 - val_accuracy: 0.9416\n",
            "Epoch 25/40\n",
            "18/18 [==============================] - 0s 4ms/step - loss: 0.2904 - accuracy: 0.9533 - val_loss: 0.2883 - val_accuracy: 0.9416\n",
            "Epoch 26/40\n",
            "18/18 [==============================] - 0s 4ms/step - loss: 0.2915 - accuracy: 0.9492 - val_loss: 0.2849 - val_accuracy: 0.9416\n",
            "Epoch 27/40\n",
            "18/18 [==============================] - 0s 4ms/step - loss: 0.2905 - accuracy: 0.9526 - val_loss: 0.2826 - val_accuracy: 0.9489\n",
            "Epoch 28/40\n",
            "18/18 [==============================] - 0s 4ms/step - loss: 0.2630 - accuracy: 0.9655 - val_loss: 0.2795 - val_accuracy: 0.9489\n",
            "Epoch 29/40\n",
            "18/18 [==============================] - 0s 5ms/step - loss: 0.2973 - accuracy: 0.9445 - val_loss: 0.2764 - val_accuracy: 0.9416\n",
            "Epoch 30/40\n",
            "18/18 [==============================] - 0s 5ms/step - loss: 0.2849 - accuracy: 0.9542 - val_loss: 0.2743 - val_accuracy: 0.9562\n",
            "Epoch 31/40\n",
            "18/18 [==============================] - 0s 4ms/step - loss: 0.2680 - accuracy: 0.9571 - val_loss: 0.2726 - val_accuracy: 0.9562\n",
            "Epoch 32/40\n",
            "18/18 [==============================] - 0s 4ms/step - loss: 0.2767 - accuracy: 0.9395 - val_loss: 0.2711 - val_accuracy: 0.9562\n",
            "Epoch 33/40\n",
            "18/18 [==============================] - 0s 4ms/step - loss: 0.2670 - accuracy: 0.9511 - val_loss: 0.2679 - val_accuracy: 0.9489\n",
            "Epoch 34/40\n",
            "18/18 [==============================] - 0s 4ms/step - loss: 0.2826 - accuracy: 0.9380 - val_loss: 0.2669 - val_accuracy: 0.9562\n",
            "Epoch 35/40\n",
            "18/18 [==============================] - 0s 4ms/step - loss: 0.2525 - accuracy: 0.9479 - val_loss: 0.2650 - val_accuracy: 0.9489\n",
            "Epoch 36/40\n",
            "18/18 [==============================] - 0s 4ms/step - loss: 0.2643 - accuracy: 0.9596 - val_loss: 0.2627 - val_accuracy: 0.9562\n",
            "Epoch 37/40\n",
            "18/18 [==============================] - 0s 4ms/step - loss: 0.2315 - accuracy: 0.9713 - val_loss: 0.2683 - val_accuracy: 0.9489\n",
            "Epoch 38/40\n",
            "18/18 [==============================] - 0s 4ms/step - loss: 0.2314 - accuracy: 0.9721 - val_loss: 0.2618 - val_accuracy: 0.9562\n",
            "Epoch 39/40\n",
            "18/18 [==============================] - 0s 5ms/step - loss: 0.2472 - accuracy: 0.9564 - val_loss: 0.2600 - val_accuracy: 0.9562\n",
            "Epoch 40/40\n",
            "18/18 [==============================] - 0s 4ms/step - loss: 0.2578 - accuracy: 0.9583 - val_loss: 0.2609 - val_accuracy: 0.9489\n",
            "processing fold # 2\n",
            "Epoch 1/40\n",
            "18/18 [==============================] - 2s 18ms/step - loss: 0.8662 - accuracy: 0.7310 - val_loss: 0.8136 - val_accuracy: 0.8029\n",
            "Epoch 2/40\n",
            "18/18 [==============================] - 0s 4ms/step - loss: 0.7967 - accuracy: 0.8029 - val_loss: 0.7428 - val_accuracy: 0.8321\n",
            "Epoch 3/40\n",
            "18/18 [==============================] - 0s 4ms/step - loss: 0.6946 - accuracy: 0.8706 - val_loss: 0.6611 - val_accuracy: 0.8832\n",
            "Epoch 4/40\n",
            "18/18 [==============================] - 0s 4ms/step - loss: 0.6501 - accuracy: 0.8643 - val_loss: 0.6055 - val_accuracy: 0.8759\n",
            "Epoch 5/40\n",
            "18/18 [==============================] - 0s 4ms/step - loss: 0.6037 - accuracy: 0.8667 - val_loss: 0.5549 - val_accuracy: 0.8759\n",
            "Epoch 6/40\n",
            "18/18 [==============================] - 0s 4ms/step - loss: 0.5634 - accuracy: 0.8698 - val_loss: 0.5160 - val_accuracy: 0.8832\n",
            "Epoch 7/40\n",
            "18/18 [==============================] - 0s 4ms/step - loss: 0.5199 - accuracy: 0.8911 - val_loss: 0.4749 - val_accuracy: 0.9197\n",
            "Epoch 8/40\n",
            "18/18 [==============================] - 0s 4ms/step - loss: 0.4565 - accuracy: 0.9164 - val_loss: 0.4451 - val_accuracy: 0.9197\n",
            "Epoch 9/40\n",
            "18/18 [==============================] - 0s 4ms/step - loss: 0.4276 - accuracy: 0.9276 - val_loss: 0.4155 - val_accuracy: 0.9270\n",
            "Epoch 10/40\n",
            "18/18 [==============================] - 0s 4ms/step - loss: 0.4303 - accuracy: 0.9249 - val_loss: 0.3953 - val_accuracy: 0.9343\n",
            "Epoch 11/40\n",
            "18/18 [==============================] - 0s 4ms/step - loss: 0.4155 - accuracy: 0.9218 - val_loss: 0.3788 - val_accuracy: 0.9343\n",
            "Epoch 12/40\n",
            "18/18 [==============================] - 0s 4ms/step - loss: 0.3852 - accuracy: 0.9446 - val_loss: 0.3601 - val_accuracy: 0.9416\n",
            "Epoch 13/40\n",
            "18/18 [==============================] - 0s 4ms/step - loss: 0.3739 - accuracy: 0.9384 - val_loss: 0.3506 - val_accuracy: 0.9416\n",
            "Epoch 14/40\n",
            "18/18 [==============================] - 0s 4ms/step - loss: 0.3489 - accuracy: 0.9532 - val_loss: 0.3430 - val_accuracy: 0.9416\n",
            "Epoch 15/40\n",
            "18/18 [==============================] - 0s 4ms/step - loss: 0.3451 - accuracy: 0.9517 - val_loss: 0.3352 - val_accuracy: 0.9416\n",
            "Epoch 16/40\n",
            "18/18 [==============================] - 0s 4ms/step - loss: 0.3633 - accuracy: 0.9378 - val_loss: 0.3276 - val_accuracy: 0.9489\n",
            "Epoch 17/40\n",
            "18/18 [==============================] - 0s 5ms/step - loss: 0.3350 - accuracy: 0.9465 - val_loss: 0.3205 - val_accuracy: 0.9489\n",
            "Epoch 18/40\n",
            "18/18 [==============================] - 0s 4ms/step - loss: 0.3351 - accuracy: 0.9429 - val_loss: 0.3098 - val_accuracy: 0.9489\n",
            "Epoch 19/40\n",
            "18/18 [==============================] - 0s 4ms/step - loss: 0.3603 - accuracy: 0.9363 - val_loss: 0.2985 - val_accuracy: 0.9562\n",
            "Epoch 20/40\n",
            "18/18 [==============================] - 0s 4ms/step - loss: 0.3185 - accuracy: 0.9503 - val_loss: 0.2966 - val_accuracy: 0.9562\n",
            "Epoch 21/40\n",
            "18/18 [==============================] - 0s 4ms/step - loss: 0.3031 - accuracy: 0.9453 - val_loss: 0.2877 - val_accuracy: 0.9562\n",
            "Epoch 22/40\n",
            "18/18 [==============================] - 0s 5ms/step - loss: 0.3327 - accuracy: 0.9359 - val_loss: 0.2819 - val_accuracy: 0.9562\n",
            "Epoch 23/40\n",
            "18/18 [==============================] - 0s 4ms/step - loss: 0.2807 - accuracy: 0.9598 - val_loss: 0.2709 - val_accuracy: 0.9562\n",
            "Epoch 24/40\n",
            "18/18 [==============================] - 0s 4ms/step - loss: 0.3284 - accuracy: 0.9402 - val_loss: 0.2783 - val_accuracy: 0.9562\n",
            "Epoch 25/40\n",
            "18/18 [==============================] - 0s 4ms/step - loss: 0.2993 - accuracy: 0.9502 - val_loss: 0.2652 - val_accuracy: 0.9635\n",
            "Epoch 26/40\n",
            "18/18 [==============================] - 0s 4ms/step - loss: 0.3236 - accuracy: 0.9399 - val_loss: 0.2641 - val_accuracy: 0.9562\n",
            "Epoch 27/40\n",
            "18/18 [==============================] - 0s 4ms/step - loss: 0.2698 - accuracy: 0.9631 - val_loss: 0.2532 - val_accuracy: 0.9635\n",
            "Epoch 28/40\n",
            "18/18 [==============================] - 0s 4ms/step - loss: 0.2892 - accuracy: 0.9506 - val_loss: 0.2534 - val_accuracy: 0.9635\n",
            "Epoch 29/40\n",
            "18/18 [==============================] - 0s 4ms/step - loss: 0.2850 - accuracy: 0.9533 - val_loss: 0.2589 - val_accuracy: 0.9562\n",
            "Epoch 30/40\n",
            "18/18 [==============================] - 0s 5ms/step - loss: 0.2731 - accuracy: 0.9551 - val_loss: 0.2461 - val_accuracy: 0.9635\n",
            "Epoch 31/40\n",
            "18/18 [==============================] - 0s 4ms/step - loss: 0.2770 - accuracy: 0.9607 - val_loss: 0.2400 - val_accuracy: 0.9635\n",
            "Epoch 32/40\n",
            "18/18 [==============================] - 0s 4ms/step - loss: 0.2922 - accuracy: 0.9523 - val_loss: 0.2377 - val_accuracy: 0.9635\n",
            "Epoch 33/40\n",
            "18/18 [==============================] - 0s 5ms/step - loss: 0.2942 - accuracy: 0.9425 - val_loss: 0.2351 - val_accuracy: 0.9635\n",
            "Epoch 34/40\n",
            "18/18 [==============================] - 0s 4ms/step - loss: 0.2626 - accuracy: 0.9636 - val_loss: 0.2290 - val_accuracy: 0.9635\n",
            "Epoch 35/40\n",
            "18/18 [==============================] - 0s 4ms/step - loss: 0.2535 - accuracy: 0.9595 - val_loss: 0.2277 - val_accuracy: 0.9635\n",
            "Epoch 36/40\n",
            "18/18 [==============================] - 0s 4ms/step - loss: 0.2534 - accuracy: 0.9623 - val_loss: 0.2241 - val_accuracy: 0.9635\n",
            "Epoch 37/40\n",
            "18/18 [==============================] - 0s 4ms/step - loss: 0.2525 - accuracy: 0.9604 - val_loss: 0.2239 - val_accuracy: 0.9635\n",
            "Epoch 38/40\n",
            "18/18 [==============================] - 0s 4ms/step - loss: 0.2634 - accuracy: 0.9548 - val_loss: 0.2175 - val_accuracy: 0.9562\n",
            "Epoch 39/40\n",
            "18/18 [==============================] - 0s 5ms/step - loss: 0.2393 - accuracy: 0.9665 - val_loss: 0.2145 - val_accuracy: 0.9635\n",
            "Epoch 40/40\n",
            "18/18 [==============================] - 0s 5ms/step - loss: 0.2460 - accuracy: 0.9724 - val_loss: 0.2125 - val_accuracy: 0.9562\n",
            "processing fold # 3\n",
            "Epoch 1/40\n",
            "18/18 [==============================] - 1s 19ms/step - loss: 0.8479 - accuracy: 0.6302 - val_loss: 0.7986 - val_accuracy: 0.7591\n",
            "Epoch 2/40\n",
            "18/18 [==============================] - 0s 4ms/step - loss: 0.7731 - accuracy: 0.7605 - val_loss: 0.7347 - val_accuracy: 0.8175\n",
            "Epoch 3/40\n",
            "18/18 [==============================] - 0s 4ms/step - loss: 0.7066 - accuracy: 0.8410 - val_loss: 0.6742 - val_accuracy: 0.8540\n",
            "Epoch 4/40\n",
            "18/18 [==============================] - 0s 4ms/step - loss: 0.6575 - accuracy: 0.8203 - val_loss: 0.6135 - val_accuracy: 0.8540\n",
            "Epoch 5/40\n",
            "18/18 [==============================] - 0s 4ms/step - loss: 0.5739 - accuracy: 0.8826 - val_loss: 0.5648 - val_accuracy: 0.8613\n",
            "Epoch 6/40\n",
            "18/18 [==============================] - 0s 4ms/step - loss: 0.5526 - accuracy: 0.8687 - val_loss: 0.5239 - val_accuracy: 0.8686\n",
            "Epoch 7/40\n",
            "18/18 [==============================] - 0s 4ms/step - loss: 0.5122 - accuracy: 0.8840 - val_loss: 0.4963 - val_accuracy: 0.8759\n",
            "Epoch 8/40\n",
            "18/18 [==============================] - 0s 4ms/step - loss: 0.4809 - accuracy: 0.8951 - val_loss: 0.4756 - val_accuracy: 0.8832\n",
            "Epoch 9/40\n",
            "18/18 [==============================] - 0s 4ms/step - loss: 0.4464 - accuracy: 0.8962 - val_loss: 0.4576 - val_accuracy: 0.8978\n",
            "Epoch 10/40\n",
            "18/18 [==============================] - 0s 5ms/step - loss: 0.4216 - accuracy: 0.9099 - val_loss: 0.4394 - val_accuracy: 0.8978\n",
            "Epoch 11/40\n",
            "18/18 [==============================] - 0s 4ms/step - loss: 0.4333 - accuracy: 0.8973 - val_loss: 0.4272 - val_accuracy: 0.9051\n",
            "Epoch 12/40\n",
            "18/18 [==============================] - 0s 5ms/step - loss: 0.3671 - accuracy: 0.9322 - val_loss: 0.4150 - val_accuracy: 0.9124\n",
            "Epoch 13/40\n",
            "18/18 [==============================] - 0s 4ms/step - loss: 0.3916 - accuracy: 0.9243 - val_loss: 0.4047 - val_accuracy: 0.9197\n",
            "Epoch 14/40\n",
            "18/18 [==============================] - 0s 4ms/step - loss: 0.3663 - accuracy: 0.9233 - val_loss: 0.3961 - val_accuracy: 0.9124\n",
            "Epoch 15/40\n",
            "18/18 [==============================] - 0s 4ms/step - loss: 0.3499 - accuracy: 0.9320 - val_loss: 0.3889 - val_accuracy: 0.9270\n",
            "Epoch 16/40\n",
            "18/18 [==============================] - 0s 4ms/step - loss: 0.3529 - accuracy: 0.9380 - val_loss: 0.3830 - val_accuracy: 0.9197\n",
            "Epoch 17/40\n",
            "18/18 [==============================] - 0s 4ms/step - loss: 0.3177 - accuracy: 0.9501 - val_loss: 0.3785 - val_accuracy: 0.9124\n",
            "Epoch 18/40\n",
            "18/18 [==============================] - 0s 5ms/step - loss: 0.3242 - accuracy: 0.9390 - val_loss: 0.3728 - val_accuracy: 0.9197\n",
            "Epoch 19/40\n",
            "18/18 [==============================] - 0s 4ms/step - loss: 0.3105 - accuracy: 0.9413 - val_loss: 0.3707 - val_accuracy: 0.9197\n",
            "Epoch 20/40\n",
            "18/18 [==============================] - 0s 4ms/step - loss: 0.2979 - accuracy: 0.9508 - val_loss: 0.3657 - val_accuracy: 0.9270\n",
            "Epoch 21/40\n",
            "18/18 [==============================] - 0s 5ms/step - loss: 0.2793 - accuracy: 0.9551 - val_loss: 0.3640 - val_accuracy: 0.9197\n",
            "Epoch 22/40\n",
            "18/18 [==============================] - 0s 5ms/step - loss: 0.2655 - accuracy: 0.9571 - val_loss: 0.3607 - val_accuracy: 0.9197\n",
            "Epoch 23/40\n",
            "18/18 [==============================] - 0s 4ms/step - loss: 0.2964 - accuracy: 0.9465 - val_loss: 0.3550 - val_accuracy: 0.9270\n",
            "Epoch 24/40\n",
            "18/18 [==============================] - 0s 5ms/step - loss: 0.2915 - accuracy: 0.9383 - val_loss: 0.3542 - val_accuracy: 0.9197\n",
            "Epoch 25/40\n",
            "18/18 [==============================] - 0s 5ms/step - loss: 0.2755 - accuracy: 0.9453 - val_loss: 0.3517 - val_accuracy: 0.9270\n",
            "Epoch 26/40\n",
            "18/18 [==============================] - 0s 4ms/step - loss: 0.2781 - accuracy: 0.9438 - val_loss: 0.3483 - val_accuracy: 0.9270\n",
            "Epoch 27/40\n",
            "18/18 [==============================] - 0s 4ms/step - loss: 0.2693 - accuracy: 0.9481 - val_loss: 0.3486 - val_accuracy: 0.9197\n",
            "Epoch 28/40\n",
            "18/18 [==============================] - 0s 4ms/step - loss: 0.2830 - accuracy: 0.9360 - val_loss: 0.3441 - val_accuracy: 0.9270\n",
            "Epoch 29/40\n",
            "18/18 [==============================] - 0s 5ms/step - loss: 0.2312 - accuracy: 0.9607 - val_loss: 0.3418 - val_accuracy: 0.9270\n",
            "Epoch 30/40\n",
            "18/18 [==============================] - 0s 5ms/step - loss: 0.2410 - accuracy: 0.9586 - val_loss: 0.3403 - val_accuracy: 0.9270\n",
            "Epoch 31/40\n",
            "18/18 [==============================] - 0s 4ms/step - loss: 0.2395 - accuracy: 0.9625 - val_loss: 0.3373 - val_accuracy: 0.9343\n",
            "Epoch 32/40\n",
            "18/18 [==============================] - 0s 4ms/step - loss: 0.2394 - accuracy: 0.9499 - val_loss: 0.3367 - val_accuracy: 0.9343\n",
            "Epoch 33/40\n",
            "18/18 [==============================] - 0s 4ms/step - loss: 0.2494 - accuracy: 0.9396 - val_loss: 0.3362 - val_accuracy: 0.9343\n",
            "Epoch 34/40\n",
            "18/18 [==============================] - 0s 5ms/step - loss: 0.2466 - accuracy: 0.9458 - val_loss: 0.3335 - val_accuracy: 0.9343\n",
            "Epoch 35/40\n",
            "18/18 [==============================] - 0s 4ms/step - loss: 0.2196 - accuracy: 0.9545 - val_loss: 0.3317 - val_accuracy: 0.9489\n",
            "Epoch 36/40\n",
            "18/18 [==============================] - 0s 4ms/step - loss: 0.2278 - accuracy: 0.9569 - val_loss: 0.3325 - val_accuracy: 0.9343\n",
            "Epoch 37/40\n",
            "18/18 [==============================] - 0s 4ms/step - loss: 0.2195 - accuracy: 0.9452 - val_loss: 0.3340 - val_accuracy: 0.9343\n",
            "Epoch 38/40\n",
            "18/18 [==============================] - 0s 4ms/step - loss: 0.2186 - accuracy: 0.9580 - val_loss: 0.3353 - val_accuracy: 0.9343\n",
            "Epoch 39/40\n",
            "18/18 [==============================] - 0s 4ms/step - loss: 0.2213 - accuracy: 0.9485 - val_loss: 0.3326 - val_accuracy: 0.9416\n",
            "Epoch 40/40\n",
            "18/18 [==============================] - 0s 4ms/step - loss: 0.2171 - accuracy: 0.9633 - val_loss: 0.3367 - val_accuracy: 0.9343\n",
            "processing fold # 4\n",
            "Epoch 1/40\n",
            "18/18 [==============================] - 1s 19ms/step - loss: 0.8721 - accuracy: 0.4863 - val_loss: 0.8466 - val_accuracy: 0.6496\n",
            "Epoch 2/40\n",
            "18/18 [==============================] - 0s 4ms/step - loss: 0.8329 - accuracy: 0.6970 - val_loss: 0.8103 - val_accuracy: 0.7591\n",
            "Epoch 3/40\n",
            "18/18 [==============================] - 0s 4ms/step - loss: 0.7919 - accuracy: 0.7978 - val_loss: 0.7710 - val_accuracy: 0.7883\n",
            "Epoch 4/40\n",
            "18/18 [==============================] - 0s 5ms/step - loss: 0.7419 - accuracy: 0.8505 - val_loss: 0.7294 - val_accuracy: 0.8029\n",
            "Epoch 5/40\n",
            "18/18 [==============================] - 0s 4ms/step - loss: 0.6923 - accuracy: 0.8398 - val_loss: 0.6894 - val_accuracy: 0.8102\n",
            "Epoch 6/40\n",
            "18/18 [==============================] - 0s 5ms/step - loss: 0.6534 - accuracy: 0.8315 - val_loss: 0.6490 - val_accuracy: 0.8175\n",
            "Epoch 7/40\n",
            "18/18 [==============================] - 0s 4ms/step - loss: 0.5828 - accuracy: 0.8582 - val_loss: 0.6148 - val_accuracy: 0.8321\n",
            "Epoch 8/40\n",
            "18/18 [==============================] - 0s 4ms/step - loss: 0.5385 - accuracy: 0.8835 - val_loss: 0.5881 - val_accuracy: 0.8321\n",
            "Epoch 9/40\n",
            "18/18 [==============================] - 0s 4ms/step - loss: 0.5073 - accuracy: 0.8940 - val_loss: 0.5638 - val_accuracy: 0.8394\n",
            "Epoch 10/40\n",
            "18/18 [==============================] - 0s 4ms/step - loss: 0.4833 - accuracy: 0.8879 - val_loss: 0.5442 - val_accuracy: 0.8467\n",
            "Epoch 11/40\n",
            "18/18 [==============================] - 0s 4ms/step - loss: 0.4538 - accuracy: 0.8858 - val_loss: 0.5248 - val_accuracy: 0.8613\n",
            "Epoch 12/40\n",
            "18/18 [==============================] - 0s 4ms/step - loss: 0.4173 - accuracy: 0.9024 - val_loss: 0.5039 - val_accuracy: 0.8540\n",
            "Epoch 13/40\n",
            "18/18 [==============================] - 0s 4ms/step - loss: 0.4072 - accuracy: 0.9092 - val_loss: 0.4846 - val_accuracy: 0.8540\n",
            "Epoch 14/40\n",
            "18/18 [==============================] - 0s 4ms/step - loss: 0.3608 - accuracy: 0.9369 - val_loss: 0.4633 - val_accuracy: 0.8686\n",
            "Epoch 15/40\n",
            "18/18 [==============================] - 0s 4ms/step - loss: 0.3489 - accuracy: 0.9392 - val_loss: 0.4524 - val_accuracy: 0.8686\n",
            "Epoch 16/40\n",
            "18/18 [==============================] - 0s 4ms/step - loss: 0.3795 - accuracy: 0.9152 - val_loss: 0.4379 - val_accuracy: 0.8832\n",
            "Epoch 17/40\n",
            "18/18 [==============================] - 0s 4ms/step - loss: 0.3433 - accuracy: 0.9182 - val_loss: 0.4292 - val_accuracy: 0.8832\n",
            "Epoch 18/40\n",
            "18/18 [==============================] - 0s 4ms/step - loss: 0.3263 - accuracy: 0.9374 - val_loss: 0.4223 - val_accuracy: 0.8905\n",
            "Epoch 19/40\n",
            "18/18 [==============================] - 0s 4ms/step - loss: 0.3128 - accuracy: 0.9326 - val_loss: 0.4128 - val_accuracy: 0.9051\n",
            "Epoch 20/40\n",
            "18/18 [==============================] - 0s 4ms/step - loss: 0.3047 - accuracy: 0.9320 - val_loss: 0.4049 - val_accuracy: 0.9051\n",
            "Epoch 21/40\n",
            "18/18 [==============================] - 0s 4ms/step - loss: 0.3104 - accuracy: 0.9306 - val_loss: 0.4040 - val_accuracy: 0.9051\n",
            "Epoch 22/40\n",
            "18/18 [==============================] - 0s 4ms/step - loss: 0.3153 - accuracy: 0.9288 - val_loss: 0.4005 - val_accuracy: 0.9051\n",
            "Epoch 23/40\n",
            "18/18 [==============================] - 0s 4ms/step - loss: 0.2619 - accuracy: 0.9564 - val_loss: 0.3930 - val_accuracy: 0.9124\n",
            "Epoch 24/40\n",
            "18/18 [==============================] - 0s 4ms/step - loss: 0.2881 - accuracy: 0.9395 - val_loss: 0.3907 - val_accuracy: 0.9124\n",
            "Epoch 25/40\n",
            "18/18 [==============================] - 0s 4ms/step - loss: 0.2627 - accuracy: 0.9545 - val_loss: 0.3903 - val_accuracy: 0.9124\n",
            "Epoch 26/40\n",
            "18/18 [==============================] - 0s 4ms/step - loss: 0.3010 - accuracy: 0.9345 - val_loss: 0.3863 - val_accuracy: 0.9051\n",
            "Epoch 27/40\n",
            "18/18 [==============================] - 0s 4ms/step - loss: 0.2444 - accuracy: 0.9595 - val_loss: 0.3778 - val_accuracy: 0.9051\n",
            "Epoch 28/40\n",
            "18/18 [==============================] - 0s 5ms/step - loss: 0.2525 - accuracy: 0.9581 - val_loss: 0.3769 - val_accuracy: 0.9051\n",
            "Epoch 29/40\n",
            "18/18 [==============================] - 0s 4ms/step - loss: 0.2423 - accuracy: 0.9592 - val_loss: 0.3743 - val_accuracy: 0.9051\n",
            "Epoch 30/40\n",
            "18/18 [==============================] - 0s 4ms/step - loss: 0.2549 - accuracy: 0.9596 - val_loss: 0.3721 - val_accuracy: 0.9051\n",
            "Epoch 31/40\n",
            "18/18 [==============================] - 0s 4ms/step - loss: 0.2425 - accuracy: 0.9657 - val_loss: 0.3687 - val_accuracy: 0.9124\n",
            "Epoch 32/40\n",
            "18/18 [==============================] - 0s 5ms/step - loss: 0.2271 - accuracy: 0.9690 - val_loss: 0.3673 - val_accuracy: 0.9197\n",
            "Epoch 33/40\n",
            "18/18 [==============================] - 0s 4ms/step - loss: 0.2402 - accuracy: 0.9576 - val_loss: 0.3689 - val_accuracy: 0.9051\n",
            "Epoch 34/40\n",
            "18/18 [==============================] - 0s 4ms/step - loss: 0.2357 - accuracy: 0.9606 - val_loss: 0.3646 - val_accuracy: 0.9197\n",
            "Epoch 35/40\n",
            "18/18 [==============================] - 0s 4ms/step - loss: 0.2415 - accuracy: 0.9552 - val_loss: 0.3627 - val_accuracy: 0.9197\n",
            "Epoch 36/40\n",
            "18/18 [==============================] - 0s 4ms/step - loss: 0.2451 - accuracy: 0.9475 - val_loss: 0.3616 - val_accuracy: 0.9197\n",
            "Epoch 37/40\n",
            "18/18 [==============================] - 0s 4ms/step - loss: 0.2338 - accuracy: 0.9627 - val_loss: 0.3606 - val_accuracy: 0.9197\n",
            "Epoch 38/40\n",
            "18/18 [==============================] - 0s 4ms/step - loss: 0.2316 - accuracy: 0.9599 - val_loss: 0.3585 - val_accuracy: 0.9197\n",
            "Epoch 39/40\n",
            "18/18 [==============================] - 0s 5ms/step - loss: 0.2047 - accuracy: 0.9654 - val_loss: 0.3540 - val_accuracy: 0.9124\n",
            "Epoch 40/40\n",
            "18/18 [==============================] - 0s 4ms/step - loss: 0.2031 - accuracy: 0.9704 - val_loss: 0.3536 - val_accuracy: 0.9124\n",
            "All Accuracy values evaluated by teh Model are given below:\n"
          ],
          "name": "stdout"
        },
        {
          "output_type": "execute_result",
          "data": {
            "text/plain": [
              "[0.9355932474136353,\n",
              " 0.9254237413406372,\n",
              " 0.9389830231666565,\n",
              " 0.9491525292396545,\n",
              " 0.9322034120559692]"
            ]
          },
          "metadata": {
            "tags": []
          },
          "execution_count": 141
        }
      ]
    },
    {
      "cell_type": "code",
      "metadata": {
        "colab": {
          "base_uri": "https://localhost:8080/",
          "height": 279
        },
        "id": "HMAkCJ-D_0mz",
        "outputId": "ef13c408-53bb-4b5d-c9f2-bac42f478e2f"
      },
      "source": [
        "plt.plot(range(1, len(ave_val_loss_hist)+1)[2:], ave_val_loss_hist[2:], \"bo\", label=\"Validation Loss\")\n",
        "plt.plot(range(1, len(ave_val_loss_hist)+1)[2:], ave_loss_hist[2:], \"b\", label=\"Training Loss\")\n",
        "plt.xlabel(\"Epochs\")\n",
        "plt.ylabel(\"Validation Loss\")\n",
        "plt.legend()\n",
        "plt.show()"
      ],
      "execution_count": 142,
      "outputs": [
        {
          "output_type": "display_data",
          "data": {
            "image/png": "[encoded data removed]",
            "text/plain": [
              "<Figure size 432x288 with 1 Axes>"
            ]
          },
          "metadata": {
            "tags": [],
            "needs_background": "light"
          }
        }
      ]
    },
    {
      "cell_type": "code",
      "metadata": {
        "colab": {
          "base_uri": "https://localhost:8080/",
          "height": 279
        },
        "id": "jYxdeSFb_1DH",
        "outputId": "85960889-e7f8-4608-b9dd-a5a8af30c264"
      },
      "source": [
        "plt.plot(range(1, len(ave_val_acc_hist)+1)[2:], ave_val_acc_hist[2:], \"bo\", label=\"Validation Accuracy\")\n",
        "plt.plot(range(1, len(ave_val_acc_hist)+1)[2:], ave_acc_hist[2:], \"b\", label=\"Training Accuracy\")\n",
        "plt.xlabel(\"Epochs\")\n",
        "plt.ylabel(\"Validation Accuracy\")\n",
        "plt.legend()\n",
        "plt.show()"
      ],
      "execution_count": 143,
      "outputs": [
        {
          "output_type": "display_data",
          "data": {
            "image/png": "[encoded data removed]",
            "text/plain": [
              "<Figure size 432x288 with 1 Axes>"
            ]
          },
          "metadata": {
            "tags": [],
            "needs_background": "light"
          }
        }
      ]
    },
    {
      "cell_type": "markdown",
      "metadata": {
        "id": "ZqOIE7ZV5gmr"
      },
      "source": [
        "**Rebuilding the best fit Model**"
      ]
    },
    {
      "cell_type": "code",
      "metadata": {
        "id": "Olb6pJ0c5eHN"
      },
      "source": [
        "from keras import regularizers\n",
        "model= models.Sequential()\n",
        "model.add(layers.Dense(10, kernel_regularizer=regularizers.l1_l2(l1=0.001, l2=0.002), activation=\"relu\", input_shape=(train_data.shape[1],)))\n",
        "\n",
        "model.add(layers.Dense(10, kernel_regularizer=regularizers.l1_l2(l1=0.001, l2=0.002), activation=\"relu\"))\n",
        "\n",
        "model.add(layers.Dense(8,kernel_regularizer=regularizers.l1_l2(l1=0.001, l2=0.002), activation=\"relu\"))\n",
        "\n",
        "model.add(layers.Dense(6,kernel_regularizer=regularizers.l1_l2(l1=0.001, l2=0.002), activation=\"relu\"))\n",
        "\n",
        "model.add(layers.Dense(1,activation=\"sigmoid\"))\n",
        "\n",
        "model.compile(optimizer=\"rmsprop\", loss=\"binary_crossentropy\", metrics=[\"accuracy\"])"
      ],
      "execution_count": 147,
      "outputs": []
    },
    {
      "cell_type": "markdown",
      "metadata": {
        "id": "byDohJUJ57ZC"
      },
      "source": [
        "**Training the model with all samples**"
      ]
    },
    {
      "cell_type": "code",
      "metadata": {
        "colab": {
          "base_uri": "https://localhost:8080/"
        },
        "id": "t7ArlmnZ5u1Y",
        "outputId": "6ba13491-2a05-497a-a4b6-b74375162c9e"
      },
      "source": [
        "model.fit(train_data, train_labels, epochs=40)"
      ],
      "execution_count": 148,
      "outputs": [
        {
          "output_type": "stream",
          "text": [
            "Epoch 1/40\n",
            "22/22 [==============================] - 1s 2ms/step - loss: 0.9895 - accuracy: 0.1976\n",
            "Epoch 2/40\n",
            "22/22 [==============================] - 0s 2ms/step - loss: 0.8765 - accuracy: 0.4861\n",
            "Epoch 3/40\n",
            "22/22 [==============================] - 0s 2ms/step - loss: 0.7847 - accuracy: 0.7459\n",
            "Epoch 4/40\n",
            "22/22 [==============================] - 0s 2ms/step - loss: 0.7040 - accuracy: 0.7993\n",
            "Epoch 5/40\n",
            "22/22 [==============================] - 0s 2ms/step - loss: 0.6037 - accuracy: 0.8648\n",
            "Epoch 6/40\n",
            "22/22 [==============================] - 0s 2ms/step - loss: 0.5417 - accuracy: 0.8773\n",
            "Epoch 7/40\n",
            "22/22 [==============================] - 0s 2ms/step - loss: 0.4679 - accuracy: 0.9000\n",
            "Epoch 8/40\n",
            "22/22 [==============================] - 0s 2ms/step - loss: 0.4302 - accuracy: 0.9333\n",
            "Epoch 9/40\n",
            "22/22 [==============================] - 0s 2ms/step - loss: 0.3957 - accuracy: 0.9406\n",
            "Epoch 10/40\n",
            "22/22 [==============================] - 0s 2ms/step - loss: 0.4080 - accuracy: 0.9229\n",
            "Epoch 11/40\n",
            "22/22 [==============================] - 0s 1ms/step - loss: 0.3933 - accuracy: 0.9328\n",
            "Epoch 12/40\n",
            "22/22 [==============================] - 0s 2ms/step - loss: 0.3361 - accuracy: 0.9556\n",
            "Epoch 13/40\n",
            "22/22 [==============================] - 0s 2ms/step - loss: 0.3285 - accuracy: 0.9505\n",
            "Epoch 14/40\n",
            "22/22 [==============================] - 0s 2ms/step - loss: 0.3351 - accuracy: 0.9467\n",
            "Epoch 15/40\n",
            "22/22 [==============================] - 0s 1ms/step - loss: 0.3073 - accuracy: 0.9536\n",
            "Epoch 16/40\n",
            "22/22 [==============================] - 0s 1ms/step - loss: 0.3319 - accuracy: 0.9403\n",
            "Epoch 17/40\n",
            "22/22 [==============================] - 0s 2ms/step - loss: 0.3157 - accuracy: 0.9488\n",
            "Epoch 18/40\n",
            "22/22 [==============================] - 0s 2ms/step - loss: 0.3030 - accuracy: 0.9524\n",
            "Epoch 19/40\n",
            "22/22 [==============================] - 0s 1ms/step - loss: 0.2959 - accuracy: 0.9507\n",
            "Epoch 20/40\n",
            "22/22 [==============================] - 0s 2ms/step - loss: 0.2761 - accuracy: 0.9606\n",
            "Epoch 21/40\n",
            "22/22 [==============================] - 0s 2ms/step - loss: 0.2657 - accuracy: 0.9604\n",
            "Epoch 22/40\n",
            "22/22 [==============================] - 0s 1ms/step - loss: 0.2660 - accuracy: 0.9581\n",
            "Epoch 23/40\n",
            "22/22 [==============================] - 0s 2ms/step - loss: 0.2798 - accuracy: 0.9528\n",
            "Epoch 24/40\n",
            "22/22 [==============================] - 0s 2ms/step - loss: 0.2750 - accuracy: 0.9570\n",
            "Epoch 25/40\n",
            "22/22 [==============================] - 0s 1ms/step - loss: 0.2696 - accuracy: 0.9538\n",
            "Epoch 26/40\n",
            "22/22 [==============================] - 0s 1ms/step - loss: 0.2742 - accuracy: 0.9546\n",
            "Epoch 27/40\n",
            "22/22 [==============================] - 0s 1ms/step - loss: 0.2599 - accuracy: 0.9565\n",
            "Epoch 28/40\n",
            "22/22 [==============================] - 0s 1ms/step - loss: 0.2563 - accuracy: 0.9546\n",
            "Epoch 29/40\n",
            "22/22 [==============================] - 0s 1ms/step - loss: 0.2520 - accuracy: 0.9563\n",
            "Epoch 30/40\n",
            "22/22 [==============================] - 0s 2ms/step - loss: 0.2438 - accuracy: 0.9616\n",
            "Epoch 31/40\n",
            "22/22 [==============================] - 0s 1ms/step - loss: 0.2312 - accuracy: 0.9685\n",
            "Epoch 32/40\n",
            "22/22 [==============================] - 0s 1ms/step - loss: 0.2684 - accuracy: 0.9500\n",
            "Epoch 33/40\n",
            "22/22 [==============================] - 0s 2ms/step - loss: 0.2345 - accuracy: 0.9666\n",
            "Epoch 34/40\n",
            "22/22 [==============================] - 0s 1ms/step - loss: 0.2426 - accuracy: 0.9656\n",
            "Epoch 35/40\n",
            "22/22 [==============================] - 0s 1ms/step - loss: 0.2705 - accuracy: 0.9485\n",
            "Epoch 36/40\n",
            "22/22 [==============================] - 0s 2ms/step - loss: 0.2299 - accuracy: 0.9657\n",
            "Epoch 37/40\n",
            "22/22 [==============================] - 0s 2ms/step - loss: 0.2394 - accuracy: 0.9610\n",
            "Epoch 38/40\n",
            "22/22 [==============================] - 0s 2ms/step - loss: 0.2322 - accuracy: 0.9591\n",
            "Epoch 39/40\n",
            "22/22 [==============================] - 0s 1ms/step - loss: 0.2220 - accuracy: 0.9679\n",
            "Epoch 40/40\n",
            "22/22 [==============================] - 0s 2ms/step - loss: 0.2309 - accuracy: 0.9630\n"
          ],
          "name": "stdout"
        },
        {
          "output_type": "execute_result",
          "data": {
            "text/plain": [
              "<tensorflow.python.keras.callbacks.History at 0x7f97af13f5d0>"
            ]
          },
          "metadata": {
            "tags": []
          },
          "execution_count": 148
        }
      ]
    },
    {
      "cell_type": "markdown",
      "metadata": {
        "id": "Dce-459igfpL"
      },
      "source": [
        "**Evaluating the Network**"
      ]
    },
    {
      "cell_type": "code",
      "metadata": {
        "colab": {
          "base_uri": "https://localhost:8080/"
        },
        "id": "StnRq2ahghL3",
        "outputId": "d59a8230-c3d3-4c18-eddc-6c7109791884"
      },
      "source": [
        "test_loss_score, test_acc_score=model.evaluate(test_data, test_labels)"
      ],
      "execution_count": 149,
      "outputs": [
        {
          "output_type": "stream",
          "text": [
            "10/10 [==============================] - 0s 2ms/step - loss: 0.2718 - accuracy: 0.9525\n"
          ],
          "name": "stdout"
        }
      ]
    },
    {
      "cell_type": "code",
      "metadata": {
        "colab": {
          "base_uri": "https://localhost:8080/"
        },
        "id": "YHZhGjD02dN4",
        "outputId": "88ae4b73-5d4e-4609-ddb7-0a4a0c6b369e"
      },
      "source": [
        "test_acc_score *100"
      ],
      "execution_count": 150,
      "outputs": [
        {
          "output_type": "execute_result",
          "data": {
            "text/plain": [
              "95.25423645973206"
            ]
          },
          "metadata": {
            "tags": []
          },
          "execution_count": 150
        }
      ]
    },
    {
      "cell_type": "markdown",
      "metadata": {
        "id": "X4PJkc9rhBnI"
      },
      "source": [
        "**Predicting the values**"
      ]
    },
    {
      "cell_type": "code",
      "metadata": {
        "id": "ar4XTcgrhDpi",
        "colab": {
          "base_uri": "https://localhost:8080/"
        },
        "outputId": "753e4863-a7d5-4d6d-b82a-daa3e3acf6ca"
      },
      "source": [
        "prediction=model.predict(test_data)\n",
        "pred_norm =np.where(prediction>.5, 1, 0)\n",
        "pred_norm[10:20].T"
      ],
      "execution_count": 151,
      "outputs": [
        {
          "output_type": "execute_result",
          "data": {
            "text/plain": [
              "array([[1, 0, 0, 1, 1, 0, 0, 0, 0, 0]])"
            ]
          },
          "metadata": {
            "tags": []
          },
          "execution_count": 151
        }
      ]
    },
    {
      "cell_type": "code",
      "metadata": {
        "id": "JXLs5o3BhHBm",
        "colab": {
          "base_uri": "https://localhost:8080/"
        },
        "outputId": "02b0b110-d2fe-48ac-e3b3-0b86e59f876e"
      },
      "source": [
        "test_labels[10:20].astype(dtype=\"int\")"
      ],
      "execution_count": 152,
      "outputs": [
        {
          "output_type": "execute_result",
          "data": {
            "text/plain": [
              "array([1, 0, 0, 1, 1, 0, 0, 0, 0, 0])"
            ]
          },
          "metadata": {
            "tags": []
          },
          "execution_count": 152
        }
      ]
    },
    {
      "cell_type": "code",
      "metadata": {
        "id": "F9srhXkIkmOl"
      },
      "source": [
        "pred_check =pred_norm[:].T.astype(dtype=\"int\")"
      ],
      "execution_count": 153,
      "outputs": []
    },
    {
      "cell_type": "code",
      "metadata": {
        "id": "G5ZTbC1khk5k"
      },
      "source": [
        "c = pred_check.size"
      ],
      "execution_count": 154,
      "outputs": []
    },
    {
      "cell_type": "code",
      "metadata": {
        "id": "ST4zlthJhoEu"
      },
      "source": [
        "comapre_pred_test = test_labels == pred_check"
      ],
      "execution_count": 155,
      "outputs": []
    },
    {
      "cell_type": "code",
      "metadata": {
        "id": "0-bm2f7Lh141"
      },
      "source": [
        "a = comapre_pred_test[comapre_pred_test[:]== False].size"
      ],
      "execution_count": 156,
      "outputs": []
    },
    {
      "cell_type": "code",
      "metadata": {
        "id": "_PNULlcph4n9"
      },
      "source": [
        "b = comapre_pred_test[comapre_pred_test[:]==True].size"
      ],
      "execution_count": 157,
      "outputs": []
    },
    {
      "cell_type": "code",
      "metadata": {
        "colab": {
          "base_uri": "https://localhost:8080/"
        },
        "id": "-FGuqz4SihP9",
        "outputId": "5d655484-ab75-4f23-9368-a9a2c67b9d8f"
      },
      "source": [
        "print(\"Incorrect Predictions are:\", a, \"and Correct predictions are :\", b, \" the percentage is:\", round((b/c)*100,2), \"%\"  )"
      ],
      "execution_count": 158,
      "outputs": [
        {
          "output_type": "stream",
          "text": [
            "Incorrect Predictions are: 14 and Correct predictions are : 281  the percentage is: 95.25 %\n"
          ],
          "name": "stdout"
        }
      ]
    }
  ]
}