{
  "nbformat": 4,
  "nbformat_minor": 0,
  "metadata": {
    "colab": {
      "name": "Flower_assignment.ipynb",
      "provenance": [],
      "collapsed_sections": []
    },
    "kernelspec": {
      "name": "python3",
      "display_name": "Python 3"
    },
    "language_info": {
      "name": "python"
    }
  },
  "cells": [
    {
      "cell_type": "markdown",
      "metadata": {
        "id": "O5o6a1KD34s7"
      },
      "source": [
        "As per the Mr. Umair Shahzad this assignment is to learn that how the images can be converted to tensors and the accuracy is not that important. If Convolution, Image Augumentation and Transfer learning is used, then accuracy can be achived above 80%. But without all this stuff, accuracy is not good. So please don't reject this assignment. It took me 3 weeks to complete this assignment since initially I lost so much time to attain 85% accuracy by using convolution and Transfer learning. Thanks "
      ]
    },
    {
      "cell_type": "code",
      "metadata": {
        "id": "kE7WobAkruEw"
      },
      "source": [
        "import os\n",
        "import zipfile\n",
        "import numpy as np\n",
        "import random\n",
        "import matplotlib.image as mpimg\n",
        "import matplotlib.pyplot as plt\n",
        "from keras.preprocessing import image\n",
        "import tensorflow as tf\n",
        "from google.colab import files\n",
        "from keras import models\n",
        "from keras import layers\n",
        "#from keras import regularizers\n",
        "from sklearn.model_selection import train_test_split\n",
        "from tensorflow.keras.utils import to_categorical\n"
      ],
      "execution_count": 1,
      "outputs": []
    },
    {
      "cell_type": "code",
      "metadata": {
        "id": "RFWiOQXyr3cJ",
        "colab": {
          "base_uri": "https://localhost:8080/"
        },
        "outputId": "f92a80e8-15c4-4fb6-ddf7-9106c50cbb35"
      },
      "source": [
        "from google.colab import drive\n",
        "drive.mount(\"/content/drive\")"
      ],
      "execution_count": 2,
      "outputs": [
        {
          "output_type": "stream",
          "text": [
            "Mounted at /content/drive\n"
          ],
          "name": "stdout"
        }
      ]
    },
    {
      "cell_type": "code",
      "metadata": {
        "id": "q2Of6YLbuem9"
      },
      "source": [
        "local_zip = \"/content/drive/MyDrive/flowers_new.zip\"\n",
        "zip_ref = zipfile.ZipFile(local_zip, \"r\")\n",
        "zip_ref.extractall(\"/flower_new\")\n",
        "zip_ref.close()"
      ],
      "execution_count": 3,
      "outputs": []
    },
    {
      "cell_type": "markdown",
      "metadata": {
        "id": "XdHL6gFs3VPx"
      },
      "source": [
        "**Converting the images to gray scale tensor and resize**"
      ]
    },
    {
      "cell_type": "code",
      "metadata": {
        "id": "3hLh4vC-0iSU"
      },
      "source": [
        "def convert_image(source, label):\n",
        "  fname = os.listdir(source)\n",
        "  images= None\n",
        "  \n",
        "  for i,value in enumerate(fname):\n",
        "    source_path = os.path.join(source, fname[i])\n",
        "    if os.path.getsize(source_path)==0:\n",
        "      print(\"file has zero size\")\n",
        "    else:\n",
        "      img=image.load_img(source_path, target_size=(200, 200)) # Load image\n",
        "      x=image.img_to_array(img)                               # Image to array RGB\n",
        "      x=tf.image.rgb_to_grayscale(x)                          # gray scale conversion\n",
        "      x=np.expand_dims(x, axis=0)\n",
        "      if images is None:\n",
        "        images = x\n",
        "      else:\n",
        "        images = np.vstack((images, x))\n",
        "  print(images.shape)\n",
        "  images=images.reshape(images.shape[0], 200*200*1)\n",
        "  print(images.shape)\n",
        "  label_in = np.ones((len(fname), 1))\n",
        "  label_in.fill(label)\n",
        "  print(label_in.shape)\n",
        "  images_new=np.hstack((images,label_in))\n",
        "  print(images_new.shape)\n",
        "  return images_new\n"
      ],
      "execution_count": 4,
      "outputs": []
    },
    {
      "cell_type": "code",
      "metadata": {
        "id": "ea28Aa7106bF"
      },
      "source": [
        "daisy_source_dir = \"/flower_new/flowers/daisy\"\n",
        "\n",
        "dandelion_source_dir = \"/flower_new/flowers/dandelion\"\n",
        "\n",
        "rose_source_dir = \"/flower_new/flowers/rose\"\n",
        "\n",
        "sunflower_source_dir = \"/flower_new/flowers/sunflower\"\n",
        "\n",
        "tulip_source_dir = \"/flower_new/flowers/tulip\""
      ],
      "execution_count": 5,
      "outputs": []
    },
    {
      "cell_type": "markdown",
      "metadata": {
        "id": "_2KZtw7A3N7l"
      },
      "source": [
        "**Converting the Images into tensor**"
      ]
    },
    {
      "cell_type": "code",
      "metadata": {
        "colab": {
          "base_uri": "https://localhost:8080/"
        },
        "id": "wI_0ht--10CQ",
        "outputId": "95bfc676-bfd2-450a-f019-515b3eb49e2c"
      },
      "source": [
        "daisy = convert_image(daisy_source_dir, 0)\n",
        "dandelion = convert_image(dandelion_source_dir, 1)\n",
        "rose = convert_image(rose_source_dir, 2)\n",
        "sunflower = convert_image(sunflower_source_dir, 3)\n",
        "tulip = convert_image(tulip_source_dir, 4)"
      ],
      "execution_count": 6,
      "outputs": [
        {
          "output_type": "stream",
          "text": [
            "(769, 200, 200, 1)\n",
            "(769, 40000)\n",
            "(769, 1)\n",
            "(769, 40001)\n",
            "(1052, 200, 200, 1)\n",
            "(1052, 40000)\n",
            "(1052, 1)\n",
            "(1052, 40001)\n",
            "(784, 200, 200, 1)\n",
            "(784, 40000)\n",
            "(784, 1)\n",
            "(784, 40001)\n",
            "(734, 200, 200, 1)\n",
            "(734, 40000)\n",
            "(734, 1)\n",
            "(734, 40001)\n",
            "(984, 200, 200, 1)\n",
            "(984, 40000)\n",
            "(984, 1)\n",
            "(984, 40001)\n"
          ],
          "name": "stdout"
        }
      ]
    },
    {
      "cell_type": "code",
      "metadata": {
        "colab": {
          "base_uri": "https://localhost:8080/"
        },
        "id": "hR4y7Pgy7LkA",
        "outputId": "a928c947-11ce-4e72-97d2-3e8f8953de99"
      },
      "source": [
        "data_array = np.vstack((daisy, dandelion, rose, sunflower, tulip))\n",
        "data_array.shape"
      ],
      "execution_count": 7,
      "outputs": [
        {
          "output_type": "execute_result",
          "data": {
            "text/plain": [
              "(4323, 40001)"
            ]
          },
          "metadata": {
            "tags": []
          },
          "execution_count": 7
        }
      ]
    },
    {
      "cell_type": "code",
      "metadata": {
        "colab": {
          "base_uri": "https://localhost:8080/"
        },
        "id": "XIsQOI9JGt8j",
        "outputId": "e077c6f7-8d27-445b-ba05-7acdf403a952"
      },
      "source": [
        "np.random.shuffle(data_array)\n",
        "data_array[:10,-1]"
      ],
      "execution_count": 8,
      "outputs": [
        {
          "output_type": "execute_result",
          "data": {
            "text/plain": [
              "array([4., 0., 3., 1., 0., 1., 3., 3., 0., 3.])"
            ]
          },
          "metadata": {
            "tags": []
          },
          "execution_count": 8
        }
      ]
    },
    {
      "cell_type": "markdown",
      "metadata": {
        "id": "L3ux-iza3hNm"
      },
      "source": [
        "**Splittig the Training and Testing Data**"
      ]
    },
    {
      "cell_type": "code",
      "metadata": {
        "id": "qnsIFS73G3Ih"
      },
      "source": [
        "train_data, test_data, train_labels, test_labels=train_test_split(data_array[0:,:-1], data_array[:,-1], test_size=0.4, random_state=1)"
      ],
      "execution_count": 49,
      "outputs": []
    },
    {
      "cell_type": "code",
      "metadata": {
        "colab": {
          "base_uri": "https://localhost:8080/"
        },
        "id": "o3e0kUm0G4Ld",
        "outputId": "150f3869-02eb-4383-b01e-7bc441d53f50"
      },
      "source": [
        "train_data.shape"
      ],
      "execution_count": null,
      "outputs": [
        {
          "output_type": "execute_result",
          "data": {
            "text/plain": [
              "(2593, 40000)"
            ]
          },
          "metadata": {
            "tags": []
          },
          "execution_count": 11
        }
      ]
    },
    {
      "cell_type": "code",
      "metadata": {
        "colab": {
          "base_uri": "https://localhost:8080/"
        },
        "id": "2JNsIUZGJs9H",
        "outputId": "cea8834f-8e8a-4a98-9ec8-0be7396a90d3"
      },
      "source": [
        "test_data.shape"
      ],
      "execution_count": null,
      "outputs": [
        {
          "output_type": "execute_result",
          "data": {
            "text/plain": [
              "(1730, 40000)"
            ]
          },
          "metadata": {
            "tags": []
          },
          "execution_count": 12
        }
      ]
    },
    {
      "cell_type": "code",
      "metadata": {
        "colab": {
          "base_uri": "https://localhost:8080/"
        },
        "id": "dj-_3PhrJvgh",
        "outputId": "3b90731d-8d69-45f5-fce9-ebcbf28000df"
      },
      "source": [
        "train_labels.shape"
      ],
      "execution_count": null,
      "outputs": [
        {
          "output_type": "execute_result",
          "data": {
            "text/plain": [
              "(2593,)"
            ]
          },
          "metadata": {
            "tags": []
          },
          "execution_count": 13
        }
      ]
    },
    {
      "cell_type": "code",
      "metadata": {
        "colab": {
          "base_uri": "https://localhost:8080/"
        },
        "id": "54U9eiBlJyGL",
        "outputId": "82f8aef8-3795-4762-a68d-c764212d61f1"
      },
      "source": [
        "test_labels.shape"
      ],
      "execution_count": 50,
      "outputs": [
        {
          "output_type": "execute_result",
          "data": {
            "text/plain": [
              "(1730,)"
            ]
          },
          "metadata": {
            "tags": []
          },
          "execution_count": 50
        }
      ]
    },
    {
      "cell_type": "markdown",
      "metadata": {
        "id": "2agMcZm66QWP"
      },
      "source": [
        "**One Hot encoding**"
      ]
    },
    {
      "cell_type": "code",
      "metadata": {
        "id": "guIhg7cdJ1XV"
      },
      "source": [
        "train_labels = to_categorical(train_labels)\n",
        "test_labels = to_categorical(test_labels)"
      ],
      "execution_count": 10,
      "outputs": []
    },
    {
      "cell_type": "code",
      "metadata": {
        "colab": {
          "base_uri": "https://localhost:8080/"
        },
        "id": "USVzpNMTUWgj",
        "outputId": "b5b34afa-415a-4ba4-eb2f-bcfda4e3b4d8"
      },
      "source": [
        "np.unique(test_labels)"
      ],
      "execution_count": null,
      "outputs": [
        {
          "output_type": "execute_result",
          "data": {
            "text/plain": [
              "array([0., 1.], dtype=float32)"
            ]
          },
          "metadata": {
            "tags": []
          },
          "execution_count": 120
        }
      ]
    },
    {
      "cell_type": "markdown",
      "metadata": {
        "id": "Tr5rYzqP6ck0"
      },
      "source": [
        "**Normalizing the Data**"
      ]
    },
    {
      "cell_type": "code",
      "metadata": {
        "id": "WQyRPKppQRs7"
      },
      "source": [
        "train_data=train_data.astype(\"float32\")/255\n",
        "test_data = test_data.astype(\"float32\")/255"
      ],
      "execution_count": 11,
      "outputs": []
    },
    {
      "cell_type": "markdown",
      "metadata": {
        "id": "GN7t-Yp03Aq6"
      },
      "source": [
        "**Building the Network**"
      ]
    },
    {
      "cell_type": "code",
      "metadata": {
        "id": "MVr9mxxRO341"
      },
      "source": [
        "def build_model():\n",
        "  model=models.Sequential()\n",
        "  model.add(layers.Dense(512, activation=\"relu\", input_shape=(40000,)))\n",
        "  model.add(layers.Dense(512, activation = \"relu\" ))\n",
        "  model.add(layers.Dense(512, activation = \"relu\" ))\n",
        "  model.add(layers.Dense(5, activation=\"softmax\"))\n",
        "  model.compile(optimizer=\"rmsprop\", loss = \"categorical_crossentropy\", metrics=[\"accuracy\"])\n",
        "  return model"
      ],
      "execution_count": 12,
      "outputs": []
    },
    {
      "cell_type": "markdown",
      "metadata": {
        "id": "gJIIzSwg27Co"
      },
      "source": [
        "**K fold Validation**"
      ]
    },
    {
      "cell_type": "code",
      "metadata": {
        "id": "xh-zIkt0RJZH"
      },
      "source": [
        "k= 4\n",
        "num_val_sample = len(train_data) // k\n",
        "num_epochs =100\n",
        "all_scores = []\n",
        "all_val_loss_histories = []\n",
        "all_val_acc_histories = []\n",
        "all_loss_histories =[]\n",
        "all_acc_histories = []\n",
        "\n",
        "for i in range(k):\n",
        "  print(\"processing fold #\",i)\n",
        "  val_data = train_data[i*num_val_sample:(i+1)*num_val_sample]\n",
        "  val_labels = train_labels[i*num_val_sample: (i+1)*num_val_sample]\n",
        "\n",
        "  partial_train_data=np.concatenate([train_data[:i*num_val_sample], train_data[(i+1)*num_val_sample:]], axis=0)\n",
        "  partial_train_labels=np.concatenate([train_labels[:i*num_val_sample], train_labels[(i+1)*num_val_sample:]], axis=0)\n",
        "\n",
        "  model=build_model()\n",
        "  history = model.fit(partial_train_data, partial_train_labels, validation_data = (val_data, val_labels), epochs= num_epochs, batch_size=512, verbose=1)\n",
        "  val_loss, val_acc = model.evaluate(test_data, test_labels, verbose=0)\n",
        "  val_loss_history = history.history[\"val_loss\"]\n",
        "  val_acc_history = history.history[\"val_accuracy\"]\n",
        "  loss_history = history.history[\"loss\"]\n",
        "  acc_history = history.history[\"accuracy\"]\n",
        "  all_loss_histories.append(loss_history)\n",
        "  all_acc_histories.append(acc_history)\n",
        "  all_val_loss_histories.append(val_loss_history)\n",
        "  all_val_acc_histories.append(val_acc_history)\n",
        "  all_scores.append(val_loss)\n",
        "ave_val_loss_hist = [np.mean([x[i] for x in all_val_loss_histories]) for i in range(num_epochs)]\n",
        "ave_loss_hist = [np.mean([x[i] for x in all_loss_histories]) for i in range(num_epochs)]\n",
        "ave_val_acc_hist = [np.mean([x[i] for x in all_val_acc_histories]) for i in range(num_epochs)]\n",
        "ave_acc_hist = [np.mean([x[i] for x in all_acc_histories]) for i in range(num_epochs)]\n",
        "all_scores\n"
      ],
      "execution_count": null,
      "outputs": []
    },
    {
      "cell_type": "code",
      "metadata": {
        "colab": {
          "base_uri": "https://localhost:8080/",
          "height": 279
        },
        "id": "UF0KOSbTRbtg",
        "outputId": "0e0c53d4-4497-4d85-d281-af67b6c122a7"
      },
      "source": [
        "plt.plot(range(1, len(ave_val_loss_hist)+1)[20:], ave_val_loss_hist[20:], \"bo\", label=\"Validation Loss\")\n",
        "plt.plot(range(1, len(ave_val_loss_hist)+1)[20:], ave_loss_hist[20:], \"b\", label=\"Training Loss\")\n",
        "plt.xlabel(\"Epochs\")\n",
        "plt.ylabel(\"Loss\")\n",
        "plt.legend()\n",
        "plt.show()"
      ],
      "execution_count": null,
      "outputs": [
        {
          "output_type": "display_data",
          "data": {
            "image/png": "[encoded data removed]",
            "text/plain": [
              "<Figure size 432x288 with 1 Axes>"
            ]
          },
          "metadata": {
            "tags": [],
            "needs_background": "light"
          }
        }
      ]
    },
    {
      "cell_type": "code",
      "metadata": {
        "colab": {
          "base_uri": "https://localhost:8080/",
          "height": 283
        },
        "id": "gboveCttRc_O",
        "outputId": "cece7057-60c9-41df-c008-ba0a7fcdd91d"
      },
      "source": [
        "plt.plot(range(1, len(ave_val_acc_hist)+1)[:], ave_val_acc_hist[:], \"bo\", label=\"Validation Accuracy\")\n",
        "plt.plot(range(1, len(ave_val_acc_hist)+1)[:], ave_acc_hist[:], \"b\", label=\"Training Accuracy\")\n",
        "plt.xlabel(\"Epochs\")\n",
        "plt.ylabel(\"Accuracy\")\n",
        "plt.legend()\n",
        "plt.show()"
      ],
      "execution_count": null,
      "outputs": [
        {
          "output_type": "display_data",
          "data": {
            "image/png": "[encoded data removed]",
            "text/plain": [
              "<Figure size 432x288 with 1 Axes>"
            ]
          },
          "metadata": {
            "tags": [],
            "needs_background": "light"
          }
        }
      ]
    },
    {
      "cell_type": "markdown",
      "metadata": {
        "id": "godACOVI2oBI"
      },
      "source": [
        "**Best Fit Model**"
      ]
    },
    {
      "cell_type": "code",
      "metadata": {
        "id": "Q6XbM4FjtfPu"
      },
      "source": [
        "model=models.Sequential()\n",
        "model.add(layers.Dense(512, activation=\"relu\", input_shape=(40000,)))\n",
        "model.add(layers.Dense(512, activation = \"relu\" ))\n",
        "model.add(layers.Dense(512, activation = \"relu\" ))\n",
        "model.add(layers.Dense(5, activation=\"softmax\"))\n",
        "model.compile(optimizer=\"rmsprop\", loss = \"categorical_crossentropy\", metrics=[\"accuracy\"])"
      ],
      "execution_count": 47,
      "outputs": []
    },
    {
      "cell_type": "markdown",
      "metadata": {
        "id": "xXJ_IXyl2BMi"
      },
      "source": [
        "**Training the model with all samples**"
      ]
    },
    {
      "cell_type": "code",
      "metadata": {
        "colab": {
          "base_uri": "https://localhost:8080/"
        },
        "id": "-Xl78IydtPae",
        "outputId": "196aaca4-91ec-4a06-edbb-318df7fa03f7"
      },
      "source": [
        "model.fit(train_data,train_labels, epochs =100, batch_size=512, verbose=1)"
      ],
      "execution_count": 48,
      "outputs": [
        {
          "output_type": "stream",
          "text": [
            "Epoch 1/100\n",
            "6/6 [==============================] - 5s 712ms/step - loss: 103.7563 - accuracy: 0.2266\n",
            "Epoch 2/100\n",
            "6/6 [==============================] - 4s 702ms/step - loss: 14.0052 - accuracy: 0.1913\n",
            "Epoch 3/100\n",
            "6/6 [==============================] - 4s 711ms/step - loss: 7.3532 - accuracy: 0.2272\n",
            "Epoch 4/100\n",
            "6/6 [==============================] - 4s 708ms/step - loss: 4.8832 - accuracy: 0.2272\n",
            "Epoch 5/100\n",
            "6/6 [==============================] - 4s 708ms/step - loss: 2.5952 - accuracy: 0.2101\n",
            "Epoch 6/100\n",
            "6/6 [==============================] - 4s 716ms/step - loss: 2.3377 - accuracy: 0.2313\n",
            "Epoch 7/100\n",
            "6/6 [==============================] - 4s 707ms/step - loss: 2.0803 - accuracy: 0.2396\n",
            "Epoch 8/100\n",
            "6/6 [==============================] - 4s 718ms/step - loss: 2.1343 - accuracy: 0.2047\n",
            "Epoch 9/100\n",
            "6/6 [==============================] - 4s 707ms/step - loss: 1.6817 - accuracy: 0.2558\n",
            "Epoch 10/100\n",
            "6/6 [==============================] - 4s 713ms/step - loss: 1.7629 - accuracy: 0.2544\n",
            "Epoch 11/100\n",
            "6/6 [==============================] - 4s 712ms/step - loss: 1.8468 - accuracy: 0.2290\n",
            "Epoch 12/100\n",
            "6/6 [==============================] - 4s 704ms/step - loss: 1.6919 - accuracy: 0.2355\n",
            "Epoch 13/100\n",
            "6/6 [==============================] - 4s 717ms/step - loss: 1.5771 - accuracy: 0.2549\n",
            "Epoch 14/100\n",
            "6/6 [==============================] - 4s 719ms/step - loss: 1.8490 - accuracy: 0.2239\n",
            "Epoch 15/100\n",
            "6/6 [==============================] - 5s 726ms/step - loss: 2.7119 - accuracy: 0.2415\n",
            "Epoch 16/100\n",
            "6/6 [==============================] - 4s 723ms/step - loss: 1.7730 - accuracy: 0.2459\n",
            "Epoch 17/100\n",
            "6/6 [==============================] - 4s 710ms/step - loss: 1.5982 - accuracy: 0.2467\n",
            "Epoch 18/100\n",
            "6/6 [==============================] - 4s 713ms/step - loss: 1.9155 - accuracy: 0.2474\n",
            "Epoch 19/100\n",
            "6/6 [==============================] - 4s 710ms/step - loss: 1.5958 - accuracy: 0.2630\n",
            "Epoch 20/100\n",
            "6/6 [==============================] - 4s 710ms/step - loss: 1.8033 - accuracy: 0.2432\n",
            "Epoch 21/100\n",
            "6/6 [==============================] - 4s 709ms/step - loss: 1.5973 - accuracy: 0.2799\n",
            "Epoch 22/100\n",
            "6/6 [==============================] - 4s 705ms/step - loss: 1.5651 - accuracy: 0.2772\n",
            "Epoch 23/100\n",
            "6/6 [==============================] - 4s 708ms/step - loss: 4.7585 - accuracy: 0.2343\n",
            "Epoch 24/100\n",
            "6/6 [==============================] - 4s 711ms/step - loss: 1.9438 - accuracy: 0.2175\n",
            "Epoch 25/100\n",
            "6/6 [==============================] - 4s 714ms/step - loss: 1.9073 - accuracy: 0.2827\n",
            "Epoch 26/100\n",
            "6/6 [==============================] - 4s 705ms/step - loss: 1.5939 - accuracy: 0.3028\n",
            "Epoch 27/100\n",
            "6/6 [==============================] - 4s 710ms/step - loss: 1.8238 - accuracy: 0.2549\n",
            "Epoch 28/100\n",
            "6/6 [==============================] - 4s 710ms/step - loss: 1.5571 - accuracy: 0.2968\n",
            "Epoch 29/100\n",
            "6/6 [==============================] - 4s 707ms/step - loss: 1.6400 - accuracy: 0.2653\n",
            "Epoch 30/100\n",
            "6/6 [==============================] - 4s 711ms/step - loss: 1.5610 - accuracy: 0.2718\n",
            "Epoch 31/100\n",
            "6/6 [==============================] - 4s 700ms/step - loss: 1.5359 - accuracy: 0.2898\n",
            "Epoch 32/100\n",
            "6/6 [==============================] - 4s 713ms/step - loss: 1.7447 - accuracy: 0.2758\n",
            "Epoch 33/100\n",
            "6/6 [==============================] - 4s 706ms/step - loss: 2.0788 - accuracy: 0.2148\n",
            "Epoch 34/100\n",
            "6/6 [==============================] - 4s 706ms/step - loss: 1.5950 - accuracy: 0.3011\n",
            "Epoch 35/100\n",
            "6/6 [==============================] - 4s 716ms/step - loss: 1.5368 - accuracy: 0.2858\n",
            "Epoch 36/100\n",
            "6/6 [==============================] - 4s 707ms/step - loss: 1.6067 - accuracy: 0.2950\n",
            "Epoch 37/100\n",
            "6/6 [==============================] - 4s 713ms/step - loss: 1.8301 - accuracy: 0.2669\n",
            "Epoch 38/100\n",
            "6/6 [==============================] - 4s 710ms/step - loss: 1.6254 - accuracy: 0.2761\n",
            "Epoch 39/100\n",
            "6/6 [==============================] - 4s 711ms/step - loss: 1.5426 - accuracy: 0.2893\n",
            "Epoch 40/100\n",
            "6/6 [==============================] - 4s 716ms/step - loss: 1.5654 - accuracy: 0.2916\n",
            "Epoch 41/100\n",
            "6/6 [==============================] - 4s 725ms/step - loss: 1.5969 - accuracy: 0.2943\n",
            "Epoch 42/100\n",
            "6/6 [==============================] - 4s 711ms/step - loss: 1.5302 - accuracy: 0.2969\n",
            "Epoch 43/100\n",
            "6/6 [==============================] - 4s 710ms/step - loss: 1.6402 - accuracy: 0.2866\n",
            "Epoch 44/100\n",
            "6/6 [==============================] - 4s 706ms/step - loss: 1.5256 - accuracy: 0.2918\n",
            "Epoch 45/100\n",
            "6/6 [==============================] - 4s 716ms/step - loss: 1.5222 - accuracy: 0.2933\n",
            "Epoch 46/100\n",
            "6/6 [==============================] - 4s 711ms/step - loss: 1.5514 - accuracy: 0.2890\n",
            "Epoch 47/100\n",
            "6/6 [==============================] - 4s 718ms/step - loss: 1.5465 - accuracy: 0.2676\n",
            "Epoch 48/100\n",
            "6/6 [==============================] - 4s 709ms/step - loss: 1.5226 - accuracy: 0.2933\n",
            "Epoch 49/100\n",
            "6/6 [==============================] - 4s 709ms/step - loss: 1.5294 - accuracy: 0.3036\n",
            "Epoch 50/100\n",
            "6/6 [==============================] - 4s 711ms/step - loss: 1.5174 - accuracy: 0.3089\n",
            "Epoch 51/100\n",
            "6/6 [==============================] - 4s 714ms/step - loss: 2.1908 - accuracy: 0.2530\n",
            "Epoch 52/100\n",
            "6/6 [==============================] - 4s 715ms/step - loss: 1.4973 - accuracy: 0.3222\n",
            "Epoch 53/100\n",
            "6/6 [==============================] - 4s 712ms/step - loss: 1.5292 - accuracy: 0.3088\n",
            "Epoch 54/100\n",
            "6/6 [==============================] - 4s 709ms/step - loss: 1.5828 - accuracy: 0.2963\n",
            "Epoch 55/100\n",
            "6/6 [==============================] - 4s 714ms/step - loss: 1.5164 - accuracy: 0.3178\n",
            "Epoch 56/100\n",
            "6/6 [==============================] - 4s 711ms/step - loss: 1.4808 - accuracy: 0.3263\n",
            "Epoch 57/100\n",
            "6/6 [==============================] - 4s 713ms/step - loss: 1.5521 - accuracy: 0.3253\n",
            "Epoch 58/100\n",
            "6/6 [==============================] - 4s 708ms/step - loss: 1.6734 - accuracy: 0.2982\n",
            "Epoch 59/100\n",
            "6/6 [==============================] - 4s 716ms/step - loss: 1.4942 - accuracy: 0.3327\n",
            "Epoch 60/100\n",
            "6/6 [==============================] - 4s 707ms/step - loss: 1.4884 - accuracy: 0.3214\n",
            "Epoch 61/100\n",
            "6/6 [==============================] - 4s 710ms/step - loss: 1.4339 - accuracy: 0.3478\n",
            "Epoch 62/100\n",
            "6/6 [==============================] - 4s 712ms/step - loss: 1.6606 - accuracy: 0.3075\n",
            "Epoch 63/100\n",
            "6/6 [==============================] - 4s 707ms/step - loss: 1.5087 - accuracy: 0.3043\n",
            "Epoch 64/100\n",
            "6/6 [==============================] - 4s 708ms/step - loss: 1.5400 - accuracy: 0.3188\n",
            "Epoch 65/100\n",
            "6/6 [==============================] - 4s 716ms/step - loss: 1.4376 - accuracy: 0.3677\n",
            "Epoch 66/100\n",
            "6/6 [==============================] - 4s 716ms/step - loss: 1.9263 - accuracy: 0.2825\n",
            "Epoch 67/100\n",
            "6/6 [==============================] - 4s 720ms/step - loss: 1.4477 - accuracy: 0.3333\n",
            "Epoch 68/100\n",
            "6/6 [==============================] - 4s 723ms/step - loss: 1.7113 - accuracy: 0.3119\n",
            "Epoch 69/100\n",
            "6/6 [==============================] - 4s 717ms/step - loss: 3.3567 - accuracy: 0.2374\n",
            "Epoch 70/100\n",
            "6/6 [==============================] - 4s 708ms/step - loss: 1.4932 - accuracy: 0.3146\n",
            "Epoch 71/100\n",
            "6/6 [==============================] - 4s 711ms/step - loss: 1.6011 - accuracy: 0.3013\n",
            "Epoch 72/100\n",
            "6/6 [==============================] - 4s 714ms/step - loss: 1.4461 - accuracy: 0.3343\n",
            "Epoch 73/100\n",
            "6/6 [==============================] - 4s 712ms/step - loss: 1.6409 - accuracy: 0.2972\n",
            "Epoch 74/100\n",
            "6/6 [==============================] - 4s 714ms/step - loss: 1.4356 - accuracy: 0.3558\n",
            "Epoch 75/100\n",
            "6/6 [==============================] - 4s 709ms/step - loss: 1.4405 - accuracy: 0.3469\n",
            "Epoch 76/100\n",
            "6/6 [==============================] - 4s 711ms/step - loss: 1.4690 - accuracy: 0.3312\n",
            "Epoch 77/100\n",
            "6/6 [==============================] - 4s 709ms/step - loss: 1.4214 - accuracy: 0.3569\n",
            "Epoch 78/100\n",
            "6/6 [==============================] - 4s 710ms/step - loss: 1.7397 - accuracy: 0.2792\n",
            "Epoch 79/100\n",
            "6/6 [==============================] - 4s 710ms/step - loss: 1.4257 - accuracy: 0.3481\n",
            "Epoch 80/100\n",
            "6/6 [==============================] - 4s 715ms/step - loss: 1.5032 - accuracy: 0.3529\n",
            "Epoch 81/100\n",
            "6/6 [==============================] - 4s 716ms/step - loss: 1.6982 - accuracy: 0.3184\n",
            "Epoch 82/100\n",
            "6/6 [==============================] - 4s 710ms/step - loss: 1.4628 - accuracy: 0.3527\n",
            "Epoch 83/100\n",
            "6/6 [==============================] - 4s 707ms/step - loss: 1.5254 - accuracy: 0.3417\n",
            "Epoch 84/100\n",
            "6/6 [==============================] - 4s 711ms/step - loss: 1.5106 - accuracy: 0.3202\n",
            "Epoch 85/100\n",
            "6/6 [==============================] - 4s 708ms/step - loss: 1.3970 - accuracy: 0.3729\n",
            "Epoch 86/100\n",
            "6/6 [==============================] - 4s 715ms/step - loss: 1.5336 - accuracy: 0.2970\n",
            "Epoch 87/100\n",
            "6/6 [==============================] - 4s 715ms/step - loss: 1.4206 - accuracy: 0.3635\n",
            "Epoch 88/100\n",
            "6/6 [==============================] - 4s 717ms/step - loss: 1.4923 - accuracy: 0.3359\n",
            "Epoch 89/100\n",
            "6/6 [==============================] - 4s 715ms/step - loss: 1.3840 - accuracy: 0.3742\n",
            "Epoch 90/100\n",
            "6/6 [==============================] - 4s 716ms/step - loss: 1.7198 - accuracy: 0.3068\n",
            "Epoch 91/100\n",
            "6/6 [==============================] - 4s 711ms/step - loss: 1.4733 - accuracy: 0.3209\n",
            "Epoch 92/100\n",
            "6/6 [==============================] - 4s 710ms/step - loss: 1.4280 - accuracy: 0.3648\n",
            "Epoch 93/100\n",
            "6/6 [==============================] - 4s 721ms/step - loss: 1.3740 - accuracy: 0.3858\n",
            "Epoch 94/100\n",
            "6/6 [==============================] - 4s 711ms/step - loss: 1.3760 - accuracy: 0.3867\n",
            "Epoch 95/100\n",
            "6/6 [==============================] - 4s 716ms/step - loss: 1.3607 - accuracy: 0.4126\n",
            "Epoch 96/100\n",
            "6/6 [==============================] - 4s 712ms/step - loss: 1.4941 - accuracy: 0.3313\n",
            "Epoch 97/100\n",
            "6/6 [==============================] - 4s 708ms/step - loss: 1.3564 - accuracy: 0.4007\n",
            "Epoch 98/100\n",
            "6/6 [==============================] - 4s 706ms/step - loss: 1.4348 - accuracy: 0.3618\n",
            "Epoch 99/100\n",
            "6/6 [==============================] - 4s 712ms/step - loss: 1.4386 - accuracy: 0.3576\n",
            "Epoch 100/100\n",
            "6/6 [==============================] - 4s 707ms/step - loss: 2.8638 - accuracy: 0.2569\n"
          ],
          "name": "stdout"
        },
        {
          "output_type": "execute_result",
          "data": {
            "text/plain": [
              "<tensorflow.python.keras.callbacks.History at 0x7f4c5b3c15d0>"
            ]
          },
          "metadata": {
            "tags": []
          },
          "execution_count": 48
        }
      ]
    },
    {
      "cell_type": "markdown",
      "metadata": {
        "id": "2FtImZvW12r5"
      },
      "source": [
        "**Evaluating the Model**"
      ]
    },
    {
      "cell_type": "code",
      "metadata": {
        "colab": {
          "base_uri": "https://localhost:8080/"
        },
        "id": "BrzyW7Virabl",
        "outputId": "ee1b02cf-4726-4709-a78e-4188fd23dafc"
      },
      "source": [
        "test_loss_score, test_acc_score=model.evaluate(test_data, test_labels)"
      ],
      "execution_count": 17,
      "outputs": [
        {
          "output_type": "stream",
          "text": [
            "55/55 [==============================] - 0s 6ms/step - loss: 1.7009 - accuracy: 0.2561\n"
          ],
          "name": "stdout"
        }
      ]
    },
    {
      "cell_type": "markdown",
      "metadata": {
        "id": "UKAbqYNB0x83"
      },
      "source": [
        "**Predicting the values**"
      ]
    },
    {
      "cell_type": "code",
      "metadata": {
        "id": "SkJiTqCkrzx8"
      },
      "source": [
        "prediction=model.predict(test_data)"
      ],
      "execution_count": 18,
      "outputs": []
    },
    {
      "cell_type": "code",
      "metadata": {
        "colab": {
          "base_uri": "https://localhost:8080/"
        },
        "id": "frYGw5G9vje0",
        "outputId": "c48ed349-efea-4f5e-f029-a50093048dfb"
      },
      "source": [
        "prediction_result = []\n",
        "for i, v in enumerate(prediction):\n",
        "  prediction_result.append(np.argmax(prediction[i]))\n",
        "print(prediction_result)\n",
        "\n",
        "test_labels_result = []\n",
        "for i, v in enumerate(test_labels):\n",
        "  test_labels_result.append(np.argmax(test_labels[i]))\n",
        "print(test_labels_result)"
      ],
      "execution_count": 32,
      "outputs": [
        {
          "output_type": "stream",
          "text": [
            "[4, 4, 3, 3, 3, 3, 4, 3, 3, 0, 4, 0, 2, 4, 4, 4, 4, 4, 3, 4, 3, 1, 4, 4, 4, 4, 4, 4, 2, 4, 4, 3, 3, 4, 4, 3, 4, 4, 3, 4, 0, 4, 4, 4, 4, 4, 4, 3, 4, 4, 3, 4, 4, 4, 4, 3, 2, 4, 4, 0, 3, 3, 4, 4, 4, 4, 4, 4, 4, 3, 4, 4, 4, 4, 4, 4, 4, 4, 4, 4, 3, 4, 3, 0, 4, 3, 4, 0, 3, 0, 4, 3, 3, 4, 4, 3, 3, 3, 4, 4, 4, 4, 4, 0, 4, 0, 4, 3, 4, 3, 4, 4, 4, 4, 4, 4, 4, 4, 4, 3, 4, 4, 4, 3, 3, 0, 3, 4, 4, 3, 4, 4, 3, 4, 4, 4, 3, 4, 4, 3, 4, 4, 4, 4, 3, 4, 4, 4, 4, 4, 3, 3, 1, 3, 4, 4, 4, 3, 4, 3, 3, 3, 4, 4, 3, 1, 4, 3, 3, 4, 4, 4, 4, 4, 3, 4, 4, 4, 4, 4, 3, 4, 4, 3, 3, 4, 4, 2, 3, 4, 4, 4, 3, 3, 4, 4, 2, 3, 4, 4, 4, 4, 3, 0, 4, 2, 4, 3, 4, 4, 1, 4, 4, 4, 3, 3, 4, 1, 3, 4, 4, 3, 4, 3, 3, 4, 4, 4, 3, 4, 3, 4, 4, 4, 4, 4, 2, 3, 4, 4, 4, 4, 4, 2, 4, 3, 4, 1, 4, 3, 3, 3, 4, 3, 3, 4, 3, 2, 4, 4, 4, 3, 4, 4, 4, 3, 4, 4, 4, 4, 4, 4, 3, 0, 4, 4, 3, 4, 3, 4, 4, 4, 3, 4, 4, 0, 4, 4, 4, 4, 4, 3, 4, 4, 4, 4, 1, 3, 4, 4, 4, 1, 4, 4, 4, 4, 3, 3, 3, 4, 4, 3, 4, 3, 4, 1, 4, 4, 3, 1, 3, 4, 4, 4, 4, 3, 3, 4, 4, 4, 2, 3, 4, 3, 3, 4, 4, 3, 4, 4, 4, 4, 3, 2, 4, 4, 4, 4, 4, 3, 3, 4, 4, 4, 1, 3, 3, 4, 4, 4, 4, 4, 4, 4, 3, 4, 4, 4, 4, 4, 2, 2, 4, 4, 3, 4, 4, 3, 4, 4, 3, 0, 4, 4, 4, 4, 3, 4, 4, 3, 4, 4, 3, 3, 4, 4, 3, 4, 4, 4, 1, 4, 2, 4, 4, 3, 3, 4, 4, 4, 4, 4, 4, 4, 3, 4, 4, 0, 3, 4, 3, 4, 4, 3, 4, 3, 4, 2, 4, 4, 4, 3, 4, 4, 3, 3, 3, 4, 4, 4, 3, 4, 4, 4, 4, 3, 4, 0, 4, 3, 4, 3, 3, 4, 4, 4, 3, 3, 4, 4, 4, 4, 3, 4, 3, 4, 1, 3, 4, 4, 4, 4, 3, 4, 4, 4, 2, 4, 3, 4, 4, 2, 3, 4, 4, 4, 4, 4, 3, 3, 4, 4, 4, 4, 3, 0, 4, 4, 4, 4, 4, 4, 3, 1, 3, 4, 4, 1, 4, 3, 3, 4, 4, 4, 3, 3, 4, 4, 4, 4, 4, 4, 4, 4, 3, 1, 4, 4, 3, 4, 3, 4, 4, 4, 2, 4, 4, 4, 4, 4, 4, 4, 3, 2, 1, 4, 4, 4, 4, 4, 0, 3, 4, 4, 4, 4, 4, 4, 4, 0, 4, 4, 3, 4, 4, 4, 3, 4, 3, 3, 4, 4, 3, 4, 4, 4, 3, 4, 3, 0, 4, 4, 3, 3, 2, 3, 4, 3, 4, 4, 3, 4, 4, 3, 3, 3, 3, 4, 4, 3, 4, 4, 4, 3, 3, 4, 4, 4, 4, 0, 3, 4, 4, 4, 4, 4, 3, 4, 4, 4, 3, 1, 4, 4, 1, 4, 4, 4, 0, 4, 3, 4, 1, 3, 4, 4, 4, 4, 4, 4, 4, 4, 4, 3, 3, 4, 3, 4, 4, 4, 4, 1, 3, 4, 3, 3, 4, 4, 3, 4, 2, 3, 4, 4, 3, 3, 4, 4, 2, 3, 4, 4, 4, 4, 4, 4, 4, 4, 3, 3, 0, 2, 4, 4, 3, 4, 4, 4, 4, 4, 4, 4, 4, 4, 4, 4, 4, 2, 4, 4, 4, 3, 4, 4, 4, 3, 3, 4, 4, 0, 3, 4, 0, 4, 4, 4, 3, 3, 3, 3, 4, 3, 4, 4, 4, 3, 4, 1, 4, 3, 4, 4, 4, 4, 4, 3, 3, 4, 1, 3, 4, 4, 3, 3, 4, 4, 2, 4, 3, 4, 4, 4, 0, 4, 4, 4, 4, 2, 3, 4, 4, 3, 3, 4, 4, 4, 3, 4, 1, 4, 3, 1, 3, 4, 4, 4, 4, 0, 3, 4, 4, 4, 4, 4, 4, 4, 4, 4, 4, 4, 4, 3, 0, 4, 4, 3, 4, 4, 4, 4, 4, 4, 4, 4, 4, 4, 3, 4, 1, 4, 4, 0, 3, 4, 4, 3, 2, 4, 4, 4, 3, 4, 0, 1, 4, 3, 4, 3, 4, 0, 3, 4, 4, 1, 4, 4, 4, 4, 0, 4, 4, 4, 4, 3, 4, 2, 3, 3, 3, 4, 3, 3, 4, 4, 4, 4, 3, 4, 4, 0, 4, 3, 3, 4, 4, 3, 4, 4, 4, 4, 3, 4, 2, 3, 4, 4, 4, 4, 3, 4, 4, 0, 4, 4, 3, 4, 4, 4, 4, 4, 4, 4, 4, 4, 4, 4, 4, 4, 4, 3, 3, 3, 4, 3, 2, 4, 4, 4, 4, 3, 2, 4, 4, 4, 3, 3, 4, 0, 4, 4, 4, 3, 3, 4, 4, 3, 3, 0, 4, 4, 4, 1, 4, 3, 4, 4, 3, 4, 4, 4, 4, 0, 4, 3, 3, 4, 4, 4, 3, 3, 4, 3, 4, 4, 4, 4, 4, 4, 0, 4, 4, 4, 4, 4, 2, 4, 4, 3, 4, 4, 3, 4, 3, 3, 2, 4, 3, 4, 4, 4, 3, 4, 4, 4, 3, 4, 4, 4, 3, 4, 4, 1, 4, 3, 4, 2, 4, 3, 4, 3, 4, 4, 3, 4, 1, 4, 4, 4, 4, 4, 3, 3, 4, 4, 4, 4, 3, 4, 4, 4, 4, 4, 4, 0, 3, 4, 4, 3, 4, 4, 4, 4, 4, 4, 2, 4, 3, 4, 4, 4, 4, 3, 4, 3, 4, 4, 3, 2, 4, 3, 4, 3, 4, 4, 4, 4, 3, 2, 3, 3, 4, 4, 3, 4, 3, 3, 4, 4, 4, 4, 4, 4, 1, 4, 4, 4, 4, 3, 4, 4, 4, 3, 4, 4, 4, 3, 2, 0, 4, 3, 4, 4, 4, 4, 4, 4, 4, 0, 3, 4, 3, 0, 4, 4, 3, 4, 4, 4, 4, 3, 4, 3, 4, 4, 3, 4, 4, 4, 4, 4, 4, 0, 0, 4, 4, 4, 4, 3, 4, 3, 4, 4, 3, 4, 4, 4, 3, 3, 4, 4, 3, 4, 4, 4, 3, 0, 4, 4, 4, 4, 2, 3, 4, 4, 4, 4, 3, 2, 2, 4, 2, 1, 4, 2, 4, 3, 4, 4, 4, 3, 2, 4, 3, 4, 4, 4, 4, 4, 1, 3, 3, 4, 4, 4, 4, 4, 4, 4, 2, 3, 0, 2, 0, 3, 4, 3, 3, 2, 4, 4, 4, 3, 4, 4, 3, 4, 0, 4, 4, 3, 4, 3, 3, 4, 4, 4, 4, 4, 1, 4, 4, 4, 3, 3, 3, 2, 4, 1, 0, 4, 4, 4, 4, 4, 3, 4, 4, 2, 3, 3, 3, 1, 4, 4, 3, 3, 4, 3, 4, 4, 4, 4, 2, 4, 3, 3, 4, 4, 4, 4, 4, 4, 3, 4, 4, 4, 2, 4, 1, 4, 4, 4, 3, 4, 4, 1, 4, 4, 0, 3, 4, 4, 4, 4, 4, 4, 4, 3, 4, 4, 4, 4, 3, 4, 3, 4, 1, 4, 4, 4, 3, 4, 4, 4, 4, 3, 4, 4, 4, 4, 4, 4, 4, 3, 4, 4, 4, 4, 4, 4, 3, 4, 4, 4, 4, 4, 3, 4, 4, 4, 4, 4, 3, 3, 4, 4, 4, 3, 4, 4, 4, 3, 4, 4, 3, 3, 3, 4, 3, 4, 4, 0, 4, 3, 4, 2, 3, 4, 4, 4, 3, 4, 3, 3, 1, 1, 4, 4, 4, 4, 3, 3, 0, 4, 3, 0, 2, 4, 3, 4, 4, 4, 4, 4, 4, 4, 4, 4, 3, 4, 4, 4, 4, 4, 3, 4, 4, 3, 4, 1, 4, 4, 4, 4, 4, 3, 4, 4, 4, 4, 4, 4, 3, 1, 2, 3, 4, 4, 3, 4, 4, 3, 4, 0, 3, 4, 4, 4, 3, 4, 4, 4, 4, 3, 4, 3, 4, 3, 4, 4, 4, 4, 4, 3, 3, 4, 3, 4, 3, 3, 4, 4, 4, 4, 0, 4, 4, 4, 4, 4, 4, 3, 3, 4, 3, 4, 3, 3, 3, 4, 3, 3, 1, 3, 3, 4, 2, 4, 3, 4, 0, 4, 0, 1, 3, 4, 3, 4, 4, 4, 4, 3, 2, 3, 1, 4, 4, 4, 4, 4, 0, 3, 4, 4, 3, 0, 3, 4, 4, 4, 4, 4, 4, 1, 4, 0, 0, 4, 4, 4, 1, 4, 4, 4, 4, 4, 4, 4, 3, 4, 3, 4, 4, 1, 4, 3, 4, 4, 4, 4, 4, 3, 1, 4, 3, 4, 3, 4, 0, 4, 4, 4, 3, 4, 0, 4, 2, 4, 3, 2, 4, 3, 4, 3, 1, 3, 3, 4, 3, 2, 4, 1, 4, 4, 3, 2, 1, 4, 4, 4, 4, 4, 3, 2, 4, 4, 3, 4, 4, 4, 4, 4, 4, 4, 1, 3, 4, 4, 4, 4, 4, 4, 3, 4, 3, 4, 4, 4, 4, 4, 4, 3, 4, 4, 4, 4, 4, 4, 4, 2, 4, 3, 4, 4, 3, 4, 4, 4, 4, 3, 3, 0, 4, 4, 0, 4, 4, 4, 4, 2, 1, 3, 4, 3, 4, 4, 3, 3, 4, 4, 1, 4, 4, 4, 4, 4, 4, 1, 4, 4, 4, 4, 3, 3, 4, 3, 4, 4, 4, 4, 4, 3, 4, 3, 4, 4, 3, 2, 3, 3, 4, 4, 3, 4, 4, 4, 3, 4, 4, 4, 4, 4, 1, 0, 4, 4, 3, 4, 3, 4, 3, 4, 4, 4, 0, 4, 1, 3, 3, 3, 4, 4, 3, 4, 4, 3, 4, 4, 1, 4, 4, 4, 4, 4, 4, 0, 4, 3, 3, 3]\n",
            "[4, 4, 4, 4, 3, 3, 1, 4, 3, 0, 1, 1, 1, 4, 0, 2, 3, 2, 4, 0, 3, 2, 4, 0, 0, 1, 1, 4, 1, 1, 3, 0, 3, 1, 3, 2, 0, 4, 3, 1, 2, 3, 1, 4, 1, 2, 3, 2, 1, 4, 2, 2, 2, 4, 0, 3, 0, 1, 4, 1, 3, 4, 1, 1, 4, 0, 2, 2, 4, 3, 4, 2, 3, 0, 0, 0, 2, 0, 4, 1, 1, 4, 4, 0, 3, 3, 0, 2, 3, 1, 4, 4, 2, 3, 1, 1, 4, 1, 4, 3, 1, 3, 3, 0, 0, 1, 1, 2, 1, 2, 4, 1, 3, 4, 3, 0, 0, 4, 4, 0, 1, 4, 1, 4, 3, 2, 2, 1, 0, 1, 2, 4, 2, 1, 1, 3, 2, 4, 0, 0, 1, 1, 1, 3, 2, 2, 1, 4, 1, 3, 0, 2, 1, 3, 4, 4, 4, 3, 1, 3, 4, 3, 0, 3, 0, 4, 3, 4, 4, 1, 2, 3, 0, 0, 0, 3, 1, 0, 0, 3, 0, 1, 4, 2, 4, 0, 2, 2, 4, 3, 1, 2, 3, 0, 0, 4, 4, 1, 1, 1, 0, 1, 3, 2, 0, 2, 4, 3, 2, 3, 0, 3, 1, 3, 0, 4, 2, 0, 1, 1, 0, 3, 2, 1, 1, 1, 4, 3, 1, 4, 3, 1, 3, 1, 1, 2, 1, 4, 3, 1, 1, 2, 0, 2, 2, 3, 4, 2, 2, 2, 4, 3, 4, 4, 1, 3, 1, 1, 2, 3, 3, 4, 2, 0, 4, 4, 1, 1, 0, 4, 4, 4, 1, 1, 4, 4, 3, 0, 4, 4, 1, 4, 4, 2, 4, 0, 4, 2, 3, 0, 2, 3, 1, 4, 1, 1, 1, 0, 2, 4, 1, 1, 3, 4, 1, 4, 3, 4, 4, 3, 2, 3, 4, 2, 1, 2, 4, 2, 4, 1, 3, 0, 0, 2, 0, 3, 4, 0, 4, 4, 0, 0, 0, 3, 0, 2, 3, 4, 2, 2, 1, 2, 3, 1, 1, 0, 0, 1, 3, 1, 4, 1, 4, 0, 1, 3, 3, 4, 0, 1, 4, 0, 1, 4, 3, 4, 3, 2, 3, 4, 3, 1, 4, 2, 3, 4, 1, 3, 0, 3, 0, 4, 3, 2, 0, 4, 4, 2, 3, 4, 2, 4, 2, 4, 1, 4, 4, 3, 1, 1, 1, 0, 0, 1, 3, 0, 2, 0, 0, 4, 2, 3, 3, 2, 4, 0, 4, 1, 3, 0, 2, 4, 2, 3, 4, 3, 4, 0, 1, 1, 1, 4, 3, 2, 3, 4, 3, 1, 1, 1, 4, 1, 2, 3, 4, 3, 3, 4, 3, 1, 2, 4, 2, 3, 4, 1, 3, 4, 4, 3, 3, 3, 2, 1, 1, 0, 1, 2, 4, 0, 2, 3, 1, 1, 3, 2, 2, 2, 3, 4, 4, 1, 0, 2, 2, 1, 4, 3, 4, 2, 3, 3, 3, 4, 4, 1, 3, 3, 3, 2, 1, 1, 0, 1, 3, 0, 2, 1, 4, 3, 0, 2, 4, 2, 4, 0, 3, 3, 0, 3, 1, 1, 1, 3, 4, 0, 1, 4, 2, 1, 4, 1, 1, 1, 3, 4, 3, 3, 0, 2, 4, 4, 4, 1, 0, 3, 0, 1, 2, 4, 2, 3, 1, 4, 4, 0, 1, 1, 3, 4, 4, 2, 3, 4, 2, 1, 1, 2, 3, 4, 1, 0, 0, 3, 0, 3, 0, 1, 0, 1, 0, 4, 0, 2, 2, 2, 0, 3, 1, 4, 4, 2, 4, 4, 3, 0, 1, 1, 4, 3, 3, 4, 3, 3, 2, 0, 1, 0, 4, 3, 4, 1, 3, 2, 4, 0, 3, 1, 1, 4, 0, 0, 1, 0, 1, 0, 2, 4, 4, 1, 4, 1, 2, 3, 2, 4, 2, 0, 3, 1, 4, 1, 4, 3, 2, 3, 2, 0, 4, 2, 4, 1, 3, 1, 2, 0, 2, 1, 1, 1, 0, 1, 0, 4, 1, 0, 4, 3, 4, 1, 4, 3, 0, 1, 4, 0, 4, 4, 1, 2, 2, 1, 0, 0, 3, 0, 3, 0, 3, 3, 0, 3, 0, 4, 4, 1, 1, 4, 0, 3, 4, 2, 0, 2, 4, 4, 1, 0, 1, 2, 4, 0, 2, 0, 1, 0, 4, 1, 0, 4, 3, 3, 1, 3, 0, 4, 0, 2, 2, 2, 0, 4, 0, 1, 2, 1, 3, 2, 1, 4, 1, 3, 2, 1, 3, 3, 4, 1, 4, 1, 0, 3, 0, 0, 2, 0, 0, 1, 3, 4, 4, 3, 2, 1, 4, 0, 2, 0, 0, 0, 4, 2, 2, 0, 2, 2, 4, 1, 4, 4, 3, 3, 4, 1, 1, 0, 1, 4, 1, 1, 3, 3, 2, 0, 3, 1, 4, 0, 0, 0, 4, 0, 1, 2, 2, 1, 3, 4, 1, 2, 1, 2, 3, 2, 0, 3, 0, 1, 1, 4, 3, 2, 3, 1, 3, 1, 1, 3, 4, 0, 3, 4, 1, 1, 0, 4, 1, 1, 2, 1, 1, 4, 4, 4, 1, 2, 2, 4, 4, 0, 4, 3, 2, 2, 0, 1, 3, 3, 1, 0, 1, 2, 4, 2, 0, 3, 1, 1, 3, 0, 3, 4, 0, 0, 1, 2, 1, 1, 4, 2, 2, 3, 1, 1, 0, 1, 2, 0, 3, 3, 1, 0, 2, 4, 4, 1, 2, 1, 1, 4, 3, 1, 3, 1, 1, 0, 2, 2, 0, 4, 0, 1, 3, 4, 4, 4, 4, 0, 0, 3, 2, 2, 3, 1, 1, 2, 4, 4, 0, 4, 0, 2, 0, 2, 1, 3, 4, 1, 2, 2, 4, 3, 4, 1, 4, 0, 2, 4, 3, 4, 4, 4, 1, 1, 0, 2, 1, 4, 1, 2, 2, 0, 4, 1, 1, 2, 3, 3, 1, 1, 1, 0, 4, 4, 1, 4, 3, 1, 4, 0, 4, 2, 2, 2, 3, 1, 4, 0, 3, 2, 0, 1, 2, 1, 2, 3, 0, 3, 1, 4, 3, 4, 3, 2, 1, 0, 4, 3, 2, 3, 2, 3, 2, 4, 0, 1, 4, 2, 4, 4, 0, 2, 2, 1, 1, 1, 2, 4, 1, 4, 1, 3, 4, 3, 1, 2, 4, 2, 4, 3, 2, 2, 4, 4, 2, 1, 3, 4, 4, 3, 2, 4, 0, 1, 4, 1, 3, 3, 0, 3, 4, 0, 3, 4, 1, 0, 1, 2, 0, 0, 4, 4, 0, 1, 0, 3, 3, 3, 3, 3, 2, 4, 4, 4, 1, 2, 0, 1, 2, 4, 3, 2, 3, 2, 2, 3, 1, 2, 4, 1, 3, 2, 1, 3, 3, 0, 1, 1, 1, 1, 1, 4, 4, 0, 3, 4, 1, 4, 1, 1, 2, 0, 0, 0, 3, 0, 0, 3, 1, 3, 4, 2, 3, 1, 3, 1, 4, 2, 1, 4, 2, 3, 0, 0, 4, 2, 0, 1, 1, 2, 2, 3, 1, 1, 4, 1, 3, 1, 1, 4, 1, 4, 1, 0, 4, 4, 3, 1, 4, 2, 2, 2, 1, 1, 1, 4, 0, 0, 0, 4, 3, 1, 0, 1, 4, 0, 4, 3, 4, 3, 1, 0, 1, 3, 3, 2, 0, 2, 0, 3, 4, 3, 4, 0, 4, 0, 0, 4, 3, 4, 1, 3, 4, 4, 0, 1, 2, 2, 4, 0, 0, 1, 0, 4, 0, 0, 3, 0, 1, 1, 1, 0, 4, 1, 2, 0, 2, 4, 0, 1, 1, 4, 1, 4, 3, 1, 3, 1, 2, 4, 1, 2, 2, 1, 3, 4, 4, 4, 4, 0, 4, 1, 0, 1, 1, 4, 0, 4, 3, 1, 4, 2, 3, 3, 0, 0, 1, 0, 0, 4, 0, 4, 3, 4, 4, 4, 1, 2, 0, 1, 2, 4, 2, 2, 3, 0, 1, 4, 2, 0, 1, 2, 4, 0, 3, 4, 1, 0, 3, 3, 1, 3, 2, 1, 1, 4, 1, 0, 4, 1, 4, 3, 4, 4, 4, 4, 0, 4, 0, 0, 0, 4, 1, 1, 4, 4, 3, 3, 1, 2, 4, 1, 0, 0, 1, 1, 4, 1, 1, 4, 2, 1, 1, 3, 1, 1, 3, 2, 0, 1, 1, 3, 3, 3, 1, 1, 3, 3, 4, 1, 4, 1, 0, 0, 3, 3, 4, 4, 1, 2, 4, 1, 1, 1, 0, 0, 0, 3, 0, 0, 4, 1, 2, 1, 4, 0, 1, 1, 2, 1, 0, 1, 0, 2, 4, 4, 3, 1, 0, 2, 2, 1, 2, 4, 1, 2, 1, 0, 4, 4, 4, 4, 2, 2, 1, 3, 0, 0, 3, 2, 0, 1, 1, 4, 3, 4, 0, 2, 4, 2, 1, 4, 1, 3, 2, 2, 4, 2, 1, 4, 0, 0, 4, 2, 1, 2, 3, 2, 2, 4, 0, 2, 0, 4, 4, 0, 1, 4, 0, 4, 3, 1, 2, 4, 3, 1, 0, 1, 3, 3, 1, 4, 3, 0, 4, 4, 4, 3, 1, 4, 2, 1, 2, 0, 4, 4, 1, 2, 0, 1, 3, 2, 1, 2, 1, 2, 4, 0, 4, 1, 1, 0, 0, 1, 2, 0, 4, 3, 3, 0, 1, 0, 1, 3, 0, 4, 2, 2, 0, 1, 3, 4, 4, 0, 4, 2, 2, 3, 3, 2, 2, 4, 0, 4, 1, 1, 1, 3, 0, 4, 2, 4, 0, 1, 1, 2, 2, 4, 0, 0, 0, 4, 3, 1, 0, 4, 0, 4, 2, 1, 2, 0, 1, 3, 1, 1, 2, 1, 4, 4, 2, 1, 4, 2, 2, 4, 1, 1, 0, 4, 0, 1, 1, 3, 0, 3, 3, 3, 4, 1, 2, 2, 0, 4, 2, 1, 0, 2, 1, 1, 4, 1, 4, 0, 3, 2, 3, 4, 3, 0, 1, 4, 3, 4, 3, 4, 4, 1, 1, 1, 2, 1, 0, 0, 3, 1, 2, 2, 4, 2, 1, 3, 0, 3, 1, 3, 3, 2, 1, 1, 1, 4, 3, 0, 1, 4, 0, 0, 0, 4, 0, 0, 2, 1, 1, 3, 0, 1, 1, 1, 2, 2, 1, 0, 1, 4, 4, 1, 4, 3, 0, 4, 3, 4, 4, 1, 4, 3, 4, 2, 4, 2, 0, 3, 4, 1, 2, 1, 1, 1, 3, 1, 4, 1, 0, 4, 0, 1, 3, 3, 2, 2, 1, 3, 1, 1, 1, 0, 0, 4, 2, 0, 0, 1, 0, 3, 0, 4, 4, 0]\n"
          ],
          "name": "stdout"
        }
      ]
    },
    {
      "cell_type": "code",
      "metadata": {
        "colab": {
          "base_uri": "https://localhost:8080/"
        },
        "id": "P7CFLYgfwydF",
        "outputId": "96db6745-18f0-403d-f7ab-2b0634e4b497"
      },
      "source": [
        "matched = []\n",
        "for i, v in enumerate(test_labels_result):\n",
        "  if  prediction_result[i] == test_labels_result[i]:\n",
        "    matched.append(\"Yes\")\n",
        "  else:\n",
        "    matched.append(\"No\")\n",
        "\n",
        "print(\"There are\",matched.count(\"Yes\"), \"matched flowers and there are\", matched.count(\"No\"), \"unmatched flowers \")"
      ],
      "execution_count": 46,
      "outputs": [
        {
          "output_type": "stream",
          "text": [
            "There are 443 matched flowers and there are 1287 unmatched flowers \n"
          ],
          "name": "stdout"
        }
      ]
    }
  ]
}