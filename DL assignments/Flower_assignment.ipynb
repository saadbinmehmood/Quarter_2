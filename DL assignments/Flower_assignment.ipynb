{
  "nbformat": 4,
  "nbformat_minor": 0,
  "metadata": {
    "colab": {
      "name": "Flower_assignment.ipynb",
      "provenance": [],
      "collapsed_sections": []
    },
    "kernelspec": {
      "name": "python3",
      "display_name": "Python 3"
    },
    "language_info": {
      "name": "python"
    }
  },
  "cells": [
    {
      "cell_type": "markdown",
      "metadata": {
        "id": "O5o6a1KD34s7"
      },
      "source": [
        "As per the Mr. Umair Shahzad this assignment is to learn that how the images can be converted to tensors and the accuracy is not that important. If Convolution, Image Augumentation and Transfer learning is used, then accuracy can be achived above 80%. But without all this stuff, accuracy is not good. So please don't reject this assignment. It took me 3 weeks to complete this assignment since initially I lost so much time to attain 85% accuracy by using convolution and Transfer learning. Thanks "
      ]
    },
    {
      "cell_type": "code",
      "metadata": {
        "id": "kE7WobAkruEw"
      },
      "source": [
        "import os\n",
        "import zipfile\n",
        "import numpy as np\n",
        "import random\n",
        "import matplotlib.image as mpimg\n",
        "import matplotlib.pyplot as plt\n",
        "from keras.preprocessing import image\n",
        "import tensorflow as tf\n",
        "from google.colab import files\n",
        "from keras import models\n",
        "from keras import layers\n",
        "from keras import regularizers\n",
        "from sklearn.model_selection import train_test_split\n",
        "from tensorflow.keras.utils import to_categorical\n"
      ],
      "execution_count": 2,
      "outputs": []
    },
    {
      "cell_type": "code",
      "metadata": {
        "id": "RFWiOQXyr3cJ",
        "colab": {
          "base_uri": "https://localhost:8080/"
        },
        "outputId": "b9253f1f-293d-4102-cafc-2b9c4f14e1e7"
      },
      "source": [
        "from google.colab import drive\n",
        "drive.mount(\"/content/drive\")"
      ],
      "execution_count": 3,
      "outputs": [
        {
          "output_type": "stream",
          "text": [
            "Mounted at /content/drive\n"
          ],
          "name": "stdout"
        }
      ]
    },
    {
      "cell_type": "code",
      "metadata": {
        "id": "q2Of6YLbuem9"
      },
      "source": [
        "local_zip = \"/content/drive/MyDrive/flowers_new.zip\"\n",
        "zip_ref = zipfile.ZipFile(local_zip, \"r\")\n",
        "zip_ref.extractall(\"/flower_new\")\n",
        "zip_ref.close()"
      ],
      "execution_count": 8,
      "outputs": []
    },
    {
      "cell_type": "markdown",
      "metadata": {
        "id": "XdHL6gFs3VPx"
      },
      "source": [
        "**Converting the images to gray scale tensor and resize**"
      ]
    },
    {
      "cell_type": "code",
      "metadata": {
        "id": "3hLh4vC-0iSU"
      },
      "source": [
        "def convert_image(source, label):\n",
        "  fname = os.listdir(source)\n",
        "  images= None\n",
        "  \n",
        "  for i,value in enumerate(fname):\n",
        "    source_path = os.path.join(source, fname[i])\n",
        "    if os.path.getsize(source_path)==0:\n",
        "      print(\"file has zero size\")\n",
        "    else:\n",
        "      img=image.load_img(source_path, target_size=(28, 28)) # Load image\n",
        "      x=image.img_to_array(img)                               # Image to array RGB\n",
        "      x=tf.image.rgb_to_grayscale(x)                          # gray scale conversion\n",
        "      x=np.expand_dims(x, axis=0)\n",
        "      if images is None:\n",
        "        images = x\n",
        "      else:\n",
        "        images = np.vstack((images, x))\n",
        "  print(images.shape)\n",
        "  images=images.reshape(images.shape[0], 28*28*1)\n",
        "  print(images.shape)\n",
        "  label_in = np.ones((len(fname), 1))\n",
        "  label_in.fill(label)\n",
        "  print(label_in.shape)\n",
        "  images_new=np.hstack((images,label_in))\n",
        "  print(images_new.shape)\n",
        "  return images_new\n"
      ],
      "execution_count": 70,
      "outputs": []
    },
    {
      "cell_type": "code",
      "metadata": {
        "id": "ea28Aa7106bF"
      },
      "source": [
        "daisy_source_dir = \"/flower_new/flowers/daisy\"\n",
        "\n",
        "dandelion_source_dir = \"/flower_new/flowers/dandelion\"\n",
        "\n",
        "rose_source_dir = \"/flower_new/flowers/rose\"\n",
        "\n",
        "sunflower_source_dir = \"/flower_new/flowers/sunflower\"\n",
        "\n",
        "tulip_source_dir = \"/flower_new/flowers/tulip\""
      ],
      "execution_count": 71,
      "outputs": []
    },
    {
      "cell_type": "markdown",
      "metadata": {
        "id": "_2KZtw7A3N7l"
      },
      "source": [
        "**Converting the Images into tensor**"
      ]
    },
    {
      "cell_type": "code",
      "metadata": {
        "colab": {
          "base_uri": "https://localhost:8080/"
        },
        "id": "wI_0ht--10CQ",
        "outputId": "321cff6a-953e-40df-8e5c-5895dccea2cc"
      },
      "source": [
        "daisy = convert_image(daisy_source_dir, 0)\n",
        "dandelion = convert_image(dandelion_source_dir, 1)\n",
        "rose = convert_image(rose_source_dir, 2)\n",
        "sunflower = convert_image(sunflower_source_dir, 3)\n",
        "tulip = convert_image(tulip_source_dir, 4)"
      ],
      "execution_count": 72,
      "outputs": [
        {
          "output_type": "stream",
          "text": [
            "(769, 28, 28, 1)\n",
            "(769, 784)\n",
            "(769, 1)\n",
            "(769, 785)\n",
            "(1052, 28, 28, 1)\n",
            "(1052, 784)\n",
            "(1052, 1)\n",
            "(1052, 785)\n",
            "(784, 28, 28, 1)\n",
            "(784, 784)\n",
            "(784, 1)\n",
            "(784, 785)\n",
            "(734, 28, 28, 1)\n",
            "(734, 784)\n",
            "(734, 1)\n",
            "(734, 785)\n",
            "(984, 28, 28, 1)\n",
            "(984, 784)\n",
            "(984, 1)\n",
            "(984, 785)\n"
          ],
          "name": "stdout"
        }
      ]
    },
    {
      "cell_type": "code",
      "metadata": {
        "colab": {
          "base_uri": "https://localhost:8080/"
        },
        "id": "hR4y7Pgy7LkA",
        "outputId": "2a4d4387-8944-42f3-daf9-a13c1fa59f2b"
      },
      "source": [
        "data_array = np.vstack((daisy, dandelion, rose, sunflower, tulip))\n",
        "data_array.shape"
      ],
      "execution_count": 73,
      "outputs": [
        {
          "output_type": "execute_result",
          "data": {
            "text/plain": [
              "(4323, 785)"
            ]
          },
          "metadata": {
            "tags": []
          },
          "execution_count": 73
        }
      ]
    },
    {
      "cell_type": "code",
      "metadata": {
        "colab": {
          "base_uri": "https://localhost:8080/"
        },
        "id": "XIsQOI9JGt8j",
        "outputId": "db72fd90-6d54-4dfa-85e1-39cf15d01c95"
      },
      "source": [
        "np.random.shuffle(data_array)\n",
        "data_array[:10,-1]"
      ],
      "execution_count": 74,
      "outputs": [
        {
          "output_type": "execute_result",
          "data": {
            "text/plain": [
              "array([4., 3., 1., 1., 3., 1., 2., 4., 0., 1.])"
            ]
          },
          "metadata": {
            "tags": []
          },
          "execution_count": 74
        }
      ]
    },
    {
      "cell_type": "markdown",
      "metadata": {
        "id": "L3ux-iza3hNm"
      },
      "source": [
        "**Splittig the Training and Testing Data**"
      ]
    },
    {
      "cell_type": "code",
      "metadata": {
        "id": "qnsIFS73G3Ih"
      },
      "source": [
        "train_data, test_data, train_labels, test_labels=train_test_split(data_array[0:,:-1], data_array[:,-1], test_size=0.4, random_state=1)"
      ],
      "execution_count": 75,
      "outputs": []
    },
    {
      "cell_type": "code",
      "metadata": {
        "colab": {
          "base_uri": "https://localhost:8080/"
        },
        "id": "o3e0kUm0G4Ld",
        "outputId": "59425222-0ce2-4bf6-e5ee-46cedc84e4e6"
      },
      "source": [
        "train_data.shape"
      ],
      "execution_count": 76,
      "outputs": [
        {
          "output_type": "execute_result",
          "data": {
            "text/plain": [
              "(2593, 784)"
            ]
          },
          "metadata": {
            "tags": []
          },
          "execution_count": 76
        }
      ]
    },
    {
      "cell_type": "code",
      "metadata": {
        "colab": {
          "base_uri": "https://localhost:8080/"
        },
        "id": "2JNsIUZGJs9H",
        "outputId": "2b133967-ba31-43a1-c802-54004d345dde"
      },
      "source": [
        "test_data.shape"
      ],
      "execution_count": 77,
      "outputs": [
        {
          "output_type": "execute_result",
          "data": {
            "text/plain": [
              "(1730, 784)"
            ]
          },
          "metadata": {
            "tags": []
          },
          "execution_count": 77
        }
      ]
    },
    {
      "cell_type": "code",
      "metadata": {
        "colab": {
          "base_uri": "https://localhost:8080/"
        },
        "id": "dj-_3PhrJvgh",
        "outputId": "87f7196e-876d-4415-cb8f-07565c2b1785"
      },
      "source": [
        "train_labels.shape"
      ],
      "execution_count": 78,
      "outputs": [
        {
          "output_type": "execute_result",
          "data": {
            "text/plain": [
              "(2593,)"
            ]
          },
          "metadata": {
            "tags": []
          },
          "execution_count": 78
        }
      ]
    },
    {
      "cell_type": "code",
      "metadata": {
        "colab": {
          "base_uri": "https://localhost:8080/"
        },
        "id": "54U9eiBlJyGL",
        "outputId": "de7e5377-eef3-4fe3-efab-9d7b6dfb5615"
      },
      "source": [
        "test_labels.shape"
      ],
      "execution_count": 79,
      "outputs": [
        {
          "output_type": "execute_result",
          "data": {
            "text/plain": [
              "(1730,)"
            ]
          },
          "metadata": {
            "tags": []
          },
          "execution_count": 79
        }
      ]
    },
    {
      "cell_type": "markdown",
      "metadata": {
        "id": "2agMcZm66QWP"
      },
      "source": [
        "**One Hot encoding**"
      ]
    },
    {
      "cell_type": "code",
      "metadata": {
        "id": "guIhg7cdJ1XV"
      },
      "source": [
        "train_labels = to_categorical(train_labels)\n",
        "test_labels = to_categorical(test_labels)"
      ],
      "execution_count": 80,
      "outputs": []
    },
    {
      "cell_type": "code",
      "metadata": {
        "colab": {
          "base_uri": "https://localhost:8080/"
        },
        "id": "USVzpNMTUWgj",
        "outputId": "7efb2629-dade-4480-8387-353d7be54de5"
      },
      "source": [
        "np.unique(test_labels)"
      ],
      "execution_count": 81,
      "outputs": [
        {
          "output_type": "execute_result",
          "data": {
            "text/plain": [
              "array([0., 1.], dtype=float32)"
            ]
          },
          "metadata": {
            "tags": []
          },
          "execution_count": 81
        }
      ]
    },
    {
      "cell_type": "markdown",
      "metadata": {
        "id": "Tr5rYzqP6ck0"
      },
      "source": [
        "**Normalizing the Data**"
      ]
    },
    {
      "cell_type": "code",
      "metadata": {
        "id": "WQyRPKppQRs7"
      },
      "source": [
        "train_data=train_data.astype(\"float32\")/255\n",
        "test_data = test_data.astype(\"float32\")/255"
      ],
      "execution_count": 82,
      "outputs": []
    },
    {
      "cell_type": "markdown",
      "metadata": {
        "id": "GN7t-Yp03Aq6"
      },
      "source": [
        "**Building the Network**"
      ]
    },
    {
      "cell_type": "code",
      "metadata": {
        "id": "MVr9mxxRO341"
      },
      "source": [
        "def build_model():\n",
        "  model=models.Sequential()\n",
        "  model.add(layers.Dense(100,kernel_regularizer=regularizers.l1_l2(l1=.001, l2=.001), input_shape=(784,)))\n",
        "  model.add(layers.Dense(80,kernel_regularizer=regularizers.l1_l2(l1=.001, l2=.001), activation = \"relu\" ))\n",
        "  model.add(layers.Dropout(.2))\n",
        "  model.add(layers.Dense(80,kernel_regularizer=regularizers.l1_l2(l1=.001, l2=.001), activation = \"relu\" ))\n",
        "  model.add(layers.Dropout(.2))\n",
        "  model.add(layers.Dense(50,kernel_regularizer=regularizers.l1_l2(l1=.001, l2=.001), activation = \"relu\" ))\n",
        "  model.add(layers.Dropout(.2))\n",
        "  model.add(layers.Dense(40,kernel_regularizer=regularizers.l1_l2(l1=.001, l2=.001), activation = \"relu\" ))\n",
        "  model.add(layers.Dense(5, activation=\"softmax\"))\n",
        "  model.compile(optimizer=\"rmsprop\", loss = \"categorical_crossentropy\", metrics=[\"accuracy\"])\n",
        "\n",
        "  return model"
      ],
      "execution_count": 83,
      "outputs": []
    },
    {
      "cell_type": "markdown",
      "metadata": {
        "id": "gJIIzSwg27Co"
      },
      "source": [
        "**K fold Validation**"
      ]
    },
    {
      "cell_type": "code",
      "metadata": {
        "id": "xh-zIkt0RJZH",
        "colab": {
          "base_uri": "https://localhost:8080/"
        },
        "outputId": "dfee6567-29fb-4cda-a02f-b46168db28ee"
      },
      "source": [
        "k= 4\n",
        "num_val_sample = len(train_data) // k\n",
        "num_epochs =100\n",
        "all_scores = []\n",
        "all_val_loss_histories = []\n",
        "all_val_acc_histories = []\n",
        "all_loss_histories =[]\n",
        "all_acc_histories = []\n",
        "\n",
        "for i in range(k):\n",
        "  print(\"processing fold #\",i)\n",
        "  val_data = train_data[i*num_val_sample:(i+1)*num_val_sample]\n",
        "  val_labels = train_labels[i*num_val_sample: (i+1)*num_val_sample]\n",
        "\n",
        "  partial_train_data=np.concatenate([train_data[:i*num_val_sample], train_data[(i+1)*num_val_sample:]], axis=0)\n",
        "  partial_train_labels=np.concatenate([train_labels[:i*num_val_sample], train_labels[(i+1)*num_val_sample:]], axis=0)\n",
        "\n",
        "  model=build_model()\n",
        "  history = model.fit(partial_train_data, partial_train_labels, validation_data = (val_data, val_labels), epochs= num_epochs, batch_size=512, verbose=1)\n",
        "  val_loss, val_acc = model.evaluate(test_data, test_labels, verbose=0)\n",
        "  val_loss_history = history.history[\"val_loss\"]\n",
        "  val_acc_history = history.history[\"val_accuracy\"]\n",
        "  loss_history = history.history[\"loss\"]\n",
        "  acc_history = history.history[\"accuracy\"]\n",
        "  all_loss_histories.append(loss_history)\n",
        "  all_acc_histories.append(acc_history)\n",
        "  all_val_loss_histories.append(val_loss_history)\n",
        "  all_val_acc_histories.append(val_acc_history)\n",
        "  all_scores.append(val_loss)\n",
        "ave_val_loss_hist = [np.mean([x[i] for x in all_val_loss_histories]) for i in range(num_epochs)]\n",
        "ave_loss_hist = [np.mean([x[i] for x in all_loss_histories]) for i in range(num_epochs)]\n",
        "ave_val_acc_hist = [np.mean([x[i] for x in all_val_acc_histories]) for i in range(num_epochs)]\n",
        "ave_acc_hist = [np.mean([x[i] for x in all_acc_histories]) for i in range(num_epochs)]\n",
        "all_scores\n"
      ],
      "execution_count": 84,
      "outputs": [
        {
          "output_type": "stream",
          "text": [
            "processing fold # 0\n",
            "Epoch 1/100\n",
            "4/4 [==============================] - 1s 102ms/step - loss: 7.2190 - accuracy: 0.2030 - val_loss: 6.7213 - val_accuracy: 0.2546\n",
            "Epoch 2/100\n",
            "4/4 [==============================] - 0s 25ms/step - loss: 6.6420 - accuracy: 0.2052 - val_loss: 6.3057 - val_accuracy: 0.2330\n",
            "Epoch 3/100\n",
            "4/4 [==============================] - 0s 24ms/step - loss: 6.2315 - accuracy: 0.2406 - val_loss: 5.9488 - val_accuracy: 0.2423\n",
            "Epoch 4/100\n",
            "4/4 [==============================] - 0s 26ms/step - loss: 5.8707 - accuracy: 0.2506 - val_loss: 5.6102 - val_accuracy: 0.2840\n",
            "Epoch 5/100\n",
            "4/4 [==============================] - 0s 26ms/step - loss: 5.5639 - accuracy: 0.2543 - val_loss: 5.3546 - val_accuracy: 0.2022\n",
            "Epoch 6/100\n",
            "4/4 [==============================] - 0s 28ms/step - loss: 5.2898 - accuracy: 0.2525 - val_loss: 5.0591 - val_accuracy: 0.2778\n",
            "Epoch 7/100\n",
            "4/4 [==============================] - 0s 29ms/step - loss: 5.0238 - accuracy: 0.2675 - val_loss: 4.8295 - val_accuracy: 0.2793\n",
            "Epoch 8/100\n",
            "4/4 [==============================] - 0s 27ms/step - loss: 4.7792 - accuracy: 0.2764 - val_loss: 4.6429 - val_accuracy: 0.2253\n",
            "Epoch 9/100\n",
            "4/4 [==============================] - 0s 25ms/step - loss: 4.5794 - accuracy: 0.2765 - val_loss: 4.4040 - val_accuracy: 0.2731\n",
            "Epoch 10/100\n",
            "4/4 [==============================] - 0s 25ms/step - loss: 4.3606 - accuracy: 0.2790 - val_loss: 4.1726 - val_accuracy: 0.2901\n",
            "Epoch 11/100\n",
            "4/4 [==============================] - 0s 25ms/step - loss: 4.1312 - accuracy: 0.2942 - val_loss: 4.0241 - val_accuracy: 0.2809\n",
            "Epoch 12/100\n",
            "4/4 [==============================] - 0s 35ms/step - loss: 3.9817 - accuracy: 0.2758 - val_loss: 3.8057 - val_accuracy: 0.2809\n",
            "Epoch 13/100\n",
            "4/4 [==============================] - 0s 25ms/step - loss: 3.7776 - accuracy: 0.2890 - val_loss: 3.6387 - val_accuracy: 0.2824\n",
            "Epoch 14/100\n",
            "4/4 [==============================] - 0s 26ms/step - loss: 3.6181 - accuracy: 0.2796 - val_loss: 3.4619 - val_accuracy: 0.2917\n",
            "Epoch 15/100\n",
            "4/4 [==============================] - 0s 28ms/step - loss: 3.4540 - accuracy: 0.2918 - val_loss: 3.4437 - val_accuracy: 0.2392\n",
            "Epoch 16/100\n",
            "4/4 [==============================] - 0s 26ms/step - loss: 3.3763 - accuracy: 0.2630 - val_loss: 3.1981 - val_accuracy: 0.3102\n",
            "Epoch 17/100\n",
            "4/4 [==============================] - 0s 25ms/step - loss: 3.1914 - accuracy: 0.2850 - val_loss: 3.0907 - val_accuracy: 0.3086\n",
            "Epoch 18/100\n",
            "4/4 [==============================] - 0s 25ms/step - loss: 3.0628 - accuracy: 0.3156 - val_loss: 3.0597 - val_accuracy: 0.2361\n",
            "Epoch 19/100\n",
            "4/4 [==============================] - 0s 25ms/step - loss: 2.9922 - accuracy: 0.2878 - val_loss: 2.9392 - val_accuracy: 0.2562\n",
            "Epoch 20/100\n",
            "4/4 [==============================] - 0s 25ms/step - loss: 2.8744 - accuracy: 0.2956 - val_loss: 2.7785 - val_accuracy: 0.2886\n",
            "Epoch 21/100\n",
            "4/4 [==============================] - 0s 27ms/step - loss: 2.7610 - accuracy: 0.2660 - val_loss: 2.6837 - val_accuracy: 0.3025\n",
            "Epoch 22/100\n",
            "4/4 [==============================] - 0s 28ms/step - loss: 2.6609 - accuracy: 0.3220 - val_loss: 2.6172 - val_accuracy: 0.2870\n",
            "Epoch 23/100\n",
            "4/4 [==============================] - 0s 26ms/step - loss: 2.6201 - accuracy: 0.2777 - val_loss: 2.5266 - val_accuracy: 0.3025\n",
            "Epoch 24/100\n",
            "4/4 [==============================] - 0s 24ms/step - loss: 2.5311 - accuracy: 0.2854 - val_loss: 2.4689 - val_accuracy: 0.2948\n",
            "Epoch 25/100\n",
            "4/4 [==============================] - 0s 24ms/step - loss: 2.4934 - accuracy: 0.2684 - val_loss: 2.4645 - val_accuracy: 0.2747\n",
            "Epoch 26/100\n",
            "4/4 [==============================] - 0s 25ms/step - loss: 2.4271 - accuracy: 0.2883 - val_loss: 2.3852 - val_accuracy: 0.2840\n",
            "Epoch 27/100\n",
            "4/4 [==============================] - 0s 24ms/step - loss: 2.3894 - accuracy: 0.2584 - val_loss: 2.3089 - val_accuracy: 0.3102\n",
            "Epoch 28/100\n",
            "4/4 [==============================] - 0s 24ms/step - loss: 2.3138 - accuracy: 0.3048 - val_loss: 2.2552 - val_accuracy: 0.3102\n",
            "Epoch 29/100\n",
            "4/4 [==============================] - 0s 26ms/step - loss: 2.2573 - accuracy: 0.2856 - val_loss: 2.2218 - val_accuracy: 0.2932\n",
            "Epoch 30/100\n",
            "4/4 [==============================] - 0s 25ms/step - loss: 2.2156 - accuracy: 0.2991 - val_loss: 2.1821 - val_accuracy: 0.2901\n",
            "Epoch 31/100\n",
            "4/4 [==============================] - 0s 24ms/step - loss: 2.1969 - accuracy: 0.2680 - val_loss: 2.1454 - val_accuracy: 0.3164\n",
            "Epoch 32/100\n",
            "4/4 [==============================] - 0s 24ms/step - loss: 2.1452 - accuracy: 0.3088 - val_loss: 2.0953 - val_accuracy: 0.3071\n",
            "Epoch 33/100\n",
            "4/4 [==============================] - 0s 32ms/step - loss: 2.1009 - accuracy: 0.2923 - val_loss: 2.0609 - val_accuracy: 0.3086\n",
            "Epoch 34/100\n",
            "4/4 [==============================] - 0s 25ms/step - loss: 2.0587 - accuracy: 0.3003 - val_loss: 2.0407 - val_accuracy: 0.3071\n",
            "Epoch 35/100\n",
            "4/4 [==============================] - 0s 23ms/step - loss: 2.0263 - accuracy: 0.3078 - val_loss: 2.0007 - val_accuracy: 0.3040\n",
            "Epoch 36/100\n",
            "4/4 [==============================] - 0s 25ms/step - loss: 2.0099 - accuracy: 0.3020 - val_loss: 2.0024 - val_accuracy: 0.2870\n",
            "Epoch 37/100\n",
            "4/4 [==============================] - 0s 25ms/step - loss: 2.0030 - accuracy: 0.2833 - val_loss: 1.9775 - val_accuracy: 0.2994\n",
            "Epoch 38/100\n",
            "4/4 [==============================] - 0s 25ms/step - loss: 1.9570 - accuracy: 0.2942 - val_loss: 1.9274 - val_accuracy: 0.3194\n",
            "Epoch 39/100\n",
            "4/4 [==============================] - 0s 26ms/step - loss: 1.9262 - accuracy: 0.2888 - val_loss: 1.8860 - val_accuracy: 0.3102\n",
            "Epoch 40/100\n",
            "4/4 [==============================] - 0s 27ms/step - loss: 1.9029 - accuracy: 0.2916 - val_loss: 1.8822 - val_accuracy: 0.3164\n",
            "Epoch 41/100\n",
            "4/4 [==============================] - 0s 24ms/step - loss: 1.8795 - accuracy: 0.2983 - val_loss: 1.8837 - val_accuracy: 0.3040\n",
            "Epoch 42/100\n",
            "4/4 [==============================] - 0s 24ms/step - loss: 1.8578 - accuracy: 0.3138 - val_loss: 1.8374 - val_accuracy: 0.3025\n",
            "Epoch 43/100\n",
            "4/4 [==============================] - 0s 25ms/step - loss: 1.8406 - accuracy: 0.2938 - val_loss: 1.8158 - val_accuracy: 0.3102\n",
            "Epoch 44/100\n",
            "4/4 [==============================] - 0s 25ms/step - loss: 1.8320 - accuracy: 0.2915 - val_loss: 1.8111 - val_accuracy: 0.3148\n",
            "Epoch 45/100\n",
            "4/4 [==============================] - 0s 26ms/step - loss: 1.8017 - accuracy: 0.3162 - val_loss: 1.7979 - val_accuracy: 0.3133\n",
            "Epoch 46/100\n",
            "4/4 [==============================] - 0s 26ms/step - loss: 1.7898 - accuracy: 0.3024 - val_loss: 1.7773 - val_accuracy: 0.3102\n",
            "Epoch 47/100\n",
            "4/4 [==============================] - 0s 27ms/step - loss: 1.7850 - accuracy: 0.3081 - val_loss: 1.7572 - val_accuracy: 0.3148\n",
            "Epoch 48/100\n",
            "4/4 [==============================] - 0s 25ms/step - loss: 1.7484 - accuracy: 0.3286 - val_loss: 1.7495 - val_accuracy: 0.3133\n",
            "Epoch 49/100\n",
            "4/4 [==============================] - 0s 25ms/step - loss: 1.7623 - accuracy: 0.3015 - val_loss: 1.7404 - val_accuracy: 0.3102\n",
            "Epoch 50/100\n",
            "4/4 [==============================] - 0s 26ms/step - loss: 1.7509 - accuracy: 0.3011 - val_loss: 1.7364 - val_accuracy: 0.3086\n",
            "Epoch 51/100\n",
            "4/4 [==============================] - 0s 25ms/step - loss: 1.7505 - accuracy: 0.2848 - val_loss: 1.7238 - val_accuracy: 0.3102\n",
            "Epoch 52/100\n",
            "4/4 [==============================] - 0s 27ms/step - loss: 1.7127 - accuracy: 0.3263 - val_loss: 1.7258 - val_accuracy: 0.3133\n",
            "Epoch 53/100\n",
            "4/4 [==============================] - 0s 26ms/step - loss: 1.7325 - accuracy: 0.3217 - val_loss: 1.7093 - val_accuracy: 0.3117\n",
            "Epoch 54/100\n",
            "4/4 [==============================] - 0s 29ms/step - loss: 1.7095 - accuracy: 0.3115 - val_loss: 1.7031 - val_accuracy: 0.3071\n",
            "Epoch 55/100\n",
            "4/4 [==============================] - 0s 26ms/step - loss: 1.7043 - accuracy: 0.3260 - val_loss: 1.7086 - val_accuracy: 0.3148\n",
            "Epoch 56/100\n",
            "4/4 [==============================] - 0s 25ms/step - loss: 1.6986 - accuracy: 0.3286 - val_loss: 1.7295 - val_accuracy: 0.3148\n",
            "Epoch 57/100\n",
            "4/4 [==============================] - 0s 25ms/step - loss: 1.7172 - accuracy: 0.3176 - val_loss: 1.7221 - val_accuracy: 0.3071\n",
            "Epoch 58/100\n",
            "4/4 [==============================] - 0s 27ms/step - loss: 1.7061 - accuracy: 0.3198 - val_loss: 1.7189 - val_accuracy: 0.3086\n",
            "Epoch 59/100\n",
            "4/4 [==============================] - 0s 25ms/step - loss: 1.7104 - accuracy: 0.3100 - val_loss: 1.6874 - val_accuracy: 0.3009\n",
            "Epoch 60/100\n",
            "4/4 [==============================] - 0s 25ms/step - loss: 1.6892 - accuracy: 0.3172 - val_loss: 1.7178 - val_accuracy: 0.3117\n",
            "Epoch 61/100\n",
            "4/4 [==============================] - 0s 26ms/step - loss: 1.6993 - accuracy: 0.3037 - val_loss: 1.6917 - val_accuracy: 0.3025\n",
            "Epoch 62/100\n",
            "4/4 [==============================] - 0s 27ms/step - loss: 1.6815 - accuracy: 0.3217 - val_loss: 1.6746 - val_accuracy: 0.3148\n",
            "Epoch 63/100\n",
            "4/4 [==============================] - 0s 25ms/step - loss: 1.6730 - accuracy: 0.3279 - val_loss: 1.7001 - val_accuracy: 0.3102\n",
            "Epoch 64/100\n",
            "4/4 [==============================] - 0s 29ms/step - loss: 1.6927 - accuracy: 0.3093 - val_loss: 1.6867 - val_accuracy: 0.3056\n",
            "Epoch 65/100\n",
            "4/4 [==============================] - 0s 24ms/step - loss: 1.6810 - accuracy: 0.3032 - val_loss: 1.6695 - val_accuracy: 0.3040\n",
            "Epoch 66/100\n",
            "4/4 [==============================] - 0s 25ms/step - loss: 1.6591 - accuracy: 0.3248 - val_loss: 1.6984 - val_accuracy: 0.3117\n",
            "Epoch 67/100\n",
            "4/4 [==============================] - 0s 24ms/step - loss: 1.6843 - accuracy: 0.3152 - val_loss: 1.7273 - val_accuracy: 0.2917\n",
            "Epoch 68/100\n",
            "4/4 [==============================] - 0s 24ms/step - loss: 1.6922 - accuracy: 0.3133 - val_loss: 1.6653 - val_accuracy: 0.3179\n",
            "Epoch 69/100\n",
            "4/4 [==============================] - 0s 25ms/step - loss: 1.6655 - accuracy: 0.3138 - val_loss: 1.6651 - val_accuracy: 0.3164\n",
            "Epoch 70/100\n",
            "4/4 [==============================] - 0s 26ms/step - loss: 1.6535 - accuracy: 0.3257 - val_loss: 1.6627 - val_accuracy: 0.3117\n",
            "Epoch 71/100\n",
            "4/4 [==============================] - 0s 27ms/step - loss: 1.6674 - accuracy: 0.3056 - val_loss: 1.6603 - val_accuracy: 0.3148\n",
            "Epoch 72/100\n",
            "4/4 [==============================] - 0s 34ms/step - loss: 1.6652 - accuracy: 0.3101 - val_loss: 1.6597 - val_accuracy: 0.3179\n",
            "Epoch 73/100\n",
            "4/4 [==============================] - 0s 24ms/step - loss: 1.6563 - accuracy: 0.3154 - val_loss: 1.6655 - val_accuracy: 0.3071\n",
            "Epoch 74/100\n",
            "4/4 [==============================] - 0s 28ms/step - loss: 1.6786 - accuracy: 0.3003 - val_loss: 1.6672 - val_accuracy: 0.3102\n",
            "Epoch 75/100\n",
            "4/4 [==============================] - 0s 27ms/step - loss: 1.6628 - accuracy: 0.3221 - val_loss: 1.6558 - val_accuracy: 0.3133\n",
            "Epoch 76/100\n",
            "4/4 [==============================] - 0s 29ms/step - loss: 1.6584 - accuracy: 0.3145 - val_loss: 1.6801 - val_accuracy: 0.2994\n",
            "Epoch 77/100\n",
            "4/4 [==============================] - 0s 25ms/step - loss: 1.6659 - accuracy: 0.3059 - val_loss: 1.6534 - val_accuracy: 0.3194\n",
            "Epoch 78/100\n",
            "4/4 [==============================] - 0s 26ms/step - loss: 1.6603 - accuracy: 0.3045 - val_loss: 1.6766 - val_accuracy: 0.2978\n",
            "Epoch 79/100\n",
            "4/4 [==============================] - 0s 25ms/step - loss: 1.6664 - accuracy: 0.3141 - val_loss: 1.6523 - val_accuracy: 0.3179\n",
            "Epoch 80/100\n",
            "4/4 [==============================] - 0s 26ms/step - loss: 1.6463 - accuracy: 0.3131 - val_loss: 1.6530 - val_accuracy: 0.3133\n",
            "Epoch 81/100\n",
            "4/4 [==============================] - 0s 27ms/step - loss: 1.6596 - accuracy: 0.3103 - val_loss: 1.6681 - val_accuracy: 0.3071\n",
            "Epoch 82/100\n",
            "4/4 [==============================] - 0s 24ms/step - loss: 1.6515 - accuracy: 0.3317 - val_loss: 1.6562 - val_accuracy: 0.3148\n",
            "Epoch 83/100\n",
            "4/4 [==============================] - 0s 26ms/step - loss: 1.6442 - accuracy: 0.3170 - val_loss: 1.6488 - val_accuracy: 0.3025\n",
            "Epoch 84/100\n",
            "4/4 [==============================] - 0s 25ms/step - loss: 1.6440 - accuracy: 0.3150 - val_loss: 1.6781 - val_accuracy: 0.3117\n",
            "Epoch 85/100\n",
            "4/4 [==============================] - 0s 24ms/step - loss: 1.6543 - accuracy: 0.3319 - val_loss: 1.6821 - val_accuracy: 0.3025\n",
            "Epoch 86/100\n",
            "4/4 [==============================] - 0s 24ms/step - loss: 1.6678 - accuracy: 0.3054 - val_loss: 1.6663 - val_accuracy: 0.2932\n",
            "Epoch 87/100\n",
            "4/4 [==============================] - 0s 28ms/step - loss: 1.6535 - accuracy: 0.3253 - val_loss: 1.6594 - val_accuracy: 0.3133\n",
            "Epoch 88/100\n",
            "4/4 [==============================] - 0s 24ms/step - loss: 1.6432 - accuracy: 0.3178 - val_loss: 1.6547 - val_accuracy: 0.3056\n",
            "Epoch 89/100\n",
            "4/4 [==============================] - 0s 29ms/step - loss: 1.6386 - accuracy: 0.3175 - val_loss: 1.6561 - val_accuracy: 0.3071\n",
            "Epoch 90/100\n",
            "4/4 [==============================] - 0s 26ms/step - loss: 1.6581 - accuracy: 0.3117 - val_loss: 1.6438 - val_accuracy: 0.3256\n",
            "Epoch 91/100\n",
            "4/4 [==============================] - 0s 26ms/step - loss: 1.6591 - accuracy: 0.3068 - val_loss: 1.6435 - val_accuracy: 0.3179\n",
            "Epoch 92/100\n",
            "4/4 [==============================] - 0s 25ms/step - loss: 1.6400 - accuracy: 0.3289 - val_loss: 1.6495 - val_accuracy: 0.3194\n",
            "Epoch 93/100\n",
            "4/4 [==============================] - 0s 26ms/step - loss: 1.6513 - accuracy: 0.3033 - val_loss: 1.6410 - val_accuracy: 0.3164\n",
            "Epoch 94/100\n",
            "4/4 [==============================] - 0s 24ms/step - loss: 1.6467 - accuracy: 0.2990 - val_loss: 1.6441 - val_accuracy: 0.3117\n",
            "Epoch 95/100\n",
            "4/4 [==============================] - 0s 31ms/step - loss: 1.6357 - accuracy: 0.3242 - val_loss: 1.6555 - val_accuracy: 0.3056\n",
            "Epoch 96/100\n",
            "4/4 [==============================] - 0s 27ms/step - loss: 1.6485 - accuracy: 0.3041 - val_loss: 1.6429 - val_accuracy: 0.3102\n",
            "Epoch 97/100\n",
            "4/4 [==============================] - 0s 25ms/step - loss: 1.6344 - accuracy: 0.3370 - val_loss: 1.6421 - val_accuracy: 0.3148\n",
            "Epoch 98/100\n",
            "4/4 [==============================] - 0s 25ms/step - loss: 1.6310 - accuracy: 0.3285 - val_loss: 1.6390 - val_accuracy: 0.3210\n",
            "Epoch 99/100\n",
            "4/4 [==============================] - 0s 26ms/step - loss: 1.6366 - accuracy: 0.3227 - val_loss: 1.6446 - val_accuracy: 0.3194\n",
            "Epoch 100/100\n",
            "4/4 [==============================] - 0s 26ms/step - loss: 1.6425 - accuracy: 0.3184 - val_loss: 1.6821 - val_accuracy: 0.2963\n",
            "processing fold # 1\n",
            "Epoch 1/100\n",
            "4/4 [==============================] - 1s 104ms/step - loss: 7.2486 - accuracy: 0.1804 - val_loss: 6.7980 - val_accuracy: 0.2500\n",
            "Epoch 2/100\n",
            "4/4 [==============================] - 0s 26ms/step - loss: 6.7200 - accuracy: 0.2307 - val_loss: 6.4049 - val_accuracy: 0.2531\n",
            "Epoch 3/100\n",
            "4/4 [==============================] - 0s 27ms/step - loss: 6.3214 - accuracy: 0.2735 - val_loss: 6.0534 - val_accuracy: 0.2963\n",
            "Epoch 4/100\n",
            "4/4 [==============================] - 0s 26ms/step - loss: 5.9783 - accuracy: 0.2812 - val_loss: 5.7444 - val_accuracy: 0.2361\n",
            "Epoch 5/100\n",
            "4/4 [==============================] - 0s 25ms/step - loss: 5.6760 - accuracy: 0.2789 - val_loss: 5.4652 - val_accuracy: 0.2593\n",
            "Epoch 6/100\n",
            "4/4 [==============================] - 0s 29ms/step - loss: 5.3972 - accuracy: 0.2583 - val_loss: 5.1658 - val_accuracy: 0.2747\n",
            "Epoch 7/100\n",
            "4/4 [==============================] - 0s 26ms/step - loss: 5.1373 - accuracy: 0.2869 - val_loss: 4.9531 - val_accuracy: 0.2731\n",
            "Epoch 8/100\n",
            "4/4 [==============================] - 0s 24ms/step - loss: 4.8990 - accuracy: 0.2806 - val_loss: 4.7336 - val_accuracy: 0.2438\n",
            "Epoch 9/100\n",
            "4/4 [==============================] - 0s 27ms/step - loss: 4.6812 - accuracy: 0.2749 - val_loss: 4.5047 - val_accuracy: 0.2747\n",
            "Epoch 10/100\n",
            "4/4 [==============================] - 0s 28ms/step - loss: 4.4779 - accuracy: 0.2849 - val_loss: 4.2965 - val_accuracy: 0.3009\n",
            "Epoch 11/100\n",
            "4/4 [==============================] - 0s 24ms/step - loss: 4.2599 - accuracy: 0.2877 - val_loss: 4.1068 - val_accuracy: 0.3009\n",
            "Epoch 12/100\n",
            "4/4 [==============================] - 0s 25ms/step - loss: 4.0716 - accuracy: 0.2923 - val_loss: 3.9237 - val_accuracy: 0.3056\n",
            "Epoch 13/100\n",
            "4/4 [==============================] - 0s 25ms/step - loss: 3.8756 - accuracy: 0.3180 - val_loss: 3.7999 - val_accuracy: 0.2361\n",
            "Epoch 14/100\n",
            "4/4 [==============================] - 0s 26ms/step - loss: 3.7386 - accuracy: 0.2655 - val_loss: 3.6007 - val_accuracy: 0.2778\n",
            "Epoch 15/100\n",
            "4/4 [==============================] - 0s 25ms/step - loss: 3.5421 - accuracy: 0.3038 - val_loss: 3.4993 - val_accuracy: 0.2145\n",
            "Epoch 16/100\n",
            "4/4 [==============================] - 0s 26ms/step - loss: 3.4412 - accuracy: 0.2613 - val_loss: 3.2844 - val_accuracy: 0.2685\n",
            "Epoch 17/100\n",
            "4/4 [==============================] - 0s 24ms/step - loss: 3.2734 - accuracy: 0.2922 - val_loss: 3.1427 - val_accuracy: 0.3071\n",
            "Epoch 18/100\n",
            "4/4 [==============================] - 0s 24ms/step - loss: 3.1160 - accuracy: 0.3088 - val_loss: 3.0463 - val_accuracy: 0.2778\n",
            "Epoch 19/100\n",
            "4/4 [==============================] - 0s 25ms/step - loss: 3.0004 - accuracy: 0.3019 - val_loss: 2.9300 - val_accuracy: 0.2917\n",
            "Epoch 20/100\n",
            "4/4 [==============================] - 0s 24ms/step - loss: 2.8761 - accuracy: 0.3190 - val_loss: 2.8165 - val_accuracy: 0.2870\n",
            "Epoch 21/100\n",
            "4/4 [==============================] - 0s 28ms/step - loss: 2.7983 - accuracy: 0.2981 - val_loss: 2.7030 - val_accuracy: 0.2731\n",
            "Epoch 22/100\n",
            "4/4 [==============================] - 0s 27ms/step - loss: 2.6760 - accuracy: 0.3033 - val_loss: 2.6105 - val_accuracy: 0.2762\n",
            "Epoch 23/100\n",
            "4/4 [==============================] - 0s 25ms/step - loss: 2.6047 - accuracy: 0.2925 - val_loss: 2.5426 - val_accuracy: 0.2963\n",
            "Epoch 24/100\n",
            "4/4 [==============================] - 0s 25ms/step - loss: 2.5363 - accuracy: 0.3016 - val_loss: 2.4776 - val_accuracy: 0.3164\n",
            "Epoch 25/100\n",
            "4/4 [==============================] - 0s 26ms/step - loss: 2.4506 - accuracy: 0.3335 - val_loss: 2.4301 - val_accuracy: 0.2639\n",
            "Epoch 26/100\n",
            "4/4 [==============================] - 0s 30ms/step - loss: 2.4481 - accuracy: 0.2781 - val_loss: 2.3752 - val_accuracy: 0.2963\n",
            "Epoch 27/100\n",
            "4/4 [==============================] - 0s 26ms/step - loss: 2.3611 - accuracy: 0.2884 - val_loss: 2.3084 - val_accuracy: 0.2701\n",
            "Epoch 28/100\n",
            "4/4 [==============================] - 0s 25ms/step - loss: 2.3084 - accuracy: 0.2814 - val_loss: 2.2676 - val_accuracy: 0.2978\n",
            "Epoch 29/100\n",
            "4/4 [==============================] - 0s 26ms/step - loss: 2.2595 - accuracy: 0.3174 - val_loss: 2.2174 - val_accuracy: 0.2685\n",
            "Epoch 30/100\n",
            "4/4 [==============================] - 0s 25ms/step - loss: 2.2356 - accuracy: 0.2870 - val_loss: 2.1708 - val_accuracy: 0.2701\n",
            "Epoch 31/100\n",
            "4/4 [==============================] - 0s 28ms/step - loss: 2.1656 - accuracy: 0.3031 - val_loss: 2.1711 - val_accuracy: 0.2670\n",
            "Epoch 32/100\n",
            "4/4 [==============================] - 0s 27ms/step - loss: 2.1441 - accuracy: 0.2910 - val_loss: 2.0905 - val_accuracy: 0.3179\n",
            "Epoch 33/100\n",
            "4/4 [==============================] - 0s 26ms/step - loss: 2.0809 - accuracy: 0.3213 - val_loss: 2.1345 - val_accuracy: 0.2685\n",
            "Epoch 34/100\n",
            "4/4 [==============================] - 0s 24ms/step - loss: 2.0779 - accuracy: 0.3163 - val_loss: 2.0456 - val_accuracy: 0.2994\n",
            "Epoch 35/100\n",
            "4/4 [==============================] - 0s 25ms/step - loss: 2.0260 - accuracy: 0.3139 - val_loss: 2.0040 - val_accuracy: 0.2731\n",
            "Epoch 36/100\n",
            "4/4 [==============================] - 0s 26ms/step - loss: 2.0072 - accuracy: 0.3001 - val_loss: 1.9665 - val_accuracy: 0.2840\n",
            "Epoch 37/100\n",
            "4/4 [==============================] - 0s 26ms/step - loss: 1.9634 - accuracy: 0.3205 - val_loss: 1.9385 - val_accuracy: 0.3164\n",
            "Epoch 38/100\n",
            "4/4 [==============================] - 0s 24ms/step - loss: 1.9225 - accuracy: 0.3183 - val_loss: 1.9580 - val_accuracy: 0.2870\n",
            "Epoch 39/100\n",
            "4/4 [==============================] - 0s 26ms/step - loss: 1.9104 - accuracy: 0.3185 - val_loss: 1.8949 - val_accuracy: 0.2762\n",
            "Epoch 40/100\n",
            "4/4 [==============================] - 0s 27ms/step - loss: 1.9005 - accuracy: 0.2980 - val_loss: 1.8686 - val_accuracy: 0.3133\n",
            "Epoch 41/100\n",
            "4/4 [==============================] - 0s 28ms/step - loss: 1.8516 - accuracy: 0.3311 - val_loss: 1.8482 - val_accuracy: 0.3117\n",
            "Epoch 42/100\n",
            "4/4 [==============================] - 0s 26ms/step - loss: 1.8430 - accuracy: 0.3190 - val_loss: 1.8614 - val_accuracy: 0.2994\n",
            "Epoch 43/100\n",
            "4/4 [==============================] - 0s 25ms/step - loss: 1.8315 - accuracy: 0.3145 - val_loss: 1.8209 - val_accuracy: 0.3086\n",
            "Epoch 44/100\n",
            "4/4 [==============================] - 0s 25ms/step - loss: 1.8236 - accuracy: 0.3115 - val_loss: 1.8026 - val_accuracy: 0.3194\n",
            "Epoch 45/100\n",
            "4/4 [==============================] - 0s 27ms/step - loss: 1.7872 - accuracy: 0.3272 - val_loss: 1.7867 - val_accuracy: 0.2917\n",
            "Epoch 46/100\n",
            "4/4 [==============================] - 0s 28ms/step - loss: 1.7754 - accuracy: 0.3112 - val_loss: 1.7888 - val_accuracy: 0.3102\n",
            "Epoch 47/100\n",
            "4/4 [==============================] - 0s 24ms/step - loss: 1.7686 - accuracy: 0.3190 - val_loss: 1.7649 - val_accuracy: 0.3133\n",
            "Epoch 48/100\n",
            "4/4 [==============================] - 0s 25ms/step - loss: 1.7583 - accuracy: 0.3163 - val_loss: 1.7638 - val_accuracy: 0.3009\n",
            "Epoch 49/100\n",
            "4/4 [==============================] - 0s 25ms/step - loss: 1.7420 - accuracy: 0.3171 - val_loss: 1.7475 - val_accuracy: 0.2824\n",
            "Epoch 50/100\n",
            "4/4 [==============================] - 0s 25ms/step - loss: 1.7513 - accuracy: 0.3022 - val_loss: 1.7382 - val_accuracy: 0.3164\n",
            "Epoch 51/100\n",
            "4/4 [==============================] - 0s 30ms/step - loss: 1.7231 - accuracy: 0.3185 - val_loss: 1.7551 - val_accuracy: 0.2901\n",
            "Epoch 52/100\n",
            "4/4 [==============================] - 0s 25ms/step - loss: 1.7361 - accuracy: 0.3168 - val_loss: 1.7294 - val_accuracy: 0.3009\n",
            "Epoch 53/100\n",
            "4/4 [==============================] - 0s 24ms/step - loss: 1.7186 - accuracy: 0.3217 - val_loss: 1.7246 - val_accuracy: 0.3009\n",
            "Epoch 54/100\n",
            "4/4 [==============================] - 0s 27ms/step - loss: 1.7105 - accuracy: 0.3236 - val_loss: 1.7643 - val_accuracy: 0.2886\n",
            "Epoch 55/100\n",
            "4/4 [==============================] - 0s 27ms/step - loss: 1.7096 - accuracy: 0.3320 - val_loss: 1.7459 - val_accuracy: 0.2870\n",
            "Epoch 56/100\n",
            "4/4 [==============================] - 0s 25ms/step - loss: 1.7039 - accuracy: 0.3428 - val_loss: 1.7270 - val_accuracy: 0.2932\n",
            "Epoch 57/100\n",
            "4/4 [==============================] - 0s 25ms/step - loss: 1.6985 - accuracy: 0.3322 - val_loss: 1.7490 - val_accuracy: 0.2901\n",
            "Epoch 58/100\n",
            "4/4 [==============================] - 0s 25ms/step - loss: 1.7083 - accuracy: 0.3176 - val_loss: 1.6922 - val_accuracy: 0.3194\n",
            "Epoch 59/100\n",
            "4/4 [==============================] - 0s 26ms/step - loss: 1.6732 - accuracy: 0.3441 - val_loss: 1.7352 - val_accuracy: 0.2948\n",
            "Epoch 60/100\n",
            "4/4 [==============================] - 0s 30ms/step - loss: 1.6861 - accuracy: 0.3037 - val_loss: 1.6927 - val_accuracy: 0.3040\n",
            "Epoch 61/100\n",
            "4/4 [==============================] - 0s 28ms/step - loss: 1.6774 - accuracy: 0.3260 - val_loss: 1.6926 - val_accuracy: 0.2978\n",
            "Epoch 62/100\n",
            "4/4 [==============================] - 0s 26ms/step - loss: 1.6798 - accuracy: 0.3270 - val_loss: 1.6807 - val_accuracy: 0.3194\n",
            "Epoch 63/100\n",
            "4/4 [==============================] - 0s 27ms/step - loss: 1.6842 - accuracy: 0.3015 - val_loss: 1.7233 - val_accuracy: 0.3040\n",
            "Epoch 64/100\n",
            "4/4 [==============================] - 0s 26ms/step - loss: 1.6752 - accuracy: 0.3243 - val_loss: 1.6751 - val_accuracy: 0.3164\n",
            "Epoch 65/100\n",
            "4/4 [==============================] - 0s 24ms/step - loss: 1.6615 - accuracy: 0.3254 - val_loss: 1.6760 - val_accuracy: 0.2932\n",
            "Epoch 66/100\n",
            "4/4 [==============================] - 0s 25ms/step - loss: 1.6729 - accuracy: 0.3116 - val_loss: 1.6722 - val_accuracy: 0.3040\n",
            "Epoch 67/100\n",
            "4/4 [==============================] - 0s 28ms/step - loss: 1.6543 - accuracy: 0.3216 - val_loss: 1.6854 - val_accuracy: 0.2747\n",
            "Epoch 68/100\n",
            "4/4 [==============================] - 0s 24ms/step - loss: 1.6868 - accuracy: 0.3066 - val_loss: 1.6686 - val_accuracy: 0.3241\n",
            "Epoch 69/100\n",
            "4/4 [==============================] - 0s 24ms/step - loss: 1.6703 - accuracy: 0.3137 - val_loss: 1.6669 - val_accuracy: 0.3148\n",
            "Epoch 70/100\n",
            "4/4 [==============================] - 0s 28ms/step - loss: 1.6574 - accuracy: 0.3168 - val_loss: 1.6807 - val_accuracy: 0.3040\n",
            "Epoch 71/100\n",
            "4/4 [==============================] - 0s 27ms/step - loss: 1.6637 - accuracy: 0.3227 - val_loss: 1.6828 - val_accuracy: 0.3071\n",
            "Epoch 72/100\n",
            "4/4 [==============================] - 0s 26ms/step - loss: 1.6589 - accuracy: 0.3107 - val_loss: 1.6689 - val_accuracy: 0.3148\n",
            "Epoch 73/100\n",
            "4/4 [==============================] - 0s 25ms/step - loss: 1.6502 - accuracy: 0.3234 - val_loss: 1.6814 - val_accuracy: 0.3025\n",
            "Epoch 74/100\n",
            "4/4 [==============================] - 0s 28ms/step - loss: 1.6629 - accuracy: 0.3246 - val_loss: 1.6621 - val_accuracy: 0.3194\n",
            "Epoch 75/100\n",
            "4/4 [==============================] - 0s 27ms/step - loss: 1.6607 - accuracy: 0.3221 - val_loss: 1.6644 - val_accuracy: 0.2948\n",
            "Epoch 76/100\n",
            "4/4 [==============================] - 0s 27ms/step - loss: 1.6535 - accuracy: 0.3212 - val_loss: 1.6612 - val_accuracy: 0.3071\n",
            "Epoch 77/100\n",
            "4/4 [==============================] - 0s 26ms/step - loss: 1.6397 - accuracy: 0.3230 - val_loss: 1.6622 - val_accuracy: 0.2994\n",
            "Epoch 78/100\n",
            "4/4 [==============================] - 0s 24ms/step - loss: 1.6413 - accuracy: 0.3276 - val_loss: 1.6582 - val_accuracy: 0.3164\n",
            "Epoch 79/100\n",
            "4/4 [==============================] - 0s 26ms/step - loss: 1.6434 - accuracy: 0.3301 - val_loss: 1.6628 - val_accuracy: 0.2917\n",
            "Epoch 80/100\n",
            "4/4 [==============================] - 0s 26ms/step - loss: 1.6414 - accuracy: 0.3263 - val_loss: 1.6575 - val_accuracy: 0.3102\n",
            "Epoch 81/100\n",
            "4/4 [==============================] - 0s 30ms/step - loss: 1.6431 - accuracy: 0.3291 - val_loss: 1.6615 - val_accuracy: 0.2901\n",
            "Epoch 82/100\n",
            "4/4 [==============================] - 0s 26ms/step - loss: 1.6553 - accuracy: 0.2971 - val_loss: 1.6597 - val_accuracy: 0.2994\n",
            "Epoch 83/100\n",
            "4/4 [==============================] - 0s 26ms/step - loss: 1.6421 - accuracy: 0.3154 - val_loss: 1.6740 - val_accuracy: 0.3056\n",
            "Epoch 84/100\n",
            "4/4 [==============================] - 0s 25ms/step - loss: 1.6387 - accuracy: 0.3301 - val_loss: 1.6669 - val_accuracy: 0.3025\n",
            "Epoch 85/100\n",
            "4/4 [==============================] - 0s 25ms/step - loss: 1.6341 - accuracy: 0.3408 - val_loss: 1.6520 - val_accuracy: 0.3117\n",
            "Epoch 86/100\n",
            "4/4 [==============================] - 0s 25ms/step - loss: 1.6400 - accuracy: 0.3271 - val_loss: 1.6664 - val_accuracy: 0.2901\n",
            "Epoch 87/100\n",
            "4/4 [==============================] - 0s 27ms/step - loss: 1.6451 - accuracy: 0.3145 - val_loss: 1.6548 - val_accuracy: 0.3086\n",
            "Epoch 88/100\n",
            "4/4 [==============================] - 0s 27ms/step - loss: 1.6393 - accuracy: 0.3139 - val_loss: 1.6504 - val_accuracy: 0.3133\n",
            "Epoch 89/100\n",
            "4/4 [==============================] - 0s 25ms/step - loss: 1.6435 - accuracy: 0.3080 - val_loss: 1.6511 - val_accuracy: 0.3194\n",
            "Epoch 90/100\n",
            "4/4 [==============================] - 0s 29ms/step - loss: 1.6340 - accuracy: 0.3133 - val_loss: 1.6530 - val_accuracy: 0.3102\n",
            "Epoch 91/100\n",
            "4/4 [==============================] - 0s 30ms/step - loss: 1.6493 - accuracy: 0.3273 - val_loss: 1.6496 - val_accuracy: 0.3179\n",
            "Epoch 92/100\n",
            "4/4 [==============================] - 0s 25ms/step - loss: 1.6308 - accuracy: 0.3193 - val_loss: 1.6680 - val_accuracy: 0.3086\n",
            "Epoch 93/100\n",
            "4/4 [==============================] - 0s 25ms/step - loss: 1.6303 - accuracy: 0.3244 - val_loss: 1.6552 - val_accuracy: 0.3133\n",
            "Epoch 94/100\n",
            "4/4 [==============================] - 0s 29ms/step - loss: 1.6363 - accuracy: 0.3267 - val_loss: 1.6574 - val_accuracy: 0.3040\n",
            "Epoch 95/100\n",
            "4/4 [==============================] - 0s 25ms/step - loss: 1.6392 - accuracy: 0.3149 - val_loss: 1.6589 - val_accuracy: 0.3025\n",
            "Epoch 96/100\n",
            "4/4 [==============================] - 0s 27ms/step - loss: 1.6352 - accuracy: 0.3221 - val_loss: 1.6626 - val_accuracy: 0.3086\n",
            "Epoch 97/100\n",
            "4/4 [==============================] - 0s 26ms/step - loss: 1.6272 - accuracy: 0.3347 - val_loss: 1.6796 - val_accuracy: 0.2978\n",
            "Epoch 98/100\n",
            "4/4 [==============================] - 0s 30ms/step - loss: 1.6281 - accuracy: 0.3155 - val_loss: 1.6457 - val_accuracy: 0.3148\n",
            "Epoch 99/100\n",
            "4/4 [==============================] - 0s 27ms/step - loss: 1.6230 - accuracy: 0.3186 - val_loss: 1.6454 - val_accuracy: 0.3133\n",
            "Epoch 100/100\n",
            "4/4 [==============================] - 0s 26ms/step - loss: 1.6205 - accuracy: 0.3333 - val_loss: 1.6514 - val_accuracy: 0.3102\n",
            "processing fold # 2\n",
            "Epoch 1/100\n",
            "4/4 [==============================] - 1s 100ms/step - loss: 7.2982 - accuracy: 0.2029 - val_loss: 6.8735 - val_accuracy: 0.2670\n",
            "Epoch 2/100\n",
            "4/4 [==============================] - 0s 26ms/step - loss: 6.7884 - accuracy: 0.2314 - val_loss: 6.4782 - val_accuracy: 0.2654\n",
            "Epoch 3/100\n",
            "4/4 [==============================] - 0s 25ms/step - loss: 6.4037 - accuracy: 0.2315 - val_loss: 6.1366 - val_accuracy: 0.2469\n",
            "Epoch 4/100\n",
            "4/4 [==============================] - 0s 25ms/step - loss: 6.0645 - accuracy: 0.2387 - val_loss: 5.8005 - val_accuracy: 0.3086\n",
            "Epoch 5/100\n",
            "4/4 [==============================] - 0s 26ms/step - loss: 5.7405 - accuracy: 0.2599 - val_loss: 5.4918 - val_accuracy: 0.3241\n",
            "Epoch 6/100\n",
            "4/4 [==============================] - 0s 27ms/step - loss: 5.4365 - accuracy: 0.2608 - val_loss: 5.1960 - val_accuracy: 0.2747\n",
            "Epoch 7/100\n",
            "4/4 [==============================] - 0s 24ms/step - loss: 5.1521 - accuracy: 0.2717 - val_loss: 4.9234 - val_accuracy: 0.3056\n",
            "Epoch 8/100\n",
            "4/4 [==============================] - 0s 24ms/step - loss: 4.8945 - accuracy: 0.2658 - val_loss: 4.6851 - val_accuracy: 0.2870\n",
            "Epoch 9/100\n",
            "4/4 [==============================] - 0s 26ms/step - loss: 4.6432 - accuracy: 0.2594 - val_loss: 4.4327 - val_accuracy: 0.3333\n",
            "Epoch 10/100\n",
            "4/4 [==============================] - 0s 26ms/step - loss: 4.3948 - accuracy: 0.2849 - val_loss: 4.2407 - val_accuracy: 0.2485\n",
            "Epoch 11/100\n",
            "4/4 [==============================] - 0s 25ms/step - loss: 4.2093 - accuracy: 0.2475 - val_loss: 4.0050 - val_accuracy: 0.2793\n",
            "Epoch 12/100\n",
            "4/4 [==============================] - 0s 26ms/step - loss: 3.9821 - accuracy: 0.2565 - val_loss: 3.8051 - val_accuracy: 0.3179\n",
            "Epoch 13/100\n",
            "4/4 [==============================] - 0s 25ms/step - loss: 3.7845 - accuracy: 0.2792 - val_loss: 3.6481 - val_accuracy: 0.2747\n",
            "Epoch 14/100\n",
            "4/4 [==============================] - 0s 25ms/step - loss: 3.6108 - accuracy: 0.2883 - val_loss: 3.4777 - val_accuracy: 0.2731\n",
            "Epoch 15/100\n",
            "4/4 [==============================] - 0s 26ms/step - loss: 3.4468 - accuracy: 0.2717 - val_loss: 3.3208 - val_accuracy: 0.2731\n",
            "Epoch 16/100\n",
            "4/4 [==============================] - 0s 27ms/step - loss: 3.2877 - accuracy: 0.2652 - val_loss: 3.1828 - val_accuracy: 0.2716\n",
            "Epoch 17/100\n",
            "4/4 [==============================] - 0s 28ms/step - loss: 3.1425 - accuracy: 0.2807 - val_loss: 3.0499 - val_accuracy: 0.2593\n",
            "Epoch 18/100\n",
            "4/4 [==============================] - 0s 24ms/step - loss: 3.0171 - accuracy: 0.2444 - val_loss: 2.8905 - val_accuracy: 0.3071\n",
            "Epoch 19/100\n",
            "4/4 [==============================] - 0s 28ms/step - loss: 2.8992 - accuracy: 0.2719 - val_loss: 2.7688 - val_accuracy: 0.3225\n",
            "Epoch 20/100\n",
            "4/4 [==============================] - 0s 25ms/step - loss: 2.7580 - accuracy: 0.2910 - val_loss: 2.7229 - val_accuracy: 0.2531\n",
            "Epoch 21/100\n",
            "4/4 [==============================] - 0s 27ms/step - loss: 2.6906 - accuracy: 0.2751 - val_loss: 2.6157 - val_accuracy: 0.2778\n",
            "Epoch 22/100\n",
            "4/4 [==============================] - 0s 25ms/step - loss: 2.5979 - accuracy: 0.2919 - val_loss: 2.5249 - val_accuracy: 0.3056\n",
            "Epoch 23/100\n",
            "4/4 [==============================] - 0s 27ms/step - loss: 2.5366 - accuracy: 0.2697 - val_loss: 2.4373 - val_accuracy: 0.3194\n",
            "Epoch 24/100\n",
            "4/4 [==============================] - 0s 27ms/step - loss: 2.4444 - accuracy: 0.2968 - val_loss: 2.3747 - val_accuracy: 0.3117\n",
            "Epoch 25/100\n",
            "4/4 [==============================] - 0s 28ms/step - loss: 2.3961 - accuracy: 0.2774 - val_loss: 2.3364 - val_accuracy: 0.3256\n",
            "Epoch 26/100\n",
            "4/4 [==============================] - 0s 27ms/step - loss: 2.3323 - accuracy: 0.2978 - val_loss: 2.2960 - val_accuracy: 0.2948\n",
            "Epoch 27/100\n",
            "4/4 [==============================] - 0s 26ms/step - loss: 2.3016 - accuracy: 0.2807 - val_loss: 2.2456 - val_accuracy: 0.2932\n",
            "Epoch 28/100\n",
            "4/4 [==============================] - 0s 26ms/step - loss: 2.2535 - accuracy: 0.2689 - val_loss: 2.1977 - val_accuracy: 0.3025\n",
            "Epoch 29/100\n",
            "4/4 [==============================] - 0s 27ms/step - loss: 2.1917 - accuracy: 0.3061 - val_loss: 2.1539 - val_accuracy: 0.3148\n",
            "Epoch 30/100\n",
            "4/4 [==============================] - 0s 26ms/step - loss: 2.1502 - accuracy: 0.3069 - val_loss: 2.1353 - val_accuracy: 0.2901\n",
            "Epoch 31/100\n",
            "4/4 [==============================] - 0s 27ms/step - loss: 2.1491 - accuracy: 0.2676 - val_loss: 2.0784 - val_accuracy: 0.3148\n",
            "Epoch 32/100\n",
            "4/4 [==============================] - 0s 27ms/step - loss: 2.0924 - accuracy: 0.2892 - val_loss: 2.0286 - val_accuracy: 0.3194\n",
            "Epoch 33/100\n",
            "4/4 [==============================] - 0s 25ms/step - loss: 2.0376 - accuracy: 0.2944 - val_loss: 2.0458 - val_accuracy: 0.2654\n",
            "Epoch 34/100\n",
            "4/4 [==============================] - 0s 27ms/step - loss: 2.0319 - accuracy: 0.2626 - val_loss: 2.0158 - val_accuracy: 0.2639\n",
            "Epoch 35/100\n",
            "4/4 [==============================] - 0s 26ms/step - loss: 1.9956 - accuracy: 0.2831 - val_loss: 1.9328 - val_accuracy: 0.3164\n",
            "Epoch 36/100\n",
            "4/4 [==============================] - 0s 27ms/step - loss: 1.9535 - accuracy: 0.2802 - val_loss: 1.9185 - val_accuracy: 0.3071\n",
            "Epoch 37/100\n",
            "4/4 [==============================] - 0s 28ms/step - loss: 1.9270 - accuracy: 0.2789 - val_loss: 1.9053 - val_accuracy: 0.2963\n",
            "Epoch 38/100\n",
            "4/4 [==============================] - 0s 29ms/step - loss: 1.9041 - accuracy: 0.2796 - val_loss: 1.8600 - val_accuracy: 0.3148\n",
            "Epoch 39/100\n",
            "4/4 [==============================] - 0s 26ms/step - loss: 1.8843 - accuracy: 0.2880 - val_loss: 1.8320 - val_accuracy: 0.3256\n",
            "Epoch 40/100\n",
            "4/4 [==============================] - 0s 26ms/step - loss: 1.8457 - accuracy: 0.2993 - val_loss: 1.8731 - val_accuracy: 0.2608\n",
            "Epoch 41/100\n",
            "4/4 [==============================] - 0s 26ms/step - loss: 1.8432 - accuracy: 0.2863 - val_loss: 1.7969 - val_accuracy: 0.3225\n",
            "Epoch 42/100\n",
            "4/4 [==============================] - 0s 25ms/step - loss: 1.8031 - accuracy: 0.2940 - val_loss: 1.8015 - val_accuracy: 0.2932\n",
            "Epoch 43/100\n",
            "4/4 [==============================] - 0s 27ms/step - loss: 1.8163 - accuracy: 0.2880 - val_loss: 1.7585 - val_accuracy: 0.3210\n",
            "Epoch 44/100\n",
            "4/4 [==============================] - 0s 30ms/step - loss: 1.7716 - accuracy: 0.2935 - val_loss: 1.7592 - val_accuracy: 0.3056\n",
            "Epoch 45/100\n",
            "4/4 [==============================] - 0s 26ms/step - loss: 1.7739 - accuracy: 0.2918 - val_loss: 1.7398 - val_accuracy: 0.3164\n",
            "Epoch 46/100\n",
            "4/4 [==============================] - 0s 27ms/step - loss: 1.7600 - accuracy: 0.2853 - val_loss: 1.7320 - val_accuracy: 0.3148\n",
            "Epoch 47/100\n",
            "4/4 [==============================] - 0s 26ms/step - loss: 1.7458 - accuracy: 0.2876 - val_loss: 1.7137 - val_accuracy: 0.3210\n",
            "Epoch 48/100\n",
            "4/4 [==============================] - 0s 28ms/step - loss: 1.7173 - accuracy: 0.2955 - val_loss: 1.6994 - val_accuracy: 0.3272\n",
            "Epoch 49/100\n",
            "4/4 [==============================] - 0s 27ms/step - loss: 1.7223 - accuracy: 0.2934 - val_loss: 1.7293 - val_accuracy: 0.2948\n",
            "Epoch 50/100\n",
            "4/4 [==============================] - 0s 26ms/step - loss: 1.7212 - accuracy: 0.2923 - val_loss: 1.6835 - val_accuracy: 0.3256\n",
            "Epoch 51/100\n",
            "4/4 [==============================] - 0s 27ms/step - loss: 1.6940 - accuracy: 0.3114 - val_loss: 1.6942 - val_accuracy: 0.3102\n",
            "Epoch 52/100\n",
            "4/4 [==============================] - 0s 28ms/step - loss: 1.7165 - accuracy: 0.2948 - val_loss: 1.7029 - val_accuracy: 0.3025\n",
            "Epoch 53/100\n",
            "4/4 [==============================] - 0s 27ms/step - loss: 1.6958 - accuracy: 0.3001 - val_loss: 1.6696 - val_accuracy: 0.3272\n",
            "Epoch 54/100\n",
            "4/4 [==============================] - 0s 25ms/step - loss: 1.6830 - accuracy: 0.3134 - val_loss: 1.6650 - val_accuracy: 0.3302\n",
            "Epoch 55/100\n",
            "4/4 [==============================] - 0s 28ms/step - loss: 1.6910 - accuracy: 0.2929 - val_loss: 1.6690 - val_accuracy: 0.3272\n",
            "Epoch 56/100\n",
            "4/4 [==============================] - 0s 29ms/step - loss: 1.6815 - accuracy: 0.3137 - val_loss: 1.6633 - val_accuracy: 0.3086\n",
            "Epoch 57/100\n",
            "4/4 [==============================] - 0s 26ms/step - loss: 1.6852 - accuracy: 0.3003 - val_loss: 1.6519 - val_accuracy: 0.3272\n",
            "Epoch 58/100\n",
            "4/4 [==============================] - 0s 28ms/step - loss: 1.6621 - accuracy: 0.3221 - val_loss: 1.6614 - val_accuracy: 0.3164\n",
            "Epoch 59/100\n",
            "4/4 [==============================] - 0s 27ms/step - loss: 1.6638 - accuracy: 0.3151 - val_loss: 1.6523 - val_accuracy: 0.3318\n",
            "Epoch 60/100\n",
            "4/4 [==============================] - 0s 25ms/step - loss: 1.6718 - accuracy: 0.3020 - val_loss: 1.6429 - val_accuracy: 0.3287\n",
            "Epoch 61/100\n",
            "4/4 [==============================] - 0s 27ms/step - loss: 1.6557 - accuracy: 0.3161 - val_loss: 1.6412 - val_accuracy: 0.3333\n",
            "Epoch 62/100\n",
            "4/4 [==============================] - 0s 25ms/step - loss: 1.6613 - accuracy: 0.3053 - val_loss: 1.6560 - val_accuracy: 0.3133\n",
            "Epoch 63/100\n",
            "4/4 [==============================] - 0s 26ms/step - loss: 1.6549 - accuracy: 0.3158 - val_loss: 1.6435 - val_accuracy: 0.3287\n",
            "Epoch 64/100\n",
            "4/4 [==============================] - 0s 29ms/step - loss: 1.6518 - accuracy: 0.3137 - val_loss: 1.6408 - val_accuracy: 0.3194\n",
            "Epoch 65/100\n",
            "4/4 [==============================] - 0s 27ms/step - loss: 1.6562 - accuracy: 0.2983 - val_loss: 1.6331 - val_accuracy: 0.3318\n",
            "Epoch 66/100\n",
            "4/4 [==============================] - 0s 30ms/step - loss: 1.6443 - accuracy: 0.3239 - val_loss: 1.6391 - val_accuracy: 0.3287\n",
            "Epoch 67/100\n",
            "4/4 [==============================] - 0s 26ms/step - loss: 1.6516 - accuracy: 0.3040 - val_loss: 1.6325 - val_accuracy: 0.3302\n",
            "Epoch 68/100\n",
            "4/4 [==============================] - 0s 26ms/step - loss: 1.6380 - accuracy: 0.2979 - val_loss: 1.6278 - val_accuracy: 0.3148\n",
            "Epoch 69/100\n",
            "4/4 [==============================] - 0s 28ms/step - loss: 1.6477 - accuracy: 0.3093 - val_loss: 1.6275 - val_accuracy: 0.3194\n",
            "Epoch 70/100\n",
            "4/4 [==============================] - 0s 28ms/step - loss: 1.6526 - accuracy: 0.3033 - val_loss: 1.6244 - val_accuracy: 0.3179\n",
            "Epoch 71/100\n",
            "4/4 [==============================] - 0s 27ms/step - loss: 1.6517 - accuracy: 0.3029 - val_loss: 1.6330 - val_accuracy: 0.3071\n",
            "Epoch 72/100\n",
            "4/4 [==============================] - 0s 27ms/step - loss: 1.6529 - accuracy: 0.2957 - val_loss: 1.6229 - val_accuracy: 0.3302\n",
            "Epoch 73/100\n",
            "4/4 [==============================] - 0s 31ms/step - loss: 1.6389 - accuracy: 0.3046 - val_loss: 1.6241 - val_accuracy: 0.3287\n",
            "Epoch 74/100\n",
            "4/4 [==============================] - 0s 26ms/step - loss: 1.6434 - accuracy: 0.3010 - val_loss: 1.6336 - val_accuracy: 0.2978\n",
            "Epoch 75/100\n",
            "4/4 [==============================] - 0s 31ms/step - loss: 1.6537 - accuracy: 0.3028 - val_loss: 1.6203 - val_accuracy: 0.3210\n",
            "Epoch 76/100\n",
            "4/4 [==============================] - 0s 28ms/step - loss: 1.6362 - accuracy: 0.3080 - val_loss: 1.6279 - val_accuracy: 0.3225\n",
            "Epoch 77/100\n",
            "4/4 [==============================] - 0s 24ms/step - loss: 1.6532 - accuracy: 0.3034 - val_loss: 1.6348 - val_accuracy: 0.3194\n",
            "Epoch 78/100\n",
            "4/4 [==============================] - 0s 27ms/step - loss: 1.6476 - accuracy: 0.2980 - val_loss: 1.6370 - val_accuracy: 0.3133\n",
            "Epoch 79/100\n",
            "4/4 [==============================] - 0s 27ms/step - loss: 1.6404 - accuracy: 0.3166 - val_loss: 1.6184 - val_accuracy: 0.3287\n",
            "Epoch 80/100\n",
            "4/4 [==============================] - 0s 26ms/step - loss: 1.6270 - accuracy: 0.3191 - val_loss: 1.6164 - val_accuracy: 0.3056\n",
            "Epoch 81/100\n",
            "4/4 [==============================] - 0s 28ms/step - loss: 1.6308 - accuracy: 0.3036 - val_loss: 1.6404 - val_accuracy: 0.3133\n",
            "Epoch 82/100\n",
            "4/4 [==============================] - 0s 28ms/step - loss: 1.6359 - accuracy: 0.3150 - val_loss: 1.6188 - val_accuracy: 0.3349\n",
            "Epoch 83/100\n",
            "4/4 [==============================] - 0s 28ms/step - loss: 1.6315 - accuracy: 0.3157 - val_loss: 1.6443 - val_accuracy: 0.3086\n",
            "Epoch 84/100\n",
            "4/4 [==============================] - 0s 27ms/step - loss: 1.6376 - accuracy: 0.2822 - val_loss: 1.6260 - val_accuracy: 0.3241\n",
            "Epoch 85/100\n",
            "4/4 [==============================] - 0s 29ms/step - loss: 1.6264 - accuracy: 0.3033 - val_loss: 1.6259 - val_accuracy: 0.3210\n",
            "Epoch 86/100\n",
            "4/4 [==============================] - 0s 25ms/step - loss: 1.6425 - accuracy: 0.3060 - val_loss: 1.6153 - val_accuracy: 0.3302\n",
            "Epoch 87/100\n",
            "4/4 [==============================] - 0s 25ms/step - loss: 1.6120 - accuracy: 0.3202 - val_loss: 1.6145 - val_accuracy: 0.3333\n",
            "Epoch 88/100\n",
            "4/4 [==============================] - 0s 27ms/step - loss: 1.6272 - accuracy: 0.3161 - val_loss: 1.6290 - val_accuracy: 0.2994\n",
            "Epoch 89/100\n",
            "4/4 [==============================] - 0s 26ms/step - loss: 1.6626 - accuracy: 0.2913 - val_loss: 1.6139 - val_accuracy: 0.3364\n",
            "Epoch 90/100\n",
            "4/4 [==============================] - 0s 27ms/step - loss: 1.6264 - accuracy: 0.3144 - val_loss: 1.6146 - val_accuracy: 0.3333\n",
            "Epoch 91/100\n",
            "4/4 [==============================] - 0s 27ms/step - loss: 1.6239 - accuracy: 0.3042 - val_loss: 1.6096 - val_accuracy: 0.3272\n",
            "Epoch 92/100\n",
            "4/4 [==============================] - 0s 26ms/step - loss: 1.6228 - accuracy: 0.3206 - val_loss: 1.6211 - val_accuracy: 0.3241\n",
            "Epoch 93/100\n",
            "4/4 [==============================] - 0s 27ms/step - loss: 1.6365 - accuracy: 0.3107 - val_loss: 1.6090 - val_accuracy: 0.3256\n",
            "Epoch 94/100\n",
            "4/4 [==============================] - 0s 29ms/step - loss: 1.6266 - accuracy: 0.3161 - val_loss: 1.6102 - val_accuracy: 0.3318\n",
            "Epoch 95/100\n",
            "4/4 [==============================] - 0s 28ms/step - loss: 1.6148 - accuracy: 0.3062 - val_loss: 1.6131 - val_accuracy: 0.3302\n",
            "Epoch 96/100\n",
            "4/4 [==============================] - 0s 27ms/step - loss: 1.6362 - accuracy: 0.3050 - val_loss: 1.6319 - val_accuracy: 0.3086\n",
            "Epoch 97/100\n",
            "4/4 [==============================] - 0s 28ms/step - loss: 1.6259 - accuracy: 0.3240 - val_loss: 1.6178 - val_accuracy: 0.3225\n",
            "Epoch 98/100\n",
            "4/4 [==============================] - 0s 31ms/step - loss: 1.6203 - accuracy: 0.3229 - val_loss: 1.6180 - val_accuracy: 0.3148\n",
            "Epoch 99/100\n",
            "4/4 [==============================] - 0s 30ms/step - loss: 1.6204 - accuracy: 0.3095 - val_loss: 1.6103 - val_accuracy: 0.3349\n",
            "Epoch 100/100\n",
            "4/4 [==============================] - 0s 26ms/step - loss: 1.6213 - accuracy: 0.3115 - val_loss: 1.6203 - val_accuracy: 0.3040\n",
            "processing fold # 3\n",
            "Epoch 1/100\n",
            "4/4 [==============================] - 1s 109ms/step - loss: 7.2359 - accuracy: 0.1994 - val_loss: 6.7731 - val_accuracy: 0.2145\n",
            "Epoch 2/100\n",
            "4/4 [==============================] - 0s 25ms/step - loss: 6.6696 - accuracy: 0.2431 - val_loss: 6.3538 - val_accuracy: 0.2438\n",
            "Epoch 3/100\n",
            "4/4 [==============================] - 0s 24ms/step - loss: 6.2687 - accuracy: 0.2598 - val_loss: 6.0053 - val_accuracy: 0.2253\n",
            "Epoch 4/100\n",
            "4/4 [==============================] - 0s 28ms/step - loss: 5.9292 - accuracy: 0.2556 - val_loss: 5.6779 - val_accuracy: 0.2608\n",
            "Epoch 5/100\n",
            "4/4 [==============================] - 0s 27ms/step - loss: 5.6100 - accuracy: 0.2904 - val_loss: 5.4002 - val_accuracy: 0.2346\n",
            "Epoch 6/100\n",
            "4/4 [==============================] - 0s 28ms/step - loss: 5.3234 - accuracy: 0.2753 - val_loss: 5.1551 - val_accuracy: 0.2485\n",
            "Epoch 7/100\n",
            "4/4 [==============================] - 0s 28ms/step - loss: 5.0853 - accuracy: 0.2740 - val_loss: 4.8819 - val_accuracy: 0.2685\n",
            "Epoch 8/100\n",
            "4/4 [==============================] - 0s 28ms/step - loss: 4.8322 - accuracy: 0.2869 - val_loss: 4.6701 - val_accuracy: 0.2330\n",
            "Epoch 9/100\n",
            "4/4 [==============================] - 0s 30ms/step - loss: 4.6005 - accuracy: 0.2776 - val_loss: 4.5600 - val_accuracy: 0.2269\n",
            "Epoch 10/100\n",
            "4/4 [==============================] - 0s 26ms/step - loss: 4.4376 - accuracy: 0.2696 - val_loss: 4.2397 - val_accuracy: 0.2762\n",
            "Epoch 11/100\n",
            "4/4 [==============================] - 0s 26ms/step - loss: 4.1945 - accuracy: 0.2914 - val_loss: 4.0756 - val_accuracy: 0.2670\n",
            "Epoch 12/100\n",
            "4/4 [==============================] - 0s 26ms/step - loss: 4.0235 - accuracy: 0.2816 - val_loss: 3.8955 - val_accuracy: 0.2670\n",
            "Epoch 13/100\n",
            "4/4 [==============================] - 0s 26ms/step - loss: 3.8602 - accuracy: 0.2707 - val_loss: 3.7334 - val_accuracy: 0.2423\n",
            "Epoch 14/100\n",
            "4/4 [==============================] - 0s 25ms/step - loss: 3.6668 - accuracy: 0.2930 - val_loss: 3.5732 - val_accuracy: 0.2377\n",
            "Epoch 15/100\n",
            "4/4 [==============================] - 0s 26ms/step - loss: 3.5192 - accuracy: 0.2905 - val_loss: 3.3964 - val_accuracy: 0.2654\n",
            "Epoch 16/100\n",
            "4/4 [==============================] - 0s 29ms/step - loss: 3.3352 - accuracy: 0.3195 - val_loss: 3.2424 - val_accuracy: 0.2762\n",
            "Epoch 17/100\n",
            "4/4 [==============================] - 0s 25ms/step - loss: 3.1904 - accuracy: 0.3168 - val_loss: 3.2313 - val_accuracy: 0.2269\n",
            "Epoch 18/100\n",
            "4/4 [==============================] - 0s 25ms/step - loss: 3.1432 - accuracy: 0.2663 - val_loss: 2.9996 - val_accuracy: 0.2608\n",
            "Epoch 19/100\n",
            "4/4 [==============================] - 0s 28ms/step - loss: 2.9620 - accuracy: 0.3055 - val_loss: 2.8805 - val_accuracy: 0.2762\n",
            "Epoch 20/100\n",
            "4/4 [==============================] - 0s 25ms/step - loss: 2.8542 - accuracy: 0.2939 - val_loss: 2.7947 - val_accuracy: 0.2762\n",
            "Epoch 21/100\n",
            "4/4 [==============================] - 0s 29ms/step - loss: 2.7597 - accuracy: 0.3056 - val_loss: 2.6987 - val_accuracy: 0.2731\n",
            "Epoch 22/100\n",
            "4/4 [==============================] - 0s 26ms/step - loss: 2.6632 - accuracy: 0.3027 - val_loss: 2.6215 - val_accuracy: 0.2824\n",
            "Epoch 23/100\n",
            "4/4 [==============================] - 0s 26ms/step - loss: 2.5852 - accuracy: 0.3145 - val_loss: 2.5553 - val_accuracy: 0.2623\n",
            "Epoch 24/100\n",
            "4/4 [==============================] - 0s 28ms/step - loss: 2.5375 - accuracy: 0.3030 - val_loss: 2.4991 - val_accuracy: 0.2762\n",
            "Epoch 25/100\n",
            "4/4 [==============================] - 0s 27ms/step - loss: 2.4622 - accuracy: 0.3001 - val_loss: 2.4384 - val_accuracy: 0.2593\n",
            "Epoch 26/100\n",
            "4/4 [==============================] - 0s 26ms/step - loss: 2.4122 - accuracy: 0.3014 - val_loss: 2.3756 - val_accuracy: 0.2762\n",
            "Epoch 27/100\n",
            "4/4 [==============================] - 0s 25ms/step - loss: 2.3516 - accuracy: 0.3050 - val_loss: 2.3741 - val_accuracy: 0.2608\n",
            "Epoch 28/100\n",
            "4/4 [==============================] - 0s 28ms/step - loss: 2.3329 - accuracy: 0.2997 - val_loss: 2.2834 - val_accuracy: 0.2670\n",
            "Epoch 29/100\n",
            "4/4 [==============================] - 0s 25ms/step - loss: 2.2681 - accuracy: 0.2947 - val_loss: 2.2395 - val_accuracy: 0.2809\n",
            "Epoch 30/100\n",
            "4/4 [==============================] - 0s 28ms/step - loss: 2.2190 - accuracy: 0.2998 - val_loss: 2.1943 - val_accuracy: 0.2747\n",
            "Epoch 31/100\n",
            "4/4 [==============================] - 0s 26ms/step - loss: 2.1782 - accuracy: 0.2999 - val_loss: 2.1497 - val_accuracy: 0.2870\n",
            "Epoch 32/100\n",
            "4/4 [==============================] - 0s 26ms/step - loss: 2.1484 - accuracy: 0.2878 - val_loss: 2.1117 - val_accuracy: 0.2809\n",
            "Epoch 33/100\n",
            "4/4 [==============================] - 0s 26ms/step - loss: 2.1044 - accuracy: 0.3043 - val_loss: 2.0776 - val_accuracy: 0.2762\n",
            "Epoch 34/100\n",
            "4/4 [==============================] - 0s 25ms/step - loss: 2.0605 - accuracy: 0.3035 - val_loss: 2.1054 - val_accuracy: 0.2654\n",
            "Epoch 35/100\n",
            "4/4 [==============================] - 0s 26ms/step - loss: 2.0807 - accuracy: 0.2784 - val_loss: 2.0229 - val_accuracy: 0.2793\n",
            "Epoch 36/100\n",
            "4/4 [==============================] - 0s 27ms/step - loss: 2.0109 - accuracy: 0.2952 - val_loss: 1.9897 - val_accuracy: 0.2824\n",
            "Epoch 37/100\n",
            "4/4 [==============================] - 0s 27ms/step - loss: 1.9692 - accuracy: 0.3068 - val_loss: 1.9784 - val_accuracy: 0.2793\n",
            "Epoch 38/100\n",
            "4/4 [==============================] - 0s 28ms/step - loss: 1.9544 - accuracy: 0.3109 - val_loss: 1.9514 - val_accuracy: 0.2855\n",
            "Epoch 39/100\n",
            "4/4 [==============================] - 0s 31ms/step - loss: 1.9293 - accuracy: 0.3081 - val_loss: 1.9152 - val_accuracy: 0.2855\n",
            "Epoch 40/100\n",
            "4/4 [==============================] - 0s 27ms/step - loss: 1.9162 - accuracy: 0.2947 - val_loss: 1.8887 - val_accuracy: 0.2948\n",
            "Epoch 41/100\n",
            "4/4 [==============================] - 0s 26ms/step - loss: 1.8842 - accuracy: 0.2956 - val_loss: 1.8863 - val_accuracy: 0.2824\n",
            "Epoch 42/100\n",
            "4/4 [==============================] - 0s 28ms/step - loss: 1.8705 - accuracy: 0.3012 - val_loss: 1.8717 - val_accuracy: 0.2639\n",
            "Epoch 43/100\n",
            "4/4 [==============================] - 0s 26ms/step - loss: 1.8302 - accuracy: 0.3074 - val_loss: 1.8587 - val_accuracy: 0.2608\n",
            "Epoch 44/100\n",
            "4/4 [==============================] - 0s 28ms/step - loss: 1.8176 - accuracy: 0.3054 - val_loss: 1.8183 - val_accuracy: 0.2840\n",
            "Epoch 45/100\n",
            "4/4 [==============================] - 0s 29ms/step - loss: 1.7995 - accuracy: 0.3125 - val_loss: 1.8032 - val_accuracy: 0.2840\n",
            "Epoch 46/100\n",
            "4/4 [==============================] - 0s 25ms/step - loss: 1.7955 - accuracy: 0.3040 - val_loss: 1.8014 - val_accuracy: 0.2886\n",
            "Epoch 47/100\n",
            "4/4 [==============================] - 0s 26ms/step - loss: 1.7882 - accuracy: 0.3105 - val_loss: 1.7966 - val_accuracy: 0.2809\n",
            "Epoch 48/100\n",
            "4/4 [==============================] - 0s 29ms/step - loss: 1.7732 - accuracy: 0.3161 - val_loss: 1.7742 - val_accuracy: 0.2778\n",
            "Epoch 49/100\n",
            "4/4 [==============================] - 0s 28ms/step - loss: 1.7507 - accuracy: 0.3159 - val_loss: 1.7963 - val_accuracy: 0.2531\n",
            "Epoch 50/100\n",
            "4/4 [==============================] - 0s 26ms/step - loss: 1.7420 - accuracy: 0.3074 - val_loss: 1.7493 - val_accuracy: 0.2901\n",
            "Epoch 51/100\n",
            "4/4 [==============================] - 0s 26ms/step - loss: 1.7593 - accuracy: 0.3015 - val_loss: 1.7468 - val_accuracy: 0.2762\n",
            "Epoch 52/100\n",
            "4/4 [==============================] - 0s 28ms/step - loss: 1.7184 - accuracy: 0.3238 - val_loss: 1.7419 - val_accuracy: 0.2793\n",
            "Epoch 53/100\n",
            "4/4 [==============================] - 0s 30ms/step - loss: 1.7175 - accuracy: 0.3162 - val_loss: 1.7276 - val_accuracy: 0.2932\n",
            "Epoch 54/100\n",
            "4/4 [==============================] - 0s 34ms/step - loss: 1.7195 - accuracy: 0.2996 - val_loss: 1.7267 - val_accuracy: 0.2809\n",
            "Epoch 55/100\n",
            "4/4 [==============================] - 0s 26ms/step - loss: 1.7046 - accuracy: 0.3187 - val_loss: 1.7203 - val_accuracy: 0.2824\n",
            "Epoch 56/100\n",
            "4/4 [==============================] - 0s 29ms/step - loss: 1.7113 - accuracy: 0.3205 - val_loss: 1.7440 - val_accuracy: 0.2593\n",
            "Epoch 57/100\n",
            "4/4 [==============================] - 0s 29ms/step - loss: 1.7052 - accuracy: 0.3062 - val_loss: 1.7215 - val_accuracy: 0.2809\n",
            "Epoch 58/100\n",
            "4/4 [==============================] - 0s 28ms/step - loss: 1.6845 - accuracy: 0.3256 - val_loss: 1.7258 - val_accuracy: 0.2716\n",
            "Epoch 59/100\n",
            "4/4 [==============================] - 0s 26ms/step - loss: 1.7090 - accuracy: 0.2960 - val_loss: 1.7060 - val_accuracy: 0.2824\n",
            "Epoch 60/100\n",
            "4/4 [==============================] - 0s 28ms/step - loss: 1.6794 - accuracy: 0.3335 - val_loss: 1.7006 - val_accuracy: 0.2855\n",
            "Epoch 61/100\n",
            "4/4 [==============================] - 0s 28ms/step - loss: 1.6987 - accuracy: 0.3163 - val_loss: 1.7040 - val_accuracy: 0.2747\n",
            "Epoch 62/100\n",
            "4/4 [==============================] - 0s 25ms/step - loss: 1.6754 - accuracy: 0.3236 - val_loss: 1.7102 - val_accuracy: 0.2747\n",
            "Epoch 63/100\n",
            "4/4 [==============================] - 0s 27ms/step - loss: 1.6797 - accuracy: 0.3053 - val_loss: 1.6961 - val_accuracy: 0.2762\n",
            "Epoch 64/100\n",
            "4/4 [==============================] - 0s 30ms/step - loss: 1.6725 - accuracy: 0.3085 - val_loss: 1.6860 - val_accuracy: 0.2870\n",
            "Epoch 65/100\n",
            "4/4 [==============================] - 0s 27ms/step - loss: 1.6680 - accuracy: 0.3222 - val_loss: 1.6890 - val_accuracy: 0.2793\n",
            "Epoch 66/100\n",
            "4/4 [==============================] - 0s 32ms/step - loss: 1.6588 - accuracy: 0.3163 - val_loss: 1.7004 - val_accuracy: 0.2855\n",
            "Epoch 67/100\n",
            "4/4 [==============================] - 0s 26ms/step - loss: 1.6819 - accuracy: 0.3173 - val_loss: 1.6789 - val_accuracy: 0.2932\n",
            "Epoch 68/100\n",
            "4/4 [==============================] - 0s 27ms/step - loss: 1.6651 - accuracy: 0.3174 - val_loss: 1.6781 - val_accuracy: 0.2840\n",
            "Epoch 69/100\n",
            "4/4 [==============================] - 0s 26ms/step - loss: 1.6640 - accuracy: 0.3164 - val_loss: 1.6831 - val_accuracy: 0.2762\n",
            "Epoch 70/100\n",
            "4/4 [==============================] - 0s 26ms/step - loss: 1.6527 - accuracy: 0.3297 - val_loss: 1.6768 - val_accuracy: 0.2870\n",
            "Epoch 71/100\n",
            "4/4 [==============================] - 0s 29ms/step - loss: 1.6696 - accuracy: 0.3142 - val_loss: 1.6710 - val_accuracy: 0.2870\n",
            "Epoch 72/100\n",
            "4/4 [==============================] - 0s 27ms/step - loss: 1.6523 - accuracy: 0.3152 - val_loss: 1.6874 - val_accuracy: 0.2747\n",
            "Epoch 73/100\n",
            "4/4 [==============================] - 0s 29ms/step - loss: 1.6596 - accuracy: 0.3217 - val_loss: 1.7035 - val_accuracy: 0.2685\n",
            "Epoch 74/100\n",
            "4/4 [==============================] - 0s 25ms/step - loss: 1.6641 - accuracy: 0.3090 - val_loss: 1.6653 - val_accuracy: 0.2994\n",
            "Epoch 75/100\n",
            "4/4 [==============================] - 0s 28ms/step - loss: 1.6460 - accuracy: 0.3250 - val_loss: 1.6671 - val_accuracy: 0.2932\n",
            "Epoch 76/100\n",
            "4/4 [==============================] - 0s 29ms/step - loss: 1.6512 - accuracy: 0.3294 - val_loss: 1.6610 - val_accuracy: 0.3009\n",
            "Epoch 77/100\n",
            "4/4 [==============================] - 0s 26ms/step - loss: 1.6408 - accuracy: 0.3319 - val_loss: 1.7581 - val_accuracy: 0.2361\n",
            "Epoch 78/100\n",
            "4/4 [==============================] - 0s 27ms/step - loss: 1.6667 - accuracy: 0.3143 - val_loss: 1.6624 - val_accuracy: 0.2948\n",
            "Epoch 79/100\n",
            "4/4 [==============================] - 0s 27ms/step - loss: 1.6293 - accuracy: 0.3417 - val_loss: 1.6612 - val_accuracy: 0.2978\n",
            "Epoch 80/100\n",
            "4/4 [==============================] - 0s 28ms/step - loss: 1.6560 - accuracy: 0.3047 - val_loss: 1.6571 - val_accuracy: 0.3009\n",
            "Epoch 81/100\n",
            "4/4 [==============================] - 0s 29ms/step - loss: 1.6449 - accuracy: 0.3286 - val_loss: 1.6678 - val_accuracy: 0.2840\n",
            "Epoch 82/100\n",
            "4/4 [==============================] - 0s 28ms/step - loss: 1.6417 - accuracy: 0.3172 - val_loss: 1.6951 - val_accuracy: 0.2670\n",
            "Epoch 83/100\n",
            "4/4 [==============================] - 0s 27ms/step - loss: 1.6672 - accuracy: 0.3095 - val_loss: 1.6765 - val_accuracy: 0.2716\n",
            "Epoch 84/100\n",
            "4/4 [==============================] - 0s 28ms/step - loss: 1.6446 - accuracy: 0.3235 - val_loss: 1.6647 - val_accuracy: 0.2809\n",
            "Epoch 85/100\n",
            "4/4 [==============================] - 0s 27ms/step - loss: 1.6309 - accuracy: 0.3343 - val_loss: 1.6604 - val_accuracy: 0.2824\n",
            "Epoch 86/100\n",
            "4/4 [==============================] - 0s 27ms/step - loss: 1.6389 - accuracy: 0.3197 - val_loss: 1.6722 - val_accuracy: 0.2809\n",
            "Epoch 87/100\n",
            "4/4 [==============================] - 0s 27ms/step - loss: 1.6276 - accuracy: 0.3255 - val_loss: 1.6580 - val_accuracy: 0.2824\n",
            "Epoch 88/100\n",
            "4/4 [==============================] - 0s 27ms/step - loss: 1.6297 - accuracy: 0.3332 - val_loss: 1.6555 - val_accuracy: 0.2901\n",
            "Epoch 89/100\n",
            "4/4 [==============================] - 0s 29ms/step - loss: 1.6414 - accuracy: 0.3246 - val_loss: 1.6965 - val_accuracy: 0.2608\n",
            "Epoch 90/100\n",
            "4/4 [==============================] - 0s 28ms/step - loss: 1.6393 - accuracy: 0.3148 - val_loss: 1.6548 - val_accuracy: 0.2840\n",
            "Epoch 91/100\n",
            "4/4 [==============================] - 0s 27ms/step - loss: 1.6259 - accuracy: 0.3368 - val_loss: 1.6641 - val_accuracy: 0.2855\n",
            "Epoch 92/100\n",
            "4/4 [==============================] - 0s 26ms/step - loss: 1.6316 - accuracy: 0.3161 - val_loss: 1.6771 - val_accuracy: 0.2716\n",
            "Epoch 93/100\n",
            "4/4 [==============================] - 0s 26ms/step - loss: 1.6403 - accuracy: 0.3108 - val_loss: 1.6880 - val_accuracy: 0.2623\n",
            "Epoch 94/100\n",
            "4/4 [==============================] - 0s 28ms/step - loss: 1.6307 - accuracy: 0.3170 - val_loss: 1.6493 - val_accuracy: 0.2870\n",
            "Epoch 95/100\n",
            "4/4 [==============================] - 0s 30ms/step - loss: 1.6311 - accuracy: 0.3235 - val_loss: 1.6825 - val_accuracy: 0.2701\n",
            "Epoch 96/100\n",
            "4/4 [==============================] - 0s 27ms/step - loss: 1.6290 - accuracy: 0.3142 - val_loss: 1.6697 - val_accuracy: 0.2762\n",
            "Epoch 97/100\n",
            "4/4 [==============================] - 0s 26ms/step - loss: 1.6400 - accuracy: 0.3050 - val_loss: 1.6592 - val_accuracy: 0.2870\n",
            "Epoch 98/100\n",
            "4/4 [==============================] - 0s 26ms/step - loss: 1.6531 - accuracy: 0.3012 - val_loss: 1.6474 - val_accuracy: 0.2840\n",
            "Epoch 99/100\n",
            "4/4 [==============================] - 0s 26ms/step - loss: 1.6244 - accuracy: 0.3323 - val_loss: 1.6427 - val_accuracy: 0.2978\n",
            "Epoch 100/100\n",
            "4/4 [==============================] - 0s 27ms/step - loss: 1.6332 - accuracy: 0.3169 - val_loss: 1.6424 - val_accuracy: 0.2994\n"
          ],
          "name": "stdout"
        },
        {
          "output_type": "execute_result",
          "data": {
            "text/plain": [
              "[1.6893740892410278,\n",
              " 1.6657776832580566,\n",
              " 1.6719077825546265,\n",
              " 1.6617282629013062]"
            ]
          },
          "metadata": {
            "tags": []
          },
          "execution_count": 84
        }
      ]
    },
    {
      "cell_type": "code",
      "metadata": {
        "colab": {
          "base_uri": "https://localhost:8080/",
          "height": 279
        },
        "id": "UF0KOSbTRbtg",
        "outputId": "df369b77-5bd8-4b5d-9b9f-4fc92e08c24b"
      },
      "source": [
        "plt.plot(range(1, len(ave_val_loss_hist)+1)[20:], ave_val_loss_hist[20:], \"bo\", label=\"Validation Loss\")\n",
        "plt.plot(range(1, len(ave_val_loss_hist)+1)[20:], ave_loss_hist[20:], \"b\", label=\"Training Loss\")\n",
        "plt.xlabel(\"Epochs\")\n",
        "plt.ylabel(\"Loss\")\n",
        "plt.legend()\n",
        "plt.show()"
      ],
      "execution_count": 85,
      "outputs": [
        {
          "output_type": "display_data",
          "data": {
            "image/png": "[encoded data removed]",
            "text/plain": [
              "<Figure size 432x288 with 1 Axes>"
            ]
          },
          "metadata": {
            "tags": [],
            "needs_background": "light"
          }
        }
      ]
    },
    {
      "cell_type": "code",
      "metadata": {
        "colab": {
          "base_uri": "https://localhost:8080/",
          "height": 279
        },
        "id": "gboveCttRc_O",
        "outputId": "b2a4edc0-b85f-4a60-e550-102c565c9696"
      },
      "source": [
        "plt.plot(range(1, len(ave_val_acc_hist)+1)[20:], ave_val_acc_hist[20:], \"bo\", label=\"Validation Accuracy\")\n",
        "plt.plot(range(1, len(ave_val_acc_hist)+1)[20:], ave_acc_hist[20:], \"b\", label=\"Training Accuracy\")\n",
        "plt.xlabel(\"Epochs\")\n",
        "plt.ylabel(\"Accuracy\")\n",
        "plt.legend()\n",
        "plt.show()"
      ],
      "execution_count": 86,
      "outputs": [
        {
          "output_type": "display_data",
          "data": {
            "image/png": "[encoded data removed]",
            "text/plain": [
              "<Figure size 432x288 with 1 Axes>"
            ]
          },
          "metadata": {
            "tags": [],
            "needs_background": "light"
          }
        }
      ]
    },
    {
      "cell_type": "markdown",
      "metadata": {
        "id": "godACOVI2oBI"
      },
      "source": [
        "**Best Fit Model**"
      ]
    },
    {
      "cell_type": "code",
      "metadata": {
        "id": "Q6XbM4FjtfPu"
      },
      "source": [
        "model=models.Sequential()\n",
        "model.add(layers.Dense(100,kernel_regularizer=regularizers.l1_l2(l1=.001, l2=.001), input_shape=(784,)))\n",
        "model.add(layers.Dense(80,kernel_regularizer=regularizers.l1_l2(l1=.001, l2=.001), activation = \"relu\" ))\n",
        "model.add(layers.Dropout(.2))\n",
        "model.add(layers.Dense(80,kernel_regularizer=regularizers.l1_l2(l1=.001, l2=.001), activation = \"relu\" ))\n",
        "model.add(layers.Dropout(.2))\n",
        "model.add(layers.Dense(50,kernel_regularizer=regularizers.l1_l2(l1=.001, l2=.001), activation = \"relu\" ))\n",
        "model.add(layers.Dropout(.2))\n",
        "model.add(layers.Dense(40,kernel_regularizer=regularizers.l1_l2(l1=.001, l2=.001), activation = \"relu\" ))\n",
        "model.add(layers.Dense(5, activation=\"softmax\"))\n",
        "model.compile(optimizer=\"rmsprop\", loss = \"categorical_crossentropy\", metrics=[\"accuracy\"])"
      ],
      "execution_count": 89,
      "outputs": []
    },
    {
      "cell_type": "markdown",
      "metadata": {
        "id": "xXJ_IXyl2BMi"
      },
      "source": [
        "**Training the model with all samples**"
      ]
    },
    {
      "cell_type": "code",
      "metadata": {
        "colab": {
          "base_uri": "https://localhost:8080/"
        },
        "id": "-Xl78IydtPae",
        "outputId": "a14a03a9-57cc-45c0-e169-6e4bd6abba73"
      },
      "source": [
        "model.fit(train_data,train_labels, epochs =100, batch_size=512, verbose=1)"
      ],
      "execution_count": 90,
      "outputs": [
        {
          "output_type": "stream",
          "text": [
            "Epoch 1/100\n",
            "6/6 [==============================] - 1s 9ms/step - loss: 7.0715 - accuracy: 0.2091\n",
            "Epoch 2/100\n",
            "6/6 [==============================] - 0s 9ms/step - loss: 6.2908 - accuracy: 0.2331\n",
            "Epoch 3/100\n",
            "6/6 [==============================] - 0s 12ms/step - loss: 5.7708 - accuracy: 0.2734\n",
            "Epoch 4/100\n",
            "6/6 [==============================] - 0s 10ms/step - loss: 5.4282 - accuracy: 0.2373\n",
            "Epoch 5/100\n",
            "6/6 [==============================] - 0s 12ms/step - loss: 5.0414 - accuracy: 0.2740\n",
            "Epoch 6/100\n",
            "6/6 [==============================] - 0s 9ms/step - loss: 4.7080 - accuracy: 0.2867\n",
            "Epoch 7/100\n",
            "6/6 [==============================] - 0s 9ms/step - loss: 4.3980 - accuracy: 0.2902\n",
            "Epoch 8/100\n",
            "6/6 [==============================] - 0s 9ms/step - loss: 4.1511 - accuracy: 0.2732\n",
            "Epoch 9/100\n",
            "6/6 [==============================] - 0s 9ms/step - loss: 3.8575 - accuracy: 0.2807\n",
            "Epoch 10/100\n",
            "6/6 [==============================] - 0s 12ms/step - loss: 3.5995 - accuracy: 0.3083\n",
            "Epoch 11/100\n",
            "6/6 [==============================] - 0s 10ms/step - loss: 3.4346 - accuracy: 0.2604\n",
            "Epoch 12/100\n",
            "6/6 [==============================] - 0s 10ms/step - loss: 3.2257 - accuracy: 0.2724\n",
            "Epoch 13/100\n",
            "6/6 [==============================] - 0s 9ms/step - loss: 3.0441 - accuracy: 0.2742\n",
            "Epoch 14/100\n",
            "6/6 [==============================] - 0s 10ms/step - loss: 2.8652 - accuracy: 0.2824\n",
            "Epoch 15/100\n",
            "6/6 [==============================] - 0s 10ms/step - loss: 2.7164 - accuracy: 0.3130\n",
            "Epoch 16/100\n",
            "6/6 [==============================] - 0s 11ms/step - loss: 2.6068 - accuracy: 0.2822\n",
            "Epoch 17/100\n",
            "6/6 [==============================] - 0s 10ms/step - loss: 2.5620 - accuracy: 0.2612\n",
            "Epoch 18/100\n",
            "6/6 [==============================] - 0s 9ms/step - loss: 2.4277 - accuracy: 0.2975\n",
            "Epoch 19/100\n",
            "6/6 [==============================] - 0s 9ms/step - loss: 2.3501 - accuracy: 0.2970\n",
            "Epoch 20/100\n",
            "6/6 [==============================] - 0s 9ms/step - loss: 2.3122 - accuracy: 0.2801\n",
            "Epoch 21/100\n",
            "6/6 [==============================] - 0s 9ms/step - loss: 2.2486 - accuracy: 0.2856\n",
            "Epoch 22/100\n",
            "6/6 [==============================] - 0s 9ms/step - loss: 2.1908 - accuracy: 0.2866\n",
            "Epoch 23/100\n",
            "6/6 [==============================] - 0s 9ms/step - loss: 2.1248 - accuracy: 0.2705\n",
            "Epoch 24/100\n",
            "6/6 [==============================] - 0s 9ms/step - loss: 2.0548 - accuracy: 0.2923\n",
            "Epoch 25/100\n",
            "6/6 [==============================] - 0s 13ms/step - loss: 2.0154 - accuracy: 0.3046\n",
            "Epoch 26/100\n",
            "6/6 [==============================] - 0s 9ms/step - loss: 1.9690 - accuracy: 0.2973\n",
            "Epoch 27/100\n",
            "6/6 [==============================] - 0s 9ms/step - loss: 1.9207 - accuracy: 0.3121\n",
            "Epoch 28/100\n",
            "6/6 [==============================] - 0s 9ms/step - loss: 1.9170 - accuracy: 0.2926\n",
            "Epoch 29/100\n",
            "6/6 [==============================] - 0s 9ms/step - loss: 1.9175 - accuracy: 0.2814\n",
            "Epoch 30/100\n",
            "6/6 [==============================] - 0s 10ms/step - loss: 1.8290 - accuracy: 0.3173\n",
            "Epoch 31/100\n",
            "6/6 [==============================] - 0s 9ms/step - loss: 1.8164 - accuracy: 0.3031\n",
            "Epoch 32/100\n",
            "6/6 [==============================] - 0s 9ms/step - loss: 1.8142 - accuracy: 0.2921\n",
            "Epoch 33/100\n",
            "6/6 [==============================] - 0s 10ms/step - loss: 1.7714 - accuracy: 0.3073\n",
            "Epoch 34/100\n",
            "6/6 [==============================] - 0s 9ms/step - loss: 1.7807 - accuracy: 0.2929\n",
            "Epoch 35/100\n",
            "6/6 [==============================] - 0s 9ms/step - loss: 1.7601 - accuracy: 0.2982\n",
            "Epoch 36/100\n",
            "6/6 [==============================] - 0s 9ms/step - loss: 1.7522 - accuracy: 0.3115\n",
            "Epoch 37/100\n",
            "6/6 [==============================] - 0s 9ms/step - loss: 1.7306 - accuracy: 0.3059\n",
            "Epoch 38/100\n",
            "6/6 [==============================] - 0s 11ms/step - loss: 1.7229 - accuracy: 0.3117\n",
            "Epoch 39/100\n",
            "6/6 [==============================] - 0s 9ms/step - loss: 1.7189 - accuracy: 0.3108\n",
            "Epoch 40/100\n",
            "6/6 [==============================] - 0s 13ms/step - loss: 1.7261 - accuracy: 0.2956\n",
            "Epoch 41/100\n",
            "6/6 [==============================] - 0s 9ms/step - loss: 1.7032 - accuracy: 0.3122\n",
            "Epoch 42/100\n",
            "6/6 [==============================] - 0s 9ms/step - loss: 1.7114 - accuracy: 0.2999\n",
            "Epoch 43/100\n",
            "6/6 [==============================] - 0s 9ms/step - loss: 1.6831 - accuracy: 0.3170\n",
            "Epoch 44/100\n",
            "6/6 [==============================] - 0s 9ms/step - loss: 1.7918 - accuracy: 0.2884\n",
            "Epoch 45/100\n",
            "6/6 [==============================] - 0s 9ms/step - loss: 1.6796 - accuracy: 0.3043\n",
            "Epoch 46/100\n",
            "6/6 [==============================] - 0s 11ms/step - loss: 1.7376 - accuracy: 0.2833\n",
            "Epoch 47/100\n",
            "6/6 [==============================] - 0s 10ms/step - loss: 1.6767 - accuracy: 0.3172\n",
            "Epoch 48/100\n",
            "6/6 [==============================] - 0s 9ms/step - loss: 1.6767 - accuracy: 0.3125\n",
            "Epoch 49/100\n",
            "6/6 [==============================] - 0s 9ms/step - loss: 1.6771 - accuracy: 0.3083\n",
            "Epoch 50/100\n",
            "6/6 [==============================] - 0s 11ms/step - loss: 1.6800 - accuracy: 0.3133\n",
            "Epoch 51/100\n",
            "6/6 [==============================] - 0s 9ms/step - loss: 1.6657 - accuracy: 0.3150\n",
            "Epoch 52/100\n",
            "6/6 [==============================] - 0s 10ms/step - loss: 1.6734 - accuracy: 0.3082\n",
            "Epoch 53/100\n",
            "6/6 [==============================] - 0s 9ms/step - loss: 1.6941 - accuracy: 0.2915\n",
            "Epoch 54/100\n",
            "6/6 [==============================] - 0s 9ms/step - loss: 1.6681 - accuracy: 0.3148\n",
            "Epoch 55/100\n",
            "6/6 [==============================] - 0s 12ms/step - loss: 1.6653 - accuracy: 0.3108\n",
            "Epoch 56/100\n",
            "6/6 [==============================] - 0s 10ms/step - loss: 1.6741 - accuracy: 0.3056\n",
            "Epoch 57/100\n",
            "6/6 [==============================] - 0s 10ms/step - loss: 1.6611 - accuracy: 0.2995\n",
            "Epoch 58/100\n",
            "6/6 [==============================] - 0s 9ms/step - loss: 1.6530 - accuracy: 0.3104\n",
            "Epoch 59/100\n",
            "6/6 [==============================] - 0s 9ms/step - loss: 1.6570 - accuracy: 0.3255\n",
            "Epoch 60/100\n",
            "6/6 [==============================] - 0s 10ms/step - loss: 1.6580 - accuracy: 0.3056\n",
            "Epoch 61/100\n",
            "6/6 [==============================] - 0s 9ms/step - loss: 1.6586 - accuracy: 0.3138\n",
            "Epoch 62/100\n",
            "6/6 [==============================] - 0s 9ms/step - loss: 1.6419 - accuracy: 0.3225\n",
            "Epoch 63/100\n",
            "6/6 [==============================] - 0s 9ms/step - loss: 1.6610 - accuracy: 0.3050\n",
            "Epoch 64/100\n",
            "6/6 [==============================] - 0s 9ms/step - loss: 1.6454 - accuracy: 0.3337\n",
            "Epoch 65/100\n",
            "6/6 [==============================] - 0s 11ms/step - loss: 1.6584 - accuracy: 0.3036\n",
            "Epoch 66/100\n",
            "6/6 [==============================] - 0s 10ms/step - loss: 1.6833 - accuracy: 0.2969\n",
            "Epoch 67/100\n",
            "6/6 [==============================] - 0s 11ms/step - loss: 1.6507 - accuracy: 0.3101\n",
            "Epoch 68/100\n",
            "6/6 [==============================] - 0s 10ms/step - loss: 1.6370 - accuracy: 0.3233\n",
            "Epoch 69/100\n",
            "6/6 [==============================] - 0s 10ms/step - loss: 1.6485 - accuracy: 0.3131\n",
            "Epoch 70/100\n",
            "6/6 [==============================] - 0s 13ms/step - loss: 1.6459 - accuracy: 0.3130\n",
            "Epoch 71/100\n",
            "6/6 [==============================] - 0s 10ms/step - loss: 1.6529 - accuracy: 0.3223\n",
            "Epoch 72/100\n",
            "6/6 [==============================] - 0s 11ms/step - loss: 1.6690 - accuracy: 0.2998\n",
            "Epoch 73/100\n",
            "6/6 [==============================] - 0s 10ms/step - loss: 1.6395 - accuracy: 0.3153\n",
            "Epoch 74/100\n",
            "6/6 [==============================] - 0s 10ms/step - loss: 1.6286 - accuracy: 0.3196\n",
            "Epoch 75/100\n",
            "6/6 [==============================] - 0s 9ms/step - loss: 1.6421 - accuracy: 0.3111\n",
            "Epoch 76/100\n",
            "6/6 [==============================] - 0s 10ms/step - loss: 1.6414 - accuracy: 0.3102\n",
            "Epoch 77/100\n",
            "6/6 [==============================] - 0s 9ms/step - loss: 1.6346 - accuracy: 0.3211\n",
            "Epoch 78/100\n",
            "6/6 [==============================] - 0s 9ms/step - loss: 1.6651 - accuracy: 0.2987\n",
            "Epoch 79/100\n",
            "6/6 [==============================] - 0s 9ms/step - loss: 1.6406 - accuracy: 0.3135\n",
            "Epoch 80/100\n",
            "6/6 [==============================] - 0s 9ms/step - loss: 1.6623 - accuracy: 0.3130\n",
            "Epoch 81/100\n",
            "6/6 [==============================] - 0s 11ms/step - loss: 1.6404 - accuracy: 0.3089\n",
            "Epoch 82/100\n",
            "6/6 [==============================] - 0s 10ms/step - loss: 1.6424 - accuracy: 0.3059\n",
            "Epoch 83/100\n",
            "6/6 [==============================] - 0s 11ms/step - loss: 1.6569 - accuracy: 0.3003\n",
            "Epoch 84/100\n",
            "6/6 [==============================] - 0s 10ms/step - loss: 1.6291 - accuracy: 0.3152\n",
            "Epoch 85/100\n",
            "6/6 [==============================] - 0s 13ms/step - loss: 1.6478 - accuracy: 0.3075\n",
            "Epoch 86/100\n",
            "6/6 [==============================] - 0s 12ms/step - loss: 1.6386 - accuracy: 0.3169\n",
            "Epoch 87/100\n",
            "6/6 [==============================] - 0s 9ms/step - loss: 1.6384 - accuracy: 0.3091\n",
            "Epoch 88/100\n",
            "6/6 [==============================] - 0s 9ms/step - loss: 1.6297 - accuracy: 0.3148\n",
            "Epoch 89/100\n",
            "6/6 [==============================] - 0s 9ms/step - loss: 1.6359 - accuracy: 0.3063\n",
            "Epoch 90/100\n",
            "6/6 [==============================] - 0s 10ms/step - loss: 1.6356 - accuracy: 0.3155\n",
            "Epoch 91/100\n",
            "6/6 [==============================] - 0s 11ms/step - loss: 1.6240 - accuracy: 0.3244\n",
            "Epoch 92/100\n",
            "6/6 [==============================] - 0s 9ms/step - loss: 1.6673 - accuracy: 0.3049\n",
            "Epoch 93/100\n",
            "6/6 [==============================] - 0s 11ms/step - loss: 1.6353 - accuracy: 0.3220\n",
            "Epoch 94/100\n",
            "6/6 [==============================] - 0s 10ms/step - loss: 1.6325 - accuracy: 0.3130\n",
            "Epoch 95/100\n",
            "6/6 [==============================] - 0s 10ms/step - loss: 1.6278 - accuracy: 0.3182\n",
            "Epoch 96/100\n",
            "6/6 [==============================] - 0s 9ms/step - loss: 1.6395 - accuracy: 0.3140\n",
            "Epoch 97/100\n",
            "6/6 [==============================] - 0s 9ms/step - loss: 1.6208 - accuracy: 0.3189\n",
            "Epoch 98/100\n",
            "6/6 [==============================] - 0s 12ms/step - loss: 1.6170 - accuracy: 0.3177\n",
            "Epoch 99/100\n",
            "6/6 [==============================] - 0s 13ms/step - loss: 1.6616 - accuracy: 0.3009\n",
            "Epoch 100/100\n",
            "6/6 [==============================] - 0s 9ms/step - loss: 1.6231 - accuracy: 0.3316\n"
          ],
          "name": "stdout"
        },
        {
          "output_type": "execute_result",
          "data": {
            "text/plain": [
              "<tensorflow.python.keras.callbacks.History at 0x7fc3d96c6690>"
            ]
          },
          "metadata": {
            "tags": []
          },
          "execution_count": 90
        }
      ]
    },
    {
      "cell_type": "markdown",
      "metadata": {
        "id": "2FtImZvW12r5"
      },
      "source": [
        "**Evaluating the Model**"
      ]
    },
    {
      "cell_type": "code",
      "metadata": {
        "colab": {
          "base_uri": "https://localhost:8080/"
        },
        "id": "BrzyW7Virabl",
        "outputId": "5462f358-670c-4c80-a2a2-51dcb5abd2f7"
      },
      "source": [
        "test_loss_score, test_acc_score=model.evaluate(test_data, test_labels)"
      ],
      "execution_count": 91,
      "outputs": [
        {
          "output_type": "stream",
          "text": [
            "55/55 [==============================] - 0s 1ms/step - loss: 1.6917 - accuracy: 0.2676\n"
          ],
          "name": "stdout"
        }
      ]
    },
    {
      "cell_type": "markdown",
      "metadata": {
        "id": "UKAbqYNB0x83"
      },
      "source": [
        "**Predicting the values**"
      ]
    },
    {
      "cell_type": "code",
      "metadata": {
        "id": "SkJiTqCkrzx8"
      },
      "source": [
        "prediction=model.predict(test_data)"
      ],
      "execution_count": 92,
      "outputs": []
    },
    {
      "cell_type": "code",
      "metadata": {
        "colab": {
          "base_uri": "https://localhost:8080/"
        },
        "id": "frYGw5G9vje0",
        "outputId": "e015e6d0-9382-45cd-a907-adfaa907a822"
      },
      "source": [
        "prediction_result = []\n",
        "for i, v in enumerate(prediction):\n",
        "  prediction_result.append(np.argmax(prediction[i]))\n",
        "print(prediction_result[15:25])\n",
        "\n",
        "test_labels_result = []\n",
        "for i, v in enumerate(test_labels):\n",
        "  test_labels_result.append(np.argmax(test_labels[i]))\n",
        "print(test_labels_result[15:25])"
      ],
      "execution_count": 93,
      "outputs": [
        {
          "output_type": "stream",
          "text": [
            "[1, 3, 4, 4, 3, 3, 4, 4, 1, 3]\n",
            "[2, 4, 0, 4, 2, 3, 0, 1, 0, 2]\n"
          ],
          "name": "stdout"
        }
      ]
    },
    {
      "cell_type": "code",
      "metadata": {
        "colab": {
          "base_uri": "https://localhost:8080/"
        },
        "id": "P7CFLYgfwydF",
        "outputId": "634ae886-a624-4f98-fb6d-72a8b112320d"
      },
      "source": [
        "matched = []\n",
        "for i, v in enumerate(test_labels_result):\n",
        "  if  prediction_result[i] == test_labels_result[i]:\n",
        "    matched.append(\"Yes\")\n",
        "  else:\n",
        "    matched.append(\"No\")\n",
        "\n",
        "print(\"There are\",matched.count(\"Yes\"), \"matched flowers and there are\", matched.count(\"No\"), \"unmatched flowers \")"
      ],
      "execution_count": 94,
      "outputs": [
        {
          "output_type": "stream",
          "text": [
            "There are 463 matched flowers and there are 1267 unmatched flowers \n"
          ],
          "name": "stdout"
        }
      ]
    }
  ]
}