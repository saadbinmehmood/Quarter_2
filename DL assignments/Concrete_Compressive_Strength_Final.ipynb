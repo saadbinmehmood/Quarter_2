{
  "nbformat": 4,
  "nbformat_minor": 0,
  "metadata": {
    "colab": {
      "name": "Concrete Compressive Strength - Final.ipynb",
      "provenance": [],
      "collapsed_sections": []
    },
    "kernelspec": {
      "name": "python3",
      "display_name": "Python 3"
    }
  },
  "cells": [
    {
      "cell_type": "markdown",
      "metadata": {
        "id": "vCfzG05MD6k0"
      },
      "source": [
        "**Importing the libraries**"
      ]
    },
    {
      "cell_type": "code",
      "metadata": {
        "id": "A0B98c-oyfXq"
      },
      "source": [
        "import tensorflow as tf\n",
        "import pandas as pd\n",
        "import numpy as np\n",
        "import matplotlib.pyplot as plt\n",
        "from keras import models\n",
        "from keras import layers\n",
        "from keras import regularizers"
      ],
      "execution_count": 1,
      "outputs": []
    },
    {
      "cell_type": "markdown",
      "metadata": {
        "id": "J2vUU71yDueo"
      },
      "source": [
        "**Loading the File**"
      ]
    },
    {
      "cell_type": "code",
      "metadata": {
        "colab": {
          "resources": {
            "http://localhost:8080/nbextensions/google.colab/files.js": {
              "data": "Ly8gQ29weXJpZ2h0IDIwMTcgR29vZ2xlIExMQwovLwovLyBMaWNlbnNlZCB1bmRlciB0aGUgQXBhY2hlIExpY2Vuc2UsIFZlcnNpb24gMi4wICh0aGUgIkxpY2Vuc2UiKTsKLy8geW91IG1heSBub3QgdXNlIHRoaXMgZmlsZSBleGNlcHQgaW4gY29tcGxpYW5jZSB3aXRoIHRoZSBMaWNlbnNlLgovLyBZb3UgbWF5IG9idGFpbiBhIGNvcHkgb2YgdGhlIExpY2Vuc2UgYXQKLy8KLy8gICAgICBodHRwOi8vd3d3LmFwYWNoZS5vcmcvbGljZW5zZXMvTElDRU5TRS0yLjAKLy8KLy8gVW5sZXNzIHJlcXVpcmVkIGJ5IGFwcGxpY2FibGUgbGF3IG9yIGFncmVlZCB0byBpbiB3cml0aW5nLCBzb2Z0d2FyZQovLyBkaXN0cmlidXRlZCB1bmRlciB0aGUgTGljZW5zZSBpcyBkaXN0cmlidXRlZCBvbiBhbiAiQVMgSVMiIEJBU0lTLAovLyBXSVRIT1VUIFdBUlJBTlRJRVMgT1IgQ09ORElUSU9OUyBPRiBBTlkgS0lORCwgZWl0aGVyIGV4cHJlc3Mgb3IgaW1wbGllZC4KLy8gU2VlIHRoZSBMaWNlbnNlIGZvciB0aGUgc3BlY2lmaWMgbGFuZ3VhZ2UgZ292ZXJuaW5nIHBlcm1pc3Npb25zIGFuZAovLyBsaW1pdGF0aW9ucyB1bmRlciB0aGUgTGljZW5zZS4KCi8qKgogKiBAZmlsZW92ZXJ2aWV3IEhlbHBlcnMgZm9yIGdvb2dsZS5jb2xhYiBQeXRob24gbW9kdWxlLgogKi8KKGZ1bmN0aW9uKHNjb3BlKSB7CmZ1bmN0aW9uIHNwYW4odGV4dCwgc3R5bGVBdHRyaWJ1dGVzID0ge30pIHsKICBjb25zdCBlbGVtZW50ID0gZG9jdW1lbnQuY3JlYXRlRWxlbWVudCgnc3BhbicpOwogIGVsZW1lbnQudGV4dENvbnRlbnQgPSB0ZXh0OwogIGZvciAoY29uc3Qga2V5IG9mIE9iamVjdC5rZXlzKHN0eWxlQXR0cmlidXRlcykpIHsKICAgIGVsZW1lbnQuc3R5bGVba2V5XSA9IHN0eWxlQXR0cmlidXRlc1trZXldOwogIH0KICByZXR1cm4gZWxlbWVudDsKfQoKLy8gTWF4IG51bWJlciBvZiBieXRlcyB3aGljaCB3aWxsIGJlIHVwbG9hZGVkIGF0IGEgdGltZS4KY29uc3QgTUFYX1BBWUxPQURfU0laRSA9IDEwMCAqIDEwMjQ7CgpmdW5jdGlvbiBfdXBsb2FkRmlsZXMoaW5wdXRJZCwgb3V0cHV0SWQpIHsKICBjb25zdCBzdGVwcyA9IHVwbG9hZEZpbGVzU3RlcChpbnB1dElkLCBvdXRwdXRJZCk7CiAgY29uc3Qgb3V0cHV0RWxlbWVudCA9IGRvY3VtZW50LmdldEVsZW1lbnRCeUlkKG91dHB1dElkKTsKICAvLyBDYWNoZSBzdGVwcyBvbiB0aGUgb3V0cHV0RWxlbWVudCB0byBtYWtlIGl0IGF2YWlsYWJsZSBmb3IgdGhlIG5leHQgY2FsbAogIC8vIHRvIHVwbG9hZEZpbGVzQ29udGludWUgZnJvbSBQeXRob24uCiAgb3V0cHV0RWxlbWVudC5zdGVwcyA9IHN0ZXBzOwoKICByZXR1cm4gX3VwbG9hZEZpbGVzQ29udGludWUob3V0cHV0SWQpOwp9CgovLyBUaGlzIGlzIHJvdWdobHkgYW4gYXN5bmMgZ2VuZXJhdG9yIChub3Qgc3VwcG9ydGVkIGluIHRoZSBicm93c2VyIHlldCksCi8vIHdoZXJlIHRoZXJlIGFyZSBtdWx0aXBsZSBhc3luY2hyb25vdXMgc3RlcHMgYW5kIHRoZSBQeXRob24gc2lkZSBpcyBnb2luZwovLyB0byBwb2xsIGZvciBjb21wbGV0aW9uIG9mIGVhY2ggc3RlcC4KLy8gVGhpcyB1c2VzIGEgUHJvbWlzZSB0byBibG9jayB0aGUgcHl0aG9uIHNpZGUgb24gY29tcGxldGlvbiBvZiBlYWNoIHN0ZXAsCi8vIHRoZW4gcGFzc2VzIHRoZSByZXN1bHQgb2YgdGhlIHByZXZpb3VzIHN0ZXAgYXMgdGhlIGlucHV0IHRvIHRoZSBuZXh0IHN0ZXAuCmZ1bmN0aW9uIF91cGxvYWRGaWxlc0NvbnRpbnVlKG91dHB1dElkKSB7CiAgY29uc3Qgb3V0cHV0RWxlbWVudCA9IGRvY3VtZW50LmdldEVsZW1lbnRCeUlkKG91dHB1dElkKTsKICBjb25zdCBzdGVwcyA9IG91dHB1dEVsZW1lbnQuc3RlcHM7CgogIGNvbnN0IG5leHQgPSBzdGVwcy5uZXh0KG91dHB1dEVsZW1lbnQubGFzdFByb21pc2VWYWx1ZSk7CiAgcmV0dXJuIFByb21pc2UucmVzb2x2ZShuZXh0LnZhbHVlLnByb21pc2UpLnRoZW4oKHZhbHVlKSA9PiB7CiAgICAvLyBDYWNoZSB0aGUgbGFzdCBwcm9taXNlIHZhbHVlIHRvIG1ha2UgaXQgYXZhaWxhYmxlIHRvIHRoZSBuZXh0CiAgICAvLyBzdGVwIG9mIHRoZSBnZW5lcmF0b3IuCiAgICBvdXRwdXRFbGVtZW50Lmxhc3RQcm9taXNlVmFsdWUgPSB2YWx1ZTsKICAgIHJldHVybiBuZXh0LnZhbHVlLnJlc3BvbnNlOwogIH0pOwp9CgovKioKICogR2VuZXJhdG9yIGZ1bmN0aW9uIHdoaWNoIGlzIGNhbGxlZCBiZXR3ZWVuIGVhY2ggYXN5bmMgc3RlcCBvZiB0aGUgdXBsb2FkCiAqIHByb2Nlc3MuCiAqIEBwYXJhbSB7c3RyaW5nfSBpbnB1dElkIEVsZW1lbnQgSUQgb2YgdGhlIGlucHV0IGZpbGUgcGlja2VyIGVsZW1lbnQuCiAqIEBwYXJhbSB7c3RyaW5nfSBvdXRwdXRJZCBFbGVtZW50IElEIG9mIHRoZSBvdXRwdXQgZGlzcGxheS4KICogQHJldHVybiB7IUl0ZXJhYmxlPCFPYmplY3Q+fSBJdGVyYWJsZSBvZiBuZXh0IHN0ZXBzLgogKi8KZnVuY3Rpb24qIHVwbG9hZEZpbGVzU3RlcChpbnB1dElkLCBvdXRwdXRJZCkgewogIGNvbnN0IGlucHV0RWxlbWVudCA9IGRvY3VtZW50LmdldEVsZW1lbnRCeUlkKGlucHV0SWQpOwogIGlucHV0RWxlbWVudC5kaXNhYmxlZCA9IGZhbHNlOwoKICBjb25zdCBvdXRwdXRFbGVtZW50ID0gZG9jdW1lbnQuZ2V0RWxlbWVudEJ5SWQob3V0cHV0SWQpOwogIG91dHB1dEVsZW1lbnQuaW5uZXJIVE1MID0gJyc7CgogIGNvbnN0IHBpY2tlZFByb21pc2UgPSBuZXcgUHJvbWlzZSgocmVzb2x2ZSkgPT4gewogICAgaW5wdXRFbGVtZW50LmFkZEV2ZW50TGlzdGVuZXIoJ2NoYW5nZScsIChlKSA9PiB7CiAgICAgIHJlc29sdmUoZS50YXJnZXQuZmlsZXMpOwogICAgfSk7CiAgfSk7CgogIGNvbnN0IGNhbmNlbCA9IGRvY3VtZW50LmNyZWF0ZUVsZW1lbnQoJ2J1dHRvbicpOwogIGlucHV0RWxlbWVudC5wYXJlbnRFbGVtZW50LmFwcGVuZENoaWxkKGNhbmNlbCk7CiAgY2FuY2VsLnRleHRDb250ZW50ID0gJ0NhbmNlbCB1cGxvYWQnOwogIGNvbnN0IGNhbmNlbFByb21pc2UgPSBuZXcgUHJvbWlzZSgocmVzb2x2ZSkgPT4gewogICAgY2FuY2VsLm9uY2xpY2sgPSAoKSA9PiB7CiAgICAgIHJlc29sdmUobnVsbCk7CiAgICB9OwogIH0pOwoKICAvLyBXYWl0IGZvciB0aGUgdXNlciB0byBwaWNrIHRoZSBmaWxlcy4KICBjb25zdCBmaWxlcyA9IHlpZWxkIHsKICAgIHByb21pc2U6IFByb21pc2UucmFjZShbcGlja2VkUHJvbWlzZSwgY2FuY2VsUHJvbWlzZV0pLAogICAgcmVzcG9uc2U6IHsKICAgICAgYWN0aW9uOiAnc3RhcnRpbmcnLAogICAgfQogIH07CgogIGNhbmNlbC5yZW1vdmUoKTsKCiAgLy8gRGlzYWJsZSB0aGUgaW5wdXQgZWxlbWVudCBzaW5jZSBmdXJ0aGVyIHBpY2tzIGFyZSBub3QgYWxsb3dlZC4KICBpbnB1dEVsZW1lbnQuZGlzYWJsZWQgPSB0cnVlOwoKICBpZiAoIWZpbGVzKSB7CiAgICByZXR1cm4gewogICAgICByZXNwb25zZTogewogICAgICAgIGFjdGlvbjogJ2NvbXBsZXRlJywKICAgICAgfQogICAgfTsKICB9CgogIGZvciAoY29uc3QgZmlsZSBvZiBmaWxlcykgewogICAgY29uc3QgbGkgPSBkb2N1bWVudC5jcmVhdGVFbGVtZW50KCdsaScpOwogICAgbGkuYXBwZW5kKHNwYW4oZmlsZS5uYW1lLCB7Zm9udFdlaWdodDogJ2JvbGQnfSkpOwogICAgbGkuYXBwZW5kKHNwYW4oCiAgICAgICAgYCgke2ZpbGUudHlwZSB8fCAnbi9hJ30pIC0gJHtmaWxlLnNpemV9IGJ5dGVzLCBgICsKICAgICAgICBgbGFzdCBtb2RpZmllZDogJHsKICAgICAgICAgICAgZmlsZS5sYXN0TW9kaWZpZWREYXRlID8gZmlsZS5sYXN0TW9kaWZpZWREYXRlLnRvTG9jYWxlRGF0ZVN0cmluZygpIDoKICAgICAgICAgICAgICAgICAgICAgICAgICAgICAgICAgICAgJ24vYSd9IC0gYCkpOwogICAgY29uc3QgcGVyY2VudCA9IHNwYW4oJzAlIGRvbmUnKTsKICAgIGxpLmFwcGVuZENoaWxkKHBlcmNlbnQpOwoKICAgIG91dHB1dEVsZW1lbnQuYXBwZW5kQ2hpbGQobGkpOwoKICAgIGNvbnN0IGZpbGVEYXRhUHJvbWlzZSA9IG5ldyBQcm9taXNlKChyZXNvbHZlKSA9PiB7CiAgICAgIGNvbnN0IHJlYWRlciA9IG5ldyBGaWxlUmVhZGVyKCk7CiAgICAgIHJlYWRlci5vbmxvYWQgPSAoZSkgPT4gewogICAgICAgIHJlc29sdmUoZS50YXJnZXQucmVzdWx0KTsKICAgICAgfTsKICAgICAgcmVhZGVyLnJlYWRBc0FycmF5QnVmZmVyKGZpbGUpOwogICAgfSk7CiAgICAvLyBXYWl0IGZvciB0aGUgZGF0YSB0byBiZSByZWFkeS4KICAgIGxldCBmaWxlRGF0YSA9IHlpZWxkIHsKICAgICAgcHJvbWlzZTogZmlsZURhdGFQcm9taXNlLAogICAgICByZXNwb25zZTogewogICAgICAgIGFjdGlvbjogJ2NvbnRpbnVlJywKICAgICAgfQogICAgfTsKCiAgICAvLyBVc2UgYSBjaHVua2VkIHNlbmRpbmcgdG8gYXZvaWQgbWVzc2FnZSBzaXplIGxpbWl0cy4gU2VlIGIvNjIxMTU2NjAuCiAgICBsZXQgcG9zaXRpb24gPSAwOwogICAgd2hpbGUgKHBvc2l0aW9uIDwgZmlsZURhdGEuYnl0ZUxlbmd0aCkgewogICAgICBjb25zdCBsZW5ndGggPSBNYXRoLm1pbihmaWxlRGF0YS5ieXRlTGVuZ3RoIC0gcG9zaXRpb24sIE1BWF9QQVlMT0FEX1NJWkUpOwogICAgICBjb25zdCBjaHVuayA9IG5ldyBVaW50OEFycmF5KGZpbGVEYXRhLCBwb3NpdGlvbiwgbGVuZ3RoKTsKICAgICAgcG9zaXRpb24gKz0gbGVuZ3RoOwoKICAgICAgY29uc3QgYmFzZTY0ID0gYnRvYShTdHJpbmcuZnJvbUNoYXJDb2RlLmFwcGx5KG51bGwsIGNodW5rKSk7CiAgICAgIHlpZWxkIHsKICAgICAgICByZXNwb25zZTogewogICAgICAgICAgYWN0aW9uOiAnYXBwZW5kJywKICAgICAgICAgIGZpbGU6IGZpbGUubmFtZSwKICAgICAgICAgIGRhdGE6IGJhc2U2NCwKICAgICAgICB9LAogICAgICB9OwogICAgICBwZXJjZW50LnRleHRDb250ZW50ID0KICAgICAgICAgIGAke01hdGgucm91bmQoKHBvc2l0aW9uIC8gZmlsZURhdGEuYnl0ZUxlbmd0aCkgKiAxMDApfSUgZG9uZWA7CiAgICB9CiAgfQoKICAvLyBBbGwgZG9uZS4KICB5aWVsZCB7CiAgICByZXNwb25zZTogewogICAgICBhY3Rpb246ICdjb21wbGV0ZScsCiAgICB9CiAgfTsKfQoKc2NvcGUuZ29vZ2xlID0gc2NvcGUuZ29vZ2xlIHx8IHt9OwpzY29wZS5nb29nbGUuY29sYWIgPSBzY29wZS5nb29nbGUuY29sYWIgfHwge307CnNjb3BlLmdvb2dsZS5jb2xhYi5fZmlsZXMgPSB7CiAgX3VwbG9hZEZpbGVzLAogIF91cGxvYWRGaWxlc0NvbnRpbnVlLAp9Owp9KShzZWxmKTsK",
              "ok": true,
              "headers": [
                [
                  "content-type",
                  "application/javascript"
                ]
              ],
              "status": 200,
              "status_text": ""
            }
          },
          "base_uri": "https://localhost:8080/",
          "height": 73
        },
        "id": "uN7k798QymoS",
        "outputId": "4279fd13-dd14-454e-b158-c03085c3abfb"
      },
      "source": [
        "from google.colab import files\n",
        "uploaded = files.upload()"
      ],
      "execution_count": 2,
      "outputs": [
        {
          "output_type": "display_data",
          "data": {
            "text/html": [
              "\n",
              "     <input type=\"file\" id=\"files-32736dbe-4e63-494b-b7bc-bb6b4d13ad9d\" name=\"files[]\" multiple disabled\n",
              "        style=\"border:none\" />\n",
              "     <output id=\"result-32736dbe-4e63-494b-b7bc-bb6b4d13ad9d\">\n",
              "      Upload widget is only available when the cell has been executed in the\n",
              "      current browser session. Please rerun this cell to enable.\n",
              "      </output>\n",
              "      <script src=\"/nbextensions/google.colab/files.js\"></script> "
            ],
            "text/plain": [
              "<IPython.core.display.HTML object>"
            ]
          },
          "metadata": {
            "tags": []
          }
        },
        {
          "output_type": "stream",
          "text": [
            "Saving compresive_strength_concrete.csv to compresive_strength_concrete.csv\n"
          ],
          "name": "stdout"
        }
      ]
    },
    {
      "cell_type": "code",
      "metadata": {
        "id": "oFlfIc2EynYt"
      },
      "source": [
        "import io\n",
        "df= pd.read_csv(io.BytesIO(uploaded[\"compresive_strength_concrete.csv\"]))"
      ],
      "execution_count": 3,
      "outputs": []
    },
    {
      "cell_type": "code",
      "metadata": {
        "id": "laSgq_Bby-Ni"
      },
      "source": [
        "normalized_data=df.copy()\n"
      ],
      "execution_count": 4,
      "outputs": []
    },
    {
      "cell_type": "markdown",
      "metadata": {
        "id": "HiAd2bc5Tm8H"
      },
      "source": [
        "**Split Traning and Testing data**"
      ]
    },
    {
      "cell_type": "code",
      "metadata": {
        "id": "-C4Q-2AEGBuA"
      },
      "source": [
        "normalized_data = normalized_data.sample(frac=1) # Shuffling the data\n",
        "train_data_full= normalized_data.iloc[:721,:]\n",
        "test_data_full = normalized_data.iloc[721:, :]\n",
        "train_data = train_data_full.iloc[:, :-1]\n",
        "train_labels = train_data_full.iloc[:, -1:]\n",
        "test_data = test_data_full.iloc[:, :-1]\n",
        "test_labels = test_data_full.iloc[:, -1:]"
      ],
      "execution_count": 6,
      "outputs": []
    },
    {
      "cell_type": "code",
      "metadata": {
        "colab": {
          "base_uri": "https://localhost:8080/"
        },
        "id": "AGvRVoh7Gm8k",
        "outputId": "36cd9f62-0c35-409f-8e3b-a15c0b1356dc"
      },
      "source": [
        "print(train_data.shape)\n",
        "print(test_data.shape)\n",
        "print(train_labels.shape)\n",
        "print(test_labels.shape)"
      ],
      "execution_count": 7,
      "outputs": [
        {
          "output_type": "stream",
          "text": [
            "(721, 8)\n",
            "(309, 8)\n",
            "(721, 1)\n",
            "(309, 1)\n"
          ],
          "name": "stdout"
        }
      ]
    },
    {
      "cell_type": "code",
      "metadata": {
        "colab": {
          "base_uri": "https://localhost:8080/",
          "height": 190
        },
        "id": "Q-_b7WUzGnQ1",
        "outputId": "7cac2f24-1c89-4488-a52b-ecd5fdd91c40"
      },
      "source": [
        "train_data.head(3)"
      ],
      "execution_count": 8,
      "outputs": [
        {
          "output_type": "execute_result",
          "data": {
            "text/html": [
              "<div>\n",
              "<style scoped>\n",
              "    .dataframe tbody tr th:only-of-type {\n",
              "        vertical-align: middle;\n",
              "    }\n",
              "\n",
              "    .dataframe tbody tr th {\n",
              "        vertical-align: top;\n",
              "    }\n",
              "\n",
              "    .dataframe thead th {\n",
              "        text-align: right;\n",
              "    }\n",
              "</style>\n",
              "<table border=\"1\" class=\"dataframe\">\n",
              "  <thead>\n",
              "    <tr style=\"text-align: right;\">\n",
              "      <th></th>\n",
              "      <th>Cement (component 1)(kg in a m^3 mixture)</th>\n",
              "      <th>Blast Furnace Slag (component 2)(kg in a m^3 mixture)</th>\n",
              "      <th>Fly Ash (component 3)(kg in a m^3 mixture)</th>\n",
              "      <th>Water  (component 4)(kg in a m^3 mixture)</th>\n",
              "      <th>Superplasticizer (component 5)(kg in a m^3 mixture)</th>\n",
              "      <th>Coarse Aggregate  (component 6)(kg in a m^3 mixture)</th>\n",
              "      <th>Fine Aggregate (component 7)(kg in a m^3 mixture)</th>\n",
              "      <th>Age (day)</th>\n",
              "    </tr>\n",
              "  </thead>\n",
              "  <tbody>\n",
              "    <tr>\n",
              "      <th>728</th>\n",
              "      <td>331.0</td>\n",
              "      <td>0.0</td>\n",
              "      <td>0.0</td>\n",
              "      <td>192.0</td>\n",
              "      <td>0.0</td>\n",
              "      <td>1025.0</td>\n",
              "      <td>821.0</td>\n",
              "      <td>28</td>\n",
              "    </tr>\n",
              "    <tr>\n",
              "      <th>64</th>\n",
              "      <td>266.0</td>\n",
              "      <td>114.0</td>\n",
              "      <td>0.0</td>\n",
              "      <td>228.0</td>\n",
              "      <td>0.0</td>\n",
              "      <td>932.0</td>\n",
              "      <td>670.0</td>\n",
              "      <td>180</td>\n",
              "    </tr>\n",
              "    <tr>\n",
              "      <th>266</th>\n",
              "      <td>212.0</td>\n",
              "      <td>0.0</td>\n",
              "      <td>124.8</td>\n",
              "      <td>159.0</td>\n",
              "      <td>7.8</td>\n",
              "      <td>1085.4</td>\n",
              "      <td>799.5</td>\n",
              "      <td>28</td>\n",
              "    </tr>\n",
              "  </tbody>\n",
              "</table>\n",
              "</div>"
            ],
            "text/plain": [
              "     Cement (component 1)(kg in a m^3 mixture)  ...  Age (day)\n",
              "728                                      331.0  ...         28\n",
              "64                                       266.0  ...        180\n",
              "266                                      212.0  ...         28\n",
              "\n",
              "[3 rows x 8 columns]"
            ]
          },
          "metadata": {
            "tags": []
          },
          "execution_count": 8
        }
      ]
    },
    {
      "cell_type": "code",
      "metadata": {
        "colab": {
          "base_uri": "https://localhost:8080/",
          "height": 138
        },
        "id": "J7F37p-wGnho",
        "outputId": "7c937b42-af29-4b10-d6d1-5bf3b2e300a6"
      },
      "source": [
        "train_labels.head(3)"
      ],
      "execution_count": 9,
      "outputs": [
        {
          "output_type": "execute_result",
          "data": {
            "text/html": [
              "<div>\n",
              "<style scoped>\n",
              "    .dataframe tbody tr th:only-of-type {\n",
              "        vertical-align: middle;\n",
              "    }\n",
              "\n",
              "    .dataframe tbody tr th {\n",
              "        vertical-align: top;\n",
              "    }\n",
              "\n",
              "    .dataframe thead th {\n",
              "        text-align: right;\n",
              "    }\n",
              "</style>\n",
              "<table border=\"1\" class=\"dataframe\">\n",
              "  <thead>\n",
              "    <tr style=\"text-align: right;\">\n",
              "      <th></th>\n",
              "      <th>Concrete compressive strength(MPa, megapascals)</th>\n",
              "    </tr>\n",
              "  </thead>\n",
              "  <tbody>\n",
              "    <tr>\n",
              "      <th>728</th>\n",
              "      <td>31.74</td>\n",
              "    </tr>\n",
              "    <tr>\n",
              "      <th>64</th>\n",
              "      <td>48.70</td>\n",
              "    </tr>\n",
              "    <tr>\n",
              "      <th>266</th>\n",
              "      <td>38.50</td>\n",
              "    </tr>\n",
              "  </tbody>\n",
              "</table>\n",
              "</div>"
            ],
            "text/plain": [
              "     Concrete compressive strength(MPa, megapascals) \n",
              "728                                             31.74\n",
              "64                                              48.70\n",
              "266                                             38.50"
            ]
          },
          "metadata": {
            "tags": []
          },
          "execution_count": 9
        }
      ]
    },
    {
      "cell_type": "code",
      "metadata": {
        "colab": {
          "base_uri": "https://localhost:8080/",
          "height": 190
        },
        "id": "awlIvkVoGny5",
        "outputId": "a932598c-73da-4de7-a75d-3984c57bc2a1"
      },
      "source": [
        "test_data.head(3)"
      ],
      "execution_count": 10,
      "outputs": [
        {
          "output_type": "execute_result",
          "data": {
            "text/html": [
              "<div>\n",
              "<style scoped>\n",
              "    .dataframe tbody tr th:only-of-type {\n",
              "        vertical-align: middle;\n",
              "    }\n",
              "\n",
              "    .dataframe tbody tr th {\n",
              "        vertical-align: top;\n",
              "    }\n",
              "\n",
              "    .dataframe thead th {\n",
              "        text-align: right;\n",
              "    }\n",
              "</style>\n",
              "<table border=\"1\" class=\"dataframe\">\n",
              "  <thead>\n",
              "    <tr style=\"text-align: right;\">\n",
              "      <th></th>\n",
              "      <th>Cement (component 1)(kg in a m^3 mixture)</th>\n",
              "      <th>Blast Furnace Slag (component 2)(kg in a m^3 mixture)</th>\n",
              "      <th>Fly Ash (component 3)(kg in a m^3 mixture)</th>\n",
              "      <th>Water  (component 4)(kg in a m^3 mixture)</th>\n",
              "      <th>Superplasticizer (component 5)(kg in a m^3 mixture)</th>\n",
              "      <th>Coarse Aggregate  (component 6)(kg in a m^3 mixture)</th>\n",
              "      <th>Fine Aggregate (component 7)(kg in a m^3 mixture)</th>\n",
              "      <th>Age (day)</th>\n",
              "    </tr>\n",
              "  </thead>\n",
              "  <tbody>\n",
              "    <tr>\n",
              "      <th>763</th>\n",
              "      <td>385.0</td>\n",
              "      <td>0.0</td>\n",
              "      <td>0.0</td>\n",
              "      <td>186.0</td>\n",
              "      <td>0.0</td>\n",
              "      <td>966.0</td>\n",
              "      <td>763.0</td>\n",
              "      <td>1</td>\n",
              "    </tr>\n",
              "    <tr>\n",
              "      <th>518</th>\n",
              "      <td>202.0</td>\n",
              "      <td>11.0</td>\n",
              "      <td>141.0</td>\n",
              "      <td>206.0</td>\n",
              "      <td>1.7</td>\n",
              "      <td>942.0</td>\n",
              "      <td>801.0</td>\n",
              "      <td>56</td>\n",
              "    </tr>\n",
              "    <tr>\n",
              "      <th>622</th>\n",
              "      <td>307.0</td>\n",
              "      <td>0.0</td>\n",
              "      <td>0.0</td>\n",
              "      <td>193.0</td>\n",
              "      <td>0.0</td>\n",
              "      <td>968.0</td>\n",
              "      <td>812.0</td>\n",
              "      <td>365</td>\n",
              "    </tr>\n",
              "  </tbody>\n",
              "</table>\n",
              "</div>"
            ],
            "text/plain": [
              "     Cement (component 1)(kg in a m^3 mixture)  ...  Age (day)\n",
              "763                                      385.0  ...          1\n",
              "518                                      202.0  ...         56\n",
              "622                                      307.0  ...        365\n",
              "\n",
              "[3 rows x 8 columns]"
            ]
          },
          "metadata": {
            "tags": []
          },
          "execution_count": 10
        }
      ]
    },
    {
      "cell_type": "code",
      "metadata": {
        "colab": {
          "base_uri": "https://localhost:8080/",
          "height": 138
        },
        "id": "AC10Zrl2GzQv",
        "outputId": "20015ea2-481e-445c-e85e-3ee2cfbddc96"
      },
      "source": [
        "test_labels.head(3)"
      ],
      "execution_count": 11,
      "outputs": [
        {
          "output_type": "execute_result",
          "data": {
            "text/html": [
              "<div>\n",
              "<style scoped>\n",
              "    .dataframe tbody tr th:only-of-type {\n",
              "        vertical-align: middle;\n",
              "    }\n",
              "\n",
              "    .dataframe tbody tr th {\n",
              "        vertical-align: top;\n",
              "    }\n",
              "\n",
              "    .dataframe thead th {\n",
              "        text-align: right;\n",
              "    }\n",
              "</style>\n",
              "<table border=\"1\" class=\"dataframe\">\n",
              "  <thead>\n",
              "    <tr style=\"text-align: right;\">\n",
              "      <th></th>\n",
              "      <th>Concrete compressive strength(MPa, megapascals)</th>\n",
              "    </tr>\n",
              "  </thead>\n",
              "  <tbody>\n",
              "    <tr>\n",
              "      <th>763</th>\n",
              "      <td>6.27</td>\n",
              "    </tr>\n",
              "    <tr>\n",
              "      <th>518</th>\n",
              "      <td>23.25</td>\n",
              "    </tr>\n",
              "    <tr>\n",
              "      <th>622</th>\n",
              "      <td>36.15</td>\n",
              "    </tr>\n",
              "  </tbody>\n",
              "</table>\n",
              "</div>"
            ],
            "text/plain": [
              "     Concrete compressive strength(MPa, megapascals) \n",
              "763                                              6.27\n",
              "518                                             23.25\n",
              "622                                             36.15"
            ]
          },
          "metadata": {
            "tags": []
          },
          "execution_count": 11
        }
      ]
    },
    {
      "cell_type": "code",
      "metadata": {
        "id": "3B0om9fxh-Li"
      },
      "source": [
        "train_labels=np.asarray(train_labels).astype(dtype=\"float64\")\n",
        "test_labels=np.asarray(test_labels).astype(dtype=\"float64\")\n",
        "\n",
        "mean = train_data.mean(axis=0)\n",
        "std = train_data.std(axis=0)\n",
        "train_data= (train_data-mean)/std\n",
        "test_data = (test_data-mean)/std\n"
      ],
      "execution_count": 12,
      "outputs": []
    },
    {
      "cell_type": "markdown",
      "metadata": {
        "id": "j2J6GB5MDH4_"
      },
      "source": [
        "**Building the Network**"
      ]
    },
    {
      "cell_type": "code",
      "metadata": {
        "id": "cz3dJzrMzFA5"
      },
      "source": [
        "model = models.Sequential()\n",
        "model.add(layers.Dense(96, kernel_regularizer=regularizers.l1(l1=.001), activation = \"relu\", input_shape=(train_data.shape[1],)))\n",
        "model.add(layers.Dense(10, kernel_regularizer=regularizers.l1(l1=.001),activation=\"relu\"))\n",
        "model.add(layers.Dense(8, kernel_regularizer=regularizers.l1(l1=.001),activation=\"relu\"))\n",
        "model.add(layers.Dense(6, kernel_regularizer=regularizers.l1(l1=.001),activation=\"relu\"))\n",
        "model.add(layers.Dense(1))\n",
        "model.compile(optimizer=\"rmsprop\", loss=\"mse\", metrics=[\"mae\"])"
      ],
      "execution_count": 13,
      "outputs": []
    },
    {
      "cell_type": "markdown",
      "metadata": {
        "id": "_vAv0RaOC7rE"
      },
      "source": [
        "**Compiling the Netwrok**"
      ]
    },
    {
      "cell_type": "code",
      "metadata": {
        "colab": {
          "base_uri": "https://localhost:8080/"
        },
        "id": "DcWQzC4zzogz",
        "outputId": "f1899397-a3e8-44c8-f92f-fa7af9b166cd"
      },
      "source": [
        "history=model.fit(train_data, train_labels, epochs=100 , validation_split=.2)\n"
      ],
      "execution_count": 14,
      "outputs": [
        {
          "output_type": "stream",
          "text": [
            "Epoch 1/100\n",
            "18/18 [==============================] - 1s 18ms/step - loss: 1555.4486 - mae: 35.7512 - val_loss: 1291.5223 - val_mae: 32.4001\n",
            "Epoch 2/100\n",
            "18/18 [==============================] - 0s 4ms/step - loss: 1473.7741 - mae: 34.5743 - val_loss: 1138.5317 - val_mae: 30.0982\n",
            "Epoch 3/100\n",
            "18/18 [==============================] - 0s 4ms/step - loss: 1231.4600 - mae: 31.1821 - val_loss: 945.2589 - val_mae: 26.9479\n",
            "Epoch 4/100\n",
            "18/18 [==============================] - 0s 4ms/step - loss: 1102.2612 - mae: 29.0797 - val_loss: 724.5049 - val_mae: 22.9041\n",
            "Epoch 5/100\n",
            "18/18 [==============================] - 0s 4ms/step - loss: 827.2644 - mae: 24.7568 - val_loss: 486.2749 - val_mae: 17.9689\n",
            "Epoch 6/100\n",
            "18/18 [==============================] - 0s 4ms/step - loss: 532.5776 - mae: 18.9872 - val_loss: 294.1311 - val_mae: 13.3773\n",
            "Epoch 7/100\n",
            "18/18 [==============================] - 0s 4ms/step - loss: 311.4528 - mae: 13.8822 - val_loss: 205.5428 - val_mae: 11.1198\n",
            "Epoch 8/100\n",
            "18/18 [==============================] - 0s 4ms/step - loss: 210.3919 - mae: 11.7191 - val_loss: 188.5613 - val_mae: 10.5993\n",
            "Epoch 9/100\n",
            "18/18 [==============================] - 0s 4ms/step - loss: 171.7118 - mae: 10.5860 - val_loss: 178.4875 - val_mae: 10.3758\n",
            "Epoch 10/100\n",
            "18/18 [==============================] - 0s 4ms/step - loss: 187.3456 - mae: 10.9133 - val_loss: 171.2410 - val_mae: 10.1701\n",
            "Epoch 11/100\n",
            "18/18 [==============================] - 0s 4ms/step - loss: 170.4835 - mae: 10.4877 - val_loss: 162.9008 - val_mae: 9.9754\n",
            "Epoch 12/100\n",
            "18/18 [==============================] - 0s 4ms/step - loss: 153.8797 - mae: 10.2167 - val_loss: 159.7298 - val_mae: 9.9101\n",
            "Epoch 13/100\n",
            "18/18 [==============================] - 0s 3ms/step - loss: 176.2121 - mae: 10.6590 - val_loss: 155.0166 - val_mae: 9.7805\n",
            "Epoch 14/100\n",
            "18/18 [==============================] - 0s 4ms/step - loss: 145.6331 - mae: 9.8646 - val_loss: 144.7061 - val_mae: 9.4783\n",
            "Epoch 15/100\n",
            "18/18 [==============================] - 0s 4ms/step - loss: 144.3818 - mae: 9.7590 - val_loss: 138.8575 - val_mae: 9.2902\n",
            "Epoch 16/100\n",
            "18/18 [==============================] - 0s 4ms/step - loss: 147.8274 - mae: 9.9429 - val_loss: 142.7438 - val_mae: 9.3994\n",
            "Epoch 17/100\n",
            "18/18 [==============================] - 0s 4ms/step - loss: 140.5264 - mae: 9.6943 - val_loss: 135.2482 - val_mae: 9.1703\n",
            "Epoch 18/100\n",
            "18/18 [==============================] - 0s 4ms/step - loss: 125.9708 - mae: 9.2481 - val_loss: 135.7092 - val_mae: 9.1554\n",
            "Epoch 19/100\n",
            "18/18 [==============================] - 0s 4ms/step - loss: 125.0154 - mae: 9.0444 - val_loss: 132.0070 - val_mae: 9.0068\n",
            "Epoch 20/100\n",
            "18/18 [==============================] - 0s 4ms/step - loss: 130.2644 - mae: 9.1501 - val_loss: 131.8531 - val_mae: 8.9938\n",
            "Epoch 21/100\n",
            "18/18 [==============================] - 0s 4ms/step - loss: 120.6874 - mae: 8.7726 - val_loss: 123.8660 - val_mae: 8.7602\n",
            "Epoch 22/100\n",
            "18/18 [==============================] - 0s 4ms/step - loss: 121.7204 - mae: 8.8682 - val_loss: 123.0349 - val_mae: 8.7015\n",
            "Epoch 23/100\n",
            "18/18 [==============================] - 0s 4ms/step - loss: 111.1695 - mae: 8.5538 - val_loss: 121.8188 - val_mae: 8.6567\n",
            "Epoch 24/100\n",
            "18/18 [==============================] - 0s 4ms/step - loss: 114.8676 - mae: 8.6068 - val_loss: 125.4226 - val_mae: 8.7443\n",
            "Epoch 25/100\n",
            "18/18 [==============================] - 0s 4ms/step - loss: 118.7956 - mae: 8.7705 - val_loss: 118.6266 - val_mae: 8.5209\n",
            "Epoch 26/100\n",
            "18/18 [==============================] - 0s 4ms/step - loss: 113.4189 - mae: 8.5863 - val_loss: 115.4791 - val_mae: 8.4090\n",
            "Epoch 27/100\n",
            "18/18 [==============================] - 0s 4ms/step - loss: 114.8183 - mae: 8.6319 - val_loss: 114.6510 - val_mae: 8.3787\n",
            "Epoch 28/100\n",
            "18/18 [==============================] - 0s 4ms/step - loss: 114.9455 - mae: 8.6454 - val_loss: 113.6040 - val_mae: 8.3218\n",
            "Epoch 29/100\n",
            "18/18 [==============================] - 0s 4ms/step - loss: 100.2953 - mae: 8.0538 - val_loss: 111.3775 - val_mae: 8.2254\n",
            "Epoch 30/100\n",
            "18/18 [==============================] - 0s 4ms/step - loss: 109.0666 - mae: 8.3691 - val_loss: 109.5773 - val_mae: 8.1534\n",
            "Epoch 31/100\n",
            "18/18 [==============================] - 0s 4ms/step - loss: 111.0067 - mae: 8.4463 - val_loss: 108.7998 - val_mae: 8.1353\n",
            "Epoch 32/100\n",
            "18/18 [==============================] - 0s 4ms/step - loss: 101.7203 - mae: 8.0464 - val_loss: 106.4257 - val_mae: 8.0298\n",
            "Epoch 33/100\n",
            "18/18 [==============================] - 0s 4ms/step - loss: 97.5017 - mae: 7.7605 - val_loss: 109.6468 - val_mae: 8.1290\n",
            "Epoch 34/100\n",
            "18/18 [==============================] - 0s 4ms/step - loss: 109.9592 - mae: 8.2728 - val_loss: 106.1720 - val_mae: 7.9747\n",
            "Epoch 35/100\n",
            "18/18 [==============================] - 0s 4ms/step - loss: 104.0032 - mae: 8.0535 - val_loss: 102.6475 - val_mae: 7.8716\n",
            "Epoch 36/100\n",
            "18/18 [==============================] - 0s 4ms/step - loss: 103.6516 - mae: 8.0139 - val_loss: 102.4150 - val_mae: 7.8558\n",
            "Epoch 37/100\n",
            "18/18 [==============================] - 0s 4ms/step - loss: 92.5560 - mae: 7.7500 - val_loss: 103.1019 - val_mae: 7.8074\n",
            "Epoch 38/100\n",
            "18/18 [==============================] - 0s 4ms/step - loss: 104.3514 - mae: 8.2852 - val_loss: 95.1522 - val_mae: 7.5385\n",
            "Epoch 39/100\n",
            "18/18 [==============================] - 0s 3ms/step - loss: 95.4087 - mae: 7.8231 - val_loss: 93.9261 - val_mae: 7.4703\n",
            "Epoch 40/100\n",
            "18/18 [==============================] - 0s 4ms/step - loss: 92.9754 - mae: 7.7614 - val_loss: 94.4672 - val_mae: 7.5108\n",
            "Epoch 41/100\n",
            "18/18 [==============================] - 0s 4ms/step - loss: 84.5159 - mae: 7.4604 - val_loss: 91.1701 - val_mae: 7.3675\n",
            "Epoch 42/100\n",
            "18/18 [==============================] - 0s 4ms/step - loss: 81.9360 - mae: 7.2283 - val_loss: 88.8471 - val_mae: 7.2568\n",
            "Epoch 43/100\n",
            "18/18 [==============================] - 0s 4ms/step - loss: 77.4811 - mae: 7.0191 - val_loss: 88.1410 - val_mae: 7.2011\n",
            "Epoch 44/100\n",
            "18/18 [==============================] - 0s 4ms/step - loss: 76.3573 - mae: 6.9744 - val_loss: 86.2199 - val_mae: 7.0932\n",
            "Epoch 45/100\n",
            "18/18 [==============================] - 0s 4ms/step - loss: 86.1544 - mae: 7.3181 - val_loss: 83.0832 - val_mae: 6.9432\n",
            "Epoch 46/100\n",
            "18/18 [==============================] - 0s 4ms/step - loss: 83.9825 - mae: 7.0514 - val_loss: 80.9788 - val_mae: 6.8161\n",
            "Epoch 47/100\n",
            "18/18 [==============================] - 0s 4ms/step - loss: 75.8111 - mae: 6.9141 - val_loss: 78.6021 - val_mae: 6.7312\n",
            "Epoch 48/100\n",
            "18/18 [==============================] - 0s 4ms/step - loss: 84.0316 - mae: 7.2736 - val_loss: 80.7595 - val_mae: 6.8233\n",
            "Epoch 49/100\n",
            "18/18 [==============================] - 0s 4ms/step - loss: 67.7876 - mae: 6.4946 - val_loss: 74.6323 - val_mae: 6.5624\n",
            "Epoch 50/100\n",
            "18/18 [==============================] - 0s 4ms/step - loss: 72.5962 - mae: 6.7810 - val_loss: 73.3236 - val_mae: 6.4843\n",
            "Epoch 51/100\n",
            "18/18 [==============================] - 0s 4ms/step - loss: 70.5318 - mae: 6.5898 - val_loss: 73.7139 - val_mae: 6.4775\n",
            "Epoch 52/100\n",
            "18/18 [==============================] - 0s 4ms/step - loss: 72.7913 - mae: 6.6650 - val_loss: 74.7228 - val_mae: 6.5244\n",
            "Epoch 53/100\n",
            "18/18 [==============================] - 0s 4ms/step - loss: 58.5945 - mae: 6.0657 - val_loss: 68.3101 - val_mae: 6.1530\n",
            "Epoch 54/100\n",
            "18/18 [==============================] - 0s 4ms/step - loss: 60.6032 - mae: 6.1011 - val_loss: 66.9504 - val_mae: 6.1392\n",
            "Epoch 55/100\n",
            "18/18 [==============================] - 0s 3ms/step - loss: 68.1407 - mae: 6.5465 - val_loss: 65.7285 - val_mae: 6.0639\n",
            "Epoch 56/100\n",
            "18/18 [==============================] - 0s 3ms/step - loss: 56.1606 - mae: 5.8704 - val_loss: 64.3786 - val_mae: 5.9602\n",
            "Epoch 57/100\n",
            "18/18 [==============================] - 0s 3ms/step - loss: 59.4213 - mae: 5.9668 - val_loss: 63.9537 - val_mae: 5.9513\n",
            "Epoch 58/100\n",
            "18/18 [==============================] - 0s 4ms/step - loss: 58.6585 - mae: 6.0257 - val_loss: 62.6979 - val_mae: 5.8710\n",
            "Epoch 59/100\n",
            "18/18 [==============================] - 0s 4ms/step - loss: 57.4392 - mae: 5.8561 - val_loss: 62.1057 - val_mae: 5.7839\n",
            "Epoch 60/100\n",
            "18/18 [==============================] - 0s 4ms/step - loss: 56.8362 - mae: 5.9261 - val_loss: 60.9973 - val_mae: 5.7772\n",
            "Epoch 61/100\n",
            "18/18 [==============================] - 0s 4ms/step - loss: 54.8511 - mae: 5.7622 - val_loss: 59.5098 - val_mae: 5.6712\n",
            "Epoch 62/100\n",
            "18/18 [==============================] - 0s 4ms/step - loss: 50.1199 - mae: 5.5839 - val_loss: 59.6854 - val_mae: 5.7337\n",
            "Epoch 63/100\n",
            "18/18 [==============================] - 0s 4ms/step - loss: 52.4965 - mae: 5.6532 - val_loss: 59.4522 - val_mae: 5.7375\n",
            "Epoch 64/100\n",
            "18/18 [==============================] - 0s 4ms/step - loss: 52.2781 - mae: 5.6826 - val_loss: 56.2459 - val_mae: 5.4898\n",
            "Epoch 65/100\n",
            "18/18 [==============================] - 0s 4ms/step - loss: 54.7488 - mae: 5.8063 - val_loss: 56.0350 - val_mae: 5.5443\n",
            "Epoch 66/100\n",
            "18/18 [==============================] - 0s 4ms/step - loss: 51.1549 - mae: 5.6568 - val_loss: 56.6640 - val_mae: 5.5440\n",
            "Epoch 67/100\n",
            "18/18 [==============================] - 0s 4ms/step - loss: 50.9383 - mae: 5.5316 - val_loss: 56.9824 - val_mae: 5.5192\n",
            "Epoch 68/100\n",
            "18/18 [==============================] - 0s 4ms/step - loss: 43.3752 - mae: 5.1998 - val_loss: 52.8504 - val_mae: 5.2625\n",
            "Epoch 69/100\n",
            "18/18 [==============================] - 0s 4ms/step - loss: 43.2353 - mae: 5.1727 - val_loss: 53.7682 - val_mae: 5.3967\n",
            "Epoch 70/100\n",
            "18/18 [==============================] - 0s 4ms/step - loss: 46.6201 - mae: 5.3773 - val_loss: 50.9602 - val_mae: 5.2401\n",
            "Epoch 71/100\n",
            "18/18 [==============================] - 0s 4ms/step - loss: 45.2516 - mae: 5.1853 - val_loss: 50.5677 - val_mae: 5.2029\n",
            "Epoch 72/100\n",
            "18/18 [==============================] - 0s 4ms/step - loss: 41.6233 - mae: 5.1397 - val_loss: 50.8068 - val_mae: 5.1487\n",
            "Epoch 73/100\n",
            "18/18 [==============================] - 0s 5ms/step - loss: 43.0271 - mae: 5.0613 - val_loss: 48.3431 - val_mae: 5.0275\n",
            "Epoch 74/100\n",
            "18/18 [==============================] - 0s 4ms/step - loss: 40.3599 - mae: 4.9596 - val_loss: 48.6666 - val_mae: 5.0523\n",
            "Epoch 75/100\n",
            "18/18 [==============================] - 0s 4ms/step - loss: 39.0523 - mae: 4.9124 - val_loss: 50.3038 - val_mae: 5.1117\n",
            "Epoch 76/100\n",
            "18/18 [==============================] - 0s 4ms/step - loss: 40.4777 - mae: 4.9242 - val_loss: 47.0339 - val_mae: 4.9176\n",
            "Epoch 77/100\n",
            "18/18 [==============================] - 0s 4ms/step - loss: 41.5364 - mae: 5.0451 - val_loss: 46.9704 - val_mae: 5.0145\n",
            "Epoch 78/100\n",
            "18/18 [==============================] - 0s 4ms/step - loss: 38.5410 - mae: 4.8305 - val_loss: 45.0095 - val_mae: 4.8945\n",
            "Epoch 79/100\n",
            "18/18 [==============================] - 0s 4ms/step - loss: 36.6357 - mae: 4.6720 - val_loss: 46.3467 - val_mae: 4.9021\n",
            "Epoch 80/100\n",
            "18/18 [==============================] - 0s 4ms/step - loss: 32.4717 - mae: 4.3806 - val_loss: 45.6400 - val_mae: 4.7963\n",
            "Epoch 81/100\n",
            "18/18 [==============================] - 0s 4ms/step - loss: 38.8596 - mae: 4.8376 - val_loss: 44.3166 - val_mae: 4.7725\n",
            "Epoch 82/100\n",
            "18/18 [==============================] - 0s 4ms/step - loss: 37.0843 - mae: 4.7635 - val_loss: 46.4932 - val_mae: 5.0402\n",
            "Epoch 83/100\n",
            "18/18 [==============================] - 0s 4ms/step - loss: 36.9544 - mae: 4.8460 - val_loss: 44.1318 - val_mae: 4.7404\n",
            "Epoch 84/100\n",
            "18/18 [==============================] - 0s 4ms/step - loss: 36.0973 - mae: 4.7423 - val_loss: 44.1304 - val_mae: 4.8095\n",
            "Epoch 85/100\n",
            "18/18 [==============================] - 0s 4ms/step - loss: 36.9215 - mae: 4.7536 - val_loss: 45.3377 - val_mae: 4.8185\n",
            "Epoch 86/100\n",
            "18/18 [==============================] - 0s 4ms/step - loss: 36.0937 - mae: 4.7712 - val_loss: 43.7483 - val_mae: 4.8014\n",
            "Epoch 87/100\n",
            "18/18 [==============================] - 0s 4ms/step - loss: 37.7046 - mae: 4.7394 - val_loss: 42.9286 - val_mae: 4.6841\n",
            "Epoch 88/100\n",
            "18/18 [==============================] - 0s 4ms/step - loss: 34.4626 - mae: 4.5941 - val_loss: 43.7882 - val_mae: 4.8300\n",
            "Epoch 89/100\n",
            "18/18 [==============================] - 0s 4ms/step - loss: 32.6002 - mae: 4.4159 - val_loss: 43.5132 - val_mae: 4.7763\n",
            "Epoch 90/100\n",
            "18/18 [==============================] - 0s 4ms/step - loss: 33.5193 - mae: 4.5270 - val_loss: 45.8718 - val_mae: 5.0376\n",
            "Epoch 91/100\n",
            "18/18 [==============================] - 0s 4ms/step - loss: 31.8332 - mae: 4.3399 - val_loss: 42.4512 - val_mae: 4.7136\n",
            "Epoch 92/100\n",
            "18/18 [==============================] - 0s 3ms/step - loss: 32.0365 - mae: 4.4218 - val_loss: 43.0258 - val_mae: 4.6905\n",
            "Epoch 93/100\n",
            "18/18 [==============================] - 0s 4ms/step - loss: 31.6582 - mae: 4.3965 - val_loss: 42.6263 - val_mae: 4.7368\n",
            "Epoch 94/100\n",
            "18/18 [==============================] - 0s 4ms/step - loss: 31.5502 - mae: 4.4123 - val_loss: 42.5372 - val_mae: 4.7252\n",
            "Epoch 95/100\n",
            "18/18 [==============================] - 0s 4ms/step - loss: 29.9963 - mae: 4.2499 - val_loss: 43.8313 - val_mae: 4.8092\n",
            "Epoch 96/100\n",
            "18/18 [==============================] - 0s 4ms/step - loss: 36.6394 - mae: 4.6958 - val_loss: 42.9367 - val_mae: 4.8129\n",
            "Epoch 97/100\n",
            "18/18 [==============================] - 0s 4ms/step - loss: 33.4610 - mae: 4.4261 - val_loss: 43.2255 - val_mae: 4.6583\n",
            "Epoch 98/100\n",
            "18/18 [==============================] - 0s 4ms/step - loss: 32.1485 - mae: 4.4948 - val_loss: 43.4730 - val_mae: 4.7509\n",
            "Epoch 99/100\n",
            "18/18 [==============================] - 0s 4ms/step - loss: 29.9840 - mae: 4.2975 - val_loss: 42.2636 - val_mae: 4.8045\n",
            "Epoch 100/100\n",
            "18/18 [==============================] - 0s 4ms/step - loss: 32.5579 - mae: 4.4915 - val_loss: 43.5120 - val_mae: 4.8290\n"
          ],
          "name": "stdout"
        }
      ]
    },
    {
      "cell_type": "code",
      "metadata": {
        "colab": {
          "base_uri": "https://localhost:8080/",
          "height": 279
        },
        "id": "GllVDdGI0A2X",
        "outputId": "6ffdfc7c-3eed-4e6f-ece8-e0cb078a6d7e"
      },
      "source": [
        "loss=history.history[\"loss\"]\n",
        "val_loss=history.history[\"val_loss\"]\n",
        "epochs=range(1, len(loss)+1)\n",
        "plt.plot(epochs[30:], loss[30:], \"bo\", label=\"Training Loss\")\n",
        "plt.plot(epochs[30:], val_loss[30:], \"b\", label=\"Validation Loss\")\n",
        "plt.xlabel(\"Epochs\")\n",
        "plt.ylabel(\"Loss\")\n",
        "plt.legend()\n",
        "plt.show()"
      ],
      "execution_count": 15,
      "outputs": [
        {
          "output_type": "display_data",
          "data": {
            "image/png": "[encoded data removed]",
            "text/plain": [
              "<Figure size 432x288 with 1 Axes>"
            ]
          },
          "metadata": {
            "tags": [],
            "needs_background": "light"
          }
        }
      ]
    },
    {
      "cell_type": "code",
      "metadata": {
        "colab": {
          "base_uri": "https://localhost:8080/",
          "height": 279
        },
        "id": "EyUMzk-LBrqM",
        "outputId": "167d51dc-8f83-4abd-f5d3-62524cbd1f1f"
      },
      "source": [
        "mae=history.history[\"mae\"]\n",
        "val_mae=history.history[\"val_mae\"]\n",
        "epochs=range(1, len(mae)+1)\n",
        "plt.plot(epochs[20:], loss[20:], \"bo\", label=\"Training MAE\")\n",
        "plt.plot(epochs[20:], val_loss[20:], \"b\", label=\"Validation MAE\")\n",
        "plt.xlabel(\"Epochs\")\n",
        "plt.ylabel(\"MAE\")\n",
        "plt.legend()\n",
        "plt.show()"
      ],
      "execution_count": 16,
      "outputs": [
        {
          "output_type": "display_data",
          "data": {
            "image/png": "[encoded data removed]",
            "text/plain": [
              "<Figure size 432x288 with 1 Axes>"
            ]
          },
          "metadata": {
            "tags": [],
            "needs_background": "light"
          }
        }
      ]
    },
    {
      "cell_type": "markdown",
      "metadata": {
        "id": "vQ5IeqhxBMz7"
      },
      "source": [
        "**Building The final Network**"
      ]
    },
    {
      "cell_type": "code",
      "metadata": {
        "id": "Jo662eefBLTv"
      },
      "source": [
        "model = models.Sequential()\n",
        "model.add(layers.Dense(96, kernel_regularizer=regularizers.l1(l1=.001), activation = \"relu\", input_shape=(train_data.shape[1],)))\n",
        "model.add(layers.Dense(10, kernel_regularizer=regularizers.l1(l1=.001),activation=\"relu\"))\n",
        "model.add(layers.Dense(8, kernel_regularizer=regularizers.l1(l1=.001),activation=\"relu\"))\n",
        "model.add(layers.Dense(6, kernel_regularizer=regularizers.l1(l1=.001),activation=\"relu\"))\n",
        "model.add(layers.Dense(1))\n",
        "model.compile(optimizer=\"rmsprop\", loss=\"mse\", metrics=[\"mae\"])"
      ],
      "execution_count": 17,
      "outputs": []
    },
    {
      "cell_type": "markdown",
      "metadata": {
        "id": "YzuCKiPNBWvo"
      },
      "source": [
        "**Compiling the Final Netwrok**"
      ]
    },
    {
      "cell_type": "code",
      "metadata": {
        "colab": {
          "base_uri": "https://localhost:8080/"
        },
        "id": "M0nheDwTBXJn",
        "outputId": "8c83b647-9cf6-4cab-d334-dd7cc7286c7b"
      },
      "source": [
        "model.fit(train_data, train_labels, epochs=100)"
      ],
      "execution_count": 18,
      "outputs": [
        {
          "output_type": "stream",
          "text": [
            "Epoch 1/100\n",
            "23/23 [==============================] - 1s 1ms/step - loss: 1541.3548 - mae: 35.3769\n",
            "Epoch 2/100\n",
            "23/23 [==============================] - 0s 1ms/step - loss: 1397.4849 - mae: 33.5571\n",
            "Epoch 3/100\n",
            "23/23 [==============================] - 0s 2ms/step - loss: 1129.5216 - mae: 29.5651\n",
            "Epoch 4/100\n",
            "23/23 [==============================] - 0s 2ms/step - loss: 850.9812 - mae: 25.1422\n",
            "Epoch 5/100\n",
            "23/23 [==============================] - 0s 1ms/step - loss: 541.8084 - mae: 19.0392\n",
            "Epoch 6/100\n",
            "23/23 [==============================] - 0s 2ms/step - loss: 317.0070 - mae: 14.1110\n",
            "Epoch 7/100\n",
            "23/23 [==============================] - 0s 2ms/step - loss: 226.8770 - mae: 12.0007\n",
            "Epoch 8/100\n",
            "23/23 [==============================] - 0s 1ms/step - loss: 184.8027 - mae: 10.8166\n",
            "Epoch 9/100\n",
            "23/23 [==============================] - 0s 2ms/step - loss: 202.8304 - mae: 11.5216\n",
            "Epoch 10/100\n",
            "23/23 [==============================] - 0s 1ms/step - loss: 190.9159 - mae: 11.1811\n",
            "Epoch 11/100\n",
            "23/23 [==============================] - 0s 2ms/step - loss: 160.5183 - mae: 10.2749\n",
            "Epoch 12/100\n",
            "23/23 [==============================] - 0s 1ms/step - loss: 155.0022 - mae: 10.1083\n",
            "Epoch 13/100\n",
            "23/23 [==============================] - 0s 1ms/step - loss: 163.7579 - mae: 10.3733\n",
            "Epoch 14/100\n",
            "23/23 [==============================] - 0s 2ms/step - loss: 140.5565 - mae: 9.5674\n",
            "Epoch 15/100\n",
            "23/23 [==============================] - 0s 2ms/step - loss: 137.6991 - mae: 9.5502\n",
            "Epoch 16/100\n",
            "23/23 [==============================] - 0s 1ms/step - loss: 133.7311 - mae: 9.3515\n",
            "Epoch 17/100\n",
            "23/23 [==============================] - 0s 1ms/step - loss: 129.0207 - mae: 9.2348\n",
            "Epoch 18/100\n",
            "23/23 [==============================] - 0s 2ms/step - loss: 123.4402 - mae: 8.8261\n",
            "Epoch 19/100\n",
            "23/23 [==============================] - 0s 1ms/step - loss: 125.3186 - mae: 8.9515\n",
            "Epoch 20/100\n",
            "23/23 [==============================] - 0s 1ms/step - loss: 116.9353 - mae: 8.7198\n",
            "Epoch 21/100\n",
            "23/23 [==============================] - 0s 1ms/step - loss: 125.6097 - mae: 8.9912\n",
            "Epoch 22/100\n",
            "23/23 [==============================] - 0s 1ms/step - loss: 115.4743 - mae: 8.7354\n",
            "Epoch 23/100\n",
            "23/23 [==============================] - 0s 1ms/step - loss: 105.1319 - mae: 8.1788\n",
            "Epoch 24/100\n",
            "23/23 [==============================] - 0s 2ms/step - loss: 104.6762 - mae: 8.1102\n",
            "Epoch 25/100\n",
            "23/23 [==============================] - 0s 2ms/step - loss: 104.0462 - mae: 8.0177\n",
            "Epoch 26/100\n",
            "23/23 [==============================] - 0s 1ms/step - loss: 106.2399 - mae: 8.1490\n",
            "Epoch 27/100\n",
            "23/23 [==============================] - 0s 1ms/step - loss: 110.2104 - mae: 8.3576\n",
            "Epoch 28/100\n",
            "23/23 [==============================] - 0s 1ms/step - loss: 97.3350 - mae: 7.6898\n",
            "Epoch 29/100\n",
            "23/23 [==============================] - 0s 1ms/step - loss: 102.4945 - mae: 7.9103\n",
            "Epoch 30/100\n",
            "23/23 [==============================] - 0s 1ms/step - loss: 88.3601 - mae: 7.3807\n",
            "Epoch 31/100\n",
            "23/23 [==============================] - 0s 1ms/step - loss: 84.5766 - mae: 7.2213\n",
            "Epoch 32/100\n",
            "23/23 [==============================] - 0s 2ms/step - loss: 85.0941 - mae: 7.0949\n",
            "Epoch 33/100\n",
            "23/23 [==============================] - 0s 2ms/step - loss: 95.4820 - mae: 7.4997\n",
            "Epoch 34/100\n",
            "23/23 [==============================] - 0s 1ms/step - loss: 89.5902 - mae: 7.3415\n",
            "Epoch 35/100\n",
            "23/23 [==============================] - 0s 2ms/step - loss: 81.5509 - mae: 7.0038\n",
            "Epoch 36/100\n",
            "23/23 [==============================] - 0s 2ms/step - loss: 75.0057 - mae: 6.6119\n",
            "Epoch 37/100\n",
            "23/23 [==============================] - 0s 2ms/step - loss: 79.9993 - mae: 6.9382\n",
            "Epoch 38/100\n",
            "23/23 [==============================] - 0s 2ms/step - loss: 76.4410 - mae: 6.6944\n",
            "Epoch 39/100\n",
            "23/23 [==============================] - 0s 1ms/step - loss: 68.7376 - mae: 6.2665\n",
            "Epoch 40/100\n",
            "23/23 [==============================] - 0s 1ms/step - loss: 67.6203 - mae: 6.3391\n",
            "Epoch 41/100\n",
            "23/23 [==============================] - 0s 1ms/step - loss: 69.5281 - mae: 6.3418\n",
            "Epoch 42/100\n",
            "23/23 [==============================] - 0s 2ms/step - loss: 68.8473 - mae: 6.2961\n",
            "Epoch 43/100\n",
            "23/23 [==============================] - 0s 2ms/step - loss: 65.2434 - mae: 5.9999\n",
            "Epoch 44/100\n",
            "23/23 [==============================] - 0s 1ms/step - loss: 61.9527 - mae: 6.0453\n",
            "Epoch 45/100\n",
            "23/23 [==============================] - 0s 1ms/step - loss: 55.1251 - mae: 5.6176\n",
            "Epoch 46/100\n",
            "23/23 [==============================] - 0s 2ms/step - loss: 57.5133 - mae: 5.7567\n",
            "Epoch 47/100\n",
            "23/23 [==============================] - 0s 2ms/step - loss: 53.0298 - mae: 5.3862\n",
            "Epoch 48/100\n",
            "23/23 [==============================] - 0s 2ms/step - loss: 55.8787 - mae: 5.5213\n",
            "Epoch 49/100\n",
            "23/23 [==============================] - 0s 1ms/step - loss: 55.8571 - mae: 5.5634\n",
            "Epoch 50/100\n",
            "23/23 [==============================] - 0s 1ms/step - loss: 49.9276 - mae: 5.2939\n",
            "Epoch 51/100\n",
            "23/23 [==============================] - 0s 2ms/step - loss: 56.2058 - mae: 5.5852\n",
            "Epoch 52/100\n",
            "23/23 [==============================] - 0s 1ms/step - loss: 53.3426 - mae: 5.5196\n",
            "Epoch 53/100\n",
            "23/23 [==============================] - 0s 1ms/step - loss: 44.3790 - mae: 5.1264\n",
            "Epoch 54/100\n",
            "23/23 [==============================] - 0s 1ms/step - loss: 48.1657 - mae: 5.2574\n",
            "Epoch 55/100\n",
            "23/23 [==============================] - 0s 1ms/step - loss: 49.1956 - mae: 5.2645\n",
            "Epoch 56/100\n",
            "23/23 [==============================] - 0s 1ms/step - loss: 43.5626 - mae: 5.0239\n",
            "Epoch 57/100\n",
            "23/23 [==============================] - 0s 2ms/step - loss: 45.6967 - mae: 5.0093\n",
            "Epoch 58/100\n",
            "23/23 [==============================] - 0s 2ms/step - loss: 44.9772 - mae: 4.9923\n",
            "Epoch 59/100\n",
            "23/23 [==============================] - 0s 1ms/step - loss: 42.1322 - mae: 4.8469\n",
            "Epoch 60/100\n",
            "23/23 [==============================] - 0s 1ms/step - loss: 45.5771 - mae: 4.9975\n",
            "Epoch 61/100\n",
            "23/23 [==============================] - 0s 2ms/step - loss: 44.7726 - mae: 5.0662\n",
            "Epoch 62/100\n",
            "23/23 [==============================] - 0s 2ms/step - loss: 43.4377 - mae: 5.0648\n",
            "Epoch 63/100\n",
            "23/23 [==============================] - 0s 2ms/step - loss: 40.9904 - mae: 4.7863\n",
            "Epoch 64/100\n",
            "23/23 [==============================] - 0s 2ms/step - loss: 39.4120 - mae: 4.6379\n",
            "Epoch 65/100\n",
            "23/23 [==============================] - 0s 1ms/step - loss: 34.4449 - mae: 4.4078\n",
            "Epoch 66/100\n",
            "23/23 [==============================] - 0s 1ms/step - loss: 35.7229 - mae: 4.4712\n",
            "Epoch 67/100\n",
            "23/23 [==============================] - 0s 2ms/step - loss: 37.2611 - mae: 4.6208\n",
            "Epoch 68/100\n",
            "23/23 [==============================] - 0s 1ms/step - loss: 36.3463 - mae: 4.6490\n",
            "Epoch 69/100\n",
            "23/23 [==============================] - 0s 2ms/step - loss: 37.3765 - mae: 4.7465\n",
            "Epoch 70/100\n",
            "23/23 [==============================] - 0s 2ms/step - loss: 40.2129 - mae: 4.8690\n",
            "Epoch 71/100\n",
            "23/23 [==============================] - 0s 2ms/step - loss: 36.3694 - mae: 4.5024\n",
            "Epoch 72/100\n",
            "23/23 [==============================] - 0s 1ms/step - loss: 36.9768 - mae: 4.6863\n",
            "Epoch 73/100\n",
            "23/23 [==============================] - 0s 2ms/step - loss: 36.1468 - mae: 4.5757\n",
            "Epoch 74/100\n",
            "23/23 [==============================] - 0s 2ms/step - loss: 34.9185 - mae: 4.5634\n",
            "Epoch 75/100\n",
            "23/23 [==============================] - 0s 1ms/step - loss: 34.0891 - mae: 4.4742\n",
            "Epoch 76/100\n",
            "23/23 [==============================] - 0s 2ms/step - loss: 35.9490 - mae: 4.5981\n",
            "Epoch 77/100\n",
            "23/23 [==============================] - 0s 2ms/step - loss: 32.0996 - mae: 4.3761\n",
            "Epoch 78/100\n",
            "23/23 [==============================] - 0s 2ms/step - loss: 34.6572 - mae: 4.5715\n",
            "Epoch 79/100\n",
            "23/23 [==============================] - 0s 1ms/step - loss: 33.0620 - mae: 4.4485\n",
            "Epoch 80/100\n",
            "23/23 [==============================] - 0s 1ms/step - loss: 38.9403 - mae: 4.7685\n",
            "Epoch 81/100\n",
            "23/23 [==============================] - 0s 1ms/step - loss: 32.5456 - mae: 4.3706\n",
            "Epoch 82/100\n",
            "23/23 [==============================] - 0s 2ms/step - loss: 33.7901 - mae: 4.4476\n",
            "Epoch 83/100\n",
            "23/23 [==============================] - 0s 2ms/step - loss: 28.7062 - mae: 4.1541\n",
            "Epoch 84/100\n",
            "23/23 [==============================] - 0s 2ms/step - loss: 36.6014 - mae: 4.6121\n",
            "Epoch 85/100\n",
            "23/23 [==============================] - 0s 2ms/step - loss: 30.3997 - mae: 4.1911\n",
            "Epoch 86/100\n",
            "23/23 [==============================] - 0s 1ms/step - loss: 32.7459 - mae: 4.3118\n",
            "Epoch 87/100\n",
            "23/23 [==============================] - 0s 2ms/step - loss: 31.0360 - mae: 4.2314\n",
            "Epoch 88/100\n",
            "23/23 [==============================] - 0s 2ms/step - loss: 32.2036 - mae: 4.4340\n",
            "Epoch 89/100\n",
            "23/23 [==============================] - 0s 1ms/step - loss: 29.4680 - mae: 4.1421\n",
            "Epoch 90/100\n",
            "23/23 [==============================] - 0s 2ms/step - loss: 29.5851 - mae: 4.1564\n",
            "Epoch 91/100\n",
            "23/23 [==============================] - 0s 2ms/step - loss: 29.9722 - mae: 4.2643\n",
            "Epoch 92/100\n",
            "23/23 [==============================] - 0s 1ms/step - loss: 28.9645 - mae: 4.1176\n",
            "Epoch 93/100\n",
            "23/23 [==============================] - 0s 1ms/step - loss: 30.8637 - mae: 4.2472\n",
            "Epoch 94/100\n",
            "23/23 [==============================] - 0s 1ms/step - loss: 29.5419 - mae: 4.1216\n",
            "Epoch 95/100\n",
            "23/23 [==============================] - 0s 1ms/step - loss: 31.6814 - mae: 4.3249\n",
            "Epoch 96/100\n",
            "23/23 [==============================] - 0s 1ms/step - loss: 32.3553 - mae: 4.4451\n",
            "Epoch 97/100\n",
            "23/23 [==============================] - 0s 2ms/step - loss: 29.4278 - mae: 4.2039\n",
            "Epoch 98/100\n",
            "23/23 [==============================] - 0s 1ms/step - loss: 30.3940 - mae: 4.1550\n",
            "Epoch 99/100\n",
            "23/23 [==============================] - 0s 2ms/step - loss: 29.4147 - mae: 4.0881\n",
            "Epoch 100/100\n",
            "23/23 [==============================] - 0s 2ms/step - loss: 26.2329 - mae: 3.9302\n"
          ],
          "name": "stdout"
        },
        {
          "output_type": "execute_result",
          "data": {
            "text/plain": [
              "<tensorflow.python.keras.callbacks.History at 0x7f6d9221a110>"
            ]
          },
          "metadata": {
            "tags": []
          },
          "execution_count": 18
        }
      ]
    },
    {
      "cell_type": "markdown",
      "metadata": {
        "id": "ZaMG2hPQCw55"
      },
      "source": [
        "**Evaluating the Network**"
      ]
    },
    {
      "cell_type": "code",
      "metadata": {
        "colab": {
          "base_uri": "https://localhost:8080/"
        },
        "id": "A7MTF6Zn1NPk",
        "outputId": "434b3384-f24c-4562-dd7f-ddcfa43c26e4"
      },
      "source": [
        "test_mse_scoe, test_mae_score=model.evaluate(test_data, test_labels)"
      ],
      "execution_count": 19,
      "outputs": [
        {
          "output_type": "stream",
          "text": [
            "10/10 [==============================] - 0s 2ms/step - loss: 39.5266 - mae: 4.7567\n"
          ],
          "name": "stdout"
        }
      ]
    },
    {
      "cell_type": "code",
      "metadata": {
        "colab": {
          "base_uri": "https://localhost:8080/"
        },
        "id": "NtGM3kUW1ODJ",
        "outputId": "4c97daf1-d2f9-4de5-b310-56eee9c12c1e"
      },
      "source": [
        "test_mae_score"
      ],
      "execution_count": 20,
      "outputs": [
        {
          "output_type": "execute_result",
          "data": {
            "text/plain": [
              "4.756676197052002"
            ]
          },
          "metadata": {
            "tags": []
          },
          "execution_count": 20
        }
      ]
    },
    {
      "cell_type": "markdown",
      "metadata": {
        "id": "1JqSaVk_EYNU"
      },
      "source": [
        "**Predicting the values**"
      ]
    },
    {
      "cell_type": "code",
      "metadata": {
        "id": "4ee69F6E6Tbk"
      },
      "source": [
        "denormalized = test_labels"
      ],
      "execution_count": 21,
      "outputs": []
    },
    {
      "cell_type": "code",
      "metadata": {
        "id": "38w8e-UY68ub"
      },
      "source": [
        "prediction=model.predict(test_data)"
      ],
      "execution_count": 22,
      "outputs": []
    },
    {
      "cell_type": "code",
      "metadata": {
        "id": "SJjq6uF9Xk8Q"
      },
      "source": [
        "pred_norm=prediction"
      ],
      "execution_count": 23,
      "outputs": []
    },
    {
      "cell_type": "code",
      "metadata": {
        "colab": {
          "base_uri": "https://localhost:8080/",
          "height": 279
        },
        "id": "4_j6AHMVXqgL",
        "outputId": "c3cae27b-94e6-4f06-bdfa-23a522154481"
      },
      "source": [
        "plt.plot(range(1, len(pred_norm[:300:6])+1), pred_norm[:300:6], label=\"Prediction\")\n",
        "plt.plot(range(1, len(pred_norm[:300:6])+1), denormalized[:300:6], label=\"Actual\")\n",
        "plt.xlabel(\"index Position\")\n",
        "plt.ylabel(\"Strenght\")\n",
        "plt.legend()\n",
        "plt.show()\n"
      ],
      "execution_count": 24,
      "outputs": [
        {
          "output_type": "display_data",
          "data": {
            "image/png": "[encoded data removed]",
            "text/plain": [
              "<Figure size 432x288 with 1 Axes>"
            ]
          },
          "metadata": {
            "tags": [],
            "needs_background": "light"
          }
        }
      ]
    }
  ]
}