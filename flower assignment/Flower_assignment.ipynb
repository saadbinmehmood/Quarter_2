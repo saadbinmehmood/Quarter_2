{
  "nbformat": 4,
  "nbformat_minor": 0,
  "metadata": {
    "colab": {
      "name": "Flower_assignment.ipynb",
      "provenance": [],
      "collapsed_sections": []
    },
    "kernelspec": {
      "name": "python3",
      "display_name": "Python 3"
    },
    "language_info": {
      "name": "python"
    }
  },
  "cells": [
    {
      "cell_type": "code",
      "metadata": {
        "id": "kE7WobAkruEw"
      },
      "source": [
        "import os\n",
        "import zipfile\n",
        "from shutil import copyfile\n",
        "import numpy as np\n",
        "import random\n",
        "import zipfile\n",
        "import matplotlib.image as mpimg\n",
        "import matplotlib.pyplot as plt\n",
        "from keras.preprocessing import image\n",
        "import tensorflow as tf\n",
        "from google.colab import files\n",
        "import glob\n",
        "import pandas as pd\n",
        "from keras import models\n",
        "from keras import layers\n",
        "from keras import regularizers\n",
        "from sklearn.model_selection import train_test_split\n",
        "from tensorflow.keras.utils import to_categorical\n"
      ],
      "execution_count": 1,
      "outputs": []
    },
    {
      "cell_type": "code",
      "metadata": {
        "id": "RFWiOQXyr3cJ",
        "colab": {
          "base_uri": "https://localhost:8080/"
        },
        "outputId": "85b30c7c-b9c4-4052-9492-f64bf1cd60c2"
      },
      "source": [
        "from google.colab import drive\n",
        "drive.mount(\"/content/drive\")"
      ],
      "execution_count": 2,
      "outputs": [
        {
          "output_type": "stream",
          "text": [
            "Mounted at /content/drive\n"
          ],
          "name": "stdout"
        }
      ]
    },
    {
      "cell_type": "code",
      "metadata": {
        "id": "q2Of6YLbuem9"
      },
      "source": [
        "local_zip = \"/content/drive/MyDrive/flowers_new.zip\"\n",
        "zip_ref = zipfile.ZipFile(local_zip, \"r\")\n",
        "zip_ref.extractall(\"/flower_new\")\n",
        "zip_ref.close()"
      ],
      "execution_count": 3,
      "outputs": []
    },
    {
      "cell_type": "code",
      "metadata": {
        "id": "3hLh4vC-0iSU"
      },
      "source": [
        "def convert_image(source, label):\n",
        "  fname = os.listdir(source)\n",
        "  images= None\n",
        "  \n",
        "  for i,value in enumerate(fname):\n",
        "    source_path = os.path.join(source, fname[i])\n",
        "    if os.path.getsize(source_path)==0:\n",
        "      print(\"file has zero size\")\n",
        "    else:\n",
        "      img=image.load_img(source_path, target_size=(200, 200)) # Load image\n",
        "      x=image.img_to_array(img)                               # Image ot array\n",
        "      x=tf.image.rgb_to_grayscale(x)                          # gray scale conversion\n",
        "      x=np.expand_dims(x, axis=0)\n",
        "      if images is None:\n",
        "        images = x\n",
        "      else:\n",
        "        images = np.vstack((images, x))\n",
        "  print(images.shape)\n",
        "  images=images.reshape(images.shape[0], 200*200*1)\n",
        "  print(images.shape)\n",
        "  label_in = np.ones((len(fname), 1))\n",
        "  label_in.fill(label)\n",
        "  print(label_in.shape)\n",
        "  images_new=np.hstack((images,label_in))\n",
        "  print(images_new.shape)\n",
        "  return images_new\n"
      ],
      "execution_count": 4,
      "outputs": []
    },
    {
      "cell_type": "code",
      "metadata": {
        "id": "ea28Aa7106bF"
      },
      "source": [
        "daisy_source_dir = \"/flower_new/flowers/daisy\"\n",
        "\n",
        "dandelion_source_dir = \"/flower_new/flowers/dandelion\"\n",
        "\n",
        "rose_source_dir = \"/flower_new/flowers/rose\"\n",
        "\n",
        "sunflower_source_dir = \"/flower_new/flowers/sunflower\"\n",
        "\n",
        "tulip_source_dir = \"/flower_new/flowers/tulip\""
      ],
      "execution_count": 5,
      "outputs": []
    },
    {
      "cell_type": "code",
      "metadata": {
        "colab": {
          "base_uri": "https://localhost:8080/"
        },
        "id": "wI_0ht--10CQ",
        "outputId": "81d673d7-3cc7-408b-a618-375ce6dd604f"
      },
      "source": [
        "daisy = convert_image(daisy_source_dir, 0)\n",
        "dandelion = convert_image(dandelion_source_dir, 1)\n",
        "rose = convert_image(rose_source_dir, 2)\n",
        "sunflower = convert_image(sunflower_source_dir, 3)\n",
        "tulip = convert_image(tulip_source_dir, 4)"
      ],
      "execution_count": 6,
      "outputs": [
        {
          "output_type": "stream",
          "text": [
            "(769, 200, 200, 1)\n",
            "(769, 40000)\n",
            "(769, 1)\n",
            "(769, 40001)\n",
            "(1052, 200, 200, 1)\n",
            "(1052, 40000)\n",
            "(1052, 1)\n",
            "(1052, 40001)\n",
            "(784, 200, 200, 1)\n",
            "(784, 40000)\n",
            "(784, 1)\n",
            "(784, 40001)\n",
            "(734, 200, 200, 1)\n",
            "(734, 40000)\n",
            "(734, 1)\n",
            "(734, 40001)\n",
            "(984, 200, 200, 1)\n",
            "(984, 40000)\n",
            "(984, 1)\n",
            "(984, 40001)\n"
          ],
          "name": "stdout"
        }
      ]
    },
    {
      "cell_type": "code",
      "metadata": {
        "colab": {
          "base_uri": "https://localhost:8080/"
        },
        "id": "hR4y7Pgy7LkA",
        "outputId": "ed5f40f6-7a34-47f4-c9ca-a8d1e31b8d21"
      },
      "source": [
        "data_array = np.vstack((daisy, dandelion, rose, sunflower, tulip))\n",
        "data_array.shape"
      ],
      "execution_count": 7,
      "outputs": [
        {
          "output_type": "execute_result",
          "data": {
            "text/plain": [
              "(4323, 40001)"
            ]
          },
          "metadata": {
            "tags": []
          },
          "execution_count": 7
        }
      ]
    },
    {
      "cell_type": "code",
      "metadata": {
        "colab": {
          "base_uri": "https://localhost:8080/"
        },
        "id": "XIsQOI9JGt8j",
        "outputId": "f20b922c-c4e4-4784-d03f-888ad9095be5"
      },
      "source": [
        "np.random.shuffle(data_array)\n",
        "data_array[:10,-1]"
      ],
      "execution_count": 8,
      "outputs": [
        {
          "output_type": "execute_result",
          "data": {
            "text/plain": [
              "array([2., 0., 0., 2., 0., 0., 3., 4., 1., 1.])"
            ]
          },
          "metadata": {
            "tags": []
          },
          "execution_count": 8
        }
      ]
    },
    {
      "cell_type": "code",
      "metadata": {
        "id": "qnsIFS73G3Ih"
      },
      "source": [
        "train_data, test_data, train_labels, test_labels=train_test_split(data_array[0:,:-1], data_array[:,-1], test_size=0.4, random_state=1)"
      ],
      "execution_count": 10,
      "outputs": []
    },
    {
      "cell_type": "code",
      "metadata": {
        "colab": {
          "base_uri": "https://localhost:8080/"
        },
        "id": "o3e0kUm0G4Ld",
        "outputId": "150f3869-02eb-4383-b01e-7bc441d53f50"
      },
      "source": [
        "train_data.shape"
      ],
      "execution_count": 11,
      "outputs": [
        {
          "output_type": "execute_result",
          "data": {
            "text/plain": [
              "(2593, 40000)"
            ]
          },
          "metadata": {
            "tags": []
          },
          "execution_count": 11
        }
      ]
    },
    {
      "cell_type": "code",
      "metadata": {
        "colab": {
          "base_uri": "https://localhost:8080/"
        },
        "id": "2JNsIUZGJs9H",
        "outputId": "cea8834f-8e8a-4a98-9ec8-0be7396a90d3"
      },
      "source": [
        "test_data.shape"
      ],
      "execution_count": 12,
      "outputs": [
        {
          "output_type": "execute_result",
          "data": {
            "text/plain": [
              "(1730, 40000)"
            ]
          },
          "metadata": {
            "tags": []
          },
          "execution_count": 12
        }
      ]
    },
    {
      "cell_type": "code",
      "metadata": {
        "colab": {
          "base_uri": "https://localhost:8080/"
        },
        "id": "dj-_3PhrJvgh",
        "outputId": "3b90731d-8d69-45f5-fce9-ebcbf28000df"
      },
      "source": [
        "train_labels.shape"
      ],
      "execution_count": 13,
      "outputs": [
        {
          "output_type": "execute_result",
          "data": {
            "text/plain": [
              "(2593,)"
            ]
          },
          "metadata": {
            "tags": []
          },
          "execution_count": 13
        }
      ]
    },
    {
      "cell_type": "code",
      "metadata": {
        "colab": {
          "base_uri": "https://localhost:8080/"
        },
        "id": "54U9eiBlJyGL",
        "outputId": "5114e6ce-a08b-42b3-e2e6-c172e43efc9d"
      },
      "source": [
        "test_labels.shape"
      ],
      "execution_count": 14,
      "outputs": [
        {
          "output_type": "execute_result",
          "data": {
            "text/plain": [
              "(1730,)"
            ]
          },
          "metadata": {
            "tags": []
          },
          "execution_count": 14
        }
      ]
    },
    {
      "cell_type": "code",
      "metadata": {
        "id": "guIhg7cdJ1XV"
      },
      "source": [
        "train_labels = to_categorical(train_labels)\n",
        "test_labels = to_categorical(test_labels)"
      ],
      "execution_count": 15,
      "outputs": []
    },
    {
      "cell_type": "code",
      "metadata": {
        "colab": {
          "base_uri": "https://localhost:8080/"
        },
        "id": "USVzpNMTUWgj",
        "outputId": "b5b34afa-415a-4ba4-eb2f-bcfda4e3b4d8"
      },
      "source": [
        "np.unique(test_labels)"
      ],
      "execution_count": null,
      "outputs": [
        {
          "output_type": "execute_result",
          "data": {
            "text/plain": [
              "array([0., 1.], dtype=float32)"
            ]
          },
          "metadata": {
            "tags": []
          },
          "execution_count": 120
        }
      ]
    },
    {
      "cell_type": "code",
      "metadata": {
        "id": "WQyRPKppQRs7"
      },
      "source": [
        "train_data=train_data.astype(\"float32\")/255\n",
        "test_data = test_data.astype(\"float32\")/255"
      ],
      "execution_count": 16,
      "outputs": []
    },
    {
      "cell_type": "code",
      "metadata": {
        "id": "oXHRMixCQxVF"
      },
      "source": [
        "# model=models.Sequential()\n",
        "# model.add(layers.Dense(64,kernel_regularizer=regularizers.l1_l2(l1=.001, l2=0.001) , activation=\"relu\", input_shape=(22500,)))\n",
        "# model.add(layers.Dropout(.1))\n",
        "# model.add(layers.Dense(64, kernel_regularizer=regularizers.l1_l2(l1=.001, l2=0.001), activation = \"relu\" ))\n",
        "# model.add(layers.Dropout(.1))\n",
        "# model.add(layers.Dense(5, activation=\"softmax\"))\n",
        "# model.compile(optimizer=\"rmsprop\", loss = \"categorical_crossentropy\", metrics=[\"accuracy\"])"
      ],
      "execution_count": null,
      "outputs": []
    },
    {
      "cell_type": "code",
      "metadata": {
        "id": "FaxV7fVfQ3RU"
      },
      "source": [
        "# partial_train_data=train_data[500:]\n",
        "# partial_train_label = train_labels[500:]\n",
        "# val_data = train_data[:500]\n",
        "# val_label = train_labels[:500]"
      ],
      "execution_count": null,
      "outputs": []
    },
    {
      "cell_type": "code",
      "metadata": {
        "id": "AjHmR1ZjRfpk"
      },
      "source": [
        "# model=models.Sequential()\n",
        "# model.add(layers.Dense(1024, activation=\"relu\", input_shape=(40000,)))\n",
        "# #model.add(layers.Dropout(.1))\n",
        "# model.add(layers.Dense(1024, activation = \"relu\" ))\n",
        "# model.add(layers.Dense(1024, activation = \"relu\" ))\n",
        "# model.add(layers.Dense(1024, activation = \"relu\" ))\n",
        "# model.add(layers.Dense(1024, activation = \"relu\" ))\n",
        "# model.add(layers.Dense(1024, activation = \"relu\" ))\n",
        "# model.add(layers.Dense(1024, activation = \"relu\" ))\n",
        "# model.add(layers.Dense(1024, activation = \"relu\" ))\n",
        "# model.add(layers.Dense(1024, activation = \"relu\" ))\n",
        "# model.add(layers.Dense(1024, activation = \"relu\" ))\n",
        "# model.add(layers.Dense(1024, activation = \"relu\" ))\n",
        "# #model.add(layers.Dropout(.1))\n",
        "# model.add(layers.Dense(5, activation=\"softmax\"))\n",
        "# model.compile(optimizer=\"rmsprop\", loss = \"categorical_crossentropy\", metrics=[\"accuracy\"])"
      ],
      "execution_count": null,
      "outputs": []
    },
    {
      "cell_type": "code",
      "metadata": {
        "id": "3c6qcYiLRBWe"
      },
      "source": [
        "# history=model.fit(partial_train_data,partial_train_label, epochs =25, batch_size=128, validation_data=(val_data,val_label))"
      ],
      "execution_count": null,
      "outputs": []
    },
    {
      "cell_type": "code",
      "metadata": {
        "id": "MVr9mxxRO341"
      },
      "source": [
        "def build_model():\n",
        "  model=models.Sequential()\n",
        "  model.add(layers.Dense(64, activation=\"relu\", input_shape=(40000,)))\n",
        "  # model.add(layers.Dense(64, activation = \"relu\" ))\n",
        "  # model.add(layers.Dense(32, activation = \"relu\" ))\n",
        "  model.add(layers.Dense(5, activation=\"softmax\"))\n",
        "  model.compile(optimizer=\"rmsprop\", loss = \"categorical_crossentropy\", metrics=[\"accuracy\"])\n",
        "  return model"
      ],
      "execution_count": 32,
      "outputs": []
    },
    {
      "cell_type": "code",
      "metadata": {
        "colab": {
          "base_uri": "https://localhost:8080/"
        },
        "id": "xh-zIkt0RJZH",
        "outputId": "07c330a9-d0b3-4cd5-ef24-3602914ab684"
      },
      "source": [
        "k= 4\n",
        "num_val_sample = len(train_data) // k\n",
        "num_epochs =100\n",
        "all_scores = []\n",
        "all_val_loss_histories = []\n",
        "all_val_acc_histories = []\n",
        "all_loss_histories =[]\n",
        "all_acc_histories = []\n",
        "\n",
        "for i in range(k):\n",
        "  print(\"processing fold #\",i)\n",
        "  val_data = train_data[i*num_val_sample:(i+1)*num_val_sample]\n",
        "  val_labels = train_labels[i*num_val_sample: (i+1)*num_val_sample]\n",
        "\n",
        "  partial_train_data=np.concatenate([train_data[:i*num_val_sample], train_data[(i+1)*num_val_sample:]], axis=0)\n",
        "  partial_train_labels=np.concatenate([train_labels[:i*num_val_sample], train_labels[(i+1)*num_val_sample:]], axis=0)\n",
        "\n",
        "  model=build_model()\n",
        "  history = model.fit(partial_train_data, partial_train_labels, validation_data = (val_data, val_labels), epochs= num_epochs, batch_size=512, verbose=1)\n",
        "  val_loss, val_acc = model.evaluate(test_data, test_labels, verbose=0)\n",
        "  val_loss_history = history.history[\"val_loss\"]\n",
        "  val_acc_history = history.history[\"val_accuracy\"]\n",
        "  loss_history = history.history[\"loss\"]\n",
        "  acc_history = history.history[\"accuracy\"]\n",
        "  all_loss_histories.append(loss_history)\n",
        "  all_acc_histories.append(acc_history)\n",
        "  all_val_loss_histories.append(val_loss_history)\n",
        "  all_val_acc_histories.append(val_acc_history)\n",
        "  all_scores.append(val_loss)\n",
        "ave_val_loss_hist = [np.mean([x[i] for x in all_val_loss_histories]) for i in range(num_epochs)]\n",
        "ave_loss_hist = [np.mean([x[i] for x in all_loss_histories]) for i in range(num_epochs)]\n",
        "ave_val_acc_hist = [np.mean([x[i] for x in all_val_acc_histories]) for i in range(num_epochs)]\n",
        "ave_acc_hist = [np.mean([x[i] for x in all_acc_histories]) for i in range(num_epochs)]\n",
        "all_scores\n"
      ],
      "execution_count": 33,
      "outputs": [
        {
          "output_type": "stream",
          "text": [
            "processing fold # 0\n",
            "Epoch 1/100\n",
            "4/4 [==============================] - 2s 392ms/step - loss: 49.6927 - accuracy: 0.2025 - val_loss: 70.6398 - val_accuracy: 0.1698\n",
            "Epoch 2/100\n",
            "4/4 [==============================] - 1s 208ms/step - loss: 47.7230 - accuracy: 0.1916 - val_loss: 14.3216 - val_accuracy: 0.2176\n",
            "Epoch 3/100\n",
            "4/4 [==============================] - 1s 202ms/step - loss: 15.0476 - accuracy: 0.1943 - val_loss: 11.9115 - val_accuracy: 0.2469\n",
            "Epoch 4/100\n",
            "4/4 [==============================] - 1s 209ms/step - loss: 10.1783 - accuracy: 0.2106 - val_loss: 5.4319 - val_accuracy: 0.2438\n",
            "Epoch 5/100\n",
            "4/4 [==============================] - 1s 204ms/step - loss: 5.8514 - accuracy: 0.2056 - val_loss: 3.3202 - val_accuracy: 0.1698\n",
            "Epoch 6/100\n",
            "4/4 [==============================] - 1s 203ms/step - loss: 2.4899 - accuracy: 0.1727 - val_loss: 1.5979 - val_accuracy: 0.1852\n",
            "Epoch 7/100\n",
            "4/4 [==============================] - 1s 203ms/step - loss: 1.5997 - accuracy: 0.2203 - val_loss: 1.6046 - val_accuracy: 0.2423\n",
            "Epoch 8/100\n",
            "4/4 [==============================] - 1s 199ms/step - loss: 1.6042 - accuracy: 0.2432 - val_loss: 1.6101 - val_accuracy: 0.2377\n",
            "Epoch 9/100\n",
            "4/4 [==============================] - 1s 202ms/step - loss: 1.6056 - accuracy: 0.2493 - val_loss: 1.6092 - val_accuracy: 0.2222\n",
            "Epoch 10/100\n",
            "4/4 [==============================] - 1s 207ms/step - loss: 1.6001 - accuracy: 0.2457 - val_loss: 1.6055 - val_accuracy: 0.2083\n",
            "Epoch 11/100\n",
            "4/4 [==============================] - 1s 205ms/step - loss: 1.6004 - accuracy: 0.2250 - val_loss: 1.6069 - val_accuracy: 0.2315\n",
            "Epoch 12/100\n",
            "4/4 [==============================] - 1s 202ms/step - loss: 1.5960 - accuracy: 0.2446 - val_loss: 1.6416 - val_accuracy: 0.1728\n",
            "Epoch 13/100\n",
            "4/4 [==============================] - 1s 201ms/step - loss: 1.7038 - accuracy: 0.2481 - val_loss: 1.6035 - val_accuracy: 0.2222\n",
            "Epoch 14/100\n",
            "4/4 [==============================] - 1s 197ms/step - loss: 1.5914 - accuracy: 0.2271 - val_loss: 1.5921 - val_accuracy: 0.1883\n",
            "Epoch 15/100\n",
            "4/4 [==============================] - 1s 197ms/step - loss: 1.5848 - accuracy: 0.1979 - val_loss: 1.5856 - val_accuracy: 0.1790\n",
            "Epoch 16/100\n",
            "4/4 [==============================] - 1s 198ms/step - loss: 1.5763 - accuracy: 0.2006 - val_loss: 1.5894 - val_accuracy: 0.1682\n",
            "Epoch 17/100\n",
            "4/4 [==============================] - 1s 199ms/step - loss: 1.5652 - accuracy: 0.2115 - val_loss: 1.5766 - val_accuracy: 0.1590\n",
            "Epoch 18/100\n",
            "4/4 [==============================] - 1s 202ms/step - loss: 1.5866 - accuracy: 0.2066 - val_loss: 1.5955 - val_accuracy: 0.2284\n",
            "Epoch 19/100\n",
            "4/4 [==============================] - 1s 196ms/step - loss: 1.5889 - accuracy: 0.2571 - val_loss: 1.5751 - val_accuracy: 0.2176\n",
            "Epoch 20/100\n",
            "4/4 [==============================] - 1s 199ms/step - loss: 1.5591 - accuracy: 0.2348 - val_loss: 1.5638 - val_accuracy: 0.2238\n",
            "Epoch 21/100\n",
            "4/4 [==============================] - 1s 202ms/step - loss: 1.5471 - accuracy: 0.2471 - val_loss: 1.5619 - val_accuracy: 0.2454\n",
            "Epoch 22/100\n",
            "4/4 [==============================] - 1s 197ms/step - loss: 1.5417 - accuracy: 0.2457 - val_loss: 1.5662 - val_accuracy: 0.2469\n",
            "Epoch 23/100\n",
            "4/4 [==============================] - 1s 205ms/step - loss: 1.7258 - accuracy: 0.2562 - val_loss: 1.5664 - val_accuracy: 0.2469\n",
            "Epoch 24/100\n",
            "4/4 [==============================] - 1s 200ms/step - loss: 1.5471 - accuracy: 0.2549 - val_loss: 1.5548 - val_accuracy: 0.2469\n",
            "Epoch 25/100\n",
            "4/4 [==============================] - 1s 206ms/step - loss: 1.5403 - accuracy: 0.2544 - val_loss: 1.5629 - val_accuracy: 0.2469\n",
            "Epoch 26/100\n",
            "4/4 [==============================] - 1s 200ms/step - loss: 1.5477 - accuracy: 0.2642 - val_loss: 1.5686 - val_accuracy: 0.2469\n",
            "Epoch 27/100\n",
            "4/4 [==============================] - 1s 205ms/step - loss: 1.5607 - accuracy: 0.2551 - val_loss: 1.5516 - val_accuracy: 0.2469\n",
            "Epoch 28/100\n",
            "4/4 [==============================] - 1s 203ms/step - loss: 1.5406 - accuracy: 0.2482 - val_loss: 1.5639 - val_accuracy: 0.2469\n",
            "Epoch 29/100\n",
            "4/4 [==============================] - 1s 209ms/step - loss: 1.5483 - accuracy: 0.2553 - val_loss: 1.5520 - val_accuracy: 0.2469\n",
            "Epoch 30/100\n",
            "4/4 [==============================] - 1s 218ms/step - loss: 1.5487 - accuracy: 0.2500 - val_loss: 1.5510 - val_accuracy: 0.2469\n",
            "Epoch 31/100\n",
            "4/4 [==============================] - 1s 200ms/step - loss: 1.5257 - accuracy: 0.2622 - val_loss: 1.5694 - val_accuracy: 0.2948\n",
            "Epoch 32/100\n",
            "4/4 [==============================] - 1s 199ms/step - loss: 1.5573 - accuracy: 0.2822 - val_loss: 1.5654 - val_accuracy: 0.2978\n",
            "Epoch 33/100\n",
            "4/4 [==============================] - 1s 202ms/step - loss: 1.5470 - accuracy: 0.3081 - val_loss: 1.5965 - val_accuracy: 0.3102\n",
            "Epoch 34/100\n",
            "4/4 [==============================] - 1s 202ms/step - loss: 1.5512 - accuracy: 0.2814 - val_loss: 1.5537 - val_accuracy: 0.3256\n",
            "Epoch 35/100\n",
            "4/4 [==============================] - 1s 196ms/step - loss: 1.5381 - accuracy: 0.3097 - val_loss: 1.5490 - val_accuracy: 0.3318\n",
            "Epoch 36/100\n",
            "4/4 [==============================] - 1s 196ms/step - loss: 1.5250 - accuracy: 0.2975 - val_loss: 1.5541 - val_accuracy: 0.3225\n",
            "Epoch 37/100\n",
            "4/4 [==============================] - 1s 202ms/step - loss: 1.5244 - accuracy: 0.2977 - val_loss: 1.5628 - val_accuracy: 0.3148\n",
            "Epoch 38/100\n",
            "4/4 [==============================] - 1s 202ms/step - loss: 1.5271 - accuracy: 0.2961 - val_loss: 1.5610 - val_accuracy: 0.3025\n",
            "Epoch 39/100\n",
            "4/4 [==============================] - 1s 196ms/step - loss: 1.5422 - accuracy: 0.2956 - val_loss: 1.5555 - val_accuracy: 0.3210\n",
            "Epoch 40/100\n",
            "4/4 [==============================] - 1s 209ms/step - loss: 1.5201 - accuracy: 0.3064 - val_loss: 1.6034 - val_accuracy: 0.3071\n",
            "Epoch 41/100\n",
            "4/4 [==============================] - 1s 214ms/step - loss: 1.5483 - accuracy: 0.2815 - val_loss: 1.5568 - val_accuracy: 0.3241\n",
            "Epoch 42/100\n",
            "4/4 [==============================] - 1s 201ms/step - loss: 1.5357 - accuracy: 0.2962 - val_loss: 1.5472 - val_accuracy: 0.3241\n",
            "Epoch 43/100\n",
            "4/4 [==============================] - 1s 209ms/step - loss: 1.5206 - accuracy: 0.3077 - val_loss: 1.5491 - val_accuracy: 0.3179\n",
            "Epoch 44/100\n",
            "4/4 [==============================] - 1s 206ms/step - loss: 1.5239 - accuracy: 0.3046 - val_loss: 1.5463 - val_accuracy: 0.3349\n",
            "Epoch 45/100\n",
            "4/4 [==============================] - 1s 200ms/step - loss: 1.5287 - accuracy: 0.3119 - val_loss: 1.5500 - val_accuracy: 0.3241\n",
            "Epoch 46/100\n",
            "4/4 [==============================] - 1s 202ms/step - loss: 1.5196 - accuracy: 0.3043 - val_loss: 1.5488 - val_accuracy: 0.3194\n",
            "Epoch 47/100\n",
            "4/4 [==============================] - 1s 199ms/step - loss: 1.5057 - accuracy: 0.3127 - val_loss: 1.5456 - val_accuracy: 0.3318\n",
            "Epoch 48/100\n",
            "4/4 [==============================] - 1s 196ms/step - loss: 1.5524 - accuracy: 0.2914 - val_loss: 1.6013 - val_accuracy: 0.2762\n",
            "Epoch 49/100\n",
            "4/4 [==============================] - 1s 200ms/step - loss: 1.8968 - accuracy: 0.2739 - val_loss: 1.5450 - val_accuracy: 0.3256\n",
            "Epoch 50/100\n",
            "4/4 [==============================] - 1s 210ms/step - loss: 1.5164 - accuracy: 0.3198 - val_loss: 1.5436 - val_accuracy: 0.3333\n",
            "Epoch 51/100\n",
            "4/4 [==============================] - 1s 205ms/step - loss: 1.5218 - accuracy: 0.3114 - val_loss: 1.5482 - val_accuracy: 0.3194\n",
            "Epoch 52/100\n",
            "4/4 [==============================] - 1s 198ms/step - loss: 1.5112 - accuracy: 0.3003 - val_loss: 1.5603 - val_accuracy: 0.2963\n",
            "Epoch 53/100\n",
            "4/4 [==============================] - 1s 205ms/step - loss: 1.5429 - accuracy: 0.2882 - val_loss: 1.5471 - val_accuracy: 0.3194\n",
            "Epoch 54/100\n",
            "4/4 [==============================] - 1s 201ms/step - loss: 1.5059 - accuracy: 0.3175 - val_loss: 1.5558 - val_accuracy: 0.3040\n",
            "Epoch 55/100\n",
            "4/4 [==============================] - 1s 204ms/step - loss: 1.5337 - accuracy: 0.3046 - val_loss: 1.5457 - val_accuracy: 0.3164\n",
            "Epoch 56/100\n",
            "4/4 [==============================] - 1s 201ms/step - loss: 1.5198 - accuracy: 0.3066 - val_loss: 1.5467 - val_accuracy: 0.3133\n",
            "Epoch 57/100\n",
            "4/4 [==============================] - 1s 198ms/step - loss: 1.5188 - accuracy: 0.3058 - val_loss: 1.5435 - val_accuracy: 0.3333\n",
            "Epoch 58/100\n",
            "4/4 [==============================] - 1s 200ms/step - loss: 1.5365 - accuracy: 0.2980 - val_loss: 1.5452 - val_accuracy: 0.3148\n",
            "Epoch 59/100\n",
            "4/4 [==============================] - 1s 203ms/step - loss: 1.5124 - accuracy: 0.3282 - val_loss: 1.5436 - val_accuracy: 0.3302\n",
            "Epoch 60/100\n",
            "4/4 [==============================] - 1s 206ms/step - loss: 1.5170 - accuracy: 0.3117 - val_loss: 1.5493 - val_accuracy: 0.3241\n",
            "Epoch 61/100\n",
            "4/4 [==============================] - 1s 205ms/step - loss: 1.5010 - accuracy: 0.3213 - val_loss: 1.5560 - val_accuracy: 0.3040\n",
            "Epoch 62/100\n",
            "4/4 [==============================] - 1s 211ms/step - loss: 1.5330 - accuracy: 0.3096 - val_loss: 1.5456 - val_accuracy: 0.3133\n",
            "Epoch 63/100\n",
            "4/4 [==============================] - 1s 211ms/step - loss: 1.5124 - accuracy: 0.3040 - val_loss: 1.5862 - val_accuracy: 0.3164\n",
            "Epoch 64/100\n",
            "4/4 [==============================] - 1s 205ms/step - loss: 1.5230 - accuracy: 0.2831 - val_loss: 1.5731 - val_accuracy: 0.3179\n",
            "Epoch 65/100\n",
            "4/4 [==============================] - 1s 205ms/step - loss: 1.5314 - accuracy: 0.3036 - val_loss: 1.5414 - val_accuracy: 0.3272\n",
            "Epoch 66/100\n",
            "4/4 [==============================] - 1s 198ms/step - loss: 1.5097 - accuracy: 0.3127 - val_loss: 1.6323 - val_accuracy: 0.2809\n",
            "Epoch 67/100\n",
            "4/4 [==============================] - 1s 199ms/step - loss: 1.5801 - accuracy: 0.2721 - val_loss: 1.5457 - val_accuracy: 0.3272\n",
            "Epoch 68/100\n",
            "4/4 [==============================] - 1s 202ms/step - loss: 1.5022 - accuracy: 0.3206 - val_loss: 1.5399 - val_accuracy: 0.3333\n",
            "Epoch 69/100\n",
            "4/4 [==============================] - 1s 195ms/step - loss: 1.5011 - accuracy: 0.3170 - val_loss: 1.5645 - val_accuracy: 0.3194\n",
            "Epoch 70/100\n",
            "4/4 [==============================] - 1s 199ms/step - loss: 1.5141 - accuracy: 0.2977 - val_loss: 1.5656 - val_accuracy: 0.3179\n",
            "Epoch 71/100\n",
            "4/4 [==============================] - 1s 214ms/step - loss: 1.5181 - accuracy: 0.2964 - val_loss: 1.6150 - val_accuracy: 0.3164\n",
            "Epoch 72/100\n",
            "4/4 [==============================] - 1s 205ms/step - loss: 1.5449 - accuracy: 0.3036 - val_loss: 1.5519 - val_accuracy: 0.3210\n",
            "Epoch 73/100\n",
            "4/4 [==============================] - 1s 204ms/step - loss: 1.4897 - accuracy: 0.3174 - val_loss: 1.5433 - val_accuracy: 0.3287\n",
            "Epoch 74/100\n",
            "4/4 [==============================] - 1s 199ms/step - loss: 1.4945 - accuracy: 0.3158 - val_loss: 1.5387 - val_accuracy: 0.3287\n",
            "Epoch 75/100\n",
            "4/4 [==============================] - 1s 202ms/step - loss: 1.5182 - accuracy: 0.3009 - val_loss: 1.5785 - val_accuracy: 0.3210\n",
            "Epoch 76/100\n",
            "4/4 [==============================] - 1s 203ms/step - loss: 1.5066 - accuracy: 0.3145 - val_loss: 1.5570 - val_accuracy: 0.3225\n",
            "Epoch 77/100\n",
            "4/4 [==============================] - 1s 202ms/step - loss: 1.4883 - accuracy: 0.3144 - val_loss: 1.5399 - val_accuracy: 0.3241\n",
            "Epoch 78/100\n",
            "4/4 [==============================] - 1s 198ms/step - loss: 1.5069 - accuracy: 0.3060 - val_loss: 1.5666 - val_accuracy: 0.3179\n",
            "Epoch 79/100\n",
            "4/4 [==============================] - 1s 197ms/step - loss: 1.5065 - accuracy: 0.3153 - val_loss: 1.5429 - val_accuracy: 0.3102\n",
            "Epoch 80/100\n",
            "4/4 [==============================] - 1s 206ms/step - loss: 1.5177 - accuracy: 0.2951 - val_loss: 1.5501 - val_accuracy: 0.3241\n",
            "Epoch 81/100\n",
            "4/4 [==============================] - 1s 203ms/step - loss: 1.4808 - accuracy: 0.3244 - val_loss: 1.5671 - val_accuracy: 0.3194\n",
            "Epoch 82/100\n",
            "4/4 [==============================] - 1s 197ms/step - loss: 1.5140 - accuracy: 0.3084 - val_loss: 1.5538 - val_accuracy: 0.2978\n",
            "Epoch 83/100\n",
            "4/4 [==============================] - 1s 196ms/step - loss: 1.5398 - accuracy: 0.2932 - val_loss: 1.5447 - val_accuracy: 0.3287\n",
            "Epoch 84/100\n",
            "4/4 [==============================] - 1s 201ms/step - loss: 1.4820 - accuracy: 0.3156 - val_loss: 1.5473 - val_accuracy: 0.3225\n",
            "Epoch 85/100\n",
            "4/4 [==============================] - 1s 199ms/step - loss: 1.4991 - accuracy: 0.3187 - val_loss: 1.5554 - val_accuracy: 0.3272\n",
            "Epoch 86/100\n",
            "4/4 [==============================] - 1s 197ms/step - loss: 1.4868 - accuracy: 0.3159 - val_loss: 1.5388 - val_accuracy: 0.3333\n",
            "Epoch 87/100\n",
            "4/4 [==============================] - 1s 197ms/step - loss: 1.4961 - accuracy: 0.3128 - val_loss: 1.5556 - val_accuracy: 0.3256\n",
            "Epoch 88/100\n",
            "4/4 [==============================] - 1s 199ms/step - loss: 1.4896 - accuracy: 0.3272 - val_loss: 1.5764 - val_accuracy: 0.3056\n",
            "Epoch 89/100\n",
            "4/4 [==============================] - 1s 197ms/step - loss: 2.0430 - accuracy: 0.2916 - val_loss: 1.5597 - val_accuracy: 0.2886\n",
            "Epoch 90/100\n",
            "4/4 [==============================] - 1s 201ms/step - loss: 1.5376 - accuracy: 0.2922 - val_loss: 1.5600 - val_accuracy: 0.3256\n",
            "Epoch 91/100\n",
            "4/4 [==============================] - 1s 199ms/step - loss: 1.4686 - accuracy: 0.3306 - val_loss: 1.5431 - val_accuracy: 0.3117\n",
            "Epoch 92/100\n",
            "4/4 [==============================] - 1s 203ms/step - loss: 1.4931 - accuracy: 0.3276 - val_loss: 1.5865 - val_accuracy: 0.3225\n",
            "Epoch 93/100\n",
            "4/4 [==============================] - 1s 199ms/step - loss: 1.4812 - accuracy: 0.3167 - val_loss: 1.5734 - val_accuracy: 0.3179\n",
            "Epoch 94/100\n",
            "4/4 [==============================] - 1s 196ms/step - loss: 1.4710 - accuracy: 0.3254 - val_loss: 1.5840 - val_accuracy: 0.3194\n",
            "Epoch 95/100\n",
            "4/4 [==============================] - 1s 201ms/step - loss: 1.5205 - accuracy: 0.3034 - val_loss: 1.5417 - val_accuracy: 0.3194\n",
            "Epoch 96/100\n",
            "4/4 [==============================] - 1s 199ms/step - loss: 1.4900 - accuracy: 0.3233 - val_loss: 1.5757 - val_accuracy: 0.3164\n",
            "Epoch 97/100\n",
            "4/4 [==============================] - 1s 199ms/step - loss: 1.4727 - accuracy: 0.3241 - val_loss: 1.5899 - val_accuracy: 0.3117\n",
            "Epoch 98/100\n",
            "4/4 [==============================] - 1s 201ms/step - loss: 1.4683 - accuracy: 0.3241 - val_loss: 1.5655 - val_accuracy: 0.3133\n",
            "Epoch 99/100\n",
            "4/4 [==============================] - 1s 196ms/step - loss: 1.4865 - accuracy: 0.3268 - val_loss: 1.5609 - val_accuracy: 0.3272\n",
            "Epoch 100/100\n",
            "4/4 [==============================] - 1s 189ms/step - loss: 1.4644 - accuracy: 0.3240 - val_loss: 1.5547 - val_accuracy: 0.3040\n",
            "processing fold # 1\n",
            "Epoch 1/100\n",
            "4/4 [==============================] - 1s 248ms/step - loss: 59.5769 - accuracy: 0.2122 - val_loss: 11.6492 - val_accuracy: 0.1975\n",
            "Epoch 2/100\n",
            "4/4 [==============================] - 1s 213ms/step - loss: 14.1387 - accuracy: 0.2158 - val_loss: 25.7588 - val_accuracy: 0.1944\n",
            "Epoch 3/100\n",
            "4/4 [==============================] - 1s 196ms/step - loss: 19.7884 - accuracy: 0.1990 - val_loss: 10.7246 - val_accuracy: 0.2083\n",
            "Epoch 4/100\n",
            "4/4 [==============================] - 1s 205ms/step - loss: 9.7623 - accuracy: 0.2093 - val_loss: 11.0496 - val_accuracy: 0.2022\n",
            "Epoch 5/100\n",
            "4/4 [==============================] - 1s 204ms/step - loss: 9.0930 - accuracy: 0.2075 - val_loss: 10.1623 - val_accuracy: 0.2593\n",
            "Epoch 6/100\n",
            "4/4 [==============================] - 1s 206ms/step - loss: 9.8077 - accuracy: 0.2509 - val_loss: 5.1145 - val_accuracy: 0.1790\n",
            "Epoch 7/100\n",
            "4/4 [==============================] - 1s 197ms/step - loss: 7.3814 - accuracy: 0.1965 - val_loss: 3.4405 - val_accuracy: 0.2423\n",
            "Epoch 8/100\n",
            "4/4 [==============================] - 1s 200ms/step - loss: 6.0752 - accuracy: 0.2418 - val_loss: 9.3130 - val_accuracy: 0.1775\n",
            "Epoch 9/100\n",
            "4/4 [==============================] - 1s 201ms/step - loss: 6.5058 - accuracy: 0.2438 - val_loss: 11.3810 - val_accuracy: 0.2238\n",
            "Epoch 10/100\n",
            "4/4 [==============================] - 1s 203ms/step - loss: 8.2173 - accuracy: 0.2203 - val_loss: 5.1556 - val_accuracy: 0.2423\n",
            "Epoch 11/100\n",
            "4/4 [==============================] - 1s 200ms/step - loss: 7.1056 - accuracy: 0.2416 - val_loss: 9.3064 - val_accuracy: 0.1960\n",
            "Epoch 12/100\n",
            "4/4 [==============================] - 1s 197ms/step - loss: 6.2665 - accuracy: 0.2275 - val_loss: 11.8642 - val_accuracy: 0.2593\n",
            "Epoch 13/100\n",
            "4/4 [==============================] - 1s 199ms/step - loss: 10.8044 - accuracy: 0.2333 - val_loss: 3.0126 - val_accuracy: 0.2654\n",
            "Epoch 14/100\n",
            "4/4 [==============================] - 1s 204ms/step - loss: 6.6243 - accuracy: 0.2347 - val_loss: 5.7052 - val_accuracy: 0.2654\n",
            "Epoch 15/100\n",
            "4/4 [==============================] - 1s 203ms/step - loss: 6.5793 - accuracy: 0.2658 - val_loss: 6.7434 - val_accuracy: 0.2562\n",
            "Epoch 16/100\n",
            "4/4 [==============================] - 1s 197ms/step - loss: 8.8093 - accuracy: 0.2211 - val_loss: 12.8624 - val_accuracy: 0.2160\n",
            "Epoch 17/100\n",
            "4/4 [==============================] - 1s 208ms/step - loss: 8.9494 - accuracy: 0.2226 - val_loss: 9.8275 - val_accuracy: 0.1975\n",
            "Epoch 18/100\n",
            "4/4 [==============================] - 1s 205ms/step - loss: 7.7255 - accuracy: 0.2135 - val_loss: 14.3022 - val_accuracy: 0.2593\n",
            "Epoch 19/100\n",
            "4/4 [==============================] - 1s 205ms/step - loss: 10.3135 - accuracy: 0.2340 - val_loss: 2.3526 - val_accuracy: 0.2731\n",
            "Epoch 20/100\n",
            "4/4 [==============================] - 1s 206ms/step - loss: 3.7162 - accuracy: 0.3009 - val_loss: 7.0190 - val_accuracy: 0.2222\n",
            "Epoch 21/100\n",
            "4/4 [==============================] - 1s 199ms/step - loss: 6.0793 - accuracy: 0.2506 - val_loss: 2.3891 - val_accuracy: 0.3009\n",
            "Epoch 22/100\n",
            "4/4 [==============================] - 1s 202ms/step - loss: 2.4883 - accuracy: 0.3495 - val_loss: 13.1937 - val_accuracy: 0.2145\n",
            "Epoch 23/100\n",
            "4/4 [==============================] - 1s 205ms/step - loss: 10.7039 - accuracy: 0.1901 - val_loss: 7.3362 - val_accuracy: 0.2407\n",
            "Epoch 24/100\n",
            "4/4 [==============================] - 1s 201ms/step - loss: 6.0717 - accuracy: 0.2489 - val_loss: 6.1743 - val_accuracy: 0.2546\n",
            "Epoch 25/100\n",
            "4/4 [==============================] - 1s 207ms/step - loss: 5.5209 - accuracy: 0.2533 - val_loss: 11.2575 - val_accuracy: 0.2593\n",
            "Epoch 26/100\n",
            "4/4 [==============================] - 1s 215ms/step - loss: 6.9014 - accuracy: 0.2459 - val_loss: 5.7273 - val_accuracy: 0.2762\n",
            "Epoch 27/100\n",
            "4/4 [==============================] - 1s 201ms/step - loss: 6.5797 - accuracy: 0.2413 - val_loss: 2.7169 - val_accuracy: 0.2793\n",
            "Epoch 28/100\n",
            "4/4 [==============================] - 1s 205ms/step - loss: 4.7886 - accuracy: 0.2737 - val_loss: 6.8089 - val_accuracy: 0.1975\n",
            "Epoch 29/100\n",
            "4/4 [==============================] - 1s 215ms/step - loss: 5.1375 - accuracy: 0.2493 - val_loss: 12.1802 - val_accuracy: 0.2593\n",
            "Epoch 30/100\n",
            "4/4 [==============================] - 1s 201ms/step - loss: 9.9596 - accuracy: 0.2359 - val_loss: 2.6804 - val_accuracy: 0.2793\n",
            "Epoch 31/100\n",
            "4/4 [==============================] - 1s 204ms/step - loss: 4.4042 - accuracy: 0.2747 - val_loss: 5.5765 - val_accuracy: 0.2377\n",
            "Epoch 32/100\n",
            "4/4 [==============================] - 1s 204ms/step - loss: 6.7206 - accuracy: 0.2440 - val_loss: 11.2268 - val_accuracy: 0.1806\n",
            "Epoch 33/100\n",
            "4/4 [==============================] - 1s 201ms/step - loss: 8.3974 - accuracy: 0.2051 - val_loss: 8.1430 - val_accuracy: 0.2593\n",
            "Epoch 34/100\n",
            "4/4 [==============================] - 1s 203ms/step - loss: 7.2020 - accuracy: 0.2667 - val_loss: 4.6982 - val_accuracy: 0.2778\n",
            "Epoch 35/100\n",
            "4/4 [==============================] - 1s 206ms/step - loss: 6.7792 - accuracy: 0.2639 - val_loss: 4.9366 - val_accuracy: 0.2870\n",
            "Epoch 36/100\n",
            "4/4 [==============================] - 1s 203ms/step - loss: 4.1375 - accuracy: 0.3015 - val_loss: 12.7804 - val_accuracy: 0.2346\n",
            "Epoch 37/100\n",
            "4/4 [==============================] - 1s 202ms/step - loss: 8.1541 - accuracy: 0.2487 - val_loss: 6.0342 - val_accuracy: 0.2824\n",
            "Epoch 38/100\n",
            "4/4 [==============================] - 1s 201ms/step - loss: 6.1082 - accuracy: 0.2764 - val_loss: 4.9659 - val_accuracy: 0.2623\n",
            "Epoch 39/100\n",
            "4/4 [==============================] - 1s 201ms/step - loss: 6.9634 - accuracy: 0.2317 - val_loss: 6.2083 - val_accuracy: 0.3025\n",
            "Epoch 40/100\n",
            "4/4 [==============================] - 1s 205ms/step - loss: 5.9314 - accuracy: 0.2631 - val_loss: 11.4642 - val_accuracy: 0.2515\n",
            "Epoch 41/100\n",
            "4/4 [==============================] - 1s 213ms/step - loss: 7.4117 - accuracy: 0.2549 - val_loss: 7.8106 - val_accuracy: 0.2608\n",
            "Epoch 42/100\n",
            "4/4 [==============================] - 1s 203ms/step - loss: 7.7857 - accuracy: 0.2495 - val_loss: 5.7531 - val_accuracy: 0.2454\n",
            "Epoch 43/100\n",
            "4/4 [==============================] - 1s 208ms/step - loss: 6.8635 - accuracy: 0.2323 - val_loss: 9.6408 - val_accuracy: 0.2160\n",
            "Epoch 44/100\n",
            "4/4 [==============================] - 1s 204ms/step - loss: 6.6585 - accuracy: 0.2465 - val_loss: 11.2465 - val_accuracy: 0.2438\n",
            "Epoch 45/100\n",
            "4/4 [==============================] - 1s 201ms/step - loss: 7.3616 - accuracy: 0.2667 - val_loss: 2.2139 - val_accuracy: 0.2978\n",
            "Epoch 46/100\n",
            "4/4 [==============================] - 1s 205ms/step - loss: 3.4031 - accuracy: 0.3176 - val_loss: 6.2046 - val_accuracy: 0.2222\n",
            "Epoch 47/100\n",
            "4/4 [==============================] - 1s 210ms/step - loss: 5.6728 - accuracy: 0.2493 - val_loss: 12.1658 - val_accuracy: 0.2454\n",
            "Epoch 48/100\n",
            "4/4 [==============================] - 1s 206ms/step - loss: 7.4884 - accuracy: 0.2666 - val_loss: 3.1331 - val_accuracy: 0.2932\n",
            "Epoch 49/100\n",
            "4/4 [==============================] - 1s 200ms/step - loss: 5.5986 - accuracy: 0.2774 - val_loss: 6.2586 - val_accuracy: 0.2654\n",
            "Epoch 50/100\n",
            "4/4 [==============================] - 1s 203ms/step - loss: 7.1942 - accuracy: 0.2435 - val_loss: 9.1585 - val_accuracy: 0.2593\n",
            "Epoch 51/100\n",
            "4/4 [==============================] - 1s 199ms/step - loss: 7.4657 - accuracy: 0.2732 - val_loss: 4.1318 - val_accuracy: 0.2670\n",
            "Epoch 52/100\n",
            "4/4 [==============================] - 1s 204ms/step - loss: 5.9115 - accuracy: 0.2493 - val_loss: 8.0037 - val_accuracy: 0.2253\n",
            "Epoch 53/100\n",
            "4/4 [==============================] - 1s 205ms/step - loss: 5.7360 - accuracy: 0.2727 - val_loss: 2.3491 - val_accuracy: 0.2531\n",
            "Epoch 54/100\n",
            "4/4 [==============================] - 1s 198ms/step - loss: 4.4179 - accuracy: 0.3056 - val_loss: 5.6172 - val_accuracy: 0.2762\n",
            "Epoch 55/100\n",
            "4/4 [==============================] - 1s 206ms/step - loss: 5.0895 - accuracy: 0.2776 - val_loss: 8.5152 - val_accuracy: 0.2438\n",
            "Epoch 56/100\n",
            "4/4 [==============================] - 1s 205ms/step - loss: 5.6782 - accuracy: 0.2532 - val_loss: 4.5887 - val_accuracy: 0.2670\n",
            "Epoch 57/100\n",
            "4/4 [==============================] - 1s 208ms/step - loss: 7.6600 - accuracy: 0.2388 - val_loss: 7.1090 - val_accuracy: 0.1975\n",
            "Epoch 58/100\n",
            "4/4 [==============================] - 1s 207ms/step - loss: 5.4514 - accuracy: 0.2522 - val_loss: 14.1487 - val_accuracy: 0.2593\n",
            "Epoch 59/100\n",
            "4/4 [==============================] - 1s 203ms/step - loss: 10.1703 - accuracy: 0.2522 - val_loss: 6.2174 - val_accuracy: 0.2176\n",
            "Epoch 60/100\n",
            "4/4 [==============================] - 1s 202ms/step - loss: 5.4309 - accuracy: 0.2295 - val_loss: 12.2688 - val_accuracy: 0.2130\n",
            "Epoch 61/100\n",
            "4/4 [==============================] - 1s 206ms/step - loss: 7.6013 - accuracy: 0.2415 - val_loss: 5.6195 - val_accuracy: 0.2855\n",
            "Epoch 62/100\n",
            "4/4 [==============================] - 1s 207ms/step - loss: 5.9594 - accuracy: 0.2742 - val_loss: 6.0535 - val_accuracy: 0.2469\n",
            "Epoch 63/100\n",
            "4/4 [==============================] - 1s 209ms/step - loss: 4.3416 - accuracy: 0.2944 - val_loss: 6.0541 - val_accuracy: 0.2793\n",
            "Epoch 64/100\n",
            "4/4 [==============================] - 1s 201ms/step - loss: 6.8103 - accuracy: 0.2608 - val_loss: 4.4492 - val_accuracy: 0.2238\n",
            "Epoch 65/100\n",
            "4/4 [==============================] - 1s 204ms/step - loss: 5.9178 - accuracy: 0.2362 - val_loss: 5.6606 - val_accuracy: 0.1775\n",
            "Epoch 66/100\n",
            "4/4 [==============================] - 1s 204ms/step - loss: 4.0493 - accuracy: 0.2640 - val_loss: 11.7677 - val_accuracy: 0.2593\n",
            "Epoch 67/100\n",
            "4/4 [==============================] - 1s 201ms/step - loss: 9.0252 - accuracy: 0.2617 - val_loss: 5.4860 - val_accuracy: 0.2546\n",
            "Epoch 68/100\n",
            "4/4 [==============================] - 1s 215ms/step - loss: 5.9934 - accuracy: 0.2572 - val_loss: 4.9579 - val_accuracy: 0.2639\n",
            "Epoch 69/100\n",
            "4/4 [==============================] - 1s 205ms/step - loss: 4.1671 - accuracy: 0.2926 - val_loss: 9.7781 - val_accuracy: 0.2361\n",
            "Epoch 70/100\n",
            "4/4 [==============================] - 1s 207ms/step - loss: 6.7327 - accuracy: 0.2633 - val_loss: 4.2015 - val_accuracy: 0.2269\n",
            "Epoch 71/100\n",
            "4/4 [==============================] - 1s 207ms/step - loss: 3.2361 - accuracy: 0.3195 - val_loss: 12.6993 - val_accuracy: 0.2546\n",
            "Epoch 72/100\n",
            "4/4 [==============================] - 1s 206ms/step - loss: 8.6491 - accuracy: 0.2343 - val_loss: 8.3476 - val_accuracy: 0.1960\n",
            "Epoch 73/100\n",
            "4/4 [==============================] - 1s 223ms/step - loss: 6.4494 - accuracy: 0.2393 - val_loss: 4.9858 - val_accuracy: 0.2330\n",
            "Epoch 74/100\n",
            "4/4 [==============================] - 1s 218ms/step - loss: 5.3035 - accuracy: 0.2608 - val_loss: 3.6569 - val_accuracy: 0.3117\n",
            "Epoch 75/100\n",
            "4/4 [==============================] - 1s 211ms/step - loss: 4.0498 - accuracy: 0.2893 - val_loss: 3.8882 - val_accuracy: 0.2284\n",
            "Epoch 76/100\n",
            "4/4 [==============================] - 1s 213ms/step - loss: 7.0471 - accuracy: 0.2375 - val_loss: 2.7203 - val_accuracy: 0.2901\n",
            "Epoch 77/100\n",
            "4/4 [==============================] - 1s 207ms/step - loss: 4.2293 - accuracy: 0.2945 - val_loss: 8.4090 - val_accuracy: 0.2222\n",
            "Epoch 78/100\n",
            "4/4 [==============================] - 1s 206ms/step - loss: 5.4250 - accuracy: 0.2541 - val_loss: 7.6343 - val_accuracy: 0.1960\n",
            "Epoch 79/100\n",
            "4/4 [==============================] - 1s 210ms/step - loss: 7.6822 - accuracy: 0.1980 - val_loss: 7.5458 - val_accuracy: 0.1713\n",
            "Epoch 80/100\n",
            "4/4 [==============================] - 1s 212ms/step - loss: 5.0207 - accuracy: 0.2583 - val_loss: 10.6011 - val_accuracy: 0.2392\n",
            "Epoch 81/100\n",
            "4/4 [==============================] - 1s 223ms/step - loss: 6.4790 - accuracy: 0.2686 - val_loss: 4.0399 - val_accuracy: 0.2824\n",
            "Epoch 82/100\n",
            "4/4 [==============================] - 1s 215ms/step - loss: 4.8420 - accuracy: 0.2847 - val_loss: 5.5283 - val_accuracy: 0.2577\n",
            "Epoch 83/100\n",
            "4/4 [==============================] - 1s 205ms/step - loss: 5.1156 - accuracy: 0.2798 - val_loss: 4.7216 - val_accuracy: 0.1898\n",
            "Epoch 84/100\n",
            "4/4 [==============================] - 1s 213ms/step - loss: 5.5365 - accuracy: 0.2487 - val_loss: 5.2557 - val_accuracy: 0.2670\n",
            "Epoch 85/100\n",
            "4/4 [==============================] - 1s 213ms/step - loss: 4.6971 - accuracy: 0.2924 - val_loss: 5.3249 - val_accuracy: 0.2608\n",
            "Epoch 86/100\n",
            "4/4 [==============================] - 1s 211ms/step - loss: 6.8541 - accuracy: 0.2458 - val_loss: 4.8614 - val_accuracy: 0.1898\n",
            "Epoch 87/100\n",
            "4/4 [==============================] - 1s 201ms/step - loss: 3.6337 - accuracy: 0.3033 - val_loss: 10.6194 - val_accuracy: 0.2407\n",
            "Epoch 88/100\n",
            "4/4 [==============================] - 1s 203ms/step - loss: 7.6678 - accuracy: 0.2619 - val_loss: 3.3374 - val_accuracy: 0.2469\n",
            "Epoch 89/100\n",
            "4/4 [==============================] - 1s 209ms/step - loss: 6.2464 - accuracy: 0.2341 - val_loss: 4.2335 - val_accuracy: 0.2608\n",
            "Epoch 90/100\n",
            "4/4 [==============================] - 1s 203ms/step - loss: 5.6058 - accuracy: 0.2702 - val_loss: 4.5075 - val_accuracy: 0.3009\n",
            "Epoch 91/100\n",
            "4/4 [==============================] - 1s 209ms/step - loss: 3.6961 - accuracy: 0.3148 - val_loss: 10.9690 - val_accuracy: 0.2299\n",
            "Epoch 92/100\n",
            "4/4 [==============================] - 1s 209ms/step - loss: 7.6256 - accuracy: 0.2288 - val_loss: 6.4005 - val_accuracy: 0.1852\n",
            "Epoch 93/100\n",
            "4/4 [==============================] - 1s 215ms/step - loss: 5.1459 - accuracy: 0.2417 - val_loss: 4.4474 - val_accuracy: 0.2608\n",
            "Epoch 94/100\n",
            "4/4 [==============================] - 1s 226ms/step - loss: 3.4417 - accuracy: 0.3182 - val_loss: 5.4065 - val_accuracy: 0.2160\n",
            "Epoch 95/100\n",
            "4/4 [==============================] - 1s 210ms/step - loss: 6.1537 - accuracy: 0.2315 - val_loss: 5.6591 - val_accuracy: 0.2315\n",
            "Epoch 96/100\n",
            "4/4 [==============================] - 1s 200ms/step - loss: 5.1284 - accuracy: 0.2726 - val_loss: 9.9657 - val_accuracy: 0.1806\n",
            "Epoch 97/100\n",
            "4/4 [==============================] - 1s 203ms/step - loss: 7.2768 - accuracy: 0.2303 - val_loss: 4.3453 - val_accuracy: 0.2562\n",
            "Epoch 98/100\n",
            "4/4 [==============================] - 1s 202ms/step - loss: 5.3855 - accuracy: 0.2509 - val_loss: 3.0962 - val_accuracy: 0.2901\n",
            "Epoch 99/100\n",
            "4/4 [==============================] - 1s 202ms/step - loss: 3.8805 - accuracy: 0.3234 - val_loss: 4.0465 - val_accuracy: 0.2994\n",
            "Epoch 100/100\n",
            "4/4 [==============================] - 1s 199ms/step - loss: 4.0783 - accuracy: 0.3028 - val_loss: 6.4346 - val_accuracy: 0.2407\n",
            "processing fold # 2\n",
            "Epoch 1/100\n",
            "4/4 [==============================] - 1s 261ms/step - loss: 53.7945 - accuracy: 0.1987 - val_loss: 40.9824 - val_accuracy: 0.2269\n",
            "Epoch 2/100\n",
            "4/4 [==============================] - 1s 200ms/step - loss: 36.2843 - accuracy: 0.2275 - val_loss: 31.7194 - val_accuracy: 0.2562\n",
            "Epoch 3/100\n",
            "4/4 [==============================] - 1s 211ms/step - loss: 21.5649 - accuracy: 0.2236 - val_loss: 13.0274 - val_accuracy: 0.2747\n",
            "Epoch 4/100\n",
            "4/4 [==============================] - 1s 208ms/step - loss: 10.5137 - accuracy: 0.2298 - val_loss: 14.6033 - val_accuracy: 0.2145\n",
            "Epoch 5/100\n",
            "4/4 [==============================] - 1s 212ms/step - loss: 10.9261 - accuracy: 0.1982 - val_loss: 11.7950 - val_accuracy: 0.1744\n",
            "Epoch 6/100\n",
            "4/4 [==============================] - 1s 202ms/step - loss: 10.2979 - accuracy: 0.1986 - val_loss: 14.7343 - val_accuracy: 0.1790\n",
            "Epoch 7/100\n",
            "4/4 [==============================] - 1s 201ms/step - loss: 10.8874 - accuracy: 0.1984 - val_loss: 9.5232 - val_accuracy: 0.2593\n",
            "Epoch 8/100\n",
            "4/4 [==============================] - 1s 204ms/step - loss: 10.4168 - accuracy: 0.2368 - val_loss: 4.2230 - val_accuracy: 0.2623\n",
            "Epoch 9/100\n",
            "4/4 [==============================] - 1s 201ms/step - loss: 6.1598 - accuracy: 0.2568 - val_loss: 5.8866 - val_accuracy: 0.2469\n",
            "Epoch 10/100\n",
            "4/4 [==============================] - 1s 197ms/step - loss: 7.0633 - accuracy: 0.2527 - val_loss: 8.0036 - val_accuracy: 0.2793\n",
            "Epoch 11/100\n",
            "4/4 [==============================] - 1s 202ms/step - loss: 8.9017 - accuracy: 0.2365 - val_loss: 12.5883 - val_accuracy: 0.2901\n",
            "Epoch 12/100\n",
            "4/4 [==============================] - 1s 204ms/step - loss: 9.9137 - accuracy: 0.2351 - val_loss: 8.8532 - val_accuracy: 0.2315\n",
            "Epoch 13/100\n",
            "4/4 [==============================] - 1s 204ms/step - loss: 7.3909 - accuracy: 0.2340 - val_loss: 6.5128 - val_accuracy: 0.2299\n",
            "Epoch 14/100\n",
            "4/4 [==============================] - 1s 205ms/step - loss: 7.8528 - accuracy: 0.2406 - val_loss: 6.1880 - val_accuracy: 0.2253\n",
            "Epoch 15/100\n",
            "4/4 [==============================] - 1s 200ms/step - loss: 6.1834 - accuracy: 0.2653 - val_loss: 6.8942 - val_accuracy: 0.2392\n",
            "Epoch 16/100\n",
            "4/4 [==============================] - 1s 206ms/step - loss: 7.5200 - accuracy: 0.2721 - val_loss: 3.7195 - val_accuracy: 0.2037\n",
            "Epoch 17/100\n",
            "4/4 [==============================] - 1s 204ms/step - loss: 4.1187 - accuracy: 0.2504 - val_loss: 4.7360 - val_accuracy: 0.1806\n",
            "Epoch 18/100\n",
            "4/4 [==============================] - 1s 202ms/step - loss: 7.9724 - accuracy: 0.2101 - val_loss: 7.5008 - val_accuracy: 0.1806\n",
            "Epoch 19/100\n",
            "4/4 [==============================] - 1s 200ms/step - loss: 7.5938 - accuracy: 0.2004 - val_loss: 3.1101 - val_accuracy: 0.2500\n",
            "Epoch 20/100\n",
            "4/4 [==============================] - 1s 201ms/step - loss: 3.7653 - accuracy: 0.2872 - val_loss: 8.9517 - val_accuracy: 0.1806\n",
            "Epoch 21/100\n",
            "4/4 [==============================] - 1s 203ms/step - loss: 7.1652 - accuracy: 0.2425 - val_loss: 11.3612 - val_accuracy: 0.2269\n",
            "Epoch 22/100\n",
            "4/4 [==============================] - 1s 209ms/step - loss: 7.5408 - accuracy: 0.2441 - val_loss: 11.1013 - val_accuracy: 0.2392\n",
            "Epoch 23/100\n",
            "4/4 [==============================] - 1s 196ms/step - loss: 9.7982 - accuracy: 0.2288 - val_loss: 6.8749 - val_accuracy: 0.2778\n",
            "Epoch 24/100\n",
            "4/4 [==============================] - 1s 200ms/step - loss: 7.6136 - accuracy: 0.2209 - val_loss: 7.2899 - val_accuracy: 0.2994\n",
            "Epoch 25/100\n",
            "4/4 [==============================] - 1s 206ms/step - loss: 7.1640 - accuracy: 0.2533 - val_loss: 8.4728 - val_accuracy: 0.2901\n",
            "Epoch 26/100\n",
            "4/4 [==============================] - 1s 205ms/step - loss: 7.5006 - accuracy: 0.2277 - val_loss: 8.3866 - val_accuracy: 0.2299\n",
            "Epoch 27/100\n",
            "4/4 [==============================] - 1s 198ms/step - loss: 8.7203 - accuracy: 0.2261 - val_loss: 6.1683 - val_accuracy: 0.2824\n",
            "Epoch 28/100\n",
            "4/4 [==============================] - 1s 201ms/step - loss: 5.0465 - accuracy: 0.2875 - val_loss: 8.0189 - val_accuracy: 0.2423\n",
            "Epoch 29/100\n",
            "4/4 [==============================] - 1s 205ms/step - loss: 7.0004 - accuracy: 0.2346 - val_loss: 10.2174 - val_accuracy: 0.1867\n",
            "Epoch 30/100\n",
            "4/4 [==============================] - 1s 205ms/step - loss: 8.9305 - accuracy: 0.2013 - val_loss: 7.8556 - val_accuracy: 0.1759\n",
            "Epoch 31/100\n",
            "4/4 [==============================] - 1s 202ms/step - loss: 5.9511 - accuracy: 0.2492 - val_loss: 5.1136 - val_accuracy: 0.1806\n",
            "Epoch 32/100\n",
            "4/4 [==============================] - 1s 207ms/step - loss: 3.6665 - accuracy: 0.2631 - val_loss: 9.7119 - val_accuracy: 0.2269\n",
            "Epoch 33/100\n",
            "4/4 [==============================] - 1s 200ms/step - loss: 7.0149 - accuracy: 0.2445 - val_loss: 3.0354 - val_accuracy: 0.2716\n",
            "Epoch 34/100\n",
            "4/4 [==============================] - 1s 204ms/step - loss: 5.6924 - accuracy: 0.2561 - val_loss: 7.6320 - val_accuracy: 0.1759\n",
            "Epoch 35/100\n",
            "4/4 [==============================] - 1s 203ms/step - loss: 6.3316 - accuracy: 0.2286 - val_loss: 4.6989 - val_accuracy: 0.2438\n",
            "Epoch 36/100\n",
            "4/4 [==============================] - 1s 199ms/step - loss: 4.3253 - accuracy: 0.2686 - val_loss: 6.7473 - val_accuracy: 0.2855\n",
            "Epoch 37/100\n",
            "4/4 [==============================] - 1s 200ms/step - loss: 6.5073 - accuracy: 0.2208 - val_loss: 6.2818 - val_accuracy: 0.2361\n",
            "Epoch 38/100\n",
            "4/4 [==============================] - 1s 200ms/step - loss: 7.0932 - accuracy: 0.2568 - val_loss: 5.0349 - val_accuracy: 0.1821\n",
            "Epoch 39/100\n",
            "4/4 [==============================] - 1s 199ms/step - loss: 5.7678 - accuracy: 0.2274 - val_loss: 4.9951 - val_accuracy: 0.2052\n",
            "Epoch 40/100\n",
            "4/4 [==============================] - 1s 196ms/step - loss: 4.9034 - accuracy: 0.2303 - val_loss: 6.1831 - val_accuracy: 0.1852\n",
            "Epoch 41/100\n",
            "4/4 [==============================] - 1s 196ms/step - loss: 5.0169 - accuracy: 0.2130 - val_loss: 9.9988 - val_accuracy: 0.2762\n",
            "Epoch 42/100\n",
            "4/4 [==============================] - 1s 203ms/step - loss: 7.2344 - accuracy: 0.2458 - val_loss: 3.0396 - val_accuracy: 0.2778\n",
            "Epoch 43/100\n",
            "4/4 [==============================] - 1s 203ms/step - loss: 4.3894 - accuracy: 0.3028 - val_loss: 5.1743 - val_accuracy: 0.1790\n",
            "Epoch 44/100\n",
            "4/4 [==============================] - 1s 201ms/step - loss: 5.9617 - accuracy: 0.2256 - val_loss: 4.0080 - val_accuracy: 0.1821\n",
            "Epoch 45/100\n",
            "4/4 [==============================] - 1s 206ms/step - loss: 3.9304 - accuracy: 0.2484 - val_loss: 9.5671 - val_accuracy: 0.2639\n",
            "Epoch 46/100\n",
            "4/4 [==============================] - 1s 204ms/step - loss: 7.6555 - accuracy: 0.2216 - val_loss: 4.1460 - val_accuracy: 0.2978\n",
            "Epoch 47/100\n",
            "4/4 [==============================] - 1s 204ms/step - loss: 5.8274 - accuracy: 0.2558 - val_loss: 6.2585 - val_accuracy: 0.2747\n",
            "Epoch 48/100\n",
            "4/4 [==============================] - 1s 203ms/step - loss: 6.8535 - accuracy: 0.2374 - val_loss: 4.9170 - val_accuracy: 0.2531\n",
            "Epoch 49/100\n",
            "4/4 [==============================] - 1s 199ms/step - loss: 4.4285 - accuracy: 0.3119 - val_loss: 6.9510 - val_accuracy: 0.1759\n",
            "Epoch 50/100\n",
            "4/4 [==============================] - 1s 200ms/step - loss: 5.7504 - accuracy: 0.2384 - val_loss: 5.1887 - val_accuracy: 0.1898\n",
            "Epoch 51/100\n",
            "4/4 [==============================] - 1s 205ms/step - loss: 4.7519 - accuracy: 0.2198 - val_loss: 10.5459 - val_accuracy: 0.2608\n",
            "Epoch 52/100\n",
            "4/4 [==============================] - 1s 201ms/step - loss: 7.6506 - accuracy: 0.2528 - val_loss: 4.7761 - val_accuracy: 0.2469\n",
            "Epoch 53/100\n",
            "4/4 [==============================] - 1s 208ms/step - loss: 4.6960 - accuracy: 0.3057 - val_loss: 7.2673 - val_accuracy: 0.1790\n",
            "Epoch 54/100\n",
            "4/4 [==============================] - 1s 201ms/step - loss: 5.8705 - accuracy: 0.2015 - val_loss: 10.5302 - val_accuracy: 0.2593\n",
            "Epoch 55/100\n",
            "4/4 [==============================] - 1s 205ms/step - loss: 7.6009 - accuracy: 0.2390 - val_loss: 6.0251 - val_accuracy: 0.2407\n",
            "Epoch 56/100\n",
            "4/4 [==============================] - 1s 207ms/step - loss: 6.7903 - accuracy: 0.2427 - val_loss: 3.7158 - val_accuracy: 0.1991\n",
            "Epoch 57/100\n",
            "4/4 [==============================] - 1s 204ms/step - loss: 4.7567 - accuracy: 0.2674 - val_loss: 5.0066 - val_accuracy: 0.2114\n",
            "Epoch 58/100\n",
            "4/4 [==============================] - 1s 206ms/step - loss: 4.2100 - accuracy: 0.2558 - val_loss: 8.4045 - val_accuracy: 0.2438\n",
            "Epoch 59/100\n",
            "4/4 [==============================] - 1s 207ms/step - loss: 5.9549 - accuracy: 0.2723 - val_loss: 3.3347 - val_accuracy: 0.2963\n",
            "Epoch 60/100\n",
            "4/4 [==============================] - 1s 203ms/step - loss: 5.0006 - accuracy: 0.2725 - val_loss: 5.3646 - val_accuracy: 0.1991\n",
            "Epoch 61/100\n",
            "4/4 [==============================] - 1s 204ms/step - loss: 3.6113 - accuracy: 0.2948 - val_loss: 3.6364 - val_accuracy: 0.2531\n",
            "Epoch 62/100\n",
            "4/4 [==============================] - 1s 203ms/step - loss: 5.0932 - accuracy: 0.3016 - val_loss: 4.8183 - val_accuracy: 0.2006\n",
            "Epoch 63/100\n",
            "4/4 [==============================] - 1s 205ms/step - loss: 5.5482 - accuracy: 0.2458 - val_loss: 4.1482 - val_accuracy: 0.2948\n",
            "Epoch 64/100\n",
            "4/4 [==============================] - 1s 214ms/step - loss: 4.5518 - accuracy: 0.2835 - val_loss: 6.3445 - val_accuracy: 0.2639\n",
            "Epoch 65/100\n",
            "4/4 [==============================] - 1s 218ms/step - loss: 6.2280 - accuracy: 0.2751 - val_loss: 4.0137 - val_accuracy: 0.2500\n",
            "Epoch 66/100\n",
            "4/4 [==============================] - 1s 216ms/step - loss: 4.5734 - accuracy: 0.2703 - val_loss: 8.4219 - val_accuracy: 0.1790\n",
            "Epoch 67/100\n",
            "4/4 [==============================] - 1s 209ms/step - loss: 6.4353 - accuracy: 0.2141 - val_loss: 7.6523 - val_accuracy: 0.2824\n",
            "Epoch 68/100\n",
            "4/4 [==============================] - 1s 208ms/step - loss: 6.7175 - accuracy: 0.2447 - val_loss: 2.8634 - val_accuracy: 0.2716\n",
            "Epoch 69/100\n",
            "4/4 [==============================] - 1s 207ms/step - loss: 4.1631 - accuracy: 0.3194 - val_loss: 6.5485 - val_accuracy: 0.1775\n",
            "Epoch 70/100\n",
            "4/4 [==============================] - 1s 204ms/step - loss: 6.3280 - accuracy: 0.2122 - val_loss: 4.8929 - val_accuracy: 0.1914\n",
            "Epoch 71/100\n",
            "4/4 [==============================] - 1s 217ms/step - loss: 4.1959 - accuracy: 0.2334 - val_loss: 9.0262 - val_accuracy: 0.2670\n",
            "Epoch 72/100\n",
            "4/4 [==============================] - 1s 209ms/step - loss: 7.6744 - accuracy: 0.2164 - val_loss: 2.5173 - val_accuracy: 0.2978\n",
            "Epoch 73/100\n",
            "4/4 [==============================] - 1s 207ms/step - loss: 4.0292 - accuracy: 0.3097 - val_loss: 5.7460 - val_accuracy: 0.2068\n",
            "Epoch 74/100\n",
            "4/4 [==============================] - 1s 205ms/step - loss: 5.5632 - accuracy: 0.2356 - val_loss: 5.4552 - val_accuracy: 0.2145\n",
            "Epoch 75/100\n",
            "4/4 [==============================] - 1s 209ms/step - loss: 4.0971 - accuracy: 0.2775 - val_loss: 8.0641 - val_accuracy: 0.2824\n",
            "Epoch 76/100\n",
            "4/4 [==============================] - 1s 205ms/step - loss: 6.6357 - accuracy: 0.2336 - val_loss: 2.8416 - val_accuracy: 0.2809\n",
            "Epoch 77/100\n",
            "4/4 [==============================] - 1s 202ms/step - loss: 3.9493 - accuracy: 0.3021 - val_loss: 5.1157 - val_accuracy: 0.1821\n",
            "Epoch 78/100\n",
            "4/4 [==============================] - 1s 207ms/step - loss: 5.6343 - accuracy: 0.2389 - val_loss: 3.0766 - val_accuracy: 0.1898\n",
            "Epoch 79/100\n",
            "4/4 [==============================] - 1s 210ms/step - loss: 3.9198 - accuracy: 0.2778 - val_loss: 5.5798 - val_accuracy: 0.1836\n",
            "Epoch 80/100\n",
            "4/4 [==============================] - 1s 210ms/step - loss: 4.6391 - accuracy: 0.2277 - val_loss: 10.6197 - val_accuracy: 0.2608\n",
            "Epoch 81/100\n",
            "4/4 [==============================] - 1s 209ms/step - loss: 7.4419 - accuracy: 0.2582 - val_loss: 3.3498 - val_accuracy: 0.2562\n",
            "Epoch 82/100\n",
            "4/4 [==============================] - 1s 207ms/step - loss: 4.8445 - accuracy: 0.2795 - val_loss: 4.4296 - val_accuracy: 0.1836\n",
            "Epoch 83/100\n",
            "4/4 [==============================] - 1s 208ms/step - loss: 4.9821 - accuracy: 0.2595 - val_loss: 5.2967 - val_accuracy: 0.2068\n",
            "Epoch 84/100\n",
            "4/4 [==============================] - 1s 214ms/step - loss: 4.3036 - accuracy: 0.2806 - val_loss: 6.7312 - val_accuracy: 0.1929\n",
            "Epoch 85/100\n",
            "4/4 [==============================] - 1s 208ms/step - loss: 4.5393 - accuracy: 0.2622 - val_loss: 2.7768 - val_accuracy: 0.2994\n",
            "Epoch 86/100\n",
            "4/4 [==============================] - 1s 199ms/step - loss: 4.7913 - accuracy: 0.2858 - val_loss: 6.2544 - val_accuracy: 0.1883\n",
            "Epoch 87/100\n",
            "4/4 [==============================] - 1s 201ms/step - loss: 5.5790 - accuracy: 0.2257 - val_loss: 5.3166 - val_accuracy: 0.1867\n",
            "Epoch 88/100\n",
            "4/4 [==============================] - 1s 202ms/step - loss: 3.9092 - accuracy: 0.2633 - val_loss: 6.0151 - val_accuracy: 0.2870\n",
            "Epoch 89/100\n",
            "4/4 [==============================] - 1s 201ms/step - loss: 5.6465 - accuracy: 0.2828 - val_loss: 3.1745 - val_accuracy: 0.3102\n",
            "Epoch 90/100\n",
            "4/4 [==============================] - 1s 201ms/step - loss: 3.9610 - accuracy: 0.3360 - val_loss: 5.3880 - val_accuracy: 0.2160\n",
            "Epoch 91/100\n",
            "4/4 [==============================] - 1s 200ms/step - loss: 4.5686 - accuracy: 0.2586 - val_loss: 7.4187 - val_accuracy: 0.2531\n",
            "Epoch 92/100\n",
            "4/4 [==============================] - 1s 207ms/step - loss: 5.3523 - accuracy: 0.2982 - val_loss: 3.4539 - val_accuracy: 0.2068\n",
            "Epoch 93/100\n",
            "4/4 [==============================] - 1s 205ms/step - loss: 3.7490 - accuracy: 0.3000 - val_loss: 4.4199 - val_accuracy: 0.2330\n",
            "Epoch 94/100\n",
            "4/4 [==============================] - 1s 205ms/step - loss: 4.6917 - accuracy: 0.2429 - val_loss: 4.8505 - val_accuracy: 0.2870\n",
            "Epoch 95/100\n",
            "4/4 [==============================] - 1s 199ms/step - loss: 4.7521 - accuracy: 0.2915 - val_loss: 7.3597 - val_accuracy: 0.2870\n",
            "Epoch 96/100\n",
            "4/4 [==============================] - 1s 202ms/step - loss: 5.4073 - accuracy: 0.2815 - val_loss: 3.2348 - val_accuracy: 0.2793\n",
            "Epoch 97/100\n",
            "4/4 [==============================] - 1s 203ms/step - loss: 5.0026 - accuracy: 0.2818 - val_loss: 5.9499 - val_accuracy: 0.2731\n",
            "Epoch 98/100\n",
            "4/4 [==============================] - 1s 213ms/step - loss: 5.6563 - accuracy: 0.2575 - val_loss: 4.9738 - val_accuracy: 0.2577\n",
            "Epoch 99/100\n",
            "4/4 [==============================] - 1s 203ms/step - loss: 3.4695 - accuracy: 0.3065 - val_loss: 9.1237 - val_accuracy: 0.2392\n",
            "Epoch 100/100\n",
            "4/4 [==============================] - 1s 187ms/step - loss: 6.0563 - accuracy: 0.2970 - val_loss: 4.3195 - val_accuracy: 0.2207\n",
            "processing fold # 3\n",
            "Epoch 1/100\n",
            "4/4 [==============================] - 1s 252ms/step - loss: 53.3666 - accuracy: 0.2010 - val_loss: 23.1349 - val_accuracy: 0.2207\n",
            "Epoch 2/100\n",
            "4/4 [==============================] - 1s 207ms/step - loss: 13.4358 - accuracy: 0.2543 - val_loss: 6.5524 - val_accuracy: 0.2654\n",
            "Epoch 3/100\n",
            "4/4 [==============================] - 1s 204ms/step - loss: 4.7427 - accuracy: 0.2301 - val_loss: 1.9142 - val_accuracy: 0.1991\n",
            "Epoch 4/100\n",
            "4/4 [==============================] - 1s 207ms/step - loss: 1.7093 - accuracy: 0.2229 - val_loss: 7.8062 - val_accuracy: 0.2654\n",
            "Epoch 5/100\n",
            "4/4 [==============================] - 1s 205ms/step - loss: 5.3711 - accuracy: 0.2257 - val_loss: 1.5962 - val_accuracy: 0.2114\n",
            "Epoch 6/100\n",
            "4/4 [==============================] - 1s 203ms/step - loss: 1.5714 - accuracy: 0.2231 - val_loss: 1.5932 - val_accuracy: 0.2114\n",
            "Epoch 7/100\n",
            "4/4 [==============================] - 1s 203ms/step - loss: 1.5761 - accuracy: 0.2394 - val_loss: 1.6023 - val_accuracy: 0.2485\n",
            "Epoch 8/100\n",
            "4/4 [==============================] - 1s 198ms/step - loss: 1.5501 - accuracy: 0.2587 - val_loss: 1.5841 - val_accuracy: 0.2469\n",
            "Epoch 9/100\n",
            "4/4 [==============================] - 1s 207ms/step - loss: 1.5584 - accuracy: 0.2584 - val_loss: 1.5726 - val_accuracy: 0.2407\n",
            "Epoch 10/100\n",
            "4/4 [==============================] - 1s 202ms/step - loss: 1.5680 - accuracy: 0.2148 - val_loss: 1.5735 - val_accuracy: 0.2330\n",
            "Epoch 11/100\n",
            "4/4 [==============================] - 1s 206ms/step - loss: 1.5614 - accuracy: 0.2276 - val_loss: 1.5668 - val_accuracy: 0.2654\n",
            "Epoch 12/100\n",
            "4/4 [==============================] - 1s 202ms/step - loss: 1.5531 - accuracy: 0.2571 - val_loss: 1.8420 - val_accuracy: 0.1806\n",
            "Epoch 13/100\n",
            "4/4 [==============================] - 1s 201ms/step - loss: 1.6915 - accuracy: 0.1865 - val_loss: 1.6069 - val_accuracy: 0.2207\n",
            "Epoch 14/100\n",
            "4/4 [==============================] - 1s 200ms/step - loss: 1.5936 - accuracy: 0.2443 - val_loss: 1.6234 - val_accuracy: 0.2207\n",
            "Epoch 15/100\n",
            "4/4 [==============================] - 1s 204ms/step - loss: 1.5986 - accuracy: 0.2530 - val_loss: 1.6107 - val_accuracy: 0.2253\n",
            "Epoch 16/100\n",
            "4/4 [==============================] - 1s 204ms/step - loss: 1.6001 - accuracy: 0.2451 - val_loss: 1.6051 - val_accuracy: 0.2361\n",
            "Epoch 17/100\n",
            "4/4 [==============================] - 1s 200ms/step - loss: 1.5877 - accuracy: 0.2707 - val_loss: 1.7304 - val_accuracy: 0.2778\n",
            "Epoch 18/100\n",
            "4/4 [==============================] - 1s 206ms/step - loss: 1.6997 - accuracy: 0.2471 - val_loss: 1.6415 - val_accuracy: 0.2346\n",
            "Epoch 19/100\n",
            "4/4 [==============================] - 1s 206ms/step - loss: 1.6043 - accuracy: 0.2598 - val_loss: 1.6104 - val_accuracy: 0.2207\n",
            "Epoch 20/100\n",
            "4/4 [==============================] - 1s 204ms/step - loss: 1.5877 - accuracy: 0.2634 - val_loss: 2.7133 - val_accuracy: 0.1836\n",
            "Epoch 21/100\n",
            "4/4 [==============================] - 1s 202ms/step - loss: 2.1245 - accuracy: 0.2062 - val_loss: 1.6255 - val_accuracy: 0.2284\n",
            "Epoch 22/100\n",
            "4/4 [==============================] - 1s 204ms/step - loss: 1.6050 - accuracy: 0.2352 - val_loss: 1.6055 - val_accuracy: 0.2238\n",
            "Epoch 23/100\n",
            "4/4 [==============================] - 1s 204ms/step - loss: 1.6019 - accuracy: 0.2388 - val_loss: 1.6232 - val_accuracy: 0.2284\n",
            "Epoch 24/100\n",
            "4/4 [==============================] - 1s 207ms/step - loss: 1.5961 - accuracy: 0.2457 - val_loss: 1.6054 - val_accuracy: 0.2238\n",
            "Epoch 25/100\n",
            "4/4 [==============================] - 1s 203ms/step - loss: 1.6003 - accuracy: 0.2381 - val_loss: 1.6036 - val_accuracy: 0.2238\n",
            "Epoch 26/100\n",
            "4/4 [==============================] - 1s 198ms/step - loss: 1.5994 - accuracy: 0.2363 - val_loss: 1.6032 - val_accuracy: 0.2238\n",
            "Epoch 27/100\n",
            "4/4 [==============================] - 1s 203ms/step - loss: 1.5986 - accuracy: 0.2360 - val_loss: 1.6195 - val_accuracy: 0.2299\n",
            "Epoch 28/100\n",
            "4/4 [==============================] - 1s 203ms/step - loss: 1.5931 - accuracy: 0.2388 - val_loss: 1.6117 - val_accuracy: 0.2222\n",
            "Epoch 29/100\n",
            "4/4 [==============================] - 1s 203ms/step - loss: 1.6013 - accuracy: 0.2514 - val_loss: 1.6000 - val_accuracy: 0.2346\n",
            "Epoch 30/100\n",
            "4/4 [==============================] - 1s 206ms/step - loss: 1.5859 - accuracy: 0.2604 - val_loss: 1.5862 - val_accuracy: 0.2855\n",
            "Epoch 31/100\n",
            "4/4 [==============================] - 1s 204ms/step - loss: 1.5888 - accuracy: 0.2690 - val_loss: 1.6251 - val_accuracy: 0.2284\n",
            "Epoch 32/100\n",
            "4/4 [==============================] - 1s 206ms/step - loss: 1.5970 - accuracy: 0.2483 - val_loss: 1.6258 - val_accuracy: 0.2315\n",
            "Epoch 33/100\n",
            "4/4 [==============================] - 1s 204ms/step - loss: 1.5909 - accuracy: 0.2486 - val_loss: 1.6152 - val_accuracy: 0.2269\n",
            "Epoch 34/100\n",
            "4/4 [==============================] - 1s 200ms/step - loss: 1.5891 - accuracy: 0.2421 - val_loss: 1.6293 - val_accuracy: 0.2330\n",
            "Epoch 35/100\n",
            "4/4 [==============================] - 1s 201ms/step - loss: 1.5798 - accuracy: 0.2633 - val_loss: 1.6512 - val_accuracy: 0.2346\n",
            "Epoch 36/100\n",
            "4/4 [==============================] - 1s 209ms/step - loss: 1.5819 - accuracy: 0.2710 - val_loss: 1.6391 - val_accuracy: 0.2361\n",
            "Epoch 37/100\n",
            "4/4 [==============================] - 1s 202ms/step - loss: 1.5664 - accuracy: 0.2790 - val_loss: 1.6072 - val_accuracy: 0.2284\n",
            "Epoch 38/100\n",
            "4/4 [==============================] - 1s 201ms/step - loss: 1.5825 - accuracy: 0.2727 - val_loss: 1.5994 - val_accuracy: 0.2238\n",
            "Epoch 39/100\n",
            "4/4 [==============================] - 1s 203ms/step - loss: 1.5819 - accuracy: 0.2617 - val_loss: 1.6038 - val_accuracy: 0.2562\n",
            "Epoch 40/100\n",
            "4/4 [==============================] - 1s 206ms/step - loss: 2.9240 - accuracy: 0.2561 - val_loss: 1.9117 - val_accuracy: 0.2423\n",
            "Epoch 41/100\n",
            "4/4 [==============================] - 1s 206ms/step - loss: 1.7268 - accuracy: 0.2457 - val_loss: 1.5996 - val_accuracy: 0.2253\n",
            "Epoch 42/100\n",
            "4/4 [==============================] - 1s 206ms/step - loss: 1.5868 - accuracy: 0.2441 - val_loss: 1.6023 - val_accuracy: 0.2238\n",
            "Epoch 43/100\n",
            "4/4 [==============================] - 1s 205ms/step - loss: 1.5812 - accuracy: 0.2562 - val_loss: 1.6086 - val_accuracy: 0.2238\n",
            "Epoch 44/100\n",
            "4/4 [==============================] - 1s 202ms/step - loss: 1.5750 - accuracy: 0.2654 - val_loss: 1.6217 - val_accuracy: 0.2299\n",
            "Epoch 45/100\n",
            "4/4 [==============================] - 1s 204ms/step - loss: 1.6400 - accuracy: 0.2487 - val_loss: 1.6159 - val_accuracy: 0.2315\n",
            "Epoch 46/100\n",
            "4/4 [==============================] - 1s 201ms/step - loss: 1.5715 - accuracy: 0.2618 - val_loss: 1.6251 - val_accuracy: 0.2377\n",
            "Epoch 47/100\n",
            "4/4 [==============================] - 1s 202ms/step - loss: 1.5642 - accuracy: 0.2686 - val_loss: 1.6227 - val_accuracy: 0.2623\n",
            "Epoch 48/100\n",
            "4/4 [==============================] - 1s 203ms/step - loss: 1.5555 - accuracy: 0.2850 - val_loss: 1.6060 - val_accuracy: 0.2654\n",
            "Epoch 49/100\n",
            "4/4 [==============================] - 1s 212ms/step - loss: 1.5509 - accuracy: 0.3004 - val_loss: 1.5995 - val_accuracy: 0.2870\n",
            "Epoch 50/100\n",
            "4/4 [==============================] - 1s 211ms/step - loss: 1.5476 - accuracy: 0.2910 - val_loss: 1.6382 - val_accuracy: 0.3071\n",
            "Epoch 51/100\n",
            "4/4 [==============================] - 1s 208ms/step - loss: 1.5577 - accuracy: 0.2935 - val_loss: 1.7246 - val_accuracy: 0.2716\n",
            "Epoch 52/100\n",
            "4/4 [==============================] - 1s 204ms/step - loss: 1.5674 - accuracy: 0.2986 - val_loss: 1.5974 - val_accuracy: 0.2670\n",
            "Epoch 53/100\n",
            "4/4 [==============================] - 1s 204ms/step - loss: 1.6193 - accuracy: 0.2737 - val_loss: 1.6024 - val_accuracy: 0.2207\n",
            "Epoch 54/100\n",
            "4/4 [==============================] - 1s 213ms/step - loss: 1.5744 - accuracy: 0.2688 - val_loss: 1.6213 - val_accuracy: 0.2485\n",
            "Epoch 55/100\n",
            "4/4 [==============================] - 1s 216ms/step - loss: 1.5567 - accuracy: 0.2880 - val_loss: 1.6119 - val_accuracy: 0.2269\n",
            "Epoch 56/100\n",
            "4/4 [==============================] - 1s 221ms/step - loss: 1.5530 - accuracy: 0.2762 - val_loss: 1.6116 - val_accuracy: 0.2284\n",
            "Epoch 57/100\n",
            "4/4 [==============================] - 1s 213ms/step - loss: 1.5616 - accuracy: 0.2771 - val_loss: 1.6223 - val_accuracy: 0.2608\n",
            "Epoch 58/100\n",
            "4/4 [==============================] - 1s 207ms/step - loss: 1.7146 - accuracy: 0.2859 - val_loss: 1.6137 - val_accuracy: 0.2670\n",
            "Epoch 59/100\n",
            "4/4 [==============================] - 1s 212ms/step - loss: 1.5416 - accuracy: 0.2982 - val_loss: 1.6212 - val_accuracy: 0.2284\n",
            "Epoch 60/100\n",
            "4/4 [==============================] - 1s 215ms/step - loss: 1.5690 - accuracy: 0.2815 - val_loss: 1.6023 - val_accuracy: 0.2886\n",
            "Epoch 61/100\n",
            "4/4 [==============================] - 1s 217ms/step - loss: 1.6762 - accuracy: 0.2972 - val_loss: 1.6133 - val_accuracy: 0.2284\n",
            "Epoch 62/100\n",
            "4/4 [==============================] - 1s 222ms/step - loss: 1.5684 - accuracy: 0.2650 - val_loss: 1.6337 - val_accuracy: 0.2299\n",
            "Epoch 63/100\n",
            "4/4 [==============================] - 1s 211ms/step - loss: 1.5588 - accuracy: 0.2745 - val_loss: 1.6321 - val_accuracy: 0.2299\n",
            "Epoch 64/100\n",
            "4/4 [==============================] - 1s 205ms/step - loss: 1.5518 - accuracy: 0.2664 - val_loss: 1.6849 - val_accuracy: 0.2315\n",
            "Epoch 65/100\n",
            "4/4 [==============================] - 1s 213ms/step - loss: 1.5715 - accuracy: 0.2612 - val_loss: 1.6385 - val_accuracy: 0.2361\n",
            "Epoch 66/100\n",
            "4/4 [==============================] - 1s 208ms/step - loss: 1.5468 - accuracy: 0.2881 - val_loss: 1.6556 - val_accuracy: 0.2346\n",
            "Epoch 67/100\n",
            "4/4 [==============================] - 1s 208ms/step - loss: 1.5546 - accuracy: 0.2852 - val_loss: 2.1250 - val_accuracy: 0.2145\n",
            "Epoch 68/100\n",
            "4/4 [==============================] - 1s 208ms/step - loss: 1.7768 - accuracy: 0.2595 - val_loss: 1.6028 - val_accuracy: 0.2623\n",
            "Epoch 69/100\n",
            "4/4 [==============================] - 1s 213ms/step - loss: 1.5237 - accuracy: 0.2924 - val_loss: 1.7770 - val_accuracy: 0.3086\n",
            "Epoch 70/100\n",
            "4/4 [==============================] - 1s 209ms/step - loss: 1.6460 - accuracy: 0.2883 - val_loss: 1.6136 - val_accuracy: 0.2299\n",
            "Epoch 71/100\n",
            "4/4 [==============================] - 1s 214ms/step - loss: 1.5561 - accuracy: 0.2757 - val_loss: 1.6194 - val_accuracy: 0.2361\n",
            "Epoch 72/100\n",
            "4/4 [==============================] - 1s 210ms/step - loss: 1.5509 - accuracy: 0.2766 - val_loss: 1.6233 - val_accuracy: 0.2407\n",
            "Epoch 73/100\n",
            "4/4 [==============================] - 1s 212ms/step - loss: 1.5261 - accuracy: 0.2938 - val_loss: 1.6006 - val_accuracy: 0.2685\n",
            "Epoch 74/100\n",
            "4/4 [==============================] - 1s 219ms/step - loss: 1.5428 - accuracy: 0.2840 - val_loss: 1.6399 - val_accuracy: 0.2469\n",
            "Epoch 75/100\n",
            "4/4 [==============================] - 1s 213ms/step - loss: 1.5243 - accuracy: 0.2910 - val_loss: 1.6108 - val_accuracy: 0.2994\n",
            "Epoch 76/100\n",
            "4/4 [==============================] - 1s 213ms/step - loss: 1.5567 - accuracy: 0.2759 - val_loss: 1.6259 - val_accuracy: 0.2407\n",
            "Epoch 77/100\n",
            "4/4 [==============================] - 1s 212ms/step - loss: 1.5274 - accuracy: 0.2958 - val_loss: 1.9963 - val_accuracy: 0.2330\n",
            "Epoch 78/100\n",
            "4/4 [==============================] - 1s 210ms/step - loss: 1.6823 - accuracy: 0.2745 - val_loss: 1.6344 - val_accuracy: 0.2562\n",
            "Epoch 79/100\n",
            "4/4 [==============================] - 1s 213ms/step - loss: 1.5578 - accuracy: 0.2921 - val_loss: 1.6078 - val_accuracy: 0.2284\n",
            "Epoch 80/100\n",
            "4/4 [==============================] - 1s 216ms/step - loss: 1.5775 - accuracy: 0.2549 - val_loss: 1.6116 - val_accuracy: 0.2284\n",
            "Epoch 81/100\n",
            "4/4 [==============================] - 1s 206ms/step - loss: 1.5660 - accuracy: 0.2634 - val_loss: 1.6181 - val_accuracy: 0.2315\n",
            "Epoch 82/100\n",
            "4/4 [==============================] - 1s 205ms/step - loss: 1.5543 - accuracy: 0.2782 - val_loss: 1.6099 - val_accuracy: 0.2562\n",
            "Epoch 83/100\n",
            "4/4 [==============================] - 1s 204ms/step - loss: 1.5191 - accuracy: 0.2997 - val_loss: 1.6067 - val_accuracy: 0.2654\n",
            "Epoch 84/100\n",
            "4/4 [==============================] - 1s 212ms/step - loss: 1.5280 - accuracy: 0.3043 - val_loss: 1.6200 - val_accuracy: 0.2315\n",
            "Epoch 85/100\n",
            "4/4 [==============================] - 1s 211ms/step - loss: 1.6191 - accuracy: 0.2796 - val_loss: 1.6097 - val_accuracy: 0.2546\n",
            "Epoch 86/100\n",
            "4/4 [==============================] - 1s 213ms/step - loss: 1.5295 - accuracy: 0.2903 - val_loss: 1.5952 - val_accuracy: 0.2886\n",
            "Epoch 87/100\n",
            "4/4 [==============================] - 1s 212ms/step - loss: 1.5367 - accuracy: 0.2911 - val_loss: 1.6118 - val_accuracy: 0.2870\n",
            "Epoch 88/100\n",
            "4/4 [==============================] - 1s 205ms/step - loss: 1.5030 - accuracy: 0.3285 - val_loss: 1.6794 - val_accuracy: 0.2438\n",
            "Epoch 89/100\n",
            "4/4 [==============================] - 1s 206ms/step - loss: 1.5370 - accuracy: 0.3139 - val_loss: 1.6022 - val_accuracy: 0.2500\n",
            "Epoch 90/100\n",
            "4/4 [==============================] - 1s 210ms/step - loss: 1.5462 - accuracy: 0.2767 - val_loss: 1.5922 - val_accuracy: 0.2948\n",
            "Epoch 91/100\n",
            "4/4 [==============================] - 1s 206ms/step - loss: 1.5180 - accuracy: 0.3015 - val_loss: 1.6005 - val_accuracy: 0.2978\n",
            "Epoch 92/100\n",
            "4/4 [==============================] - 1s 205ms/step - loss: 1.5076 - accuracy: 0.3130 - val_loss: 1.5936 - val_accuracy: 0.2793\n",
            "Epoch 93/100\n",
            "4/4 [==============================] - 1s 210ms/step - loss: 1.5199 - accuracy: 0.3016 - val_loss: 1.6286 - val_accuracy: 0.2824\n",
            "Epoch 94/100\n",
            "4/4 [==============================] - 1s 208ms/step - loss: 1.5704 - accuracy: 0.3059 - val_loss: 1.6325 - val_accuracy: 0.2269\n",
            "Epoch 95/100\n",
            "4/4 [==============================] - 1s 208ms/step - loss: 1.5394 - accuracy: 0.2782 - val_loss: 1.6464 - val_accuracy: 0.2238\n",
            "Epoch 96/100\n",
            "4/4 [==============================] - 1s 205ms/step - loss: 1.5267 - accuracy: 0.2885 - val_loss: 1.6072 - val_accuracy: 0.2377\n",
            "Epoch 97/100\n",
            "4/4 [==============================] - 1s 208ms/step - loss: 1.5479 - accuracy: 0.2824 - val_loss: 1.7364 - val_accuracy: 0.2639\n",
            "Epoch 98/100\n",
            "4/4 [==============================] - 1s 211ms/step - loss: 1.5591 - accuracy: 0.3008 - val_loss: 1.8138 - val_accuracy: 0.2685\n",
            "Epoch 99/100\n",
            "4/4 [==============================] - 1s 209ms/step - loss: 1.5630 - accuracy: 0.3060 - val_loss: 1.6089 - val_accuracy: 0.3086\n",
            "Epoch 100/100\n",
            "4/4 [==============================] - 1s 206ms/step - loss: 1.5504 - accuracy: 0.2957 - val_loss: 1.5876 - val_accuracy: 0.2994\n"
          ],
          "name": "stdout"
        },
        {
          "output_type": "execute_result",
          "data": {
            "text/plain": [
              "[1.575373649597168, 6.209460258483887, 4.172245025634766, 1.5831730365753174]"
            ]
          },
          "metadata": {
            "tags": []
          },
          "execution_count": 33
        }
      ]
    },
    {
      "cell_type": "code",
      "metadata": {
        "colab": {
          "base_uri": "https://localhost:8080/",
          "height": 279
        },
        "id": "UF0KOSbTRbtg",
        "outputId": "0e0c53d4-4497-4d85-d281-af67b6c122a7"
      },
      "source": [
        "plt.plot(range(1, len(ave_val_loss_hist)+1)[20:], ave_val_loss_hist[20:], \"bo\", label=\"Validation Loss\")\n",
        "plt.plot(range(1, len(ave_val_loss_hist)+1)[20:], ave_loss_hist[20:], \"b\", label=\"Training Loss\")\n",
        "plt.xlabel(\"Epochs\")\n",
        "plt.ylabel(\"Loss\")\n",
        "plt.legend()\n",
        "plt.show()"
      ],
      "execution_count": 38,
      "outputs": [
        {
          "output_type": "display_data",
          "data": {
            "image/png": "[encoded data removed]",
            "text/plain": [
              "<Figure size 432x288 with 1 Axes>"
            ]
          },
          "metadata": {
            "tags": [],
            "needs_background": "light"
          }
        }
      ]
    },
    {
      "cell_type": "code",
      "metadata": {
        "colab": {
          "base_uri": "https://localhost:8080/",
          "height": 283
        },
        "id": "gboveCttRc_O",
        "outputId": "cece7057-60c9-41df-c008-ba0a7fcdd91d"
      },
      "source": [
        "plt.plot(range(1, len(ave_val_acc_hist)+1)[:], ave_val_acc_hist[:], \"bo\", label=\"Validation Accuracy\")\n",
        "plt.plot(range(1, len(ave_val_acc_hist)+1)[:], ave_acc_hist[:], \"b\", label=\"Training Accuracy\")\n",
        "plt.xlabel(\"Epochs\")\n",
        "plt.ylabel(\"Accuracy\")\n",
        "plt.legend()\n",
        "plt.show()"
      ],
      "execution_count": 37,
      "outputs": [
        {
          "output_type": "display_data",
          "data": {
            "image/png": "[encoded data removed]",
            "text/plain": [
              "<Figure size 432x288 with 1 Axes>"
            ]
          },
          "metadata": {
            "tags": [],
            "needs_background": "light"
          }
        }
      ]
    }
  ]
}